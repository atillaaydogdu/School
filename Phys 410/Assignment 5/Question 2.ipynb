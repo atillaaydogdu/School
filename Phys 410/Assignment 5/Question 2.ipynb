{
 "cells": [
  {
   "cell_type": "code",
   "execution_count": 1,
   "metadata": {},
   "outputs": [],
   "source": [
    "import numpy as np\n",
    "import sympy as smp\n",
    "from sympy import latex\n",
    "from sympy import sqrt\n",
    "from sympy import Rational\n",
    "from IPython.display import display, Math\n",
    "smp.init_printing()"
   ]
  },
  {
   "cell_type": "markdown",
   "metadata": {},
   "source": [
    "# Get Matrix Entries"
   ]
  },
  {
   "cell_type": "markdown",
   "metadata": {},
   "source": [
    "Compute the entries $(ii, jj)$ of the $(2j+1) \\times (2j+1)$ dimensional matrices $J_+$ and $J_-$.\n",
    "\n"
   ]
  },
  {
   "cell_type": "code",
   "execution_count": 2,
   "metadata": {},
   "outputs": [],
   "source": [
    "def J_plus_entry(ii, jj, j):\n",
    "    m1 = j - ii\n",
    "    m2 = j - jj\n",
    "    if (m1-m2 == 1):     \n",
    "        return sqrt(Rational(j*(j+1)-m2*(m2+1)))\n",
    "    else:\n",
    "        return 0"
   ]
  },
  {
   "cell_type": "code",
   "execution_count": 3,
   "metadata": {},
   "outputs": [],
   "source": [
    "def J_minus_entry(ii, jj, j):\n",
    "    m1 = j - ii\n",
    "    m2 = j - jj\n",
    "    if (m2-m1 == 1):\n",
    "        return sqrt(Rational(j*(j+1)-m2*(m2-1)))\n",
    "    else:\n",
    "        return 0"
   ]
  },
  {
   "cell_type": "code",
   "execution_count": 4,
   "metadata": {},
   "outputs": [],
   "source": [
    "def J_z_entry(ii, jj, j):\n",
    "    m1 = j - ii\n",
    "    m2 = j - jj\n",
    "    if (m1 == m2):\n",
    "        return Rational(m1)\n",
    "    else:\n",
    "        return 0"
   ]
  },
  {
   "cell_type": "markdown",
   "metadata": {},
   "source": [
    "# Get Matrices"
   ]
  },
  {
   "cell_type": "markdown",
   "metadata": {},
   "source": [
    "Used to compute the matrices $J_+$, $J_-$, and $J_z$. The \"entry\" parameter is specified using one of the three functions defined above. "
   ]
  },
  {
   "cell_type": "code",
   "execution_count": 5,
   "metadata": {},
   "outputs": [],
   "source": [
    "def compute_matrix(j, entry):\n",
    "    dim = int(2*j+1)\n",
    "    entries = []\n",
    "    for ii in range(dim):\n",
    "        row = []\n",
    "        for jj in range(dim):\n",
    "            row.append(entry(ii, jj, j))\n",
    "        entries.append(row)\n",
    "            \n",
    "    return entries "
   ]
  },
  {
   "cell_type": "markdown",
   "metadata": {},
   "source": [
    "# Print Matrices"
   ]
  },
  {
   "cell_type": "markdown",
   "metadata": {},
   "source": [
    "Used to compute all three matrices $J_x$, $J_y$, and $J_z$ for a given value of $j$."
   ]
  },
  {
   "cell_type": "code",
   "execution_count": 6,
   "metadata": {},
   "outputs": [],
   "source": [
    "def compute_Js(j):\n",
    "    J_plus = smp.Matrix(compute_matrix(j, J_plus_entry))\n",
    "    J_minus = smp.Matrix(compute_matrix(j, J_minus_entry))\n",
    "\n",
    "    J_x = (J_plus+J_minus)/2\n",
    "    J_y = (J_plus-J_minus)/2j\n",
    "    J_z = smp.Matrix(compute_matrix(j, J_z_entry))\n",
    "    display(Math(r'J_x = '+latex(J_x)))\n",
    "    display(Math(r'J_y = '+latex(J_y)))\n",
    "    display(Math(r'J_z = '+latex(J_z)))"
   ]
  },
  {
   "cell_type": "markdown",
   "metadata": {},
   "source": [
    "## Spin 1/2"
   ]
  },
  {
   "cell_type": "code",
   "execution_count": 7,
   "metadata": {},
   "outputs": [
    {
     "data": {
      "text/latex": [
       "$$J_x = \\left[\\begin{matrix}0 & \\frac{1}{2}\\\\\\frac{1}{2} & 0\\end{matrix}\\right]$$"
      ],
      "text/plain": [
       "<IPython.core.display.Math object>"
      ]
     },
     "metadata": {},
     "output_type": "display_data"
    },
    {
     "data": {
      "text/latex": [
       "$$J_y = \\left[\\begin{matrix}0 & - 0.5 i\\\\0.5 i & 0\\end{matrix}\\right]$$"
      ],
      "text/plain": [
       "<IPython.core.display.Math object>"
      ]
     },
     "metadata": {},
     "output_type": "display_data"
    },
    {
     "data": {
      "text/latex": [
       "$$J_z = \\left[\\begin{matrix}\\frac{1}{2} & 0\\\\0 & - \\frac{1}{2}\\end{matrix}\\right]$$"
      ],
      "text/plain": [
       "<IPython.core.display.Math object>"
      ]
     },
     "metadata": {},
     "output_type": "display_data"
    }
   ],
   "source": [
    "compute_Js(1/2)"
   ]
  },
  {
   "cell_type": "markdown",
   "metadata": {},
   "source": [
    "## Spin 3/2"
   ]
  },
  {
   "cell_type": "code",
   "execution_count": 8,
   "metadata": {},
   "outputs": [
    {
     "data": {
      "text/latex": [
       "$$J_x = \\left[\\begin{matrix}0 & \\frac{\\sqrt{3}}{2} & 0 & 0\\\\\\frac{\\sqrt{3}}{2} & 0 & 1 & 0\\\\0 & 1 & 0 & \\frac{\\sqrt{3}}{2}\\\\0 & 0 & \\frac{\\sqrt{3}}{2} & 0\\end{matrix}\\right]$$"
      ],
      "text/plain": [
       "<IPython.core.display.Math object>"
      ]
     },
     "metadata": {},
     "output_type": "display_data"
    },
    {
     "data": {
      "text/latex": [
       "$$J_y = \\left[\\begin{matrix}0 & - 0.5 \\sqrt{3} i & 0 & 0\\\\0.5 \\sqrt{3} i & 0 & - 1.0 i & 0\\\\0 & 1.0 i & 0 & - 0.5 \\sqrt{3} i\\\\0 & 0 & 0.5 \\sqrt{3} i & 0\\end{matrix}\\right]$$"
      ],
      "text/plain": [
       "<IPython.core.display.Math object>"
      ]
     },
     "metadata": {},
     "output_type": "display_data"
    },
    {
     "data": {
      "text/latex": [
       "$$J_z = \\left[\\begin{matrix}\\frac{3}{2} & 0 & 0 & 0\\\\0 & \\frac{1}{2} & 0 & 0\\\\0 & 0 & - \\frac{1}{2} & 0\\\\0 & 0 & 0 & - \\frac{3}{2}\\end{matrix}\\right]$$"
      ],
      "text/plain": [
       "<IPython.core.display.Math object>"
      ]
     },
     "metadata": {},
     "output_type": "display_data"
    }
   ],
   "source": [
    "compute_Js(3/2)"
   ]
  },
  {
   "cell_type": "markdown",
   "metadata": {},
   "source": [
    "## Spin 5/2"
   ]
  },
  {
   "cell_type": "code",
   "execution_count": 9,
   "metadata": {},
   "outputs": [
    {
     "data": {
      "text/latex": [
       "$$J_x = \\left[\\begin{matrix}0 & \\frac{\\sqrt{5}}{2} & 0 & 0 & 0 & 0\\\\\\frac{\\sqrt{5}}{2} & 0 & \\sqrt{2} & 0 & 0 & 0\\\\0 & \\sqrt{2} & 0 & \\frac{3}{2} & 0 & 0\\\\0 & 0 & \\frac{3}{2} & 0 & \\sqrt{2} & 0\\\\0 & 0 & 0 & \\sqrt{2} & 0 & \\frac{\\sqrt{5}}{2}\\\\0 & 0 & 0 & 0 & \\frac{\\sqrt{5}}{2} & 0\\end{matrix}\\right]$$"
      ],
      "text/plain": [
       "<IPython.core.display.Math object>"
      ]
     },
     "metadata": {},
     "output_type": "display_data"
    },
    {
     "data": {
      "text/latex": [
       "$$J_y = \\left[\\begin{matrix}0 & - 0.5 \\sqrt{5} i & 0 & 0 & 0 & 0\\\\0.5 \\sqrt{5} i & 0 & - 1.0 \\sqrt{2} i & 0 & 0 & 0\\\\0 & 1.0 \\sqrt{2} i & 0 & - 1.5 i & 0 & 0\\\\0 & 0 & 1.5 i & 0 & - 1.0 \\sqrt{2} i & 0\\\\0 & 0 & 0 & 1.0 \\sqrt{2} i & 0 & - 0.5 \\sqrt{5} i\\\\0 & 0 & 0 & 0 & 0.5 \\sqrt{5} i & 0\\end{matrix}\\right]$$"
      ],
      "text/plain": [
       "<IPython.core.display.Math object>"
      ]
     },
     "metadata": {},
     "output_type": "display_data"
    },
    {
     "data": {
      "text/latex": [
       "$$J_z = \\left[\\begin{matrix}\\frac{5}{2} & 0 & 0 & 0 & 0 & 0\\\\0 & \\frac{3}{2} & 0 & 0 & 0 & 0\\\\0 & 0 & \\frac{1}{2} & 0 & 0 & 0\\\\0 & 0 & 0 & - \\frac{1}{2} & 0 & 0\\\\0 & 0 & 0 & 0 & - \\frac{3}{2} & 0\\\\0 & 0 & 0 & 0 & 0 & - \\frac{5}{2}\\end{matrix}\\right]$$"
      ],
      "text/plain": [
       "<IPython.core.display.Math object>"
      ]
     },
     "metadata": {},
     "output_type": "display_data"
    }
   ],
   "source": [
    "compute_Js(5/2)"
   ]
  }
 ],
 "metadata": {
  "kernelspec": {
   "display_name": "Python 3",
   "language": "python",
   "name": "python3"
  },
  "language_info": {
   "codemirror_mode": {
    "name": "ipython",
    "version": 3
   },
   "file_extension": ".py",
   "mimetype": "text/x-python",
   "name": "python",
   "nbconvert_exporter": "python",
   "pygments_lexer": "ipython3",
   "version": "3.6.5"
  }
 },
 "nbformat": 4,
 "nbformat_minor": 2
}
