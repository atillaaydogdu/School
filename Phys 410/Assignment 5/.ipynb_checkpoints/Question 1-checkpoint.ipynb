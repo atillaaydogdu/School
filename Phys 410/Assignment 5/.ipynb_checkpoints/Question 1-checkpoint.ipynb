{
 "cells": [
  {
   "cell_type": "code",
   "execution_count": 1,
   "metadata": {},
   "outputs": [],
   "source": [
    "import pandas as pd\n",
    "import numpy as np\n",
    "import matplotlib.pyplot as plt\n",
    "import matplotlib.dates as mdates\n",
    "import scipy as sp\n",
    "from scipy import signal\n",
    "from datetime import timedelta, datetime"
   ]
  },
  {
   "cell_type": "code",
   "execution_count": 7,
   "metadata": {},
   "outputs": [],
   "source": [
    "def J_plus_entry(ii, jj, j):\n",
    "    m1 = j - ii\n",
    "    m2 = j - jj\n",
    "    if (m1-m2 == 1):\n",
    "        return np.sqrt(j*(j+1)-m2*(m2+1))\n",
    "    else:\n",
    "        return 0"
   ]
  },
  {
   "cell_type": "code",
   "execution_count": 12,
   "metadata": {},
   "outputs": [],
   "source": [
    "def J_minus_entry(ii, jj, j):\n",
    "    m1 = j - ii\n",
    "    m2 = j - jj\n",
    "    if (m2-m1 == 1):\n",
    "        return np.sqrt(j*(j+1)-m2*(m2-1))\n",
    "    else:\n",
    "        return 0"
   ]
  },
  {
   "cell_type": "code",
   "execution_count": 26,
   "metadata": {},
   "outputs": [],
   "source": [
    "def compute_J_plus(j):\n",
    "    dim = int(2*j+1)\n",
    "    entries = []\n",
    "    for ii in range(dim):\n",
    "        row = []\n",
    "        for jj in range(dim):\n",
    "            row.append(J_plus_entry(ii, jj, j))\n",
    "        entries.append(row)\n",
    "            \n",
    "    return entries "
   ]
  },
  {
   "cell_type": "code",
   "execution_count": 28,
   "metadata": {},
   "outputs": [],
   "source": [
    "def compute_J_minus(j):\n",
    "    dim = int(2*j+1)\n",
    "    entries = []\n",
    "    for ii in range(dim):\n",
    "        row = []\n",
    "        for jj in range(dim):\n",
    "            row.append(J_minus_entry(ii, jj, j))\n",
    "        entries.append(row)\n",
    "            \n",
    "    return entries "
   ]
  },
  {
   "cell_type": "code",
   "execution_count": 29,
   "metadata": {},
   "outputs": [
    {
     "data": {
      "text/plain": [
       "[[0, 1.0], [0, 0]]"
      ]
     },
     "execution_count": 29,
     "metadata": {},
     "output_type": "execute_result"
    }
   ],
   "source": [
    "compute_J_plus(1/2)"
   ]
  },
  {
   "cell_type": "code",
   "execution_count": 30,
   "metadata": {},
   "outputs": [
    {
     "data": {
      "text/plain": [
       "[[0, 0], [1.0, 0]]"
      ]
     },
     "execution_count": 30,
     "metadata": {},
     "output_type": "execute_result"
    }
   ],
   "source": [
    "compute_J_minus(1/2)"
   ]
  },
  {
   "cell_type": "code",
   "execution_count": null,
   "metadata": {},
   "outputs": [],
   "source": []
  }
 ],
 "metadata": {
  "kernelspec": {
   "display_name": "Python 3",
   "language": "python",
   "name": "python3"
  },
  "language_info": {
   "codemirror_mode": {
    "name": "ipython",
    "version": 3
   },
   "file_extension": ".py",
   "mimetype": "text/x-python",
   "name": "python",
   "nbconvert_exporter": "python",
   "pygments_lexer": "ipython3",
   "version": "3.6.6"
  }
 },
 "nbformat": 4,
 "nbformat_minor": 2
}
