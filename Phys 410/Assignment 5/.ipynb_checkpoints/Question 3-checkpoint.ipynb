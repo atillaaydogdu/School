{
 "cells": [
  {
   "cell_type": "code",
   "execution_count": 33,
   "metadata": {},
   "outputs": [],
   "source": [
    "import numpy as np\n",
    "import sympy as smp\n",
    "from sympy import latex\n",
    "from sympy import sqrt\n",
    "from sympy import Rational\n",
    "from sympy import conjugate\n",
    "from sympy import collect\n",
    "from IPython.display import display, Math\n",
    "smp.init_printing()"
   ]
  },
  {
   "cell_type": "markdown",
   "metadata": {},
   "source": [
    "# Define Parameters"
   ]
  },
  {
   "cell_type": "code",
   "execution_count": 7,
   "metadata": {},
   "outputs": [],
   "source": [
    "x, y, z, a1, a2, a3, a4 = smp.symbols('x, y, z, a_1, a_2, a_3, a_4')"
   ]
  },
  {
   "cell_type": "code",
   "execution_count": 5,
   "metadata": {},
   "outputs": [],
   "source": [
    "pauli_x = smp.Matrix([[0, 1], [1,0]])\n",
    "pauli_y = smp.Matrix([[0, -1j], [1j,0]])\n",
    "pauli_z = smp.Matrix([[1, 0], [0,-1]])\n",
    "\n",
    "A = smp.Matrix([[a1, a2], [a3, a4]])\n",
    "A_dag = smp.Matrix([[conjugate(a1), conjugate(a3)], [conjugate(a2), conjugate(a4)]])\n",
    "\n",
    "X = x*pauli_x+y*pauli_y+z*pauli_z"
   ]
  },
  {
   "cell_type": "markdown",
   "metadata": {},
   "source": [
    "This is our initial matrix."
   ]
  },
  {
   "cell_type": "code",
   "execution_count": 9,
   "metadata": {},
   "outputs": [
    {
     "data": {
      "text/latex": [
       "$$\\left[\\begin{matrix}z & x - 1.0 i y\\\\x + 1.0 i y & - z\\end{matrix}\\right]$$"
      ],
      "text/plain": [
       "⎡     z       x - 1.0⋅ⅈ⋅y⎤\n",
       "⎢                        ⎥\n",
       "⎣x + 1.0⋅ⅈ⋅y      -z     ⎦"
      ]
     },
     "execution_count": 9,
     "metadata": {},
     "output_type": "execute_result"
    }
   ],
   "source": [
    "X"
   ]
  },
  {
   "cell_type": "markdown",
   "metadata": {},
   "source": [
    "This is our transformed matrix."
   ]
  },
  {
   "cell_type": "code",
   "execution_count": 21,
   "metadata": {},
   "outputs": [
    {
     "data": {
      "text/latex": [
       "$$\\left[\\begin{matrix}a_{1} x \\overline{a_{2}} - 1.0 i a_{1} y \\overline{a_{2}} + a_{1} z \\overline{a_{1}} + a_{2} x \\overline{a_{1}} + 1.0 i a_{2} y \\overline{a_{1}} - a_{2} z \\overline{a_{2}} & a_{1} x \\overline{a_{4}} - 1.0 i a_{1} y \\overline{a_{4}} + a_{1} z \\overline{a_{3}} + a_{2} x \\overline{a_{3}} + 1.0 i a_{2} y \\overline{a_{3}} - a_{2} z \\overline{a_{4}}\\\\a_{3} x \\overline{a_{2}} - 1.0 i a_{3} y \\overline{a_{2}} + a_{3} z \\overline{a_{1}} + a_{4} x \\overline{a_{1}} + 1.0 i a_{4} y \\overline{a_{1}} - a_{4} z \\overline{a_{2}} & a_{3} x \\overline{a_{4}} - 1.0 i a_{3} y \\overline{a_{4}} + a_{3} z \\overline{a_{3}} + a_{4} x \\overline{a_{3}} + 1.0 i a_{4} y \\overline{a_{3}} - a_{4} z \\overline{a_{4}}\\end{matrix}\\right]$$"
      ],
      "text/plain": [
       "⎡     __              __        __        __              __        __       _\n",
       "⎢a₁⋅x⋅a₂ - 1.0⋅ⅈ⋅a₁⋅y⋅a₂ + a₁⋅z⋅a₁ + a₂⋅x⋅a₁ + 1.0⋅ⅈ⋅a₂⋅y⋅a₁ - a₂⋅z⋅a₂  a₁⋅x⋅a\n",
       "⎢                                                                             \n",
       "⎢     __              __        __        __              __        __       _\n",
       "⎣a₃⋅x⋅a₂ - 1.0⋅ⅈ⋅a₃⋅y⋅a₂ + a₃⋅z⋅a₁ + a₄⋅x⋅a₁ + 1.0⋅ⅈ⋅a₄⋅y⋅a₁ - a₄⋅z⋅a₂  a₃⋅x⋅a\n",
       "\n",
       "_              __        __        __              __        __⎤\n",
       "₄ - 1.0⋅ⅈ⋅a₁⋅y⋅a₄ + a₁⋅z⋅a₃ + a₂⋅x⋅a₃ + 1.0⋅ⅈ⋅a₂⋅y⋅a₃ - a₂⋅z⋅a₄⎥\n",
       "                                                               ⎥\n",
       "_              __        __        __              __        __⎥\n",
       "₄ - 1.0⋅ⅈ⋅a₃⋅y⋅a₄ + a₃⋅z⋅a₃ + a₄⋅x⋅a₃ + 1.0⋅ⅈ⋅a₄⋅y⋅a₃ - a₄⋅z⋅a₄⎦"
      ]
     },
     "execution_count": 21,
     "metadata": {},
     "output_type": "execute_result"
    }
   ],
   "source": [
    "smp.expand(A*X*A_dag)"
   ]
  },
  {
   "cell_type": "markdown",
   "metadata": {},
   "source": [
    "Note that $AA^{\\dagger}$ is given by"
   ]
  },
  {
   "cell_type": "code",
   "execution_count": 22,
   "metadata": {},
   "outputs": [
    {
     "data": {
      "text/latex": [
       "$$\\left[\\begin{matrix}a_{1} \\overline{a_{1}} + a_{2} \\overline{a_{2}} & a_{1} \\overline{a_{3}} + a_{2} \\overline{a_{4}}\\\\a_{3} \\overline{a_{1}} + a_{4} \\overline{a_{2}} & a_{3} \\overline{a_{3}} + a_{4} \\overline{a_{4}}\\end{matrix}\\right]$$"
      ],
      "text/plain": [
       "⎡   __      __     __      __⎤\n",
       "⎢a₁⋅a₁ + a₂⋅a₂  a₁⋅a₃ + a₂⋅a₄⎥\n",
       "⎢                            ⎥\n",
       "⎢   __      __     __      __⎥\n",
       "⎣a₃⋅a₁ + a₄⋅a₂  a₃⋅a₃ + a₄⋅a₄⎦"
      ]
     },
     "execution_count": 22,
     "metadata": {},
     "output_type": "execute_result"
    }
   ],
   "source": [
    "A*A_dag"
   ]
  },
  {
   "cell_type": "markdown",
   "metadata": {},
   "source": [
    "and this is equal to the identity matrix."
   ]
  },
  {
   "cell_type": "markdown",
   "metadata": {},
   "source": [
    "# Compute Components"
   ]
  },
  {
   "cell_type": "markdown",
   "metadata": {},
   "source": [
    "$z \\to z'$ where $z'$ is given by"
   ]
  },
  {
   "cell_type": "code",
   "execution_count": 55,
   "metadata": {},
   "outputs": [
    {
     "data": {
      "image/png": "[encoded data removed]",
      "text/latex": [
       "$$x \\left(a_{1} \\overline{a_{2}} + a_{2} \\overline{a_{1}}\\right) + y \\left(- 1.0 i a_{1} \\overline{a_{2}} + 1.0 i a_{2} \\overline{a_{1}}\\right) + z \\left(a_{1} \\overline{a_{1}} - a_{2} \\overline{a_{2}}\\right)$$"
      ],
      "text/plain": [
       "  ⎛   __      __⎞     ⎛           __            __⎞     ⎛   __      __⎞\n",
       "x⋅⎝a₁⋅a₂ + a₂⋅a₁⎠ + y⋅⎝- 1.0⋅ⅈ⋅a₁⋅a₂ + 1.0⋅ⅈ⋅a₂⋅a₁⎠ + z⋅⎝a₁⋅a₁ - a₂⋅a₂⎠"
      ]
     },
     "execution_count": 55,
     "metadata": {},
     "output_type": "execute_result"
    }
   ],
   "source": [
    "expr = smp.expand(A*X*A_dag)[0, 0]\n",
    "expr.coeff(x, 1)*x + expr.coeff(y, 1)*y + expr.coeff(z, 1)*z"
   ]
  },
  {
   "cell_type": "markdown",
   "metadata": {},
   "source": [
    "$x$ and $y$ are bit more tricky. We know that the bottom left of our matrix is $f_1 = x'+iy'$ and the top right is $f_2 = x'-iy'$. We have two equations and two unknowns which yields\n",
    "\n",
    "$$y' = \\frac{f_1-f_2}{2i} \\hspace{20mm} x' = \\frac{f_1+f_2}{2}$$"
   ]
  },
  {
   "cell_type": "markdown",
   "metadata": {},
   "source": [
    "$y \\to y'$ where $y'$ is given by"
   ]
  },
  {
   "cell_type": "code",
   "execution_count": 56,
   "metadata": {},
   "outputs": [
    {
     "data": {
      "image/png": "[encoded data removed]",
      "text/latex": [
       "$$x \\left(0.5 i a_{1} \\overline{a_{4}} + 0.5 i a_{2} \\overline{a_{3}} - 0.5 i a_{3} \\overline{a_{2}} - 0.5 i a_{4} \\overline{a_{1}}\\right) + y \\left(0.5 a_{1} \\overline{a_{4}} - 0.5 a_{2} \\overline{a_{3}} - 0.5 a_{3} \\overline{a_{2}} + 0.5 a_{4} \\overline{a_{1}}\\right) + z \\left(0.5 i a_{1} \\overline{a_{3}} - 0.5 i a_{2} \\overline{a_{4}} - 0.5 i a_{3} \\overline{a_{1}} + 0.5 i a_{4} \\overline{a_{2}}\\right)$$"
      ],
      "text/plain": [
       "  ⎛         __            __            __            __⎞     ⎛       __      \n",
       "x⋅⎝0.5⋅ⅈ⋅a₁⋅a₄ + 0.5⋅ⅈ⋅a₂⋅a₃ - 0.5⋅ⅈ⋅a₃⋅a₂ - 0.5⋅ⅈ⋅a₄⋅a₁⎠ + y⋅⎝0.5⋅a₁⋅a₄ - 0.5\n",
       "\n",
       "    __          __          __⎞     ⎛         __            __            __  \n",
       "⋅a₂⋅a₃ - 0.5⋅a₃⋅a₂ + 0.5⋅a₄⋅a₁⎠ + z⋅⎝0.5⋅ⅈ⋅a₁⋅a₃ - 0.5⋅ⅈ⋅a₂⋅a₄ - 0.5⋅ⅈ⋅a₃⋅a₁ +\n",
       "\n",
       "          __⎞\n",
       " 0.5⋅ⅈ⋅a₄⋅a₂⎠"
      ]
     },
     "execution_count": 56,
     "metadata": {},
     "output_type": "execute_result"
    }
   ],
   "source": [
    "expr = smp.expand(((smp.expand(A*X*A_dag)[1, 0])-(smp.expand(A*X*A_dag)[0, 1]))/2j)\n",
    "expr.coeff(x, 1)*x + expr.coeff(y, 1)*y + expr.coeff(z, 1)*z"
   ]
  },
  {
   "cell_type": "markdown",
   "metadata": {},
   "source": [
    "$x \\to x'$ where $x'$ is given by"
   ]
  },
  {
   "cell_type": "code",
   "execution_count": 57,
   "metadata": {},
   "outputs": [
    {
     "data": {
      "image/png": "[encoded data removed]",
      "text/latex": [
       "$$x \\left(0.5 a_{1} \\overline{a_{4}} + 0.5 a_{2} \\overline{a_{3}} + 0.5 a_{3} \\overline{a_{2}} + 0.5 a_{4} \\overline{a_{1}}\\right) + y \\left(- 0.5 i a_{1} \\overline{a_{4}} + 0.5 i a_{2} \\overline{a_{3}} - 0.5 i a_{3} \\overline{a_{2}} + 0.5 i a_{4} \\overline{a_{1}}\\right) + z \\left(0.5 a_{1} \\overline{a_{3}} - 0.5 a_{2} \\overline{a_{4}} + 0.5 a_{3} \\overline{a_{1}} - 0.5 a_{4} \\overline{a_{2}}\\right)$$"
      ],
      "text/plain": [
       "  ⎛       __          __          __          __⎞     ⎛           __          \n",
       "x⋅⎝0.5⋅a₁⋅a₄ + 0.5⋅a₂⋅a₃ + 0.5⋅a₃⋅a₂ + 0.5⋅a₄⋅a₁⎠ + y⋅⎝- 0.5⋅ⅈ⋅a₁⋅a₄ + 0.5⋅ⅈ⋅a\n",
       "\n",
       "  __            __            __⎞     ⎛       __          __          __      \n",
       "₂⋅a₃ - 0.5⋅ⅈ⋅a₃⋅a₂ + 0.5⋅ⅈ⋅a₄⋅a₁⎠ + z⋅⎝0.5⋅a₁⋅a₃ - 0.5⋅a₂⋅a₄ + 0.5⋅a₃⋅a₁ - 0.5\n",
       "\n",
       "    __⎞\n",
       "⋅a₄⋅a₂⎠"
      ]
     },
     "execution_count": 57,
     "metadata": {},
     "output_type": "execute_result"
    }
   ],
   "source": [
    "expr = ((smp.expand(A*X*A_dag)[1, 0])+(smp.expand(A*X*A_dag)[0, 1]))/(2.0)\n",
    "expr.coeff(x, 1)*x + expr.coeff(y, 1)*y + expr.coeff(z, 1)*z"
   ]
  }
 ],
 "metadata": {
  "kernelspec": {
   "display_name": "Python 3",
   "language": "python",
   "name": "python3"
  },
  "language_info": {
   "codemirror_mode": {
    "name": "ipython",
    "version": 3
   },
   "file_extension": ".py",
   "mimetype": "text/x-python",
   "name": "python",
   "nbconvert_exporter": "python",
   "pygments_lexer": "ipython3",
   "version": "3.6.5"
  }
 },
 "nbformat": 4,
 "nbformat_minor": 2
}
