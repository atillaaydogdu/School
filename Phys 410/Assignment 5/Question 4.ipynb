{
 "cells": [
  {
   "cell_type": "code",
   "execution_count": 1,
   "metadata": {},
   "outputs": [],
   "source": [
    "import numpy as np\n",
    "import sympy as smp\n",
    "from numpy import linalg as LA\n",
    "from IPython.display import display, Math\n",
    "smp.init_printing()"
   ]
  },
  {
   "cell_type": "markdown",
   "metadata": {},
   "source": [
    "# Matrix 1"
   ]
  },
  {
   "cell_type": "code",
   "execution_count": 2,
   "metadata": {},
   "outputs": [
    {
     "name": "stdout",
     "output_type": "stream",
     "text": [
      "Eigenvalues\n"
     ]
    },
    {
     "data": {
      "image/png": "[encoded data removed]",
      "text/latex": [
       "$$\\left[\\begin{matrix}-0.5 + 0.866025403784439 i\\\\-0.5 - 0.866025403784439 i\\\\1.0\\end{matrix}\\right]$$"
      ],
      "text/plain": [
       "⎡-0.5 + 0.866025403784439⋅ⅈ⎤\n",
       "⎢                          ⎥\n",
       "⎢-0.5 - 0.866025403784439⋅ⅈ⎥\n",
       "⎢                          ⎥\n",
       "⎣           1.0            ⎦"
      ]
     },
     "metadata": {},
     "output_type": "display_data"
    },
    {
     "name": "stdout",
     "output_type": "stream",
     "text": [
      "Eigenvectors\n"
     ]
    },
    {
     "data": {
      "image/png": "[encoded data removed]",
      "text/latex": [
       "$$\\left[\\begin{matrix}0.707106781186547\\\\0.707106781186547\\\\0\\end{matrix}\\right]$$"
      ],
      "text/plain": [
       "⎡0.707106781186547⎤\n",
       "⎢                 ⎥\n",
       "⎢0.707106781186547⎥\n",
       "⎢                 ⎥\n",
       "⎣        0        ⎦"
      ]
     },
     "metadata": {},
     "output_type": "display_data"
    },
    {
     "data": {
      "image/png": "[encoded data removed]",
      "text/latex": [
       "$$\\left[\\begin{matrix}- 0.707106781186547 i\\\\0.707106781186547 i\\\\0\\end{matrix}\\right]$$"
      ],
      "text/plain": [
       "⎡-0.707106781186547⋅ⅈ⎤\n",
       "⎢                    ⎥\n",
       "⎢0.707106781186547⋅ⅈ ⎥\n",
       "⎢                    ⎥\n",
       "⎣         0          ⎦"
      ]
     },
     "metadata": {},
     "output_type": "display_data"
    },
    {
     "data": {
      "image/png": "[encoded data removed]",
      "text/latex": [
       "$$\\left[\\begin{matrix}0\\\\0\\\\1.0\\end{matrix}\\right]$$"
      ],
      "text/plain": [
       "⎡ 0 ⎤\n",
       "⎢   ⎥\n",
       "⎢ 0 ⎥\n",
       "⎢   ⎥\n",
       "⎣1.0⎦"
      ]
     },
     "metadata": {},
     "output_type": "display_data"
    }
   ],
   "source": [
    "A = [[-1/2, -np.sqrt(3)/2, 0], [np.sqrt(3)/2, -1/2, 0], [0, 0, 1]]\n",
    "eigval, eigvec = LA.eig(A)\n",
    "print('Eigenvalues')\n",
    "display(smp.Matrix(eigval))\n",
    "print('Eigenvectors')\n",
    "display(smp.Matrix(eigvec[0]))\n",
    "display(smp.Matrix(eigvec[1]))\n",
    "display(smp.Matrix(eigvec[2]))"
   ]
  },
  {
   "cell_type": "code",
   "execution_count": 3,
   "metadata": {},
   "outputs": [
    {
     "data": {
      "text/plain": [
       "array([[0.70710678+0.j        , 0.70710678-0.j        ,\n",
       "        0.        +0.j        ],\n",
       "       [0.        -0.70710678j, 0.        +0.70710678j,\n",
       "        0.        +0.j        ],\n",
       "       [0.        +0.j        , 0.        -0.j        ,\n",
       "        1.        +0.j        ]])"
      ]
     },
     "execution_count": 3,
     "metadata": {},
     "output_type": "execute_result"
    }
   ],
   "source": [
    "eigvec"
   ]
  },
  {
   "cell_type": "code",
   "execution_count": 4,
   "metadata": {},
   "outputs": [
    {
     "data": {
      "text/plain": [
       "array([-0.5+0.8660254j, -0.5-0.8660254j,  1. +0.j       ])"
      ]
     },
     "execution_count": 4,
     "metadata": {},
     "output_type": "execute_result"
    }
   ],
   "source": [
    "eigval"
   ]
  },
  {
   "cell_type": "markdown",
   "metadata": {},
   "source": [
    "# Matrix 2"
   ]
  },
  {
   "cell_type": "code",
   "execution_count": 5,
   "metadata": {},
   "outputs": [
    {
     "name": "stdout",
     "output_type": "stream",
     "text": [
      "Eigenvalues\n"
     ]
    },
    {
     "data": {
      "image/png": "[encoded data removed]",
      "text/latex": [
       "$$\\left[\\begin{matrix}-0.5 + 0.866025403784439 i\\\\-0.5 - 0.866025403784439 i\\\\1.0\\end{matrix}\\right]$$"
      ],
      "text/plain": [
       "⎡-0.5 + 0.866025403784439⋅ⅈ⎤\n",
       "⎢                          ⎥\n",
       "⎢-0.5 - 0.866025403784439⋅ⅈ⎥\n",
       "⎢                          ⎥\n",
       "⎣           1.0            ⎦"
      ]
     },
     "metadata": {},
     "output_type": "display_data"
    },
    {
     "name": "stdout",
     "output_type": "stream",
     "text": [
      "Eigenvectors\n"
     ]
    },
    {
     "data": {
      "image/png": "[encoded data removed]",
      "text/latex": [
       "$$\\left[\\begin{matrix}0.707106781186547\\\\0.707106781186547\\\\0\\end{matrix}\\right]$$"
      ],
      "text/plain": [
       "⎡0.707106781186547⎤\n",
       "⎢                 ⎥\n",
       "⎢0.707106781186547⎥\n",
       "⎢                 ⎥\n",
       "⎣        0        ⎦"
      ]
     },
     "metadata": {},
     "output_type": "display_data"
    },
    {
     "data": {
      "image/png": "[encoded data removed]",
      "text/latex": [
       "$$\\left[\\begin{matrix}0.707106781186547 i\\\\- 0.707106781186547 i\\\\0\\end{matrix}\\right]$$"
      ],
      "text/plain": [
       "⎡0.707106781186547⋅ⅈ ⎤\n",
       "⎢                    ⎥\n",
       "⎢-0.707106781186547⋅ⅈ⎥\n",
       "⎢                    ⎥\n",
       "⎣         0          ⎦"
      ]
     },
     "metadata": {},
     "output_type": "display_data"
    },
    {
     "data": {
      "image/png": "[encoded data removed]",
      "text/latex": [
       "$$\\left[\\begin{matrix}0\\\\0\\\\1.0\\end{matrix}\\right]$$"
      ],
      "text/plain": [
       "⎡ 0 ⎤\n",
       "⎢   ⎥\n",
       "⎢ 0 ⎥\n",
       "⎢   ⎥\n",
       "⎣1.0⎦"
      ]
     },
     "metadata": {},
     "output_type": "display_data"
    }
   ],
   "source": [
    "A = [[-1/2, np.sqrt(3)/2, 0], [-np.sqrt(3)/2, -1/2, 0], [0, 0, 1]]\n",
    "eigval, eigvec = LA.eig(A)\n",
    "print('Eigenvalues')\n",
    "display(smp.Matrix(eigval))\n",
    "print('Eigenvectors')\n",
    "display(smp.Matrix(eigvec[0]))\n",
    "display(smp.Matrix(eigvec[1]))\n",
    "display(smp.Matrix(eigvec[2]))"
   ]
  },
  {
   "cell_type": "code",
   "execution_count": 6,
   "metadata": {},
   "outputs": [
    {
     "data": {
      "text/plain": [
       "array([[0.70710678+0.j        , 0.70710678-0.j        ,\n",
       "        0.        +0.j        ],\n",
       "       [0.        +0.70710678j, 0.        -0.70710678j,\n",
       "        0.        +0.j        ],\n",
       "       [0.        +0.j        , 0.        -0.j        ,\n",
       "        1.        +0.j        ]])"
      ]
     },
     "execution_count": 6,
     "metadata": {},
     "output_type": "execute_result"
    }
   ],
   "source": [
    "eigvec"
   ]
  },
  {
   "cell_type": "code",
   "execution_count": 7,
   "metadata": {},
   "outputs": [
    {
     "data": {
      "text/plain": [
       "array([-0.5+0.8660254j, -0.5-0.8660254j,  1. +0.j       ])"
      ]
     },
     "execution_count": 7,
     "metadata": {},
     "output_type": "execute_result"
    }
   ],
   "source": [
    "eigval"
   ]
  }
 ],
 "metadata": {
  "kernelspec": {
   "display_name": "Python 3",
   "language": "python",
   "name": "python3"
  },
  "language_info": {
   "codemirror_mode": {
    "name": "ipython",
    "version": 3
   },
   "file_extension": ".py",
   "mimetype": "text/x-python",
   "name": "python",
   "nbconvert_exporter": "python",
   "pygments_lexer": "ipython3",
   "version": "3.6.6"
  }
 },
 "nbformat": 4,
 "nbformat_minor": 2
}
