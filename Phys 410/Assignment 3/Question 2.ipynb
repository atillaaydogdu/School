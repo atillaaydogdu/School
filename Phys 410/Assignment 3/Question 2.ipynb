{
 "cells": [
  {
   "cell_type": "markdown",
   "metadata": {},
   "source": [
    "<h1 id=\"tocheading\">Table of Contents and Notebook Setup</h1>\n",
    "<div id=\"toc\"></div>"
   ]
  },
  {
   "cell_type": "code",
   "execution_count": 1,
   "metadata": {},
   "outputs": [
    {
     "data": {
      "application/javascript": [
       "$.getScript('https://kmahelona.github.io/ipython_notebook_goodies/ipython_notebook_toc.js')"
      ],
      "text/plain": [
       "<IPython.core.display.Javascript object>"
      ]
     },
     "metadata": {},
     "output_type": "display_data"
    }
   ],
   "source": [
    "%%javascript\n",
    "$.getScript('https://kmahelona.github.io/ipython_notebook_goodies/ipython_notebook_toc.js')"
   ]
  },
  {
   "cell_type": "code",
   "execution_count": 2,
   "metadata": {},
   "outputs": [],
   "source": [
    "import numpy as np\n",
    "from scipy import integrate\n",
    "import matplotlib.pyplot as plt\n",
    "\n",
    "import sympy\n",
    "from sympy import gamma\n",
    "sympy.init_printing()\n",
    "pi = sympy.pi"
   ]
  },
  {
   "cell_type": "markdown",
   "metadata": {},
   "source": [
    "# Part 2"
   ]
  },
  {
   "cell_type": "markdown",
   "metadata": {},
   "source": [
    "## Define Function"
   ]
  },
  {
   "cell_type": "code",
   "execution_count": 3,
   "metadata": {},
   "outputs": [],
   "source": [
    "def f(x):\n",
    "    return np.exp(-1/x)\n",
    "\n",
    "x = np.linspace(0.001, 1, 100)\n",
    "approx = f(x)"
   ]
  },
  {
   "cell_type": "markdown",
   "metadata": {},
   "source": [
    "## Plot Function"
   ]
  },
  {
   "cell_type": "code",
   "execution_count": 4,
   "metadata": {},
   "outputs": [
    {
     "data": {
      "image/png": "[encoded data removed]",
      "text/plain": [
       "<Figure size 432x288 with 1 Axes>"
      ]
     },
     "metadata": {
      "needs_background": "light"
     },
     "output_type": "display_data"
    }
   ],
   "source": [
    "fig = plt.figure()\n",
    "\n",
    "plt.plot(x, approx)\n",
    "plt.xlabel('$g$')\n",
    "plt.ylabel('$e^{-1/g}$')\n",
    "plt.title('$e^{-1/g}$ as a Function of $g$')\n",
    "\n",
    "plt.show()"
   ]
  },
  {
   "cell_type": "markdown",
   "metadata": {},
   "source": [
    "As shown in the written work, the Taylor Series for this function about $g=0$ is\n",
    "\n",
    "$$f(g)=0 $$\n",
    "\n",
    "This corresponds to small values of $g$ on the plot above."
   ]
  },
  {
   "cell_type": "markdown",
   "metadata": {},
   "source": [
    "# Part 3"
   ]
  },
  {
   "cell_type": "markdown",
   "metadata": {},
   "source": [
    "## The Brute Force Method"
   ]
  },
  {
   "cell_type": "code",
   "execution_count": 5,
   "metadata": {},
   "outputs": [],
   "source": [
    "x = sympy.symbols('x')\n",
    "poly_terms = np.array([0])"
   ]
  },
  {
   "cell_type": "markdown",
   "metadata": {},
   "source": [
    "### Functions Used"
   ]
  },
  {
   "cell_type": "markdown",
   "metadata": {},
   "source": [
    "These functions are used to multiply large polynomials together and determine the coefficients $c_n$ using a heavily computational brute force approach."
   ]
  },
  {
   "cell_type": "code",
   "execution_count": 6,
   "metadata": {},
   "outputs": [],
   "source": [
    "def n_term(n):\n",
    "    return (1/sympy.factorial(n))*(-1)**n\n",
    "\n",
    "def get_polynomial(x, poly_terms):\n",
    "    polynomial = 0\n",
    "    for (i,p_i) in enumerate(poly_terms):\n",
    "        polynomial += p_i*x**i\n",
    "    return polynomial\n",
    "\n",
    "def append_pn(poly_terms, n):\n",
    "    polynomial = get_polynomial(x, poly_terms)\n",
    "    G = 0\n",
    "    for i in range(n):\n",
    "        G += n_term(i)*(polynomial)**i\n",
    "    G *= x\n",
    "    G.simplify()\n",
    "    G = sympy.Poly(G)\n",
    "    return np.append(poly_terms, G.all_coeffs()[-1-n])\n",
    "\n",
    "def get_n_terms(poly_terms, n):\n",
    "    for i in range(n):\n",
    "        poly_terms = append_pn(poly_terms, i+1)\n",
    "    return poly_terms"
   ]
  },
  {
   "cell_type": "markdown",
   "metadata": {},
   "source": [
    "The first ten terms are shown below (the sympy package can't seem to handle the large polynomials involved for n>10)."
   ]
  },
  {
   "cell_type": "code",
   "execution_count": 7,
   "metadata": {},
   "outputs": [
    {
     "data": {
      "text/plain": [
       "array([0, 1, -1, 3/2, -8/3, 125/24, -54/5, 16807/720, -16384/315,\n",
       "       531441/4480, -156250/567], dtype=object)"
      ]
     },
     "execution_count": 7,
     "metadata": {},
     "output_type": "execute_result"
    }
   ],
   "source": [
    "poly_terms = get_n_terms(poly_terms, 10)\n",
    "poly_terms"
   ]
  },
  {
   "cell_type": "markdown",
   "metadata": {},
   "source": [
    "## The Smart Way, Closed Form Potential Solution"
   ]
  },
  {
   "cell_type": "markdown",
   "metadata": {},
   "source": [
    "The function below defines what we have shown $c_n$ to be\n",
    "\n",
    "$$c_n =\\frac{(-1)^{n+1}n^{n-2}}{(n-1)!} $$"
   ]
  },
  {
   "cell_type": "code",
   "execution_count": 8,
   "metadata": {},
   "outputs": [],
   "source": [
    "def cn(n):\n",
    "    return (n**(n-2))*((-1)**(n+1))/(sympy.factorial(n-1))"
   ]
  },
  {
   "cell_type": "markdown",
   "metadata": {},
   "source": [
    "Obtain and print the values of $c_n$."
   ]
  },
  {
   "cell_type": "code",
   "execution_count": 19,
   "metadata": {},
   "outputs": [
    {
     "name": "stdout",
     "output_type": "stream",
     "text": [
      "Term 1:  1.00000000000000\n",
      "Term 2:  -1.00000000000000\n",
      "Term 3:  1.50000000000000\n",
      "Term 4:  -2.66666666666667\n",
      "Term 5:  5.20833333333333\n",
      "Term 6:  -10.8000000000000\n",
      "Term 7:  23.3430555555556\n",
      "Term 8:  -52.0126984126984\n",
      "Term 9:  118.625223214286\n",
      "Term 10:  -275.573192239859\n",
      "Term 11:  649.787172343474\n",
      "Term 12:  -1551.16051948052\n",
      "Term 13:  3741.44970295924\n",
      "Term 14:  -9104.50024115802\n",
      "Term 15:  22324.3085127066\n",
      "Term 16:  -55103.6219729038\n",
      "Term 17:  136808.860903943\n",
      "Term 18:  -341422.050665838\n",
      "Term 19:  855992.965996608\n",
      "Term 20:  -2154990.20609109\n",
      "Term 21:  5445552.92231446\n",
      "Term 22:  -13807330.0021666\n",
      "Term 23:  35117044.9851392\n",
      "Term 24:  -89568002.5610280\n",
      "Term 25:  229041684.618795\n",
      "Term 26:  -587103504.117180\n",
      "Term 27:  1508256053.85779\n",
      "Term 28:  -3882630161.29319\n",
      "Term 29:  10013943136.6548\n",
      "Term 30:  -25873567362.6576\n",
      "Term 31:  66962097093.5807\n",
      "Term 32:  -173571165959.920\n",
      "Term 33:  450568046564.235\n",
      "Term 34:  -1171223178256.49\n",
      "Term 35:  3048462517882.45\n",
      "Term 36:  -7944240398206.81\n",
      "Term 37:  20726462893727.1\n",
      "Term 38:  -54134309927745.6\n",
      "Term 39:  141537001323843.\n",
      "Term 40:  -370420141783067.\n",
      "Term 41:  970343148988292.\n",
      "Term 42:  -2.54414987014283e+15\n",
      "Term 43:  6.67618654994561e+15\n",
      "Term 44:  -1.75333838844976e+16\n",
      "Term 45:  4.60827878998424e+16\n",
      "Term 46:  -1.21208404038420e+17\n",
      "Term 47:  3.19031756001942e+17\n",
      "Term 48:  -8.40290335422231e+17\n",
      "Term 49:  2.21465954871603e+18\n",
      "Term 50:  -5.84057143383837e+18\n",
      "Term 51:  1.54121687786947e+19\n",
      "Term 52:  -4.06932271976549e+19\n",
      "Term 53:  1.07503092456010e+20\n",
      "Term 54:  -2.84152347962578e+20\n",
      "Term 55:  7.51457669978718e+20\n",
      "Term 56:  -1.98825803958533e+21\n",
      "Term 57:  5.26318122131930e+21\n",
      "Term 58:  -1.39387569614280e+22\n",
      "Term 59:  3.69311708230092e+22\n",
      "Term 60:  -9.78923880834846e+22\n",
      "Term 61:  2.59588480466361e+23\n",
      "Term 62:  -6.88647040617199e+23\n",
      "Term 63:  1.82758313942499e+24\n",
      "Term 64:  -4.85200750158222e+24\n",
      "Term 65:  1.28861912065977e+25\n",
      "Term 66:  -3.42358898724807e+25\n",
      "Term 67:  9.09888101883121e+25\n",
      "Term 68:  -2.41901881552866e+26\n",
      "Term 69:  6.43326104750739e+26\n",
      "Term 70:  -1.71143230432807e+27\n",
      "Term 71:  4.55429361309941e+27\n",
      "Term 72:  -1.21230351895065e+28\n",
      "Term 73:  3.22795288917016e+28\n",
      "Term 74:  -8.59735935086460e+28\n",
      "Term 75:  2.29045501683532e+29\n",
      "Term 76:  -6.10371300067047e+29\n",
      "Term 77:  1.62696822655972e+30\n",
      "Term 78:  -4.33784233530413e+30\n",
      "Term 79:  1.15684556281881e+31\n",
      "Term 80:  -3.08589574676433e+31\n",
      "Term 81:  8.23358112456160e+31\n",
      "Term 82:  -2.19733083062831e+32\n",
      "Term 83:  5.86541693408654e+32\n",
      "Term 84:  -1.56601807699451e+33\n",
      "Term 85:  4.18202728603316e+33\n",
      "Term 86:  -1.11703557997604e+34\n",
      "Term 87:  2.98424945637391e+34\n",
      "Term 88:  -7.97423817657338e+34\n",
      "Term 89:  2.13121519634926e+35\n",
      "Term 90:  -5.69701745503317e+35\n",
      "Term 91:  1.52316912040282e+36\n",
      "Term 92:  -4.07312068981040e+36\n",
      "Term 93:  1.08938981026190e+37\n",
      "Term 94:  -2.91416791930665e+37\n",
      "Term 95:  7.79685540242559e+37\n",
      "Term 96:  -2.08639478537030e+38\n",
      "Term 97:  5.58398322748002e+38\n",
      "Term 98:  -1.49472356716143e+39\n",
      "Term 99:  4.00170818754124e+39\n",
      "Term 100:  -1.07151028812547e+40\n"
     ]
    }
   ],
   "source": [
    "n = np.linspace(1, 100, 100, dtype='float')\n",
    "poly_terms = [cn(i) for i in n]\n",
    "\n",
    "for i in range(100):\n",
    "    print('Term {}:  '.format(i+1)+str(poly_terms[i]))"
   ]
  }
 ],
 "metadata": {
  "kernelspec": {
   "display_name": "Python 3",
   "language": "python",
   "name": "python3"
  },
  "language_info": {
   "codemirror_mode": {
    "name": "ipython",
    "version": 3
   },
   "file_extension": ".py",
   "mimetype": "text/x-python",
   "name": "python",
   "nbconvert_exporter": "python",
   "pygments_lexer": "ipython3",
   "version": "3.6.6"
  }
 },
 "nbformat": 4,
 "nbformat_minor": 2
}
