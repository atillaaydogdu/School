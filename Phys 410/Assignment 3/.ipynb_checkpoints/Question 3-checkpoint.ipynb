{
 "cells": [
  {
   "cell_type": "code",
   "execution_count": 21,
   "metadata": {},
   "outputs": [],
   "source": [
    "import sympy\n",
    "from sympy import gamma\n",
    "import numpy as np\n",
    "sympy.init_printing()"
   ]
  },
  {
   "cell_type": "code",
   "execution_count": 22,
   "metadata": {},
   "outputs": [],
   "source": [
    "pi = sympy.pi\n",
    "n = sympy.symbols('n')"
   ]
  },
  {
   "cell_type": "code",
   "execution_count": 26,
   "metadata": {},
   "outputs": [],
   "source": [
    "c_n = ((-4)**n)*gamma(2*n+0.5)/(2*sympy.sqrt(pi)*sympy.factorial(n))"
   ]
  },
  {
   "cell_type": "code",
   "execution_count": 27,
   "metadata": {},
   "outputs": [
    {
     "data": {
      "image/png": "[encoded data removed]",
      "text/latex": [
       "$$\\frac{\\left(-4\\right)^{n} \\Gamma{\\left(2 n + 0.5 \\right)}}{2 \\sqrt{\\pi} n!}$$"
      ],
      "text/plain": [
       "    n             \n",
       "(-4) ⋅Γ(2⋅n + 0.5)\n",
       "──────────────────\n",
       "     2⋅√π⋅n!      "
      ]
     },
     "execution_count": 27,
     "metadata": {},
     "output_type": "execute_result"
    }
   ],
   "source": [
    "c_n"
   ]
  },
  {
   "cell_type": "code",
   "execution_count": 49,
   "metadata": {},
   "outputs": [],
   "source": [
    "c = []\n",
    "for i in range(5):\n",
    "    c.append(c_n.subs([(n, i)]).evalf())"
   ]
  },
  {
   "cell_type": "code",
   "execution_count": 47,
   "metadata": {},
   "outputs": [
    {
     "data": {
      "image/png": "[encoded data removed]",
      "text/latex": [
       "$$42229.6875$$"
      ],
      "text/plain": [
       "42229.6875000000"
      ]
     },
     "execution_count": 47,
     "metadata": {},
     "output_type": "execute_result"
    }
   ],
   "source": [
    "c[4].evalf()"
   ]
  },
  {
   "cell_type": "code",
   "execution_count": 48,
   "metadata": {},
   "outputs": [
    {
     "data": {
      "image/png": "[encoded data removed]",
      "text/latex": [
       "$$\\left [ \\frac{0.886226925452758}{\\sqrt{\\pi}}, \\quad - \\frac{2.65868077635827}{\\sqrt{\\pi}}, \\quad \\frac{46.5269135862698}{\\sqrt{\\pi}}, \\quad - \\frac{1535.3881483469}{\\sqrt{\\pi}}, \\quad \\frac{74850.1722319115}{\\sqrt{\\pi}}\\right ]$$"
      ],
      "text/plain": [
       "⎡0.886226925452758  -2.65868077635827   46.5269135862698  -1535.3881483469   7\n",
       "⎢─────────────────, ──────────────────, ────────────────, ─────────────────, ─\n",
       "⎣        √π                 √π                 √π                 √π          \n",
       "\n",
       "4850.1722319115⎤\n",
       "───────────────⎥\n",
       "      √π       ⎦"
      ]
     },
     "execution_count": 48,
     "metadata": {},
     "output_type": "execute_result"
    }
   ],
   "source": [
    "c"
   ]
  },
  {
   "cell_type": "code",
   "execution_count": null,
   "metadata": {},
   "outputs": [],
   "source": []
  }
 ],
 "metadata": {
  "kernelspec": {
   "display_name": "Python 3",
   "language": "python",
   "name": "python3"
  },
  "language_info": {
   "codemirror_mode": {
    "name": "ipython",
    "version": 3
   },
   "file_extension": ".py",
   "mimetype": "text/x-python",
   "name": "python",
   "nbconvert_exporter": "python",
   "pygments_lexer": "ipython3",
   "version": "3.6.5"
  }
 },
 "nbformat": 4,
 "nbformat_minor": 2
}
