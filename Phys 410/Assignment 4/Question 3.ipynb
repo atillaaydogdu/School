{
 "cells": [
  {
   "cell_type": "markdown",
   "metadata": {},
   "source": [
    "<h1 id=\"tocheading\">Table of Contents and Notebook Setup</h1>\n",
    "<div id=\"toc\"></div>"
   ]
  },
  {
   "cell_type": "code",
   "execution_count": 1,
   "metadata": {},
   "outputs": [
    {
     "data": {
      "application/javascript": [
       "$.getScript('https://kmahelona.github.io/ipython_notebook_goodies/ipython_notebook_toc.js')"
      ],
      "text/plain": [
       "<IPython.core.display.Javascript object>"
      ]
     },
     "metadata": {},
     "output_type": "display_data"
    }
   ],
   "source": [
    "%%javascript\n",
    "$.getScript('https://kmahelona.github.io/ipython_notebook_goodies/ipython_notebook_toc.js')"
   ]
  },
  {
   "cell_type": "code",
   "execution_count": 2,
   "metadata": {},
   "outputs": [],
   "source": [
    "import sympy as smp\n",
    "from sympy.abc import theta, phi\n",
    "from sympy import *\n",
    "from sympy import trigsimp\n",
    "import numpy as np\n",
    "from IPython.display import display, Math\n",
    "smp.init_printing()"
   ]
  },
  {
   "cell_type": "code",
   "execution_count": 3,
   "metadata": {},
   "outputs": [],
   "source": [
    "r, theta, x, y = smp.symbols('r theta x y')\n",
    "Vx = Function('V^x', real=True)(x, y)\n",
    "Vy = Function('V^y', real=True)(x, y)\n",
    "Vr = Function('V^r', real=True)(r, theta)\n",
    "Vtheta = Function(r'V^{\\theta}', real=True)(r, theta)"
   ]
  },
  {
   "cell_type": "markdown",
   "metadata": {},
   "source": [
    "# Transformation Matrix Cartesian to Polar"
   ]
  },
  {
   "cell_type": "markdown",
   "metadata": {},
   "source": [
    "First we define $\\Lambda$"
   ]
  },
  {
   "cell_type": "code",
   "execution_count": 4,
   "metadata": {},
   "outputs": [
    {
     "data": {
      "image/png": "[encoded data removed]",
      "text/latex": [
       "$$\\left[\\begin{matrix}\\cos{\\left (\\theta \\right )} & - r \\sin{\\left (\\theta \\right )}\\\\\\sin{\\left (\\theta \\right )} & r \\cos{\\left (\\theta \\right )}\\end{matrix}\\right]$$"
      ],
      "text/plain": [
       "⎡cos(θ)  -r⋅sin(θ)⎤\n",
       "⎢                 ⎥\n",
       "⎣sin(θ)  r⋅cos(θ) ⎦"
      ]
     },
     "execution_count": 4,
     "metadata": {},
     "output_type": "execute_result"
    }
   ],
   "source": [
    "LAM = Matrix([[smp.cos(theta), -r*smp.sin(theta)],\n",
    "              [smp.sin(theta), r*smp.cos(theta)]])\n",
    "LAM"
   ]
  },
  {
   "cell_type": "markdown",
   "metadata": {},
   "source": [
    "# Inverse Transformation Matrix Cartesian to Polar"
   ]
  },
  {
   "cell_type": "markdown",
   "metadata": {},
   "source": [
    "Now $\\Lambda^{-1}$"
   ]
  },
  {
   "cell_type": "code",
   "execution_count": 5,
   "metadata": {},
   "outputs": [
    {
     "data": {
      "image/png": "[encoded data removed]",
      "text/latex": [
       "$$\\left[\\begin{matrix}\\cos{\\left (\\theta \\right )} & \\sin{\\left (\\theta \\right )}\\\\- \\frac{1}{r} \\sin{\\left (\\theta \\right )} & \\frac{1}{r} \\cos{\\left (\\theta \\right )}\\end{matrix}\\right]$$"
      ],
      "text/plain": [
       "⎡ cos(θ)   sin(θ)⎤\n",
       "⎢                ⎥\n",
       "⎢-sin(θ)   cos(θ)⎥\n",
       "⎢────────  ──────⎥\n",
       "⎣   r        r   ⎦"
      ]
     },
     "execution_count": 5,
     "metadata": {},
     "output_type": "execute_result"
    }
   ],
   "source": [
    "LAM_inv = smp.simplify(LAM**-1)\n",
    "LAM_inv"
   ]
  },
  {
   "cell_type": "markdown",
   "metadata": {},
   "source": [
    "# Covariant Derivative Tensor in Cartesian Coordinates"
   ]
  },
  {
   "cell_type": "markdown",
   "metadata": {},
   "source": [
    "Now $\\nabla V$ in cartesian coordinates."
   ]
  },
  {
   "cell_type": "code",
   "execution_count": 6,
   "metadata": {},
   "outputs": [
    {
     "data": {
      "image/png": "[encoded data removed]",
      "text/latex": [
       "$$\\left[\\begin{matrix}\\frac{\\partial}{\\partial x} \\operatorname{V^{x}}{\\left (x,y \\right )} & \\frac{\\partial}{\\partial y} \\operatorname{V^{x}}{\\left (x,y \\right )}\\\\\\frac{\\partial}{\\partial x} \\operatorname{V^{y}}{\\left (x,y \\right )} & \\frac{\\partial}{\\partial y} \\operatorname{V^{y}}{\\left (x,y \\right )}\\end{matrix}\\right]$$"
      ],
      "text/plain": [
       "⎡∂               ∂             ⎤\n",
       "⎢──(V__x(x, y))  ──(V__x(x, y))⎥\n",
       "⎢∂x              ∂y            ⎥\n",
       "⎢                              ⎥\n",
       "⎢∂               ∂             ⎥\n",
       "⎢──(V__y(x, y))  ──(V__y(x, y))⎥\n",
       "⎣∂x              ∂y            ⎦"
      ]
     },
     "execution_count": 6,
     "metadata": {},
     "output_type": "execute_result"
    }
   ],
   "source": [
    "del_Vcart = Matrix([[diff(Vx,x), diff(Vx, y)],\n",
    "                   [diff(Vy, x), diff(Vy, y)]])\n",
    "del_Vcart"
   ]
  },
  {
   "cell_type": "markdown",
   "metadata": {},
   "source": [
    "# Transform Coordinates of the Covariant Derivative Tensor"
   ]
  },
  {
   "cell_type": "markdown",
   "metadata": {},
   "source": [
    "Compute the **components** of the matrix in polar coordinates using\n",
    "\n",
    "$$V^x = \\cos(\\theta)V^r-r\\sin(\\theta)V^\\theta \\hspace{20mm} V^y = \\sin(\\theta)V^r+r\\cos(\\theta)V^\\theta$$\n",
    "\n",
    "and \n",
    "\n",
    "$$\\frac{\\partial}{\\partial x}=\\cos\\theta \\frac{\\partial}{\\partial r}-\\frac{1}{r}\\sin\\theta \\frac{\\partial}{\\partial \\theta} \\hspace{20mm}\\frac{\\partial}{\\partial y}=\\sin\\theta \\frac{\\partial}{\\partial r}+\\frac{1}{r}\\cos\\theta \\frac{\\partial}{\\partial \\theta} $$"
   ]
  },
  {
   "cell_type": "code",
   "execution_count": 7,
   "metadata": {},
   "outputs": [],
   "source": [
    "Vx = smp.cos(theta)*Vr-r*smp.sin(theta)*Vtheta\n",
    "Vy = smp.sin(theta)*Vr+r*smp.cos(theta)*Vtheta\n",
    "\n",
    "diff_Vx_x = smp.cos(theta)*diff(Vx, r)-(1/r)*smp.sin(theta)*diff(Vx, theta)\n",
    "diff_Vy_x = smp.cos(theta)*diff(Vy, r)-(1/r)*smp.sin(theta)*diff(Vy, theta)\n",
    "diff_Vx_y = smp.sin(theta)*diff(Vx, r)+(1/r)*smp.cos(theta)*diff(Vx, theta)\n",
    "diff_Vy_y = smp.sin(theta)*diff(Vy, r)+(1/r)*smp.cos(theta)*diff(Vy, theta)"
   ]
  },
  {
   "cell_type": "markdown",
   "metadata": {},
   "source": [
    "Print the matrix. Note that we have transformed our **components** but not our **basis**."
   ]
  },
  {
   "cell_type": "code",
   "execution_count": 8,
   "metadata": {},
   "outputs": [
    {
     "data": {
      "image/png": "[encoded data removed]",
      "text/latex": [
       "$$\\left[\\begin{matrix}- \\frac{r}{2} \\sin{\\left (2 \\theta \\right )} \\frac{\\partial}{\\partial r} \\operatorname{V^{\\theta}}{\\left (r,\\theta \\right )} + \\sin^{2}{\\left (\\theta \\right )} \\frac{\\partial}{\\partial \\theta} \\operatorname{V^{\\theta}}{\\left (r,\\theta \\right )} + \\cos^{2}{\\left (\\theta \\right )} \\frac{\\partial}{\\partial r} \\operatorname{V^{r}}{\\left (r,\\theta \\right )} + \\frac{1}{r} \\operatorname{V^{r}}{\\left (r,\\theta \\right )} \\sin^{2}{\\left (\\theta \\right )} - \\frac{1}{2 r} \\sin{\\left (2 \\theta \\right )} \\frac{\\partial}{\\partial \\theta} \\operatorname{V^{r}}{\\left (r,\\theta \\right )} & \\frac{r}{2} \\cos{\\left (2 \\theta \\right )} \\frac{\\partial}{\\partial r} \\operatorname{V^{\\theta}}{\\left (r,\\theta \\right )} - \\frac{r}{2} \\frac{\\partial}{\\partial r} \\operatorname{V^{\\theta}}{\\left (r,\\theta \\right )} - \\operatorname{V^{\\theta}}{\\left (r,\\theta \\right )} + \\frac{1}{2} \\sin{\\left (2 \\theta \\right )} \\frac{\\partial}{\\partial r} \\operatorname{V^{r}}{\\left (r,\\theta \\right )} - \\frac{1}{2} \\sin{\\left (2 \\theta \\right )} \\frac{\\partial}{\\partial \\theta} \\operatorname{V^{\\theta}}{\\left (r,\\theta \\right )} - \\frac{\\operatorname{V^{r}}{\\left (r,\\theta \\right )}}{2 r} \\sin{\\left (2 \\theta \\right )} + \\frac{1}{2 r} \\cos{\\left (2 \\theta \\right )} \\frac{\\partial}{\\partial \\theta} \\operatorname{V^{r}}{\\left (r,\\theta \\right )} + \\frac{1}{2 r} \\frac{\\partial}{\\partial \\theta} \\operatorname{V^{r}}{\\left (r,\\theta \\right )}\\\\\\frac{r}{2} \\cos{\\left (2 \\theta \\right )} \\frac{\\partial}{\\partial r} \\operatorname{V^{\\theta}}{\\left (r,\\theta \\right )} + \\frac{r}{2} \\frac{\\partial}{\\partial r} \\operatorname{V^{\\theta}}{\\left (r,\\theta \\right )} + \\operatorname{V^{\\theta}}{\\left (r,\\theta \\right )} + \\frac{1}{2} \\sin{\\left (2 \\theta \\right )} \\frac{\\partial}{\\partial r} \\operatorname{V^{r}}{\\left (r,\\theta \\right )} - \\frac{1}{2} \\sin{\\left (2 \\theta \\right )} \\frac{\\partial}{\\partial \\theta} \\operatorname{V^{\\theta}}{\\left (r,\\theta \\right )} - \\frac{\\operatorname{V^{r}}{\\left (r,\\theta \\right )}}{2 r} \\sin{\\left (2 \\theta \\right )} + \\frac{1}{2 r} \\cos{\\left (2 \\theta \\right )} \\frac{\\partial}{\\partial \\theta} \\operatorname{V^{r}}{\\left (r,\\theta \\right )} - \\frac{1}{2 r} \\frac{\\partial}{\\partial \\theta} \\operatorname{V^{r}}{\\left (r,\\theta \\right )} & \\frac{r}{2} \\sin{\\left (2 \\theta \\right )} \\frac{\\partial}{\\partial r} \\operatorname{V^{\\theta}}{\\left (r,\\theta \\right )} + \\sin^{2}{\\left (\\theta \\right )} \\frac{\\partial}{\\partial r} \\operatorname{V^{r}}{\\left (r,\\theta \\right )} + \\cos^{2}{\\left (\\theta \\right )} \\frac{\\partial}{\\partial \\theta} \\operatorname{V^{\\theta}}{\\left (r,\\theta \\right )} + \\frac{1}{r} \\operatorname{V^{r}}{\\left (r,\\theta \\right )} \\cos^{2}{\\left (\\theta \\right )} + \\frac{1}{2 r} \\sin{\\left (2 \\theta \\right )} \\frac{\\partial}{\\partial \\theta} \\operatorname{V^{r}}{\\left (r,\\theta \\right )}\\end{matrix}\\right]$$"
      ],
      "text/plain": [
       "⎡                                             ∂                               \n",
       "⎢                                  r⋅sin(2⋅θ)⋅──(V__{\\theta}(r, θ))           \n",
       "⎢                                             ∂r                         2    \n",
       "⎢                                - ──────────────────────────────── + sin (θ)⋅\n",
       "⎢                                                 2                           \n",
       "⎢                                                                             \n",
       "⎢           ∂                         ∂                                       \n",
       "⎢r⋅cos(2⋅θ)⋅──(V__{\\theta}(r, θ))   r⋅──(V__{\\theta}(r, θ))                   \n",
       "⎢           ∂r                        ∂r                                      \n",
       "⎢──────────────────────────────── + ─────────────────────── + V__{\\theta}(r, θ\n",
       "⎣               2                              2                              \n",
       "\n",
       "                                                                              \n",
       "                                                               2      sin(2⋅θ)\n",
       "∂                          2    ∂                V__r(r, θ)⋅sin (θ)           \n",
       "──(V__{\\theta}(r, θ)) + cos (θ)⋅──(V__r(r, θ)) + ────────────────── - ────────\n",
       "∂θ                              ∂r                       r                    \n",
       "                                                                              \n",
       "             ∂                         ∂                                      \n",
       "    sin(2⋅θ)⋅──(V__r(r, θ))   sin(2⋅θ)⋅──(V__{\\theta}(r, θ))                  \n",
       "             ∂r                        ∂θ                      V__r(r, θ)⋅sin(\n",
       ") + ─────────────────────── - ────────────────────────────── - ───────────────\n",
       "               2                            2                          2⋅r    \n",
       "\n",
       " ∂                                                          ∂                 \n",
       "⋅──(V__r(r, θ))                                  r⋅cos(2⋅θ)⋅──(V__{\\theta}(r, \n",
       " ∂θ                                                         ∂r                \n",
       "───────────────                                  ─────────────────────────────\n",
       "  2⋅r                                                           2             \n",
       "                                                                              \n",
       "                ∂                ∂                                            \n",
       "       cos(2⋅θ)⋅──(V__r(r, θ))   ──(V__r(r, θ))                               \n",
       "2⋅θ)            ∂θ               ∂θ                                           \n",
       "──── + ─────────────────────── - ──────────────                               \n",
       "                 2⋅r                  2⋅r                                     \n",
       "\n",
       "        ∂                                                    ∂                \n",
       "θ))   r⋅──(V__{\\theta}(r, θ))                       sin(2⋅θ)⋅──(V__r(r, θ))   \n",
       "        ∂r                                                   ∂r               \n",
       "─── - ─────────────────────── - V__{\\theta}(r, θ) + ─────────────────────── - \n",
       "                 2                                             2              \n",
       "                                                                              \n",
       "               ∂                                                              \n",
       "    r⋅sin(2⋅θ)⋅──(V__{\\theta}(r, θ))                                          \n",
       "               ∂r                         2    ∂                   2    ∂     \n",
       "    ──────────────────────────────── + sin (θ)⋅──(V__r(r, θ)) + cos (θ)⋅──(V__\n",
       "                   2                           ∂r                       ∂θ    \n",
       "\n",
       "         ∂                                                      ∂             \n",
       "sin(2⋅θ)⋅──(V__{\\theta}(r, θ))                         cos(2⋅θ)⋅──(V__r(r, θ))\n",
       "         ∂θ                      V__r(r, θ)⋅sin(2⋅θ)            ∂θ            \n",
       "────────────────────────────── - ─────────────────── + ───────────────────────\n",
       "              2                          2⋅r                     2⋅r          \n",
       "                                                                              \n",
       "                                                ∂                             \n",
       "                                2      sin(2⋅θ)⋅──(V__r(r, θ))                \n",
       "                  V__r(r, θ)⋅cos (θ)            ∂θ                            \n",
       "{\\theta}(r, θ)) + ────────────────── + ───────────────────────                \n",
       "                          r                      2⋅r                          \n",
       "\n",
       "   ∂             ⎤\n",
       "   ──(V__r(r, θ))⎥\n",
       "   ∂θ            ⎥\n",
       " + ──────────────⎥\n",
       "        2⋅r      ⎥\n",
       "                 ⎥\n",
       "                 ⎥\n",
       "                 ⎥\n",
       "                 ⎥\n",
       "                 ⎥\n",
       "                 ⎦"
      ]
     },
     "execution_count": 8,
     "metadata": {},
     "output_type": "execute_result"
    }
   ],
   "source": [
    "del_Vcart = Matrix([[diff_Vx_x, diff_Vx_y],\n",
    "                   [diff_Vy_x, diff_Vy_y]])\n",
    "smp.simplify(del_Vcart)"
   ]
  },
  {
   "cell_type": "markdown",
   "metadata": {},
   "source": [
    "# Transform Basis of the Covariant Derivative Tensor"
   ]
  },
  {
   "cell_type": "markdown",
   "metadata": {},
   "source": [
    "Now we transform our **basis** using the fact that\n",
    "\n",
    "$$(\\nabla V)_{\\text{polar}} = \\Lambda^{-1}(\\nabla V)_{\\text{cart}}\\Lambda$$\n",
    "\n",
    "This follows from\n",
    "\n",
    "$${(\\nabla V)^{\\alpha'}}_{\\beta'}={(\\nabla V)^{\\alpha}}_{\\beta}{\\Lambda^{\\alpha'}}_{\\alpha'}{(\\Lambda^{-1})^{\\beta}}_{\\beta'} $$"
   ]
  },
  {
   "cell_type": "markdown",
   "metadata": {},
   "source": [
    "This follows fro"
   ]
  },
  {
   "cell_type": "code",
   "execution_count": 9,
   "metadata": {},
   "outputs": [
    {
     "data": {
      "image/png": "[encoded data removed]",
      "text/latex": [
       "$$\\left[\\begin{matrix}\\frac{\\partial}{\\partial r} \\operatorname{V^{r}}{\\left (r,\\theta \\right )} & - r \\operatorname{V^{\\theta}}{\\left (r,\\theta \\right )} + \\frac{\\partial}{\\partial \\theta} \\operatorname{V^{r}}{\\left (r,\\theta \\right )}\\\\\\frac{\\partial}{\\partial r} \\operatorname{V^{\\theta}}{\\left (r,\\theta \\right )} + \\frac{1}{r} \\operatorname{V^{\\theta}}{\\left (r,\\theta \\right )} & \\frac{\\partial}{\\partial \\theta} \\operatorname{V^{\\theta}}{\\left (r,\\theta \\right )} + \\frac{1}{r} \\operatorname{V^{r}}{\\left (r,\\theta \\right )}\\end{matrix}\\right]$$"
      ],
      "text/plain": [
       "⎡             ∂                                                    ∂          \n",
       "⎢             ──(V__r(r, θ))                -r⋅V__{\\theta}(r, θ) + ──(V__r(r, \n",
       "⎢             ∂r                                                   ∂θ         \n",
       "⎢                                                                             \n",
       "⎢∂                       V__{\\theta}(r, θ)   ∂                       V__r(r, θ\n",
       "⎢──(V__{\\theta}(r, θ)) + ─────────────────   ──(V__{\\theta}(r, θ)) + ─────────\n",
       "⎣∂r                              r           ∂θ                          r    \n",
       "\n",
       "   ⎤\n",
       "θ))⎥\n",
       "   ⎥\n",
       "   ⎥\n",
       ")  ⎥\n",
       "─  ⎥\n",
       "   ⎦"
      ]
     },
     "execution_count": 9,
     "metadata": {},
     "output_type": "execute_result"
    }
   ],
   "source": [
    "del_Vpolar = ((LAM_inv)*del_Vcart*(LAM))\n",
    "smp.simplify(del_Vpolar)"
   ]
  },
  {
   "cell_type": "markdown",
   "metadata": {},
   "source": [
    "This matches what we obtained using the Christoffel symbols in parts a) and b)."
   ]
  }
 ],
 "metadata": {
  "kernelspec": {
   "display_name": "Python 3",
   "language": "python",
   "name": "python3"
  },
  "language_info": {
   "codemirror_mode": {
    "name": "ipython",
    "version": 3
   },
   "file_extension": ".py",
   "mimetype": "text/x-python",
   "name": "python",
   "nbconvert_exporter": "python",
   "pygments_lexer": "ipython3",
   "version": "3.6.6"
  }
 },
 "nbformat": 4,
 "nbformat_minor": 2
}
