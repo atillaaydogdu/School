{
 "cells": [
  {
   "cell_type": "markdown",
   "metadata": {},
   "source": [
    "<h1 id=\"tocheading\">Table of Contents and Notebook Setup</h1>\n",
    "<div id=\"toc\"></div>"
   ]
  },
  {
   "cell_type": "code",
   "execution_count": 29,
   "metadata": {},
   "outputs": [
    {
     "data": {
      "application/javascript": [
       "$.getScript('https://kmahelona.github.io/ipython_notebook_goodies/ipython_notebook_toc.js')"
      ],
      "text/plain": [
       "<IPython.core.display.Javascript object>"
      ]
     },
     "metadata": {},
     "output_type": "display_data"
    }
   ],
   "source": [
    "%%javascript\n",
    "$.getScript('https://kmahelona.github.io/ipython_notebook_goodies/ipython_notebook_toc.js')"
   ]
  },
  {
   "cell_type": "code",
   "execution_count": 39,
   "metadata": {},
   "outputs": [],
   "source": [
    "import sympy as smp\n",
    "from sympy.abc import theta, phi\n",
    "from sympy import *\n",
    "from sympy import trigsimp\n",
    "import numpy as np\n",
    "from IPython.display import display, Math\n",
    "smp.init_printing()"
   ]
  },
  {
   "cell_type": "code",
   "execution_count": 40,
   "metadata": {},
   "outputs": [],
   "source": [
    "x, y = smp.symbols('x y')"
   ]
  },
  {
   "cell_type": "code",
   "execution_count": 41,
   "metadata": {},
   "outputs": [],
   "source": [
    "r = smp.sqrt(x**2+y**2)\n",
    "theta = smp.acos(x/r)"
   ]
  },
  {
   "cell_type": "code",
   "execution_count": 48,
   "metadata": {},
   "outputs": [
    {
     "data": {
      "image/png": "[encoded data removed]",
      "text/latex": [
       "$$\\operatorname{acos}{\\left (\\frac{x}{\\sqrt{x^{2} + y^{2}}} \\right )}$$"
      ],
      "text/plain": [
       "    ⎛     x      ⎞\n",
       "acos⎜────────────⎟\n",
       "    ⎜   _________⎟\n",
       "    ⎜  ╱  2    2 ⎟\n",
       "    ⎝╲╱  x  + y  ⎠"
      ]
     },
     "execution_count": 48,
     "metadata": {},
     "output_type": "execute_result"
    }
   ],
   "source": [
    "theta"
   ]
  },
  {
   "cell_type": "code",
   "execution_count": 49,
   "metadata": {},
   "outputs": [],
   "source": [
    "dn_dx = smp.simplify(smp.diff((r)*smp.diff(theta,x),x))\n",
    "dn_dx_dy = smp.simplify(smp.diff(dn_dx, y))"
   ]
  },
  {
   "cell_type": "code",
   "execution_count": 50,
   "metadata": {},
   "outputs": [
    {
     "data": {
      "image/png": "[encoded data removed]",
      "text/latex": [
       "$$\\frac{x y^{15} \\left(x^{2} - 2 y^{2}\\right)}{\\left(\\frac{y^{2}}{x^{2} + y^{2}}\\right)^{\\frac{15}{2}} \\left(x^{2} + y^{2}\\right)^{10}}$$"
      ],
      "text/plain": [
       "       15 ⎛ 2      2⎞    \n",
       "    x⋅y  ⋅⎝x  - 2⋅y ⎠    \n",
       "─────────────────────────\n",
       "         15/2            \n",
       "⎛    2  ⎞              10\n",
       "⎜   y   ⎟     ⎛ 2    2⎞  \n",
       "⎜───────⎟    ⋅⎝x  + y ⎠  \n",
       "⎜ 2    2⎟                \n",
       "⎝x  + y ⎠                "
      ]
     },
     "execution_count": 50,
     "metadata": {},
     "output_type": "execute_result"
    }
   ],
   "source": [
    "dn_dx_dy"
   ]
  },
  {
   "cell_type": "code",
   "execution_count": 51,
   "metadata": {},
   "outputs": [],
   "source": [
    "dn_dy = smp.simplify(smp.diff((r)*smp.diff(theta,y),y))\n",
    "dn_dy_dx = smp.simplify(smp.diff(dn_dy, x))"
   ]
  },
  {
   "cell_type": "code",
   "execution_count": 52,
   "metadata": {},
   "outputs": [
    {
     "data": {
      "image/png": "[encoded data removed]",
      "text/latex": [
       "$$\\frac{1}{y^{4}} \\left(\\frac{y^{2}}{x^{2} + y^{2}}\\right)^{\\frac{5}{2}} \\left(2 x^{2} - y^{2}\\right)$$"
      ],
      "text/plain": [
       "         5/2            \n",
       "⎛    2  ⎞               \n",
       "⎜   y   ⎟    ⎛   2    2⎞\n",
       "⎜───────⎟   ⋅⎝2⋅x  - y ⎠\n",
       "⎜ 2    2⎟               \n",
       "⎝x  + y ⎠               \n",
       "────────────────────────\n",
       "            4           \n",
       "           y            "
      ]
     },
     "execution_count": 52,
     "metadata": {},
     "output_type": "execute_result"
    }
   ],
   "source": [
    "dn_dy_dx"
   ]
  },
  {
   "cell_type": "code",
   "execution_count": 53,
   "metadata": {},
   "outputs": [
    {
     "data": {
      "image/png": "[encoded data removed]",
      "text/latex": [
       "$$\\frac{y^{15}}{\\left(\\frac{y^{2}}{x^{2} + y^{2}}\\right)^{\\frac{15}{2}} \\left(x^{2} + y^{2}\\right)^{10}} \\left(x \\left(x^{2} - 2 y^{2}\\right) + y \\left(- 2 x^{2} + y^{2}\\right)\\right)$$"
      ],
      "text/plain": [
       " 15 ⎛  ⎛ 2      2⎞     ⎛     2    2⎞⎞\n",
       "y  ⋅⎝x⋅⎝x  - 2⋅y ⎠ + y⋅⎝- 2⋅x  + y ⎠⎠\n",
       "─────────────────────────────────────\n",
       "               15/2                  \n",
       "      ⎛    2  ⎞              10      \n",
       "      ⎜   y   ⎟     ⎛ 2    2⎞        \n",
       "      ⎜───────⎟    ⋅⎝x  + y ⎠        \n",
       "      ⎜ 2    2⎟                      \n",
       "      ⎝x  + y ⎠                      "
      ]
     },
     "execution_count": 53,
     "metadata": {},
     "output_type": "execute_result"
    }
   ],
   "source": [
    "smp.simplify(dn_dx_dy-dn_dy_dx)"
   ]
  }
 ],
 "metadata": {
  "kernelspec": {
   "display_name": "Python 3",
   "language": "python",
   "name": "python3"
  },
  "language_info": {
   "codemirror_mode": {
    "name": "ipython",
    "version": 3
   },
   "file_extension": ".py",
   "mimetype": "text/x-python",
   "name": "python",
   "nbconvert_exporter": "python",
   "pygments_lexer": "ipython3",
   "version": "3.6.6"
  }
 },
 "nbformat": 4,
 "nbformat_minor": 2
}
