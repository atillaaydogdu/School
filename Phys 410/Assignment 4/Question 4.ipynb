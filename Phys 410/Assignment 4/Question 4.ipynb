{
 "cells": [
  {
   "cell_type": "markdown",
   "metadata": {},
   "source": [
    "<h1 id=\"tocheading\">Table of Contents and Notebook Setup</h1>\n",
    "<div id=\"toc\"></div>"
   ]
  },
  {
   "cell_type": "code",
   "execution_count": 1,
   "metadata": {},
   "outputs": [
    {
     "data": {
      "application/javascript": [
       "$.getScript('https://kmahelona.github.io/ipython_notebook_goodies/ipython_notebook_toc.js')"
      ],
      "text/plain": [
       "<IPython.core.display.Javascript object>"
      ]
     },
     "metadata": {},
     "output_type": "display_data"
    }
   ],
   "source": [
    "%%javascript\n",
    "$.getScript('https://kmahelona.github.io/ipython_notebook_goodies/ipython_notebook_toc.js')"
   ]
  },
  {
   "cell_type": "code",
   "execution_count": 2,
   "metadata": {},
   "outputs": [],
   "source": [
    "import sympy as smp\n",
    "from sympy.abc import theta, phi\n",
    "from sympy import *\n",
    "from sympy import trigsimp\n",
    "import numpy as np\n",
    "from IPython.display import display, Math\n",
    "smp.init_printing()"
   ]
  },
  {
   "cell_type": "code",
   "execution_count": 3,
   "metadata": {},
   "outputs": [],
   "source": [
    "r, theta, phi = smp.symbols('r theta phi')"
   ]
  },
  {
   "cell_type": "markdown",
   "metadata": {},
   "source": [
    "# Part A"
   ]
  },
  {
   "cell_type": "markdown",
   "metadata": {},
   "source": [
    "Supplementary to the work done in part a). This matrix and its inverse are also needed in part b)."
   ]
  },
  {
   "cell_type": "markdown",
   "metadata": {},
   "source": [
    "## Coordinate Transform Matrix"
   ]
  },
  {
   "cell_type": "markdown",
   "metadata": {},
   "source": [
    "This defines\n",
    "\n",
    "$${\\Lambda^{\\beta}}_{\\alpha} = \\frac{\\partial x^\\beta}{\\partial x^{\\alpha}} $$"
   ]
  },
  {
   "cell_type": "code",
   "execution_count": 4,
   "metadata": {},
   "outputs": [],
   "source": [
    "LAM = Matrix([[smp.sin(theta)*smp.cos(phi), r*smp.cos(theta)*smp.cos(phi), -r*smp.sin(theta)*smp.sin(phi)],\n",
    "              [smp.sin(theta)*smp.sin(phi), r*smp.cos(theta)*smp.sin(phi), r*smp.sin(theta)*smp.cos(phi)],\n",
    "              [smp.cos(theta), -r*smp.sin(theta), 0]])\n",
    "LAM_inv = smp.simplify(LAM**-1)"
   ]
  },
  {
   "cell_type": "markdown",
   "metadata": {},
   "source": [
    "Print ${\\Lambda^{\\beta}}_{\\alpha}$ in matrix form:"
   ]
  },
  {
   "cell_type": "code",
   "execution_count": 5,
   "metadata": {},
   "outputs": [
    {
     "data": {
      "image/png": "[encoded data removed]",
      "text/latex": [
       "$$\\left[\\begin{matrix}\\sin{\\left (\\theta \\right )} \\cos{\\left (\\phi \\right )} & r \\cos{\\left (\\phi \\right )} \\cos{\\left (\\theta \\right )} & - r \\sin{\\left (\\phi \\right )} \\sin{\\left (\\theta \\right )}\\\\\\sin{\\left (\\phi \\right )} \\sin{\\left (\\theta \\right )} & r \\sin{\\left (\\phi \\right )} \\cos{\\left (\\theta \\right )} & r \\sin{\\left (\\theta \\right )} \\cos{\\left (\\phi \\right )}\\\\\\cos{\\left (\\theta \\right )} & - r \\sin{\\left (\\theta \\right )} & 0\\end{matrix}\\right]$$"
      ],
      "text/plain": [
       "⎡sin(θ)⋅cos(φ)  r⋅cos(φ)⋅cos(θ)  -r⋅sin(φ)⋅sin(θ)⎤\n",
       "⎢                                                ⎥\n",
       "⎢sin(φ)⋅sin(θ)  r⋅sin(φ)⋅cos(θ)  r⋅sin(θ)⋅cos(φ) ⎥\n",
       "⎢                                                ⎥\n",
       "⎣   cos(θ)         -r⋅sin(θ)            0        ⎦"
      ]
     },
     "execution_count": 5,
     "metadata": {},
     "output_type": "execute_result"
    }
   ],
   "source": [
    "LAM"
   ]
  },
  {
   "cell_type": "markdown",
   "metadata": {},
   "source": [
    "Print ${(\\Lambda^{-1})^{\\beta}}_{\\alpha}$ in matrix form:"
   ]
  },
  {
   "cell_type": "code",
   "execution_count": 6,
   "metadata": {},
   "outputs": [
    {
     "data": {
      "image/png": "[encoded data removed]",
      "text/latex": [
       "$$\\left[\\begin{matrix}\\sin{\\left (\\theta \\right )} \\cos{\\left (\\phi \\right )} & \\sin{\\left (\\phi \\right )} \\sin{\\left (\\theta \\right )} & \\cos{\\left (\\theta \\right )}\\\\\\frac{1}{r} \\cos{\\left (\\phi \\right )} \\cos{\\left (\\theta \\right )} & \\frac{1}{r} \\sin{\\left (\\phi \\right )} \\cos{\\left (\\theta \\right )} & - \\frac{1}{r} \\sin{\\left (\\theta \\right )}\\\\- \\frac{\\sin{\\left (\\phi \\right )}}{r \\sin{\\left (\\theta \\right )}} & \\frac{\\cos{\\left (\\phi \\right )}}{r \\sin{\\left (\\theta \\right )}} & 0\\end{matrix}\\right]$$"
      ],
      "text/plain": [
       "⎡sin(θ)⋅cos(φ)  sin(φ)⋅sin(θ)   cos(θ) ⎤\n",
       "⎢                                      ⎥\n",
       "⎢cos(φ)⋅cos(θ)  sin(φ)⋅cos(θ)  -sin(θ) ⎥\n",
       "⎢─────────────  ─────────────  ────────⎥\n",
       "⎢      r              r           r    ⎥\n",
       "⎢                                      ⎥\n",
       "⎢  -sin(φ)         cos(φ)              ⎥\n",
       "⎢  ────────       ────────        0    ⎥\n",
       "⎣  r⋅sin(θ)       r⋅sin(θ)             ⎦"
      ]
     },
     "execution_count": 6,
     "metadata": {},
     "output_type": "execute_result"
    }
   ],
   "source": [
    "LAM_inv"
   ]
  },
  {
   "cell_type": "markdown",
   "metadata": {},
   "source": [
    "# Part B"
   ]
  },
  {
   "cell_type": "markdown",
   "metadata": {},
   "source": [
    "## Calculation of the Metric"
   ]
  },
  {
   "cell_type": "markdown",
   "metadata": {},
   "source": [
    "Calculate the metric using\n",
    "\n",
    "$$g_{u'v'}=g_{uv}{\\Lambda^u}_{u'}{\\Lambda^v}_{v'}=\\Lambda^T g \\Lambda $$"
   ]
  },
  {
   "cell_type": "code",
   "execution_count": 7,
   "metadata": {},
   "outputs": [],
   "source": [
    "g = smp.simplify((LAM.T*LAM))\n",
    "g_inv = smp.simplify(g**-1)"
   ]
  },
  {
   "cell_type": "markdown",
   "metadata": {},
   "source": [
    "Print $g$ in matrix form:"
   ]
  },
  {
   "cell_type": "code",
   "execution_count": 8,
   "metadata": {},
   "outputs": [
    {
     "data": {
      "image/png": "[encoded data removed]",
      "text/latex": [
       "$$\\left[\\begin{matrix}1 & 0 & 0\\\\0 & r^{2} & 0\\\\0 & 0 & r^{2} \\sin^{2}{\\left (\\theta \\right )}\\end{matrix}\\right]$$"
      ],
      "text/plain": [
       "⎡1  0       0     ⎤\n",
       "⎢                 ⎥\n",
       "⎢    2            ⎥\n",
       "⎢0  r       0     ⎥\n",
       "⎢                 ⎥\n",
       "⎢        2    2   ⎥\n",
       "⎣0  0   r ⋅sin (θ)⎦"
      ]
     },
     "execution_count": 8,
     "metadata": {},
     "output_type": "execute_result"
    }
   ],
   "source": [
    "g"
   ]
  },
  {
   "cell_type": "markdown",
   "metadata": {},
   "source": [
    "Print $g^{-1}$ in matrix form:"
   ]
  },
  {
   "cell_type": "code",
   "execution_count": 9,
   "metadata": {},
   "outputs": [
    {
     "data": {
      "image/png": "[encoded data removed]",
      "text/latex": [
       "$$\\left[\\begin{matrix}1 & 0 & 0\\\\0 & \\frac{1}{r^{2}} & 0\\\\0 & 0 & \\frac{1}{r^{2} \\sin^{2}{\\left (\\theta \\right )}}\\end{matrix}\\right]$$"
      ],
      "text/plain": [
       "⎡1  0       0     ⎤\n",
       "⎢                 ⎥\n",
       "⎢   1             ⎥\n",
       "⎢0  ──      0     ⎥\n",
       "⎢    2            ⎥\n",
       "⎢   r             ⎥\n",
       "⎢                 ⎥\n",
       "⎢           1     ⎥\n",
       "⎢0  0   ──────────⎥\n",
       "⎢        2    2   ⎥\n",
       "⎣       r ⋅sin (θ)⎦"
      ]
     },
     "execution_count": 9,
     "metadata": {},
     "output_type": "execute_result"
    }
   ],
   "source": [
    "g_inv"
   ]
  },
  {
   "cell_type": "markdown",
   "metadata": {},
   "source": [
    "# Part C"
   ]
  },
  {
   "cell_type": "markdown",
   "metadata": {},
   "source": [
    "All done by hand: see written work."
   ]
  },
  {
   "cell_type": "markdown",
   "metadata": {},
   "source": [
    "# Part D"
   ]
  },
  {
   "cell_type": "markdown",
   "metadata": {},
   "source": [
    "## Calculation of Christofel Symbols"
   ]
  },
  {
   "cell_type": "markdown",
   "metadata": {},
   "source": [
    "Compute \n",
    "\n",
    "$$\\Gamma_{\\alpha \\beta}^{\\mu} = \\frac{1}{2}g^{u \\lambda}\\left(\\frac{\\partial g_{\\lambda \\beta}}{\\partial x_\\alpha}+\\frac{\\partial g_{\\alpha \\lambda}}{\\partial x_{\\beta}}-\\frac{\\partial g_{\\alpha \\beta}}{\\partial x_{\\lambda}} \\right)$$"
   ]
  },
  {
   "cell_type": "code",
   "execution_count": 10,
   "metadata": {},
   "outputs": [],
   "source": [
    "coords = [r, theta, phi]"
   ]
  },
  {
   "cell_type": "code",
   "execution_count": 11,
   "metadata": {},
   "outputs": [],
   "source": [
    "def get_christofel(a, b, u):\n",
    "    result = 0\n",
    "    for lam in range(3):\n",
    "        g_lam_beta = g.row(lam)[b]\n",
    "        g_alpha_lam = g.row(a)[lam]\n",
    "        g_alpha_beta =  g.row(a)[b]\n",
    "        \n",
    "        deriv_1 = diff(g_lam_beta, coords[a])\n",
    "        deriv_2 = diff(g_alpha_lam, coords[b])\n",
    "        deriv_3 = diff(g_alpha_beta, coords[lam])\n",
    "        \n",
    "        result += g_inv.row(u)[lam]*(deriv_1+deriv_2-deriv_3)/2\n",
    "    \n",
    "    return result"
   ]
  },
  {
   "cell_type": "code",
   "execution_count": 12,
   "metadata": {},
   "outputs": [],
   "source": [
    "cds_label = ['r', r'\\theta', r'\\phi']"
   ]
  },
  {
   "cell_type": "markdown",
   "metadata": {},
   "source": [
    "Print and store Christofel symbols in a new 3D array."
   ]
  },
  {
   "cell_type": "code",
   "execution_count": 13,
   "metadata": {},
   "outputs": [
    {
     "data": {
      "text/latex": [
       "$$\\Gamma^{r}_{r r} = 0$$"
      ],
      "text/plain": [
       "<IPython.core.display.Math object>"
      ]
     },
     "metadata": {},
     "output_type": "display_data"
    },
    {
     "data": {
      "text/latex": [
       "$$\\Gamma^{\\theta}_{r r} = 0$$"
      ],
      "text/plain": [
       "<IPython.core.display.Math object>"
      ]
     },
     "metadata": {},
     "output_type": "display_data"
    },
    {
     "data": {
      "text/latex": [
       "$$\\Gamma^{\\phi}_{r r} = 0$$"
      ],
      "text/plain": [
       "<IPython.core.display.Math object>"
      ]
     },
     "metadata": {},
     "output_type": "display_data"
    },
    {
     "data": {
      "text/latex": [
       "$$\\Gamma^{r}_{r \\theta} = 0$$"
      ],
      "text/plain": [
       "<IPython.core.display.Math object>"
      ]
     },
     "metadata": {},
     "output_type": "display_data"
    },
    {
     "data": {
      "text/latex": [
       "$$\\Gamma^{\\theta}_{r \\theta} = \\frac{1}{r}$$"
      ],
      "text/plain": [
       "<IPython.core.display.Math object>"
      ]
     },
     "metadata": {},
     "output_type": "display_data"
    },
    {
     "data": {
      "text/latex": [
       "$$\\Gamma^{\\phi}_{r \\theta} = 0$$"
      ],
      "text/plain": [
       "<IPython.core.display.Math object>"
      ]
     },
     "metadata": {},
     "output_type": "display_data"
    },
    {
     "data": {
      "text/latex": [
       "$$\\Gamma^{r}_{r \\phi} = 0$$"
      ],
      "text/plain": [
       "<IPython.core.display.Math object>"
      ]
     },
     "metadata": {},
     "output_type": "display_data"
    },
    {
     "data": {
      "text/latex": [
       "$$\\Gamma^{\\theta}_{r \\phi} = 0$$"
      ],
      "text/plain": [
       "<IPython.core.display.Math object>"
      ]
     },
     "metadata": {},
     "output_type": "display_data"
    },
    {
     "data": {
      "text/latex": [
       "$$\\Gamma^{\\phi}_{r \\phi} = \\frac{1}{r}$$"
      ],
      "text/plain": [
       "<IPython.core.display.Math object>"
      ]
     },
     "metadata": {},
     "output_type": "display_data"
    },
    {
     "data": {
      "text/latex": [
       "$$\\Gamma^{r}_{\\theta r} = 0$$"
      ],
      "text/plain": [
       "<IPython.core.display.Math object>"
      ]
     },
     "metadata": {},
     "output_type": "display_data"
    },
    {
     "data": {
      "text/latex": [
       "$$\\Gamma^{\\theta}_{\\theta r} = \\frac{1}{r}$$"
      ],
      "text/plain": [
       "<IPython.core.display.Math object>"
      ]
     },
     "metadata": {},
     "output_type": "display_data"
    },
    {
     "data": {
      "text/latex": [
       "$$\\Gamma^{\\phi}_{\\theta r} = 0$$"
      ],
      "text/plain": [
       "<IPython.core.display.Math object>"
      ]
     },
     "metadata": {},
     "output_type": "display_data"
    },
    {
     "data": {
      "text/latex": [
       "$$\\Gamma^{r}_{\\theta \\theta} = - r$$"
      ],
      "text/plain": [
       "<IPython.core.display.Math object>"
      ]
     },
     "metadata": {},
     "output_type": "display_data"
    },
    {
     "data": {
      "text/latex": [
       "$$\\Gamma^{\\theta}_{\\theta \\theta} = 0$$"
      ],
      "text/plain": [
       "<IPython.core.display.Math object>"
      ]
     },
     "metadata": {},
     "output_type": "display_data"
    },
    {
     "data": {
      "text/latex": [
       "$$\\Gamma^{\\phi}_{\\theta \\theta} = 0$$"
      ],
      "text/plain": [
       "<IPython.core.display.Math object>"
      ]
     },
     "metadata": {},
     "output_type": "display_data"
    },
    {
     "data": {
      "text/latex": [
       "$$\\Gamma^{r}_{\\theta \\phi} = 0$$"
      ],
      "text/plain": [
       "<IPython.core.display.Math object>"
      ]
     },
     "metadata": {},
     "output_type": "display_data"
    },
    {
     "data": {
      "text/latex": [
       "$$\\Gamma^{\\theta}_{\\theta \\phi} = 0$$"
      ],
      "text/plain": [
       "<IPython.core.display.Math object>"
      ]
     },
     "metadata": {},
     "output_type": "display_data"
    },
    {
     "data": {
      "text/latex": [
       "$$\\Gamma^{\\phi}_{\\theta \\phi} = \\frac{\\cos{\\left (\\theta \\right )}}{\\sin{\\left (\\theta \\right )}}$$"
      ],
      "text/plain": [
       "<IPython.core.display.Math object>"
      ]
     },
     "metadata": {},
     "output_type": "display_data"
    },
    {
     "data": {
      "text/latex": [
       "$$\\Gamma^{r}_{\\phi r} = 0$$"
      ],
      "text/plain": [
       "<IPython.core.display.Math object>"
      ]
     },
     "metadata": {},
     "output_type": "display_data"
    },
    {
     "data": {
      "text/latex": [
       "$$\\Gamma^{\\theta}_{\\phi r} = 0$$"
      ],
      "text/plain": [
       "<IPython.core.display.Math object>"
      ]
     },
     "metadata": {},
     "output_type": "display_data"
    },
    {
     "data": {
      "text/latex": [
       "$$\\Gamma^{\\phi}_{\\phi r} = \\frac{1}{r}$$"
      ],
      "text/plain": [
       "<IPython.core.display.Math object>"
      ]
     },
     "metadata": {},
     "output_type": "display_data"
    },
    {
     "data": {
      "text/latex": [
       "$$\\Gamma^{r}_{\\phi \\theta} = 0$$"
      ],
      "text/plain": [
       "<IPython.core.display.Math object>"
      ]
     },
     "metadata": {},
     "output_type": "display_data"
    },
    {
     "data": {
      "text/latex": [
       "$$\\Gamma^{\\theta}_{\\phi \\theta} = 0$$"
      ],
      "text/plain": [
       "<IPython.core.display.Math object>"
      ]
     },
     "metadata": {},
     "output_type": "display_data"
    },
    {
     "data": {
      "text/latex": [
       "$$\\Gamma^{\\phi}_{\\phi \\theta} = \\frac{\\cos{\\left (\\theta \\right )}}{\\sin{\\left (\\theta \\right )}}$$"
      ],
      "text/plain": [
       "<IPython.core.display.Math object>"
      ]
     },
     "metadata": {},
     "output_type": "display_data"
    },
    {
     "data": {
      "text/latex": [
       "$$\\Gamma^{r}_{\\phi \\phi} = - r \\sin^{2}{\\left (\\theta \\right )}$$"
      ],
      "text/plain": [
       "<IPython.core.display.Math object>"
      ]
     },
     "metadata": {},
     "output_type": "display_data"
    },
    {
     "data": {
      "text/latex": [
       "$$\\Gamma^{\\theta}_{\\phi \\phi} = - \\sin{\\left (\\theta \\right )} \\cos{\\left (\\theta \\right )}$$"
      ],
      "text/plain": [
       "<IPython.core.display.Math object>"
      ]
     },
     "metadata": {},
     "output_type": "display_data"
    },
    {
     "data": {
      "text/latex": [
       "$$\\Gamma^{\\phi}_{\\phi \\phi} = 0$$"
      ],
      "text/plain": [
       "<IPython.core.display.Math object>"
      ]
     },
     "metadata": {},
     "output_type": "display_data"
    }
   ],
   "source": [
    "christ_array = np.empty((3,3,3), dtype=object)\n",
    "for a in range(3):\n",
    "    for b in range(3):\n",
    "        for u in range(3):\n",
    "            christ_array[u][a][b] = get_christofel(a,b,u)\n",
    "            display(Math(r'\\Gamma^{'+cds_label[u]+'}_{'+cds_label[a]+ ' '+\n",
    "                         cds_label[b]+'} = '+ r'{}'.format(latex(get_christofel(a,b,u))))), "
   ]
  },
  {
   "cell_type": "markdown",
   "metadata": {},
   "source": [
    "Based on this list, all the Christofel symbols appear to be equal."
   ]
  },
  {
   "cell_type": "markdown",
   "metadata": {},
   "source": [
    "# Part E"
   ]
  },
  {
   "cell_type": "markdown",
   "metadata": {},
   "source": [
    "Gives us the components of\n",
    "\n",
    "$$\\nabla_u g_{\\alpha \\beta} = \\partial_u g_{\\alpha \\beta} − g_{v \\beta} \\Gamma^{v}_{\\alpha u} -g_{av}\\Gamma^{v}_{\\beta u}$$"
   ]
  },
  {
   "cell_type": "code",
   "execution_count": 14,
   "metadata": {},
   "outputs": [],
   "source": [
    "def get_comps(a, b, u):\n",
    "    term_1 = diff(g.row(a)[b], coords[u])\n",
    "    term_2 = 0\n",
    "    term_3 = 0\n",
    "    for v in range(3):\n",
    "        term_2 += g.row(v)[b]*christ_array[v][a][u]\n",
    "        term_3 += g.row(a)[v]*christ_array[v][b][u]\n",
    "\n",
    "    return trigsimp(term_1-term_2-term_3)"
   ]
  },
  {
   "cell_type": "markdown",
   "metadata": {},
   "source": [
    "Print all the terms:"
   ]
  },
  {
   "cell_type": "code",
   "execution_count": 15,
   "metadata": {},
   "outputs": [
    {
     "data": {
      "text/latex": [
       "$$\\nabla_{r}g_{r r}= 0$$"
      ],
      "text/plain": [
       "<IPython.core.display.Math object>"
      ]
     },
     "metadata": {},
     "output_type": "display_data"
    },
    {
     "data": {
      "text/latex": [
       "$$\\nabla_{\\theta}g_{r r}= 0$$"
      ],
      "text/plain": [
       "<IPython.core.display.Math object>"
      ]
     },
     "metadata": {},
     "output_type": "display_data"
    },
    {
     "data": {
      "text/latex": [
       "$$\\nabla_{\\phi}g_{r r}= 0$$"
      ],
      "text/plain": [
       "<IPython.core.display.Math object>"
      ]
     },
     "metadata": {},
     "output_type": "display_data"
    },
    {
     "data": {
      "text/latex": [
       "$$\\nabla_{r}g_{r \\theta}= 0$$"
      ],
      "text/plain": [
       "<IPython.core.display.Math object>"
      ]
     },
     "metadata": {},
     "output_type": "display_data"
    },
    {
     "data": {
      "text/latex": [
       "$$\\nabla_{\\theta}g_{r \\theta}= 0$$"
      ],
      "text/plain": [
       "<IPython.core.display.Math object>"
      ]
     },
     "metadata": {},
     "output_type": "display_data"
    },
    {
     "data": {
      "text/latex": [
       "$$\\nabla_{\\phi}g_{r \\theta}= 0$$"
      ],
      "text/plain": [
       "<IPython.core.display.Math object>"
      ]
     },
     "metadata": {},
     "output_type": "display_data"
    },
    {
     "data": {
      "text/latex": [
       "$$\\nabla_{r}g_{r \\phi}= 0$$"
      ],
      "text/plain": [
       "<IPython.core.display.Math object>"
      ]
     },
     "metadata": {},
     "output_type": "display_data"
    },
    {
     "data": {
      "text/latex": [
       "$$\\nabla_{\\theta}g_{r \\phi}= 0$$"
      ],
      "text/plain": [
       "<IPython.core.display.Math object>"
      ]
     },
     "metadata": {},
     "output_type": "display_data"
    },
    {
     "data": {
      "text/latex": [
       "$$\\nabla_{\\phi}g_{r \\phi}= 0$$"
      ],
      "text/plain": [
       "<IPython.core.display.Math object>"
      ]
     },
     "metadata": {},
     "output_type": "display_data"
    },
    {
     "data": {
      "text/latex": [
       "$$\\nabla_{r}g_{\\theta r}= 0$$"
      ],
      "text/plain": [
       "<IPython.core.display.Math object>"
      ]
     },
     "metadata": {},
     "output_type": "display_data"
    },
    {
     "data": {
      "text/latex": [
       "$$\\nabla_{\\theta}g_{\\theta r}= 0$$"
      ],
      "text/plain": [
       "<IPython.core.display.Math object>"
      ]
     },
     "metadata": {},
     "output_type": "display_data"
    },
    {
     "data": {
      "text/latex": [
       "$$\\nabla_{\\phi}g_{\\theta r}= 0$$"
      ],
      "text/plain": [
       "<IPython.core.display.Math object>"
      ]
     },
     "metadata": {},
     "output_type": "display_data"
    },
    {
     "data": {
      "text/latex": [
       "$$\\nabla_{r}g_{\\theta \\theta}= 0$$"
      ],
      "text/plain": [
       "<IPython.core.display.Math object>"
      ]
     },
     "metadata": {},
     "output_type": "display_data"
    },
    {
     "data": {
      "text/latex": [
       "$$\\nabla_{\\theta}g_{\\theta \\theta}= 0$$"
      ],
      "text/plain": [
       "<IPython.core.display.Math object>"
      ]
     },
     "metadata": {},
     "output_type": "display_data"
    },
    {
     "data": {
      "text/latex": [
       "$$\\nabla_{\\phi}g_{\\theta \\theta}= 0$$"
      ],
      "text/plain": [
       "<IPython.core.display.Math object>"
      ]
     },
     "metadata": {},
     "output_type": "display_data"
    },
    {
     "data": {
      "text/latex": [
       "$$\\nabla_{r}g_{\\theta \\phi}= 0$$"
      ],
      "text/plain": [
       "<IPython.core.display.Math object>"
      ]
     },
     "metadata": {},
     "output_type": "display_data"
    },
    {
     "data": {
      "text/latex": [
       "$$\\nabla_{\\theta}g_{\\theta \\phi}= 0$$"
      ],
      "text/plain": [
       "<IPython.core.display.Math object>"
      ]
     },
     "metadata": {},
     "output_type": "display_data"
    },
    {
     "data": {
      "text/latex": [
       "$$\\nabla_{\\phi}g_{\\theta \\phi}= 0$$"
      ],
      "text/plain": [
       "<IPython.core.display.Math object>"
      ]
     },
     "metadata": {},
     "output_type": "display_data"
    },
    {
     "data": {
      "text/latex": [
       "$$\\nabla_{r}g_{\\phi r}= 0$$"
      ],
      "text/plain": [
       "<IPython.core.display.Math object>"
      ]
     },
     "metadata": {},
     "output_type": "display_data"
    },
    {
     "data": {
      "text/latex": [
       "$$\\nabla_{\\theta}g_{\\phi r}= 0$$"
      ],
      "text/plain": [
       "<IPython.core.display.Math object>"
      ]
     },
     "metadata": {},
     "output_type": "display_data"
    },
    {
     "data": {
      "text/latex": [
       "$$\\nabla_{\\phi}g_{\\phi r}= 0$$"
      ],
      "text/plain": [
       "<IPython.core.display.Math object>"
      ]
     },
     "metadata": {},
     "output_type": "display_data"
    },
    {
     "data": {
      "text/latex": [
       "$$\\nabla_{r}g_{\\phi \\theta}= 0$$"
      ],
      "text/plain": [
       "<IPython.core.display.Math object>"
      ]
     },
     "metadata": {},
     "output_type": "display_data"
    },
    {
     "data": {
      "text/latex": [
       "$$\\nabla_{\\theta}g_{\\phi \\theta}= 0$$"
      ],
      "text/plain": [
       "<IPython.core.display.Math object>"
      ]
     },
     "metadata": {},
     "output_type": "display_data"
    },
    {
     "data": {
      "text/latex": [
       "$$\\nabla_{\\phi}g_{\\phi \\theta}= 0$$"
      ],
      "text/plain": [
       "<IPython.core.display.Math object>"
      ]
     },
     "metadata": {},
     "output_type": "display_data"
    },
    {
     "data": {
      "text/latex": [
       "$$\\nabla_{r}g_{\\phi \\phi}= 0$$"
      ],
      "text/plain": [
       "<IPython.core.display.Math object>"
      ]
     },
     "metadata": {},
     "output_type": "display_data"
    },
    {
     "data": {
      "text/latex": [
       "$$\\nabla_{\\theta}g_{\\phi \\phi}= 0$$"
      ],
      "text/plain": [
       "<IPython.core.display.Math object>"
      ]
     },
     "metadata": {},
     "output_type": "display_data"
    },
    {
     "data": {
      "text/latex": [
       "$$\\nabla_{\\phi}g_{\\phi \\phi}= 0$$"
      ],
      "text/plain": [
       "<IPython.core.display.Math object>"
      ]
     },
     "metadata": {},
     "output_type": "display_data"
    }
   ],
   "source": [
    "for a in range(3):\n",
    "    for b in range(3):\n",
    "        for u in range(3):\n",
    "            display(Math(r'\\nabla_{'+cds_label[u]+'}'+\n",
    "                         'g_{'+cds_label[a] + ' ' + cds_label[b] + '}' + '= {}'.format(latex(get_comps(a,b,u))))) "
   ]
  },
  {
   "cell_type": "markdown",
   "metadata": {},
   "source": [
    "So all the terms are zero."
   ]
  }
 ],
 "metadata": {
  "kernelspec": {
   "display_name": "Python 3",
   "language": "python",
   "name": "python3"
  },
  "language_info": {
   "codemirror_mode": {
    "name": "ipython",
    "version": 3
   },
   "file_extension": ".py",
   "mimetype": "text/x-python",
   "name": "python",
   "nbconvert_exporter": "python",
   "pygments_lexer": "ipython3",
   "version": "3.6.6"
  }
 },
 "nbformat": 4,
 "nbformat_minor": 2
}
