{
 "cells": [
  {
   "cell_type": "code",
   "execution_count": 2,
   "metadata": {},
   "outputs": [],
   "source": [
    "import sympy\n",
    "import numpy as np\n",
    "sympy.init_printing()"
   ]
  },
  {
   "cell_type": "code",
   "execution_count": 2,
   "metadata": {},
   "outputs": [],
   "source": [
    "i = sympy.I\n",
    "z, s1, s2, k = sympy.symbols('z s_1 s_2 k')"
   ]
  },
  {
   "cell_type": "markdown",
   "metadata": {},
   "source": [
    "# Define Function"
   ]
  },
  {
   "cell_type": "code",
   "execution_count": 3,
   "metadata": {},
   "outputs": [
    {
     "data": {
      "image/png": "[encoded data removed]",
      "text/latex": [
       "$$\\frac{z^{6} + 2 z^{4} + z^{2}}{\\left(- s_{2} + z\\right)^{5}}$$"
      ],
      "text/plain": [
       " 6      4    2\n",
       "z  + 2⋅z  + z \n",
       "──────────────\n",
       "           5  \n",
       "  (-s₂ + z)   "
      ]
     },
     "execution_count": 3,
     "metadata": {},
     "output_type": "execute_result"
    }
   ],
   "source": [
    "f = (z**2+2*z**4+z**6)/(z-s2)**5\n",
    "f"
   ]
  },
  {
   "cell_type": "markdown",
   "metadata": {},
   "source": [
    "# Take Derivative"
   ]
  },
  {
   "cell_type": "code",
   "execution_count": 4,
   "metadata": {},
   "outputs": [
    {
     "data": {
      "image/png": "[encoded data removed]",
      "text/latex": [
       "$$- \\frac{24}{\\left(s_{2} - z\\right)^{5}} \\left(15 z^{2} + \\frac{70 z^{2}}{\\left(s_{2} - z\\right)^{4}} \\left(z^{4} + 2 z^{2} + 1\\right) + \\frac{20 z \\left(5 z^{2} + 2\\right)}{s_{2} - z} + \\frac{70 z}{\\left(s_{2} - z\\right)^{3}} \\left(3 z^{4} + 4 z^{2} + 1\\right) + 2 + \\frac{15}{\\left(s_{2} - z\\right)^{2}} \\left(15 z^{4} + 12 z^{2} + 1\\right)\\right)$$"
      ],
      "text/plain": [
       "    ⎛            2 ⎛ 4      2    ⎞        ⎛   2    ⎞        ⎛   4      2    ⎞ \n",
       "    ⎜    2   70⋅z ⋅⎝z  + 2⋅z  + 1⎠   20⋅z⋅⎝5⋅z  + 2⎠   70⋅z⋅⎝3⋅z  + 4⋅z  + 1⎠ \n",
       "-24⋅⎜15⋅z  + ───────────────────── + ─────────────── + ────────────────────── \n",
       "    ⎜                      4              s₂ - z                     3        \n",
       "    ⎝              (s₂ - z)                                  (s₂ - z)         \n",
       "──────────────────────────────────────────────────────────────────────────────\n",
       "                                                         5                    \n",
       "                                                 (s₂ - z)                     \n",
       "\n",
       "         ⎛    4       2    ⎞⎞ \n",
       "      15⋅⎝15⋅z  + 12⋅z  + 1⎠⎟ \n",
       "+ 2 + ──────────────────────⎟ \n",
       "                    2       ⎟ \n",
       "            (s₂ - z)        ⎠ \n",
       "──────────────────────────────\n",
       "                              \n",
       "                              "
      ]
     },
     "execution_count": 4,
     "metadata": {},
     "output_type": "execute_result"
    }
   ],
   "source": [
    "result  = sympy.diff(f, z, 4)\n",
    "result"
   ]
  },
  {
   "cell_type": "markdown",
   "metadata": {},
   "source": [
    "# Enter in Parameters"
   ]
  },
  {
   "cell_type": "code",
   "execution_count": 5,
   "metadata": {},
   "outputs": [
    {
     "data": {
      "image/png": "[encoded data removed]",
      "text/latex": [
       "$$- \\frac{\\pi k^{4} \\left(k^{2} + 4\\right)}{32 \\sqrt{\\frac{1}{k^{2}} \\left(- k^{2} + 1\\right)} \\left(k^{6} - 3 k^{4} + 3 k^{2} - 1\\right)}$$"
      ],
      "text/plain": [
       "                 4 ⎛ 2    ⎞               \n",
       "             -π⋅k ⋅⎝k  + 4⎠               \n",
       "──────────────────────────────────────────\n",
       "         __________                       \n",
       "        ╱    2                            \n",
       "       ╱  - k  + 1  ⎛ 6      4      2    ⎞\n",
       "32⋅   ╱   ──────── ⋅⎝k  - 3⋅k  + 3⋅k  - 1⎠\n",
       "     ╱        2                           \n",
       "   ╲╱        k                            "
      ]
     },
     "execution_count": 5,
     "metadata": {},
     "output_type": "execute_result"
    }
   ],
   "source": [
    "root1 = i*(sympy.sqrt((1/k**2)-1)-(1/k))\n",
    "root2 = i*(-sympy.sqrt((1/k**2)-1)-(1/k))\n",
    "r = sympy.simplify(result.subs([(z, root1), (s2, root2)]))\n",
    "r * 2*(sympy.pi)*i/(sympy.factorial(4))"
   ]
  }
 ],
 "metadata": {
  "kernelspec": {
   "display_name": "Python 3",
   "language": "python",
   "name": "python3"
  },
  "language_info": {
   "codemirror_mode": {
    "name": "ipython",
    "version": 3
   },
   "file_extension": ".py",
   "mimetype": "text/x-python",
   "name": "python",
   "nbconvert_exporter": "python",
   "pygments_lexer": "ipython3",
   "version": "3.6.5"
  }
 },
 "nbformat": 4,
 "nbformat_minor": 2
}
