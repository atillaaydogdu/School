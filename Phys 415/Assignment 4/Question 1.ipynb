{
 "cells": [
  {
   "cell_type": "markdown",
   "metadata": {},
   "source": [
    "<h1 id=\"tocheading\">Table of Contents and Notebook Setup</h1>\n",
    "<div id=\"toc\"></div>"
   ]
  },
  {
   "cell_type": "code",
   "execution_count": 1,
   "metadata": {},
   "outputs": [
    {
     "data": {
      "application/javascript": [
       "$.getScript('https://kmahelona.github.io/ipython_notebook_goodies/ipython_notebook_toc.js')"
      ],
      "text/plain": [
       "<IPython.core.display.Javascript object>"
      ]
     },
     "metadata": {},
     "output_type": "display_data"
    }
   ],
   "source": [
    "%%javascript\n",
    "$.getScript('https://kmahelona.github.io/ipython_notebook_goodies/ipython_notebook_toc.js')"
   ]
  },
  {
   "cell_type": "code",
   "execution_count": 2,
   "metadata": {},
   "outputs": [],
   "source": [
    "import sympy as smp\n",
    "from sympy.abc import theta, phi\n",
    "from sympy import *\n",
    "from sympy import trigsimp\n",
    "import numpy as np\n",
    "from IPython.display import display, Math\n",
    "smp.init_printing()"
   ]
  },
  {
   "cell_type": "code",
   "execution_count": 3,
   "metadata": {},
   "outputs": [],
   "source": [
    "mu, phi = smp.symbols('mu phi')\n",
    "cds = [mu, phi]\n",
    "cds_label = [r'\\mu', r'\\phi']"
   ]
  },
  {
   "cell_type": "markdown",
   "metadata": {},
   "source": [
    "# Calculation of Christofel Symbols"
   ]
  },
  {
   "cell_type": "markdown",
   "metadata": {},
   "source": [
    "This function is written to return what we got by hand."
   ]
  },
  {
   "cell_type": "code",
   "execution_count": 4,
   "metadata": {},
   "outputs": [],
   "source": [
    "def get_christofel(a, b, u):\n",
    "    if (u is 0 and a is 1 and b is 1):\n",
    "        return smp.sinh(2*mu)/2\n",
    "    elif (u is 1 and a is 1 and b is 0):\n",
    "        return smp.tanh(mu)\n",
    "    elif (u is 1 and a is 0 and b is 1):\n",
    "        return smp.tanh(mu)\n",
    "    else:\n",
    "        return 0"
   ]
  },
  {
   "cell_type": "markdown",
   "metadata": {},
   "source": [
    "## Print Christoffel Symbols"
   ]
  },
  {
   "cell_type": "markdown",
   "metadata": {},
   "source": [
    "Print and store Christofel symbols in a 3D array."
   ]
  },
  {
   "cell_type": "code",
   "execution_count": 5,
   "metadata": {},
   "outputs": [
    {
     "data": {
      "text/latex": [
       "$$\\Gamma^{\\mu}_{\\mu \\mu} = 0$$"
      ],
      "text/plain": [
       "<IPython.core.display.Math object>"
      ]
     },
     "metadata": {},
     "output_type": "display_data"
    },
    {
     "data": {
      "text/latex": [
       "$$\\Gamma^{\\phi}_{\\mu \\mu} = 0$$"
      ],
      "text/plain": [
       "<IPython.core.display.Math object>"
      ]
     },
     "metadata": {},
     "output_type": "display_data"
    },
    {
     "data": {
      "text/latex": [
       "$$\\Gamma^{\\mu}_{\\mu \\phi} = 0$$"
      ],
      "text/plain": [
       "<IPython.core.display.Math object>"
      ]
     },
     "metadata": {},
     "output_type": "display_data"
    },
    {
     "data": {
      "text/latex": [
       "$$\\Gamma^{\\phi}_{\\mu \\phi} = \\tanh{\\left (\\mu \\right )}$$"
      ],
      "text/plain": [
       "<IPython.core.display.Math object>"
      ]
     },
     "metadata": {},
     "output_type": "display_data"
    },
    {
     "data": {
      "text/latex": [
       "$$\\Gamma^{\\mu}_{\\phi \\mu} = 0$$"
      ],
      "text/plain": [
       "<IPython.core.display.Math object>"
      ]
     },
     "metadata": {},
     "output_type": "display_data"
    },
    {
     "data": {
      "text/latex": [
       "$$\\Gamma^{\\phi}_{\\phi \\mu} = \\tanh{\\left (\\mu \\right )}$$"
      ],
      "text/plain": [
       "<IPython.core.display.Math object>"
      ]
     },
     "metadata": {},
     "output_type": "display_data"
    },
    {
     "data": {
      "text/latex": [
       "$$\\Gamma^{\\mu}_{\\phi \\phi} = \\frac{1}{2} \\sinh{\\left (2 \\mu \\right )}$$"
      ],
      "text/plain": [
       "<IPython.core.display.Math object>"
      ]
     },
     "metadata": {},
     "output_type": "display_data"
    },
    {
     "data": {
      "text/latex": [
       "$$\\Gamma^{\\phi}_{\\phi \\phi} = 0$$"
      ],
      "text/plain": [
       "<IPython.core.display.Math object>"
      ]
     },
     "metadata": {},
     "output_type": "display_data"
    }
   ],
   "source": [
    "christ_array = np.empty((2,2,2), dtype=object)\n",
    "for a in range(2):\n",
    "    for b in range(2):\n",
    "        for u in range(2):\n",
    "            christ_array[u][a][b] = get_christofel(a,b,u)\n",
    "            display(Math(r'\\Gamma^{'+cds_label[u]+'}_{'+cds_label[a]+ ' '+\n",
    "                         cds_label[b]+'} = '+ r'{}'.format(latex(get_christofel(a,b,u))))), "
   ]
  },
  {
   "cell_type": "markdown",
   "metadata": {},
   "source": [
    "# Obtain the Riemann Tensor Components"
   ]
  },
  {
   "cell_type": "markdown",
   "metadata": {},
   "source": [
    "## Define the Riemann Tensor"
   ]
  },
  {
   "cell_type": "code",
   "execution_count": 6,
   "metadata": {},
   "outputs": [],
   "source": [
    "def R_Tensor(u,v,a,b):\n",
    "    \n",
    "    term_1 = diff(christ_array[u][b][v], cds[a])\n",
    "    term_2 = diff(christ_array[u][a][v], cds[b])\n",
    "    \n",
    "    term_3 = 0\n",
    "    for i in range(2):\n",
    "        term_3 += christ_array[u][a][i]*christ_array[i][b][v]\n",
    "    \n",
    "    term_4 = 0\n",
    "    for i in range(2):\n",
    "        term_4 += christ_array[u][b][i]*christ_array[i][a][v]\n",
    "    \n",
    "    return smp.simplify(term_1 - term_2 + term_3 - term_4)\n",
    "    "
   ]
  },
  {
   "cell_type": "markdown",
   "metadata": {},
   "source": [
    "## Print the Terms"
   ]
  },
  {
   "cell_type": "markdown",
   "metadata": {},
   "source": [
    "Print all the terms:"
   ]
  },
  {
   "cell_type": "code",
   "execution_count": 7,
   "metadata": {},
   "outputs": [
    {
     "data": {
      "text/latex": [
       "$${R^{\\mu}}_{\\mu\\mu\\mu}= 0$$"
      ],
      "text/plain": [
       "<IPython.core.display.Math object>"
      ]
     },
     "metadata": {},
     "output_type": "display_data"
    },
    {
     "data": {
      "text/latex": [
       "$${R^{\\mu}}_{\\phi\\mu\\mu}= 0$$"
      ],
      "text/plain": [
       "<IPython.core.display.Math object>"
      ]
     },
     "metadata": {},
     "output_type": "display_data"
    },
    {
     "data": {
      "text/latex": [
       "$${R^{\\phi}}_{\\mu\\mu\\mu}= 0$$"
      ],
      "text/plain": [
       "<IPython.core.display.Math object>"
      ]
     },
     "metadata": {},
     "output_type": "display_data"
    },
    {
     "data": {
      "text/latex": [
       "$${R^{\\phi}}_{\\phi\\mu\\mu}= 0$$"
      ],
      "text/plain": [
       "<IPython.core.display.Math object>"
      ]
     },
     "metadata": {},
     "output_type": "display_data"
    },
    {
     "data": {
      "text/latex": [
       "$${R^{\\mu}}_{\\mu\\mu\\phi}= 0$$"
      ],
      "text/plain": [
       "<IPython.core.display.Math object>"
      ]
     },
     "metadata": {},
     "output_type": "display_data"
    },
    {
     "data": {
      "text/latex": [
       "$${R^{\\mu}}_{\\phi\\mu\\phi}= - \\frac{1}{2} \\sinh{\\left (2 \\mu \\right )} \\tanh{\\left (\\mu \\right )} + \\cosh{\\left (2 \\mu \\right )}$$"
      ],
      "text/plain": [
       "<IPython.core.display.Math object>"
      ]
     },
     "metadata": {},
     "output_type": "display_data"
    },
    {
     "data": {
      "text/latex": [
       "$${R^{\\phi}}_{\\mu\\mu\\phi}= 1$$"
      ],
      "text/plain": [
       "<IPython.core.display.Math object>"
      ]
     },
     "metadata": {},
     "output_type": "display_data"
    },
    {
     "data": {
      "text/latex": [
       "$${R^{\\phi}}_{\\phi\\mu\\phi}= 0$$"
      ],
      "text/plain": [
       "<IPython.core.display.Math object>"
      ]
     },
     "metadata": {},
     "output_type": "display_data"
    },
    {
     "data": {
      "text/latex": [
       "$${R^{\\mu}}_{\\mu\\phi\\mu}= 0$$"
      ],
      "text/plain": [
       "<IPython.core.display.Math object>"
      ]
     },
     "metadata": {},
     "output_type": "display_data"
    },
    {
     "data": {
      "text/latex": [
       "$${R^{\\mu}}_{\\phi\\phi\\mu}= \\frac{1}{2} \\sinh{\\left (2 \\mu \\right )} \\tanh{\\left (\\mu \\right )} - \\cosh{\\left (2 \\mu \\right )}$$"
      ],
      "text/plain": [
       "<IPython.core.display.Math object>"
      ]
     },
     "metadata": {},
     "output_type": "display_data"
    },
    {
     "data": {
      "text/latex": [
       "$${R^{\\phi}}_{\\mu\\phi\\mu}= -1$$"
      ],
      "text/plain": [
       "<IPython.core.display.Math object>"
      ]
     },
     "metadata": {},
     "output_type": "display_data"
    },
    {
     "data": {
      "text/latex": [
       "$${R^{\\phi}}_{\\phi\\phi\\mu}= 0$$"
      ],
      "text/plain": [
       "<IPython.core.display.Math object>"
      ]
     },
     "metadata": {},
     "output_type": "display_data"
    },
    {
     "data": {
      "text/latex": [
       "$${R^{\\mu}}_{\\mu\\phi\\phi}= 0$$"
      ],
      "text/plain": [
       "<IPython.core.display.Math object>"
      ]
     },
     "metadata": {},
     "output_type": "display_data"
    },
    {
     "data": {
      "text/latex": [
       "$${R^{\\mu}}_{\\phi\\phi\\phi}= 0$$"
      ],
      "text/plain": [
       "<IPython.core.display.Math object>"
      ]
     },
     "metadata": {},
     "output_type": "display_data"
    },
    {
     "data": {
      "text/latex": [
       "$${R^{\\phi}}_{\\mu\\phi\\phi}= 0$$"
      ],
      "text/plain": [
       "<IPython.core.display.Math object>"
      ]
     },
     "metadata": {},
     "output_type": "display_data"
    },
    {
     "data": {
      "text/latex": [
       "$${R^{\\phi}}_{\\phi\\phi\\phi}= 0$$"
      ],
      "text/plain": [
       "<IPython.core.display.Math object>"
      ]
     },
     "metadata": {},
     "output_type": "display_data"
    }
   ],
   "source": [
    "for a in range(2):\n",
    "    for b in range(2):\n",
    "        for u in range(2):\n",
    "            for v in range(2):\n",
    "                display(Math(r'{R^{'+cds_label[u]+'}'+\n",
    "                         '}_{'+cds_label[v] + cds_label[a] + cds_label[b] + '}' + '= {}'.format(latex(R_Tensor(u,v,a,b))))) "
   ]
  },
  {
   "cell_type": "markdown",
   "metadata": {},
   "source": [
    "These terms match up exactly with what we calculated if we note that.\n",
    "\n",
    "$$-\\frac{1}{2}\\sinh(2\\mu)\\tanh(\\mu)+\\cosh(2\\mu)=\\cosh^2(\\mu) $$\n",
    "\n",
    "(As a matter of fact, I used this as a consistency check and caught a mistake I made in my handwritten work)."
   ]
  }
 ],
 "metadata": {
  "kernelspec": {
   "display_name": "Python 3",
   "language": "python",
   "name": "python3"
  },
  "language_info": {
   "codemirror_mode": {
    "name": "ipython",
    "version": 3
   },
   "file_extension": ".py",
   "mimetype": "text/x-python",
   "name": "python",
   "nbconvert_exporter": "python",
   "pygments_lexer": "ipython3",
   "version": "3.6.6"
  }
 },
 "nbformat": 4,
 "nbformat_minor": 2
}
