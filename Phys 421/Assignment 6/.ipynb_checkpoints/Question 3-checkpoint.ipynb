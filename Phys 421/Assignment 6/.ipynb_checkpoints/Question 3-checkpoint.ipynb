{
 "cells": [
  {
   "cell_type": "markdown",
   "metadata": {},
   "source": [
    "# Ising Model in 2 Dimensions"
   ]
  },
  {
   "cell_type": "code",
   "execution_count": 1,
   "metadata": {},
   "outputs": [],
   "source": [
    "import numpy as np\n",
    "import matplotlib.pyplot as plt\n",
    "import pandas as pd"
   ]
  },
  {
   "cell_type": "markdown",
   "metadata": {},
   "source": [
    "This specifies the sizeof the lattice used for simulation; in this case we are using a 50x50 lattice."
   ]
  },
  {
   "cell_type": "code",
   "execution_count": 2,
   "metadata": {},
   "outputs": [],
   "source": [
    "size = 50"
   ]
  },
  {
   "cell_type": "markdown",
   "metadata": {},
   "source": [
    "Creates the lattices used for simulation. The first lattice has more -1 values initially and the second lattice has more +1 values initially. We shall see how this effects the final equilibrium- specifically when there are two stable branches."
   ]
  },
  {
   "cell_type": "code",
   "execution_count": 3,
   "metadata": {},
   "outputs": [],
   "source": [
    "lattice_n = np.random.random((size,size))\n",
    "for i in range(size):\n",
    "    for j in range(size):\n",
    "        if lattice_n[i,j]>=0.7:\n",
    "            lattice_n[i,j]=1\n",
    "        if lattice_n[i,j]<0.7:\n",
    "            lattice_n[i,j]=-1\n",
    "            \n",
    "lattice_p = np.random.random((size,size))\n",
    "for i in range(size):\n",
    "    for j in range(size):\n",
    "        if lattice_p[i,j]>=0.3:\n",
    "            lattice_p[i,j]=1\n",
    "        if lattice_p[i,j]<0.3:\n",
    "            lattice_p[i,j]=-1"
   ]
  },
  {
   "cell_type": "markdown",
   "metadata": {},
   "source": [
    "A function used to sum over all the $\\sigma$ values. Despite being called \"get_mag\", it does not normalize by the number of points; that is done elsewhere."
   ]
  },
  {
   "cell_type": "code",
   "execution_count": 4,
   "metadata": {},
   "outputs": [],
   "source": [
    "def get_mag(arr):\n",
    "    tot = sum(sum(arr))\n",
    "    return tot           "
   ]
  },
  {
   "cell_type": "markdown",
   "metadata": {},
   "source": [
    "Compute one terms in the sum\n",
    "\n",
    "$$-J \\sum_{<i,j>} \\sigma_i \\sigma_j$$\n",
    "\n",
    "and takes into account boundary conditions when there is no nearest neighbour (on the sides of the lattice.)"
   ]
  },
  {
   "cell_type": "code",
   "execution_count": 6,
   "metadata": {},
   "outputs": [],
   "source": [
    "def compute_nn(arr, x, y):\n",
    "    \n",
    "    if x>=size or y>=size or x<0 or y<0:\n",
    "        return 0\n",
    "    \n",
    "    pnt = arr[x,y]\n",
    "    contrib = 0\n",
    "    \n",
    "    if x>0:\n",
    "        contrib += pnt*arr[x-1,y]\n",
    "    if x<size-1:\n",
    "        contrib += pnt*arr[x+1,y]\n",
    "    if y>0:\n",
    "        contrib += pnt*arr[x,y-1]\n",
    "    if y<size-1:\n",
    "        contrib += pnt*arr[x,y+1]\n",
    "    return -contrib\n",
    "\n",
    "def get_delta_E(arr, new_arr, x, y):\n",
    "    \n",
    "    e_init = 2*compute_nn(arr, x, y)    \n",
    "    e_fin = 2*compute_nn(new_arr, x, y)\n",
    "                  \n",
    "    return e_fin-e_init"
   ]
  },
  {
   "cell_type": "markdown",
   "metadata": {},
   "source": [
    "This function swaps one of the spins on the lattice at random and then computes the change in energy. As discussed in class:\n",
    "\n",
    "If $\\Delta E \\leq 0$ then we accept the new state\n",
    "\n",
    "If $\\Delta E > 0$ then we accept the new state with probability $e^{-\\beta \\Delta E}$."
   ]
  },
  {
   "cell_type": "code",
   "execution_count": 8,
   "metadata": {},
   "outputs": [],
   "source": [
    "def time_step(arr, BJ):\n",
    "    \n",
    "    pnt_swap = (np.random.randint(0,size), np.random.randint(0,size))\n",
    "    new_arr = arr.copy(); new_arr[pnt_swap[0], pnt_swap[1]] *= -1\n",
    "    \n",
    "    delta_E = get_delta_E(arr, new_arr, pnt_swap[0], pnt_swap[1])\n",
    "    \n",
    "    if delta_E <= 0:\n",
    "        return new_arr\n",
    "    \n",
    "    if delta_E>0:\n",
    "        accept_prob = np.exp(-BJ*delta_E)\n",
    "        a = np.random.random()\n",
    "        if a < accept_prob:\n",
    "            return new_arr\n",
    "        else:\n",
    "            return arr"
   ]
  },
  {
   "cell_type": "markdown",
   "metadata": {},
   "source": [
    "This function gives time evolution; \n",
    "\n",
    "<ul>\n",
    "  <li>Computes Magnetization of Lattice</li>\n",
    "  <li>Does the spin flip (one time step) and checks for the acceptance of the new state</li>\n",
    "  <li>These two steps are repeated $N$ times over, to give and array of the magnetization $m$ values.</li>\n",
    "</ul>"
   ]
  },
  {
   "cell_type": "code",
   "execution_count": 9,
   "metadata": {},
   "outputs": [],
   "source": [
    "def time_evol(arr, BJ, N):\n",
    "    mag = np.zeros(N)\n",
    "    for i in range(N):\n",
    "        arr = time_step(arr, BJ)\n",
    "        mag[i] = get_mag(arr)\n",
    "    return mag/(size*size)"
   ]
  },
  {
   "cell_type": "code",
   "execution_count": 53,
   "metadata": {},
   "outputs": [],
   "source": [
    "m = time_evol(lattice_p,0.3, 500000)"
   ]
  },
  {
   "cell_type": "code",
   "execution_count": 54,
   "metadata": {},
   "outputs": [
    {
     "data": {
      "image/png": "[encoded data removed]",
      "text/plain": [
       "<Figure size 432x288 with 1 Axes>"
      ]
     },
     "metadata": {},
     "output_type": "display_data"
    }
   ],
   "source": [
    "plt.plot(m)\n",
    "plt.grid()"
   ]
  },
  {
   "cell_type": "code",
   "execution_count": 15,
   "metadata": {},
   "outputs": [],
   "source": [
    "BJs = np.arange(0.1, 2, 0.1)"
   ]
  },
  {
   "cell_type": "markdown",
   "metadata": {},
   "source": [
    "The code Below stores the data obtained in DataFrames because the code takes a long time to run and its safer to store the data in pickles and reload later rather than have to run the code every time."
   ]
  },
  {
   "cell_type": "code",
   "execution_count": 16,
   "metadata": {},
   "outputs": [],
   "source": [
    "df_n = pd.DataFrame(columns = ['BetaJ', 'Array', 'mbar'])\n",
    "df_n['BetaJ']=BJs\n",
    "\n",
    "# This line of code takes a long time to run; only run once then save\n",
    "##################################\n",
    "df_n['Array'] = df_n['BetaJ'].apply(lambda x: time_evol(lattice_n,\n",
    "                                                    x, 500000))\n",
    "##################################\n",
    "\n",
    "df_n.to_pickle(\"data_neg_lattice.pkl\")"
   ]
  },
  {
   "cell_type": "code",
   "execution_count": 17,
   "metadata": {},
   "outputs": [],
   "source": [
    "df_p = pd.DataFrame(columns = ['BetaJ', 'Array', 'mbar'])\n",
    "df_p['BetaJ']=BJs\n",
    "\n",
    "# This line of code takes a long time to run; only run once then saveb\n",
    "##################################\n",
    "df_p['Array'] = df_p['BetaJ'].apply(lambda x: time_evol(lattice_p,\n",
    "                                                    x, 500000))\n",
    "##################################\n",
    "\n",
    "df_p.to_pickle(\"data_pos_lattice.pkl\")"
   ]
  },
  {
   "cell_type": "code",
   "execution_count": 50,
   "metadata": {},
   "outputs": [
    {
     "data": {
      "image/png": "[encoded data removed]",
      "text/plain": [
       "<Figure size 576x360 with 4 Axes>"
      ]
     },
     "metadata": {},
     "output_type": "display_data"
    }
   ],
   "source": [
    "fig, ax = plt.subplots(2,2, figsize=(8,5))\n",
    "\n",
    "ax[0,0].plot(df_n['Array'][0])\n",
    "ax[0,0].plot(df_p['Array'][0])\n",
    "\n",
    "k = 1\n",
    "ax[0,1].plot(df_n['Array'][k])\n",
    "ax[0,1].plot(df_p['Array'][k])\n",
    "\n",
    "[a.grid() for a in ax.ravel()]\n",
    "[a.set_ylabel('Magnetization $m$') for a in ax.ravel()]\n",
    "[a.set_xlabel('Monte Carlo Time Steps') for a in ax.ravel()]\n",
    "\n",
    "fig.tight_layout()\n",
    "plt.show()"
   ]
  },
  {
   "cell_type": "code",
   "execution_count": 52,
   "metadata": {},
   "outputs": [
    {
     "data": {
      "text/html": [
       "<div>\n",
       "<style scoped>\n",
       "    .dataframe tbody tr th:only-of-type {\n",
       "        vertical-align: middle;\n",
       "    }\n",
       "\n",
       "    .dataframe tbody tr th {\n",
       "        vertical-align: top;\n",
       "    }\n",
       "\n",
       "    .dataframe thead th {\n",
       "        text-align: right;\n",
       "    }\n",
       "</style>\n",
       "<table border=\"1\" class=\"dataframe\">\n",
       "  <thead>\n",
       "    <tr style=\"text-align: right;\">\n",
       "      <th></th>\n",
       "      <th>BetaJ</th>\n",
       "      <th>Array</th>\n",
       "      <th>mbar</th>\n",
       "    </tr>\n",
       "  </thead>\n",
       "  <tbody>\n",
       "    <tr>\n",
       "      <th>0</th>\n",
       "      <td>0.1</td>\n",
       "      <td>[0.3944, 0.3936, 0.3928, 0.3936, 0.3944, 0.393...</td>\n",
       "      <td>NaN</td>\n",
       "    </tr>\n",
       "    <tr>\n",
       "      <th>1</th>\n",
       "      <td>0.2</td>\n",
       "      <td>[0.3944, 0.3944, 0.3952, 0.3952, 0.3944, 0.393...</td>\n",
       "      <td>NaN</td>\n",
       "    </tr>\n",
       "    <tr>\n",
       "      <th>2</th>\n",
       "      <td>0.3</td>\n",
       "      <td>[0.3952, 0.396, 0.396, 0.396, 0.396, 0.396, 0....</td>\n",
       "      <td>NaN</td>\n",
       "    </tr>\n",
       "    <tr>\n",
       "      <th>3</th>\n",
       "      <td>0.4</td>\n",
       "      <td>[0.3944, 0.3944, 0.3944, 0.3944, 0.3944, 0.394...</td>\n",
       "      <td>NaN</td>\n",
       "    </tr>\n",
       "    <tr>\n",
       "      <th>4</th>\n",
       "      <td>0.5</td>\n",
       "      <td>[0.3944, 0.3936, 0.3928, 0.3936, 0.3936, 0.393...</td>\n",
       "      <td>NaN</td>\n",
       "    </tr>\n",
       "    <tr>\n",
       "      <th>5</th>\n",
       "      <td>0.6</td>\n",
       "      <td>[0.3944, 0.3952, 0.3952, 0.3944, 0.3952, 0.394...</td>\n",
       "      <td>NaN</td>\n",
       "    </tr>\n",
       "    <tr>\n",
       "      <th>6</th>\n",
       "      <td>0.7</td>\n",
       "      <td>[0.3936, 0.3936, 0.3944, 0.3944, 0.3936, 0.394...</td>\n",
       "      <td>NaN</td>\n",
       "    </tr>\n",
       "    <tr>\n",
       "      <th>7</th>\n",
       "      <td>0.8</td>\n",
       "      <td>[0.3944, 0.3952, 0.3952, 0.3952, 0.396, 0.396,...</td>\n",
       "      <td>NaN</td>\n",
       "    </tr>\n",
       "    <tr>\n",
       "      <th>8</th>\n",
       "      <td>0.9</td>\n",
       "      <td>[0.3936, 0.3928, 0.3936, 0.3944, 0.3936, 0.392...</td>\n",
       "      <td>NaN</td>\n",
       "    </tr>\n",
       "    <tr>\n",
       "      <th>9</th>\n",
       "      <td>1.0</td>\n",
       "      <td>[0.3944, 0.3952, 0.3952, 0.396, 0.3952, 0.396,...</td>\n",
       "      <td>NaN</td>\n",
       "    </tr>\n",
       "    <tr>\n",
       "      <th>10</th>\n",
       "      <td>1.1</td>\n",
       "      <td>[0.3952, 0.3944, 0.3944, 0.3944, 0.3944, 0.395...</td>\n",
       "      <td>NaN</td>\n",
       "    </tr>\n",
       "    <tr>\n",
       "      <th>11</th>\n",
       "      <td>1.2</td>\n",
       "      <td>[0.3944, 0.3944, 0.3952, 0.3944, 0.3944, 0.394...</td>\n",
       "      <td>NaN</td>\n",
       "    </tr>\n",
       "    <tr>\n",
       "      <th>12</th>\n",
       "      <td>1.3</td>\n",
       "      <td>[0.3944, 0.3952, 0.3952, 0.3952, 0.3952, 0.395...</td>\n",
       "      <td>NaN</td>\n",
       "    </tr>\n",
       "    <tr>\n",
       "      <th>13</th>\n",
       "      <td>1.4</td>\n",
       "      <td>[0.3944, 0.3944, 0.3944, 0.3944, 0.3944, 0.394...</td>\n",
       "      <td>NaN</td>\n",
       "    </tr>\n",
       "    <tr>\n",
       "      <th>14</th>\n",
       "      <td>1.5</td>\n",
       "      <td>[0.3944, 0.3936, 0.3936, 0.3936, 0.3944, 0.394...</td>\n",
       "      <td>NaN</td>\n",
       "    </tr>\n",
       "    <tr>\n",
       "      <th>15</th>\n",
       "      <td>1.6</td>\n",
       "      <td>[0.3944, 0.3952, 0.396, 0.396, 0.396, 0.396, 0...</td>\n",
       "      <td>NaN</td>\n",
       "    </tr>\n",
       "    <tr>\n",
       "      <th>16</th>\n",
       "      <td>1.7</td>\n",
       "      <td>[0.3944, 0.3936, 0.3936, 0.3936, 0.3944, 0.395...</td>\n",
       "      <td>NaN</td>\n",
       "    </tr>\n",
       "    <tr>\n",
       "      <th>17</th>\n",
       "      <td>1.8</td>\n",
       "      <td>[0.3944, 0.3944, 0.3944, 0.3936, 0.3928, 0.392...</td>\n",
       "      <td>NaN</td>\n",
       "    </tr>\n",
       "    <tr>\n",
       "      <th>18</th>\n",
       "      <td>1.9</td>\n",
       "      <td>[0.3952, 0.3952, 0.3952, 0.3944, 0.3952, 0.395...</td>\n",
       "      <td>NaN</td>\n",
       "    </tr>\n",
       "  </tbody>\n",
       "</table>\n",
       "</div>"
      ],
      "text/plain": [
       "    BetaJ                                              Array mbar\n",
       "0     0.1  [0.3944, 0.3936, 0.3928, 0.3936, 0.3944, 0.393...  NaN\n",
       "1     0.2  [0.3944, 0.3944, 0.3952, 0.3952, 0.3944, 0.393...  NaN\n",
       "2     0.3  [0.3952, 0.396, 0.396, 0.396, 0.396, 0.396, 0....  NaN\n",
       "3     0.4  [0.3944, 0.3944, 0.3944, 0.3944, 0.3944, 0.394...  NaN\n",
       "4     0.5  [0.3944, 0.3936, 0.3928, 0.3936, 0.3936, 0.393...  NaN\n",
       "5     0.6  [0.3944, 0.3952, 0.3952, 0.3944, 0.3952, 0.394...  NaN\n",
       "6     0.7  [0.3936, 0.3936, 0.3944, 0.3944, 0.3936, 0.394...  NaN\n",
       "7     0.8  [0.3944, 0.3952, 0.3952, 0.3952, 0.396, 0.396,...  NaN\n",
       "8     0.9  [0.3936, 0.3928, 0.3936, 0.3944, 0.3936, 0.392...  NaN\n",
       "9     1.0  [0.3944, 0.3952, 0.3952, 0.396, 0.3952, 0.396,...  NaN\n",
       "10    1.1  [0.3952, 0.3944, 0.3944, 0.3944, 0.3944, 0.395...  NaN\n",
       "11    1.2  [0.3944, 0.3944, 0.3952, 0.3944, 0.3944, 0.394...  NaN\n",
       "12    1.3  [0.3944, 0.3952, 0.3952, 0.3952, 0.3952, 0.395...  NaN\n",
       "13    1.4  [0.3944, 0.3944, 0.3944, 0.3944, 0.3944, 0.394...  NaN\n",
       "14    1.5  [0.3944, 0.3936, 0.3936, 0.3936, 0.3944, 0.394...  NaN\n",
       "15    1.6  [0.3944, 0.3952, 0.396, 0.396, 0.396, 0.396, 0...  NaN\n",
       "16    1.7  [0.3944, 0.3936, 0.3936, 0.3936, 0.3944, 0.395...  NaN\n",
       "17    1.8  [0.3944, 0.3944, 0.3944, 0.3936, 0.3928, 0.392...  NaN\n",
       "18    1.9  [0.3952, 0.3952, 0.3952, 0.3944, 0.3952, 0.395...  NaN"
      ]
     },
     "execution_count": 52,
     "metadata": {},
     "output_type": "execute_result"
    }
   ],
   "source": [
    "df_p"
   ]
  },
  {
   "cell_type": "code",
   "execution_count": 58,
   "metadata": {},
   "outputs": [
    {
     "data": {
      "text/plain": [
       "array([-1.,  1.])"
      ]
     },
     "execution_count": 58,
     "metadata": {},
     "output_type": "execute_result"
    }
   ],
   "source": [
    "np.unique(lattice_p)"
   ]
  },
  {
   "cell_type": "code",
   "execution_count": null,
   "metadata": {},
   "outputs": [],
   "source": []
  }
 ],
 "metadata": {
  "kernelspec": {
   "display_name": "Python 3",
   "language": "python",
   "name": "python3"
  },
  "language_info": {
   "codemirror_mode": {
    "name": "ipython",
    "version": 3
   },
   "file_extension": ".py",
   "mimetype": "text/x-python",
   "name": "python",
   "nbconvert_exporter": "python",
   "pygments_lexer": "ipython3",
   "version": "3.6.5"
  }
 },
 "nbformat": 4,
 "nbformat_minor": 2
}
