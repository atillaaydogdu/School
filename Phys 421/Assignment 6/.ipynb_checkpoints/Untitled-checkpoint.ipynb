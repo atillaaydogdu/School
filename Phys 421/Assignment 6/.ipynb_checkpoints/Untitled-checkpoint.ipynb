{
 "cells": [
  {
   "cell_type": "code",
   "execution_count": 1,
   "metadata": {},
   "outputs": [],
   "source": [
    "import numpy as np\n",
    "import matplotlib.pyplot as plt"
   ]
  },
  {
   "cell_type": "code",
   "execution_count": 22,
   "metadata": {},
   "outputs": [],
   "source": [
    "size = 50"
   ]
  },
  {
   "cell_type": "code",
   "execution_count": 3,
   "metadata": {},
   "outputs": [],
   "source": [
    "lattice = np.random.random((size,size))\n",
    "for i in range(size):\n",
    "    for j in range(size):\n",
    "        if lattice[i,j]>=0.5:\n",
    "            lattice[i,j]=1\n",
    "        if lattice[i,j]<0.5:\n",
    "            lattice[i,j]=-1"
   ]
  },
  {
   "cell_type": "code",
   "execution_count": 4,
   "metadata": {},
   "outputs": [],
   "source": [
    "def get_mag(arr):\n",
    "    tot = sum(sum(arr))\n",
    "    return tot           "
   ]
  },
  {
   "cell_type": "code",
   "execution_count": 5,
   "metadata": {},
   "outputs": [],
   "source": [
    "def get_energy(arr):\n",
    "    contrib = 0\n",
    "    for i in range(size):\n",
    "        for j in range(size):\n",
    "            pnt = arr[i,j]\n",
    "            if i>0:\n",
    "                contrib += pnt*arr[i-1,j]\n",
    "            if i<size-1:\n",
    "                contrib += pnt*arr[i+1,j]\n",
    "            if j>0:\n",
    "                contrib += pnt*arr[i,j-1]\n",
    "            if j<size-1:\n",
    "                contrib += pnt*arr[i,j+1]\n",
    "    return -contrib"
   ]
  },
  {
   "cell_type": "code",
   "execution_count": 6,
   "metadata": {},
   "outputs": [
    {
     "data": {
      "text/plain": [
       "array([[ 1.,  1.,  1., ...,  1.,  1., -1.],\n",
       "       [ 1.,  1., -1., ..., -1.,  1., -1.],\n",
       "       [ 1., -1.,  1., ..., -1., -1.,  1.],\n",
       "       ...,\n",
       "       [ 1., -1.,  1., ...,  1., -1.,  1.],\n",
       "       [-1., -1.,  1., ...,  1.,  1., -1.],\n",
       "       [-1., -1., -1., ..., -1.,  1.,  1.]])"
      ]
     },
     "execution_count": 6,
     "metadata": {},
     "output_type": "execute_result"
    }
   ],
   "source": [
    "lattice"
   ]
  },
  {
   "cell_type": "code",
   "execution_count": 7,
   "metadata": {},
   "outputs": [],
   "source": [
    "def compute_nn(arr, x, y):\n",
    "    \n",
    "    if x>=size or y>=size or x<0 or y<0:\n",
    "        return 0\n",
    "    \n",
    "    pnt = arr[x,y]\n",
    "    contrib = 0\n",
    "    \n",
    "    if x>0:\n",
    "        contrib += pnt*arr[x-1,y]\n",
    "    if x<size-1:\n",
    "        contrib += pnt*arr[x+1,y]\n",
    "    if y>0:\n",
    "        contrib += pnt*arr[x,y-1]\n",
    "    if y<size-1:\n",
    "        contrib += pnt*arr[x,y+1]\n",
    "    return -contrib\n",
    "\n",
    "def get_delta_E(arr, new_arr, x, y):\n",
    "    \n",
    "    e_init = float(compute_nn(arr, x, y) + compute_nn(arr, x-1, y) \n",
    "            + compute_nn(arr, x+1, y) + compute_nn(arr, x, y-1)\n",
    "            + compute_nn(arr, x, y+1))\n",
    "            \n",
    "    e_fin = float(compute_nn(new_arr, x, y) + compute_nn(new_arr, x-1, y) \n",
    "            + compute_nn(new_arr, x+1, y) + compute_nn(new_arr, x, y-1)\n",
    "            + compute_nn(new_arr, x, y+1))\n",
    "            \n",
    "    return e_fin-e_init"
   ]
  },
  {
   "cell_type": "code",
   "execution_count": 29,
   "metadata": {},
   "outputs": [],
   "source": [
    "def time_step_diag(arr):\n",
    "    \n",
    "    pnt_swap = (np.random.randint(0,size), np.random.randint(0,size))\n",
    "    new_arr = arr.copy(); new_arr[pnt_swap[0], pnt_swap[1]] *= -1\n",
    "    \n",
    "    delta_E = get_delta_E(arr, new_arr, pnt_swap[0], pnt_swap[1])\n",
    "    \n",
    "    return arr, new_arr, pnt_swap[0], pnt_swap[1], delta_E"
   ]
  },
  {
   "cell_type": "code",
   "execution_count": 32,
   "metadata": {},
   "outputs": [],
   "source": [
    "[arr_old, arr_new, x, y, dE] = time_step_diag(lattice)"
   ]
  },
  {
   "cell_type": "code",
   "execution_count": 8,
   "metadata": {},
   "outputs": [],
   "source": [
    "def time_step(arr, BJ):\n",
    "    \n",
    "    pnt_swap = (np.random.randint(0,size), np.random.randint(0,size))\n",
    "    new_arr = arr.copy(); new_arr[pnt_swap[0], pnt_swap[1]] *= -1\n",
    "    \n",
    "    delta_E = get_delta_E(arr, new_arr, pnt_swap[0], pnt_swap[1])\n",
    "    \n",
    "    if delta_E <= 0:\n",
    "        return new_arr\n",
    "    \n",
    "    if delta_E>0:\n",
    "        accept_prob = np.exp(-BJ*delta_E)\n",
    "        a = np.random.random()\n",
    "        if a < accept_prob:\n",
    "            return new_arr\n",
    "        else:\n",
    "            return arr"
   ]
  },
  {
   "cell_type": "code",
   "execution_count": 9,
   "metadata": {},
   "outputs": [],
   "source": [
    "def time_evol(arr, BJ, N):\n",
    "    mag = np.zeros(N)\n",
    "    for i in range(N):\n",
    "        arr = time_step(arr, BJ)\n",
    "        mag[i] = get_mag(arr)\n",
    "    return mag"
   ]
  },
  {
   "cell_type": "code",
   "execution_count": 25,
   "metadata": {},
   "outputs": [],
   "source": [
    "m = time_evol(lattice,0.1, 500000)"
   ]
  },
  {
   "cell_type": "code",
   "execution_count": 26,
   "metadata": {},
   "outputs": [
    {
     "data": {
      "text/plain": [
       "[<matplotlib.lines.Line2D at 0x2651c3a59e8>]"
      ]
     },
     "execution_count": 26,
     "metadata": {},
     "output_type": "execute_result"
    },
    {
     "data": {
      "image/png": "[encoded data removed]",
      "text/plain": [
       "<Figure size 432x288 with 1 Axes>"
      ]
     },
     "metadata": {},
     "output_type": "display_data"
    }
   ],
   "source": [
    "plt.plot(m)"
   ]
  },
  {
   "cell_type": "code",
   "execution_count": 18,
   "metadata": {},
   "outputs": [
    {
     "data": {
      "text/plain": [
       "-30.0"
      ]
     },
     "execution_count": 18,
     "metadata": {},
     "output_type": "execute_result"
    }
   ],
   "source": [
    "a = np.array([[1,2],[3,4]])\n",
    "b = np.array([[1,5],[3,4]])\n",
    "size = 2\n",
    "get_delta_E(a, b, 0, 1)"
   ]
  },
  {
   "cell_type": "code",
   "execution_count": 54,
   "metadata": {},
   "outputs": [],
   "source": [
    "a = [np.random.random() for i in range(1000)]"
   ]
  },
  {
   "cell_type": "code",
   "execution_count": 55,
   "metadata": {},
   "outputs": [
    {
     "data": {
      "text/plain": [
       "(array([110., 117.,  93., 110.,  86.,  87., 121., 102.,  92.,  82.]),\n",
       " array([0.00271033, 0.10234249, 0.20197464, 0.3016068 , 0.40123896,\n",
       "        0.50087111, 0.60050327, 0.70013542, 0.79976758, 0.89939974,\n",
       "        0.99903189]),\n",
       " <a list of 10 Patch objects>)"
      ]
     },
     "execution_count": 55,
     "metadata": {},
     "output_type": "execute_result"
    },
    {
     "data": {
      "image/png": "[encoded data removed]",
      "text/plain": [
       "<Figure size 432x288 with 1 Axes>"
      ]
     },
     "metadata": {},
     "output_type": "display_data"
    }
   ],
   "source": [
    "plt.hist(a)"
   ]
  },
  {
   "cell_type": "code",
   "execution_count": null,
   "metadata": {},
   "outputs": [],
   "source": []
  }
 ],
 "metadata": {
  "kernelspec": {
   "display_name": "Python 3",
   "language": "python",
   "name": "python3"
  },
  "language_info": {
   "codemirror_mode": {
    "name": "ipython",
    "version": 3
   },
   "file_extension": ".py",
   "mimetype": "text/x-python",
   "name": "python",
   "nbconvert_exporter": "python",
   "pygments_lexer": "ipython3",
   "version": "3.6.5"
  }
 },
 "nbformat": 4,
 "nbformat_minor": 2
}
