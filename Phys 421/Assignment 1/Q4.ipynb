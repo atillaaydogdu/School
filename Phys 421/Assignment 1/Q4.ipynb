{
 "cells": [
  {
   "cell_type": "markdown",
   "metadata": {},
   "source": [
    "# Diffusion of Probability Density"
   ]
  },
  {
   "cell_type": "code",
   "execution_count": 2,
   "metadata": {},
   "outputs": [],
   "source": [
    "import sympy as smp\n",
    "from sympy.abc import theta, phi\n",
    "from sympy import *\n",
    "from sympy import trigsimp\n",
    "import numpy as np\n",
    "from IPython.display import display, Math\n",
    "smp.init_printing()"
   ]
  },
  {
   "cell_type": "code",
   "execution_count": 27,
   "metadata": {},
   "outputs": [],
   "source": [
    "x, t, v, D = smp.symbols(r'x, t, \\bar{v}, D')"
   ]
  },
  {
   "cell_type": "markdown",
   "metadata": {},
   "source": [
    "First define $\\rho$ as\n",
    "\n",
    "$$ \\rho=\\frac{1}{\\sqrt{4 \\pi D t}} e^{\\frac{-(x-\\bar{v}t)^2}{4Dt}} $$\n"
   ]
  },
  {
   "cell_type": "code",
   "execution_count": 28,
   "metadata": {},
   "outputs": [
    {
     "data": {
      "image/png": "[encoded data removed]",
      "text/latex": [
       "$$\\frac{e^{- \\frac{\\left(- \\bar{v} t + x\\right)^{2}}{4 D t}}}{2 \\sqrt{\\pi} \\sqrt{D t}}$$"
      ],
      "text/plain": [
       "                  2 \n",
       " -(-\\bar{v}⋅t + x)  \n",
       " ───────────────────\n",
       "        4⋅D⋅t       \n",
       "ℯ                   \n",
       "────────────────────\n",
       "           _____    \n",
       "    2⋅√π⋅╲╱ D⋅t     "
      ]
     },
     "execution_count": 28,
     "metadata": {},
     "output_type": "execute_result"
    }
   ],
   "source": [
    "p = (1/(smp.sqrt(4*smp.pi*D*t)))*smp.exp(-(x-v*t)**2/(4*D*t))\n",
    "p"
   ]
  },
  {
   "cell_type": "markdown",
   "metadata": {},
   "source": [
    "Now define $j$ as\n",
    "\n",
    "$$j=\\rho\\bar{v}-D\\frac{\\partial \\rho}{\\partial x} $$"
   ]
  },
  {
   "cell_type": "code",
   "execution_count": 29,
   "metadata": {},
   "outputs": [
    {
     "data": {
      "image/png": "[encoded data removed]",
      "text/latex": [
       "$$\\frac{\\bar{v}}{2 \\sqrt{\\pi} \\sqrt{D t}} e^{- \\frac{\\left(- \\bar{v} t + x\\right)^{2}}{4 D t}} + \\frac{e^{- \\frac{\\left(- \\bar{v} t + x\\right)^{2}}{4 D t}}}{8 \\sqrt{\\pi} t \\sqrt{D t}} \\left(- 2 \\bar{v} t + 2 x\\right)$$"
      ],
      "text/plain": [
       "                          2                                           2 \n",
       "         -(-\\bar{v}⋅t + x)                           -(-\\bar{v}⋅t + x)  \n",
       "         ───────────────────                         ───────────────────\n",
       "                4⋅D⋅t                                       4⋅D⋅t       \n",
       "\\bar{v}⋅ℯ                      (-2⋅\\bar{v}⋅t + 2⋅x)⋅ℯ                   \n",
       "──────────────────────────── + ─────────────────────────────────────────\n",
       "               _____                                  _____             \n",
       "        2⋅√π⋅╲╱ D⋅t                          8⋅√π⋅t⋅╲╱ D⋅t              "
      ]
     },
     "execution_count": 29,
     "metadata": {},
     "output_type": "execute_result"
    }
   ],
   "source": [
    "j = p*v-D*diff(p,x)\n",
    "j"
   ]
  },
  {
   "cell_type": "markdown",
   "metadata": {},
   "source": [
    "Now show that \n",
    "\n",
    "$$\\frac{\\partial \\rho}{\\partial t}+\\frac{\\partial j}{\\partial x}=0 $$\n",
    "\n",
    "holds."
   ]
  },
  {
   "cell_type": "code",
   "execution_count": 31,
   "metadata": {},
   "outputs": [
    {
     "data": {
      "image/png": "[encoded data removed]",
      "text/latex": [
       "$$0$$"
      ],
      "text/plain": [
       "0"
      ]
     },
     "execution_count": 31,
     "metadata": {},
     "output_type": "execute_result"
    }
   ],
   "source": [
    "smp.simplify(diff(j,x)+diff(p,t))"
   ]
  }
 ],
 "metadata": {
  "kernelspec": {
   "display_name": "Python 3",
   "language": "python",
   "name": "python3"
  },
  "language_info": {
   "codemirror_mode": {
    "name": "ipython",
    "version": 3
   },
   "file_extension": ".py",
   "mimetype": "text/x-python",
   "name": "python",
   "nbconvert_exporter": "python",
   "pygments_lexer": "ipython3",
   "version": "3.6.6"
  }
 },
 "nbformat": 4,
 "nbformat_minor": 2
}
