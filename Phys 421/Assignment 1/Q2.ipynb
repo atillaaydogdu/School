{
 "cells": [
  {
   "cell_type": "code",
   "execution_count": 1,
   "metadata": {},
   "outputs": [],
   "source": [
    "import sympy as smp\n",
    "from sympy import *\n",
    "from IPython.display import display, Math\n",
    "smp.init_printing()"
   ]
  },
  {
   "cell_type": "code",
   "execution_count": 2,
   "metadata": {},
   "outputs": [],
   "source": [
    "p, q, N = smp.symbols(r'p, q, N')"
   ]
  },
  {
   "cell_type": "markdown",
   "metadata": {},
   "source": [
    "The function \"take_n_deriv\" evaluates\n",
    "\n",
    "$$\\left(p\\frac{\\partial}{\\partial p}\\right)^n (p+q)^N$$\n",
    "\n",
    "and then substitutes in $p=q=1/2$. This is useful, since\n",
    "\n",
    "$$\\bar{{n_1}^n} =\\left(p\\frac{\\partial}{\\partial p}\\right)^n (p+q)^N  $$\n",
    "\n",
    "($n_1$ and $n$ are completely unrelated)"
   ]
  },
  {
   "cell_type": "code",
   "execution_count": 3,
   "metadata": {},
   "outputs": [],
   "source": [
    "def deriv(y):\n",
    "    return p*smp.simplify(diff(y,p))\n",
    "def take_n_deriv(n):\n",
    "    y = (p+q)**N\n",
    "    for i in range(n):\n",
    "        y = deriv(y)\n",
    "    return smp.expand(y.subs({p:S('1/2'), q:S('1/2')}))"
   ]
  },
  {
   "cell_type": "markdown",
   "metadata": {},
   "source": [
    "Solve for $\\bar{m^2}$:"
   ]
  },
  {
   "cell_type": "code",
   "execution_count": 4,
   "metadata": {},
   "outputs": [
    {
     "data": {
      "image/png": "[encoded data removed]",
      "text/latex": [
       "$$N$$"
      ],
      "text/plain": [
       "N"
      ]
     },
     "execution_count": 4,
     "metadata": {},
     "output_type": "execute_result"
    }
   ],
   "source": [
    "smp.expand(4*take_n_deriv(2)-4*N*take_n_deriv(1)+N**2)"
   ]
  },
  {
   "cell_type": "markdown",
   "metadata": {},
   "source": [
    "Solve for $\\bar{m^4}$:"
   ]
  },
  {
   "cell_type": "code",
   "execution_count": 5,
   "metadata": {},
   "outputs": [
    {
     "data": {
      "image/png": "[encoded data removed]",
      "text/latex": [
       "$$3 N^{2} - 2 N$$"
      ],
      "text/plain": [
       "   2      \n",
       "3⋅N  - 2⋅N"
      ]
     },
     "execution_count": 5,
     "metadata": {},
     "output_type": "execute_result"
    }
   ],
   "source": [
    "smp.expand(16*take_n_deriv(4)-32*N*take_n_deriv(3)+24*N**2*take_n_deriv(2)-8*N**3*take_n_deriv(1)+N**4)"
   ]
  }
 ],
 "metadata": {
  "kernelspec": {
   "display_name": "Python 3",
   "language": "python",
   "name": "python3"
  },
  "language_info": {
   "codemirror_mode": {
    "name": "ipython",
    "version": 3
   },
   "file_extension": ".py",
   "mimetype": "text/x-python",
   "name": "python",
   "nbconvert_exporter": "python",
   "pygments_lexer": "ipython3",
   "version": "3.6.5"
  }
 },
 "nbformat": 4,
 "nbformat_minor": 2
}
