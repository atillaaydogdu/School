{
 "cells": [
  {
   "cell_type": "markdown",
   "metadata": {},
   "source": [
    "# Question 2"
   ]
  },
  {
   "cell_type": "code",
   "execution_count": 1,
   "metadata": {},
   "outputs": [],
   "source": [
    "import numpy as np\n",
    "import matplotlib.pyplot as plt\n",
    "from IPython.display import display, Math"
   ]
  },
  {
   "cell_type": "markdown",
   "metadata": {},
   "source": [
    "## Part A"
   ]
  },
  {
   "cell_type": "markdown",
   "metadata": {},
   "source": [
    "The method we will use is known as inverse transform sampling. Suppose the distribution we wish to obtain has a cumulative distribution function $F(x)$. Our goal is to generate random events $X=T(u)$ (where $u$ is uniform between 0 and 1) such that\n",
    "\n",
    "$$F(x) = \\text{Prob}(X<x) = \\text{Prob}(T(u)<x) = \\text{Prob}(u<T^{-1}(x)) = T^{-1}(x) $$\n",
    "\n",
    "This occurs precisely when $T=F^{-1}$. It follows that if we uniform events $u$, plug them into $F^{-1}(u)$ then they will have a probability distribution given by $f(x)$ (where f(x)=F'(x))."
   ]
  },
  {
   "cell_type": "markdown",
   "metadata": {},
   "source": [
    "## Part B"
   ]
  },
  {
   "cell_type": "markdown",
   "metadata": {},
   "source": [
    "We have\n",
    "\n",
    "$$\\bar{s}=\\int_0^1 sw(s)ds = \\int_0^1 2s-2s^2 ds = \\frac{1}{3} $$\n",
    "\n",
    "$$(\\Delta s)^2 = \\bar{(s-\\bar{s})^2} = \\bar{s^2} - \\bar{s}^2 = \\int_0^1 s^2w(s)ds - \\left[ \\int_0^1 sw(s)ds \\right]^2 =  \\int_0^1 2s^2 - 2s^3 ds - \\left(\\frac{1}{3}\\right)^2 = \\frac{1}{18} $$\n",
    "\n",
    "It follows that\n",
    "\n",
    "$$\\boxed{\\bar{s} = \\frac{1}{3} \\hspace{5mm} \\Delta s = \\frac{1}{\\sqrt{18}}} $$"
   ]
  },
  {
   "cell_type": "markdown",
   "metadata": {},
   "source": [
    "## Part C"
   ]
  },
  {
   "cell_type": "markdown",
   "metadata": {},
   "source": [
    "Our probability density function is $w(s)=2-2s$ so our cumulative distribution function is $W(s)=2s-s^2$. The inverse is obtained using\n",
    "\n",
    "$$s^2-2s+W=0 \\implies s=\\frac{2 \\pm \\sqrt{4-4W}}{2} = 1 \\pm \\sqrt{1-W}$$\n",
    "\n",
    "In terms of how we defined things in part a), this gives\n",
    "\n",
    "$$T(u)=1 \\pm \\sqrt{1-u} $$\n",
    "\n",
    "but we must take the negative sign to ensure that, for example $T(0)$ lies in the range $(0, 1)$.\n",
    "\n",
    "$$T(u)=1-\\sqrt{1-u} $$"
   ]
  },
  {
   "cell_type": "code",
   "execution_count": 2,
   "metadata": {},
   "outputs": [],
   "source": [
    "def rand_step():\n",
    "    return 1-np.sqrt(1-np.random.rand())"
   ]
  },
  {
   "cell_type": "markdown",
   "metadata": {},
   "source": [
    "Lets do a plot to make sure these values really are distributed as we calculated above."
   ]
  },
  {
   "cell_type": "code",
   "execution_count": 3,
   "metadata": {},
   "outputs": [
    {
     "data": {
      "image/png": "[encoded data removed]",
      "text/plain": [
       "<Figure size 720x288 with 1 Axes>"
      ]
     },
     "metadata": {},
     "output_type": "display_data"
    }
   ],
   "source": [
    "x = np.array([rand_step() for i in range(100000)])\n",
    "\n",
    "fig, ax = plt.subplots(figsize=(10,4))\n",
    "ax.hist(x, bins=100)\n",
    "ax.set_title(r'Distribution $2s-s$ for 100000 Random Values')\n",
    "ax.set_xlabel('Step Size')\n",
    "ax.set_ylabel('Frequency')\n",
    "plt.show()"
   ]
  },
  {
   "cell_type": "markdown",
   "metadata": {},
   "source": [
    "Now lets produce 500 random walks of 30 steps total."
   ]
  },
  {
   "cell_type": "code",
   "execution_count": 4,
   "metadata": {},
   "outputs": [],
   "source": [
    "def rand_walk(N):\n",
    "    walk = 0\n",
    "    for i in range(N):\n",
    "        walk += rand_step()\n",
    "    return walk"
   ]
  },
  {
   "cell_type": "code",
   "execution_count": 5,
   "metadata": {},
   "outputs": [],
   "source": [
    "N = 30\n",
    "Walkers = 500\n",
    "\n",
    "step_distrib = np.array([rand_walk(N) for i in range(Walkers)])"
   ]
  },
  {
   "cell_type": "markdown",
   "metadata": {},
   "source": [
    "The mean $\\bar{x}$ and variance $\\Delta x$ are given by"
   ]
  },
  {
   "cell_type": "code",
   "execution_count": 6,
   "metadata": {},
   "outputs": [
    {
     "data": {
      "text/latex": [
       "$$\\overline{x}=10.008$$"
      ],
      "text/plain": [
       "<IPython.core.display.Math object>"
      ]
     },
     "metadata": {},
     "output_type": "display_data"
    },
    {
     "data": {
      "text/latex": [
       "$$\\Delta{x}=1.28$$"
      ],
      "text/plain": [
       "<IPython.core.display.Math object>"
      ]
     },
     "metadata": {},
     "output_type": "display_data"
    }
   ],
   "source": [
    "mean = np.mean(step_distrib)\n",
    "std = np.std(step_distrib)\n",
    "\n",
    "display(Math(\"\\overline{x}=\"+str(round(mean, 3))))\n",
    "display(Math(\"\\Delta{x}=\"+str(round(std, 3))))"
   ]
  },
  {
   "cell_type": "markdown",
   "metadata": {},
   "source": [
    "**Theoretical Values**\n",
    "\n",
    "Equation 1.9.3 and 1.9.12 say that $\\bar{x}=N\\bar{s}$ and $\\bar{\\Delta x} = \\sqrt{N} \\bar{\\Delta s}$. This yields\n",
    "\n",
    "$$\\bar{x}=30 \\cdot \\left( \\frac{1}{3} \\right)=10 $$\n",
    "$$ \\bar{\\Delta x} = \\sqrt{30} \\left(\\frac{1}{\\sqrt{18}}\\right) = 1.291 $$\n",
    "\n",
    "Thus the results of the simulation agree completely with the theory."
   ]
  }
 ],
 "metadata": {
  "kernelspec": {
   "display_name": "Python 3",
   "language": "python",
   "name": "python3"
  },
  "language_info": {
   "codemirror_mode": {
    "name": "ipython",
    "version": 3
   },
   "file_extension": ".py",
   "mimetype": "text/x-python",
   "name": "python",
   "nbconvert_exporter": "python",
   "pygments_lexer": "ipython3",
   "version": "3.6.5"
  }
 },
 "nbformat": 4,
 "nbformat_minor": 2
}
