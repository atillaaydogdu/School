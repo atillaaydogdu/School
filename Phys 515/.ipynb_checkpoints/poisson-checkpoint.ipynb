{
 "cells": [
  {
   "cell_type": "markdown",
   "metadata": {},
   "source": [
    "# Poisson confidence intevals"
   ]
  },
  {
   "cell_type": "code",
   "execution_count": null,
   "metadata": {},
   "outputs": [],
   "source": [
    "import numpy as np\n",
    "from scipy import stats\n",
    "\n",
    "%matplotlib inline\n",
    "import matplotlib.pyplot as plt"
   ]
  },
  {
   "cell_type": "markdown",
   "metadata": {},
   "source": [
    "Change alpha and beta below to find the corresponding confidence interval on $\\nu$ given $n$ observed events"
   ]
  },
  {
   "cell_type": "code",
   "execution_count": null,
   "metadata": {},
   "outputs": [],
   "source": [
    "alpha=0.05; beta=0.05\n",
    "lower=0; upper=0\n",
    "lowlim=[0]; uplim=[]\n",
    "for nu in np.arange(0.,25.,0.002):\n",
    "    if (1-stats.poisson.cdf(lower,nu)>alpha):\n",
    "        lowlim.append(nu)\n",
    "        lower+=1\n",
    "    if (stats.poisson.cdf(upper,nu)<beta):\n",
    "        uplim.append(nu)\n",
    "        upper+=1\n",
    "print(\" n  lower  upper\")\n",
    "for n in range(11):\n",
    "    print(\"{0:2d} {1:5.2f}  {2:5.2f}\".format(n,lowlim[n],uplim[n]))"
   ]
  },
  {
   "cell_type": "code",
   "execution_count": null,
   "metadata": {},
   "outputs": [],
   "source": []
  }
 ],
 "metadata": {
  "kernelspec": {
   "display_name": "Python 3",
   "language": "python",
   "name": "python3"
  },
  "language_info": {
   "codemirror_mode": {
    "name": "ipython",
    "version": 3
   },
   "file_extension": ".py",
   "mimetype": "text/x-python",
   "name": "python",
   "nbconvert_exporter": "python",
   "pygments_lexer": "ipython3",
   "version": "3.6.5"
  }
 },
 "nbformat": 4,
 "nbformat_minor": 2
}
