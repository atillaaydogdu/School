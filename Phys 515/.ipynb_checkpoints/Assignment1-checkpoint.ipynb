{
 "cells": [
  {
   "cell_type": "code",
   "execution_count": 2,
   "metadata": {},
   "outputs": [],
   "source": [
    "import numpy as np\n",
    "import matplotlib.pyplot as plt"
   ]
  },
  {
   "cell_type": "markdown",
   "metadata": {},
   "source": [
    "# Question 1"
   ]
  },
  {
   "cell_type": "markdown",
   "metadata": {},
   "source": [
    "## First Order Moments"
   ]
  },
  {
   "cell_type": "markdown",
   "metadata": {},
   "source": [
    "\\begin{align*}\n",
    "E[X] &= E[\\mu_X + \\sigma_A A]\\\\\n",
    "&= E[\\mu_X]+E[\\sigma_A A]\\\\\n",
    "&=\\mu_X + \\sigma_AE[A]\\\\\n",
    "&=\\mu_X\n",
    "\\end{align*}\n",
    "\n",
    "where we used the linearity properties of the expectation value operator and the fact that $E[A]=0$.\n",
    "\n",
    "\\begin{align*}\n",
    "E[Y] &= E[\\mu_Y + \\sigma_A A+\\sigma_B B]\\\\\n",
    "&= E[\\mu_Y]+E[\\sigma_A A]+E[\\sigma_B B]\\\\\n",
    "&=\\mu_Y + \\sigma_AE[A]+\\sigma_B E[B]\\\\\n",
    "&=\\mu_Y\n",
    "\\end{align*}"
   ]
  },
  {
   "cell_type": "markdown",
   "metadata": {},
   "source": [
    "## Second Order Moments"
   ]
  },
  {
   "cell_type": "markdown",
   "metadata": {},
   "source": [
    "\\begin{align*}\n",
    "E[X^2] &= E[\\mu_X^2]+2E[\\mu_X\\sigma_A A] + E[\\sigma_A^2 A^2]\\\\\n",
    "&= \\mu_X^2 + 2\\mu_X\\sigma_A E[A] + \\sigma_A^2 E[A^2]\n",
    "\\end{align*}"
   ]
  },
  {
   "cell_type": "markdown",
   "metadata": {},
   "source": [
    "Now using the fact that $E[A]=0$ and $1 = E[A^2]-E[A]^2 = E[A^2]$ (A is normally distributed with standard deviation 1) we have\n",
    "\n",
    "\\begin{align*}\n",
    "E[X^2] &= \\mu_X^2 + \\sigma_A^2 \\\\\n",
    "&= \\mu_X^2 + \\sigma_A^2\\\\\n",
    "\\end{align*}\n",
    "\n",
    "We also have\n",
    "\n",
    "\\begin{align*}\n",
    "E[Y^2] &= E[\\mu_Y^2+\\sigma_A^2A^2+\\sigma_B^2B^2+2\\mu_Y\\sigma_A A + 2 \\mu_y \\sigma_B B + 2\\sigma_A\\sigma_B A B] \\\\\n",
    "&=\\mu_Y^2+\\sigma_A^2E[A^2]+\\sigma_B^2E[B^2]+2\\mu_y\\sigma_AE[A]+2\\mu_y\\sigma_BE[B]+2\\sigma_A\\sigma_bE[AB]\\\\\n",
    "&=\\mu_Y^2+\\sigma_A^2+\\sigma_B^2\n",
    "\\end{align*}\n",
    "where we have used the fact that $E[A^2]=E[B^2]=1$, $E[A]=E[B]=0$, and finally that $\\text{cov}[A,B]=E[(A-E[A])(B-E[B])]=E[AB]=0$ since $A$ and $B$ are assumed indepedent (and thus uncorrelated). We also have\n",
    "\n",
    "\\begin{align*}\n",
    "E[XY]&=E[(\\mu_X+\\sigma_A A)(\\mu_y +\\sigma_A A + \\sigma_B B)]\\\\\n",
    "&=E[\\mu_X\\mu_Y+\\mu_X\\sigma_A A + \\mu_X \\sigma_B B + \\mu_Y \\sigma_A A + \\sigma_A^2 A^2 + \\sigma_A \\sigma_B AB]\\\\\n",
    "&=\\mu_X\\mu_y+\\sigma_A^2\n",
    "\\end{align*}\n",
    "\n",
    "where once again we have used the linearity properties of the expectation value operator and the fact that $E[A^2]=E[B^2]=1$, $E[A]=E[B]=0$, and $E[AB]=0$.\n"
   ]
  },
  {
   "cell_type": "markdown",
   "metadata": {},
   "source": [
    "## Variances, Covariance, and Correlation Coefficient"
   ]
  },
  {
   "cell_type": "markdown",
   "metadata": {},
   "source": [
    "Since we have now computed all the first and second order moments, we can compute the desired quantities"
   ]
  },
  {
   "cell_type": "markdown",
   "metadata": {},
   "source": [
    "### Variances"
   ]
  },
  {
   "cell_type": "markdown",
   "metadata": {},
   "source": [
    "Variance of $X$\n",
    "\n",
    "\\begin{align*}\n",
    "\\sigma_X^2 &= E[X^2]-E[X]^2\\\\\n",
    "&=\\mu_X^2+\\sigma_A^2-\\mu_X^2\\\\\n",
    "&=\\sigma_A^2\n",
    "\\end{align*}\n",
    "\n",
    "Variance of $Y$\n",
    "\n",
    "\\begin{align*}\n",
    "\\sigma_Y^2 &= E[Y^2]-E[Y]^2\\\\\n",
    "&=\\mu_Y^2+\\sigma_A^2+\\sigma_B^2-\\mu_Y^2\\\\\n",
    "&=\\sigma_A^2+\\sigma_B^2\n",
    "\\end{align*}"
   ]
  },
  {
   "cell_type": "markdown",
   "metadata": {},
   "source": [
    "### Covariance"
   ]
  },
  {
   "cell_type": "markdown",
   "metadata": {},
   "source": [
    "\\begin{align*}\n",
    "\\text{cov[X,Y]} &= E[(X-\\mu_X)(Y-\\mu_Y)]\\\\\n",
    "&= E[XY]-\\mu_YE[X]-\\mu_XE[Y]+\\mu_X\\mu_Y\\\\\n",
    "&=E[XY]-\\mu_X\\mu_y\\\\\n",
    "&=\\sigma_A^2\n",
    "\\end{align*}"
   ]
  },
  {
   "cell_type": "markdown",
   "metadata": {},
   "source": [
    "### Correlation Coefficient"
   ]
  },
  {
   "cell_type": "markdown",
   "metadata": {},
   "source": [
    "\\begin{align*}\n",
    "\\rho_{XY} &= \\frac{\\text{cov}[X,Y]}{\\sigma_X\\sigma_Y}\\\\\n",
    "&=\\frac{\\sigma_A^2}{\\sigma_A\\sqrt{\\sigma_A^2+\\sigma_B^2}}\\\\\n",
    "&=\\frac{1}{\\sqrt{1+(\\sigma_B/\\sigma_A)^2}}\n",
    "\\end{align*}"
   ]
  },
  {
   "cell_type": "markdown",
   "metadata": {},
   "source": [
    "# Question 2"
   ]
  },
  {
   "cell_type": "code",
   "execution_count": 3,
   "metadata": {},
   "outputs": [],
   "source": [
    "def getSample(n, ux=1, uy=1, sA=1, sB=1):\n",
    "    norm1 = np.random.randn(n)\n",
    "    norm2 = np.random.randn(n)\n",
    "    X = ux + sA*norm1\n",
    "    Y = uy + sA*norm1+sB*norm2\n",
    "    return X,Y"
   ]
  },
  {
   "cell_type": "markdown",
   "metadata": {},
   "source": [
    "# Question 3"
   ]
  },
  {
   "cell_type": "code",
   "execution_count": 4,
   "metadata": {},
   "outputs": [],
   "source": [
    "x, y = getSample(20, ux=5, uy=4, sA=3, sB=2)"
   ]
  },
  {
   "cell_type": "code",
   "execution_count": 7,
   "metadata": {},
   "outputs": [
    {
     "data": {
      "image/png": "[encoded data removed]",
      "text/plain": [
       "<Figure size 504x288 with 1 Axes>"
      ]
     },
     "metadata": {
      "needs_background": "light"
     },
     "output_type": "display_data"
    }
   ],
   "source": [
    "fig, ax = plt.subplots(figsize=(7,4))\n",
    "ax.scatter(x,y)\n",
    "ax.set_xlabel('$X$ realizations')\n",
    "ax.set_ylabel('$Y$ realizations')\n",
    "ax.set_title('20 realizations of $X$ and $Y$')\n",
    "plt.show()"
   ]
  },
  {
   "cell_type": "markdown",
   "metadata": {},
   "source": [
    "Each coefficient can be found explicitly or by using methods in the numpy package. We show both here."
   ]
  },
  {
   "cell_type": "markdown",
   "metadata": {},
   "source": [
    "## Sample Means"
   ]
  },
  {
   "cell_type": "markdown",
   "metadata": {},
   "source": [
    "Explicitly..."
   ]
  },
  {
   "cell_type": "code",
   "execution_count": 11,
   "metadata": {},
   "outputs": [
    {
     "name": "stdout",
     "output_type": "stream",
     "text": [
      "Mean of X realizations: 4.80072503178613\n",
      "Mean of Y realizations: 3.2441190632857477\n"
     ]
    }
   ],
   "source": [
    "ux = np.sum(x)/len(x)\n",
    "uy = np.sum(y)/len(y)\n",
    "print('Mean of X realizations: {}'.format(ux))\n",
    "print('Mean of Y realizations: {}'.format(uy))"
   ]
  },
  {
   "cell_type": "markdown",
   "metadata": {},
   "source": [
    "Using python functions..."
   ]
  },
  {
   "cell_type": "code",
   "execution_count": 12,
   "metadata": {},
   "outputs": [
    {
     "name": "stdout",
     "output_type": "stream",
     "text": [
      "Mean of X realizations: 4.80072503178613\n",
      "Mean of Y realizations: 3.2441190632857477\n"
     ]
    }
   ],
   "source": [
    "ux = np.mean(x)\n",
    "uy = np.mean(y)\n",
    "print('Mean of X realizations: {}'.format(ux))\n",
    "print('Mean of Y realizations: {}'.format(uy))"
   ]
  },
  {
   "cell_type": "markdown",
   "metadata": {},
   "source": [
    "## Sample Variances and Covariance"
   ]
  },
  {
   "cell_type": "markdown",
   "metadata": {},
   "source": [
    "Explicitly..."
   ]
  },
  {
   "cell_type": "code",
   "execution_count": 20,
   "metadata": {},
   "outputs": [
    {
     "name": "stdout",
     "output_type": "stream",
     "text": [
      "Variance of X realizations: 5.0622502602457615\n",
      "Variance of Y realizations: 5.955068954758604\n"
     ]
    }
   ],
   "source": [
    "Vx = np.sum((x-ux)**2)/(len(x)-1)\n",
    "Vy = np.sum((y-uy)**2)/(len(y)-1)\n",
    "print('Variance of X realizations: {}'.format(Vx))\n",
    "print('Variance of Y realizations: {}'.format(Vy))"
   ]
  },
  {
   "cell_type": "code",
   "execution_count": 21,
   "metadata": {},
   "outputs": [
    {
     "name": "stdout",
     "output_type": "stream",
     "text": [
      "Variance of X realizations: 5.0622502602457615\n",
      "Variance of Y realizations: 5.955068954758604\n"
     ]
    }
   ],
   "source": [
    "Vx = np.var(x, ddof=1)\n",
    "Vy = np.var(y, ddof=1)\n",
    "print('Variance of X realizations: {}'.format(Vx))\n",
    "print('Variance of Y realizations: {}'.format(Vy))"
   ]
  },
  {
   "cell_type": "code",
   "execution_count": 17,
   "metadata": {},
   "outputs": [
    {
     "data": {
      "text/plain": [
       "5.0622502602457615"
      ]
     },
     "execution_count": 17,
     "metadata": {},
     "output_type": "execute_result"
    }
   ],
   "source": [
    "Vx"
   ]
  },
  {
   "cell_type": "code",
   "execution_count": 19,
   "metadata": {},
   "outputs": [
    {
     "data": {
      "text/plain": [
       "array([[1.        , 0.59237014],\n",
       "       [0.59237014, 1.        ]])"
      ]
     },
     "execution_count": 19,
     "metadata": {},
     "output_type": "execute_result"
    }
   ],
   "source": [
    "np.corrcoef(x,y)"
   ]
  },
  {
   "cell_type": "code",
   "execution_count": null,
   "metadata": {},
   "outputs": [],
   "source": []
  }
 ],
 "metadata": {
  "kernelspec": {
   "display_name": "Python 3",
   "language": "python",
   "name": "python3"
  },
  "language_info": {
   "codemirror_mode": {
    "name": "ipython",
    "version": 3
   },
   "file_extension": ".py",
   "mimetype": "text/x-python",
   "name": "python",
   "nbconvert_exporter": "python",
   "pygments_lexer": "ipython3",
   "version": "3.6.7"
  }
 },
 "nbformat": 4,
 "nbformat_minor": 4
}
