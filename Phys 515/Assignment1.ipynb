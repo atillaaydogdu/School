{
 "cells": [
  {
   "cell_type": "code",
   "execution_count": 54,
   "metadata": {},
   "outputs": [],
   "source": [
    "import numpy as np\n",
    "import matplotlib.pyplot as plt\n",
    "from matplotlib import animation"
   ]
  },
  {
   "cell_type": "markdown",
   "metadata": {},
   "source": [
    "# Question 1"
   ]
  },
  {
   "cell_type": "markdown",
   "metadata": {},
   "source": [
    "## First Order Moments"
   ]
  },
  {
   "cell_type": "markdown",
   "metadata": {},
   "source": [
    "\\begin{align*}\n",
    "E[X] &= E[\\mu_X + \\sigma_A A]\\\\\n",
    "&= E[\\mu_X]+E[\\sigma_A A]\\\\\n",
    "&=\\mu_X + \\sigma_AE[A]\\\\\n",
    "&=\\mu_X\n",
    "\\end{align*}\n",
    "\n",
    "where we used the linearity properties of the expectation value operator and the fact that $E[A]=0$.\n",
    "\n",
    "\\begin{align*}\n",
    "E[Y] &= E[\\mu_Y + \\sigma_A A+\\sigma_B B]\\\\\n",
    "&= E[\\mu_Y]+E[\\sigma_A A]+E[\\sigma_B B]\\\\\n",
    "&=\\mu_Y + \\sigma_AE[A]+\\sigma_B E[B]\\\\\n",
    "&=\\mu_Y\n",
    "\\end{align*}"
   ]
  },
  {
   "cell_type": "markdown",
   "metadata": {},
   "source": [
    "## Second Order Moments"
   ]
  },
  {
   "cell_type": "markdown",
   "metadata": {},
   "source": [
    "\\begin{align*}\n",
    "E[X^2] &= E[\\mu_X^2]+2E[\\mu_X\\sigma_A A] + E[\\sigma_A^2 A^2]\\\\\n",
    "&= \\mu_X^2 + 2\\mu_X\\sigma_A E[A] + \\sigma_A^2 E[A^2]\n",
    "\\end{align*}"
   ]
  },
  {
   "cell_type": "markdown",
   "metadata": {},
   "source": [
    "Now using the fact that $E[A]=0$ and $1 = E[A^2]-E[A]^2 = E[A^2]$ (A is normally distributed with standard deviation 1) we have\n",
    "\n",
    "\\begin{align*}\n",
    "E[X^2] &= \\mu_X^2 + \\sigma_A^2 \\\\\n",
    "&= \\mu_X^2 + \\sigma_A^2\\\\\n",
    "\\end{align*}\n",
    "\n",
    "We also have\n",
    "\n",
    "\\begin{align*}\n",
    "E[Y^2] &= E[\\mu_Y^2+\\sigma_A^2A^2+\\sigma_B^2B^2+2\\mu_Y\\sigma_A A + 2 \\mu_y \\sigma_B B + 2\\sigma_A\\sigma_B A B] \\\\\n",
    "&=\\mu_Y^2+\\sigma_A^2E[A^2]+\\sigma_B^2E[B^2]+2\\mu_y\\sigma_AE[A]+2\\mu_y\\sigma_BE[B]+2\\sigma_A\\sigma_bE[AB]\\\\\n",
    "&=\\mu_Y^2+\\sigma_A^2+\\sigma_B^2\n",
    "\\end{align*}\n",
    "where we have used the fact that $E[A^2]=E[B^2]=1$, $E[A]=E[B]=0$, and finally that $\\text{cov}[A,B]=E[(A-E[A])(B-E[B])]=E[AB]=0$ since $A$ and $B$ are assumed indepedent (and thus uncorrelated). We also have\n",
    "\n",
    "\\begin{align*}\n",
    "E[XY]&=E[(\\mu_X+\\sigma_A A)(\\mu_y +\\sigma_A A + \\sigma_B B)]\\\\\n",
    "&=E[\\mu_X\\mu_Y+\\mu_X\\sigma_A A + \\mu_X \\sigma_B B + \\mu_Y \\sigma_A A + \\sigma_A^2 A^2 + \\sigma_A \\sigma_B AB]\\\\\n",
    "&=\\mu_X\\mu_y+\\sigma_A^2\n",
    "\\end{align*}\n",
    "\n",
    "where once again we have used the linearity properties of the expectation value operator and the fact that $E[A^2]=E[B^2]=1$, $E[A]=E[B]=0$, and $E[AB]=0$.\n"
   ]
  },
  {
   "cell_type": "markdown",
   "metadata": {},
   "source": [
    "## Variances, Covariance, and Correlation Coefficient"
   ]
  },
  {
   "cell_type": "markdown",
   "metadata": {},
   "source": [
    "Since we have now computed all the first and second order moments, we can compute the desired quantities"
   ]
  },
  {
   "cell_type": "markdown",
   "metadata": {},
   "source": [
    "### Variances"
   ]
  },
  {
   "cell_type": "markdown",
   "metadata": {},
   "source": [
    "Variance of $X$\n",
    "\n",
    "\\begin{align*}\n",
    "\\sigma_X^2 &= E[X^2]-E[X]^2\\\\\n",
    "&=\\mu_X^2+\\sigma_A^2-\\mu_X^2\\\\\n",
    "&=\\sigma_A^2\n",
    "\\end{align*}\n",
    "\n",
    "Variance of $Y$\n",
    "\n",
    "\\begin{align*}\n",
    "\\sigma_Y^2 &= E[Y^2]-E[Y]^2\\\\\n",
    "&=\\mu_Y^2+\\sigma_A^2+\\sigma_B^2-\\mu_Y^2\\\\\n",
    "&=\\sigma_A^2+\\sigma_B^2\n",
    "\\end{align*}"
   ]
  },
  {
   "cell_type": "markdown",
   "metadata": {},
   "source": [
    "### Covariance"
   ]
  },
  {
   "cell_type": "markdown",
   "metadata": {},
   "source": [
    "\\begin{align*}\n",
    "\\text{cov[X,Y]} &= E[(X-\\mu_X)(Y-\\mu_Y)]\\\\\n",
    "&= E[XY]-\\mu_YE[X]-\\mu_XE[Y]+\\mu_X\\mu_Y\\\\\n",
    "&=E[XY]-\\mu_X\\mu_y\\\\\n",
    "&=\\sigma_A^2\n",
    "\\end{align*}"
   ]
  },
  {
   "cell_type": "markdown",
   "metadata": {},
   "source": [
    "### Correlation Coefficient"
   ]
  },
  {
   "cell_type": "markdown",
   "metadata": {},
   "source": [
    "\\begin{align*}\n",
    "\\rho_{XY} &= \\frac{\\text{cov}[X,Y]}{\\sigma_X\\sigma_Y}\\\\\n",
    "&=\\frac{\\sigma_A^2}{\\sigma_A\\sqrt{\\sigma_A^2+\\sigma_B^2}}\\\\\n",
    "&=\\frac{1}{\\sqrt{1+(\\sigma_B/\\sigma_A)^2}}\n",
    "\\end{align*}"
   ]
  },
  {
   "cell_type": "markdown",
   "metadata": {},
   "source": [
    "# Question 2"
   ]
  },
  {
   "cell_type": "code",
   "execution_count": 2,
   "metadata": {},
   "outputs": [],
   "source": [
    "def getSample(n, ux=1, uy=1, sA=1, sB=1):\n",
    "    norm1 = np.random.randn(n)\n",
    "    norm2 = np.random.randn(n)\n",
    "    X = ux + sA*norm1\n",
    "    Y = uy + sA*norm1+sB*norm2\n",
    "    return X,Y"
   ]
  },
  {
   "cell_type": "markdown",
   "metadata": {},
   "source": [
    "# Question 3"
   ]
  },
  {
   "cell_type": "code",
   "execution_count": 3,
   "metadata": {},
   "outputs": [],
   "source": [
    "x, y = getSample(20, ux=5, uy=4, sA=3, sB=2)"
   ]
  },
  {
   "cell_type": "code",
   "execution_count": 4,
   "metadata": {},
   "outputs": [
    {
     "data": {
      "image/png": "[encoded data removed]",
      "text/plain": [
       "<Figure size 504x288 with 1 Axes>"
      ]
     },
     "metadata": {},
     "output_type": "display_data"
    }
   ],
   "source": [
    "fig, ax = plt.subplots(figsize=(7,4))\n",
    "ax.scatter(x,y)\n",
    "ax.set_xlabel('$X$ realizations')\n",
    "ax.set_ylabel('$Y$ realizations')\n",
    "ax.set_title('20 realizations of $X$ and $Y$')\n",
    "plt.show()"
   ]
  },
  {
   "cell_type": "markdown",
   "metadata": {},
   "source": [
    "Each coefficient can be found explicitly or by using methods in the numpy package. We show both here."
   ]
  },
  {
   "cell_type": "markdown",
   "metadata": {},
   "source": [
    "## Sample Means"
   ]
  },
  {
   "cell_type": "markdown",
   "metadata": {},
   "source": [
    "Explicitly..."
   ]
  },
  {
   "cell_type": "code",
   "execution_count": 5,
   "metadata": {},
   "outputs": [
    {
     "name": "stdout",
     "output_type": "stream",
     "text": [
      "Mean of X realizations: 4.772710864251927\n",
      "Mean of Y realizations: 3.8204434860178687\n"
     ]
    }
   ],
   "source": [
    "ux = np.sum(x)/len(x)\n",
    "uy = np.sum(y)/len(y)\n",
    "print('Mean of X realizations: {}'.format(ux))\n",
    "print('Mean of Y realizations: {}'.format(uy))"
   ]
  },
  {
   "cell_type": "markdown",
   "metadata": {},
   "source": [
    "Using python functions..."
   ]
  },
  {
   "cell_type": "code",
   "execution_count": 6,
   "metadata": {},
   "outputs": [
    {
     "name": "stdout",
     "output_type": "stream",
     "text": [
      "Mean of X realizations: 4.772710864251927\n",
      "Mean of Y realizations: 3.8204434860178687\n"
     ]
    }
   ],
   "source": [
    "ux = np.mean(x)\n",
    "uy = np.mean(y)\n",
    "print('Mean of X realizations: {}'.format(ux))\n",
    "print('Mean of Y realizations: {}'.format(uy))"
   ]
  },
  {
   "cell_type": "markdown",
   "metadata": {},
   "source": [
    "## Sample Variances and Covariance"
   ]
  },
  {
   "cell_type": "markdown",
   "metadata": {},
   "source": [
    "### Variance"
   ]
  },
  {
   "cell_type": "markdown",
   "metadata": {},
   "source": [
    "Explicitly:"
   ]
  },
  {
   "cell_type": "code",
   "execution_count": 7,
   "metadata": {},
   "outputs": [
    {
     "name": "stdout",
     "output_type": "stream",
     "text": [
      "Variance of X realizations: 8.240803821724596\n",
      "Variance of Y realizations: 14.493632462508785\n"
     ]
    }
   ],
   "source": [
    "Vx = np.sum((x-ux)**2)/(len(x)-1)\n",
    "Vy = np.sum((y-uy)**2)/(len(y)-1)\n",
    "print('Variance of X realizations: {}'.format(Vx))\n",
    "print('Variance of Y realizations: {}'.format(Vy))"
   ]
  },
  {
   "cell_type": "markdown",
   "metadata": {},
   "source": [
    "Using numpy functionality:"
   ]
  },
  {
   "cell_type": "code",
   "execution_count": 8,
   "metadata": {},
   "outputs": [
    {
     "name": "stdout",
     "output_type": "stream",
     "text": [
      "Variance of X realizations: 8.240803821724596\n",
      "Variance of Y realizations: 14.493632462508785\n"
     ]
    }
   ],
   "source": [
    "Vx = np.var(x, ddof=1)\n",
    "Vy = np.var(y, ddof=1)\n",
    "print('Variance of X realizations: {}'.format(Vx))\n",
    "print('Variance of Y realizations: {}'.format(Vy))"
   ]
  },
  {
   "cell_type": "markdown",
   "metadata": {},
   "source": [
    "### Covariance"
   ]
  },
  {
   "cell_type": "markdown",
   "metadata": {},
   "source": [
    "Explicitly:"
   ]
  },
  {
   "cell_type": "code",
   "execution_count": 14,
   "metadata": {},
   "outputs": [
    {
     "name": "stdout",
     "output_type": "stream",
     "text": [
      "Covariance of X and Y: 9.067156695503368\n"
     ]
    }
   ],
   "source": [
    "cov = np.sum((x-ux)*(y-uy))/(len(x)-1)\n",
    "print('Covariance of X and Y: {}'.format(cov))"
   ]
  },
  {
   "cell_type": "markdown",
   "metadata": {},
   "source": [
    "Using numpy functionality:"
   ]
  },
  {
   "cell_type": "code",
   "execution_count": 16,
   "metadata": {},
   "outputs": [
    {
     "name": "stdout",
     "output_type": "stream",
     "text": [
      "Covariance of X and Y: 9.067156695503368\n"
     ]
    }
   ],
   "source": [
    "cov = np.cov(x,y)[0,1]\n",
    "print('Covariance of X and Y: {}'.format(cov))"
   ]
  },
  {
   "cell_type": "markdown",
   "metadata": {},
   "source": [
    "### Correlation Coefficient"
   ]
  },
  {
   "cell_type": "markdown",
   "metadata": {},
   "source": [
    "Explicitly:"
   ]
  },
  {
   "cell_type": "code",
   "execution_count": 18,
   "metadata": {},
   "outputs": [
    {
     "name": "stdout",
     "output_type": "stream",
     "text": [
      "Correlation between X and Y: 0.8296553371085293\n"
     ]
    }
   ],
   "source": [
    "cov = np.sum((x-ux)*(y-uy))/(len(x)-1)\n",
    "Vx = np.sum((x-ux)**2)/(len(x)-1)\n",
    "Vy = np.sum((y-uy)**2)/(len(y)-1)\n",
    "corr_coef = cov/np.sqrt(Vx*Vy)\n",
    "print('Correlation between X and Y: {}'.format(corr_coef))"
   ]
  },
  {
   "cell_type": "markdown",
   "metadata": {},
   "source": [
    "Using numpy funtionality:"
   ]
  },
  {
   "cell_type": "code",
   "execution_count": 20,
   "metadata": {},
   "outputs": [
    {
     "name": "stdout",
     "output_type": "stream",
     "text": [
      "Correlation between X and Y: 0.8296553371085297\n"
     ]
    }
   ],
   "source": [
    "corr_coef = np.corrcoef(x,y)[0,1]\n",
    "print('Correlation between X and Y: {}'.format(corr_coef))"
   ]
  },
  {
   "cell_type": "markdown",
   "metadata": {},
   "source": [
    "# Question 4"
   ]
  },
  {
   "cell_type": "markdown",
   "metadata": {},
   "source": [
    "Define a function that computes the correlation coefficient given x and y"
   ]
  },
  {
   "cell_type": "code",
   "execution_count": 45,
   "metadata": {},
   "outputs": [],
   "source": [
    "def get_corrcoef(x,y):\n",
    "    return np.corrcoef(x,y)[0,1]"
   ]
  },
  {
   "cell_type": "markdown",
   "metadata": {},
   "source": [
    "Compute many correlation coefficients for many samples. Here the sample size is 20."
   ]
  },
  {
   "cell_type": "code",
   "execution_count": 46,
   "metadata": {},
   "outputs": [],
   "source": [
    "corr_coeffs = np.array([get_corrcoef(*getSample(20, ux=5, uy=4, sA=3, sB=2)) \\\n",
    "                       for i in range(1000) ])\n",
    "bins = np.arange(0, 1, 0.02)\n",
    "cc_mean = np.mean(corr_coeffs)\n",
    "cc_std = np.std(corr_coeffs)"
   ]
  },
  {
   "cell_type": "markdown",
   "metadata": {},
   "source": [
    "Make a plot."
   ]
  },
  {
   "cell_type": "code",
   "execution_count": 47,
   "metadata": {},
   "outputs": [
    {
     "data": {
      "image/png": "[encoded data removed]",
      "text/plain": [
       "<Figure size 432x288 with 1 Axes>"
      ]
     },
     "metadata": {},
     "output_type": "display_data"
    }
   ],
   "source": [
    "plt.hist(corr_coeffs, bins=bins)\n",
    "plt.ylabel('# of occurences')\n",
    "plt.xlabel('Correlation coefficient $r$')\n",
    "plt.text(0.05, 0.8, r'$\\mu={:.4f}$'.format(cc_mean), fontsize=12, transform=ax.transAxes)\n",
    "plt.text(0.05, 0.7, r'$\\sigma={:.4f}$'.format(cc_std), fontsize=12, transform=ax.transAxes)\n",
    "plt.title('Distribution of Correlation Coefficients')\n",
    "plt.show()"
   ]
  },
  {
   "cell_type": "markdown",
   "metadata": {},
   "source": [
    "# Question 5"
   ]
  },
  {
   "cell_type": "markdown",
   "metadata": {},
   "source": [
    "Compute many correlation coefficients for many samples. Here the sample size is 200."
   ]
  },
  {
   "cell_type": "code",
   "execution_count": 48,
   "metadata": {},
   "outputs": [],
   "source": [
    "corr_coeffs = np.array([get_corrcoef(*getSample(200, ux=5, uy=4, sA=3, sB=2)) \\\n",
    "                       for i in range(1000) ])\n",
    "bins = np.arange(0, 1, 0.02)\n",
    "cc_mean = np.mean(corr_coeffs)\n",
    "cc_std = np.std(corr_coeffs)"
   ]
  },
  {
   "cell_type": "markdown",
   "metadata": {},
   "source": [
    "Make a plot."
   ]
  },
  {
   "cell_type": "code",
   "execution_count": 50,
   "metadata": {},
   "outputs": [
    {
     "data": {
      "image/png": "[encoded data removed]",
      "text/plain": [
       "<Figure size 432x288 with 1 Axes>"
      ]
     },
     "metadata": {},
     "output_type": "display_data"
    }
   ],
   "source": [
    "plt.hist(corr_coeffs, bins=bins)\n",
    "plt.ylabel('# of occurences')\n",
    "plt.xlabel('Correlation coefficient $r$')\n",
    "plt.text(0.05, 0.8, r'$\\mu={:.4f}$'.format(cc_mean), fontsize=12, transform=ax.transAxes)\n",
    "plt.text(0.05, 0.7, r'$\\sigma={:.4f}$'.format(cc_std), fontsize=12, transform=ax.transAxes)\n",
    "plt.title('Distribution of Correlation Coefficients')\n",
    "plt.show()"
   ]
  },
  {
   "cell_type": "markdown",
   "metadata": {},
   "source": [
    "# A Neat Extension to These Problems"
   ]
  },
  {
   "cell_type": "markdown",
   "metadata": {},
   "source": [
    "Lets create an animation to see how this changes in real time. I'll send you an email that includes the video.\n",
    "\n",
    "For extra clarity, 10 times as many data points and bins were used for each plot in the animation. Since getSample is now called approxmately 1 million times, the code takes approximately 2 minutes to run."
   ]
  },
  {
   "cell_type": "markdown",
   "metadata": {},
   "source": [
    "Here we have a animation function, which is always used when creating animations in matplotlib. The parameter \"i\" specifies the frame number. In this case, the thing that changes is the number of data points created in the getSample function."
   ]
  },
  {
   "cell_type": "code",
   "execution_count": 58,
   "metadata": {},
   "outputs": [],
   "source": [
    "def animate(i):\n",
    "    corr_coeffs = np.array([get_corrcoef(*getSample((i+1)*10, ux=5, uy=4, sA=3, sB=2)) \\\n",
    "                       for j in range(10000) ])\n",
    "    bins = np.arange(0, 1, 0.002)\n",
    "    cc_mean = np.mean(corr_coeffs)\n",
    "    cc_std = np.std(corr_coeffs)\n",
    "    \n",
    "    ax.clear()\n",
    "    ax.hist(corr_coeffs, bins=bins)\n",
    "    ax.set_ylabel('# of occurences')\n",
    "    ax.set_xlabel('Correlation coefficient $r$')\n",
    "    ax.text(0.05, 0.8, r'$\\mu={:.4f}$'.format(cc_mean), fontsize=12, transform=ax.transAxes)\n",
    "    ax.text(0.05, 0.7, r'$\\sigma={:.4f}$'.format(cc_std), fontsize=12, transform=ax.transAxes)\n",
    "    ax.set_title('Distribution of Correlation Coefficients')"
   ]
  },
  {
   "cell_type": "markdown",
   "metadata": {},
   "source": [
    "Here we use the animation to generate a plot. When saving the plot, we specifify how many frames per second will be displayed in the mp4 file."
   ]
  },
  {
   "cell_type": "code",
   "execution_count": 59,
   "metadata": {},
   "outputs": [],
   "source": [
    "fig, ax = plt.subplots(1,1, figsize=(10,5))\n",
    "ani = animation.FuncAnimation(fig,animate,80)\n",
    "ani.save('testvid.mp4', fps=4)\n",
    "plt.close()"
   ]
  },
  {
   "cell_type": "markdown",
   "metadata": {},
   "source": [
    "# Question 6"
   ]
  },
  {
   "cell_type": "code",
   "execution_count": null,
   "metadata": {},
   "outputs": [],
   "source": []
  }
 ],
 "metadata": {
  "kernelspec": {
   "display_name": "Python 3",
   "language": "python",
   "name": "python3"
  },
  "language_info": {
   "codemirror_mode": {
    "name": "ipython",
    "version": 3
   },
   "file_extension": ".py",
   "mimetype": "text/x-python",
   "name": "python",
   "nbconvert_exporter": "python",
   "pygments_lexer": "ipython3",
   "version": "3.6.5"
  }
 },
 "nbformat": 4,
 "nbformat_minor": 4
}
