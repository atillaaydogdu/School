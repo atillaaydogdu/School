{
 "cells": [
  {
   "cell_type": "markdown",
   "metadata": {},
   "source": [
    "# Lifetime estimate with maximum likelihood\n",
    "\n",
    "An experiment measures the decay time distribution of an unstable particle. The experimental resolution is 4 ns. The true lifetime of the particle is 10 ns. A sample of 100 decays is recorded by the experiment.\n",
    "\n",
    "The pdf for observed times is the convolution of exponential and Gaussian distributions. The function stats.exponnorm.pdf calculates that pdf."
   ]
  },
  {
   "cell_type": "code",
   "execution_count": null,
   "metadata": {},
   "outputs": [],
   "source": [
    "import numpy as np\n",
    "from scipy import stats, optimize\n",
    "\n",
    "%matplotlib inline\n",
    "import matplotlib.pyplot as plt"
   ]
  },
  {
   "cell_type": "code",
   "execution_count": null,
   "metadata": {},
   "outputs": [],
   "source": [
    "# decay times are measured - unknown lifetime (tau) and resolution (sigma)\n",
    "# Negative log likelihood function for this problem:\n",
    "\n",
    "def negloglik(args):\n",
    "    t = args[0]\n",
    "    s = args[1]\n",
    "    k = t/s\n",
    "    return -1*np.sum(np.log(stats.exponnorm.pdf(times,k,scale=s)))\n",
    "\n",
    "# generate simulated data\n",
    "tau = 10.; sigma = 4.\n",
    "n=100;\n",
    "times = np.add(stats.expon.rvs(scale=tau,size=n),stats.norm.rvs(scale=sigma,size=n))\n",
    "\n",
    "# start with a guess and find the parameters that minimize the neg log likelihood\n",
    "guess = [8.,2.]\n",
    "result = optimize.minimize(negloglik,guess)\n",
    "tau_est = result.x[0]; sigma_est = result.x[1]\n",
    "\n",
    "# draw the distribution of observed times and overlay the pdf evaluated with the parameter estimates\n",
    "tArray = np.arange(-tau,tau*4,tau*4/100)\n",
    "plt.hist(times,bins=np.arange(-tau,tau*4,tau*4/20));\n",
    "plt.plot(tArray,stats.exponnorm.pdf(tArray,tau_est/sigma_est,scale=sigma_est)*n*tau*4/20);\n"
   ]
  },
  {
   "cell_type": "markdown",
   "metadata": {},
   "source": [
    "Variance of estimators from curvature"
   ]
  },
  {
   "cell_type": "code",
   "execution_count": null,
   "metadata": {},
   "outputs": [],
   "source": [
    "sig_tau = np.sqrt(result.hess_inv[0,0])\n",
    "sig_sigma = np.sqrt(result.hess_inv[1,1])\n",
    "rho = result.hess_inv[0,1]/sig_tau/sig_sigma\n",
    "\n",
    "print(\"Parameter estimates:\")\n",
    "print(\"  tau-hat = {0:5.2f} +/- {1:5.2f}\".format(result.x[0],sig_tau))\n",
    "print(\"  sigma-hat = {0:5.2f} +/- {1:5.2f}\".format(result.x[1],sig_sigma))\n",
    "print(\"Correlation coeff = {0:5.2f}\".format(rho))"
   ]
  },
  {
   "cell_type": "code",
   "execution_count": null,
   "metadata": {},
   "outputs": [],
   "source": []
  }
 ],
 "metadata": {
  "kernelspec": {
   "display_name": "Python 3",
   "language": "python",
   "name": "python3"
  },
  "language_info": {
   "codemirror_mode": {
    "name": "ipython",
    "version": 3
   },
   "file_extension": ".py",
   "mimetype": "text/x-python",
   "name": "python",
   "nbconvert_exporter": "python",
   "pygments_lexer": "ipython3",
   "version": "3.6.7"
  }
 },
 "nbformat": 4,
 "nbformat_minor": 2
}
