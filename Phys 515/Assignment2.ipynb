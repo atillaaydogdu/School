{
 "cells": [
  {
   "cell_type": "markdown",
   "metadata": {},
   "source": [
    "# Preliminary Stuff"
   ]
  },
  {
   "cell_type": "code",
   "execution_count": 1,
   "metadata": {},
   "outputs": [],
   "source": [
    "import numpy as np\n",
    "import matplotlib.pyplot as plt\n",
    "from scipy.integrate import quad"
   ]
  },
  {
   "cell_type": "code",
   "execution_count": 2,
   "metadata": {},
   "outputs": [],
   "source": [
    "data = np.loadtxt('datafile.txt')"
   ]
  },
  {
   "cell_type": "markdown",
   "metadata": {},
   "source": [
    "# Part 1"
   ]
  },
  {
   "cell_type": "markdown",
   "metadata": {},
   "source": [
    "Consider the distribution of our statistic $Y$. Suppose $Y$ has pdf $f(x)$, $X$ has pdf $g(x)$ and $T$ has pdf $h(x)$. Since $Y=X+T$, $f(x)$ is related to $g(x)$ and $h(x)$ through Meltin convolution:\n",
    "\n",
    "\\begin{align*}\n",
    "    f(z) &= \\int_{-\\infty}^\\infty g(x)h(z-x) dx\\\\\n",
    "    &= \\frac{1}{d}\\int_{0}^d h(z-x) dx &\\text{since $g(x)$ is uniform with pdf $1/d$ in the range $[0,d]$}\\\\\n",
    "    &= \\frac{1}{d} \\times \\begin{cases} 0 & z<0\\\\\n",
    "    \\int_0^z e^{-z}e^x dx & 0<z<d\\\\\n",
    "    \\int_0^d e^{-z}e^x dx & z>d\n",
    "    \\end{cases}\n",
    "\\end{align*}\n",
    "\n",
    "This last line follows since the pdf $h(x)$ is defined as $e^{-x}$ for $x>0$ only. Evaluating each of these integrals yields\n",
    "\n",
    "\\begin{align*}\n",
    "    f(z) &= \\frac{1}{d} \\times \\begin{cases} 0 & z<0\\\\\n",
    "     1-e^{-z} & 0<z<d\\\\\n",
    "     e^{-z}(e^d-1) & z>d\n",
    "    \\end{cases}\n",
    "\\end{align*}\n",
    "\n"
   ]
  },
  {
   "cell_type": "code",
   "execution_count": 3,
   "metadata": {},
   "outputs": [],
   "source": [
    "d_null = 5\n",
    "d_alt = 4\n",
    "\n",
    "def pdf(x,d):\n",
    "    return (1/d)* np.piecewise(x, [x < 0, (x>=0)*(x<d), x >= d],\n",
    "                        [lambda x:0, lambda x:1-np.exp(-x), lambda x:np.exp(-x)*(np.exp(d)-1) ])\n",
    "\n"
   ]
  },
  {
   "cell_type": "markdown",
   "metadata": {},
   "source": [
    "Obtain PDFS"
   ]
  },
  {
   "cell_type": "code",
   "execution_count": 4,
   "metadata": {},
   "outputs": [],
   "source": [
    "x = np.linspace(0,10,1000)\n",
    "pdf_null = pdf(x, d_null)\n",
    "pdf_alt = pdf(x, d_alt)"
   ]
  },
  {
   "cell_type": "markdown",
   "metadata": {},
   "source": [
    "Format bins for data."
   ]
  },
  {
   "cell_type": "code",
   "execution_count": 5,
   "metadata": {},
   "outputs": [],
   "source": [
    "bins = np.linspace(0, 10, 40)"
   ]
  },
  {
   "cell_type": "markdown",
   "metadata": {},
   "source": [
    "Plot."
   ]
  },
  {
   "cell_type": "code",
   "execution_count": 6,
   "metadata": {},
   "outputs": [
    {
     "data": {
      "image/png": "[encoded data removed]",
      "text/plain": [
       "<Figure size 720x288 with 1 Axes>"
      ]
     },
     "metadata": {
      "needs_background": "light"
     },
     "output_type": "display_data"
    }
   ],
   "source": [
    "fig, ax = plt.subplots(figsize=(10,4))\n",
    "ax.hist(data,bins=bins, density=True, label='Data')\n",
    "ax.plot(x,pdf_null, lw=3, label='Null PDF')\n",
    "ax.plot(x,pdf_alt, lw=3, label='Alternative PDF')\n",
    "ax.set_xlabel('Data Value')\n",
    "ax.set_ylabel('Density')\n",
    "ax.set_title('Data Vs. Null and Alternative PDF')\n",
    "ax.grid()\n",
    "ax.legend()\n",
    "plt.show()"
   ]
  },
  {
   "cell_type": "markdown",
   "metadata": {},
   "source": [
    "# Part 2"
   ]
  },
  {
   "cell_type": "markdown",
   "metadata": {},
   "source": [
    "The test statistic is the sample mean."
   ]
  },
  {
   "cell_type": "code",
   "execution_count": 7,
   "metadata": {},
   "outputs": [
    {
     "name": "stdout",
     "output_type": "stream",
     "text": [
      "The test statistic is 2.90\n"
     ]
    }
   ],
   "source": [
    "print('The test statistic is {:.2f}'.format(data.mean()))"
   ]
  },
  {
   "cell_type": "code",
   "execution_count": 8,
   "metadata": {},
   "outputs": [
    {
     "data": {
      "text/plain": [
       "2.899650532"
      ]
     },
     "execution_count": 8,
     "metadata": {},
     "output_type": "execute_result"
    }
   ],
   "source": [
    "data.mean()"
   ]
  },
  {
   "cell_type": "markdown",
   "metadata": {},
   "source": [
    "# Part 3"
   ]
  },
  {
   "cell_type": "markdown",
   "metadata": {},
   "source": [
    "$n$ is the number of events used when calculating the mean, $N$ is the total number of means calculated. We use $n=40$ because the test statistic we calculated from the data set comes from 40 data points:"
   ]
  },
  {
   "cell_type": "code",
   "execution_count": 9,
   "metadata": {},
   "outputs": [
    {
     "data": {
      "text/plain": [
       "40"
      ]
     },
     "execution_count": 9,
     "metadata": {},
     "output_type": "execute_result"
    }
   ],
   "source": [
    "len(data)"
   ]
  },
  {
   "cell_type": "code",
   "execution_count": 10,
   "metadata": {},
   "outputs": [],
   "source": [
    "n = 40\n",
    "N = 10000"
   ]
  },
  {
   "cell_type": "markdown",
   "metadata": {},
   "source": [
    "### Part 3.1 Get Random Events"
   ]
  },
  {
   "cell_type": "markdown",
   "metadata": {},
   "source": [
    "This function computes the mean of $n$ random events $N$ times (stored in array of length $N$)."
   ]
  },
  {
   "cell_type": "code",
   "execution_count": 11,
   "metadata": {},
   "outputs": [],
   "source": [
    "def compute_mean(d, n, N):\n",
    "    return np.array([np.mean(np.random.exponential(scale=1.0, size=n)\n",
    "               + np.random.uniform(low=0, high=d, size=n)) for i in range(N)])"
   ]
  },
  {
   "cell_type": "markdown",
   "metadata": {},
   "source": [
    "Obtain both the null and alternative data, changing $d$ accordingly."
   ]
  },
  {
   "cell_type": "code",
   "execution_count": 12,
   "metadata": {},
   "outputs": [],
   "source": [
    "test_null = compute_mean(d_null, n, N)\n",
    "test_alt = compute_mean(d_alt, n, N)\n",
    "bins = np.arange(2.5,4.5,0.1)"
   ]
  },
  {
   "cell_type": "markdown",
   "metadata": {},
   "source": [
    "### Part 3.2 Get PDFs"
   ]
  },
  {
   "cell_type": "markdown",
   "metadata": {},
   "source": [
    "The central limit theorem says that the statistic\n",
    "\n",
    "$$\\bar{Y} = \\sum_{i=1}^n Y_i $$\n",
    "\n",
    "approaches a Gaussian distribution with $\\mu_\\bar{Y}=\\mu_Y$ and $\\sigma_{\\bar{Y}}=\\sigma_Y/\\sqrt{n}$ for large $n$. We have\n",
    "\n",
    "\\begin{align*}\n",
    "    E[Y] &= E[X]+E[T]\\\\\n",
    "    &=\\frac{d}{2}+1\n",
    "\\end{align*}\n",
    "\n",
    "and\n",
    "\n",
    "\\begin{align*}\n",
    "    E[Y^2] &= E[(X+T)^2]\\\\\n",
    "    &=E[X^2]+E[T^2]+2E[X]E[T]\\\\\n",
    "    &= \\frac{d^2}{3}+2+d\n",
    "\\end{align*}\n",
    "\n",
    "and thus\n",
    "\n",
    "$$\\mu_Y = E[Y] = \\frac{d}{2}+1$$\n",
    "\n",
    "and\n",
    "\n",
    "$$\\sigma_Y^2 = E[Y^2]-E[Y]^2 = \\frac{d^2}{12}+1$$"
   ]
  },
  {
   "cell_type": "markdown",
   "metadata": {},
   "source": [
    "Here we define the \"central limit Gaussian\" as a function of our parameter $d$ in the hypothesis pdf distributions."
   ]
  },
  {
   "cell_type": "code",
   "execution_count": 13,
   "metadata": {},
   "outputs": [],
   "source": [
    "def Gaussian(x, d, n):\n",
    "    mu = d/2 + 1\n",
    "    sig = np.sqrt((d**2 /12) +1)/np.sqrt(n)\n",
    "    \n",
    "    return 1/np.sqrt(2*np.pi*sig**2) * np.exp(-(x-mu)**2 / (2*sig**2))"
   ]
  },
  {
   "cell_type": "markdown",
   "metadata": {},
   "source": [
    "Obtain the pdfs"
   ]
  },
  {
   "cell_type": "code",
   "execution_count": 14,
   "metadata": {},
   "outputs": [],
   "source": [
    "x = np.linspace(2.5,4.5,1000)\n",
    "gaus_null = Gaussian(x, d_null, n)\n",
    "gaus_alt = Gaussian(x, d_alt, n)"
   ]
  },
  {
   "cell_type": "markdown",
   "metadata": {},
   "source": [
    "### Part 3.3: Plot"
   ]
  },
  {
   "cell_type": "markdown",
   "metadata": {},
   "source": [
    "Below is the plot of everything required."
   ]
  },
  {
   "cell_type": "code",
   "execution_count": 15,
   "metadata": {},
   "outputs": [
    {
     "data": {
      "image/png": "[encoded data removed]",
      "text/plain": [
       "<Figure size 432x288 with 1 Axes>"
      ]
     },
     "metadata": {
      "needs_background": "light"
     },
     "output_type": "display_data"
    }
   ],
   "source": [
    "plt.hist(test_null, bins=bins, alpha=0.5, label='Null Events', density=True)\n",
    "plt.hist(test_alt, bins=bins, alpha=0.5, label='Alt Events', density=True)\n",
    "plt.plot(x, gaus_null, color='b',label='Theory Null PDF')\n",
    "plt.plot(x, gaus_alt, color='red',label='Theory Alt PDF')\n",
    "plt.axvline(data.mean(), color='k', ls='--', label='Observed Mean')\n",
    "plt.xlabel('Data Values')\n",
    "plt.ylabel('Density')\n",
    "plt.title('Distribution of Means')\n",
    "plt.legend()\n",
    "plt.show()"
   ]
  },
  {
   "cell_type": "markdown",
   "metadata": {},
   "source": [
    "# Part 4"
   ]
  },
  {
   "cell_type": "markdown",
   "metadata": {},
   "source": [
    "Since the alternative hypothesis pdf is to the left of the null hypothesis pdf, we choose the anolmalous region to be on the left side of the pdf. The p-value is thus given by\n",
    "\n",
    "$$p=\\int_{-\\infty}^{M}G(x;d,n)dx $$\n",
    "\n",
    "where $G$ is the normal distribution, $d$ specifies the parameter $d$ in the uniform PDF, and $n$ specifies the number of points used when calculating means of our samples. $M$ is the mean of the data set."
   ]
  },
  {
   "cell_type": "code",
   "execution_count": 16,
   "metadata": {},
   "outputs": [
    {
     "name": "stdout",
     "output_type": "stream",
     "text": [
      "P value is 0.01530\n"
     ]
    }
   ],
   "source": [
    "p_value = quad(Gaussian, -np.inf, data.mean(), args=(d_null, n))[0]\n",
    "print('P value is {:.5f}'.format(p_value))"
   ]
  },
  {
   "cell_type": "markdown",
   "metadata": {},
   "source": [
    "Since the p-value is less than 0.05, the null hypothesis is rejected at the 95% confidence level."
   ]
  },
  {
   "cell_type": "markdown",
   "metadata": {},
   "source": [
    "# Part 5"
   ]
  },
  {
   "cell_type": "markdown",
   "metadata": {},
   "source": [
    "The posterior odds are given by\n",
    "\n",
    "$$ \\text{Posterior Odds} = \\frac{P(H_0|x)}{P(H_1|x)} = \\frac{P(x|H_0)}{P(x|H_1)}\\frac{P(H_0)}{P(H_1)} = \\frac{P(x|H_0)}{P(x|H_1)}$$\n",
    "\n",
    "since the two hypotheses are deemed equally likely before measurement. The probability of the null hypothesis, given the data measured, is\n",
    "\n",
    "$$P(H_0|x)=\\frac{1}{1+1/(\\text{Posterior Odds})}$$"
   ]
  },
  {
   "cell_type": "markdown",
   "metadata": {},
   "source": [
    "Below is some savy code to determine the ratio of entries that have a test statistic within 0.1 of the data test statistic value. Recall that we are taking the ratio of entries of the blue histogram to the orange histogram in the dotted region in the plot below. Since these data points were computed using\n",
    "\n",
    "* (i) random generators \n",
    "* (ii) we are taking an interval around the desired location\n",
    "\n",
    "this calculation of the posterior probability is both \n",
    "\n",
    "* (i) a Monte Carlo calculation\n",
    "* (ii) an approximation."
   ]
  },
  {
   "cell_type": "code",
   "execution_count": 17,
   "metadata": {},
   "outputs": [
    {
     "data": {
      "image/png": "[encoded data removed]",
      "text/plain": [
       "<Figure size 432x288 with 1 Axes>"
      ]
     },
     "metadata": {
      "needs_background": "light"
     },
     "output_type": "display_data"
    }
   ],
   "source": [
    "plt.hist(test_null, bins=bins, alpha=0.5, label='Null Events')\n",
    "plt.hist(test_alt, bins=bins, alpha=0.5, label='Alt Events')\n",
    "plt.axvline(data.mean()+0.1, color='k', ls='--')\n",
    "plt.axvline(data.mean()-0.1, color='k', ls='--')\n",
    "plt.axvline(data.mean(), color='r', label='Observed Value')\n",
    "plt.xlabel('Data Values')\n",
    "plt.ylabel('Density')\n",
    "plt.title('Distribution of Means')\n",
    "plt.legend()\n",
    "plt.show()"
   ]
  },
  {
   "cell_type": "markdown",
   "metadata": {},
   "source": [
    "Here is the code to calculate the posterior odds and then the probability that the null hypothesis is true."
   ]
  },
  {
   "cell_type": "code",
   "execution_count": 18,
   "metadata": {},
   "outputs": [
    {
     "name": "stdout",
     "output_type": "stream",
     "text": [
      "Probability that null hypothesis is true (posterior probability) is 0.08973\n"
     ]
    }
   ],
   "source": [
    "post_odds = np.count_nonzero((np.abs(test_null-data.mean()))<=0.1) \\\n",
    "            / np.count_nonzero((np.abs(test_alt-data.mean()))<=0.1)\n",
    "post_prob = 1/(1+1/post_odds)\n",
    "print('Probability that null hypothesis is true (posterior probability) is {:.5f}'.format(post_prob))"
   ]
  },
  {
   "cell_type": "markdown",
   "metadata": {},
   "source": [
    "# Part 6"
   ]
  },
  {
   "cell_type": "markdown",
   "metadata": {},
   "source": [
    "Now we are using the ratio of the blue point to the orange point on the approximate pdfs shown below to calculate the posterior odds. Since the pdfs were computed using the central limit theorem, they are an approximation; since $n=40$ they are likely a good approximation."
   ]
  },
  {
   "cell_type": "code",
   "execution_count": 19,
   "metadata": {},
   "outputs": [
    {
     "data": {
      "image/png": "[encoded data removed]",
      "text/plain": [
       "<Figure size 432x288 with 1 Axes>"
      ]
     },
     "metadata": {
      "needs_background": "light"
     },
     "output_type": "display_data"
    }
   ],
   "source": [
    "plt.plot(x, gaus_null, label='Theory Null PDF')\n",
    "plt.plot(x, gaus_alt, label='Theory Alt PDF')\n",
    "plt.scatter(data.mean(), Gaussian(data.mean(), d_null, n), color='b', s=100)\n",
    "plt.scatter(data.mean(), Gaussian(data.mean(), d_alt, n), color='orange', s=100)\n",
    "plt.axvline(data.mean(), color='r', label='Observed Value')\n",
    "plt.xlabel('Data Values')\n",
    "plt.ylabel('Density')\n",
    "plt.title('Distribution of Means')\n",
    "plt.legend()\n",
    "plt.show()"
   ]
  },
  {
   "cell_type": "markdown",
   "metadata": {},
   "source": [
    "Using the approximate pdfs derived we have"
   ]
  },
  {
   "cell_type": "code",
   "execution_count": 20,
   "metadata": {},
   "outputs": [
    {
     "name": "stdout",
     "output_type": "stream",
     "text": [
      "Probability that null hypothesis is true (posterior probability) is 0.08387\n"
     ]
    }
   ],
   "source": [
    "post_odds = Gaussian(data.mean(), d_null, n)/Gaussian(data.mean(), d_alt, n)\n",
    "post_prob = 1/(1+1/post_odds)\n",
    "print('Probability that null hypothesis is true (posterior probability) is {:.5f}'.format(post_prob))"
   ]
  }
 ],
 "metadata": {
  "kernelspec": {
   "display_name": "Python 3",
   "language": "python",
   "name": "python3"
  },
  "language_info": {
   "codemirror_mode": {
    "name": "ipython",
    "version": 3
   },
   "file_extension": ".py",
   "mimetype": "text/x-python",
   "name": "python",
   "nbconvert_exporter": "python",
   "pygments_lexer": "ipython3",
   "version": "3.6.7"
  }
 },
 "nbformat": 4,
 "nbformat_minor": 2
}
