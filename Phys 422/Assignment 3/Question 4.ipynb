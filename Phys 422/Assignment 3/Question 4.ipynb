{
 "cells": [
  {
   "cell_type": "code",
   "execution_count": 1,
   "metadata": {},
   "outputs": [],
   "source": [
    "import numpy as np\n",
    "import sympy as smp\n",
    "from sympy import Matrix, solve_linear_system\n",
    "from sympy.solvers.solvers import solve_linear_system_LU\n",
    "from sympy import *\n",
    "\n",
    "smp.init_printing()\n",
    "pi = smp.pi"
   ]
  },
  {
   "cell_type": "markdown",
   "metadata": {},
   "source": [
    "Define the symbols"
   ]
  },
  {
   "cell_type": "code",
   "execution_count": 2,
   "metadata": {},
   "outputs": [],
   "source": [
    "# Constants\n",
    "alpha, beta, k1, k2, k3, d = smp.symbols(r'\\alpha, \\beta, k_1, k_2, k_3, d')\n",
    "\n",
    "#Variables\n",
    "AA, BB, CC, DD = smp.symbols(r'A, B, C, D')"
   ]
  },
  {
   "cell_type": "markdown",
   "metadata": {},
   "source": [
    "Define the equations"
   ]
  },
  {
   "cell_type": "code",
   "execution_count": 3,
   "metadata": {},
   "outputs": [],
   "source": [
    "E1 = AA - BB - CC + 1\n",
    "E2 = AA + beta*BB -beta*CC - 1\n",
    "E3 = BB*smp.exp(I*k2*d) + CC*smp.exp(-I*k2*d) - DD*smp.exp(I*k3*d)\n",
    "E4 = BB*smp.exp(I*k2*d) - CC*smp.exp(-I*k2*d) - alpha*DD*smp.exp(I*k3*d)\n",
    "\n",
    "sols = solve([E1, E2, E3, E4], [AA, BB, CC, DD])"
   ]
  },
  {
   "cell_type": "markdown",
   "metadata": {},
   "source": [
    "Compute the solutions"
   ]
  },
  {
   "cell_type": "code",
   "execution_count": 4,
   "metadata": {},
   "outputs": [],
   "source": [
    "T = (alpha*beta*sols[DD]*sols[DD]).simplify()\n",
    "R = (sols[AA]*sols[AA]).simplify()"
   ]
  },
  {
   "cell_type": "markdown",
   "metadata": {},
   "source": [
    "Now we have\n",
    "\n",
    "$$\\alpha=\\frac{v_2}{v_3}=\\frac{n_3}{n_2} \\hspace{8mm} \\beta = \\frac{v_1}{v_2}=\\frac{n_2}{n_1} \\hspace{8mm} k_i=\\frac{\\omega}{v_i}=\\frac{\\omega n_i}{c}$$\n"
   ]
  },
  {
   "cell_type": "code",
   "execution_count": 5,
   "metadata": {},
   "outputs": [],
   "source": [
    "# Constants\n",
    "n1, n2, n3, omega, cc = smp.symbols(r'n_1, n_2, n_3, \\omega, c')"
   ]
  },
  {
   "cell_type": "code",
   "execution_count": 6,
   "metadata": {},
   "outputs": [
    {
     "data": {
      "image/png": "[encoded data removed]",
      "text/latex": [
       "$$\\frac{16 n_{1} n_{2}^{2} n_{3} e^{\\frac{2 i}{c} \\omega d \\left(n_{2} - n_{3}\\right)}}{\\left(n_{1} n_{2} \\left(e^{\\frac{2 i}{c} \\omega d n_{2}} + 1\\right) + n_{1} n_{3} \\left(- e^{\\frac{2 i}{c} \\omega d n_{2}} + 1\\right) + n_{2} \\left(- n_{2} e^{\\frac{2 i}{c} \\omega d n_{2}} + n_{2} + n_{3} e^{\\frac{2 i}{c} \\omega d n_{2}} + n_{3}\\right)\\right)^{2}}$$"
      ],
      "text/plain": [
       "                                                           2⋅ⅈ⋅\\omega⋅d⋅(n₂ - \n",
       "                                                           ───────────────────\n",
       "                                                     2               c        \n",
       "                                             16⋅n₁⋅n₂ ⋅n₃⋅ℯ                   \n",
       "──────────────────────────────────────────────────────────────────────────────\n",
       "                                                                              \n",
       "⎛      ⎛ 2⋅ⅈ⋅\\omega⋅d⋅n₂    ⎞         ⎛   2⋅ⅈ⋅\\omega⋅d⋅n₂    ⎞      ⎛      2⋅ⅈ\n",
       "⎜      ⎜ ───────────────    ⎟         ⎜   ───────────────    ⎟      ⎜      ───\n",
       "⎜      ⎜        c           ⎟         ⎜          c           ⎟      ⎜         \n",
       "⎝n₁⋅n₂⋅⎝ℯ                + 1⎠ + n₁⋅n₃⋅⎝- ℯ                + 1⎠ + n₂⋅⎝- n₂⋅ℯ   \n",
       "\n",
       "n₃)                                            \n",
       "───                                            \n",
       "                                               \n",
       "                                               \n",
       "───────────────────────────────────────────────\n",
       "                                              2\n",
       "⋅\\omega⋅d⋅n₂            2⋅ⅈ⋅\\omega⋅d⋅n₂     ⎞⎞ \n",
       "────────────            ───────────────     ⎟⎟ \n",
       "    c                          c            ⎟⎟ \n",
       "             + n₂ + n₃⋅ℯ                + n₃⎠⎠ "
      ]
     },
     "execution_count": 6,
     "metadata": {},
     "output_type": "execute_result"
    }
   ],
   "source": [
    "T_fin = T.subs({alpha:n3/n2, beta:n2/n1, k2:omega*n2/cc, k3:omega*n3/cc}).simplify()\n",
    "T_fin"
   ]
  },
  {
   "cell_type": "code",
   "execution_count": 7,
   "metadata": {},
   "outputs": [],
   "source": [
    "num1, dem = fraction(T_fin)"
   ]
  },
  {
   "cell_type": "code",
   "execution_count": 12,
   "metadata": {},
   "outputs": [
    {
     "data": {
      "image/png": "[encoded data removed]",
      "text/latex": [
       "$$\\Re{\\left(\\frac{\\left(- n_{1} n_{2} \\left(e^{\\frac{2 i}{c} \\omega d n_{2}} + 1\\right) + n_{1} n_{3} \\left(e^{\\frac{2 i}{c} \\omega d n_{2}} - 1\\right) + n_{2} \\left(- n_{2} e^{\\frac{2 i}{c} \\omega d n_{2}} + n_{2} + n_{3} e^{\\frac{2 i}{c} \\omega d n_{2}} + n_{3}\\right)\\right)^{2}}{\\left(n_{1} n_{2} \\left(e^{\\frac{2 i}{c} \\omega d n_{2}} + 1\\right) - n_{1} n_{3} \\left(e^{\\frac{2 i}{c} \\omega d n_{2}} - 1\\right) + n_{2} \\left(- n_{2} e^{\\frac{2 i}{c} \\omega d n_{2}} + n_{2} + n_{3} e^{\\frac{2 i}{c} \\omega d n_{2}} + n_{3}\\right)\\right)^{2}}\\right)}$$"
      ],
      "text/plain": [
       "  ⎛                                                                           \n",
       "  ⎜⎛        ⎛ 2⋅ⅈ⋅\\omega⋅d⋅n₂    ⎞         ⎛ 2⋅ⅈ⋅\\omega⋅d⋅n₂    ⎞      ⎛      \n",
       "  ⎜⎜        ⎜ ───────────────    ⎟         ⎜ ───────────────    ⎟      ⎜      \n",
       "  ⎜⎜        ⎜        c           ⎟         ⎜        c           ⎟      ⎜      \n",
       "  ⎜⎝- n₁⋅n₂⋅⎝ℯ                + 1⎠ + n₁⋅n₃⋅⎝ℯ                - 1⎠ + n₂⋅⎝- n₂⋅ℯ\n",
       "re⎜───────────────────────────────────────────────────────────────────────────\n",
       "  ⎜                                                                           \n",
       "  ⎜ ⎛      ⎛ 2⋅ⅈ⋅\\omega⋅d⋅n₂    ⎞         ⎛ 2⋅ⅈ⋅\\omega⋅d⋅n₂    ⎞      ⎛      2\n",
       "  ⎜ ⎜      ⎜ ───────────────    ⎟         ⎜ ───────────────    ⎟      ⎜      ─\n",
       "  ⎜ ⎜      ⎜        c           ⎟         ⎜        c           ⎟      ⎜       \n",
       "  ⎝ ⎝n₁⋅n₂⋅⎝ℯ                + 1⎠ - n₁⋅n₃⋅⎝ℯ                - 1⎠ + n₂⋅⎝- n₂⋅ℯ \n",
       "\n",
       "                                                 2⎞\n",
       "2⋅ⅈ⋅\\omega⋅d⋅n₂            2⋅ⅈ⋅\\omega⋅d⋅n₂     ⎞⎞ ⎟\n",
       "───────────────            ───────────────     ⎟⎟ ⎟\n",
       "       c                          c            ⎟⎟ ⎟\n",
       "                + n₂ + n₃⋅ℯ                + n₃⎠⎠ ⎟\n",
       "──────────────────────────────────────────────────⎟\n",
       "                                                2 ⎟\n",
       "⋅ⅈ⋅\\omega⋅d⋅n₂            2⋅ⅈ⋅\\omega⋅d⋅n₂     ⎞⎞  ⎟\n",
       "──────────────            ───────────────     ⎟⎟  ⎟\n",
       "      c                          c            ⎟⎟  ⎟\n",
       "               + n₂ + n₃⋅ℯ                + n₃⎠⎠  ⎠"
      ]
     },
     "execution_count": 12,
     "metadata": {},
     "output_type": "execute_result"
    }
   ],
   "source": [
    "R_fin = R.subs({alpha:n3/n2, beta:n2/n1, k2:omega*n2/cc, k3:omega*n3/cc}).simplify()\n",
    "re(R_fin).simplify()"
   ]
  },
  {
   "cell_type": "code",
   "execution_count": 9,
   "metadata": {},
   "outputs": [],
   "source": [
    "num2, _ = fraction(R_fin)"
   ]
  },
  {
   "cell_type": "code",
   "execution_count": 10,
   "metadata": {},
   "outputs": [
    {
     "data": {
      "image/png": "[encoded data removed]",
      "text/latex": [
       "$$\\frac{n_{1}^{2} n_{2}^{2} e^{\\frac{4 i}{c} \\omega d n_{2}} + 2 n_{1}^{2} n_{2}^{2} e^{\\frac{2 i}{c} \\omega d n_{2}} + n_{1}^{2} n_{2}^{2} - 2 n_{1}^{2} n_{2} n_{3} e^{\\frac{4 i}{c} \\omega d n_{2}} + 2 n_{1}^{2} n_{2} n_{3} + n_{1}^{2} n_{3}^{2} e^{\\frac{4 i}{c} \\omega d n_{2}} - 2 n_{1}^{2} n_{3}^{2} e^{\\frac{2 i}{c} \\omega d n_{2}} + n_{1}^{2} n_{3}^{2} + 2 n_{1} n_{2}^{3} e^{\\frac{4 i}{c} \\omega d n_{2}} - 2 n_{1} n_{2}^{3} - 4 n_{1} n_{2}^{2} n_{3} e^{\\frac{4 i}{c} \\omega d n_{2}} + 16 n_{1} n_{2}^{2} n_{3} e^{\\frac{2 i}{c} \\omega d n_{2}} e^{- \\frac{2 i}{c} \\omega d n_{3}} - 4 n_{1} n_{2}^{2} n_{3} + 2 n_{1} n_{2} n_{3}^{2} e^{\\frac{4 i}{c} \\omega d n_{2}} - 2 n_{1} n_{2} n_{3}^{2} + n_{2}^{4} e^{\\frac{4 i}{c} \\omega d n_{2}} - 2 n_{2}^{4} e^{\\frac{2 i}{c} \\omega d n_{2}} + n_{2}^{4} - 2 n_{2}^{3} n_{3} e^{\\frac{4 i}{c} \\omega d n_{2}} + 2 n_{2}^{3} n_{3} + n_{2}^{2} n_{3}^{2} e^{\\frac{4 i}{c} \\omega d n_{2}} + 2 n_{2}^{2} n_{3}^{2} e^{\\frac{2 i}{c} \\omega d n_{2}} + n_{2}^{2} n_{3}^{2}}{n_{1}^{2} n_{2}^{2} e^{\\frac{4 i}{c} \\omega d n_{2}} + 2 n_{1}^{2} n_{2}^{2} e^{\\frac{2 i}{c} \\omega d n_{2}} + n_{1}^{2} n_{2}^{2} - 2 n_{1}^{2} n_{2} n_{3} e^{\\frac{4 i}{c} \\omega d n_{2}} + 2 n_{1}^{2} n_{2} n_{3} + n_{1}^{2} n_{3}^{2} e^{\\frac{4 i}{c} \\omega d n_{2}} - 2 n_{1}^{2} n_{3}^{2} e^{\\frac{2 i}{c} \\omega d n_{2}} + n_{1}^{2} n_{3}^{2} - 2 n_{1} n_{2}^{3} e^{\\frac{4 i}{c} \\omega d n_{2}} + 2 n_{1} n_{2}^{3} + 4 n_{1} n_{2}^{2} n_{3} e^{\\frac{4 i}{c} \\omega d n_{2}} + 4 n_{1} n_{2}^{2} n_{3} - 2 n_{1} n_{2} n_{3}^{2} e^{\\frac{4 i}{c} \\omega d n_{2}} + 2 n_{1} n_{2} n_{3}^{2} + n_{2}^{4} e^{\\frac{4 i}{c} \\omega d n_{2}} - 2 n_{2}^{4} e^{\\frac{2 i}{c} \\omega d n_{2}} + n_{2}^{4} - 2 n_{2}^{3} n_{3} e^{\\frac{4 i}{c} \\omega d n_{2}} + 2 n_{2}^{3} n_{3} + n_{2}^{2} n_{3}^{2} e^{\\frac{4 i}{c} \\omega d n_{2}} + 2 n_{2}^{2} n_{3}^{2} e^{\\frac{2 i}{c} \\omega d n_{2}} + n_{2}^{2} n_{3}^{2}}$$"
      ],
      "text/plain": [
       "         4⋅ⅈ⋅\\omega⋅d⋅n₂              2⋅ⅈ⋅\\omega⋅d⋅n₂                         \n",
       "         ───────────────              ───────────────                         \n",
       "  2   2         c              2   2         c            2   2       2       \n",
       "n₁ ⋅n₂ ⋅ℯ                + 2⋅n₁ ⋅n₂ ⋅ℯ                + n₁ ⋅n₂  - 2⋅n₁ ⋅n₂⋅n₃⋅\n",
       "──────────────────────────────────────────────────────────────────────────────\n",
       "                                   4⋅ⅈ⋅\\omega⋅d⋅n₂              2⋅ⅈ⋅\\omega⋅d⋅n\n",
       "                                   ───────────────              ──────────────\n",
       "                            2   2         c              2   2         c      \n",
       "                          n₁ ⋅n₂ ⋅ℯ                + 2⋅n₁ ⋅n₂ ⋅ℯ              \n",
       "\n",
       " 4⋅ⅈ⋅\\omega⋅d⋅n₂                          4⋅ⅈ⋅\\omega⋅d⋅n₂              2⋅ⅈ⋅\\om\n",
       " ───────────────                          ───────────────              ───────\n",
       "        c              2           2   2         c              2   2         \n",
       "ℯ                + 2⋅n₁ ⋅n₂⋅n₃ + n₁ ⋅n₃ ⋅ℯ                - 2⋅n₁ ⋅n₃ ⋅ℯ       \n",
       "──────────────────────────────────────────────────────────────────────────────\n",
       "₂                          4⋅ⅈ⋅\\omega⋅d⋅n₂                          4⋅ⅈ⋅\\omega\n",
       "─                          ───────────────                          ──────────\n",
       "      2   2       2               c              2           2   2         c  \n",
       "  + n₁ ⋅n₂  - 2⋅n₁ ⋅n₂⋅n₃⋅ℯ                + 2⋅n₁ ⋅n₂⋅n₃ + n₁ ⋅n₃ ⋅ℯ          \n",
       "\n",
       "ega⋅d⋅n₂                       4⋅ⅈ⋅\\omega⋅d⋅n₂                           4⋅ⅈ⋅\\\n",
       "────────                       ───────────────                           ─────\n",
       "c            2   2          3         c                 3          2          \n",
       "         + n₁ ⋅n₃  + 2⋅n₁⋅n₂ ⋅ℯ                - 2⋅n₁⋅n₂  - 4⋅n₁⋅n₂ ⋅n₃⋅ℯ     \n",
       "──────────────────────────────────────────────────────────────────────────────\n",
       "⋅d⋅n₂              2⋅ⅈ⋅\\omega⋅d⋅n₂                       4⋅ⅈ⋅\\omega⋅d⋅n₂      \n",
       "─────              ───────────────                       ───────────────      \n",
       "            2   2         c            2   2          3         c             \n",
       "      - 2⋅n₁ ⋅n₃ ⋅ℯ                + n₁ ⋅n₃  - 2⋅n₁⋅n₂ ⋅ℯ                + 2⋅n\n",
       "\n",
       "omega⋅d⋅n₂                 2⋅ⅈ⋅\\omega⋅d⋅n₂  -2⋅ⅈ⋅\\omega⋅d⋅n₃                  \n",
       "──────────                 ───────────────  ─────────────────                 \n",
       "  c                  2            c                 c                  2      \n",
       "           + 16⋅n₁⋅n₂ ⋅n₃⋅ℯ               ⋅ℯ                  - 4⋅n₁⋅n₂ ⋅n₃ + \n",
       "──────────────────────────────────────────────────────────────────────────────\n",
       "                     4⋅ⅈ⋅\\omega⋅d⋅n₂                              4⋅ⅈ⋅\\omega⋅d\n",
       "                     ───────────────                              ────────────\n",
       "    3          2            c                 2                2         c    \n",
       "₁⋅n₂  + 4⋅n₁⋅n₂ ⋅n₃⋅ℯ                + 4⋅n₁⋅n₂ ⋅n₃ - 2⋅n₁⋅n₂⋅n₃ ⋅ℯ            \n",
       "\n",
       "             4⋅ⅈ⋅\\omega⋅d⋅n₂                      4⋅ⅈ⋅\\omega⋅d⋅n₂          2⋅ⅈ\n",
       "             ───────────────                      ───────────────          ───\n",
       "          2         c                    2     4         c              4     \n",
       "2⋅n₁⋅n₂⋅n₃ ⋅ℯ                - 2⋅n₁⋅n₂⋅n₃  + n₂ ⋅ℯ                - 2⋅n₂ ⋅ℯ   \n",
       "──────────────────────────────────────────────────────────────────────────────\n",
       "⋅n₂                      4⋅ⅈ⋅\\omega⋅d⋅n₂          2⋅ⅈ⋅\\omega⋅d⋅n₂             \n",
       "───                      ───────────────          ───────────────             \n",
       "                2     4         c              4         c            4       \n",
       "    + 2⋅n₁⋅n₂⋅n₃  + n₂ ⋅ℯ                - 2⋅n₂ ⋅ℯ                + n₂  - 2⋅n₂\n",
       "\n",
       "⋅\\omega⋅d⋅n₂                   4⋅ⅈ⋅\\omega⋅d⋅n₂                       4⋅ⅈ⋅\\omeg\n",
       "────────────                   ───────────────                       ─────────\n",
       "    c            4       3            c              3        2   2         c \n",
       "             + n₂  - 2⋅n₂ ⋅n₃⋅ℯ                + 2⋅n₂ ⋅n₃ + n₂ ⋅n₃ ⋅ℯ         \n",
       "──────────────────────────────────────────────────────────────────────────────\n",
       "      4⋅ⅈ⋅\\omega⋅d⋅n₂                       4⋅ⅈ⋅\\omega⋅d⋅n₂              2⋅ⅈ⋅\\\n",
       "      ───────────────                       ───────────────              ─────\n",
       "3            c              3        2   2         c              2   2       \n",
       " ⋅n₃⋅ℯ                + 2⋅n₂ ⋅n₃ + n₂ ⋅n₃ ⋅ℯ                + 2⋅n₂ ⋅n₃ ⋅ℯ     \n",
       "\n",
       "a⋅d⋅n₂              2⋅ⅈ⋅\\omega⋅d⋅n₂          \n",
       "──────              ───────────────          \n",
       "             2   2         c            2   2\n",
       "       + 2⋅n₂ ⋅n₃ ⋅ℯ                + n₂ ⋅n₃ \n",
       "─────────────────────────────────────────────\n",
       "omega⋅d⋅n₂                                   \n",
       "──────────                                   \n",
       "  c            2   2                         \n",
       "           + n₂ ⋅n₃                          "
      ]
     },
     "execution_count": 10,
     "metadata": {},
     "output_type": "execute_result"
    }
   ],
   "source": [
    "((num1+num2).expand())/(dem.expand())"
   ]
  }
 ],
 "metadata": {
  "kernelspec": {
   "display_name": "Python 3",
   "language": "python",
   "name": "python3"
  },
  "language_info": {
   "codemirror_mode": {
    "name": "ipython",
    "version": 3
   },
   "file_extension": ".py",
   "mimetype": "text/x-python",
   "name": "python",
   "nbconvert_exporter": "python",
   "pygments_lexer": "ipython3",
   "version": "3.6.5"
  }
 },
 "nbformat": 4,
 "nbformat_minor": 2
}
