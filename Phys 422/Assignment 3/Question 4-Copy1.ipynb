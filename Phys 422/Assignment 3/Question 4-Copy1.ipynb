{
 "cells": [
  {
   "cell_type": "code",
   "execution_count": 1,
   "metadata": {},
   "outputs": [],
   "source": [
    "import numpy as np\n",
    "import sympy as smp\n",
    "from sympy import Matrix, solve_linear_system\n",
    "from sympy.solvers.solvers import solve_linear_system_LU\n",
    "from sympy import *\n",
    "\n",
    "import matplotlib.pyplot as plt\n",
    "%config InlineBackend.figure_format = 'svg'\n",
    "\n",
    "smp.init_printing()\n",
    "pi = smp.pi"
   ]
  },
  {
   "cell_type": "markdown",
   "metadata": {},
   "source": [
    "## Define the Symbols Used"
   ]
  },
  {
   "cell_type": "code",
   "execution_count": 2,
   "metadata": {},
   "outputs": [],
   "source": [
    "# Constants\n",
    "alpha, beta, k1, k2, k3, d = smp.symbols(r'\\alpha, \\beta, k_1, k_2, k_3, d', real=True)\n",
    "J = smp.symbols(r'J', real=True)\n",
    "\n",
    "#Variables\n",
    "AA, BB, CC, DD = smp.symbols(r'A, B, C, D')"
   ]
  },
  {
   "cell_type": "markdown",
   "metadata": {},
   "source": [
    "Here we define our own complex exponential function. We don't use sympys exponential function because sympy has problems converting from complex exponentials to sines and cosines, and this ensures that our final answer is real."
   ]
  },
  {
   "cell_type": "code",
   "execution_count": 3,
   "metadata": {},
   "outputs": [],
   "source": [
    "def c_exp(k, J):\n",
    "    return cos(k*d)+J*sin(k*d)"
   ]
  },
  {
   "cell_type": "markdown",
   "metadata": {},
   "source": [
    "## Define and Solve the Equations"
   ]
  },
  {
   "cell_type": "markdown",
   "metadata": {},
   "source": [
    "Note that ''AA'' corresponds to the variable ''a'' on the written work, and so on. The standard of sympy is that when it solves the equations, it assumes they are all equal to zero."
   ]
  },
  {
   "cell_type": "code",
   "execution_count": 4,
   "metadata": {},
   "outputs": [],
   "source": [
    "E1 = AA - BB - CC + 1\n",
    "E2 = AA + beta*BB -beta*CC - 1\n",
    "E3 = BB*c_exp(k2, J) + CC*c_exp(-k2, J) - DD*c_exp(k3, J)\n",
    "E4 = BB*c_exp(k2, J) - CC*c_exp(-k2, J) - alpha*DD*c_exp(k3, J)\n",
    "\n",
    "sols = solve([E1, E2, E3, E4], [AA, BB, CC, DD])"
   ]
  },
  {
   "cell_type": "markdown",
   "metadata": {},
   "source": [
    "## Compute T and R"
   ]
  },
  {
   "cell_type": "markdown",
   "metadata": {},
   "source": [
    "We have to multiply by the complex conjugate, so we replace $J$ with $-J$ in the second expression."
   ]
  },
  {
   "cell_type": "code",
   "execution_count": 5,
   "metadata": {},
   "outputs": [],
   "source": [
    "T = (alpha*beta*sols[DD]*sols[DD].subs(J, -J)).simplify()\n",
    "R = (sols[AA]*sols[AA].subs(J, -J)).simplify()"
   ]
  },
  {
   "cell_type": "markdown",
   "metadata": {},
   "source": [
    "Now we need to sub $\\alpha$, $\\beta$, and $k$ into the equations above.\n",
    "\n",
    "$$\\alpha=\\frac{v_2}{v_3}=\\frac{n_3}{n_2} \\hspace{8mm} \\beta = \\frac{v_1}{v_2}=\\frac{n_2}{n_1} \\hspace{8mm} k_i=\\frac{\\omega}{v_i}=\\frac{\\omega n_i}{c}$$\n",
    "\n",
    "We also need to replace $J$ with $i$, which we held off from doing in the first place."
   ]
  },
  {
   "cell_type": "code",
   "execution_count": 6,
   "metadata": {},
   "outputs": [],
   "source": [
    "# Constants\n",
    "n1, n2, n3, omega, cc = smp.symbols(r'n_1, n_2, n_3, \\omega, c', real=True)"
   ]
  },
  {
   "cell_type": "markdown",
   "metadata": {},
   "source": [
    "## Print T and R"
   ]
  },
  {
   "cell_type": "markdown",
   "metadata": {},
   "source": [
    "Note that there are a few more simplifications that can probably be done with the trigonometric expressions, but these expressions are certainly short enough and one can easily evaluate them when the quantities are specified."
   ]
  },
  {
   "cell_type": "code",
   "execution_count": 7,
   "metadata": {},
   "outputs": [
    {
     "data": {
      "image/png": "[encoded data removed]",
      "text/latex": [
       "$$\\frac{4 n_{1} n_{2}^{2} n_{3}}{- n_{1}^{2} n_{2}^{2} \\sin^{2}{\\left (\\frac{\\omega d}{c} n_{2} \\right )} + n_{1}^{2} n_{2}^{2} + n_{1}^{2} n_{3}^{2} \\sin^{2}{\\left (\\frac{\\omega d}{c} n_{2} \\right )} + 2 n_{1} n_{2}^{2} n_{3} + n_{2}^{4} \\sin^{2}{\\left (\\frac{\\omega d}{c} n_{2} \\right )} - n_{2}^{2} n_{3}^{2} \\sin^{2}{\\left (\\frac{\\omega d}{c} n_{2} \\right )} + n_{2}^{2} n_{3}^{2}}$$"
      ],
      "text/plain": [
       "                                                                        2     \n",
       "                                                                 4⋅n₁⋅n₂ ⋅n₃  \n",
       "──────────────────────────────────────────────────────────────────────────────\n",
       "    2   2    2⎛\\omega⋅d⋅n₂⎞     2   2     2   2    2⎛\\omega⋅d⋅n₂⎞          2  \n",
       "- n₁ ⋅n₂ ⋅sin ⎜───────────⎟ + n₁ ⋅n₂  + n₁ ⋅n₃ ⋅sin ⎜───────────⎟ + 2⋅n₁⋅n₂ ⋅n\n",
       "              ⎝     c     ⎠                         ⎝     c     ⎠             \n",
       "\n",
       "                                                               \n",
       "                                                               \n",
       "───────────────────────────────────────────────────────────────\n",
       "      4    2⎛\\omega⋅d⋅n₂⎞     2   2    2⎛\\omega⋅d⋅n₂⎞     2   2\n",
       "₃ + n₂ ⋅sin ⎜───────────⎟ - n₂ ⋅n₃ ⋅sin ⎜───────────⎟ + n₂ ⋅n₃ \n",
       "            ⎝     c     ⎠               ⎝     c     ⎠          "
      ]
     },
     "execution_count": 7,
     "metadata": {},
     "output_type": "execute_result"
    }
   ],
   "source": [
    "T_fin = T.subs({alpha:n3/n2, beta:n2/n1, k2:omega*n2/cc, k3:omega*n3/cc, J:I}).simplify()\n",
    "T_fin"
   ]
  },
  {
   "cell_type": "code",
   "execution_count": 21,
   "metadata": {},
   "outputs": [],
   "source": [
    "X = (16*n1*n3*n2**2)/(((n1+n2)**2)*((n1+n3)**2)\n",
    "                      +((n1-n2)**2)*((n1-n3)**2)+2*(n1**2-n2**2)*(n2**2-n3**2)*smp.cos(2*omega*n2/cc*d))"
   ]
  },
  {
   "cell_type": "code",
   "execution_count": 22,
   "metadata": {},
   "outputs": [
    {
     "data": {
      "image/png": "[encoded data removed]",
      "text/latex": [
       "$$\\frac{16 n_{1} n_{2}^{2} n_{3}}{\\left(n_{1} - n_{2}\\right)^{2} \\left(n_{1} - n_{3}\\right)^{2} + \\left(n_{1} + n_{2}\\right)^{2} \\left(n_{1} + n_{3}\\right)^{2} + \\left(2 n_{1}^{2} - 2 n_{2}^{2}\\right) \\left(n_{2}^{2} - n_{3}^{2}\\right) \\cos{\\left (\\frac{2 \\omega}{c} d n_{2} \\right )}}$$"
      ],
      "text/plain": [
       "                                                 2                            \n",
       "                                         16⋅n₁⋅n₂ ⋅n₃                         \n",
       "──────────────────────────────────────────────────────────────────────────────\n",
       "         2          2            2          2   ⎛    2       2⎞ ⎛  2     2⎞   \n",
       "(n₁ - n₂) ⋅(n₁ - n₃)  + (n₁ + n₂) ⋅(n₁ + n₃)  + ⎝2⋅n₁  - 2⋅n₂ ⎠⋅⎝n₂  - n₃ ⎠⋅co\n",
       "                                                                              \n",
       "\n",
       "                \n",
       "                \n",
       "────────────────\n",
       " ⎛2⋅\\omega⋅d⋅n₂⎞\n",
       "s⎜─────────────⎟\n",
       " ⎝      c      ⎠"
      ]
     },
     "execution_count": 22,
     "metadata": {},
     "output_type": "execute_result"
    }
   ],
   "source": [
    "X"
   ]
  },
  {
   "cell_type": "code",
   "execution_count": 26,
   "metadata": {},
   "outputs": [
    {
     "data": {
      "image/png": "[encoded data removed]",
      "text/latex": [
       "$$\\frac{n_{1} n_{2} \\cos{\\left (\\frac{\\omega d}{c} n_{2} \\right )} - i n_{1} n_{3} \\sin{\\left (\\frac{\\omega d}{c} n_{2} \\right )} + n_{2} \\left(i n_{2} \\sin{\\left (\\frac{\\omega d}{c} n_{2} \\right )} - n_{3} \\cos{\\left (\\frac{\\omega d}{c} n_{2} \\right )}\\right)}{n_{1} n_{2} \\cos{\\left (\\frac{\\omega d}{c} n_{2} \\right )} - i n_{1} n_{3} \\sin{\\left (\\frac{\\omega d}{c} n_{2} \\right )} + n_{2} \\left(- i n_{2} \\sin{\\left (\\frac{\\omega d}{c} n_{2} \\right )} + n_{3} \\cos{\\left (\\frac{\\omega d}{c} n_{2} \\right )}\\right)}$$"
      ],
      "text/plain": [
       "          ⎛\\omega⋅d⋅n₂⎞              ⎛\\omega⋅d⋅n₂⎞      ⎛        ⎛\\omega⋅d⋅n₂⎞\n",
       " n₁⋅n₂⋅cos⎜───────────⎟ - ⅈ⋅n₁⋅n₃⋅sin⎜───────────⎟ + n₂⋅⎜ⅈ⋅n₂⋅sin⎜───────────⎟\n",
       "          ⎝     c     ⎠              ⎝     c     ⎠      ⎝        ⎝     c     ⎠\n",
       "──────────────────────────────────────────────────────────────────────────────\n",
       "         ⎛\\omega⋅d⋅n₂⎞              ⎛\\omega⋅d⋅n₂⎞      ⎛          ⎛\\omega⋅d⋅n₂\n",
       "n₁⋅n₂⋅cos⎜───────────⎟ - ⅈ⋅n₁⋅n₃⋅sin⎜───────────⎟ + n₂⋅⎜- ⅈ⋅n₂⋅sin⎜───────────\n",
       "         ⎝     c     ⎠              ⎝     c     ⎠      ⎝          ⎝     c     \n",
       "\n",
       "         ⎛\\omega⋅d⋅n₂⎞⎞ \n",
       " - n₃⋅cos⎜───────────⎟⎟ \n",
       "         ⎝     c     ⎠⎠ \n",
       "────────────────────────\n",
       "⎞         ⎛\\omega⋅d⋅n₂⎞⎞\n",
       "⎟ + n₃⋅cos⎜───────────⎟⎟\n",
       "⎠         ⎝     c     ⎠⎠"
      ]
     },
     "execution_count": 26,
     "metadata": {},
     "output_type": "execute_result"
    }
   ],
   "source": [
    "sols[AA].subs({alpha:n3/n2, beta:n2/n1, k2:omega*n2/cc, k3:omega*n3/cc, J:I}).simplify()"
   ]
  },
  {
   "cell_type": "code",
   "execution_count": null,
   "metadata": {},
   "outputs": [],
   "source": [
    "R_fin = R.subs({alpha:n3/n2, beta:n2/n1, k2:omega*n2/cc, k3:omega*n3/cc, J:I}).simplify()\n",
    "R_fin"
   ]
  },
  {
   "cell_type": "markdown",
   "metadata": {},
   "source": [
    "## Show that Their Sum is 1"
   ]
  },
  {
   "cell_type": "code",
   "execution_count": null,
   "metadata": {},
   "outputs": [],
   "source": [
    "(T_fin+R_fin).simplify()"
   ]
  },
  {
   "cell_type": "markdown",
   "metadata": {},
   "source": [
    "# A Fun Little Extension"
   ]
  },
  {
   "cell_type": "markdown",
   "metadata": {},
   "source": [
    "Lets plot what happens to these coefficients as $d$ gets bigger over a water, glass, air boundary (through a fishbowl). Lets assume the frequency is around that of visible light."
   ]
  },
  {
   "cell_type": "code",
   "execution_count": null,
   "metadata": {},
   "outputs": [],
   "source": [
    "spd_of_light = 3*10**8\n",
    "freq_of_light = (500*10**12)/(2*smp.pi)\n",
    "indx_1 = 1.33\n",
    "indx_2 = 1.52\n",
    "indx_3 = 1"
   ]
  },
  {
   "cell_type": "markdown",
   "metadata": {},
   "source": [
    "Substitute these vlaues into the expressions."
   ]
  },
  {
   "cell_type": "code",
   "execution_count": null,
   "metadata": {},
   "outputs": [],
   "source": [
    "T_eval = T_fin.subs({n1: indx_1, n2: indx_2, n3: indx_3, cc: spd_of_light, omega:freq_of_light})\n",
    "R_eval = R_fin.subs({n1: indx_1, n2: indx_2, n3: indx_3, cc: spd_of_light, omega:freq_of_light})"
   ]
  },
  {
   "cell_type": "markdown",
   "metadata": {},
   "source": [
    "Functions to get transmission and reflection coefficients."
   ]
  },
  {
   "cell_type": "code",
   "execution_count": null,
   "metadata": {},
   "outputs": [],
   "source": [
    "def get_T(dd):\n",
    "    return T_eval.subs({d:dd}).evalf()\n",
    "def get_R(dd):\n",
    "    return R_eval.subs({d:dd}).evalf()\n",
    "def get_X(dd)"
   ]
  },
  {
   "cell_type": "markdown",
   "metadata": {},
   "source": [
    "Get the values."
   ]
  },
  {
   "cell_type": "code",
   "execution_count": null,
   "metadata": {},
   "outputs": [],
   "source": [
    "d_vals = np.linspace(0,0.0001,1000)\n",
    "T_vals = np.array([get_T(i) for i in d_vals])\n",
    "R_vals = np.array([get_R(i) for i in d_vals])"
   ]
  },
  {
   "cell_type": "markdown",
   "metadata": {},
   "source": [
    "Plot."
   ]
  },
  {
   "cell_type": "code",
   "execution_count": null,
   "metadata": {},
   "outputs": [],
   "source": [
    "fig, ax = plt.subplots(2,1, figsize=(10,10))\n",
    "\n",
    "ax[0].plot(d_vals*1000, T_vals)\n",
    "ax[1].plot(d_vals*1000, R_vals, c='r')\n",
    "\n",
    "ax[0].set_ylabel('Transmission Coefficient T')\n",
    "ax[1].set_ylabel('Reflection Coefficient R')\n",
    "\n",
    "ax[0].set_title('Reflection and Transmision Through a Water-Glass-Air Boundary')\n",
    "\n",
    "[a.set_xlabel('Distance (mm)') for a in ax]\n",
    "\n",
    "plt.show()"
   ]
  },
  {
   "cell_type": "markdown",
   "metadata": {},
   "source": [
    "These oscillations are present in small distances. Over a large distance scales, they remain relatively constant."
   ]
  },
  {
   "cell_type": "code",
   "execution_count": null,
   "metadata": {},
   "outputs": [],
   "source": [
    "d_vals = np.linspace(0,1,10000)\n",
    "T_vals = np.array([get_T(i) for i in d_vals])\n",
    "R_vals = np.array([get_R(i) for i in d_vals])"
   ]
  },
  {
   "cell_type": "markdown",
   "metadata": {},
   "source": [
    "We plot again. Note that any apparent frequencies are actually due to a sampling rate greater than the nyquist frequency."
   ]
  },
  {
   "cell_type": "code",
   "execution_count": null,
   "metadata": {},
   "outputs": [],
   "source": [
    "fig, ax = plt.subplots(1,1, figsize=(10,5))\n",
    "\n",
    "ax.plot(d_vals, T_vals, label=\"Transmission T\")\n",
    "ax.plot(d_vals, R_vals, c='r', label=\"Reflection R\")\n",
    "\n",
    "ax.set_ylabel('Reflection/Transmission')\n",
    "ax.set_xlabel('Distance (m)')\n",
    "ax.set_title('Reflection and Transmision Through a Water-Glass-Air Boundary')\n",
    "\n",
    "ax.legend()\n",
    "\n",
    "plt.show()"
   ]
  },
  {
   "cell_type": "markdown",
   "metadata": {},
   "source": [
    "So the transmission and reflection appears to be independent of the amount of glass used between the water and the air."
   ]
  }
 ],
 "metadata": {
  "kernelspec": {
   "display_name": "Python 3",
   "language": "python",
   "name": "python3"
  },
  "language_info": {
   "codemirror_mode": {
    "name": "ipython",
    "version": 3
   },
   "file_extension": ".py",
   "mimetype": "text/x-python",
   "name": "python",
   "nbconvert_exporter": "python",
   "pygments_lexer": "ipython3",
   "version": "3.6.7"
  }
 },
 "nbformat": 4,
 "nbformat_minor": 2
}
