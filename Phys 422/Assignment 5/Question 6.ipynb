{
 "cells": [
  {
   "cell_type": "markdown",
   "metadata": {},
   "source": [
    "# Question 6"
   ]
  },
  {
   "cell_type": "code",
   "execution_count": 1,
   "metadata": {},
   "outputs": [],
   "source": [
    "import numpy as np\n",
    "import matplotlib.pyplot as plt\n",
    "from matplotlib import animation"
   ]
  },
  {
   "cell_type": "markdown",
   "metadata": {},
   "source": [
    "$t_0$ is 30 time steps, and $\\sigma$ is 10 spacial steps"
   ]
  },
  {
   "cell_type": "code",
   "execution_count": 2,
   "metadata": {},
   "outputs": [],
   "source": [
    "t0 = 30\n",
    "sig = 10\n",
    "imp0 = 377"
   ]
  },
  {
   "cell_type": "markdown",
   "metadata": {},
   "source": [
    "Total spacial distance is 200 spacial steps and total time is 250 time steps."
   ]
  },
  {
   "cell_type": "code",
   "execution_count": 3,
   "metadata": {},
   "outputs": [],
   "source": [
    "size = 201\n",
    "maxtime = 650"
   ]
  },
  {
   "cell_type": "markdown",
   "metadata": {},
   "source": [
    "This function is used to help define the initial condition."
   ]
  },
  {
   "cell_type": "code",
   "execution_count": 4,
   "metadata": {},
   "outputs": [],
   "source": [
    "def gaussian(x, mu, sig):\n",
    "    return np.exp(-np.power(x - mu, 2.) / (np.power(sig, 2.)))"
   ]
  },
  {
   "cell_type": "markdown",
   "metadata": {},
   "source": [
    "Create dielectrics in the appropriate regions."
   ]
  },
  {
   "cell_type": "code",
   "execution_count": 5,
   "metadata": {},
   "outputs": [],
   "source": [
    "epsR = np.zeros(shape=size)\n",
    "for i in range(len(epsR)):\n",
    "    if np.abs(i-size/2) <= 7*sig:\n",
    "        epsR[i] = 1\n",
    "    if np.abs(i-size/2) >= 7*sig:\n",
    "        epsR[i] = 5"
   ]
  },
  {
   "cell_type": "markdown",
   "metadata": {},
   "source": [
    "Finds the electric and magnetic field over all time (ez_alltime and hy_alltime are 2d arrays containing all the spacial and temporal information required)."
   ]
  },
  {
   "cell_type": "code",
   "execution_count": 6,
   "metadata": {},
   "outputs": [],
   "source": [
    "ez = np.zeros(size)\n",
    "hy = np.zeros(size)\n",
    "\n",
    "ez_alltime = np.zeros((maxtime, size))\n",
    "hy_alltime = np.zeros((maxtime, size))\n",
    "\n",
    "for tt in range(maxtime):\n",
    "    ez_alltime[tt] = ez\n",
    "    hy_alltime[tt] = hy\n",
    "    \n",
    "    for mm in range(0, size-1):\n",
    "        hy[mm] = hy[mm]+(ez[mm+1]-ez[mm]) / imp0 / epsR[mm]   \n",
    "    \n",
    "    for mm in range(1, size): \n",
    "        ez[mm] = ez[mm] + (hy[mm] - hy[mm-1]) * imp0\n",
    "    ez[0] = ez[1]\n",
    "    \n",
    "    if tt<120:\n",
    "        ez[100] = gaussian(tt, t0, sig)"
   ]
  },
  {
   "cell_type": "markdown",
   "metadata": {},
   "source": [
    "This is used for animation:"
   ]
  },
  {
   "cell_type": "code",
   "execution_count": 9,
   "metadata": {},
   "outputs": [],
   "source": [
    "x = np.arange(0, size, 1) - int(size/2)\n",
    "\n",
    "def animate(i):\n",
    "    ax[0].clear()\n",
    "    ax[0].set_ylim(0, 1.3)\n",
    "    ax[0].set_xlim(min(x), max(x))\n",
    "    ax[0].text(60, 1.13, 'Time {}as'.format(i*10), fontsize=8,\n",
    "            bbox={'facecolor':'white', 'alpha':1, 'pad':10})\n",
    "    ax[0].set_xlabel('Distance (nm)')\n",
    "    ax[0].set_ylabel(r'$E_z/E_0$')\n",
    "    ax[0].set_title('Time Evolution of Electric Field')\n",
    "    ax[0].grid()\n",
    "    ax[0].plot(x, ez_alltime[i], lw = 5)\n",
    "    \n",
    "    ax[1].clear()\n",
    "    ax[1].set_ylim(-1.2, 1.2)\n",
    "    ax[1].set_xlim(min(x), max(x))\n",
    "    ax[1].set_xlabel('Distance (nm)')\n",
    "    ax[1].set_ylabel(r'$B_y/B_0$')\n",
    "    ax[1].set_title('Time Evolution of Magnetic Field')\n",
    "    ax[1].grid()\n",
    "    ax[1].plot(x, imp0*hy_alltime[i], lw = 5, color='r')\n",
    "    fig.tight_layout()"
   ]
  },
  {
   "cell_type": "markdown",
   "metadata": {},
   "source": [
    "We choose the units of nm and atto-seconds because these are appropriate units for visible light."
   ]
  },
  {
   "cell_type": "markdown",
   "metadata": {},
   "source": [
    "## Animate"
   ]
  },
  {
   "cell_type": "code",
   "execution_count": 1,
   "metadata": {},
   "outputs": [
    {
     "ename": "NameError",
     "evalue": "name 'plt' is not defined",
     "output_type": "error",
     "traceback": [
      "\u001b[0;31m---------------------------------------------------------------------------\u001b[0m",
      "\u001b[0;31mNameError\u001b[0m                                 Traceback (most recent call last)",
      "\u001b[0;32m<ipython-input-1-8e0163de62e4>\u001b[0m in \u001b[0;36m<module>\u001b[0;34m()\u001b[0m\n\u001b[0;32m----> 1\u001b[0;31m \u001b[0mfig\u001b[0m\u001b[0;34m,\u001b[0m \u001b[0max\u001b[0m \u001b[0;34m=\u001b[0m \u001b[0mplt\u001b[0m\u001b[0;34m.\u001b[0m\u001b[0msubplots\u001b[0m\u001b[0;34m(\u001b[0m\u001b[0;36m2\u001b[0m\u001b[0;34m,\u001b[0m\u001b[0;36m1\u001b[0m\u001b[0;34m,\u001b[0m \u001b[0mfigsize\u001b[0m\u001b[0;34m=\u001b[0m\u001b[0;34m(\u001b[0m\u001b[0;36m6\u001b[0m\u001b[0;34m,\u001b[0m\u001b[0;36m6\u001b[0m\u001b[0;34m)\u001b[0m\u001b[0;34m)\u001b[0m\u001b[0;34m\u001b[0m\u001b[0;34m\u001b[0m\u001b[0m\n\u001b[0m\u001b[1;32m      2\u001b[0m \u001b[0;34m\u001b[0m\u001b[0m\n\u001b[1;32m      3\u001b[0m \u001b[0mani\u001b[0m \u001b[0;34m=\u001b[0m \u001b[0manimation\u001b[0m\u001b[0;34m.\u001b[0m\u001b[0mFuncAnimation\u001b[0m\u001b[0;34m(\u001b[0m\u001b[0mfig\u001b[0m\u001b[0;34m,\u001b[0m \u001b[0manimate\u001b[0m\u001b[0;34m,\u001b[0m \u001b[0mmaxtime\u001b[0m\u001b[0;34m,\u001b[0m \u001b[0minterval\u001b[0m\u001b[0;34m=\u001b[0m\u001b[0;36m1e2\u001b[0m\u001b[0;34m,\u001b[0m \u001b[0mblit\u001b[0m\u001b[0;34m=\u001b[0m\u001b[0;32mFalse\u001b[0m\u001b[0;34m)\u001b[0m\u001b[0;34m\u001b[0m\u001b[0;34m\u001b[0m\u001b[0m\n\u001b[1;32m      4\u001b[0m \u001b[0mani\u001b[0m\u001b[0;34m.\u001b[0m\u001b[0msave\u001b[0m\u001b[0;34m(\u001b[0m\u001b[0;34m'eb_field.mp4'\u001b[0m\u001b[0;34m,\u001b[0m \u001b[0mfps\u001b[0m\u001b[0;34m=\u001b[0m\u001b[0;36m15\u001b[0m\u001b[0;34m,\u001b[0m \u001b[0mdpi\u001b[0m\u001b[0;34m=\u001b[0m\u001b[0;36m300\u001b[0m\u001b[0;34m)\u001b[0m\u001b[0;34m\u001b[0m\u001b[0;34m\u001b[0m\u001b[0m\n\u001b[1;32m      5\u001b[0m \u001b[0mplt\u001b[0m\u001b[0;34m.\u001b[0m\u001b[0mclose\u001b[0m\u001b[0;34m(\u001b[0m\u001b[0;34m)\u001b[0m\u001b[0;34m\u001b[0m\u001b[0;34m\u001b[0m\u001b[0m\n",
      "\u001b[0;31mNameError\u001b[0m: name 'plt' is not defined"
     ]
    }
   ],
   "source": [
    "fig, ax = plt.subplots(2,1, figsize=(6,6))\n",
    "\n",
    "ani = animation.FuncAnimation(fig, animate, maxtime, interval=1e2, blit=False)\n",
    "ani.save('eb_field.mp4', fps=15, dpi=300)\n",
    "plt.close()"
   ]
  },
  {
   "cell_type": "markdown",
   "metadata": {},
   "source": [
    "Import notice: The plots mention time steps and spacial steps which appear to be arbitrary, but they are not entirely. One can choose a scale for $\\Delta t$ OR for $\\Delta x$ and then the Courant Number\n",
    "\n",
    "$$S_c = \\frac{c \\Delta t}{\\Delta x}=1 $$\n",
    "\n",
    "fixes the scale for the other one."
   ]
  },
  {
   "cell_type": "markdown",
   "metadata": {},
   "source": [
    "**See the email I sent you for the actual animation.** Note that $B_0 = \\sqrt{\\frac{\\epsilon_0}{\\mu_0}}E_0$."
   ]
  }
 ],
 "metadata": {
  "kernelspec": {
   "display_name": "Python 3",
   "language": "python",
   "name": "python3"
  },
  "language_info": {
   "codemirror_mode": {
    "name": "ipython",
    "version": 3
   },
   "file_extension": ".py",
   "mimetype": "text/x-python",
   "name": "python",
   "nbconvert_exporter": "python",
   "pygments_lexer": "ipython3",
   "version": "3.6.7"
  }
 },
 "nbformat": 4,
 "nbformat_minor": 2
}
