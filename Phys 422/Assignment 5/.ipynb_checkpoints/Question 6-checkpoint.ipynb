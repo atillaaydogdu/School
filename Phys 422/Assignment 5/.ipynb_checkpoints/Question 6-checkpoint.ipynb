{
 "cells": [
  {
   "cell_type": "markdown",
   "metadata": {},
   "source": [
    "# Question 6"
   ]
  },
  {
   "cell_type": "code",
   "execution_count": 1,
   "metadata": {},
   "outputs": [],
   "source": [
    "import numpy as np\n",
    "import matplotlib.pyplot as plt\n",
    "from matplotlib import animation"
   ]
  },
  {
   "cell_type": "markdown",
   "metadata": {},
   "source": [
    "$t_0$ is 30 time steps, and $\\sigma$ is 10 spacial steps"
   ]
  },
  {
   "cell_type": "code",
   "execution_count": 2,
   "metadata": {},
   "outputs": [],
   "source": [
    "t0 = 30\n",
    "sig = 10\n",
    "imp0 = 377"
   ]
  },
  {
   "cell_type": "markdown",
   "metadata": {},
   "source": [
    "Total spacial distance is 200 spacial steps and total time is 250 time steps."
   ]
  },
  {
   "cell_type": "code",
   "execution_count": 3,
   "metadata": {},
   "outputs": [],
   "source": [
    "size = 200\n",
    "maxtime = 200"
   ]
  },
  {
   "cell_type": "markdown",
   "metadata": {},
   "source": [
    "This function is used to help define the initial condition."
   ]
  },
  {
   "cell_type": "code",
   "execution_count": 4,
   "metadata": {},
   "outputs": [],
   "source": [
    "def gaussian(x, mu, sig):\n",
    "    return np.exp(-np.power(x - mu, 2.) / (np.power(sig, 2.)))"
   ]
  },
  {
   "cell_type": "markdown",
   "metadata": {},
   "source": [
    "Finds the electric and magnetic field over all time (ez_alltime and hy_alltime are 2d arrays containing all the spacial and temporal information required)."
   ]
  },
  {
   "cell_type": "code",
   "execution_count": 5,
   "metadata": {},
   "outputs": [],
   "source": [
    "ez = np.zeros(size+1)\n",
    "hy = np.zeros(size+1)\n",
    "\n",
    "ez_alltime = np.zeros((maxtime, size+1))\n",
    "hy_alltime = np.zeros((maxtime, size+1))\n",
    "\n",
    "for tt in range(maxtime):\n",
    "    ez_alltime[tt] = ez\n",
    "    hy_alltime[tt] = hy\n",
    "    \n",
    "    hy[size-1] = hy[size-2]\n",
    "    for mm in range(0, size-1):\n",
    "        hy[mm] = hy[mm]+(ez[mm+1]-ez[mm])/imp0   \n",
    "    \n",
    "    ez[0] = ez[1]\n",
    "    for mm in range(1, size): \n",
    "        ez[mm] = ez[mm] + (hy[mm] - hy[mm-1])*imp0\n",
    "    \n",
    "    ez[100] = gaussian(tt, t0, sig)"
   ]
  },
  {
   "cell_type": "markdown",
   "metadata": {},
   "source": [
    "This is used for animation:"
   ]
  },
  {
   "cell_type": "code",
   "execution_count": 6,
   "metadata": {},
   "outputs": [],
   "source": [
    "x = 3*np.arange(-size/2, size/2+1, 1)\n",
    "\n",
    "def animate(i):\n",
    "    ax[0].clear()\n",
    "    ax[0].set_ylim(0, 1.3)\n",
    "    ax[0].set_xlim(min(x), max(x))\n",
    "    ax[0].text(160, 1.13, 'Time {}as'.format(i*10), fontsize=8,\n",
    "            bbox={'facecolor':'white', 'alpha':1, 'pad':10})\n",
    "    ax[0].set_xlabel('Distance (nm)')\n",
    "    ax[0].set_ylabel(r'$E_z/E_0$')\n",
    "    ax[0].set_title('Time Evolution of Electric Field')\n",
    "    ax[0].grid()\n",
    "    ax[0].plot(x, ez_alltime[i], lw = 5)\n",
    "    \n",
    "    ax[1].clear()\n",
    "    ax[1].set_ylim(-1.2, 1.2)\n",
    "    ax[1].set_xlim(min(x), max(x))\n",
    "    ax[1].set_xlabel('Distance (nm)')\n",
    "    ax[1].set_ylabel(r'$B_y/B_0$')\n",
    "    ax[1].set_title('Time Evolution of Magnetic Field')\n",
    "    ax[1].grid()\n",
    "    ax[1].plot(x, imp0*hy_alltime[i], lw = 5, color='r')\n",
    "    fig.tight_layout()"
   ]
  },
  {
   "cell_type": "markdown",
   "metadata": {},
   "source": [
    "We choose the units of nm and atto-seconds because these are appropriate units for visible light."
   ]
  },
  {
   "cell_type": "markdown",
   "metadata": {},
   "source": [
    "## Animate"
   ]
  },
  {
   "cell_type": "code",
   "execution_count": 7,
   "metadata": {},
   "outputs": [
    {
     "name": "stderr",
     "output_type": "stream",
     "text": [
      "C:\\Users\\lukep\\AppData\\Local\\Continuum\\anaconda3\\lib\\site-packages\\matplotlib\\tight_layout.py:176: UserWarning: Tight layout not applied. The left and right margins cannot be made large enough to accommodate all axes decorations. \n",
      "  warnings.warn('Tight layout not applied. The left and right margins '\n"
     ]
    }
   ],
   "source": [
    "fig, ax = plt.subplots(2,1, figsize=(6,6))\n",
    "\n",
    "ani = animation.FuncAnimation(fig, animate, maxtime, interval=1e2, blit=False)\n",
    "ani.save('eb_field.mp4', fps=30, dpi=300)\n",
    "plt.close()"
   ]
  },
  {
   "cell_type": "markdown",
   "metadata": {},
   "source": [
    "Import notice: The plots mention time steps and spacial steps which appear to be arbtrary, but they are not entirely. One can choose a scale for $\\Delta t$ OR for $\\Delta x$ and then the Courant Number\n",
    "\n",
    "$$S_c = \\frac{c \\Delta t}{\\Delta x}=1 $$\n",
    "\n",
    "fixes the scale for the other one."
   ]
  },
  {
   "cell_type": "markdown",
   "metadata": {},
   "source": [
    "**See the email I sent you for the actual animation.** Note that $B_0 = \\sqrt{\\frac{\\epsilon_0}{\\mu_0}}E_0$."
   ]
  }
 ],
 "metadata": {
  "kernelspec": {
   "display_name": "Python 3",
   "language": "python",
   "name": "python3"
  },
  "language_info": {
   "codemirror_mode": {
    "name": "ipython",
    "version": 3
   },
   "file_extension": ".py",
   "mimetype": "text/x-python",
   "name": "python",
   "nbconvert_exporter": "python",
   "pygments_lexer": "ipython3",
   "version": "3.6.7"
  }
 },
 "nbformat": 4,
 "nbformat_minor": 2
}
