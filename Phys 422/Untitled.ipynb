{
 "cells": [
  {
   "cell_type": "code",
   "execution_count": 48,
   "metadata": {},
   "outputs": [],
   "source": [
    "import numpy as np\n",
    "import scipy.integrate as integrate"
   ]
  },
  {
   "cell_type": "code",
   "execution_count": 84,
   "metadata": {},
   "outputs": [],
   "source": [
    "B = 0.5"
   ]
  },
  {
   "cell_type": "code",
   "execution_count": 94,
   "metadata": {},
   "outputs": [],
   "source": [
    "def f(x,y):\n",
    "    return ((1-B**2)/(1-(B**2)*(1-(np.sin(x)*np.cos(y))**2))**(3/2))*(np.sin(x)**3)*(np.sin(y)**2)\n",
    "\n",
    "def h(x,y):\n",
    "    return ((1-B**2)/(1-(B**2)*(1-(np.sin(x)*np.cos(y))**2))**(3/2))*(np.sin(x)**3)*(np.sin(y)*np.cos(y))\n",
    "\n",
    "def g(x,y):\n",
    "    return ((1-B**2)/(1-(B**2)*(1-(np.sin(x)*np.cos(y))**2))**(3/2))*(np.cos(x)**2)*(np.sin(x))\n",
    "\n",
    "def fff(x, y):\n",
    "    return ((1-B**2)/(1-(B**2)*(1-(np.sin(x)*np.cos(y))**2))**(3/2))*((np.sin(x)**2 * np.cos(x) * np.sin(y)) \n",
    "                                                                      + (np.sin(x) **2 *np.cos(x) * np.cos(y)))"
   ]
  },
  {
   "cell_type": "code",
   "execution_count": 86,
   "metadata": {},
   "outputs": [],
   "source": [
    "x = np.linspace(0, np.pi, 400)\n",
    "y = np.linspace(0, 2*np.pi, 400)"
   ]
  },
  {
   "cell_type": "code",
   "execution_count": 87,
   "metadata": {},
   "outputs": [],
   "source": [
    "L = integrate.nquad(f, [[0, np.pi], [0, 2*np.pi]])[0] + integrate.nquad(g, [[0, np.pi], [0, 2*np.pi]])[0]"
   ]
  },
  {
   "cell_type": "code",
   "execution_count": 88,
   "metadata": {},
   "outputs": [],
   "source": [
    "A = L/(4*np.pi)"
   ]
  },
  {
   "cell_type": "code",
   "execution_count": 89,
   "metadata": {},
   "outputs": [
    {
     "data": {
      "text/plain": [
       "0.8130975499316222"
      ]
     },
     "execution_count": 89,
     "metadata": {},
     "output_type": "execute_result"
    }
   ],
   "source": [
    "A / np.sqrt(1-B**2)"
   ]
  },
  {
   "cell_type": "code",
   "execution_count": 93,
   "metadata": {},
   "outputs": [
    {
     "data": {
      "text/plain": [
       "4.166827077294485e-17"
      ]
     },
     "execution_count": 93,
     "metadata": {},
     "output_type": "execute_result"
    }
   ],
   "source": [
    "integrate.nquad(h, [[0, np.pi], [0, 2*np.pi]])[0]"
   ]
  },
  {
   "cell_type": "code",
   "execution_count": 95,
   "metadata": {},
   "outputs": [
    {
     "data": {
      "text/plain": [
       "-3.3235011146716943e-18"
      ]
     },
     "execution_count": 95,
     "metadata": {},
     "output_type": "execute_result"
    }
   ],
   "source": [
    "integrate.nquad(fff, [[0, np.pi], [0, 2*np.pi]])[0]"
   ]
  },
  {
   "cell_type": "code",
   "execution_count": null,
   "metadata": {},
   "outputs": [],
   "source": []
  }
 ],
 "metadata": {
  "kernelspec": {
   "display_name": "Python 3",
   "language": "python",
   "name": "python3"
  },
  "language_info": {
   "codemirror_mode": {
    "name": "ipython",
    "version": 3
   },
   "file_extension": ".py",
   "mimetype": "text/x-python",
   "name": "python",
   "nbconvert_exporter": "python",
   "pygments_lexer": "ipython3",
   "version": "3.6.5"
  }
 },
 "nbformat": 4,
 "nbformat_minor": 2
}
