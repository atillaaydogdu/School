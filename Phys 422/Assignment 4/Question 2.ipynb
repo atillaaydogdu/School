{
 "cells": [
  {
   "cell_type": "markdown",
   "metadata": {},
   "source": [
    "# Question 2"
   ]
  },
  {
   "cell_type": "code",
   "execution_count": 36,
   "metadata": {},
   "outputs": [],
   "source": [
    "import numpy as np\n",
    "import matplotlib.pyplot as plt\n",
    "import sympy as smp\n",
    "from sympy import *\n",
    "from IPython.display import display, Math\n",
    "smp.init_printing()"
   ]
  },
  {
   "cell_type": "markdown",
   "metadata": {},
   "source": [
    "## Part 1: Dealing with $\\alpha$"
   ]
  },
  {
   "cell_type": "markdown",
   "metadata": {},
   "source": [
    "In class we showed that\n",
    "\n",
    "$$\\alpha = \\frac{q^2 \\omega^2 N}{mc \\epsilon_0} \\sum_j \\frac{f_j \\gamma_j}{(\\omega_j^2-\\omega^2)^2+\\gamma_j^2 \\omega^2} $$\n",
    "\n",
    "In the case of one natural frequency $\\omega_1$ it follows that\n",
    "\n",
    "$$\\alpha = \\frac{q^2 \\omega^2 N}{mc \\epsilon_0} \\frac{f \\gamma}{(\\omega_1^2-\\omega^2)^2+\\gamma^2 \\omega^2} $$\n",
    "\n",
    "We will absorb all the constants into 1 big constant $A$ by defining \n",
    "\n",
    "$$ \\alpha \\equiv \\frac{A \\gamma}{(\\omega_1^2-\\omega^2)^2+\\gamma^2 \\omega^2}$$\n",
    "\n",
    "The maximimum occurs when $d\\alpha/d\\omega=0$; lets use sympy to solve for this value of $\\omega$."
   ]
  },
  {
   "cell_type": "code",
   "execution_count": 30,
   "metadata": {},
   "outputs": [],
   "source": [
    "A, gam, w1, w = smp.symbols('A gamma omega_1 omega')"
   ]
  },
  {
   "cell_type": "markdown",
   "metadata": {},
   "source": [
    "Define $\\alpha$"
   ]
  },
  {
   "cell_type": "code",
   "execution_count": 34,
   "metadata": {},
   "outputs": [],
   "source": [
    "alpha = A*gam/((w1**2-w**2)**2+gam**2*w**2)"
   ]
  },
  {
   "cell_type": "markdown",
   "metadata": {},
   "source": [
    "Lets find the values of $\\omega$ that make $\\alpha$ maximum."
   ]
  },
  {
   "cell_type": "code",
   "execution_count": 40,
   "metadata": {},
   "outputs": [
    {
     "data": {
      "image/png": "[encoded data removed]",
      "text/latex": [
       "$$\\left [ 0, \\quad - \\frac{\\sqrt{2}}{2} \\sqrt{- \\gamma^{2} + 2 \\omega_{1}^{2}}, \\quad \\frac{\\sqrt{2}}{2} \\sqrt{- \\gamma^{2} + 2 \\omega_{1}^{2}}\\right ]$$"
      ],
      "text/plain": [
       "⎡          ______________         ______________⎤\n",
       "⎢         ╱    2       2         ╱    2       2 ⎥\n",
       "⎢   -√2⋅╲╱  - γ  + 2⋅ω₁     √2⋅╲╱  - γ  + 2⋅ω₁  ⎥\n",
       "⎢0, ──────────────────────, ────────────────────⎥\n",
       "⎣             2                      2          ⎦"
      ]
     },
     "execution_count": 40,
     "metadata": {},
     "output_type": "execute_result"
    }
   ],
   "source": [
    "sols = solve(diff(alpha, w), w)\n",
    "sols"
   ]
  },
  {
   "cell_type": "markdown",
   "metadata": {},
   "source": [
    "Since zero is one of these values, it is trivial to see that the maximum value of $\\alpha$ is\n",
    "\n",
    "$$\\alpha_{max}=\\frac{A \\gamma}{\\omega_1^2} $$\n",
    "\n",
    "It follows that we need to solve for $\\omega$ when \n",
    "\n",
    "$$\\alpha=\\alpha_{half}=\\frac{A \\gamma}{2\\omega_1^2} $$"
   ]
  },
  {
   "cell_type": "code",
   "execution_count": 54,
   "metadata": {},
   "outputs": [],
   "source": [
    "alpha_half = A*gam/(2*w1**2)\n",
    "w_halfs = solve(alpha-alpha_half, w)"
   ]
  },
  {
   "cell_type": "code",
   "execution_count": 55,
   "metadata": {},
   "outputs": [
    {
     "data": {
      "image/png": "[encoded data removed]",
      "text/latex": [
       "$$\\left [ - \\sqrt{- \\frac{\\gamma^{2}}{2} + \\omega_{1}^{2} - \\frac{1}{2} \\sqrt{\\gamma^{4} - 4 \\gamma^{2} \\omega_{1}^{2} + 8 \\omega_{1}^{2}}}, \\quad \\sqrt{- \\frac{\\gamma^{2}}{2} + \\omega_{1}^{2} - \\frac{1}{2} \\sqrt{\\gamma^{4} - 4 \\gamma^{2} \\omega_{1}^{2} + 8 \\omega_{1}^{2}}}, \\quad - \\sqrt{- \\frac{\\gamma^{2}}{2} + \\omega_{1}^{2} + \\frac{1}{2} \\sqrt{\\gamma^{4} - 4 \\gamma^{2} \\omega_{1}^{2} + 8 \\omega_{1}^{2}}}, \\quad \\sqrt{- \\frac{\\gamma^{2}}{2} + \\omega_{1}^{2} + \\frac{1}{2} \\sqrt{\\gamma^{4} - 4 \\gamma^{2} \\omega_{1}^{2} + 8 \\omega_{1}^{2}}}\\right ]$$"
      ],
      "text/plain": [
       "⎡       _________________________________________        _____________________\n",
       "⎢      ╱                 _______________________        ╱                 ____\n",
       "⎢     ╱     2           ╱  4      2   2       2        ╱     2           ╱  4 \n",
       "⎢    ╱     γ      2   ╲╱  γ  - 4⋅γ ⋅ω₁  + 8⋅ω₁        ╱     γ      2   ╲╱  γ  \n",
       "⎢-  ╱    - ── + ω₁  - ────────────────────────── ,   ╱    - ── + ω₁  - ───────\n",
       "⎣ ╲╱       2                      2                ╲╱       2                 \n",
       "\n",
       "____________________         _________________________________________        \n",
       "___________________         ╱                 _______________________        ╱\n",
       "     2   2       2         ╱     2           ╱  4      2   2       2        ╱ \n",
       "- 4⋅γ ⋅ω₁  + 8⋅ω₁         ╱     γ      2   ╲╱  γ  - 4⋅γ ⋅ω₁  + 8⋅ω₁        ╱  \n",
       "─────────────────── , -  ╱    - ── + ω₁  + ────────────────────────── ,   ╱   \n",
       "     2                 ╲╱       2                      2                ╲╱    \n",
       "\n",
       "_________________________________________⎤\n",
       "                 _______________________ ⎥\n",
       "    2           ╱  4      2   2       2  ⎥\n",
       "   γ      2   ╲╱  γ  - 4⋅γ ⋅ω₁  + 8⋅ω₁   ⎥\n",
       " - ── + ω₁  + ────────────────────────── ⎥\n",
       "   2                      2              ⎦"
      ]
     },
     "execution_count": 55,
     "metadata": {},
     "output_type": "execute_result"
    }
   ],
   "source": [
    "w_halfs"
   ]
  },
  {
   "cell_type": "markdown",
   "metadata": {},
   "source": [
    "Of course, we're only really interested in the positive frequencies, but it is reassuring that for every positive solution there is also a negative one. Lets make sure they give the correct values."
   ]
  },
  {
   "cell_type": "code",
   "execution_count": 68,
   "metadata": {},
   "outputs": [
    {
     "data": {
      "image/png": "[encoded data removed]",
      "text/latex": [
       "$$\\frac{A \\gamma}{2 \\omega_{1}^{2}}$$"
      ],
      "text/plain": [
       " A⋅γ \n",
       "─────\n",
       "    2\n",
       "2⋅ω₁ "
      ]
     },
     "metadata": {},
     "output_type": "display_data"
    },
    {
     "data": {
      "image/png": "[encoded data removed]",
      "text/latex": [
       "$$\\frac{A \\gamma}{2 \\omega_{1}^{2}}$$"
      ],
      "text/plain": [
       " A⋅γ \n",
       "─────\n",
       "    2\n",
       "2⋅ω₁ "
      ]
     },
     "metadata": {},
     "output_type": "display_data"
    }
   ],
   "source": [
    "display(alpha.subs(w, w_halfs[1]).simplify())\n",
    "display(alpha.subs(w, w_halfs[3]).simplify())"
   ]
  },
  {
   "cell_type": "markdown",
   "metadata": {},
   "source": [
    "Perfect."
   ]
  }
 ],
 "metadata": {
  "kernelspec": {
   "display_name": "Python 3",
   "language": "python",
   "name": "python3"
  },
  "language_info": {
   "codemirror_mode": {
    "name": "ipython",
    "version": 3
   },
   "file_extension": ".py",
   "mimetype": "text/x-python",
   "name": "python",
   "nbconvert_exporter": "python",
   "pygments_lexer": "ipython3",
   "version": "3.6.5"
  }
 },
 "nbformat": 4,
 "nbformat_minor": 2
}
