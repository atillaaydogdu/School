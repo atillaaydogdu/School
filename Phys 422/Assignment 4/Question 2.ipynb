{
 "cells": [
  {
   "cell_type": "markdown",
   "metadata": {},
   "source": [
    "# Question 2"
   ]
  },
  {
   "cell_type": "code",
   "execution_count": 1,
   "metadata": {},
   "outputs": [],
   "source": [
    "import numpy as np\n",
    "import matplotlib.pyplot as plt\n",
    "import sympy as smp\n",
    "from sympy import *\n",
    "from IPython.display import display, Math\n",
    "smp.init_printing()"
   ]
  },
  {
   "cell_type": "markdown",
   "metadata": {},
   "source": [
    "## Part 1: Dealing with $\\alpha$"
   ]
  },
  {
   "cell_type": "markdown",
   "metadata": {},
   "source": [
    "In class we showed that\n",
    "\n",
    "$$\\alpha = \\frac{q^2 \\omega^2 N}{mc \\epsilon_0} \\sum_j \\frac{f_j \\gamma_j}{(\\omega_j^2-\\omega^2)^2+\\gamma_j^2 \\omega^2} $$\n",
    "\n",
    "In the case of one natural frequency $\\omega_1$ it follows that\n",
    "\n",
    "$$\\alpha = \\frac{q^2 \\omega^2 N}{mc \\epsilon_0} \\frac{f \\gamma}{(\\omega_1^2-\\omega^2)^2+\\gamma^2 \\omega^2} $$\n",
    "\n",
    "We will absorb all the constants into 1 big constant $A$ by defining \n",
    "\n",
    "$$ \\alpha \\equiv \\frac{A \\gamma}{(\\omega_1^2-\\omega^2)^2+\\gamma^2 \\omega^2}$$\n",
    "\n",
    "The maximimum either occurs when $d\\alpha/d\\omega=0$ or as $\\omega \\to \\pm \\infty$. Since $\\omega \\to \\infty$ send $\\alpha \\to 0$ the maximum must occur when the derivative is zero. Lets use sympy to solve for this value of $\\omega$."
   ]
  },
  {
   "cell_type": "code",
   "execution_count": 2,
   "metadata": {},
   "outputs": [],
   "source": [
    "A, gam, w1, w = smp.symbols('A gamma omega_1 omega')"
   ]
  },
  {
   "cell_type": "markdown",
   "metadata": {},
   "source": [
    "Define $\\alpha$"
   ]
  },
  {
   "cell_type": "code",
   "execution_count": 3,
   "metadata": {},
   "outputs": [],
   "source": [
    "alpha = A*gam/((w1**2-w**2)**2+gam**2*w**2)"
   ]
  },
  {
   "cell_type": "markdown",
   "metadata": {},
   "source": [
    "Lets find the values of $\\omega$ that make $\\alpha$ maximum."
   ]
  },
  {
   "cell_type": "code",
   "execution_count": 4,
   "metadata": {},
   "outputs": [
    {
     "data": {
      "image/png": "[encoded data removed]",
      "text/latex": [
       "$$\\left [ 0, \\quad - \\frac{\\sqrt{2}}{2} \\sqrt{- \\gamma^{2} + 2 \\omega_{1}^{2}}, \\quad \\frac{\\sqrt{2}}{2} \\sqrt{- \\gamma^{2} + 2 \\omega_{1}^{2}}\\right ]$$"
      ],
      "text/plain": [
       "⎡          ______________         ______________⎤\n",
       "⎢         ╱    2       2         ╱    2       2 ⎥\n",
       "⎢   -√2⋅╲╱  - γ  + 2⋅ω₁     √2⋅╲╱  - γ  + 2⋅ω₁  ⎥\n",
       "⎢0, ──────────────────────, ────────────────────⎥\n",
       "⎣             2                      2          ⎦"
      ]
     },
     "execution_count": 4,
     "metadata": {},
     "output_type": "execute_result"
    }
   ],
   "source": [
    "sols = solve(diff(alpha, w), w)\n",
    "sols"
   ]
  },
  {
   "cell_type": "code",
   "execution_count": 5,
   "metadata": {},
   "outputs": [
    {
     "data": {
      "image/png": "[encoded data removed]",
      "text/latex": [
       "$$\\frac{A \\gamma}{\\frac{\\gamma^{4}}{4} + \\gamma^{2} \\left(- \\frac{\\gamma^{2}}{2} + \\omega_{1}^{2}\\right)}$$"
      ],
      "text/plain": [
       "        A⋅γ         \n",
       "────────────────────\n",
       " 4      ⎛   2      ⎞\n",
       "γ     2 ⎜  γ      2⎟\n",
       "── + γ ⋅⎜- ── + ω₁ ⎟\n",
       "4       ⎝  2       ⎠"
      ]
     },
     "execution_count": 5,
     "metadata": {},
     "output_type": "execute_result"
    }
   ],
   "source": [
    "alpha.subs(w, sols[1])"
   ]
  },
  {
   "cell_type": "markdown",
   "metadata": {},
   "source": [
    "All these give the same maximum value of:\n",
    "\n",
    "$$\\alpha_{max}=\\frac{A \\gamma}{\\omega_1^2} $$\n",
    "\n",
    "It follows that we need to solve for $\\omega$ when \n",
    "\n",
    "$$\\alpha=\\alpha_{half}=\\frac{A \\gamma}{2\\omega_1^2} $$"
   ]
  },
  {
   "cell_type": "code",
   "execution_count": 6,
   "metadata": {},
   "outputs": [],
   "source": [
    "alpha_half = A*gam/(2*w1**2)\n",
    "w_halfs = solve(alpha-alpha_half, w)"
   ]
  },
  {
   "cell_type": "code",
   "execution_count": 7,
   "metadata": {},
   "outputs": [
    {
     "data": {
      "image/png": "[encoded data removed]",
      "text/latex": [
       "$$\\left [ - \\sqrt{- \\frac{\\gamma^{2}}{2} + \\omega_{1}^{2} - \\frac{1}{2} \\sqrt{\\gamma^{4} - 4 \\gamma^{2} \\omega_{1}^{2} + 8 \\omega_{1}^{2}}}, \\quad \\sqrt{- \\frac{\\gamma^{2}}{2} + \\omega_{1}^{2} - \\frac{1}{2} \\sqrt{\\gamma^{4} - 4 \\gamma^{2} \\omega_{1}^{2} + 8 \\omega_{1}^{2}}}, \\quad - \\sqrt{- \\frac{\\gamma^{2}}{2} + \\omega_{1}^{2} + \\frac{1}{2} \\sqrt{\\gamma^{4} - 4 \\gamma^{2} \\omega_{1}^{2} + 8 \\omega_{1}^{2}}}, \\quad \\sqrt{- \\frac{\\gamma^{2}}{2} + \\omega_{1}^{2} + \\frac{1}{2} \\sqrt{\\gamma^{4} - 4 \\gamma^{2} \\omega_{1}^{2} + 8 \\omega_{1}^{2}}}\\right ]$$"
      ],
      "text/plain": [
       "⎡       _________________________________________        _____________________\n",
       "⎢      ╱                 _______________________        ╱                 ____\n",
       "⎢     ╱     2           ╱  4      2   2       2        ╱     2           ╱  4 \n",
       "⎢    ╱     γ      2   ╲╱  γ  - 4⋅γ ⋅ω₁  + 8⋅ω₁        ╱     γ      2   ╲╱  γ  \n",
       "⎢-  ╱    - ── + ω₁  - ────────────────────────── ,   ╱    - ── + ω₁  - ───────\n",
       "⎣ ╲╱       2                      2                ╲╱       2                 \n",
       "\n",
       "____________________         _________________________________________        \n",
       "___________________         ╱                 _______________________        ╱\n",
       "     2   2       2         ╱     2           ╱  4      2   2       2        ╱ \n",
       "- 4⋅γ ⋅ω₁  + 8⋅ω₁         ╱     γ      2   ╲╱  γ  - 4⋅γ ⋅ω₁  + 8⋅ω₁        ╱  \n",
       "─────────────────── , -  ╱    - ── + ω₁  + ────────────────────────── ,   ╱   \n",
       "     2                 ╲╱       2                      2                ╲╱    \n",
       "\n",
       "_________________________________________⎤\n",
       "                 _______________________ ⎥\n",
       "    2           ╱  4      2   2       2  ⎥\n",
       "   γ      2   ╲╱  γ  - 4⋅γ ⋅ω₁  + 8⋅ω₁   ⎥\n",
       " - ── + ω₁  + ────────────────────────── ⎥\n",
       "   2                      2              ⎦"
      ]
     },
     "execution_count": 7,
     "metadata": {},
     "output_type": "execute_result"
    }
   ],
   "source": [
    "w_halfs"
   ]
  },
  {
   "cell_type": "markdown",
   "metadata": {},
   "source": [
    "Of course, we're only really interested in the positive frequencies, but it is reassuring that for every positive solution there is also a negative one. Lets make sure they give the correct values."
   ]
  },
  {
   "cell_type": "code",
   "execution_count": 8,
   "metadata": {},
   "outputs": [
    {
     "data": {
      "image/png": "[encoded data removed]",
      "text/latex": [
       "$$\\frac{A \\gamma}{2 \\omega_{1}^{2}}$$"
      ],
      "text/plain": [
       " A⋅γ \n",
       "─────\n",
       "    2\n",
       "2⋅ω₁ "
      ]
     },
     "metadata": {},
     "output_type": "display_data"
    },
    {
     "data": {
      "image/png": "[encoded data removed]",
      "text/latex": [
       "$$\\frac{A \\gamma}{2 \\omega_{1}^{2}}$$"
      ],
      "text/plain": [
       " A⋅γ \n",
       "─────\n",
       "    2\n",
       "2⋅ω₁ "
      ]
     },
     "metadata": {},
     "output_type": "display_data"
    }
   ],
   "source": [
    "display(alpha.subs(w, w_halfs[1]).simplify())\n",
    "display(alpha.subs(w, w_halfs[3]).simplify())"
   ]
  },
  {
   "cell_type": "markdown",
   "metadata": {},
   "source": [
    "Perfect."
   ]
  },
  {
   "cell_type": "markdown",
   "metadata": {},
   "source": [
    "## Part 2: Deal with n"
   ]
  },
  {
   "cell_type": "markdown",
   "metadata": {},
   "source": [
    "In class we showed that\n",
    "\n",
    "$$n=1+\\frac{Nq^2}{2m\\epsilon_0}\\sum_j\\frac{f_j(\\omega_j^2-\\omega^2)}{(\\omega_j^2-\\omega^2)^2+\\gamma_j^2\\omega^2} $$\n",
    "\n",
    "In the case of one natural frequency $\\omega_1$ it follows that\n",
    "\n",
    "$$n=1+\\frac{Nq^2}{2m\\epsilon_0}\\frac{f(\\omega_1^2-\\omega^2)}{(\\omega_1^2-\\omega^2)^2+\\gamma^2\\omega^2} $$\n",
    "\n",
    "We can absorb all the constants into one big constant $A$ by defining\n",
    "\n",
    "$$n \\equiv 1+A\\frac{\\omega_1^2-\\omega^2}{(\\omega_1^2-\\omega^2)^2+\\gamma^2\\omega^2} $$\n",
    "\n",
    "Note that as $\\omega \\to \\pm \\infty$ then $n \\to 1$. We can look for maximum and minimum values by considering the places where the derivative is zero."
   ]
  },
  {
   "cell_type": "code",
   "execution_count": 9,
   "metadata": {},
   "outputs": [],
   "source": [
    "n = 1+ A*(w1**2-w**2)/((w1**2-w**2)**2+gam**2*w**2)"
   ]
  },
  {
   "cell_type": "code",
   "execution_count": 10,
   "metadata": {},
   "outputs": [
    {
     "data": {
      "image/png": "[encoded data removed]",
      "text/latex": [
       "$$\\frac{A \\left(- \\omega^{2} + \\omega_{1}^{2}\\right)}{\\gamma^{2} \\omega^{2} + \\left(- \\omega^{2} + \\omega_{1}^{2}\\right)^{2}} + 1$$"
      ],
      "text/plain": [
       "      ⎛   2     2⎞       \n",
       "    A⋅⎝- ω  + ω₁ ⎠       \n",
       "───────────────────── + 1\n",
       "                    2    \n",
       " 2  2   ⎛   2     2⎞     \n",
       "γ ⋅ω  + ⎝- ω  + ω₁ ⎠     "
      ]
     },
     "execution_count": 10,
     "metadata": {},
     "output_type": "execute_result"
    }
   ],
   "source": [
    "n"
   ]
  },
  {
   "cell_type": "code",
   "execution_count": 11,
   "metadata": {},
   "outputs": [
    {
     "data": {
      "image/png": "[encoded data removed]",
      "text/latex": [
       "$$\\left [ 0, \\quad - \\sqrt{- \\gamma \\omega_{1} + \\omega_{1}^{2}}, \\quad \\sqrt{- \\gamma \\omega_{1} + \\omega_{1}^{2}}, \\quad - \\sqrt{\\gamma \\omega_{1} + \\omega_{1}^{2}}, \\quad \\sqrt{\\gamma \\omega_{1} + \\omega_{1}^{2}}\\right ]$$"
      ],
      "text/plain": [
       "⎡       _____________     _____________      ____________     ____________⎤\n",
       "⎢      ╱           2     ╱           2      ╱          2     ╱          2 ⎥\n",
       "⎣0, -╲╱  -γ⋅ω₁ + ω₁  , ╲╱  -γ⋅ω₁ + ω₁  , -╲╱  γ⋅ω₁ + ω₁  , ╲╱  γ⋅ω₁ + ω₁  ⎦"
      ]
     },
     "execution_count": 11,
     "metadata": {},
     "output_type": "execute_result"
    }
   ],
   "source": [
    "sols = solve(diff(n, w), w)\n",
    "sols"
   ]
  },
  {
   "cell_type": "markdown",
   "metadata": {},
   "source": [
    "Lets plug these all in and see what the results are. Note that the zero maxima corresponds to the limit where $\\omega \\to 0$; light of zero frequency is nothing at all."
   ]
  },
  {
   "cell_type": "code",
   "execution_count": 12,
   "metadata": {},
   "outputs": [
    {
     "data": {
      "image/png": "[encoded data removed]",
      "text/latex": [
       "$$\\frac{A}{\\omega_{1}^{2}} + 1$$"
      ],
      "text/plain": [
       " A     \n",
       "─── + 1\n",
       "  2    \n",
       "ω₁     "
      ]
     },
     "metadata": {},
     "output_type": "display_data"
    },
    {
     "data": {
      "image/png": "[encoded data removed]",
      "text/latex": [
       "$$\\frac{A \\gamma \\omega_{1}}{- \\gamma^{3} \\omega_{1} + 2 \\gamma^{2} \\omega_{1}^{2}} + 1$$"
      ],
      "text/plain": [
       "      A⋅γ⋅ω₁          \n",
       "────────────────── + 1\n",
       "   3         2   2    \n",
       "- γ ⋅ω₁ + 2⋅γ ⋅ω₁     "
      ]
     },
     "metadata": {},
     "output_type": "display_data"
    },
    {
     "data": {
      "image/png": "[encoded data removed]",
      "text/latex": [
       "$$\\frac{A \\gamma \\omega_{1}}{- \\gamma^{3} \\omega_{1} + 2 \\gamma^{2} \\omega_{1}^{2}} + 1$$"
      ],
      "text/plain": [
       "      A⋅γ⋅ω₁          \n",
       "────────────────── + 1\n",
       "   3         2   2    \n",
       "- γ ⋅ω₁ + 2⋅γ ⋅ω₁     "
      ]
     },
     "metadata": {},
     "output_type": "display_data"
    },
    {
     "data": {
      "image/png": "[encoded data removed]",
      "text/latex": [
       "$$- \\frac{A \\gamma \\omega_{1}}{\\gamma^{3} \\omega_{1} + 2 \\gamma^{2} \\omega_{1}^{2}} + 1$$"
      ],
      "text/plain": [
       "       A⋅γ⋅ω₁         \n",
       "- ──────────────── + 1\n",
       "   3         2   2    \n",
       "  γ ⋅ω₁ + 2⋅γ ⋅ω₁     "
      ]
     },
     "metadata": {},
     "output_type": "display_data"
    },
    {
     "data": {
      "image/png": "[encoded data removed]",
      "text/latex": [
       "$$- \\frac{A \\gamma \\omega_{1}}{\\gamma^{3} \\omega_{1} + 2 \\gamma^{2} \\omega_{1}^{2}} + 1$$"
      ],
      "text/plain": [
       "       A⋅γ⋅ω₁         \n",
       "- ──────────────── + 1\n",
       "   3         2   2    \n",
       "  γ ⋅ω₁ + 2⋅γ ⋅ω₁     "
      ]
     },
     "metadata": {},
     "output_type": "display_data"
    }
   ],
   "source": [
    "for sol in sols:\n",
    "    display(n.subs(w, sol).expand())"
   ]
  },
  {
   "cell_type": "markdown",
   "metadata": {},
   "source": [
    "These expressions can be simplified further and we see that there are three minima/maxima for $n$:\n",
    "\n",
    "$$1+\\frac{A}{\\omega_1^2}$$\n",
    "\n",
    "$$1+\\frac{A}{\\gamma(2\\omega_1-\\gamma)} $$\n",
    "\n",
    "$$1-\\frac{A}{\\gamma(2\\omega_1+\\gamma)} $$\n",
    "\n",
    "The first value is always greater than 1 and the third value is always less than one (so the minima and maxima are **atleast** at these points and not at $\\omega=\\pm \\infty$). The value of the second value determines where the true minimum and maximum exist on the curve.\n",
    "\n",
    "**Case 1**: If $\\omega_1^2< \\gamma(2\\omega_1-\\gamma)$ and $\\gamma(2\\omega_1-\\gamma)>0$ then (i) is the maximum and (iii) is the minimum.\n",
    "\n",
    "**Case 2**: If $0<\\gamma(2\\omega_1-\\gamma)<\\omega_1^2$ then (ii) is the maximum and (iii) is the minimum.\n",
    "\n",
    "**Case 3**: If - $\\gamma(2\\omega_1+\\gamma) < \\gamma(2\\omega_1-\\gamma) < 0 $ then (i) is maximum and (ii) is minimum."
   ]
  }
 ],
 "metadata": {
  "kernelspec": {
   "display_name": "Python 3",
   "language": "python",
   "name": "python3"
  },
  "language_info": {
   "codemirror_mode": {
    "name": "ipython",
    "version": 3
   },
   "file_extension": ".py",
   "mimetype": "text/x-python",
   "name": "python",
   "nbconvert_exporter": "python",
   "pygments_lexer": "ipython3",
   "version": "3.6.5"
  }
 },
 "nbformat": 4,
 "nbformat_minor": 2
}
