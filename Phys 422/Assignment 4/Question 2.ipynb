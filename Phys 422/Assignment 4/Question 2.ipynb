{
 "cells": [
  {
   "cell_type": "markdown",
   "metadata": {},
   "source": [
    "# Question 2"
   ]
  },
  {
   "cell_type": "code",
   "execution_count": 1,
   "metadata": {},
   "outputs": [],
   "source": [
    "import numpy as np\n",
    "import matplotlib.pyplot as plt\n",
    "import sympy as smp\n",
    "from sympy import *\n",
    "from IPython.display import display, Math\n",
    "smp.init_printing()"
   ]
  },
  {
   "cell_type": "markdown",
   "metadata": {},
   "source": [
    "## Part 1: Dealing with $\\alpha$"
   ]
  },
  {
   "cell_type": "markdown",
   "metadata": {},
   "source": [
    "In class we showed that\n",
    "\n",
    "$$\\alpha = \\frac{q^2 \\omega^2 N}{mc \\epsilon_0} \\sum_j \\frac{f_j \\gamma_j}{(\\omega_j^2-\\omega^2)^2+\\gamma_j^2 \\omega^2} $$\n",
    "\n",
    "In the case of one natural frequency $\\omega_1$ it follows that\n",
    "\n",
    "$$\\alpha = \\frac{q^2 \\omega^2 N}{mc \\epsilon_0} \\frac{f \\gamma}{(\\omega_1^2-\\omega^2)^2+\\gamma^2 \\omega^2} $$\n",
    "\n",
    "We will absorb all the constants into 1 big constant $A$ by defining \n",
    "\n",
    "$$ \\alpha \\equiv \\frac{A \\gamma \\omega^2}{(\\omega_1^2-\\omega^2)^2+\\gamma^2 \\omega^2}$$\n",
    "\n",
    "The maximimum either occurs when $d\\alpha/d\\omega=0$ or as $\\omega \\to \\pm \\infty$. Since $\\omega \\to \\infty$ sends $\\alpha \\to 0$, the maximum must occur when the derivative is zero. Lets use sympy to solve for this value of $\\omega$."
   ]
  },
  {
   "cell_type": "code",
   "execution_count": 2,
   "metadata": {},
   "outputs": [],
   "source": [
    "A, gam, w1, w = smp.symbols('A gamma omega_1 omega')"
   ]
  },
  {
   "cell_type": "markdown",
   "metadata": {},
   "source": [
    "Define $\\alpha$"
   ]
  },
  {
   "cell_type": "code",
   "execution_count": 3,
   "metadata": {},
   "outputs": [],
   "source": [
    "alpha = A*gam*w**2/((w1**2-w**2)**2+gam**2*w**2)"
   ]
  },
  {
   "cell_type": "code",
   "execution_count": 4,
   "metadata": {},
   "outputs": [
    {
     "data": {
      "image/png": "[encoded data removed]",
      "text/latex": [
       "$$\\frac{A \\gamma \\omega^{2}}{\\gamma^{2} \\omega^{2} + \\left(- \\omega^{2} + \\omega_{1}^{2}\\right)^{2}}$$"
      ],
      "text/plain": [
       "             2       \n",
       "        A⋅γ⋅ω        \n",
       "─────────────────────\n",
       "                    2\n",
       " 2  2   ⎛   2     2⎞ \n",
       "γ ⋅ω  + ⎝- ω  + ω₁ ⎠ "
      ]
     },
     "execution_count": 4,
     "metadata": {},
     "output_type": "execute_result"
    }
   ],
   "source": [
    "alpha"
   ]
  },
  {
   "cell_type": "markdown",
   "metadata": {},
   "source": [
    "Lets find the values of $\\omega$ that make $\\alpha$ is an extrema."
   ]
  },
  {
   "cell_type": "code",
   "execution_count": 5,
   "metadata": {},
   "outputs": [
    {
     "data": {
      "image/png": "[encoded data removed]",
      "text/latex": [
       "$$\\left [ 0, \\quad - \\omega_{1}, \\quad \\omega_{1}, \\quad - \\sqrt{- \\omega_{1}^{2}}, \\quad \\sqrt{- \\omega_{1}^{2}}\\right ]$$"
      ],
      "text/plain": [
       "⎡                ______     ______⎤\n",
       "⎢               ╱    2     ╱    2 ⎥\n",
       "⎣0, -ω₁, ω₁, -╲╱  -ω₁  , ╲╱  -ω₁  ⎦"
      ]
     },
     "execution_count": 5,
     "metadata": {},
     "output_type": "execute_result"
    }
   ],
   "source": [
    "sols = solve(diff(alpha, w), w)\n",
    "sols"
   ]
  },
  {
   "cell_type": "markdown",
   "metadata": {},
   "source": [
    "Obviously only the first two are solutions since we only consider real solutions."
   ]
  },
  {
   "cell_type": "code",
   "execution_count": 6,
   "metadata": {},
   "outputs": [
    {
     "data": {
      "image/png": "[encoded data removed]",
      "text/latex": [
       "$$0$$"
      ],
      "text/plain": [
       "0"
      ]
     },
     "metadata": {},
     "output_type": "display_data"
    },
    {
     "data": {
      "image/png": "[encoded data removed]",
      "text/latex": [
       "$$\\frac{A}{\\gamma}$$"
      ],
      "text/plain": [
       "A\n",
       "─\n",
       "γ"
      ]
     },
     "metadata": {},
     "output_type": "display_data"
    },
    {
     "data": {
      "image/png": "[encoded data removed]",
      "text/latex": [
       "$$\\frac{A}{\\gamma}$$"
      ],
      "text/plain": [
       "A\n",
       "─\n",
       "γ"
      ]
     },
     "metadata": {},
     "output_type": "display_data"
    }
   ],
   "source": [
    "display(alpha.subs(w, sols[0]).simplify())\n",
    "display(alpha.subs(w, sols[1]).simplify())\n",
    "display(alpha.subs(w, sols[2]).simplify())"
   ]
  },
  {
   "cell_type": "markdown",
   "metadata": {},
   "source": [
    "The maximum value is thus $A/\\gamma$."
   ]
  },
  {
   "cell_type": "code",
   "execution_count": 7,
   "metadata": {},
   "outputs": [],
   "source": [
    "alpha_half = A/(2*gam)\n",
    "w_half = solve(alpha-alpha_half, w)"
   ]
  },
  {
   "cell_type": "markdown",
   "metadata": {},
   "source": [
    "This is the value of $\\omega$ when $\\alpha$ is half its maximum value."
   ]
  },
  {
   "cell_type": "code",
   "execution_count": 8,
   "metadata": {},
   "outputs": [
    {
     "data": {
      "image/png": "[encoded data removed]",
      "text/latex": [
       "$$\\left [ - \\frac{\\gamma}{2} - \\frac{1}{2} \\sqrt{\\gamma^{2} + 4 \\omega_{1}^{2}}, \\quad - \\frac{\\gamma}{2} + \\frac{1}{2} \\sqrt{\\gamma^{2} + 4 \\omega_{1}^{2}}, \\quad \\frac{\\gamma}{2} - \\frac{1}{2} \\sqrt{\\gamma^{2} + 4 \\omega_{1}^{2}}, \\quad \\frac{\\gamma}{2} + \\frac{1}{2} \\sqrt{\\gamma^{2} + 4 \\omega_{1}^{2}}\\right ]$$"
      ],
      "text/plain": [
       "⎡         ____________           ____________         ____________         ___\n",
       "⎢        ╱  2       2           ╱  2       2         ╱  2       2         ╱  2\n",
       "⎢  γ   ╲╱  γ  + 4⋅ω₁      γ   ╲╱  γ  + 4⋅ω₁    γ   ╲╱  γ  + 4⋅ω₁    γ   ╲╱  γ \n",
       "⎢- ─ - ───────────────, - ─ + ───────────────, ─ - ───────────────, ─ + ──────\n",
       "⎣  2          2           2          2         2          2         2         \n",
       "\n",
       "_________⎤\n",
       "       2 ⎥\n",
       " + 4⋅ω₁  ⎥\n",
       "─────────⎥\n",
       " 2       ⎦"
      ]
     },
     "metadata": {},
     "output_type": "display_data"
    }
   ],
   "source": [
    "display(w_half)"
   ]
  },
  {
   "cell_type": "markdown",
   "metadata": {},
   "source": [
    "## Part 2: Deal with n"
   ]
  },
  {
   "cell_type": "markdown",
   "metadata": {},
   "source": [
    "In class we showed that\n",
    "\n",
    "$$n=1+\\frac{Nq^2}{2m\\epsilon_0}\\sum_j\\frac{f_j(\\omega_j^2-\\omega^2)}{(\\omega_j^2-\\omega^2)^2+\\gamma_j^2\\omega^2} $$\n",
    "\n",
    "In the case of one natural frequency $\\omega_1$ it follows that\n",
    "\n",
    "$$n=1+\\frac{Nq^2}{2m\\epsilon_0}\\frac{f(\\omega_1^2-\\omega^2)}{(\\omega_1^2-\\omega^2)^2+\\gamma^2\\omega^2} $$\n",
    "\n",
    "We can absorb all the constants into one big constant $A$ by defining\n",
    "\n",
    "$$n \\equiv 1+A\\frac{\\omega_1^2-\\omega^2}{(\\omega_1^2-\\omega^2)^2+\\gamma^2\\omega^2} $$\n",
    "\n",
    "Note that as $\\omega \\to \\pm \\infty$ then $n \\to 1$. We can look for maximum and minimum values by considering the places where the derivative is zero."
   ]
  },
  {
   "cell_type": "code",
   "execution_count": 9,
   "metadata": {},
   "outputs": [],
   "source": [
    "n = 1+ A*(w1**2-w**2)/((w1**2-w**2)**2+gam**2*w**2)"
   ]
  },
  {
   "cell_type": "code",
   "execution_count": 10,
   "metadata": {},
   "outputs": [
    {
     "data": {
      "image/png": "[encoded data removed]",
      "text/latex": [
       "$$\\frac{A \\left(- \\omega^{2} + \\omega_{1}^{2}\\right)}{\\gamma^{2} \\omega^{2} + \\left(- \\omega^{2} + \\omega_{1}^{2}\\right)^{2}} + 1$$"
      ],
      "text/plain": [
       "      ⎛   2     2⎞       \n",
       "    A⋅⎝- ω  + ω₁ ⎠       \n",
       "───────────────────── + 1\n",
       "                    2    \n",
       " 2  2   ⎛   2     2⎞     \n",
       "γ ⋅ω  + ⎝- ω  + ω₁ ⎠     "
      ]
     },
     "execution_count": 10,
     "metadata": {},
     "output_type": "execute_result"
    }
   ],
   "source": [
    "n"
   ]
  },
  {
   "cell_type": "code",
   "execution_count": 11,
   "metadata": {},
   "outputs": [
    {
     "data": {
      "image/png": "[encoded data removed]",
      "text/latex": [
       "$$\\left [ 0, \\quad - \\sqrt{- \\gamma \\omega_{1} + \\omega_{1}^{2}}, \\quad \\sqrt{- \\gamma \\omega_{1} + \\omega_{1}^{2}}, \\quad - \\sqrt{\\gamma \\omega_{1} + \\omega_{1}^{2}}, \\quad \\sqrt{\\gamma \\omega_{1} + \\omega_{1}^{2}}\\right ]$$"
      ],
      "text/plain": [
       "⎡       _____________     _____________      ____________     ____________⎤\n",
       "⎢      ╱           2     ╱           2      ╱          2     ╱          2 ⎥\n",
       "⎣0, -╲╱  -γ⋅ω₁ + ω₁  , ╲╱  -γ⋅ω₁ + ω₁  , -╲╱  γ⋅ω₁ + ω₁  , ╲╱  γ⋅ω₁ + ω₁  ⎦"
      ]
     },
     "execution_count": 11,
     "metadata": {},
     "output_type": "execute_result"
    }
   ],
   "source": [
    "sols = solve(diff(n, w), w)\n",
    "sols"
   ]
  },
  {
   "cell_type": "markdown",
   "metadata": {},
   "source": [
    "Lets plug these all in and see what the results are. Note that the zero maxima corresponds to the limit where $\\omega \\to 0$; light of zero frequency is nothing at all."
   ]
  },
  {
   "cell_type": "code",
   "execution_count": 12,
   "metadata": {},
   "outputs": [
    {
     "data": {
      "image/png": "[encoded data removed]",
      "text/latex": [
       "$$\\frac{A}{\\omega_{1}^{2}} + 1$$"
      ],
      "text/plain": [
       " A     \n",
       "─── + 1\n",
       "  2    \n",
       "ω₁     "
      ]
     },
     "metadata": {},
     "output_type": "display_data"
    },
    {
     "data": {
      "image/png": "[encoded data removed]",
      "text/latex": [
       "$$\\frac{A \\gamma \\omega_{1}}{- \\gamma^{3} \\omega_{1} + 2 \\gamma^{2} \\omega_{1}^{2}} + 1$$"
      ],
      "text/plain": [
       "      A⋅γ⋅ω₁          \n",
       "────────────────── + 1\n",
       "   3         2   2    \n",
       "- γ ⋅ω₁ + 2⋅γ ⋅ω₁     "
      ]
     },
     "metadata": {},
     "output_type": "display_data"
    },
    {
     "data": {
      "image/png": "[encoded data removed]",
      "text/latex": [
       "$$\\frac{A \\gamma \\omega_{1}}{- \\gamma^{3} \\omega_{1} + 2 \\gamma^{2} \\omega_{1}^{2}} + 1$$"
      ],
      "text/plain": [
       "      A⋅γ⋅ω₁          \n",
       "────────────────── + 1\n",
       "   3         2   2    \n",
       "- γ ⋅ω₁ + 2⋅γ ⋅ω₁     "
      ]
     },
     "metadata": {},
     "output_type": "display_data"
    },
    {
     "data": {
      "image/png": "[encoded data removed]",
      "text/latex": [
       "$$- \\frac{A \\gamma \\omega_{1}}{\\gamma^{3} \\omega_{1} + 2 \\gamma^{2} \\omega_{1}^{2}} + 1$$"
      ],
      "text/plain": [
       "       A⋅γ⋅ω₁         \n",
       "- ──────────────── + 1\n",
       "   3         2   2    \n",
       "  γ ⋅ω₁ + 2⋅γ ⋅ω₁     "
      ]
     },
     "metadata": {},
     "output_type": "display_data"
    },
    {
     "data": {
      "image/png": "[encoded data removed]",
      "text/latex": [
       "$$- \\frac{A \\gamma \\omega_{1}}{\\gamma^{3} \\omega_{1} + 2 \\gamma^{2} \\omega_{1}^{2}} + 1$$"
      ],
      "text/plain": [
       "       A⋅γ⋅ω₁         \n",
       "- ──────────────── + 1\n",
       "   3         2   2    \n",
       "  γ ⋅ω₁ + 2⋅γ ⋅ω₁     "
      ]
     },
     "metadata": {},
     "output_type": "display_data"
    }
   ],
   "source": [
    "for sol in sols:\n",
    "    display(n.subs(w, sol).expand())"
   ]
  },
  {
   "cell_type": "markdown",
   "metadata": {},
   "source": [
    "These expressions can be simplified further and we see that there are three potential minima/maxima for $n$:\n",
    "\n",
    "$$1+\\frac{A}{\\omega_1^2}$$\n",
    "\n",
    "$$1+\\frac{A}{\\gamma(2\\omega_1-\\gamma)} $$\n",
    "\n",
    "$$1-\\frac{A}{\\gamma(2\\omega_1+\\gamma)} $$\n",
    "\n",
    "The first value is always greater than 1 and the third value is always less than one (so the minima and maxima are **atleast** at these points and not at $\\omega=\\pm \\infty$). The value of the second value determines where the true minimum and maximum exist on the curve.\n",
    "\n",
    "**Case 1**: If $\\omega_1^2< \\gamma(2\\omega_1-\\gamma)$ and $\\gamma(2\\omega_1-\\gamma)>0$ then (i) is the maximum and (iii) is the minimum.\n",
    "\n",
    "**Case 2**: If $0<\\gamma(2\\omega_1-\\gamma)<\\omega_1^2$ then (ii) is the maximum and (iii) is the minimum.\n",
    "\n",
    "**Case 3**: If - $\\gamma(2\\omega_1+\\gamma) < \\gamma(2\\omega_1-\\gamma) < 0 $ then (i) is maximum and (ii) is minimum."
   ]
  },
  {
   "cell_type": "markdown",
   "metadata": {},
   "source": [
    "OR if we assume that $\\omega_1 >> \\gamma$ then (i) is always the max and (iii) is always the minimum."
   ]
  }
 ],
 "metadata": {
  "kernelspec": {
   "display_name": "Python 3",
   "language": "python",
   "name": "python3"
  },
  "language_info": {
   "codemirror_mode": {
    "name": "ipython",
    "version": 3
   },
   "file_extension": ".py",
   "mimetype": "text/x-python",
   "name": "python",
   "nbconvert_exporter": "python",
   "pygments_lexer": "ipython3",
   "version": "3.6.7"
  }
 },
 "nbformat": 4,
 "nbformat_minor": 2
}
