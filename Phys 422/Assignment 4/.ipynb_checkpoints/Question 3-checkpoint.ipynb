{
 "cells": [
  {
   "cell_type": "markdown",
   "metadata": {},
   "source": [
    "# Question 3 Parts B and C"
   ]
  },
  {
   "cell_type": "markdown",
   "metadata": {},
   "source": [
    "We start by doing everything required for the Poynting vector (parts b) and c)) and then everything required for the energy density (parts b) and c)) and then we use the information to find the speed at which energy is transmitted down the waveguide."
   ]
  },
  {
   "cell_type": "code",
   "execution_count": 1,
   "metadata": {},
   "outputs": [],
   "source": [
    "import numpy as np\n",
    "import matplotlib.pyplot as plt\n",
    "import sympy as smp\n",
    "from sympy import *\n",
    "from IPython.display import display, Math\n",
    "smp.init_printing()"
   ]
  },
  {
   "cell_type": "code",
   "execution_count": 2,
   "metadata": {},
   "outputs": [],
   "source": [
    "E0, k, w, c, nx, ny = smp.symbols('E_0, k, \\omega, c, n_x, n_y', real=True)\n",
    "a, b, x, y, u0, e0, wnm = smp.symbols('a, b, x, y \\mu_0 \\epsilon_0 \\omega_{nm}', real=True)"
   ]
  },
  {
   "cell_type": "markdown",
   "metadata": {},
   "source": [
    "Define the electric and magnetic field which we found in part A."
   ]
  },
  {
   "cell_type": "code",
   "execution_count": 3,
   "metadata": {},
   "outputs": [],
   "source": [
    "Ex = (I*k/((w/c)**2-k**2))*E0*smp.cos(smp.pi*nx*x/a)*smp.sin(smp.pi*ny*y/b) *(smp.pi*nx/a)\n",
    "Ey = (I*k/((w/c)**2-k**2))*E0*smp.sin(smp.pi*nx*x/a)*smp.cos(smp.pi*ny*y/b)*(smp.pi*ny/b)\n",
    "Ez = E0*smp.sin(smp.pi*ny*y/b)*smp.sin(smp.pi*nx*x/a)\n",
    "Bx = (-I*w/(w**2-c**2*k**2))*E0*smp.sin(smp.pi*nx*x/a)*smp.cos(smp.pi*ny*y/b)*(smp.pi*ny/b)\n",
    "By = (I*w/(w**2-c**2*k**2))*E0*smp.cos(smp.pi*nx*x/a)*smp.sin(smp.pi*ny*y/b)*(smp.pi*nx/a)\n",
    "Bz = 0"
   ]
  },
  {
   "cell_type": "markdown",
   "metadata": {},
   "source": [
    "## Poynting Vector"
   ]
  },
  {
   "cell_type": "markdown",
   "metadata": {},
   "source": [
    "### Part B Find the Poynting Vector"
   ]
  },
  {
   "cell_type": "markdown",
   "metadata": {},
   "source": [
    "First lets get the components of the time averaged Poyting vector $<\\vec{S}>$"
   ]
  },
  {
   "cell_type": "code",
   "execution_count": 4,
   "metadata": {},
   "outputs": [],
   "source": [
    "Sx = (1/(2*u0))*(Ey*conjugate(Bz)-Ez*conjugate(By))\n",
    "Sy = (1/(2*u0))*(Ez*conjugate(Bx)-Ex*conjugate(Bz)) \n",
    "Sz = (1/(2*u0))*(Ex*conjugate(By)-Ey*conjugate(Bx)) "
   ]
  },
  {
   "cell_type": "code",
   "execution_count": 5,
   "metadata": {},
   "outputs": [
    {
     "data": {
      "image/png": "[encoded data removed]",
      "text/latex": [
       "$$\\frac{i \\pi E_{0}^{2} \\omega n_{x} \\sin^{2}{\\left (\\frac{\\pi n_{y}}{b} y \\right )}}{2 \\mu_0 a \\left(\\omega^{2} - c^{2} k^{2}\\right)} \\sin{\\left (\\frac{\\pi n_{x}}{a} x \\right )} \\cos{\\left (\\frac{\\pi n_{x}}{a} x \\right )}$$"
      ],
      "text/plain": [
       "      2              ⎛π⋅nₓ⋅x⎞    2⎛π⋅n_y⋅y⎞    ⎛π⋅nₓ⋅x⎞\n",
       "ⅈ⋅π⋅E₀ ⋅\\omega⋅nₓ⋅sin⎜──────⎟⋅sin ⎜───────⎟⋅cos⎜──────⎟\n",
       "                     ⎝  a   ⎠     ⎝   b   ⎠    ⎝  a   ⎠\n",
       "───────────────────────────────────────────────────────\n",
       "                        ⎛      2    2  2⎞              \n",
       "               2⋅\\mu₀⋅a⋅⎝\\omega  - c ⋅k ⎠              "
      ]
     },
     "metadata": {},
     "output_type": "display_data"
    },
    {
     "data": {
      "image/png": "[encoded data removed]",
      "text/latex": [
       "$$\\frac{i \\pi E_{0}^{2} \\omega n_{y} \\sin^{2}{\\left (\\frac{\\pi n_{x}}{a} x \\right )}}{2 \\mu_0 b \\left(\\omega^{2} - c^{2} k^{2}\\right)} \\sin{\\left (\\frac{\\pi n_{y}}{b} y \\right )} \\cos{\\left (\\frac{\\pi n_{y}}{b} y \\right )}$$"
      ],
      "text/plain": [
       "      2               2⎛π⋅nₓ⋅x⎞    ⎛π⋅n_y⋅y⎞    ⎛π⋅n_y⋅y⎞\n",
       "ⅈ⋅π⋅E₀ ⋅\\omega⋅n_y⋅sin ⎜──────⎟⋅sin⎜───────⎟⋅cos⎜───────⎟\n",
       "                       ⎝  a   ⎠    ⎝   b   ⎠    ⎝   b   ⎠\n",
       "─────────────────────────────────────────────────────────\n",
       "                         ⎛      2    2  2⎞               \n",
       "                2⋅\\mu₀⋅b⋅⎝\\omega  - c ⋅k ⎠               "
      ]
     },
     "metadata": {},
     "output_type": "display_data"
    },
    {
     "data": {
      "image/png": "[encoded data removed]",
      "text/latex": [
       "$$\\frac{\\pi^{2} E_{0}^{2} \\omega c^{2} k}{2 \\mu_0 a^{2} b^{2} \\left(\\omega^{2} - c^{2} k^{2}\\right)^{2}} \\left(a^{2} n_{y}^{2} \\sin^{2}{\\left (\\frac{\\pi n_{x}}{a} x \\right )} \\cos^{2}{\\left (\\frac{\\pi n_{y}}{b} y \\right )} + b^{2} n_{x}^{2} \\sin^{2}{\\left (\\frac{\\pi n_{y}}{b} y \\right )} \\cos^{2}{\\left (\\frac{\\pi n_{x}}{a} x \\right )}\\right)$$"
      ],
      "text/plain": [
       " 2   2         2   ⎛ 2    2    2⎛π⋅nₓ⋅x⎞    2⎛π⋅n_y⋅y⎞    2   2    2⎛π⋅n_y⋅y⎞ \n",
       "π ⋅E₀ ⋅\\omega⋅c ⋅k⋅⎜a ⋅n_y ⋅sin ⎜──────⎟⋅cos ⎜───────⎟ + b ⋅nₓ ⋅sin ⎜───────⎟⋅\n",
       "                   ⎝            ⎝  a   ⎠     ⎝   b   ⎠              ⎝   b   ⎠ \n",
       "──────────────────────────────────────────────────────────────────────────────\n",
       "                                                            2                 \n",
       "                                      2  2 ⎛      2    2  2⎞                  \n",
       "                              2⋅\\mu₀⋅a ⋅b ⋅⎝\\omega  - c ⋅k ⎠                  \n",
       "\n",
       "   2⎛π⋅nₓ⋅x⎞⎞\n",
       "cos ⎜──────⎟⎟\n",
       "    ⎝  a   ⎠⎠\n",
       "─────────────\n",
       "             \n",
       "             \n",
       "             "
      ]
     },
     "metadata": {},
     "output_type": "display_data"
    }
   ],
   "source": [
    "display(Sx.simplify())\n",
    "display(Sy.simplify())\n",
    "display(Sz.simplify())"
   ]
  },
  {
   "cell_type": "markdown",
   "metadata": {},
   "source": [
    "Since the Poynting Vector is taken to be the real part of this, we get\n",
    "\n",
    "$$<\\vec{S}> = <S_z> \\hat{z} $$\n",
    "\n",
    "where $S_z$ is the third component listed above or given in simplified version below:"
   ]
  },
  {
   "cell_type": "code",
   "execution_count": 6,
   "metadata": {},
   "outputs": [
    {
     "data": {
      "image/png": "[encoded data removed]",
      "text/latex": [
       "$$\\frac{\\pi^{2} E_{0}^{2} \\omega c^{2} k}{2 \\mu_0 \\omega_{nm}^{4} a^{2} b^{2}} \\left(a^{2} n_{y}^{2} \\sin^{2}{\\left (\\frac{\\pi n_{x}}{a} x \\right )} \\cos^{2}{\\left (\\frac{\\pi n_{y}}{b} y \\right )} + b^{2} n_{x}^{2} \\sin^{2}{\\left (\\frac{\\pi n_{y}}{b} y \\right )} \\cos^{2}{\\left (\\frac{\\pi n_{x}}{a} x \\right )}\\right)$$"
      ],
      "text/plain": [
       " 2   2         2   ⎛ 2    2    2⎛π⋅nₓ⋅x⎞    2⎛π⋅n_y⋅y⎞    2   2    2⎛π⋅n_y⋅y⎞ \n",
       "π ⋅E₀ ⋅\\omega⋅c ⋅k⋅⎜a ⋅n_y ⋅sin ⎜──────⎟⋅cos ⎜───────⎟ + b ⋅nₓ ⋅sin ⎜───────⎟⋅\n",
       "                   ⎝            ⎝  a   ⎠     ⎝   b   ⎠              ⎝   b   ⎠ \n",
       "──────────────────────────────────────────────────────────────────────────────\n",
       "                                                   4  2  2                    \n",
       "                                 2⋅\\mu₀⋅\\omega_{nm} ⋅a ⋅b                     \n",
       "\n",
       "   2⎛π⋅nₓ⋅x⎞⎞\n",
       "cos ⎜──────⎟⎟\n",
       "    ⎝  a   ⎠⎠\n",
       "─────────────\n",
       "             \n",
       "             "
      ]
     },
     "execution_count": 6,
     "metadata": {},
     "output_type": "execute_result"
    }
   ],
   "source": [
    "Sz.simplify().subs(w**2-c**2*k**2, wnm**2)"
   ]
  },
  {
   "cell_type": "markdown",
   "metadata": {},
   "source": [
    "### Part C Evaluate the Integral"
   ]
  },
  {
   "cell_type": "markdown",
   "metadata": {},
   "source": [
    "We are evaluating the following integral over the region $0 \\leq x \\leq a$ and $0 \\leq y \\leq b$:\n",
    "\n",
    "$$\\iint <\\vec{S}> \\cdot d\\vec{a} = \\iint S_zda $$\n",
    "\n",
    "since $d\\vec{a}$ points in the $\\hat{z}$ direction."
   ]
  },
  {
   "cell_type": "markdown",
   "metadata": {},
   "source": [
    "**The integral of the poynting vector over the cross section of the rectangular wave guide represents the energy transmitted per unit time**."
   ]
  },
  {
   "cell_type": "markdown",
   "metadata": {},
   "source": [
    "Since the only $x$ and $y$ dependence is in the cosines and sines and\n",
    "\n",
    "$$\\int_{0}^a \\cos^2 \\left( \\frac{\\pi n_x}{a}x \\right)dx =  \\int_{0}^a \\cos^2 \\left( \\frac{\\pi n_x}{a}x \\right)dx = \\frac{a}{2}$$\n",
    "\n",
    "$$\\int_{0}^b \\sin^2 \\left( \\frac{\\pi n_y}{b}y \\right)dy =  \\int_{0}^b \\cos^2 \\left( \\frac{\\pi n_y}{b}y \\right)dy = \\frac{b}{2}$$\n",
    "\n",
    "we can simply replace the trig expressions in $u$ with these values to perform effective integration over $0 \\leq x \\leq a$ and $0 \\leq y \\leq b$."
   ]
  },
  {
   "cell_type": "code",
   "execution_count": 7,
   "metadata": {},
   "outputs": [],
   "source": [
    "S_int = Sz.subs(smp.sin(smp.pi*ny*y/b)**2, b/2)\n",
    "S_int = S_int.subs(smp.cos(smp.pi*ny*y/b)**2, b/2)\n",
    "S_int = S_int.subs(smp.sin(smp.pi*nx*x/a)**2, a/2)\n",
    "S_int = S_int.subs(smp.cos(smp.pi*nx*x/a)**2, a/2)\n",
    "S_int = S_int.simplify()"
   ]
  },
  {
   "cell_type": "code",
   "execution_count": 8,
   "metadata": {},
   "outputs": [
    {
     "data": {
      "image/png": "[encoded data removed]",
      "text/latex": [
       "$$\\frac{\\pi^{2} E_{0}^{2} \\omega c^{2} k \\left(a^{2} n_{y}^{2} + b^{2} n_{x}^{2}\\right)}{8 \\mu_0 a b \\left(\\omega^{2} - c^{2} k^{2}\\right)^{2}}$$"
      ],
      "text/plain": [
       " 2   2         2   ⎛ 2    2    2   2⎞\n",
       "π ⋅E₀ ⋅\\omega⋅c ⋅k⋅⎝a ⋅n_y  + b ⋅nₓ ⎠\n",
       "─────────────────────────────────────\n",
       "                                2    \n",
       "               ⎛      2    2  2⎞     \n",
       "    8⋅\\mu₀⋅a⋅b⋅⎝\\omega  - c ⋅k ⎠     "
      ]
     },
     "metadata": {},
     "output_type": "display_data"
    }
   ],
   "source": [
    "display(S_int)"
   ]
  },
  {
   "cell_type": "markdown",
   "metadata": {},
   "source": [
    "Further simplification using the facts that\n",
    "\n",
    "$$(9.180) \\implies a^2 n_y^2+b^2 n_x^2 = \\frac{1}{a^2 b^2}\\left(\\frac{\\omega_{nm}}{\\pi c} \\right)^2$$\n",
    "\n",
    "$$(\\text{Known Fact}) \\implies \\frac{1}{\\epsilon_0 \\mu_0}=c^2 $$"
   ]
  },
  {
   "cell_type": "code",
   "execution_count": 9,
   "metadata": {},
   "outputs": [],
   "source": [
    "S_int = S_int.subs(a**2*ny**2+b**2*nx**2, a**2*b**2*(wnm/(smp.pi*c))**2)\n",
    "S_int = S_int.subs(w**2-c**2*k**2, wnm**2)"
   ]
  },
  {
   "cell_type": "code",
   "execution_count": 10,
   "metadata": {},
   "outputs": [
    {
     "data": {
      "image/png": "[encoded data removed]",
      "text/latex": [
       "$$\\frac{E_{0}^{2} \\omega a b k}{8 \\mu_0 \\omega_{nm}^{2}}$$"
      ],
      "text/plain": [
       "    2              \n",
       "  E₀ ⋅\\omega⋅a⋅b⋅k \n",
       "───────────────────\n",
       "                  2\n",
       "8⋅\\mu₀⋅\\omega_{nm} "
      ]
     },
     "metadata": {},
     "output_type": "display_data"
    }
   ],
   "source": [
    "display(S_int)"
   ]
  },
  {
   "cell_type": "markdown",
   "metadata": {},
   "source": [
    "## Energy Density"
   ]
  },
  {
   "cell_type": "markdown",
   "metadata": {},
   "source": [
    "### Part B Compute the Energy Density"
   ]
  },
  {
   "cell_type": "code",
   "execution_count": 11,
   "metadata": {},
   "outputs": [],
   "source": [
    "u = Rational(1, 4)*(e0*(Ex*conjugate(Ex)+Ey*conjugate(Ey)+Ez*conjugate(Ez))+\n",
    "                    (1/u0)*(Bx*conjugate(Bx)+By*conjugate(By)+Bz*conjugate(Bz)))"
   ]
  },
  {
   "cell_type": "code",
   "execution_count": 12,
   "metadata": {},
   "outputs": [
    {
     "data": {
      "image/png": "[encoded data removed]",
      "text/latex": [
       "$$\\frac{\\epsilon_0}{4} \\left(E_{0}^{2} \\sin^{2}{\\left (\\frac{\\pi n_{x}}{a} x \\right )} \\sin^{2}{\\left (\\frac{\\pi n_{y}}{b} y \\right )} + \\frac{\\pi^{2} E_{0}^{2} k^{2} n_{y}^{2}}{b^{2} \\left(\\frac{\\omega^{2}}{c^{2}} - k^{2}\\right)^{2}} \\sin^{2}{\\left (\\frac{\\pi n_{x}}{a} x \\right )} \\cos^{2}{\\left (\\frac{\\pi n_{y}}{b} y \\right )} + \\frac{\\pi^{2} E_{0}^{2} k^{2} n_{x}^{2}}{a^{2} \\left(\\frac{\\omega^{2}}{c^{2}} - k^{2}\\right)^{2}} \\sin^{2}{\\left (\\frac{\\pi n_{y}}{b} y \\right )} \\cos^{2}{\\left (\\frac{\\pi n_{x}}{a} x \\right )}\\right) + \\frac{1}{4 \\mu_0} \\left(\\frac{\\pi^{2} E_{0}^{2} \\omega^{2} n_{y}^{2} \\cos^{2}{\\left (\\frac{\\pi n_{y}}{b} y \\right )}}{b^{2} \\left(\\omega^{2} - c^{2} k^{2}\\right)^{2}} \\sin^{2}{\\left (\\frac{\\pi n_{x}}{a} x \\right )} + \\frac{\\pi^{2} E_{0}^{2} \\omega^{2} n_{x}^{2} \\cos^{2}{\\left (\\frac{\\pi n_{x}}{a} x \\right )}}{a^{2} \\left(\\omega^{2} - c^{2} k^{2}\\right)^{2}} \\sin^{2}{\\left (\\frac{\\pi n_{y}}{b} y \\right )}\\right)$$"
      ],
      "text/plain": [
       "          ⎛                                  2   2  2    2    2⎛π⋅nₓ⋅x⎞    2⎛π\n",
       "          ⎜                                 π ⋅E₀ ⋅k ⋅n_y ⋅sin ⎜──────⎟⋅cos ⎜─\n",
       "          ⎜  2    2⎛π⋅nₓ⋅x⎞    2⎛π⋅n_y⋅y⎞                      ⎝  a   ⎠     ⎝ \n",
       "\\epsilon₀⋅⎜E₀ ⋅sin ⎜──────⎟⋅sin ⎜───────⎟ + ──────────────────────────────────\n",
       "          ⎜        ⎝  a   ⎠     ⎝   b   ⎠                                2    \n",
       "          ⎜                                                ⎛      2     ⎞     \n",
       "          ⎜                                              2 ⎜\\omega     2⎟     \n",
       "          ⎜                                             b ⋅⎜─────── - k ⎟     \n",
       "          ⎜                                                ⎜    2       ⎟     \n",
       "          ⎝                                                ⎝   c        ⎠     \n",
       "──────────────────────────────────────────────────────────────────────────────\n",
       "                                                                4             \n",
       "\n",
       "⋅n_y⋅y⎞    2   2  2   2    2⎛π⋅n_y⋅y⎞    2⎛π⋅nₓ⋅x⎞⎞                           \n",
       "──────⎟   π ⋅E₀ ⋅k ⋅nₓ ⋅sin ⎜───────⎟⋅cos ⎜──────⎟⎟                           \n",
       "  b   ⎠                     ⎝   b   ⎠     ⎝  a   ⎠⎟                           \n",
       "─────── + ────────────────────────────────────────⎟    2   2       2    2    2\n",
       "                                      2           ⎟   π ⋅E₀ ⋅\\omega ⋅n_y ⋅sin \n",
       "                        ⎛      2     ⎞            ⎟                           \n",
       "                      2 ⎜\\omega     2⎟            ⎟   ────────────────────────\n",
       "                     a ⋅⎜─────── - k ⎟            ⎟                           \n",
       "                        ⎜    2       ⎟            ⎟                2 ⎛      2 \n",
       "                        ⎝   c        ⎠            ⎠               b ⋅⎝\\omega  \n",
       "─────────────────────────────────────────────────── + ────────────────────────\n",
       "                                                                              \n",
       "\n",
       "                                                                      \n",
       "                                                                      \n",
       "                                                                      \n",
       "⎛π⋅nₓ⋅x⎞    2⎛π⋅n_y⋅y⎞    2   2       2   2    2⎛π⋅n_y⋅y⎞    2⎛π⋅nₓ⋅x⎞\n",
       "⎜──────⎟⋅cos ⎜───────⎟   π ⋅E₀ ⋅\\omega ⋅nₓ ⋅sin ⎜───────⎟⋅cos ⎜──────⎟\n",
       "⎝  a   ⎠     ⎝   b   ⎠                          ⎝   b   ⎠     ⎝  a   ⎠\n",
       "────────────────────── + ─────────────────────────────────────────────\n",
       "        2                                                2            \n",
       "   2  2⎞                              2 ⎛      2    2  2⎞             \n",
       "- c ⋅k ⎠                             a ⋅⎝\\omega  - c ⋅k ⎠             \n",
       "──────────────────────────────────────────────────────────────────────\n",
       "                    4⋅\\mu₀                                            "
      ]
     },
     "metadata": {},
     "output_type": "display_data"
    }
   ],
   "source": [
    "display(u)"
   ]
  },
  {
   "cell_type": "markdown",
   "metadata": {},
   "source": [
    "### Part C Evaluate the Integral"
   ]
  },
  {
   "cell_type": "markdown",
   "metadata": {},
   "source": [
    "We are evaluating the following integral over the region $0 \\leq x \\leq a$ and $0 \\leq y \\leq b$:\n",
    "\n",
    "$$\\iint u \\cdot da $$"
   ]
  },
  {
   "cell_type": "markdown",
   "metadata": {},
   "source": [
    "**The integral of the energy density over the cross section of the rectangular wave guide represents the energy transmitted per unit length**."
   ]
  },
  {
   "cell_type": "markdown",
   "metadata": {},
   "source": [
    "Since the only $x$ and $y$ dependence is in the cosines and sines and\n",
    "\n",
    "$$\\int_{0}^a \\cos^2 \\left( \\frac{\\pi n_x}{a}x \\right)dx =  \\int_{0}^a \\cos^2 \\left( \\frac{\\pi n_x}{a}x \\right)dx = \\frac{a}{2}$$\n",
    "\n",
    "$$\\int_{0}^b \\sin^2 \\left( \\frac{\\pi n_y}{b}y \\right)dy =  \\int_{0}^b \\cos^2 \\left( \\frac{\\pi n_y}{b}y \\right)dy = \\frac{b}{2}$$\n",
    "\n",
    "we can simply replace the trig expressions in $u$ with these values to perform effective integration over $0 \\leq x \\leq a$ and $0 \\leq y \\leq b$."
   ]
  },
  {
   "cell_type": "code",
   "execution_count": 13,
   "metadata": {},
   "outputs": [],
   "source": [
    "u_int = u.subs(smp.sin(smp.pi*ny*y/b)**2, b/2)\n",
    "u_int = u_int.subs(smp.cos(smp.pi*ny*y/b)**2, b/2)\n",
    "u_int = u_int.subs(smp.sin(smp.pi*nx*x/a)**2, a/2)\n",
    "u_int = u_int.subs(smp.cos(smp.pi*nx*x/a)**2, a/2)\n",
    "u_int =u_int.simplify()"
   ]
  },
  {
   "cell_type": "code",
   "execution_count": 14,
   "metadata": {},
   "outputs": [
    {
     "data": {
      "image/png": "[encoded data removed]",
      "text/latex": [
       "$$\\frac{E_{0}^{2}}{16 \\mu_0 a b \\left(\\omega^{2} - c^{2} k^{2}\\right)^{2}} \\left(\\epsilon_0 \\mu_0 \\left(a^{2} b^{2} \\left(\\omega^{2} - c^{2} k^{2}\\right)^{2} + \\pi^{2} a^{2} c^{4} k^{2} n_{y}^{2} + \\pi^{2} b^{2} c^{4} k^{2} n_{x}^{2}\\right) + \\pi^{2} \\omega^{2} \\left(a^{2} n_{y}^{2} + b^{2} n_{x}^{2}\\right)\\right)$$"
      ],
      "text/plain": [
       "    ⎛               ⎛                       2                                 \n",
       "  2 ⎜               ⎜ 2  2 ⎛      2    2  2⎞     2  2  4  2    2    2  2  4  2\n",
       "E₀ ⋅⎝\\epsilon₀⋅\\mu₀⋅⎝a ⋅b ⋅⎝\\omega  - c ⋅k ⎠  + π ⋅a ⋅c ⋅k ⋅n_y  + π ⋅b ⋅c ⋅k \n",
       "──────────────────────────────────────────────────────────────────────────────\n",
       "                                                                        2     \n",
       "                                                       ⎛      2    2  2⎞      \n",
       "                                           16⋅\\mu₀⋅a⋅b⋅⎝\\omega  - c ⋅k ⎠      \n",
       "\n",
       "    ⎞                                ⎞\n",
       "   2⎟    2       2 ⎛ 2    2    2   2⎞⎟\n",
       "⋅nₓ ⎠ + π ⋅\\omega ⋅⎝a ⋅n_y  + b ⋅nₓ ⎠⎠\n",
       "──────────────────────────────────────\n",
       "                                      \n",
       "                                      \n",
       "                                      "
      ]
     },
     "metadata": {},
     "output_type": "display_data"
    }
   ],
   "source": [
    "display(u_int)"
   ]
  },
  {
   "cell_type": "markdown",
   "metadata": {},
   "source": [
    "Further simplification using the facts that\n",
    "\n",
    "$$(9.180) \\implies a^2 n_y^2+b^2 n_x^2 = \\frac{1}{a^2 b^2}\\left(\\frac{\\omega_{nm}}{\\pi c} \\right)^2$$\n",
    "\n",
    "$$(\\text{Known Fact}) \\implies \\frac{1}{\\epsilon_0 \\mu_0}=c^2 $$\n",
    "\n",
    "$$(9.190) \\implies \\omega^2-c^2 k^2 = \\omega_{nm}^2$$"
   ]
  },
  {
   "cell_type": "code",
   "execution_count": 15,
   "metadata": {},
   "outputs": [],
   "source": [
    "u_int = u_int.subs(a**2*ny**2+b**2*nx**2, a**2*b**2*(wnm/(smp.pi*c))**2)\n",
    "u_int = u_int.subs(a**2*ny**2, -b**2*nx**2+a**2*b**2*(wnm/(smp.pi*c))**2)\n",
    "u_int = u_int.subs(w**2-c**2*k**2, wnm**2)\n",
    "u_int = u_int.subs(e0*u0, 1/c**2)\n",
    "u_int = u_int.subs(c**2*k**2, w**2-wnm**2)\n",
    "u_int = u_int.simplify()"
   ]
  },
  {
   "cell_type": "markdown",
   "metadata": {},
   "source": [
    "(Note: It took some trial and error here- that's why there is so many different substitutions)"
   ]
  },
  {
   "cell_type": "code",
   "execution_count": 16,
   "metadata": {},
   "outputs": [
    {
     "data": {
      "image/png": "[encoded data removed]",
      "text/latex": [
       "$$\\frac{E_{0}^{2} \\omega^{2} a b}{8 \\mu_0 \\omega_{nm}^{2} c^{2}}$$"
      ],
      "text/plain": [
       "     2       2        \n",
       "   E₀ ⋅\\omega ⋅a⋅b    \n",
       "──────────────────────\n",
       "                  2  2\n",
       "8⋅\\mu₀⋅\\omega_{nm} ⋅c "
      ]
     },
     "metadata": {},
     "output_type": "display_data"
    }
   ],
   "source": [
    "display(u_int)"
   ]
  },
  {
   "cell_type": "markdown",
   "metadata": {},
   "source": [
    "## Ratio"
   ]
  },
  {
   "cell_type": "markdown",
   "metadata": {},
   "source": [
    "The speed at which energy is transmitted through the wave guide is going to be the ratio\n",
    "\n",
    "$$\\frac{\\int <\\vec{S}> \\cdot d\\vec{a}}{\\int uda} $$"
   ]
  },
  {
   "cell_type": "code",
   "execution_count": 17,
   "metadata": {},
   "outputs": [
    {
     "data": {
      "image/png": "[encoded data removed]",
      "text/latex": [
       "$$\\frac{c^{2} k}{\\omega}$$"
      ],
      "text/plain": [
       "  2   \n",
       " c ⋅k \n",
       "──────\n",
       "\\omega"
      ]
     },
     "execution_count": 17,
     "metadata": {},
     "output_type": "execute_result"
    }
   ],
   "source": [
    "rat = (S_int/u_int).simplify()\n",
    "rat"
   ]
  },
  {
   "cell_type": "markdown",
   "metadata": {},
   "source": [
    "Note that \n",
    "\n",
    "$$\\frac{c^2k}{\\omega}=\\frac{c}{\\omega}\\sqrt{\\omega^2-\\omega_{nm}^2} = v_g $$\n",
    "\n",
    "as defined in equation (9.192)."
   ]
  }
 ],
 "metadata": {
  "kernelspec": {
   "display_name": "Python 3",
   "language": "python",
   "name": "python3"
  },
  "language_info": {
   "codemirror_mode": {
    "name": "ipython",
    "version": 3
   },
   "file_extension": ".py",
   "mimetype": "text/x-python",
   "name": "python",
   "nbconvert_exporter": "python",
   "pygments_lexer": "ipython3",
   "version": "3.6.5"
  }
 },
 "nbformat": 4,
 "nbformat_minor": 2
}
