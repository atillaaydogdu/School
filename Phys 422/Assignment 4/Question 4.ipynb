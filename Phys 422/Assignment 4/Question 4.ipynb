{
 "cells": [
  {
   "cell_type": "code",
   "execution_count": 1,
   "metadata": {},
   "outputs": [],
   "source": [
    "import numpy as np\n",
    "import matplotlib.pyplot as plt\n",
    "from matplotlib import animation"
   ]
  },
  {
   "cell_type": "markdown",
   "metadata": {},
   "source": [
    "$t_0$ is 30 time steps, and $\\sigma$ is 10 spacial steps"
   ]
  },
  {
   "cell_type": "code",
   "execution_count": 2,
   "metadata": {},
   "outputs": [],
   "source": [
    "t0 = 30\n",
    "sig = 10\n",
    "imp0 = 377"
   ]
  },
  {
   "cell_type": "markdown",
   "metadata": {},
   "source": [
    "Total spacial distance is 200 spacial steps and total time is 250 time steps."
   ]
  },
  {
   "cell_type": "code",
   "execution_count": 3,
   "metadata": {},
   "outputs": [],
   "source": [
    "size = 200\n",
    "maxtime = 400"
   ]
  },
  {
   "cell_type": "code",
   "execution_count": 4,
   "metadata": {},
   "outputs": [],
   "source": [
    "def gaussian(x, mu, sig):\n",
    "    return np.exp(-np.power(x - mu, 2.) / (np.power(sig, 2.)))"
   ]
  },
  {
   "cell_type": "markdown",
   "metadata": {},
   "source": [
    "## Source Term"
   ]
  },
  {
   "cell_type": "code",
   "execution_count": 5,
   "metadata": {},
   "outputs": [],
   "source": [
    "ez = np.zeros(size)\n",
    "hy = np.zeros(size)\n",
    "\n",
    "ez_alltime = np.zeros((maxtime, size))\n",
    "hy_alltime = np.zeros((maxtime, size))\n",
    "\n",
    "for tt in range(maxtime):\n",
    "    ez_alltime[tt] = ez\n",
    "    hy_alltime[tt] = hy\n",
    "    \n",
    "    for mm in range(size-1):\n",
    "        hy[size-1] = hy[size-2]\n",
    "        hy[mm] = hy[mm]+(ez[mm+1]-ez[mm])/imp0\n",
    "        \n",
    "    for mm in range(1, size): \n",
    "        ez[0] = ez[1]\n",
    "        ez[mm] = ez[mm] + (hy[mm] - hy[mm-1])*imp0\n",
    "        \n",
    "    ez[0] = gaussian(tt, t0, sig)"
   ]
  },
  {
   "cell_type": "code",
   "execution_count": 35,
   "metadata": {},
   "outputs": [],
   "source": [
    "x = np.arange(0, size, 1)\n",
    "\n",
    "def animate(i):\n",
    "    ax.clear()\n",
    "    ax.set_ylim(0, 1.1)\n",
    "    ax.text(130, 1.03, 'Time Step: {}'.format(i), fontsize=20)\n",
    "    ax.set_xlabel('Spacial Steps')\n",
    "    ax.set_label(r'$E_z$ (V/m)')\n",
    "    ax.grid()\n",
    "    ax.plot(x, ez_alltime[i], lw = 5)"
   ]
  },
  {
   "cell_type": "markdown",
   "metadata": {},
   "source": [
    "Below we relate time steps to \"actual time\" as viewed in the video. Since we are animating at 15 fps, each time step in this simulation is equivalent to 1/15th of a second in \"actual time\". "
   ]
  },
  {
   "cell_type": "code",
   "execution_count": 37,
   "metadata": {},
   "outputs": [],
   "source": [
    "fig, ax = plt.subplots(1,1, figsize=(10,10))\n",
    "\n",
    "ani = animation.FuncAnimation(fig, animate, maxtime, interval=1e2, blit=False)\n",
    "ani.save('test1.mp4', fps=30, dpi=300)\n",
    "plt.close()"
   ]
  },
  {
   "cell_type": "code",
   "execution_count": 34,
   "metadata": {},
   "outputs": [
    {
     "data": {
      "text/plain": [
       "[<matplotlib.lines.Line2D at 0x115cdc320>]"
      ]
     },
     "execution_count": 34,
     "metadata": {},
     "output_type": "execute_result"
    },
    {
     "data": {
      "image/png": "[encoded data removed]",
      "text/plain": [
       "<Figure size 432x288 with 1 Axes>"
      ]
     },
     "metadata": {
      "needs_background": "light"
     },
     "output_type": "display_data"
    }
   ],
   "source": [
    "plt.plot(x, ez_alltime[50], lw=5)"
   ]
  }
 ],
 "metadata": {
  "kernelspec": {
   "display_name": "Python 3",
   "language": "python",
   "name": "python3"
  },
  "language_info": {
   "codemirror_mode": {
    "name": "ipython",
    "version": 3
   },
   "file_extension": ".py",
   "mimetype": "text/x-python",
   "name": "python",
   "nbconvert_exporter": "python",
   "pygments_lexer": "ipython3",
   "version": "3.6.7"
  }
 },
 "nbformat": 4,
 "nbformat_minor": 2
}
