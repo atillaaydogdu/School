{
 "cells": [
  {
   "cell_type": "markdown",
   "metadata": {},
   "source": [
    "# Info for future me"
   ]
  },
  {
   "cell_type": "markdown",
   "metadata": {},
   "source": [
    "Opening WAV files (WAV file is easy to open as numpy array). Also says how to write back into WAV files (could be useful when wanting to listen to filtered signals).\n",
    "\n",
    "https://stackoverflow.com/questions/53633177/how-to-read-a-mp3-audio-file-into-a-numpy-array-save-a-numpy-array-to-mp3\n",
    "\n",
    "Software to convert from p4a to WAV files\n",
    "\n",
    "https://www.apowersoft.com/free-online-video-converter"
   ]
  },
  {
   "cell_type": "markdown",
   "metadata": {},
   "source": [
    "# Prelimary Stuff"
   ]
  },
  {
   "cell_type": "code",
   "execution_count": 2,
   "metadata": {},
   "outputs": [],
   "source": [
    "import numpy as np\n",
    "import pandas as pd\n",
    "import scipy as sp; from scipy.io import wavfile; from scipy import signal\n",
    "import pydub\n",
    "from pydub import AudioSegment"
   ]
  },
  {
   "cell_type": "markdown",
   "metadata": {},
   "source": [
    "## Open Data\n"
   ]
  },
  {
   "cell_type": "markdown",
   "metadata": {},
   "source": [
    "Open up audio data. Obtain the sampling frequency (rate) and the data. Since the data contains sound volume for left and right ear, only take the left ear (convert to mono)."
   ]
  },
  {
   "cell_type": "code",
   "execution_count": 3,
   "metadata": {},
   "outputs": [],
   "source": [
    "rate_E, data_E = sp.io.wavfile.read('sound_recs/ac_E.wav')\n",
    "data_E = np.array([data_E[i][0] for i in range(len(data_E))])\n",
    "\n",
    "rate_A, data_A = sp.io.wavfile.read('sound_recs/ac_A.wav')\n",
    "data_A = np.array([data_A[i][0] for i in range(len(data_A))])\n",
    "\n",
    "rate_D, data_D = sp.io.wavfile.read('sound_recs/ac_D.wav')\n",
    "data_D = np.array([data_D[i][0] for i in range(len(data_D))])\n",
    "\n",
    "rate_G, data_G = sp.io.wavfile.read('sound_recs/ac_G.wav')\n",
    "data_G = np.array([data_G[i][0] for i in range(len(data_G))])\n",
    "\n",
    "rate_B, data_B = sp.io.wavfile.read('sound_recs/ac_B.wav')\n",
    "data_B = np.array([data_B[i][0] for i in range(len(data_B))])\n",
    "\n",
    "rate_Eh, data_Eh = sp.io.wavfile.read('sound_recs/ac_Eh.wav')\n",
    "data_Eh = np.array([data_Eh[i][0] for i in range(len(data_Eh))])"
   ]
  },
  {
   "cell_type": "code",
   "execution_count": 4,
   "metadata": {},
   "outputs": [],
   "source": [
    "rate_E_mute, data_E_mute = sp.io.wavfile.read('sound_recs/ac_E_mute.wav')\n",
    "data_E_mute = np.array([data_E_mute[i][0] for i in range(len(data_E_mute))])\n",
    "\n",
    "rate_A_mute, data_A_mute = sp.io.wavfile.read('sound_recs/ac_A_mute.wav')\n",
    "data_A_mute = np.array([data_A_mute[i][0] for i in range(len(data_A_mute))])\n",
    "\n",
    "rate_D_mute, data_D_mute = sp.io.wavfile.read('sound_recs/ac_D_mute.wav')\n",
    "data_D_mute = np.array([data_D_mute[i][0] for i in range(len(data_D_mute))])\n",
    "\n",
    "rate_G_mute, data_G_mute = sp.io.wavfile.read('sound_recs/ac_G_mute.wav')\n",
    "data_G_mute = np.array([data_G_mute[i][0] for i in range(len(data_G_mute))])\n",
    "\n",
    "rate_B_mute, data_B_mute = sp.io.wavfile.read('sound_recs/ac_B_mute.wav')\n",
    "data_B_mute = np.array([data_B_mute[i][0] for i in range(len(data_B_mute))])\n",
    "\n",
    "rate_Eh_mute, data_Eh_mute = sp.io.wavfile.read('sound_recs/ac_Eh_mute.wav')\n",
    "data_Eh_mute = np.array([data_Eh_mute[i][0] for i in range(len(data_Eh_mute))])"
   ]
  },
  {
   "cell_type": "markdown",
   "metadata": {},
   "source": [
    "# Place Into DataFrame"
   ]
  },
  {
   "cell_type": "code",
   "execution_count": 11,
   "metadata": {},
   "outputs": [],
   "source": [
    "d = {'E': data_E, 'A': data_A, 'D': data_D, 'G': data_G,\n",
    "                           'B': data_B, 'Eh': data_Eh, 'E_mute': data_E_mute,\n",
    "                            'A_mute': data_A_mute, 'D_mute': data_D_mute,\n",
    "                            'G_mute': data_G_mute, 'B_mute': data_B_mute,\n",
    "                            'Eh_mute' :data_Eh_mute, }\n",
    "df_acoustic = pd.DataFrame(dict([ (k,pd.Series(v)) for k,v in d.items() ]))"
   ]
  },
  {
   "cell_type": "code",
   "execution_count": 13,
   "metadata": {},
   "outputs": [
    {
     "data": {
      "text/html": [
       "<div>\n",
       "<style scoped>\n",
       "    .dataframe tbody tr th:only-of-type {\n",
       "        vertical-align: middle;\n",
       "    }\n",
       "\n",
       "    .dataframe tbody tr th {\n",
       "        vertical-align: top;\n",
       "    }\n",
       "\n",
       "    .dataframe thead th {\n",
       "        text-align: right;\n",
       "    }\n",
       "</style>\n",
       "<table border=\"1\" class=\"dataframe\">\n",
       "  <thead>\n",
       "    <tr style=\"text-align: right;\">\n",
       "      <th></th>\n",
       "      <th>E</th>\n",
       "      <th>A</th>\n",
       "      <th>D</th>\n",
       "      <th>G</th>\n",
       "      <th>B</th>\n",
       "      <th>Eh</th>\n",
       "      <th>E_mute</th>\n",
       "      <th>A_mute</th>\n",
       "      <th>D_mute</th>\n",
       "      <th>G_mute</th>\n",
       "      <th>B_mute</th>\n",
       "      <th>Eh_mute</th>\n",
       "    </tr>\n",
       "  </thead>\n",
       "  <tbody>\n",
       "    <tr>\n",
       "      <th>0</th>\n",
       "      <td>1.0</td>\n",
       "      <td>0.0</td>\n",
       "      <td>1.0</td>\n",
       "      <td>0.0</td>\n",
       "      <td>-1.0</td>\n",
       "      <td>-1.0</td>\n",
       "      <td>-1</td>\n",
       "      <td>1.0</td>\n",
       "      <td>-1.0</td>\n",
       "      <td>-1.0</td>\n",
       "      <td>1.0</td>\n",
       "      <td>-1.0</td>\n",
       "    </tr>\n",
       "    <tr>\n",
       "      <th>1</th>\n",
       "      <td>2.0</td>\n",
       "      <td>0.0</td>\n",
       "      <td>4.0</td>\n",
       "      <td>0.0</td>\n",
       "      <td>-3.0</td>\n",
       "      <td>-1.0</td>\n",
       "      <td>-2</td>\n",
       "      <td>4.0</td>\n",
       "      <td>-2.0</td>\n",
       "      <td>-3.0</td>\n",
       "      <td>2.0</td>\n",
       "      <td>-2.0</td>\n",
       "    </tr>\n",
       "    <tr>\n",
       "      <th>2</th>\n",
       "      <td>2.0</td>\n",
       "      <td>0.0</td>\n",
       "      <td>8.0</td>\n",
       "      <td>1.0</td>\n",
       "      <td>-5.0</td>\n",
       "      <td>-1.0</td>\n",
       "      <td>-3</td>\n",
       "      <td>6.0</td>\n",
       "      <td>-3.0</td>\n",
       "      <td>-5.0</td>\n",
       "      <td>3.0</td>\n",
       "      <td>-3.0</td>\n",
       "    </tr>\n",
       "    <tr>\n",
       "      <th>3</th>\n",
       "      <td>2.0</td>\n",
       "      <td>0.0</td>\n",
       "      <td>11.0</td>\n",
       "      <td>2.0</td>\n",
       "      <td>-8.0</td>\n",
       "      <td>-1.0</td>\n",
       "      <td>-4</td>\n",
       "      <td>9.0</td>\n",
       "      <td>-4.0</td>\n",
       "      <td>-7.0</td>\n",
       "      <td>4.0</td>\n",
       "      <td>-4.0</td>\n",
       "    </tr>\n",
       "    <tr>\n",
       "      <th>4</th>\n",
       "      <td>2.0</td>\n",
       "      <td>0.0</td>\n",
       "      <td>16.0</td>\n",
       "      <td>3.0</td>\n",
       "      <td>-11.0</td>\n",
       "      <td>-1.0</td>\n",
       "      <td>-6</td>\n",
       "      <td>12.0</td>\n",
       "      <td>-5.0</td>\n",
       "      <td>-9.0</td>\n",
       "      <td>4.0</td>\n",
       "      <td>-5.0</td>\n",
       "    </tr>\n",
       "  </tbody>\n",
       "</table>\n",
       "</div>"
      ],
      "text/plain": [
       "     E    A     D    G     B   Eh  E_mute  A_mute  D_mute  G_mute  B_mute  \\\n",
       "0  1.0  0.0   1.0  0.0  -1.0 -1.0      -1     1.0    -1.0    -1.0     1.0   \n",
       "1  2.0  0.0   4.0  0.0  -3.0 -1.0      -2     4.0    -2.0    -3.0     2.0   \n",
       "2  2.0  0.0   8.0  1.0  -5.0 -1.0      -3     6.0    -3.0    -5.0     3.0   \n",
       "3  2.0  0.0  11.0  2.0  -8.0 -1.0      -4     9.0    -4.0    -7.0     4.0   \n",
       "4  2.0  0.0  16.0  3.0 -11.0 -1.0      -6    12.0    -5.0    -9.0     4.0   \n",
       "\n",
       "   Eh_mute  \n",
       "0     -1.0  \n",
       "1     -2.0  \n",
       "2     -3.0  \n",
       "3     -4.0  \n",
       "4     -5.0  "
      ]
     },
     "execution_count": 13,
     "metadata": {},
     "output_type": "execute_result"
    }
   ],
   "source": [
    "df_acoustic.head()"
   ]
  },
  {
   "cell_type": "code",
   "execution_count": 15,
   "metadata": {},
   "outputs": [],
   "source": [
    "df_acoustic.to_pickle(\"./acoustic_df.pkl\")"
   ]
  }
 ],
 "metadata": {
  "kernelspec": {
   "display_name": "Python 3",
   "language": "python",
   "name": "python3"
  },
  "language_info": {
   "codemirror_mode": {
    "name": "ipython",
    "version": 3
   },
   "file_extension": ".py",
   "mimetype": "text/x-python",
   "name": "python",
   "nbconvert_exporter": "python",
   "pygments_lexer": "ipython3",
   "version": "3.6.5"
  }
 },
 "nbformat": 4,
 "nbformat_minor": 2
}
