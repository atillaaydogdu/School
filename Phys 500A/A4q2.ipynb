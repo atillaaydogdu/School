{
 "cells": [
  {
   "cell_type": "code",
   "execution_count": 1,
   "metadata": {},
   "outputs": [],
   "source": [
    "import numpy as np\n",
    "import sympy as smp\n",
    "import matplotlib.pyplot as plt"
   ]
  },
  {
   "cell_type": "markdown",
   "metadata": {},
   "source": [
    "Define variables."
   ]
  },
  {
   "cell_type": "code",
   "execution_count": 2,
   "metadata": {},
   "outputs": [],
   "source": [
    "t, t1, t2, gam, hbar, w, w21 = smp.symbols('t t_1 t_2 \\gamma \\hbar \\omega \\omega_{21} ', real=True)"
   ]
  },
  {
   "cell_type": "markdown",
   "metadata": {},
   "source": [
    "Compute the integral for $c_1^{(2)}(t)$"
   ]
  },
  {
   "cell_type": "code",
   "execution_count": 3,
   "metadata": {},
   "outputs": [],
   "source": [
    "f1 = (-(gam**2 / hbar**2)* smp.exp(smp.I*w21*t2)*smp.exp(-smp.I*w*t2)).simplify()\n",
    "f2 = (smp.exp(-smp.I*w21*t1)*smp.exp(smp.I*w*t1)).simplify()\n",
    "\n",
    "integral_1 = smp.integrate(f1, (t2, 0, t1)).simplify()\n",
    "integral = smp.integrate(integral_1, (t1, 0, t), conds='separate').simplify()"
   ]
  },
  {
   "cell_type": "markdown",
   "metadata": {},
   "source": [
    "Compute $|c_1(t)|^2$"
   ]
  },
  {
   "cell_type": "code",
   "execution_count": 4,
   "metadata": {},
   "outputs": [
    {
     "data": {
      "text/latex": [
       "$\\displaystyle \\frac{\\gamma^{4} \\left(\\omega^{2} t^{2} - 2 \\omega \\omega_{21} t^{2} - 2 \\omega t \\sin{\\left(\\omega t - \\omega_{21} t \\right)} + \\omega_{21}^{2} t^{2} + 2 \\omega_{21} t \\sin{\\left(\\omega t - \\omega_{21} t \\right)} - 2 \\cos{\\left(\\omega t - \\omega_{21} t \\right)} + 2\\right) + \\gamma^{2} \\hbar^{2} \\left(2 \\omega^{2} \\cos{\\left(\\omega t - \\omega_{21} t \\right)} - 2 \\omega^{2} - 4 \\omega \\omega_{21} \\cos{\\left(\\omega t - \\omega_{21} t \\right)} + 4 \\omega \\omega_{21} + 2 \\omega_{21}^{2} \\cos{\\left(\\omega t - \\omega_{21} t \\right)} - 2 \\omega_{21}^{2}\\right) + \\hbar^{4} \\left(\\omega^{4} - 4 \\omega^{3} \\omega_{21} + 6 \\omega^{2} \\omega_{21}^{2} - 4 \\omega \\omega_{21}^{3} + \\omega_{21}^{4}\\right)}{\\hbar^{4} \\left(\\omega^{2} - 2 \\omega \\omega_{21} + \\omega_{21}^{2}\\right)^{2}}$"
      ],
      "text/plain": [
       "(\\gamma**4*(\\omega**2*t**2 - 2*\\omega*\\omega_{21}*t**2 - 2*\\omega*t*sin(\\omega*t - \\omega_{21}*t) + \\omega_{21}**2*t**2 + 2*\\omega_{21}*t*sin(\\omega*t - \\omega_{21}*t) - 2*cos(\\omega*t - \\omega_{21}*t) + 2) + \\gamma**2*\\hbar**2*(2*\\omega**2*cos(\\omega*t - \\omega_{21}*t) - 2*\\omega**2 - 4*\\omega*\\omega_{21}*cos(\\omega*t - \\omega_{21}*t) + 4*\\omega*\\omega_{21} + 2*\\omega_{21}**2*cos(\\omega*t - \\omega_{21}*t) - 2*\\omega_{21}**2) + \\hbar**4*(\\omega**4 - 4*\\omega**3*\\omega_{21} + 6*\\omega**2*\\omega_{21}**2 - 4*\\omega*\\omega_{21}**3 + \\omega_{21}**4))/(\\hbar**4*(\\omega**2 - 2*\\omega*\\omega_{21} + \\omega_{21}**2)**2)"
      ]
     },
     "execution_count": 4,
     "metadata": {},
     "output_type": "execute_result"
    }
   ],
   "source": [
    "c = smp.Abs((integral+1).expand(complex=True).simplify())**2\n",
    "c = c.simplify().factor(gam, hbar)\n",
    "c"
   ]
  }
 ],
 "metadata": {
  "kernelspec": {
   "display_name": "Python 3",
   "language": "python",
   "name": "python3"
  },
  "language_info": {
   "codemirror_mode": {
    "name": "ipython",
    "version": 3
   },
   "file_extension": ".py",
   "mimetype": "text/x-python",
   "name": "python",
   "nbconvert_exporter": "python",
   "pygments_lexer": "ipython3",
   "version": "3.6.5"
  }
 },
 "nbformat": 4,
 "nbformat_minor": 2
}
