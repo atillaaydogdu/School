{
 "cells": [
  {
   "cell_type": "markdown",
   "metadata": {},
   "source": [
    "# Extra Work for This Problem"
   ]
  },
  {
   "cell_type": "code",
   "execution_count": 1,
   "metadata": {},
   "outputs": [],
   "source": [
    "import sympy as smp\n",
    "from sympy.abc import theta, phi\n",
    "from sympy import *\n",
    "from sympy import trigsimp\n",
    "import numpy as np\n",
    "from IPython.display import display, Math\n",
    "smp.init_printing()"
   ]
  },
  {
   "cell_type": "markdown",
   "metadata": {},
   "source": [
    "# Part C"
   ]
  },
  {
   "cell_type": "markdown",
   "metadata": {},
   "source": [
    "## Define Symbols"
   ]
  },
  {
   "cell_type": "markdown",
   "metadata": {},
   "source": [
    "Define the symbols we will use in this problem. Note that $q_1$ corresponds to $q'$, $q_2$ corresponds to $q''$, and the same with $t_1$ and $t_2$."
   ]
  },
  {
   "cell_type": "code",
   "execution_count": 2,
   "metadata": {},
   "outputs": [],
   "source": [
    "q1, q2, t1, t2, W, m, t = smp.symbols('q_1 q_2 t_1 t_2 \\Omega m t', real=True)"
   ]
  },
  {
   "cell_type": "markdown",
   "metadata": {},
   "source": [
    "## Define the Path q(t)"
   ]
  },
  {
   "cell_type": "markdown",
   "metadata": {},
   "source": [
    "Define $A$ and $B$ as specified in the written problem. We print $A$ and $B$ below."
   ]
  },
  {
   "cell_type": "code",
   "execution_count": 3,
   "metadata": {},
   "outputs": [],
   "source": [
    "A = (q1*smp.exp(smp.I * W * t1) - q2*smp.exp(smp.I * W * t2))/(smp.exp(2*smp.I * W * t1) - smp.exp(2*smp.I * W * t2))\n",
    "B = (q1*smp.exp(-smp.I * W * t1) - q2*smp.exp(-smp.I * W * t2))/(smp.exp(-2*smp.I * W * t1) - smp.exp(-2*smp.I * W * t2))"
   ]
  },
  {
   "cell_type": "code",
   "execution_count": 4,
   "metadata": {},
   "outputs": [
    {
     "data": {
      "image/png": "[encoded data removed]",
      "text/latex": [
       "$$\\frac{q_{1} e^{i \\Omega t_{1}} - q_{2} e^{i \\Omega t_{2}}}{e^{2 i \\Omega t_{1}} - e^{2 i \\Omega t_{2}}}$$"
      ],
      "text/plain": [
       "    ⅈ⋅\\Omega⋅t₁       ⅈ⋅\\Omega⋅t₂\n",
       "q₁⋅ℯ            - q₂⋅ℯ           \n",
       "─────────────────────────────────\n",
       "  2⋅ⅈ⋅\\Omega⋅t₁    2⋅ⅈ⋅\\Omega⋅t₂ \n",
       " ℯ              - ℯ              "
      ]
     },
     "metadata": {},
     "output_type": "display_data"
    },
    {
     "data": {
      "image/png": "[encoded data removed]",
      "text/latex": [
       "$$\\frac{q_{1} e^{- i \\Omega t_{1}} - q_{2} e^{- i \\Omega t_{2}}}{- e^{- 2 i \\Omega t_{2}} + e^{- 2 i \\Omega t_{1}}}$$"
      ],
      "text/plain": [
       "    -ⅈ⋅\\Omega⋅t₁       -ⅈ⋅\\Omega⋅t₂\n",
       "q₁⋅ℯ             - q₂⋅ℯ            \n",
       "───────────────────────────────────\n",
       "   -2⋅ⅈ⋅\\Omega⋅t₂    -2⋅ⅈ⋅\\Omega⋅t₁\n",
       "- ℯ               + ℯ              "
      ]
     },
     "metadata": {},
     "output_type": "display_data"
    }
   ],
   "source": [
    "display(A)\n",
    "display(B)"
   ]
  },
  {
   "cell_type": "markdown",
   "metadata": {},
   "source": [
    "Now we define $q$ as specified in the problem. We show that the initial conditions are satisfied given the above values of $A$ and $B$."
   ]
  },
  {
   "cell_type": "code",
   "execution_count": 5,
   "metadata": {},
   "outputs": [
    {
     "data": {
      "image/png": "[encoded data removed]",
      "text/latex": [
       "$$\\frac{\\left(q_{1} e^{- i \\Omega t_{1}} - q_{2} e^{- i \\Omega t_{2}}\\right) e^{- i \\Omega t}}{- e^{- 2 i \\Omega t_{2}} + e^{- 2 i \\Omega t_{1}}} + \\frac{\\left(q_{1} e^{i \\Omega t_{1}} - q_{2} e^{i \\Omega t_{2}}\\right) e^{i \\Omega t}}{e^{2 i \\Omega t_{1}} - e^{2 i \\Omega t_{2}}}$$"
      ],
      "text/plain": [
       "⎛    -ⅈ⋅\\Omega⋅t₁       -ⅈ⋅\\Omega⋅t₂⎞  -ⅈ⋅\\Omega⋅t   ⎛    ⅈ⋅\\Omega⋅t₁       ⅈ⋅\n",
       "⎝q₁⋅ℯ             - q₂⋅ℯ            ⎠⋅ℯ              ⎝q₁⋅ℯ            - q₂⋅ℯ  \n",
       "────────────────────────────────────────────────── + ─────────────────────────\n",
       "          -2⋅ⅈ⋅\\Omega⋅t₂    -2⋅ⅈ⋅\\Omega⋅t₁                    2⋅ⅈ⋅\\Omega⋅t₁   \n",
       "       - ℯ               + ℯ                                 ℯ              - \n",
       "\n",
       "\\Omega⋅t₂⎞  ⅈ⋅\\Omega⋅t\n",
       "         ⎠⋅ℯ          \n",
       "──────────────────────\n",
       " 2⋅ⅈ⋅\\Omega⋅t₂        \n",
       "ℯ                     "
      ]
     },
     "execution_count": 5,
     "metadata": {},
     "output_type": "execute_result"
    }
   ],
   "source": [
    "q = A*smp.exp(smp.I*W*t) + B*smp.exp(-smp.I*W*t)\n",
    "q"
   ]
  },
  {
   "cell_type": "code",
   "execution_count": 6,
   "metadata": {},
   "outputs": [
    {
     "data": {
      "image/png": "[encoded data removed]",
      "text/latex": [
       "$$q_{1}$$"
      ],
      "text/plain": [
       "q₁"
      ]
     },
     "metadata": {},
     "output_type": "display_data"
    },
    {
     "data": {
      "image/png": "[encoded data removed]",
      "text/latex": [
       "$$q_{2}$$"
      ],
      "text/plain": [
       "q₂"
      ]
     },
     "metadata": {},
     "output_type": "display_data"
    }
   ],
   "source": [
    "display(q.subs(t,t1).simplify())\n",
    "display(q.subs(t,t2).simplify())"
   ]
  },
  {
   "cell_type": "markdown",
   "metadata": {},
   "source": [
    "## Get the Lagrangian and the Action"
   ]
  },
  {
   "cell_type": "markdown",
   "metadata": {},
   "source": [
    "Here we define the Lagrangian. This quantity minimizes the action when integrated from $t_1$ to $t_2$."
   ]
  },
  {
   "cell_type": "code",
   "execution_count": 7,
   "metadata": {},
   "outputs": [],
   "source": [
    "L = (m/2)* (q.diff(t)**2 - W**2 * q**2)\n",
    "L = L.simplify()"
   ]
  },
  {
   "cell_type": "code",
   "execution_count": 8,
   "metadata": {},
   "outputs": [
    {
     "data": {
      "image/png": "[encoded data removed]",
      "text/latex": [
       "$$- \\frac{i \\Omega m}{2 e^{2 i \\Omega t_{1}} - 2 e^{2 i \\Omega t_{2}}} \\left(q_{1}^{2} \\left(e^{2 i \\Omega t_{1}} + e^{2 i \\Omega t_{2}}\\right) - 4 q_{1} q_{2} e^{i \\Omega \\left(t_{1} + t_{2}\\right)} + q_{2}^{2} \\left(e^{2 i \\Omega t_{1}} + e^{2 i \\Omega t_{2}}\\right)\\right)$$"
      ],
      "text/plain": [
       "            ⎛  2 ⎛ 2⋅ⅈ⋅\\Omega⋅t₁    2⋅ⅈ⋅\\Omega⋅t₂⎞            ⅈ⋅\\Omega⋅(t₁ + t\n",
       "-ⅈ⋅\\Omega⋅m⋅⎝q₁ ⋅⎝ℯ              + ℯ             ⎠ - 4⋅q₁⋅q₂⋅ℯ                \n",
       "──────────────────────────────────────────────────────────────────────────────\n",
       "                                              2⋅ⅈ⋅\\Omega⋅t₁      2⋅ⅈ⋅\\Omega⋅t₂\n",
       "                                           2⋅ℯ              - 2⋅ℯ             \n",
       "\n",
       "₂)     2 ⎛ 2⋅ⅈ⋅\\Omega⋅t₁    2⋅ⅈ⋅\\Omega⋅t₂⎞⎞ \n",
       "   + q₂ ⋅⎝ℯ              + ℯ             ⎠⎠ \n",
       "────────────────────────────────────────────\n",
       "                                            \n",
       "                                            "
      ]
     },
     "execution_count": 8,
     "metadata": {},
     "output_type": "execute_result"
    }
   ],
   "source": [
    "S = integrate(L, (t, t1, t2),  conds='none').simplify()\n",
    "S.collect(q1).collect(q2)"
   ]
  },
  {
   "cell_type": "markdown",
   "metadata": {},
   "source": [
    "Note that this can be written as\n",
    "\n",
    "$$\\frac{m\\Omega}{2\\sin(\\Omega(t_2-t_1))}\\left[(q_1^2+q_2^2)\\cos(\\Omega (t_2-t_1)) -2q_1q_2\\right] $$"
   ]
  },
  {
   "cell_type": "markdown",
   "metadata": {},
   "source": [
    "Now we show that in the limit $\\Omega \\to 0$ we get the result for the free particle. This limit clearly uses L'Hopital's rule since we have 0/0 when $\\Omega \\to 0$."
   ]
  },
  {
   "cell_type": "code",
   "execution_count": 9,
   "metadata": {},
   "outputs": [
    {
     "data": {
      "image/png": "[encoded data removed]",
      "text/latex": [
       "$$\\frac{m}{2 \\left(t_{1} - t_{2}\\right)} \\left(- q_{1}^{2} + 2 q_{1} q_{2} - q_{2}^{2}\\right)$$"
      ],
      "text/plain": [
       "  ⎛    2               2⎞\n",
       "m⋅⎝- q₁  + 2⋅q₁⋅q₂ - q₂ ⎠\n",
       "─────────────────────────\n",
       "       2⋅(t₁ - t₂)       "
      ]
     },
     "execution_count": 9,
     "metadata": {},
     "output_type": "execute_result"
    }
   ],
   "source": [
    "limit(S, W, 0).simplify()"
   ]
  },
  {
   "cell_type": "markdown",
   "metadata": {},
   "source": [
    "Note that this can be rewritten as\n",
    "\n",
    "$$\\frac{m}{2}\\frac{(q_2-q_1)^2}{(t_2-t_1)} $$\n",
    "\n",
    "which is what was derived in class."
   ]
  },
  {
   "cell_type": "markdown",
   "metadata": {},
   "source": [
    "# Part E"
   ]
  },
  {
   "cell_type": "markdown",
   "metadata": {},
   "source": [
    "Define the action."
   ]
  },
  {
   "cell_type": "code",
   "execution_count": 10,
   "metadata": {},
   "outputs": [
    {
     "data": {
      "image/png": "[encoded data removed]",
      "text/latex": [
       "$$\\frac{\\Omega m}{2} \\left(- 2 q_{1} q_{2} \\csc{\\left (\\Omega \\left(- t_{1} + t_{2}\\right) \\right )} + \\left(q_{1}^{2} + q_{2}^{2}\\right) \\cot{\\left (\\Omega \\left(- t_{1} + t_{2}\\right) \\right )}\\right)$$"
      ],
      "text/plain": [
       "         ⎛                                  ⎛  2     2⎞                       \n",
       "\\Omega⋅m⋅⎝-2⋅q₁⋅q₂⋅csc(\\Omega⋅(-t₁ + t₂)) + ⎝q₁  + q₂ ⎠⋅cot(\\Omega⋅(-t₁ + t₂))\n",
       "──────────────────────────────────────────────────────────────────────────────\n",
       "                                       2                                      \n",
       "\n",
       "⎞\n",
       "⎠\n",
       "─\n",
       " "
      ]
     },
     "execution_count": 10,
     "metadata": {},
     "output_type": "execute_result"
    }
   ],
   "source": [
    "S = (m*W/2)*( (q1**2+q2**2)*smp.cot(W*(t2-t1)) - 2*q1*q2*smp.csc(W*(t2-t1)) )\n",
    "S"
   ]
  },
  {
   "cell_type": "markdown",
   "metadata": {},
   "source": [
    "Define the expression we need to simplify"
   ]
  },
  {
   "cell_type": "code",
   "execution_count": 11,
   "metadata": {},
   "outputs": [],
   "source": [
    "expr = -1/(2*m) *(smp.I*diff(S,q2,q2)-diff(S,q2)**2) + (m/2)*W**2 * q2**2 +smp.diff(S,t2)"
   ]
  },
  {
   "cell_type": "markdown",
   "metadata": {},
   "source": [
    "Simplify the expression."
   ]
  },
  {
   "cell_type": "code",
   "execution_count": 12,
   "metadata": {},
   "outputs": [
    {
     "data": {
      "image/png": "[encoded data removed]",
      "text/latex": [
       "$$- \\frac{\\Omega \\left(e^{2 i \\Omega t_{1}} + e^{2 i \\Omega t_{2}}\\right)}{2 \\left(e^{2 i \\Omega t_{1}} - e^{2 i \\Omega t_{2}}\\right)}$$"
      ],
      "text/plain": [
       "        ⎛ 2⋅ⅈ⋅\\Omega⋅t₁    2⋅ⅈ⋅\\Omega⋅t₂⎞ \n",
       "-\\Omega⋅⎝ℯ              + ℯ             ⎠ \n",
       "──────────────────────────────────────────\n",
       "     ⎛ 2⋅ⅈ⋅\\Omega⋅t₁    2⋅ⅈ⋅\\Omega⋅t₂⎞    \n",
       "   2⋅⎝ℯ              - ℯ             ⎠    "
      ]
     },
     "execution_count": 12,
     "metadata": {},
     "output_type": "execute_result"
    }
   ],
   "source": [
    "expr = expr.rewrite(exp).simplify().trigsimp().factor(q1,q2)\n",
    "expr"
   ]
  },
  {
   "cell_type": "markdown",
   "metadata": {},
   "source": [
    "Note this can be written as\n",
    "\n",
    "$$-\\frac{\\Omega}{2}i \\cot(\\Omega(t_2-t_1)) $$"
   ]
  }
 ],
 "metadata": {
  "kernelspec": {
   "display_name": "Python 3",
   "language": "python",
   "name": "python3"
  },
  "language_info": {
   "codemirror_mode": {
    "name": "ipython",
    "version": 3
   },
   "file_extension": ".py",
   "mimetype": "text/x-python",
   "name": "python",
   "nbconvert_exporter": "python",
   "pygments_lexer": "ipython3",
   "version": "3.6.7"
  }
 },
 "nbformat": 4,
 "nbformat_minor": 4
}
