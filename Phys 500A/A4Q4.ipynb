{
 "cells": [
  {
   "cell_type": "code",
   "execution_count": 1,
   "metadata": {},
   "outputs": [],
   "source": [
    "import numpy as np\n",
    "import sympy as smp\n",
    "import matplotlib.pyplot as plt\n",
    "smp.init_printing()"
   ]
  },
  {
   "cell_type": "code",
   "execution_count": 2,
   "metadata": {},
   "outputs": [],
   "source": [
    "x, y, z, r, theta, phi = smp.symbols(r'x y z r \\theta \\phi', real=True)"
   ]
  },
  {
   "cell_type": "markdown",
   "metadata": {},
   "source": [
    "Define polar coordinates"
   ]
  },
  {
   "cell_type": "code",
   "execution_count": 3,
   "metadata": {},
   "outputs": [],
   "source": [
    "R = smp.sqrt(x**2+y**2+z**2)\n",
    "Theta = smp.atan(smp.sqrt(x**2+y**2)/z)\n",
    "Phi = smp.atan(y/x)\n",
    "\n",
    "X = r*smp.sin(theta)*smp.cos(phi)\n",
    "Y = r*smp.sin(theta)*smp.sin(phi)\n",
    "Z = r*smp.cos(theta)"
   ]
  },
  {
   "cell_type": "markdown",
   "metadata": {},
   "source": [
    "Compute all derivatives"
   ]
  },
  {
   "cell_type": "code",
   "execution_count": 4,
   "metadata": {},
   "outputs": [],
   "source": [
    "drdx = smp.diff(R,x).subs([(x,X), (y,Y), (z,Z)]).trigsimp()\n",
    "drdy = smp.diff(R,y).subs([(x,X), (y,Y), (z,Z)]).trigsimp()\n",
    "drdz = smp.diff(R,z).subs([(x,X), (y,Y), (z,Z)]).trigsimp()\n",
    "\n",
    "dThetadx = smp.diff(Theta,x).subs([(x,X), (y,Y), (z,Z)]).factor(smp.sin(theta))\n",
    "dThetady = smp.diff(Theta,y).subs([(x,X), (y,Y), (z,Z)]).factor(smp.sin(theta))\n",
    "dThetadz = smp.diff(Theta,z).subs([(x,X), (y,Y), (z,Z)]).factor(smp.sin(theta))\n",
    "\n",
    "dPhidx = smp.diff(Phi,x).subs([(x,X), (y,Y), (z,Z)]).factor(smp.sin(theta))\n",
    "dPhidy = smp.diff(Phi,y).subs([(x,X), (y,Y), (z,Z)]).factor(smp.sin(theta))\n",
    "dPhidz = smp.diff(Phi,z).subs([(x,X), (y,Y), (z,Z)]).factor(smp.sin(theta))"
   ]
  },
  {
   "cell_type": "markdown",
   "metadata": {},
   "source": [
    "## Lz"
   ]
  },
  {
   "cell_type": "markdown",
   "metadata": {},
   "source": [
    "$\\partial /\\partial r$ prefactor"
   ]
  },
  {
   "cell_type": "code",
   "execution_count": 5,
   "metadata": {},
   "outputs": [
    {
     "data": {
      "image/png": "[encoded data removed]",
      "text/latex": [
       "$$0$$"
      ],
      "text/plain": [
       "0"
      ]
     },
     "execution_count": 5,
     "metadata": {},
     "output_type": "execute_result"
    }
   ],
   "source": [
    "X*drdy - Y*drdx"
   ]
  },
  {
   "cell_type": "markdown",
   "metadata": {},
   "source": [
    "$\\partial /\\partial \\theta$ prefactor"
   ]
  },
  {
   "cell_type": "code",
   "execution_count": 6,
   "metadata": {},
   "outputs": [
    {
     "data": {
      "image/png": "[encoded data removed]",
      "text/latex": [
       "$$0$$"
      ],
      "text/plain": [
       "0"
      ]
     },
     "execution_count": 6,
     "metadata": {},
     "output_type": "execute_result"
    }
   ],
   "source": [
    "X*dThetady - Y*dThetadx"
   ]
  },
  {
   "cell_type": "markdown",
   "metadata": {},
   "source": [
    "$\\partial /\\partial \\phi$ prefactor"
   ]
  },
  {
   "cell_type": "code",
   "execution_count": 7,
   "metadata": {},
   "outputs": [
    {
     "data": {
      "image/png": "[encoded data removed]",
      "text/latex": [
       "$$1$$"
      ],
      "text/plain": [
       "1"
      ]
     },
     "execution_count": 7,
     "metadata": {},
     "output_type": "execute_result"
    }
   ],
   "source": [
    "(X*dPhidy - Y*dPhidx).trigsimp()"
   ]
  },
  {
   "cell_type": "markdown",
   "metadata": {},
   "source": [
    "## Ly"
   ]
  },
  {
   "cell_type": "markdown",
   "metadata": {},
   "source": [
    "$\\partial /\\partial r$ prefactor"
   ]
  },
  {
   "cell_type": "code",
   "execution_count": 8,
   "metadata": {},
   "outputs": [
    {
     "data": {
      "image/png": "[encoded data removed]",
      "text/latex": [
       "$$0$$"
      ],
      "text/plain": [
       "0"
      ]
     },
     "execution_count": 8,
     "metadata": {},
     "output_type": "execute_result"
    }
   ],
   "source": [
    "Z*drdx - X*drdz"
   ]
  },
  {
   "cell_type": "markdown",
   "metadata": {},
   "source": [
    "$\\partial /\\partial \\theta$ prefactor"
   ]
  },
  {
   "cell_type": "code",
   "execution_count": 9,
   "metadata": {},
   "outputs": [
    {
     "data": {
      "image/png": "[encoded data removed]",
      "text/latex": [
       "$$\\frac{r \\sin{\\left (\\theta \\right )} \\cos{\\left (\\phi \\right )}}{\\left|{r}\\right| \\left|{\\sin{\\left (\\theta \\right )}}\\right|}$$"
      ],
      "text/plain": [
       "r⋅sin(\\theta)⋅cos(\\phi)\n",
       "───────────────────────\n",
       "   │r│⋅│sin(\\theta)│   "
      ]
     },
     "execution_count": 9,
     "metadata": {},
     "output_type": "execute_result"
    }
   ],
   "source": [
    "(Z*dThetadx - X*dThetadz).trigsimp()"
   ]
  },
  {
   "cell_type": "markdown",
   "metadata": {},
   "source": [
    "$\\partial /\\partial \\phi$ prefactor"
   ]
  },
  {
   "cell_type": "code",
   "execution_count": 10,
   "metadata": {},
   "outputs": [
    {
     "data": {
      "image/png": "[encoded data removed]",
      "text/latex": [
       "$$- \\frac{\\sin{\\left (\\phi \\right )}}{\\tan{\\left (\\theta \\right )}}$$"
      ],
      "text/plain": [
       "-sin(\\phi) \n",
       "───────────\n",
       "tan(\\theta)"
      ]
     },
     "execution_count": 10,
     "metadata": {},
     "output_type": "execute_result"
    }
   ],
   "source": [
    "(Z*dPhidx - X*dPhidz).trigsimp()"
   ]
  },
  {
   "cell_type": "markdown",
   "metadata": {},
   "source": [
    "## Lx"
   ]
  },
  {
   "cell_type": "markdown",
   "metadata": {},
   "source": [
    "$\\partial /\\partial r$ prefactor"
   ]
  },
  {
   "cell_type": "code",
   "execution_count": 11,
   "metadata": {},
   "outputs": [
    {
     "data": {
      "image/png": "[encoded data removed]",
      "text/latex": [
       "$$0$$"
      ],
      "text/plain": [
       "0"
      ]
     },
     "execution_count": 11,
     "metadata": {},
     "output_type": "execute_result"
    }
   ],
   "source": [
    "Y*drdz - Z*drdy"
   ]
  },
  {
   "cell_type": "markdown",
   "metadata": {},
   "source": [
    "$\\partial /\\partial \\theta$ prefactor"
   ]
  },
  {
   "cell_type": "code",
   "execution_count": 12,
   "metadata": {},
   "outputs": [
    {
     "data": {
      "image/png": "[encoded data removed]",
      "text/latex": [
       "$$- \\frac{r \\sin{\\left (\\phi \\right )} \\sin{\\left (\\theta \\right )}}{\\left|{r}\\right| \\left|{\\sin{\\left (\\theta \\right )}}\\right|}$$"
      ],
      "text/plain": [
       "-r⋅sin(\\phi)⋅sin(\\theta) \n",
       "─────────────────────────\n",
       "    │r│⋅│sin(\\theta)│    "
      ]
     },
     "execution_count": 12,
     "metadata": {},
     "output_type": "execute_result"
    }
   ],
   "source": [
    "(Y*dThetadz - Z*dThetady).trigsimp()"
   ]
  },
  {
   "cell_type": "markdown",
   "metadata": {},
   "source": [
    "$\\partial /\\partial \\phi$ prefactor"
   ]
  },
  {
   "cell_type": "code",
   "execution_count": 13,
   "metadata": {},
   "outputs": [
    {
     "data": {
      "image/png": "[encoded data removed]",
      "text/latex": [
       "$$- \\frac{\\cos{\\left (\\phi \\right )}}{\\tan{\\left (\\theta \\right )}}$$"
      ],
      "text/plain": [
       "-cos(\\phi) \n",
       "───────────\n",
       "tan(\\theta)"
      ]
     },
     "execution_count": 13,
     "metadata": {},
     "output_type": "execute_result"
    }
   ],
   "source": [
    "(y*dPhidz - Z*dPhidy).trigsimp()"
   ]
  },
  {
   "cell_type": "markdown",
   "metadata": {},
   "source": [
    "# L2"
   ]
  },
  {
   "cell_type": "markdown",
   "metadata": {},
   "source": [
    "$\\partial /\\partial r$ prefactor"
   ]
  },
  {
   "cell_type": "code",
   "execution_count": 14,
   "metadata": {},
   "outputs": [
    {
     "data": {
      "image/png": "[encoded data removed]",
      "text/latex": [
       "$$\\frac{r^{2}}{\\left|{r}\\right|} \\sin^{2}{\\left (\\phi \\right )} \\sin^{2}{\\left (\\theta \\right )} + \\frac{r^{2}}{\\left|{r}\\right|} \\sin^{2}{\\left (\\theta \\right )} \\cos^{2}{\\left (\\phi \\right )} + \\frac{r^{2}}{\\left|{r}\\right|} \\cos^{2}{\\left (\\theta \\right )}$$"
      ],
      "text/plain": [
       " 2    2          2            2    2            2          2    2        \n",
       "r ⋅sin (\\phi)⋅sin (\\theta)   r ⋅sin (\\theta)⋅cos (\\phi)   r ⋅cos (\\theta)\n",
       "────────────────────────── + ────────────────────────── + ───────────────\n",
       "           │r│                          │r│                     │r│      "
      ]
     },
     "execution_count": 14,
     "metadata": {},
     "output_type": "execute_result"
    }
   ],
   "source": [
    "X*drdx + Y*drdy + Z*drdz"
   ]
  },
  {
   "cell_type": "markdown",
   "metadata": {},
   "source": [
    "$\\partial /\\partial \\theta$ prefactor"
   ]
  },
  {
   "cell_type": "code",
   "execution_count": 18,
   "metadata": {},
   "outputs": [
    {
     "data": {
      "image/png": "[encoded data removed]",
      "text/latex": [
       "$$0$$"
      ],
      "text/plain": [
       "0"
      ]
     },
     "execution_count": 18,
     "metadata": {},
     "output_type": "execute_result"
    }
   ],
   "source": [
    "(X*dThetadx + Y*dThetady + Z*dThetadz).trigsimp()"
   ]
  },
  {
   "cell_type": "markdown",
   "metadata": {},
   "source": [
    "$\\partial /\\partial \\phi$ prefactor"
   ]
  },
  {
   "cell_type": "code",
   "execution_count": 20,
   "metadata": {},
   "outputs": [
    {
     "data": {
      "image/png": "[encoded data removed]",
      "text/latex": [
       "$$0$$"
      ],
      "text/plain": [
       "0"
      ]
     },
     "execution_count": 20,
     "metadata": {},
     "output_type": "execute_result"
    }
   ],
   "source": [
    "(X*dPhidx + Y*dPhidy + Z*dPhidz).trigsimp()"
   ]
  },
  {
   "cell_type": "code",
   "execution_count": null,
   "metadata": {},
   "outputs": [],
   "source": []
  }
 ],
 "metadata": {
  "kernelspec": {
   "display_name": "Python 3",
   "language": "python",
   "name": "python3"
  },
  "language_info": {
   "codemirror_mode": {
    "name": "ipython",
    "version": 3
   },
   "file_extension": ".py",
   "mimetype": "text/x-python",
   "name": "python",
   "nbconvert_exporter": "python",
   "pygments_lexer": "ipython3",
   "version": "3.6.5"
  }
 },
 "nbformat": 4,
 "nbformat_minor": 2
}
