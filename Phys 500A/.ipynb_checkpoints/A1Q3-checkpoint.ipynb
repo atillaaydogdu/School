{
 "cells": [
  {
   "cell_type": "code",
   "execution_count": 19,
   "metadata": {},
   "outputs": [],
   "source": [
    "from scipy.optimize import fsolve\n",
    "import numpy as np\n",
    "import matplotlib.pyplot as plt"
   ]
  },
  {
   "cell_type": "markdown",
   "metadata": {},
   "source": [
    "The equations that need to be satisfied are\n",
    "\n",
    "$$\\cos(2 \\theta')e^{-2 \\theta'}-1-\\frac{\\hbar^2}{2m\\alpha L} 2\\theta''=0 \\hspace{20mm} \\sin(2\\theta')e^{-2 \\theta'}+\\frac{\\hbar^2}{2m\\alpha L} 2\\theta' = 0 $$\n",
    "\n",
    "where $\\theta'=k'L$ and $\\theta''=k''L$. We will choose $\\frac{\\hbar^2}{2m\\alpha L}=0.001$ (a small value) and plot the solutions of $\\theta'$ and $\\theta''$."
   ]
  },
  {
   "cell_type": "markdown",
   "metadata": {},
   "source": [
    "First we define our equations such that the function takes in the equation parameters and returns a tuple of equations which we wish to minimize."
   ]
  },
  {
   "cell_type": "code",
   "execution_count": 41,
   "metadata": {},
   "outputs": [],
   "source": [
    "C=0.001 #hbar^2/(2m\\alpha L)\n",
    "\n",
    "def equations(p):\n",
    "    t1, t2 = p\n",
    "    return (np.cos(2*t1)*np.exp(-2*t2)-1-2*C*t2, np.sin(2*t1)*np.exp(-2*t2) + 2*C*t1)"
   ]
  },
  {
   "cell_type": "markdown",
   "metadata": {},
   "source": [
    "We solve the equations using scipys method fsolve. Since we argued previously that $\\theta'=n\\pi$ and $\\theta''=0$, we use these values for our initial conditions. We choose 10 different intefer values for $n$."
   ]
  },
  {
   "cell_type": "code",
   "execution_count": 68,
   "metadata": {},
   "outputs": [],
   "source": [
    "x = np.empty(0)\n",
    "y = np.empty(0)\n",
    "\n",
    "for i in range(10):\n",
    "    xi, yi =  fsolve(equations, ((i+1)*np.pi, 0.0001))\n",
    "    x = np.append(x, xi); y=np.append(y,yi)"
   ]
  },
  {
   "cell_type": "markdown",
   "metadata": {},
   "source": [
    "Plot solutions"
   ]
  },
  {
   "cell_type": "code",
   "execution_count": 69,
   "metadata": {},
   "outputs": [
    {
     "data": {
      "image/png": "[encoded data removed]",
      "text/plain": [
       "<Figure size 576x360 with 1 Axes>"
      ]
     },
     "metadata": {
      "needs_background": "light"
     },
     "output_type": "display_data"
    }
   ],
   "source": [
    "plt.figure(figsize=(8,5))\n",
    "plt.scatter(x,y, label=r'$\\theta^{\\prime}+i\\theta^{\\prime \\ \\prime}$')\n",
    "plt.xlabel('Real Axis')\n",
    "plt.ylabel('Imaginary Axis')\n",
    "plt.ylim(-0.003,0.003)\n",
    "plt.grid()\n",
    "plt.legend()\n",
    "plt.title(r'Solutions for $G=0$, $F\\neq 0$ when $\\hbar^2/(2m\\alpha L) = 0.001$')\n",
    "plt.show()"
   ]
  },
  {
   "cell_type": "markdown",
   "metadata": {},
   "source": [
    "It appears that $k'' = \\theta''/L$ becomes increasingly negative when $k'=\\theta'/L$ increases. A particle with larger $k'$ has more energy if we consider the $\\alpha=\\infty$ spike (which corresponds to an infinite square well). Thus given a fixed $F$, since\n",
    "\n",
    "$$Fe^{ikx} = Fe^{ik'x}e^{-k'' x} $$\n",
    "\n",
    "particles with increasing positive $k'$ (and thus increasingly negative $k''$) are more likely to be found further to the right of the delta function spike.\n",
    "\n"
   ]
  }
 ],
 "metadata": {
  "kernelspec": {
   "display_name": "Python 3",
   "language": "python",
   "name": "python3"
  },
  "language_info": {
   "codemirror_mode": {
    "name": "ipython",
    "version": 3
   },
   "file_extension": ".py",
   "mimetype": "text/x-python",
   "name": "python",
   "nbconvert_exporter": "python",
   "pygments_lexer": "ipython3",
   "version": "3.6.7"
  }
 },
 "nbformat": 4,
 "nbformat_minor": 4
}
