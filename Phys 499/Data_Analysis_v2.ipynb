{
 "cells": [
  {
   "cell_type": "markdown",
   "metadata": {},
   "source": [
    "<h1 id=\"tocheading\">Table of Contents and Notebook Setup</h1>\n",
    "<div id=\"toc\"></div>"
   ]
  },
  {
   "cell_type": "code",
   "execution_count": 1,
   "metadata": {},
   "outputs": [
    {
     "data": {
      "application/javascript": [
       "$.getScript('https://kmahelona.github.io/ipython_notebook_goodies/ipython_notebook_toc.js')"
      ],
      "text/plain": [
       "<IPython.core.display.Javascript object>"
      ]
     },
     "metadata": {},
     "output_type": "display_data"
    }
   ],
   "source": [
    "%%javascript\n",
    "$.getScript('https://kmahelona.github.io/ipython_notebook_goodies/ipython_notebook_toc.js')"
   ]
  },
  {
   "cell_type": "code",
   "execution_count": 2,
   "metadata": {},
   "outputs": [],
   "source": [
    "import os\n",
    "import numpy as np\n",
    "import matplotlib.pyplot as plt\n",
    "import matplotlib.mlab as mlab\n",
    "import matplotlib.dates as mdates\n",
    "import pandas as pd\n",
    "import scipy as sp\n",
    "from scipy.stats import norm\n",
    "from scipy.optimize import curve_fit\n",
    "from scipy import stats\n",
    "from datetime import timedelta, datetime\n",
    "import sympy as smp\n",
    "from IPython.display import display, Math\n",
    "smp.init_printing()\n",
    "%matplotlib inline"
   ]
  },
  {
   "cell_type": "code",
   "execution_count": 35,
   "metadata": {},
   "outputs": [],
   "source": [
    "dates = ['jan_25_2019']"
   ]
  },
  {
   "cell_type": "code",
   "execution_count": 36,
   "metadata": {},
   "outputs": [],
   "source": [
    "ratio_mean_guess = 0.78\n",
    "ratio_std_guess = 0.02"
   ]
  },
  {
   "cell_type": "markdown",
   "metadata": {},
   "source": [
    "# Open DataFrames"
   ]
  },
  {
   "cell_type": "code",
   "execution_count": 37,
   "metadata": {},
   "outputs": [],
   "source": [
    "upper_int = 100000\n",
    "lower_int = 0"
   ]
  },
  {
   "cell_type": "markdown",
   "metadata": {},
   "source": [
    "## Pulse Data"
   ]
  },
  {
   "cell_type": "markdown",
   "metadata": {},
   "source": [
    "Open up all runs."
   ]
  },
  {
   "cell_type": "code",
   "execution_count": 38,
   "metadata": {},
   "outputs": [],
   "source": [
    "dfs = []\n",
    "paths = ['datafiles/'+date for date in dates]\n",
    "for path in paths:\n",
    "    for filename in os.listdir(path):\n",
    "        if filename.endswith(\".csv\"):\n",
    "            df = pd.read_csv(path+'/'+filename, sep=',', index_col=0).astype(float)\n",
    "            df['ratio']=df['Integral 1200']/df['Integral 7400']\n",
    "            df.index = pd.to_datetime(df.index,unit='s')-timedelta(hours=7)\n",
    "        \n",
    "            df = df[(df['ratio']<1) & (df['ratio']>0)] #should not have to do this\n",
    "            df = df[(df['Integral 7400']<upper_int) & (df['Integral 7400']>lower_int)] #should not have to do this\n",
    "            dfs.append(df)\n",
    "\n",
    "dfs = sorted(dfs,key=lambda x:x.index[0]) #sort by initial time"
   ]
  },
  {
   "cell_type": "code",
   "execution_count": 40,
   "metadata": {},
   "outputs": [
    {
     "data": {
      "text/html": [
       "<div>\n",
       "<style scoped>\n",
       "    .dataframe tbody tr th:only-of-type {\n",
       "        vertical-align: middle;\n",
       "    }\n",
       "\n",
       "    .dataframe tbody tr th {\n",
       "        vertical-align: top;\n",
       "    }\n",
       "\n",
       "    .dataframe thead th {\n",
       "        text-align: right;\n",
       "    }\n",
       "</style>\n",
       "<table border=\"1\" class=\"dataframe\">\n",
       "  <thead>\n",
       "    <tr style=\"text-align: right;\">\n",
       "      <th></th>\n",
       "      <th>Integral 1200</th>\n",
       "      <th>Integral 7400</th>\n",
       "      <th>ratio</th>\n",
       "    </tr>\n",
       "    <tr>\n",
       "      <th>Time</th>\n",
       "      <th></th>\n",
       "      <th></th>\n",
       "      <th></th>\n",
       "    </tr>\n",
       "  </thead>\n",
       "  <tbody>\n",
       "    <tr>\n",
       "      <th>2019-01-24 15:43:02.717649</th>\n",
       "      <td>20820.0</td>\n",
       "      <td>27812.0</td>\n",
       "      <td>0.748598</td>\n",
       "    </tr>\n",
       "    <tr>\n",
       "      <th>2019-01-24 15:43:02.715345</th>\n",
       "      <td>18815.0</td>\n",
       "      <td>22186.0</td>\n",
       "      <td>0.848057</td>\n",
       "    </tr>\n",
       "    <tr>\n",
       "      <th>2019-01-24 15:43:02.715863</th>\n",
       "      <td>17519.0</td>\n",
       "      <td>21064.0</td>\n",
       "      <td>0.831703</td>\n",
       "    </tr>\n",
       "    <tr>\n",
       "      <th>2019-01-24 15:43:02.716124</th>\n",
       "      <td>18586.0</td>\n",
       "      <td>21671.0</td>\n",
       "      <td>0.857644</td>\n",
       "    </tr>\n",
       "    <tr>\n",
       "      <th>2019-01-24 15:43:02.716542</th>\n",
       "      <td>19027.0</td>\n",
       "      <td>24605.0</td>\n",
       "      <td>0.773298</td>\n",
       "    </tr>\n",
       "    <tr>\n",
       "      <th>2019-01-24 15:43:02.716959</th>\n",
       "      <td>16406.0</td>\n",
       "      <td>22113.0</td>\n",
       "      <td>0.741917</td>\n",
       "    </tr>\n",
       "    <tr>\n",
       "      <th>2019-01-24 15:43:02.717649</th>\n",
       "      <td>20820.0</td>\n",
       "      <td>28406.0</td>\n",
       "      <td>0.732944</td>\n",
       "    </tr>\n",
       "    <tr>\n",
       "      <th>2019-01-24 15:43:02.717763</th>\n",
       "      <td>20378.0</td>\n",
       "      <td>24766.0</td>\n",
       "      <td>0.822822</td>\n",
       "    </tr>\n",
       "    <tr>\n",
       "      <th>2019-01-24 15:43:02.717914</th>\n",
       "      <td>22789.0</td>\n",
       "      <td>28913.0</td>\n",
       "      <td>0.788192</td>\n",
       "    </tr>\n",
       "    <tr>\n",
       "      <th>2019-01-24 15:43:02.718307</th>\n",
       "      <td>22006.0</td>\n",
       "      <td>29251.0</td>\n",
       "      <td>0.752316</td>\n",
       "    </tr>\n",
       "    <tr>\n",
       "      <th>2019-01-24 15:43:02.718624</th>\n",
       "      <td>19165.0</td>\n",
       "      <td>21123.0</td>\n",
       "      <td>0.907305</td>\n",
       "    </tr>\n",
       "    <tr>\n",
       "      <th>2019-01-24 15:43:02.718981</th>\n",
       "      <td>20409.0</td>\n",
       "      <td>25671.0</td>\n",
       "      <td>0.795022</td>\n",
       "    </tr>\n",
       "    <tr>\n",
       "      <th>2019-01-24 15:43:02.719427</th>\n",
       "      <td>19785.0</td>\n",
       "      <td>24873.0</td>\n",
       "      <td>0.795441</td>\n",
       "    </tr>\n",
       "    <tr>\n",
       "      <th>2019-01-24 15:43:02.719657</th>\n",
       "      <td>16724.0</td>\n",
       "      <td>20907.0</td>\n",
       "      <td>0.799923</td>\n",
       "    </tr>\n",
       "    <tr>\n",
       "      <th>2019-01-24 15:43:02.720035</th>\n",
       "      <td>20508.0</td>\n",
       "      <td>25474.0</td>\n",
       "      <td>0.805056</td>\n",
       "    </tr>\n",
       "    <tr>\n",
       "      <th>2019-01-24 15:43:02.720587</th>\n",
       "      <td>18712.0</td>\n",
       "      <td>24473.0</td>\n",
       "      <td>0.764598</td>\n",
       "    </tr>\n",
       "    <tr>\n",
       "      <th>2019-01-24 15:43:02.720860</th>\n",
       "      <td>8171.0</td>\n",
       "      <td>13956.0</td>\n",
       "      <td>0.585483</td>\n",
       "    </tr>\n",
       "    <tr>\n",
       "      <th>2019-01-24 15:43:02.720946</th>\n",
       "      <td>16588.0</td>\n",
       "      <td>21303.0</td>\n",
       "      <td>0.778670</td>\n",
       "    </tr>\n",
       "    <tr>\n",
       "      <th>2019-01-24 15:43:02.721787</th>\n",
       "      <td>17481.0</td>\n",
       "      <td>23224.0</td>\n",
       "      <td>0.752713</td>\n",
       "    </tr>\n",
       "    <tr>\n",
       "      <th>2019-01-24 15:43:02.721859</th>\n",
       "      <td>20698.0</td>\n",
       "      <td>38272.0</td>\n",
       "      <td>0.540813</td>\n",
       "    </tr>\n",
       "    <tr>\n",
       "      <th>2019-01-24 15:43:02.721881</th>\n",
       "      <td>9506.0</td>\n",
       "      <td>16500.0</td>\n",
       "      <td>0.576121</td>\n",
       "    </tr>\n",
       "    <tr>\n",
       "      <th>2019-01-24 15:43:02.721989</th>\n",
       "      <td>18646.0</td>\n",
       "      <td>23974.0</td>\n",
       "      <td>0.777759</td>\n",
       "    </tr>\n",
       "    <tr>\n",
       "      <th>2019-01-24 15:43:02.722166</th>\n",
       "      <td>18995.0</td>\n",
       "      <td>23772.0</td>\n",
       "      <td>0.799049</td>\n",
       "    </tr>\n",
       "    <tr>\n",
       "      <th>2019-01-24 15:43:02.722372</th>\n",
       "      <td>17729.0</td>\n",
       "      <td>21103.0</td>\n",
       "      <td>0.840118</td>\n",
       "    </tr>\n",
       "    <tr>\n",
       "      <th>2019-01-24 15:43:02.722666</th>\n",
       "      <td>14455.0</td>\n",
       "      <td>18709.0</td>\n",
       "      <td>0.772623</td>\n",
       "    </tr>\n",
       "    <tr>\n",
       "      <th>2019-01-24 15:43:02.723348</th>\n",
       "      <td>18558.0</td>\n",
       "      <td>22015.0</td>\n",
       "      <td>0.842971</td>\n",
       "    </tr>\n",
       "    <tr>\n",
       "      <th>2019-01-24 15:43:02.724245</th>\n",
       "      <td>5150.0</td>\n",
       "      <td>6637.0</td>\n",
       "      <td>0.775953</td>\n",
       "    </tr>\n",
       "    <tr>\n",
       "      <th>2019-01-24 15:43:02.724466</th>\n",
       "      <td>16657.0</td>\n",
       "      <td>20566.0</td>\n",
       "      <td>0.809929</td>\n",
       "    </tr>\n",
       "    <tr>\n",
       "      <th>2019-01-24 15:43:02.725022</th>\n",
       "      <td>20175.0</td>\n",
       "      <td>25588.0</td>\n",
       "      <td>0.788456</td>\n",
       "    </tr>\n",
       "    <tr>\n",
       "      <th>2019-01-24 15:43:02.725140</th>\n",
       "      <td>19507.0</td>\n",
       "      <td>24651.0</td>\n",
       "      <td>0.791327</td>\n",
       "    </tr>\n",
       "    <tr>\n",
       "      <th>...</th>\n",
       "      <td>...</td>\n",
       "      <td>...</td>\n",
       "      <td>...</td>\n",
       "    </tr>\n",
       "    <tr>\n",
       "      <th>2019-01-24 15:43:06.537979</th>\n",
       "      <td>21182.0</td>\n",
       "      <td>26953.0</td>\n",
       "      <td>0.785887</td>\n",
       "    </tr>\n",
       "    <tr>\n",
       "      <th>2019-01-24 15:43:06.539850</th>\n",
       "      <td>23382.0</td>\n",
       "      <td>28482.0</td>\n",
       "      <td>0.820940</td>\n",
       "    </tr>\n",
       "    <tr>\n",
       "      <th>2019-01-24 15:43:06.543003</th>\n",
       "      <td>14156.0</td>\n",
       "      <td>18854.0</td>\n",
       "      <td>0.750822</td>\n",
       "    </tr>\n",
       "    <tr>\n",
       "      <th>2019-01-24 15:43:06.546243</th>\n",
       "      <td>16523.0</td>\n",
       "      <td>19361.0</td>\n",
       "      <td>0.853417</td>\n",
       "    </tr>\n",
       "    <tr>\n",
       "      <th>2019-01-24 15:43:06.547850</th>\n",
       "      <td>15715.0</td>\n",
       "      <td>18379.0</td>\n",
       "      <td>0.855052</td>\n",
       "    </tr>\n",
       "    <tr>\n",
       "      <th>2019-01-24 15:43:06.550604</th>\n",
       "      <td>22074.0</td>\n",
       "      <td>29571.0</td>\n",
       "      <td>0.746475</td>\n",
       "    </tr>\n",
       "    <tr>\n",
       "      <th>2019-01-24 15:43:06.553034</th>\n",
       "      <td>16968.0</td>\n",
       "      <td>20451.0</td>\n",
       "      <td>0.829690</td>\n",
       "    </tr>\n",
       "    <tr>\n",
       "      <th>2019-01-24 15:43:06.555511</th>\n",
       "      <td>14237.0</td>\n",
       "      <td>15998.0</td>\n",
       "      <td>0.889924</td>\n",
       "    </tr>\n",
       "    <tr>\n",
       "      <th>2019-01-24 15:43:06.557651</th>\n",
       "      <td>18759.0</td>\n",
       "      <td>24850.0</td>\n",
       "      <td>0.754889</td>\n",
       "    </tr>\n",
       "    <tr>\n",
       "      <th>2019-01-24 15:43:06.559884</th>\n",
       "      <td>20212.0</td>\n",
       "      <td>26620.0</td>\n",
       "      <td>0.759279</td>\n",
       "    </tr>\n",
       "    <tr>\n",
       "      <th>2019-01-24 15:43:06.561837</th>\n",
       "      <td>19382.0</td>\n",
       "      <td>22946.0</td>\n",
       "      <td>0.844679</td>\n",
       "    </tr>\n",
       "    <tr>\n",
       "      <th>2019-01-24 15:43:06.564137</th>\n",
       "      <td>19721.0</td>\n",
       "      <td>22430.0</td>\n",
       "      <td>0.879224</td>\n",
       "    </tr>\n",
       "    <tr>\n",
       "      <th>2019-01-24 15:43:06.566417</th>\n",
       "      <td>20181.0</td>\n",
       "      <td>26731.0</td>\n",
       "      <td>0.754966</td>\n",
       "    </tr>\n",
       "    <tr>\n",
       "      <th>2019-01-24 15:43:06.568907</th>\n",
       "      <td>17350.0</td>\n",
       "      <td>18965.0</td>\n",
       "      <td>0.914843</td>\n",
       "    </tr>\n",
       "    <tr>\n",
       "      <th>2019-01-24 15:43:06.570987</th>\n",
       "      <td>18588.0</td>\n",
       "      <td>23651.0</td>\n",
       "      <td>0.785929</td>\n",
       "    </tr>\n",
       "    <tr>\n",
       "      <th>2019-01-24 15:43:06.581643</th>\n",
       "      <td>22504.0</td>\n",
       "      <td>49965.0</td>\n",
       "      <td>0.450395</td>\n",
       "    </tr>\n",
       "    <tr>\n",
       "      <th>2019-01-24 15:43:06.582630</th>\n",
       "      <td>21843.0</td>\n",
       "      <td>27770.0</td>\n",
       "      <td>0.786568</td>\n",
       "    </tr>\n",
       "    <tr>\n",
       "      <th>2019-01-24 15:43:06.584378</th>\n",
       "      <td>13229.0</td>\n",
       "      <td>16035.0</td>\n",
       "      <td>0.825008</td>\n",
       "    </tr>\n",
       "    <tr>\n",
       "      <th>2019-01-24 15:43:06.586886</th>\n",
       "      <td>18378.0</td>\n",
       "      <td>23044.0</td>\n",
       "      <td>0.797518</td>\n",
       "    </tr>\n",
       "    <tr>\n",
       "      <th>2019-01-24 15:43:06.589370</th>\n",
       "      <td>21432.0</td>\n",
       "      <td>27982.0</td>\n",
       "      <td>0.765921</td>\n",
       "    </tr>\n",
       "    <tr>\n",
       "      <th>2019-01-24 15:43:06.591040</th>\n",
       "      <td>21578.0</td>\n",
       "      <td>26897.0</td>\n",
       "      <td>0.802246</td>\n",
       "    </tr>\n",
       "    <tr>\n",
       "      <th>2019-01-24 15:43:06.592896</th>\n",
       "      <td>15991.0</td>\n",
       "      <td>20400.0</td>\n",
       "      <td>0.783873</td>\n",
       "    </tr>\n",
       "    <tr>\n",
       "      <th>2019-01-24 15:43:06.595786</th>\n",
       "      <td>10950.0</td>\n",
       "      <td>11776.0</td>\n",
       "      <td>0.929857</td>\n",
       "    </tr>\n",
       "    <tr>\n",
       "      <th>2019-01-24 15:43:06.597921</th>\n",
       "      <td>21093.0</td>\n",
       "      <td>25076.0</td>\n",
       "      <td>0.841163</td>\n",
       "    </tr>\n",
       "    <tr>\n",
       "      <th>2019-01-24 15:43:06.599996</th>\n",
       "      <td>17900.0</td>\n",
       "      <td>19467.0</td>\n",
       "      <td>0.919505</td>\n",
       "    </tr>\n",
       "    <tr>\n",
       "      <th>2019-01-24 15:43:06.601954</th>\n",
       "      <td>18589.0</td>\n",
       "      <td>22703.0</td>\n",
       "      <td>0.818790</td>\n",
       "    </tr>\n",
       "    <tr>\n",
       "      <th>2019-01-24 15:43:06.604355</th>\n",
       "      <td>16998.0</td>\n",
       "      <td>21832.0</td>\n",
       "      <td>0.778582</td>\n",
       "    </tr>\n",
       "    <tr>\n",
       "      <th>2019-01-24 15:43:06.605213</th>\n",
       "      <td>21031.0</td>\n",
       "      <td>24587.0</td>\n",
       "      <td>0.855371</td>\n",
       "    </tr>\n",
       "    <tr>\n",
       "      <th>2019-01-24 15:43:06.607072</th>\n",
       "      <td>19470.0</td>\n",
       "      <td>24239.0</td>\n",
       "      <td>0.803251</td>\n",
       "    </tr>\n",
       "    <tr>\n",
       "      <th>2019-01-24 15:43:06.608870</th>\n",
       "      <td>20766.0</td>\n",
       "      <td>26235.0</td>\n",
       "      <td>0.791538</td>\n",
       "    </tr>\n",
       "  </tbody>\n",
       "</table>\n",
       "<p>2308 rows × 3 columns</p>\n",
       "</div>"
      ],
      "text/plain": [
       "                            Integral 1200  Integral 7400     ratio\n",
       "Time                                                              \n",
       "2019-01-24 15:43:02.717649        20820.0        27812.0  0.748598\n",
       "2019-01-24 15:43:02.715345        18815.0        22186.0  0.848057\n",
       "2019-01-24 15:43:02.715863        17519.0        21064.0  0.831703\n",
       "2019-01-24 15:43:02.716124        18586.0        21671.0  0.857644\n",
       "2019-01-24 15:43:02.716542        19027.0        24605.0  0.773298\n",
       "2019-01-24 15:43:02.716959        16406.0        22113.0  0.741917\n",
       "2019-01-24 15:43:02.717649        20820.0        28406.0  0.732944\n",
       "2019-01-24 15:43:02.717763        20378.0        24766.0  0.822822\n",
       "2019-01-24 15:43:02.717914        22789.0        28913.0  0.788192\n",
       "2019-01-24 15:43:02.718307        22006.0        29251.0  0.752316\n",
       "2019-01-24 15:43:02.718624        19165.0        21123.0  0.907305\n",
       "2019-01-24 15:43:02.718981        20409.0        25671.0  0.795022\n",
       "2019-01-24 15:43:02.719427        19785.0        24873.0  0.795441\n",
       "2019-01-24 15:43:02.719657        16724.0        20907.0  0.799923\n",
       "2019-01-24 15:43:02.720035        20508.0        25474.0  0.805056\n",
       "2019-01-24 15:43:02.720587        18712.0        24473.0  0.764598\n",
       "2019-01-24 15:43:02.720860         8171.0        13956.0  0.585483\n",
       "2019-01-24 15:43:02.720946        16588.0        21303.0  0.778670\n",
       "2019-01-24 15:43:02.721787        17481.0        23224.0  0.752713\n",
       "2019-01-24 15:43:02.721859        20698.0        38272.0  0.540813\n",
       "2019-01-24 15:43:02.721881         9506.0        16500.0  0.576121\n",
       "2019-01-24 15:43:02.721989        18646.0        23974.0  0.777759\n",
       "2019-01-24 15:43:02.722166        18995.0        23772.0  0.799049\n",
       "2019-01-24 15:43:02.722372        17729.0        21103.0  0.840118\n",
       "2019-01-24 15:43:02.722666        14455.0        18709.0  0.772623\n",
       "2019-01-24 15:43:02.723348        18558.0        22015.0  0.842971\n",
       "2019-01-24 15:43:02.724245         5150.0         6637.0  0.775953\n",
       "2019-01-24 15:43:02.724466        16657.0        20566.0  0.809929\n",
       "2019-01-24 15:43:02.725022        20175.0        25588.0  0.788456\n",
       "2019-01-24 15:43:02.725140        19507.0        24651.0  0.791327\n",
       "...                                   ...            ...       ...\n",
       "2019-01-24 15:43:06.537979        21182.0        26953.0  0.785887\n",
       "2019-01-24 15:43:06.539850        23382.0        28482.0  0.820940\n",
       "2019-01-24 15:43:06.543003        14156.0        18854.0  0.750822\n",
       "2019-01-24 15:43:06.546243        16523.0        19361.0  0.853417\n",
       "2019-01-24 15:43:06.547850        15715.0        18379.0  0.855052\n",
       "2019-01-24 15:43:06.550604        22074.0        29571.0  0.746475\n",
       "2019-01-24 15:43:06.553034        16968.0        20451.0  0.829690\n",
       "2019-01-24 15:43:06.555511        14237.0        15998.0  0.889924\n",
       "2019-01-24 15:43:06.557651        18759.0        24850.0  0.754889\n",
       "2019-01-24 15:43:06.559884        20212.0        26620.0  0.759279\n",
       "2019-01-24 15:43:06.561837        19382.0        22946.0  0.844679\n",
       "2019-01-24 15:43:06.564137        19721.0        22430.0  0.879224\n",
       "2019-01-24 15:43:06.566417        20181.0        26731.0  0.754966\n",
       "2019-01-24 15:43:06.568907        17350.0        18965.0  0.914843\n",
       "2019-01-24 15:43:06.570987        18588.0        23651.0  0.785929\n",
       "2019-01-24 15:43:06.581643        22504.0        49965.0  0.450395\n",
       "2019-01-24 15:43:06.582630        21843.0        27770.0  0.786568\n",
       "2019-01-24 15:43:06.584378        13229.0        16035.0  0.825008\n",
       "2019-01-24 15:43:06.586886        18378.0        23044.0  0.797518\n",
       "2019-01-24 15:43:06.589370        21432.0        27982.0  0.765921\n",
       "2019-01-24 15:43:06.591040        21578.0        26897.0  0.802246\n",
       "2019-01-24 15:43:06.592896        15991.0        20400.0  0.783873\n",
       "2019-01-24 15:43:06.595786        10950.0        11776.0  0.929857\n",
       "2019-01-24 15:43:06.597921        21093.0        25076.0  0.841163\n",
       "2019-01-24 15:43:06.599996        17900.0        19467.0  0.919505\n",
       "2019-01-24 15:43:06.601954        18589.0        22703.0  0.818790\n",
       "2019-01-24 15:43:06.604355        16998.0        21832.0  0.778582\n",
       "2019-01-24 15:43:06.605213        21031.0        24587.0  0.855371\n",
       "2019-01-24 15:43:06.607072        19470.0        24239.0  0.803251\n",
       "2019-01-24 15:43:06.608870        20766.0        26235.0  0.791538\n",
       "\n",
       "[2308 rows x 3 columns]"
      ]
     },
     "execution_count": 40,
     "metadata": {},
     "output_type": "execute_result"
    }
   ],
   "source": [
    "dfs[1]"
   ]
  },
  {
   "cell_type": "markdown",
   "metadata": {},
   "source": [
    "Get beginning and end of each run. Need to subtract 1 hour because computer did not account for the time change."
   ]
  },
  {
   "cell_type": "code",
   "execution_count": 7,
   "metadata": {},
   "outputs": [],
   "source": [
    "begins = sorted([df.index.values[0]-np.timedelta64(1,'h') for df in dfs])\n",
    "ends = sorted([df.index.values[-1]-np.timedelta64(1,'h') for df in dfs])"
   ]
  },
  {
   "cell_type": "markdown",
   "metadata": {},
   "source": [
    "## Temperature Data"
   ]
  },
  {
   "cell_type": "code",
   "execution_count": 8,
   "metadata": {},
   "outputs": [],
   "source": [
    "temps = []\n",
    "for path in paths:\n",
    "    for filename in os.listdir(path):\n",
    "        if filename.endswith(\".txt\"):\n",
    "            temp = pd.read_csv(path+'/'+filename, skiprows=7, sep='\\t')\n",
    "            temp['Time'] = pd.to_datetime(temp['DATE']+'-'+temp['TIME'])\n",
    "            temp.index = temp['Time']\n",
    "            temp = temp[['TEMPERATURE', 'RELATIVE-HUMIDITY', 'DEW-POINT']]\n",
    "            temps.append(temp)\n",
    "temps = sorted(temps,key=lambda x:x.index[0]) #sort by initial time"
   ]
  },
  {
   "cell_type": "markdown",
   "metadata": {},
   "source": [
    "# Fitting Methods to Find the Mode"
   ]
  },
  {
   "cell_type": "code",
   "execution_count": 9,
   "metadata": {},
   "outputs": [],
   "source": [
    "df = dfs[0]"
   ]
  },
  {
   "cell_type": "markdown",
   "metadata": {},
   "source": [
    "Define the normal curve:"
   ]
  },
  {
   "cell_type": "code",
   "execution_count": 10,
   "metadata": {},
   "outputs": [],
   "source": [
    "def norm(x, u, sig, amp):\n",
    "    return amp*np.exp(-((x-u)**2)/(2*sig**2))"
   ]
  },
  {
   "cell_type": "markdown",
   "metadata": {},
   "source": [
    "Fit the histogram data between 0.75 and 0.8."
   ]
  },
  {
   "cell_type": "code",
   "execution_count": 11,
   "metadata": {},
   "outputs": [],
   "source": [
    "mask = (df['ratio']>0.75) & (df['ratio']<0.825)\n",
    "\n",
    "h, x , _ = plt.hist(df['ratio'][mask], bins=25); plt.close()\n",
    "x = x[:-1]\n",
    "\n",
    "p0  = (ratio_mean_guess, ratio_std_guess, np.max(h))\n",
    "popt, pcov = curve_fit(norm, x, h, p0=p0)\n",
    "perr = np.sqrt(np.diag(pcov))"
   ]
  },
  {
   "cell_type": "markdown",
   "metadata": {},
   "source": [
    "Initial Plot."
   ]
  },
  {
   "cell_type": "code",
   "execution_count": 12,
   "metadata": {},
   "outputs": [
    {
     "data": {
      "image/png": "[encoded data removed]",
      "text/plain": [
       "<Figure size 432x288 with 1 Axes>"
      ]
     },
     "metadata": {},
     "output_type": "display_data"
    }
   ],
   "source": [
    "fig, ax = plt.subplots()\n",
    "\n",
    "ax.plot(x,h)\n",
    "ax.plot(x,norm(x, popt[0], popt[1], popt[2]), label='Fit')\n",
    "\n",
    "#ax.set_ylim(0, 400)\n",
    "ax.grid()"
   ]
  },
  {
   "cell_type": "markdown",
   "metadata": {},
   "source": [
    "Do plotting:"
   ]
  },
  {
   "cell_type": "code",
   "execution_count": 13,
   "metadata": {},
   "outputs": [
    {
     "data": {
      "image/png": "[encoded data removed]",
      "text/plain": [
       "<Figure size 576x360 with 1 Axes>"
      ]
     },
     "metadata": {},
     "output_type": "display_data"
    }
   ],
   "source": [
    "fig, ax = plt.subplots(figsize=(8,5))\n",
    "\n",
    "y= df['ratio'].hist(bins=500, ax=ax)\n",
    "ax.plot(x,norm(x, popt[0], popt[1], popt[2]), label='Fit')\n",
    "\n",
    "ax.set_xlim(0.7,0.9)\n",
    "plt.show()"
   ]
  },
  {
   "cell_type": "markdown",
   "metadata": {},
   "source": [
    "## Automation"
   ]
  },
  {
   "cell_type": "markdown",
   "metadata": {},
   "source": [
    "Now we fit the curve for all histograms. Rather than showing the fitted curve with the histogram, we show the mean and standard deviation as bars."
   ]
  },
  {
   "cell_type": "code",
   "execution_count": 14,
   "metadata": {},
   "outputs": [],
   "source": [
    "def mode_ratio(df):\n",
    "    mask = (df['ratio']>0.75) & (df['ratio']<0.825)\n",
    "\n",
    "    h, x , _ = plt.hist(df['ratio'][mask], bins=25); plt.close()\n",
    "    x = x[:-1]\n",
    "\n",
    "    p0  = (ratio_mean_guess, ratio_std_guess, np.max(h))\n",
    "    popt, pcov = curve_fit(norm, x, h, p0=p0)\n",
    "    perr = np.sqrt(np.diag(pcov))\n",
    "    \n",
    "    return popt, perr"
   ]
  },
  {
   "cell_type": "markdown",
   "metadata": {},
   "source": [
    "# Temperature Stuff"
   ]
  },
  {
   "cell_type": "markdown",
   "metadata": {},
   "source": [
    "## Find Mean and STD Temperature During each of the Red Bars"
   ]
  },
  {
   "cell_type": "markdown",
   "metadata": {},
   "source": [
    "Now we take the mean and standard deviation of the temperature values per data run. These will be used as data points in the final plot \"mean energy ratio as a function of temperature.\""
   ]
  },
  {
   "cell_type": "code",
   "execution_count": 15,
   "metadata": {},
   "outputs": [],
   "source": [
    "all_temps = pd.concat(temps)\n",
    "\n",
    "def compute_datapoint(df):\n",
    "    begin = df.index.values[0]-np.timedelta64(1,'h')\n",
    "    end = df.index.values[-1]-np.timedelta64(1,'h')\n",
    "    \n",
    "    temp_mean = all_temps[(all_temps.index>begin)&(all_temps.index<end)]['TEMPERATURE'].mean()\n",
    "    temp_err = all_temps[(all_temps.index>begin)&(all_temps.index<end)]['TEMPERATURE'].std()\n",
    "    \n",
    "    ratio = mode_ratio(df)[0][0]\n",
    "    ratio_err = mode_ratio(df)[1][0]\n",
    "    \n",
    "    return [[temp_mean, ratio], [temp_err, ratio_err]]"
   ]
  },
  {
   "cell_type": "code",
   "execution_count": 23,
   "metadata": {},
   "outputs": [
    {
     "data": {
      "text/plain": [
       "Series([], Name: TEMPERATURE, dtype: float64)"
      ]
     },
     "execution_count": 23,
     "metadata": {},
     "output_type": "execute_result"
    }
   ],
   "source": [
    "begin = dfs[0].index.values[0]-np.timedelta64(1,'h')\n",
    "end = dfs[0].index.values[-1]-np.timedelta64(1,'h')\n",
    "all_temps[(all_temps.index>begin)&(all_temps.index<end)]['TEMPERATURE']"
   ]
  },
  {
   "cell_type": "markdown",
   "metadata": {},
   "source": [
    "Get the data and the errors."
   ]
  },
  {
   "cell_type": "code",
   "execution_count": 16,
   "metadata": {},
   "outputs": [],
   "source": [
    "data = [compute_datapoint(df) for df in dfs]\n",
    "\n",
    "temps = np.array([data[i][0][0] for i in range(len(data))])\n",
    "ratios = np.array([data[i][0][1] for i in range(len(data))])\n",
    "temps_err =np.array([data[i][1][0] for i in range(len(data))])\n",
    "ratios_err =np.array([data[i][1][1] for i in range(len(data))])\n",
    "\n",
    "lin_minmax = np.array([min(temps), max(temps)])"
   ]
  },
  {
   "cell_type": "markdown",
   "metadata": {},
   "source": [
    "Do a linear fit on the data, with errors at 95% confidence"
   ]
  },
  {
   "cell_type": "code",
   "execution_count": 17,
   "metadata": {},
   "outputs": [
    {
     "ename": "ValueError",
     "evalue": "array must not contain infs or NaNs",
     "output_type": "error",
     "traceback": [
      "\u001b[1;31m---------------------------------------------------------------------------\u001b[0m",
      "\u001b[1;31mValueError\u001b[0m                                Traceback (most recent call last)",
      "\u001b[1;32m<ipython-input-17-65a9646b7309>\u001b[0m in \u001b[0;36m<module>\u001b[1;34m()\u001b[0m\n\u001b[0;32m      2\u001b[0m     \u001b[1;32mreturn\u001b[0m \u001b[0ma\u001b[0m\u001b[1;33m+\u001b[0m\u001b[0mb\u001b[0m\u001b[1;33m*\u001b[0m\u001b[0mx\u001b[0m\u001b[1;33m\u001b[0m\u001b[0m\n\u001b[0;32m      3\u001b[0m \u001b[1;33m\u001b[0m\u001b[0m\n\u001b[1;32m----> 4\u001b[1;33m \u001b[1;33m[\u001b[0m\u001b[0ma\u001b[0m\u001b[1;33m,\u001b[0m \u001b[0mb\u001b[0m\u001b[1;33m]\u001b[0m\u001b[1;33m,\u001b[0m \u001b[0mpcov\u001b[0m \u001b[1;33m=\u001b[0m \u001b[0mcurve_fit\u001b[0m\u001b[1;33m(\u001b[0m\u001b[0mfunc\u001b[0m\u001b[1;33m,\u001b[0m \u001b[0mtemps\u001b[0m\u001b[1;33m,\u001b[0m \u001b[0mratios\u001b[0m\u001b[1;33m)\u001b[0m\u001b[1;33m\u001b[0m\u001b[0m\n\u001b[0m\u001b[0;32m      5\u001b[0m \u001b[0mperr\u001b[0m \u001b[1;33m=\u001b[0m \u001b[0mnp\u001b[0m\u001b[1;33m.\u001b[0m\u001b[0msqrt\u001b[0m\u001b[1;33m(\u001b[0m\u001b[0mnp\u001b[0m\u001b[1;33m.\u001b[0m\u001b[0mdiag\u001b[0m\u001b[1;33m(\u001b[0m\u001b[0mpcov\u001b[0m\u001b[1;33m)\u001b[0m\u001b[1;33m)\u001b[0m\u001b[1;33m\u001b[0m\u001b[0m\n\u001b[0;32m      6\u001b[0m \u001b[1;33m[\u001b[0m\u001b[0mdel_a\u001b[0m\u001b[1;33m,\u001b[0m \u001b[0mdel_b\u001b[0m\u001b[1;33m]\u001b[0m \u001b[1;33m=\u001b[0m \u001b[0msp\u001b[0m\u001b[1;33m.\u001b[0m\u001b[0mstats\u001b[0m\u001b[1;33m.\u001b[0m\u001b[0mt\u001b[0m\u001b[1;33m.\u001b[0m\u001b[0mppf\u001b[0m\u001b[1;33m(\u001b[0m\u001b[1;36m1\u001b[0m\u001b[1;33m-\u001b[0m\u001b[1;36m0.05\u001b[0m\u001b[1;33m/\u001b[0m\u001b[1;36m2\u001b[0m\u001b[1;33m,\u001b[0m \u001b[0mlen\u001b[0m\u001b[1;33m(\u001b[0m\u001b[0mtemps\u001b[0m\u001b[1;33m)\u001b[0m\u001b[1;33m-\u001b[0m\u001b[1;36m2\u001b[0m\u001b[1;33m)\u001b[0m\u001b[1;33m*\u001b[0m\u001b[0mperr\u001b[0m\u001b[1;33m\u001b[0m\u001b[0m\n",
      "\u001b[1;32m~\\AppData\\Local\\Continuum\\anaconda3\\lib\\site-packages\\scipy\\optimize\\minpack.py\u001b[0m in \u001b[0;36mcurve_fit\u001b[1;34m(f, xdata, ydata, p0, sigma, absolute_sigma, check_finite, bounds, method, jac, **kwargs)\u001b[0m\n\u001b[0;32m    716\u001b[0m         \u001b[1;31m# non-array_like `xdata`.\u001b[0m\u001b[1;33m\u001b[0m\u001b[1;33m\u001b[0m\u001b[0m\n\u001b[0;32m    717\u001b[0m         \u001b[1;32mif\u001b[0m \u001b[0mcheck_finite\u001b[0m\u001b[1;33m:\u001b[0m\u001b[1;33m\u001b[0m\u001b[0m\n\u001b[1;32m--> 718\u001b[1;33m             \u001b[0mxdata\u001b[0m \u001b[1;33m=\u001b[0m \u001b[0mnp\u001b[0m\u001b[1;33m.\u001b[0m\u001b[0masarray_chkfinite\u001b[0m\u001b[1;33m(\u001b[0m\u001b[0mxdata\u001b[0m\u001b[1;33m)\u001b[0m\u001b[1;33m\u001b[0m\u001b[0m\n\u001b[0m\u001b[0;32m    719\u001b[0m         \u001b[1;32melse\u001b[0m\u001b[1;33m:\u001b[0m\u001b[1;33m\u001b[0m\u001b[0m\n\u001b[0;32m    720\u001b[0m             \u001b[0mxdata\u001b[0m \u001b[1;33m=\u001b[0m \u001b[0mnp\u001b[0m\u001b[1;33m.\u001b[0m\u001b[0masarray\u001b[0m\u001b[1;33m(\u001b[0m\u001b[0mxdata\u001b[0m\u001b[1;33m)\u001b[0m\u001b[1;33m\u001b[0m\u001b[0m\n",
      "\u001b[1;32m~\\AppData\\Local\\Continuum\\anaconda3\\lib\\site-packages\\numpy\\lib\\function_base.py\u001b[0m in \u001b[0;36masarray_chkfinite\u001b[1;34m(a, dtype, order)\u001b[0m\n\u001b[0;32m    459\u001b[0m     \u001b[1;32mif\u001b[0m \u001b[0ma\u001b[0m\u001b[1;33m.\u001b[0m\u001b[0mdtype\u001b[0m\u001b[1;33m.\u001b[0m\u001b[0mchar\u001b[0m \u001b[1;32min\u001b[0m \u001b[0mtypecodes\u001b[0m\u001b[1;33m[\u001b[0m\u001b[1;34m'AllFloat'\u001b[0m\u001b[1;33m]\u001b[0m \u001b[1;32mand\u001b[0m \u001b[1;32mnot\u001b[0m \u001b[0mnp\u001b[0m\u001b[1;33m.\u001b[0m\u001b[0misfinite\u001b[0m\u001b[1;33m(\u001b[0m\u001b[0ma\u001b[0m\u001b[1;33m)\u001b[0m\u001b[1;33m.\u001b[0m\u001b[0mall\u001b[0m\u001b[1;33m(\u001b[0m\u001b[1;33m)\u001b[0m\u001b[1;33m:\u001b[0m\u001b[1;33m\u001b[0m\u001b[0m\n\u001b[0;32m    460\u001b[0m         raise ValueError(\n\u001b[1;32m--> 461\u001b[1;33m             \"array must not contain infs or NaNs\")\n\u001b[0m\u001b[0;32m    462\u001b[0m     \u001b[1;32mreturn\u001b[0m \u001b[0ma\u001b[0m\u001b[1;33m\u001b[0m\u001b[0m\n\u001b[0;32m    463\u001b[0m \u001b[1;33m\u001b[0m\u001b[0m\n",
      "\u001b[1;31mValueError\u001b[0m: array must not contain infs or NaNs"
     ]
    }
   ],
   "source": [
    "def func(x, a, b):\n",
    "    return a+b*x\n",
    "\n",
    "[a, b], pcov = curve_fit(func, temps, ratios)\n",
    "perr = np.sqrt(np.diag(pcov))\n",
    "[del_a, del_b] = sp.stats.t.ppf(1-0.05/2, len(temps)-2)*perr\n",
    "\n",
    "lin_fit = a+b*lin_minmax\n",
    "lin_fit_upr = (a-del_a)+(b+del_b)*lin_minmax\n",
    "lin_fit_lwr = (a+del_a)+(b-del_b)*lin_minmax"
   ]
  },
  {
   "cell_type": "markdown",
   "metadata": {},
   "source": [
    "Sample final plot..."
   ]
  },
  {
   "cell_type": "code",
   "execution_count": null,
   "metadata": {},
   "outputs": [],
   "source": [
    "fig, ax = plt.subplots(figsize=(10,6))\n",
    "\n",
    "#Data\n",
    "plt_d = ax.scatter(temps, ratios, color='k', label='Data Points')\n",
    "plt_de = ax.errorbar(temps, ratios, xerr=temps_err, yerr=ratios_err, linestyle='', alpha=0.4, label='Standard Error')\n",
    "#ax.scatter(temps[30::], ratios[30::], color='g', label='Data Points')\n",
    "\n",
    "#Fitting\n",
    "plt_lf, = ax.plot(lin_minmax, lin_fit, color='r', label='Linear Fit')\n",
    "plt_lfe = ax.fill_between(lin_minmax, lin_fit_lwr, lin_fit_upr, color='r', alpha=0.1, label='95% CI for Linear Fit')\n",
    "\n",
    "#Other\n",
    "ax.set_ylim(0.785, 0.805)\n",
    "\n",
    "ax.set_xlabel('Temperature ($^\\circ C$)')\n",
    "ax.set_ylabel('Ratio of Energies 1.2$\\mu$s & 7.4$\\mu$s')\n",
    "fig.suptitle('Energy Deposition Speed as a Function of Temperature', fontsize=16)\n",
    "\n",
    "plt.minorticks_on()\n",
    "ax.grid(b=True, which='major', color='k', linestyle='-', alpha=0.4)\n",
    "ax.grid(b=True, which='minor', color='k', linestyle='--', alpha=0.1)\n",
    "\n",
    "#Legends\n",
    "first_legend = plt.legend(handles=[plt_d, plt_de], loc=1)\n",
    "second_legend = plt.legend(handles=[plt_lf, plt_lfe], loc=2)\n",
    "ax = plt.gca().add_artist(first_legend)\n",
    "\n",
    "fig.tight_layout()\n",
    "fig.subplots_adjust(top=0.92)\n",
    "plt.savefig('plots/sample_final_plot.png', dpi=600)\n",
    "plt.show()\n"
   ]
  }
 ],
 "metadata": {
  "kernelspec": {
   "display_name": "Python 3",
   "language": "python",
   "name": "python3"
  },
  "language_info": {
   "codemirror_mode": {
    "name": "ipython",
    "version": 3
   },
   "file_extension": ".py",
   "mimetype": "text/x-python",
   "name": "python",
   "nbconvert_exporter": "python",
   "pygments_lexer": "ipython3",
   "version": "3.6.5"
  }
 },
 "nbformat": 4,
 "nbformat_minor": 2
}
