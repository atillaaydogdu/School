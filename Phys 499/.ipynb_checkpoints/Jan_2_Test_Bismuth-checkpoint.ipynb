{
 "cells": [
  {
   "cell_type": "code",
   "execution_count": 1,
   "metadata": {},
   "outputs": [],
   "source": [
    "import os\n",
    "import numpy as np\n",
    "import matplotlib.pyplot as plt\n",
    "import matplotlib.mlab as mlab\n",
    "import matplotlib.dates as mdates\n",
    "import pandas as pd\n",
    "from scipy.stats import norm\n",
    "from datetime import timedelta, datetime"
   ]
  },
  {
   "cell_type": "markdown",
   "metadata": {},
   "source": [
    "# Open DataFrame"
   ]
  },
  {
   "cell_type": "markdown",
   "metadata": {},
   "source": [
    "## Pulse Data"
   ]
  },
  {
   "cell_type": "markdown",
   "metadata": {},
   "source": [
    "Open up all runs."
   ]
  },
  {
   "cell_type": "code",
   "execution_count": 34,
   "metadata": {},
   "outputs": [],
   "source": [
    "dfs = []\n",
    "path = 'datafiles/jan_1_2019'\n",
    "for filename in os.listdir(path):\n",
    "    if filename.endswith(\".csv\"):\n",
    "        df = pd.read_csv(path+'/'+filename, sep=',', index_col=0).astype(float)\n",
    "        df['ratio']=df['Integral 1200']/df['Integral 7400']\n",
    "        df.index = pd.to_datetime(df.index,unit='s')-timedelta(hours=7)\n",
    "        df = df[(df['ratio']<1) & (df['ratio']>0)] #should not have to do this\n",
    "        dfs.append(df)"
   ]
  },
  {
   "cell_type": "markdown",
   "metadata": {},
   "source": [
    "Get beginning and end of each run. Need to subtract 1 hour because computer did not account for the time change."
   ]
  },
  {
   "cell_type": "code",
   "execution_count": 75,
   "metadata": {},
   "outputs": [],
   "source": [
    "begins = [df.index.values[0]-np.timedelta64(1,'h') for df in dfs]\n",
    "ends = [df.index.values[-1]-np.timedelta64(1,'h') for df in dfs]"
   ]
  },
  {
   "cell_type": "markdown",
   "metadata": {},
   "source": [
    "## Temperature Data"
   ]
  },
  {
   "cell_type": "code",
   "execution_count": 76,
   "metadata": {},
   "outputs": [],
   "source": [
    "temps = pd.read_csv('datafiles/jan_1_2019/jantest1.txt', skiprows=7, sep='\\t')\n",
    "temps['Time'] = pd.to_datetime(temps['DATE']+'-'+temps['TIME'])\n",
    "temps.index = temps['Time']\n",
    "temps = temps[['TEMPERATURE', 'RELATIVE-HUMIDITY', 'DEW-POINT']]"
   ]
  },
  {
   "cell_type": "code",
   "execution_count": 77,
   "metadata": {},
   "outputs": [
    {
     "data": {
      "text/html": [
       "<div>\n",
       "<style scoped>\n",
       "    .dataframe tbody tr th:only-of-type {\n",
       "        vertical-align: middle;\n",
       "    }\n",
       "\n",
       "    .dataframe tbody tr th {\n",
       "        vertical-align: top;\n",
       "    }\n",
       "\n",
       "    .dataframe thead th {\n",
       "        text-align: right;\n",
       "    }\n",
       "</style>\n",
       "<table border=\"1\" class=\"dataframe\">\n",
       "  <thead>\n",
       "    <tr style=\"text-align: right;\">\n",
       "      <th></th>\n",
       "      <th>TEMPERATURE</th>\n",
       "      <th>RELATIVE-HUMIDITY</th>\n",
       "      <th>DEW-POINT</th>\n",
       "    </tr>\n",
       "    <tr>\n",
       "      <th>Time</th>\n",
       "      <th></th>\n",
       "      <th></th>\n",
       "      <th></th>\n",
       "    </tr>\n",
       "  </thead>\n",
       "  <tbody>\n",
       "    <tr>\n",
       "      <th>2019-01-08 15:24:00</th>\n",
       "      <td>23.0</td>\n",
       "      <td>31.2</td>\n",
       "      <td>5.0</td>\n",
       "    </tr>\n",
       "    <tr>\n",
       "      <th>2019-01-08 15:24:02</th>\n",
       "      <td>23.0</td>\n",
       "      <td>31.3</td>\n",
       "      <td>5.1</td>\n",
       "    </tr>\n",
       "    <tr>\n",
       "      <th>2019-01-08 15:24:04</th>\n",
       "      <td>23.0</td>\n",
       "      <td>31.3</td>\n",
       "      <td>5.1</td>\n",
       "    </tr>\n",
       "    <tr>\n",
       "      <th>2019-01-08 15:24:06</th>\n",
       "      <td>23.0</td>\n",
       "      <td>31.2</td>\n",
       "      <td>5.0</td>\n",
       "    </tr>\n",
       "    <tr>\n",
       "      <th>2019-01-08 15:24:08</th>\n",
       "      <td>23.1</td>\n",
       "      <td>31.2</td>\n",
       "      <td>5.1</td>\n",
       "    </tr>\n",
       "  </tbody>\n",
       "</table>\n",
       "</div>"
      ],
      "text/plain": [
       "                     TEMPERATURE  RELATIVE-HUMIDITY  DEW-POINT\n",
       "Time                                                          \n",
       "2019-01-08 15:24:00         23.0               31.2        5.0\n",
       "2019-01-08 15:24:02         23.0               31.3        5.1\n",
       "2019-01-08 15:24:04         23.0               31.3        5.1\n",
       "2019-01-08 15:24:06         23.0               31.2        5.0\n",
       "2019-01-08 15:24:08         23.1               31.2        5.1"
      ]
     },
     "execution_count": 77,
     "metadata": {},
     "output_type": "execute_result"
    }
   ],
   "source": [
    "temps.head()"
   ]
  },
  {
   "cell_type": "markdown",
   "metadata": {},
   "source": [
    "# Preliminary Plot"
   ]
  },
  {
   "cell_type": "code",
   "execution_count": 78,
   "metadata": {},
   "outputs": [
    {
     "data": {
      "image/png": "[encoded data removed]",
      "text/plain": [
       "<Figure size 576x360 with 1 Axes>"
      ]
     },
     "metadata": {},
     "output_type": "display_data"
    }
   ],
   "source": [
    "fig, ax = plt.subplots(figsize=(8,5))\n",
    "\n",
    "dfs[0]['ratio'].hist(bins=500, ax=ax)\n",
    "\n",
    "ax.set_xlim(0,1)\n",
    "ax.set_xlabel('Ratio of Energies 1.2$\\mu$s & 7.4$\\mu$s')\n",
    "ax.set_ylabel('Frequency')\n",
    "ax.set_title('Energy Ratio of Cosmic Muons')\n",
    "plt.show()"
   ]
  },
  {
   "cell_type": "code",
   "execution_count": 100,
   "metadata": {},
   "outputs": [
    {
     "data": {
      "image/png": "[encoded data removed]",
      "text/plain": [
       "<Figure size 576x360 with 1 Axes>"
      ]
     },
     "metadata": {},
     "output_type": "display_data"
    }
   ],
   "source": [
    "fig, ax = plt.subplots(figsize=(8,5))\n",
    "\n",
    "\n",
    "dfs[0]['Integral 7400'].hist(bins=1000, ax=ax)\n",
    "ax.set_xlim(0,100000)\n",
    "ax.set_xlabel('Energy Deposited after 7.4$\\mu$s [arb]')\n",
    "ax.set_ylabel('Frequency')\n",
    "ax.set_title('Energy Deposited by Cosmic Muons')\n",
    "\n",
    "plt.show()"
   ]
  },
  {
   "cell_type": "markdown",
   "metadata": {},
   "source": [
    "# Fitting Methods to Find the Mode"
   ]
  },
  {
   "cell_type": "code",
   "execution_count": 80,
   "metadata": {},
   "outputs": [],
   "source": [
    "df = dfs[0]"
   ]
  },
  {
   "cell_type": "markdown",
   "metadata": {},
   "source": [
    "Only fit values between 0.59 and 0.61 to normal curve:"
   ]
  },
  {
   "cell_type": "code",
   "execution_count": 81,
   "metadata": {},
   "outputs": [],
   "source": [
    "mask = (df['ratio']>0.59) & (df['ratio']<0.61)\n",
    "(mu, sigma) = norm.fit(df['ratio'][mask])"
   ]
  },
  {
   "cell_type": "markdown",
   "metadata": {},
   "source": [
    "Get x and y values:"
   ]
  },
  {
   "cell_type": "code",
   "execution_count": 92,
   "metadata": {},
   "outputs": [],
   "source": [
    "x = np.linspace(0.56, 0.64, 1000)\n",
    "\n",
    "def gaussian(x, mu, sig):\n",
    "    return (1/(np.sqrt(2*np.pi)*sig))*np.exp(-np.power(x - mu, 2.) / (2 * np.power(sig, 2.)))"
   ]
  },
  {
   "cell_type": "markdown",
   "metadata": {},
   "source": [
    "Do plotting:"
   ]
  },
  {
   "cell_type": "code",
   "execution_count": 98,
   "metadata": {},
   "outputs": [
    {
     "data": {
      "image/png": "[encoded data removed]",
      "text/plain": [
       "<Figure size 576x360 with 1 Axes>"
      ]
     },
     "metadata": {},
     "output_type": "display_data"
    }
   ],
   "source": [
    "fig, ax = plt.subplots(figsize=(8,5))\n",
    "\n",
    "df['ratio'].hist(bins=500, ax=ax, density=True)\n",
    "ax.plot(x, gaussian(x, mu, sigma)/10)\n",
    "\n",
    "ax.set_xlim(0,1)\n",
    "plt.show()"
   ]
  },
  {
   "cell_type": "markdown",
   "metadata": {},
   "source": [
    "# 2D Histogram Stuff:"
   ]
  },
  {
   "cell_type": "code",
   "execution_count": 84,
   "metadata": {},
   "outputs": [
    {
     "data": {
      "image/png": "[encoded data removed]",
      "text/plain": [
       "<Figure size 576x360 with 1 Axes>"
      ]
     },
     "metadata": {},
     "output_type": "display_data"
    }
   ],
   "source": [
    "fig, ax = plt.subplots(figsize=(8,5))\n",
    "\n",
    "ax.hist2d(df['Integral 7400'].values, df['ratio'].values,\n",
    "          range=np.array([(0, 300000), (0.2, 0.9)]), bins=100)\n",
    "\n",
    "ax.set_xlabel('Energy Deposited after 7.4$\\mu$s [arb]')\n",
    "ax.set_ylabel('Ratio of Energies 1.2$\\mu$s & 7.4$\\mu$s')\n",
    "\n",
    "plt.show()"
   ]
  },
  {
   "cell_type": "markdown",
   "metadata": {},
   "source": [
    "# Plot Some Temperature Stuff"
   ]
  },
  {
   "cell_type": "code",
   "execution_count": 85,
   "metadata": {},
   "outputs": [
    {
     "data": {
      "image/png": "[encoded data removed]",
      "text/plain": [
       "<Figure size 576x360 with 1 Axes>"
      ]
     },
     "metadata": {},
     "output_type": "display_data"
    }
   ],
   "source": [
    "fig, ax = plt.subplots(figsize=(8,5))\n",
    "\n",
    "ax.plot(temps['TEMPERATURE'])\n",
    "\n",
    "(begin,end) = (begins[0], ends[0])\n",
    "ax.axvspan(begin, end, alpha=0.1, color='red', label='Data Collection Periods') # get the label in there\n",
    "[ax.axvspan(begin, end, alpha=0.1, color='red') for begin,end in zip(begins[1:], ends[1:])] #get the rest\n",
    "\n",
    "xfmt = mdates.DateFormatter('%H:%M:%S')\n",
    "ax.xaxis.set_major_formatter(xfmt)\n",
    "fig.autofmt_xdate()\n",
    "\n",
    "ax.set_title('Temperature June 4-5')\n",
    "ax.set_ylabel('Temperature ($^\\circ C$)')\n",
    "ax.set_xlabel('Time (Hours)')\n",
    "ax.legend()\n",
    "\n",
    "plt.show()"
   ]
  }
 ],
 "metadata": {
  "kernelspec": {
   "display_name": "Python 3",
   "language": "python",
   "name": "python3"
  },
  "language_info": {
   "codemirror_mode": {
    "name": "ipython",
    "version": 3
   },
   "file_extension": ".py",
   "mimetype": "text/x-python",
   "name": "python",
   "nbconvert_exporter": "python",
   "pygments_lexer": "ipython3",
   "version": "3.6.6"
  }
 },
 "nbformat": 4,
 "nbformat_minor": 2
}
