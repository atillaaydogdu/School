{
 "cells": [
  {
   "cell_type": "markdown",
   "metadata": {},
   "source": [
    "# Function Used in Data Analysis"
   ]
  },
  {
   "cell_type": "code",
   "execution_count": 1,
   "metadata": {},
   "outputs": [],
   "source": [
    "import matplotlib.pyplot as plt\n",
    "import pandas as pd\n",
    "import numpy as np\n",
    "from scipy.optimize import curve_fit\n",
    "\n",
    "ratio_mean_guess = 0.78\n",
    "ratio_std_guess = 0.02"
   ]
  },
  {
   "cell_type": "markdown",
   "metadata": {},
   "source": [
    "This is where all the functions used are stored. Each one will be described by itself."
   ]
  },
  {
   "cell_type": "code",
   "execution_count": 2,
   "metadata": {},
   "outputs": [],
   "source": [
    "def norm(x, u, sig, amp):\n",
    "    return amp*np.exp(-((x-u)**2)/(2*sig**2))"
   ]
  },
  {
   "cell_type": "markdown",
   "metadata": {},
   "source": [
    "Calculates the energy deposition ratio for a single dataframe. (This corresponds to one 2 minute measurement period in some run)."
   ]
  },
  {
   "cell_type": "code",
   "execution_count": 3,
   "metadata": {},
   "outputs": [],
   "source": [
    "def mode_ratio(df, mode_std):\n",
    "    \n",
    "    hist, values, _ = plt.hist(df['ratio'], bins=1000); plt.close()\n",
    "    mean_guess = values[np.argmax(hist)]\n",
    "    mode_lwr = mean_guess-mode_std\n",
    "    mode_upr = mean_guess+mode_std\n",
    "\n",
    "    mask = (df['ratio']>mode_lwr) & (df['ratio']<mode_upr)\n",
    "\n",
    "    h, x , _ = plt.hist(df['ratio'][mask], bins=50); plt.close()\n",
    "    x = x[:-1]\n",
    "\n",
    "    p0  = (mean_guess, ratio_std_guess, np.max(h))\n",
    "    popt, pcov = curve_fit(norm, x, h, p0=p0)\n",
    "    perr = np.sqrt(np.diag(pcov))\n",
    "    \n",
    "    return popt, perr"
   ]
  },
  {
   "cell_type": "code",
   "execution_count": 9,
   "metadata": {},
   "outputs": [],
   "source": [
    "def mode_energy(df, mode_std):\n",
    "    hist, values, _ = plt.hist(df['Integral 7400'], bins=1000); plt.close()\n",
    "    mean_guess = values[np.argmax(hist)]\n",
    "    mode_lwr = mean_guess-mode_std\n",
    "    mode_upr = mean_guess+mode_std\n",
    "\n",
    "    mask = (df['Integral 7400']>mode_lwr) & (df['Integral 7400']<mode_upr)\n",
    "\n",
    "    h, x , _ = plt.hist(df['Integral 7400'][mask], bins=50); plt.close()\n",
    "    x = x[:-1]\n",
    "\n",
    "    p0  = (mean_guess, mode_std, np.max(h))\n",
    "    popt, pcov = curve_fit(norm, x, h, p0=p0)\n",
    "    perr = np.sqrt(np.diag(pcov))\n",
    "    \n",
    "    return popt, perr"
   ]
  },
  {
   "cell_type": "markdown",
   "metadata": {},
   "source": [
    "Same as the function above except it returns x and h so that the histogram can be drawn."
   ]
  },
  {
   "cell_type": "code",
   "execution_count": 5,
   "metadata": {},
   "outputs": [],
   "source": [
    "def mode_ratio_demo(df, mode_std):\n",
    "    \n",
    "    hist, values, _ = plt.hist(df['ratio'], bins=1000); plt.close()\n",
    "    mean_guess = values[np.argmax(hist)]\n",
    "    mode_lwr = mean_guess-mode_std\n",
    "    mode_upr = mean_guess+mode_std\n",
    "\n",
    "    mask = (df['ratio']>mode_lwr) & (df['ratio']<mode_upr)\n",
    "\n",
    "    h, x , _ = plt.hist(df['ratio'][mask], bins=25); plt.close()\n",
    "    x = x[:-1]\n",
    "\n",
    "    p0  = (mean_guess, ratio_std_guess, np.max(h))\n",
    "    popt, pcov = curve_fit(norm, x, h, p0=p0)\n",
    "    perr = np.sqrt(np.diag(pcov))\n",
    "    \n",
    "    return x, h, popt, perr"
   ]
  },
  {
   "cell_type": "markdown",
   "metadata": {},
   "source": [
    "Used to create histograms of ratios for all runs in each data run (run_num specifies the data run)."
   ]
  },
  {
   "cell_type": "code",
   "execution_count": 6,
   "metadata": {},
   "outputs": [],
   "source": [
    "def create_plots(df, params, run_num, ax, date):\n",
    "        \n",
    "    # Plot histogram\n",
    "    df['ratio'].hist(bins=500, ax=ax)\n",
    "        \n",
    "    # Mean and STD\n",
    "    mean = params[0][0]\n",
    "    std = params[0][1]\n",
    "        \n",
    "    ax.axvline(mean, c='k', linestyle='--', label='Mean') #mean\n",
    "    (lwr,upr) = (mean-std, mean+std)\n",
    "    ax.axvspan(lwr, upr, alpha=0.1, color='red', label='Standard Deviation') ##std\n",
    "        \n",
    "    #Label Options\n",
    "    ax.set_xlim(0.6, 0.9)\n",
    "    ax.set_title(date+'_run'+str(run_num)+'; Mode = {:.4f}'.format(mean))\n",
    "    ax.set_xlabel('E(1.2$\\mu$s)/E(7.4$\\mu$s)')\n",
    "    ax.set_ylabel('Number of Events')\n",
    "    ax.legend(loc='best')\n",
    "        \n",
    "    return None"
   ]
  },
  {
   "cell_type": "code",
   "execution_count": 7,
   "metadata": {},
   "outputs": [],
   "source": [
    "def compute_datapoint(df, all_temps, mode_std):\n",
    "    begin = df.index.values[0]-np.timedelta64(1,'h')\n",
    "    end = df.index.values[-1]-np.timedelta64(1,'h')\n",
    "    \n",
    "    temp_mean = all_temps[(all_temps.index>begin)&(all_temps.index<end)]['TEMPERATURE'].mean()\n",
    "    temp_err = all_temps[(all_temps.index>begin)&(all_temps.index<end)]['TEMPERATURE'].std()\n",
    "    \n",
    "    ratio = mode_ratio(df, mode_std)[0][0]\n",
    "    ratio_err = mode_ratio(df, mode_std)[1][0]\n",
    "    \n",
    "    return [[temp_mean, ratio], [temp_err, ratio_err]]"
   ]
  },
  {
   "cell_type": "code",
   "execution_count": 11,
   "metadata": {},
   "outputs": [],
   "source": [
    "def compute_datapoint_energy(df, all_temps, mode_std):\n",
    "    begin = df.index.values[0]-np.timedelta64(1,'h')\n",
    "    end = df.index.values[-1]-np.timedelta64(1,'h')\n",
    "    \n",
    "    temp_mean = all_temps[(all_temps.index>begin)&(all_temps.index<end)]['TEMPERATURE'].mean()\n",
    "    temp_err = all_temps[(all_temps.index>begin)&(all_temps.index<end)]['TEMPERATURE'].std()\n",
    "    \n",
    "    energy = mode_energy(df, mode_std)[0][0]\n",
    "    energy_err = mode_energy(df, mode_std)[1][0]\n",
    "    \n",
    "    return [[temp_mean, energy], [temp_err, energy_err]]"
   ]
  }
 ],
 "metadata": {
  "kernelspec": {
   "display_name": "Python 3",
   "language": "python",
   "name": "python3"
  },
  "language_info": {
   "codemirror_mode": {
    "name": "ipython",
    "version": 3
   },
   "file_extension": ".py",
   "mimetype": "text/x-python",
   "name": "python",
   "nbconvert_exporter": "python",
   "pygments_lexer": "ipython3",
   "version": "3.6.5"
  }
 },
 "nbformat": 4,
 "nbformat_minor": 2
}
