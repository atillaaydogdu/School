{
 "cells": [
  {
   "cell_type": "markdown",
   "metadata": {},
   "source": [
    "# Function Used in Data Analysis"
   ]
  },
  {
   "cell_type": "code",
   "execution_count": 1,
   "metadata": {},
   "outputs": [],
   "source": [
    "import matplotlib.pyplot as plt\n",
    "import pandas as pd\n",
    "import numpy as np\n",
    "from scipy.optimize import curve_fit\n",
    "\n",
    "ratio_mean_guess = 0.78\n",
    "ratio_std_guess = 0.02"
   ]
  },
  {
   "cell_type": "markdown",
   "metadata": {},
   "source": [
    "This is where all the functions used are stored. Each one will be described by itself."
   ]
  },
  {
   "cell_type": "code",
   "execution_count": 2,
   "metadata": {},
   "outputs": [],
   "source": [
    "def norm(x, u, sig, amp):\n",
    "    return amp*np.exp(-((x-u)**2)/(2*sig**2))"
   ]
  },
  {
   "cell_type": "markdown",
   "metadata": {},
   "source": [
    "Calculates the energy deposition ratio for a single dataframe. (This corresponds to one 2 minute measurement period in some run)."
   ]
  },
  {
   "cell_type": "code",
   "execution_count": 3,
   "metadata": {},
   "outputs": [],
   "source": [
    "def mode_ratio(df):\n",
    "\n",
    "    mask = (df['ratio']>0.74) & (df['ratio']<0.78)\n",
    "\n",
    "    h, x , _ = plt.hist(df['ratio'][mask], bins=25); plt.close()\n",
    "    x = x[:-1]\n",
    "\n",
    "    p0  = (ratio_mean_guess, ratio_std_guess, np.max(h))\n",
    "    popt, pcov = curve_fit(norm, x, h, p0=p0)\n",
    "    perr = np.sqrt(np.diag(pcov))\n",
    "    \n",
    "    return popt, perr"
   ]
  },
  {
   "cell_type": "markdown",
   "metadata": {},
   "source": [
    "Same as the function above except it returns x and h so that the histogram can be drawn."
   ]
  },
  {
   "cell_type": "code",
   "execution_count": 4,
   "metadata": {},
   "outputs": [],
   "source": [
    "def mode_ratio_demo(df):\n",
    "\n",
    "    mask = (df['ratio']>0.74) & (df['ratio']<0.78)\n",
    "\n",
    "    h, x , _ = plt.hist(df['ratio'][mask], bins=25); plt.close()\n",
    "    x = x[:-1]\n",
    "\n",
    "    p0  = (ratio_mean_guess, ratio_std_guess, np.max(h))\n",
    "    popt, pcov = curve_fit(norm, x, h, p0=p0)\n",
    "    perr = np.sqrt(np.diag(pcov))\n",
    "    \n",
    "    return x, h, popt, perr"
   ]
  },
  {
   "cell_type": "markdown",
   "metadata": {},
   "source": [
    "Used to create histograms of ratios for all runs in each data run (run_num specifies the data run)."
   ]
  },
  {
   "cell_type": "code",
   "execution_count": 5,
   "metadata": {},
   "outputs": [],
   "source": [
    "def create_plots(dfs, params, run_num, ax, date):\n",
    "    a = ax.ravel()\n",
    "    for (i,df) in enumerate(dfs):\n",
    "        \n",
    "        # Plot histogram\n",
    "        df['ratio'].hist(bins=500, ax=a[i])\n",
    "        \n",
    "        # Mean and STD\n",
    "        mean = params[i][0][0]\n",
    "        std = params [i][0][1]\n",
    "        \n",
    "        a[i].axvline(mean, c='k', linestyle='--') #mean\n",
    "        (lwr,upr) = (mean-std, mean+std)\n",
    "        a[i].axvspan(lwr, upr, alpha=0.1, color='red', label='Standard Error') ##std\n",
    "        \n",
    "        #Label Options\n",
    "        a[i].set_xlim(0.7, 0.9)\n",
    "        a[i].set_title(date+'_run'+str(run_num)+'_data'+str(i+1))\n",
    "        a[i].text(0.6, 0.8, 'Mode = {:.4f}'.format(mean), fontsize=14)\n",
    "    plt.savefig('plots/run_peaks/'+date+'run'+str(run_num)+'.png')\n",
    "        \n",
    "    return None"
   ]
  },
  {
   "cell_type": "code",
   "execution_count": 6,
   "metadata": {},
   "outputs": [],
   "source": [
    "def compute_datapoint(df, all_temps):\n",
    "    begin = df.index.values[0]-np.timedelta64(1,'h')\n",
    "    end = df.index.values[-1]-np.timedelta64(1,'h')\n",
    "    \n",
    "    temp_mean = all_temps[(all_temps.index>begin)&(all_temps.index<end)]['TEMPERATURE'].mean()\n",
    "    temp_err = all_temps[(all_temps.index>begin)&(all_temps.index<end)]['TEMPERATURE'].std()\n",
    "    \n",
    "    ratio = mode_ratio(df)[0][0]\n",
    "    ratio_err = mode_ratio(df)[1][0]\n",
    "    \n",
    "    return [[temp_mean, ratio], [temp_err, ratio_err]]"
   ]
  }
 ],
 "metadata": {
  "kernelspec": {
   "display_name": "Python 3",
   "language": "python",
   "name": "python3"
  },
  "language_info": {
   "codemirror_mode": {
    "name": "ipython",
    "version": 3
   },
   "file_extension": ".py",
   "mimetype": "text/x-python",
   "name": "python",
   "nbconvert_exporter": "python",
   "pygments_lexer": "ipython3",
   "version": "3.6.7"
  }
 },
 "nbformat": 4,
 "nbformat_minor": 2
}
