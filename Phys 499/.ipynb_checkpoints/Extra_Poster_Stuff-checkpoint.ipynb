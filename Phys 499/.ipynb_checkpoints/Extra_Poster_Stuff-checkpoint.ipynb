{
 "cells": [
  {
   "cell_type": "code",
   "execution_count": 1,
   "metadata": {},
   "outputs": [
    {
     "name": "stdout",
     "output_type": "stream",
     "text": [
      "importing Jupyter notebook from Functions.ipynb\n"
     ]
    }
   ],
   "source": [
    "import os\n",
    "import numpy as np\n",
    "import matplotlib.pyplot as plt\n",
    "import matplotlib.mlab as mlab\n",
    "import matplotlib.dates as mdates\n",
    "import pandas as pd\n",
    "import scipy as sp\n",
    "from scipy.stats import norm\n",
    "from scipy.optimize import curve_fit\n",
    "from scipy import stats\n",
    "from datetime import timedelta, datetime\n",
    "import sympy as smp\n",
    "from IPython.display import display, Math\n",
    "\n",
    "# My own functions\n",
    "import import_ipynb\n",
    "import Functions\n",
    "\n",
    "smp.init_printing()\n",
    "%matplotlib inline"
   ]
  },
  {
   "cell_type": "markdown",
   "metadata": {},
   "source": [
    "# Show the Changing Histogram With Temperature"
   ]
  },
  {
   "cell_type": "code",
   "execution_count": 28,
   "metadata": {},
   "outputs": [],
   "source": [
    "upper_int = 100000\n",
    "lower_int = 0\n",
    "mode_std = 0.015"
   ]
  },
  {
   "cell_type": "code",
   "execution_count": 17,
   "metadata": {},
   "outputs": [],
   "source": [
    "cold_path = 'datafiles/feb_8_2019/feb_8_run1_csv.csv'\n",
    "warm_path = 'datafiles/feb_4_2019/feb_4_run2_csv.csv'"
   ]
  },
  {
   "cell_type": "code",
   "execution_count": 18,
   "metadata": {},
   "outputs": [],
   "source": [
    "def get_df(path):\n",
    "    \n",
    "    df = pd.read_csv(path, sep=',', index_col=0).astype(float)\n",
    "    df['ratio']=(df['Integral 1200']-df['Integral 0'])/(df['Integral 7400']-df['Integral 0'])\n",
    "    df.index = pd.to_datetime(df.index,unit='s')-timedelta(hours=7)\n",
    "        \n",
    "    df = df[(df['ratio']<1) & (df['ratio']>0)] \n",
    "    df = df[(df['Integral 7400']<upper_int) & (df['Integral 7400']>lower_int)] \n",
    "    \n",
    "    return df"
   ]
  },
  {
   "cell_type": "code",
   "execution_count": 19,
   "metadata": {},
   "outputs": [],
   "source": [
    "df_cold = get_df(cold_path)\n",
    "df_warm = get_df(warm_path)"
   ]
  },
  {
   "cell_type": "code",
   "execution_count": 36,
   "metadata": {},
   "outputs": [],
   "source": [
    "[warm_mode, _, _], _ = Functions.mode_ratio(df_warm, mode_std)\n",
    "[cold_mode, _, _], _ = Functions.mode_ratio(df_cold, mode_std)"
   ]
  },
  {
   "cell_type": "code",
   "execution_count": 40,
   "metadata": {},
   "outputs": [
    {
     "data": {
      "image/png": "[encoded data removed]",
      "text/plain": [
       "<Figure size 504x216 with 1 Axes>"
      ]
     },
     "metadata": {},
     "output_type": "display_data"
    }
   ],
   "source": [
    "fig, ax = plt.subplots(figsize=(7,3))\n",
    "\n",
    "df_cold['ratio'].hist(bins=1000, ax=ax, alpha=0.5, label='13$^\\circ$C')\n",
    "df_warm['ratio'].hist(bins=1000, ax=ax, alpha=0.5, color='r', label='27$^\\circ$C')\n",
    "\n",
    "ax.axvline(warm_mode, c='k', linestyle='--')\n",
    "ax.axvline(cold_mode, c='k', linestyle='--')\n",
    "\n",
    "ax.set_xlim(0.65,0.85)\n",
    "ax.set_title('Cold vs. Warm Data')\n",
    "ax.set_xlabel('E(1.2$\\mu$s)/E(7.4$\\mu$s)')\n",
    "ax.set_ylabel('Number of Events')\n",
    "\n",
    "ax.legend()\n",
    "plt.show()"
   ]
  }
 ],
 "metadata": {
  "kernelspec": {
   "display_name": "Python 3",
   "language": "python",
   "name": "python3"
  },
  "language_info": {
   "codemirror_mode": {
    "name": "ipython",
    "version": 3
   },
   "file_extension": ".py",
   "mimetype": "text/x-python",
   "name": "python",
   "nbconvert_exporter": "python",
   "pygments_lexer": "ipython3",
   "version": "3.6.5"
  }
 },
 "nbformat": 4,
 "nbformat_minor": 2
}
