{
 "cells": [
  {
   "cell_type": "markdown",
   "metadata": {},
   "source": [
    "<h1 id=\"tocheading\">Table of Contents and Notebook Setup</h1>\n",
    "<div id=\"toc\"></div>"
   ]
  },
  {
   "cell_type": "code",
   "execution_count": 1,
   "metadata": {},
   "outputs": [
    {
     "data": {
      "application/javascript": [
       "$.getScript('https://kmahelona.github.io/ipython_notebook_goodies/ipython_notebook_toc.js')"
      ],
      "text/plain": [
       "<IPython.core.display.Javascript object>"
      ]
     },
     "metadata": {},
     "output_type": "display_data"
    }
   ],
   "source": [
    "%%javascript\n",
    "$.getScript('https://kmahelona.github.io/ipython_notebook_goodies/ipython_notebook_toc.js')"
   ]
  },
  {
   "cell_type": "code",
   "execution_count": 2,
   "metadata": {},
   "outputs": [
    {
     "name": "stdout",
     "output_type": "stream",
     "text": [
      "importing Jupyter notebook from Functions.ipynb\n"
     ]
    }
   ],
   "source": [
    "import os\n",
    "import numpy as np\n",
    "import matplotlib.pyplot as plt\n",
    "import matplotlib.mlab as mlab\n",
    "import matplotlib.dates as mdates\n",
    "import pandas as pd\n",
    "import scipy as sp\n",
    "from scipy.stats import norm\n",
    "from scipy.optimize import curve_fit\n",
    "from scipy import stats\n",
    "from datetime import timedelta, datetime\n",
    "import sympy as smp\n",
    "from IPython.display import display, Math\n",
    "\n",
    "# My own functions\n",
    "import import_ipynb\n",
    "import Functions\n",
    "\n",
    "smp.init_printing()\n",
    "%matplotlib inline"
   ]
  },
  {
   "cell_type": "code",
   "execution_count": 3,
   "metadata": {},
   "outputs": [],
   "source": [
    "date = 'jan_28_2019'\n",
    "path = 'datafiles/'+date\n",
    "\n",
    "run1_numtimes = 1\n",
    "run2_numtimes = 1\n",
    "run3_numtimes = 0"
   ]
  },
  {
   "cell_type": "code",
   "execution_count": 4,
   "metadata": {},
   "outputs": [],
   "source": [
    "ratio_mean_guess = 0.78\n",
    "ratio_std_guess = 0.02\n",
    "\n",
    "mode_lwr = 0.73\n",
    "mode_upr = 0.77"
   ]
  },
  {
   "cell_type": "markdown",
   "metadata": {},
   "source": [
    "# Open DataFrames"
   ]
  },
  {
   "cell_type": "code",
   "execution_count": 5,
   "metadata": {},
   "outputs": [],
   "source": [
    "upper_int = 100000\n",
    "lower_int = 0"
   ]
  },
  {
   "cell_type": "markdown",
   "metadata": {},
   "source": [
    "## Pulse Data"
   ]
  },
  {
   "cell_type": "markdown",
   "metadata": {},
   "source": [
    "Open up all runs."
   ]
  },
  {
   "cell_type": "code",
   "execution_count": 6,
   "metadata": {},
   "outputs": [],
   "source": [
    "dfs = []\n",
    "for filename in os.listdir(path):\n",
    "    if filename.endswith(\".csv\"):\n",
    "        df = pd.read_csv(path+'/'+filename, sep=',', index_col=0).astype(float)\n",
    "        df['ratio']=(df['Integral 1200']-df['Integral 0'])/(df['Integral 7400']-df['Integral 0'])\n",
    "        df.index = pd.to_datetime(df.index,unit='s')-timedelta(hours=7)\n",
    "        \n",
    "        df = df[(df['ratio']<1) & (df['ratio']>0)] #should not have to do this\n",
    "        df = df[(df['Integral 7400']<upper_int) & (df['Integral 7400']>lower_int)] #should not have to do this\n",
    "        dfs.append(df)\n",
    "\n",
    "dfs = sorted(dfs,key=lambda x:x.index[0]) #sort by initial time\n",
    "num_runs = len(dfs)"
   ]
  },
  {
   "cell_type": "markdown",
   "metadata": {},
   "source": [
    "Get beginning and end of each run. Need to subtract 1 hour because computer did not account for the time change."
   ]
  },
  {
   "cell_type": "code",
   "execution_count": 7,
   "metadata": {},
   "outputs": [],
   "source": [
    "begins = sorted([df.index.values[0]-np.timedelta64(1,'h') for df in dfs])\n",
    "ends = sorted([df.index.values[-1]-np.timedelta64(1,'h') for df in dfs])"
   ]
  },
  {
   "cell_type": "code",
   "execution_count": 8,
   "metadata": {},
   "outputs": [
    {
     "data": {
      "text/html": [
       "<div>\n",
       "<style scoped>\n",
       "    .dataframe tbody tr th:only-of-type {\n",
       "        vertical-align: middle;\n",
       "    }\n",
       "\n",
       "    .dataframe tbody tr th {\n",
       "        vertical-align: top;\n",
       "    }\n",
       "\n",
       "    .dataframe thead th {\n",
       "        text-align: right;\n",
       "    }\n",
       "</style>\n",
       "<table border=\"1\" class=\"dataframe\">\n",
       "  <thead>\n",
       "    <tr style=\"text-align: right;\">\n",
       "      <th></th>\n",
       "      <th>Integral 0</th>\n",
       "      <th>Integral 1200</th>\n",
       "      <th>Integral 7400</th>\n",
       "      <th>ratio</th>\n",
       "    </tr>\n",
       "    <tr>\n",
       "      <th>Time</th>\n",
       "      <th></th>\n",
       "      <th></th>\n",
       "      <th></th>\n",
       "      <th></th>\n",
       "    </tr>\n",
       "  </thead>\n",
       "  <tbody>\n",
       "    <tr>\n",
       "      <th>2019-01-28 13:48:39.542118073</th>\n",
       "      <td>883.410000</td>\n",
       "      <td>20514.210000</td>\n",
       "      <td>28022.176667</td>\n",
       "      <td>0.723349</td>\n",
       "    </tr>\n",
       "    <tr>\n",
       "      <th>2019-01-28 13:48:39.543048143</th>\n",
       "      <td>1165.174333</td>\n",
       "      <td>17381.974333</td>\n",
       "      <td>22805.607667</td>\n",
       "      <td>0.749375</td>\n",
       "    </tr>\n",
       "    <tr>\n",
       "      <th>2019-01-28 13:48:39.543619871</th>\n",
       "      <td>224.069333</td>\n",
       "      <td>21495.669333</td>\n",
       "      <td>29732.602667</td>\n",
       "      <td>0.720863</td>\n",
       "    </tr>\n",
       "    <tr>\n",
       "      <th>2019-01-28 13:48:39.543740034</th>\n",
       "      <td>-1158.483667</td>\n",
       "      <td>16321.716333</td>\n",
       "      <td>20949.083000</td>\n",
       "      <td>0.790689</td>\n",
       "    </tr>\n",
       "    <tr>\n",
       "      <th>2019-01-28 13:48:39.543851852</th>\n",
       "      <td>2350.771000</td>\n",
       "      <td>26629.571000</td>\n",
       "      <td>34578.537667</td>\n",
       "      <td>0.753350</td>\n",
       "    </tr>\n",
       "    <tr>\n",
       "      <th>2019-01-28 13:48:39.544132948</th>\n",
       "      <td>303.757667</td>\n",
       "      <td>19279.357667</td>\n",
       "      <td>25409.791000</td>\n",
       "      <td>0.755818</td>\n",
       "    </tr>\n",
       "    <tr>\n",
       "      <th>2019-01-28 13:48:39.545568943</th>\n",
       "      <td>-438.196667</td>\n",
       "      <td>20940.203333</td>\n",
       "      <td>28415.770000</td>\n",
       "      <td>0.740917</td>\n",
       "    </tr>\n",
       "    <tr>\n",
       "      <th>2019-01-28 13:48:39.546849012</th>\n",
       "      <td>1973.329000</td>\n",
       "      <td>24344.729000</td>\n",
       "      <td>33381.629000</td>\n",
       "      <td>0.712277</td>\n",
       "    </tr>\n",
       "    <tr>\n",
       "      <th>2019-01-28 13:48:39.547146082</th>\n",
       "      <td>-757.337000</td>\n",
       "      <td>20843.063000</td>\n",
       "      <td>27191.296333</td>\n",
       "      <td>0.772861</td>\n",
       "    </tr>\n",
       "    <tr>\n",
       "      <th>2019-01-28 13:48:39.547241926</th>\n",
       "      <td>-255.190000</td>\n",
       "      <td>19677.610000</td>\n",
       "      <td>25777.576667</td>\n",
       "      <td>0.765681</td>\n",
       "    </tr>\n",
       "    <tr>\n",
       "      <th>2019-01-28 13:48:39.547694921</th>\n",
       "      <td>1513.844333</td>\n",
       "      <td>22094.444333</td>\n",
       "      <td>30266.877667</td>\n",
       "      <td>0.715771</td>\n",
       "    </tr>\n",
       "    <tr>\n",
       "      <th>2019-01-28 13:48:39.547971964</th>\n",
       "      <td>241.710000</td>\n",
       "      <td>10673.710000</td>\n",
       "      <td>17557.210000</td>\n",
       "      <td>0.602466</td>\n",
       "    </tr>\n",
       "    <tr>\n",
       "      <th>2019-01-28 13:48:39.548902988</th>\n",
       "      <td>-127.789333</td>\n",
       "      <td>20274.610667</td>\n",
       "      <td>26432.677333</td>\n",
       "      <td>0.768149</td>\n",
       "    </tr>\n",
       "    <tr>\n",
       "      <th>2019-01-28 13:48:39.548961878</th>\n",
       "      <td>1136.594000</td>\n",
       "      <td>20986.394000</td>\n",
       "      <td>27212.027333</td>\n",
       "      <td>0.761245</td>\n",
       "    </tr>\n",
       "    <tr>\n",
       "      <th>2019-01-28 13:48:39.549292088</th>\n",
       "      <td>928.326667</td>\n",
       "      <td>19856.926667</td>\n",
       "      <td>27170.360000</td>\n",
       "      <td>0.721308</td>\n",
       "    </tr>\n",
       "    <tr>\n",
       "      <th>2019-01-28 13:48:39.549403906</th>\n",
       "      <td>1440.386667</td>\n",
       "      <td>23342.386667</td>\n",
       "      <td>31338.053333</td>\n",
       "      <td>0.732566</td>\n",
       "    </tr>\n",
       "    <tr>\n",
       "      <th>2019-01-28 13:48:39.549999952</th>\n",
       "      <td>-167.949333</td>\n",
       "      <td>22088.250667</td>\n",
       "      <td>28845.784000</td>\n",
       "      <td>0.767092</td>\n",
       "    </tr>\n",
       "    <tr>\n",
       "      <th>2019-01-28 13:48:39.550615072</th>\n",
       "      <td>866.234667</td>\n",
       "      <td>24276.034667</td>\n",
       "      <td>32092.168000</td>\n",
       "      <td>0.749691</td>\n",
       "    </tr>\n",
       "    <tr>\n",
       "      <th>2019-01-28 13:48:39.551938057</th>\n",
       "      <td>-1403.498667</td>\n",
       "      <td>20413.701333</td>\n",
       "      <td>27724.568000</td>\n",
       "      <td>0.749010</td>\n",
       "    </tr>\n",
       "    <tr>\n",
       "      <th>2019-01-28 13:48:39.552767992</th>\n",
       "      <td>760.295333</td>\n",
       "      <td>20416.495333</td>\n",
       "      <td>25627.362000</td>\n",
       "      <td>0.790451</td>\n",
       "    </tr>\n",
       "    <tr>\n",
       "      <th>2019-01-28 13:48:39.554142952</th>\n",
       "      <td>-2067.629333</td>\n",
       "      <td>20161.770667</td>\n",
       "      <td>47143.837333</td>\n",
       "      <td>0.451712</td>\n",
       "    </tr>\n",
       "    <tr>\n",
       "      <th>2019-01-28 13:48:39.554196119</th>\n",
       "      <td>-552.236667</td>\n",
       "      <td>19981.763333</td>\n",
       "      <td>25922.596667</td>\n",
       "      <td>0.775605</td>\n",
       "    </tr>\n",
       "    <tr>\n",
       "      <th>2019-01-28 13:48:39.554419041</th>\n",
       "      <td>-286.296000</td>\n",
       "      <td>21922.904000</td>\n",
       "      <td>30293.437333</td>\n",
       "      <td>0.726272</td>\n",
       "    </tr>\n",
       "    <tr>\n",
       "      <th>2019-01-28 13:48:39.554970980</th>\n",
       "      <td>1271.300000</td>\n",
       "      <td>22139.900000</td>\n",
       "      <td>30304.500000</td>\n",
       "      <td>0.718784</td>\n",
       "    </tr>\n",
       "    <tr>\n",
       "      <th>2019-01-28 13:48:39.555193901</th>\n",
       "      <td>2248.582667</td>\n",
       "      <td>20171.782667</td>\n",
       "      <td>27098.316000</td>\n",
       "      <td>0.721263</td>\n",
       "    </tr>\n",
       "    <tr>\n",
       "      <th>2019-01-28 13:48:39.555521965</th>\n",
       "      <td>498.191667</td>\n",
       "      <td>20839.391667</td>\n",
       "      <td>27502.425000</td>\n",
       "      <td>0.753260</td>\n",
       "    </tr>\n",
       "    <tr>\n",
       "      <th>2019-01-28 13:48:39.555574894</th>\n",
       "      <td>-1288.586667</td>\n",
       "      <td>20215.413333</td>\n",
       "      <td>27424.746667</td>\n",
       "      <td>0.748920</td>\n",
       "    </tr>\n",
       "    <tr>\n",
       "      <th>2019-01-28 13:48:39.556149006</th>\n",
       "      <td>1847.956000</td>\n",
       "      <td>20853.756000</td>\n",
       "      <td>27406.722667</td>\n",
       "      <td>0.743612</td>\n",
       "    </tr>\n",
       "    <tr>\n",
       "      <th>2019-01-28 13:48:39.556374073</th>\n",
       "      <td>1148.097000</td>\n",
       "      <td>20325.897000</td>\n",
       "      <td>27285.197000</td>\n",
       "      <td>0.733739</td>\n",
       "    </tr>\n",
       "    <tr>\n",
       "      <th>2019-01-28 13:48:39.557818890</th>\n",
       "      <td>-243.136000</td>\n",
       "      <td>19941.264000</td>\n",
       "      <td>26594.664000</td>\n",
       "      <td>0.752088</td>\n",
       "    </tr>\n",
       "    <tr>\n",
       "      <th>...</th>\n",
       "      <td>...</td>\n",
       "      <td>...</td>\n",
       "      <td>...</td>\n",
       "      <td>...</td>\n",
       "    </tr>\n",
       "    <tr>\n",
       "      <th>2019-01-28 13:58:38.557151079</th>\n",
       "      <td>914.701000</td>\n",
       "      <td>23299.501000</td>\n",
       "      <td>31487.801000</td>\n",
       "      <td>0.732173</td>\n",
       "    </tr>\n",
       "    <tr>\n",
       "      <th>2019-01-28 13:58:38.560015917</th>\n",
       "      <td>-470.571000</td>\n",
       "      <td>22303.829000</td>\n",
       "      <td>30278.729000</td>\n",
       "      <td>0.740648</td>\n",
       "    </tr>\n",
       "    <tr>\n",
       "      <th>2019-01-28 13:58:38.562998056</th>\n",
       "      <td>2200.756667</td>\n",
       "      <td>23056.756667</td>\n",
       "      <td>31194.090000</td>\n",
       "      <td>0.719338</td>\n",
       "    </tr>\n",
       "    <tr>\n",
       "      <th>2019-01-28 13:58:38.565838099</th>\n",
       "      <td>-2087.185333</td>\n",
       "      <td>17169.614667</td>\n",
       "      <td>23898.081333</td>\n",
       "      <td>0.741066</td>\n",
       "    </tr>\n",
       "    <tr>\n",
       "      <th>2019-01-28 13:58:38.568442106</th>\n",
       "      <td>402.523000</td>\n",
       "      <td>22899.123000</td>\n",
       "      <td>30743.223000</td>\n",
       "      <td>0.741466</td>\n",
       "    </tr>\n",
       "    <tr>\n",
       "      <th>2019-01-28 13:58:38.571546078</th>\n",
       "      <td>-1391.039000</td>\n",
       "      <td>20964.761000</td>\n",
       "      <td>27763.061000</td>\n",
       "      <td>0.766815</td>\n",
       "    </tr>\n",
       "    <tr>\n",
       "      <th>2019-01-28 13:58:38.575158119</th>\n",
       "      <td>-2859.802000</td>\n",
       "      <td>1787.398000</td>\n",
       "      <td>2460.598000</td>\n",
       "      <td>0.873468</td>\n",
       "    </tr>\n",
       "    <tr>\n",
       "      <th>2019-01-28 13:58:38.578454971</th>\n",
       "      <td>1610.729667</td>\n",
       "      <td>22144.329667</td>\n",
       "      <td>31736.763000</td>\n",
       "      <td>0.681590</td>\n",
       "    </tr>\n",
       "    <tr>\n",
       "      <th>2019-01-28 13:58:38.581525087</th>\n",
       "      <td>236.633333</td>\n",
       "      <td>20979.233333</td>\n",
       "      <td>27397.166667</td>\n",
       "      <td>0.763704</td>\n",
       "    </tr>\n",
       "    <tr>\n",
       "      <th>2019-01-28 13:58:38.585608006</th>\n",
       "      <td>-521.766667</td>\n",
       "      <td>19737.233333</td>\n",
       "      <td>26656.566667</td>\n",
       "      <td>0.745410</td>\n",
       "    </tr>\n",
       "    <tr>\n",
       "      <th>2019-01-28 13:58:38.588908911</th>\n",
       "      <td>726.629000</td>\n",
       "      <td>22157.229000</td>\n",
       "      <td>30220.662333</td>\n",
       "      <td>0.726608</td>\n",
       "    </tr>\n",
       "    <tr>\n",
       "      <th>2019-01-28 13:58:38.592838049</th>\n",
       "      <td>996.433333</td>\n",
       "      <td>18694.633333</td>\n",
       "      <td>26424.166667</td>\n",
       "      <td>0.696020</td>\n",
       "    </tr>\n",
       "    <tr>\n",
       "      <th>2019-01-28 13:58:38.596101999</th>\n",
       "      <td>352.387000</td>\n",
       "      <td>19080.587000</td>\n",
       "      <td>26642.620333</td>\n",
       "      <td>0.712363</td>\n",
       "    </tr>\n",
       "    <tr>\n",
       "      <th>2019-01-28 13:58:38.599983931</th>\n",
       "      <td>1155.600667</td>\n",
       "      <td>22998.000667</td>\n",
       "      <td>29391.234000</td>\n",
       "      <td>0.773576</td>\n",
       "    </tr>\n",
       "    <tr>\n",
       "      <th>2019-01-28 13:58:38.603538990</th>\n",
       "      <td>-855.505000</td>\n",
       "      <td>19938.495000</td>\n",
       "      <td>26434.995000</td>\n",
       "      <td>0.761950</td>\n",
       "    </tr>\n",
       "    <tr>\n",
       "      <th>2019-01-28 13:58:38.606930971</th>\n",
       "      <td>527.120000</td>\n",
       "      <td>22854.120000</td>\n",
       "      <td>29635.453333</td>\n",
       "      <td>0.767031</td>\n",
       "    </tr>\n",
       "    <tr>\n",
       "      <th>2019-01-28 13:58:38.610413074</th>\n",
       "      <td>-59.055667</td>\n",
       "      <td>19764.744333</td>\n",
       "      <td>26831.711000</td>\n",
       "      <td>0.737197</td>\n",
       "    </tr>\n",
       "    <tr>\n",
       "      <th>2019-01-28 13:58:38.614783049</th>\n",
       "      <td>-422.770333</td>\n",
       "      <td>22192.029667</td>\n",
       "      <td>30051.663000</td>\n",
       "      <td>0.742091</td>\n",
       "    </tr>\n",
       "    <tr>\n",
       "      <th>2019-01-28 13:58:38.616668940</th>\n",
       "      <td>596.149333</td>\n",
       "      <td>21908.549333</td>\n",
       "      <td>30243.616000</td>\n",
       "      <td>0.718861</td>\n",
       "    </tr>\n",
       "    <tr>\n",
       "      <th>2019-01-28 13:58:38.619693995</th>\n",
       "      <td>1267.176000</td>\n",
       "      <td>21877.976000</td>\n",
       "      <td>29361.109333</td>\n",
       "      <td>0.733639</td>\n",
       "    </tr>\n",
       "    <tr>\n",
       "      <th>2019-01-28 13:58:38.622884989</th>\n",
       "      <td>-868.979000</td>\n",
       "      <td>19181.221000</td>\n",
       "      <td>27339.921000</td>\n",
       "      <td>0.710776</td>\n",
       "    </tr>\n",
       "    <tr>\n",
       "      <th>2019-01-28 13:58:38.625950098</th>\n",
       "      <td>1592.548000</td>\n",
       "      <td>20158.148000</td>\n",
       "      <td>27111.748000</td>\n",
       "      <td>0.727515</td>\n",
       "    </tr>\n",
       "    <tr>\n",
       "      <th>2019-01-28 13:58:38.629172087</th>\n",
       "      <td>828.691333</td>\n",
       "      <td>22170.891333</td>\n",
       "      <td>29590.258000</td>\n",
       "      <td>0.742039</td>\n",
       "    </tr>\n",
       "    <tr>\n",
       "      <th>2019-01-28 13:58:38.632848978</th>\n",
       "      <td>2391.346667</td>\n",
       "      <td>24970.546667</td>\n",
       "      <td>34823.413333</td>\n",
       "      <td>0.696200</td>\n",
       "    </tr>\n",
       "    <tr>\n",
       "      <th>2019-01-28 13:58:38.636307001</th>\n",
       "      <td>-557.342333</td>\n",
       "      <td>20130.457667</td>\n",
       "      <td>26286.091000</td>\n",
       "      <td>0.770684</td>\n",
       "    </tr>\n",
       "    <tr>\n",
       "      <th>2019-01-28 13:58:38.639744997</th>\n",
       "      <td>943.516000</td>\n",
       "      <td>21365.716000</td>\n",
       "      <td>27388.916000</td>\n",
       "      <td>0.772240</td>\n",
       "    </tr>\n",
       "    <tr>\n",
       "      <th>2019-01-28 13:58:38.643506050</th>\n",
       "      <td>-32.653333</td>\n",
       "      <td>18325.146667</td>\n",
       "      <td>24091.280000</td>\n",
       "      <td>0.760979</td>\n",
       "    </tr>\n",
       "    <tr>\n",
       "      <th>2019-01-28 13:58:38.645340919</th>\n",
       "      <td>133.662000</td>\n",
       "      <td>21246.862000</td>\n",
       "      <td>28999.228667</td>\n",
       "      <td>0.731432</td>\n",
       "    </tr>\n",
       "    <tr>\n",
       "      <th>2019-01-28 13:58:38.648096085</th>\n",
       "      <td>983.230667</td>\n",
       "      <td>21696.630667</td>\n",
       "      <td>27187.697333</td>\n",
       "      <td>0.790453</td>\n",
       "    </tr>\n",
       "    <tr>\n",
       "      <th>2019-01-28 13:58:38.652971029</th>\n",
       "      <td>1968.359667</td>\n",
       "      <td>21146.959667</td>\n",
       "      <td>30409.393000</td>\n",
       "      <td>0.674329</td>\n",
       "    </tr>\n",
       "  </tbody>\n",
       "</table>\n",
       "<p>187158 rows × 4 columns</p>\n",
       "</div>"
      ],
      "text/plain": [
       "                                Integral 0  Integral 1200  Integral 7400  \\\n",
       "Time                                                                       \n",
       "2019-01-28 13:48:39.542118073   883.410000   20514.210000   28022.176667   \n",
       "2019-01-28 13:48:39.543048143  1165.174333   17381.974333   22805.607667   \n",
       "2019-01-28 13:48:39.543619871   224.069333   21495.669333   29732.602667   \n",
       "2019-01-28 13:48:39.543740034 -1158.483667   16321.716333   20949.083000   \n",
       "2019-01-28 13:48:39.543851852  2350.771000   26629.571000   34578.537667   \n",
       "2019-01-28 13:48:39.544132948   303.757667   19279.357667   25409.791000   \n",
       "2019-01-28 13:48:39.545568943  -438.196667   20940.203333   28415.770000   \n",
       "2019-01-28 13:48:39.546849012  1973.329000   24344.729000   33381.629000   \n",
       "2019-01-28 13:48:39.547146082  -757.337000   20843.063000   27191.296333   \n",
       "2019-01-28 13:48:39.547241926  -255.190000   19677.610000   25777.576667   \n",
       "2019-01-28 13:48:39.547694921  1513.844333   22094.444333   30266.877667   \n",
       "2019-01-28 13:48:39.547971964   241.710000   10673.710000   17557.210000   \n",
       "2019-01-28 13:48:39.548902988  -127.789333   20274.610667   26432.677333   \n",
       "2019-01-28 13:48:39.548961878  1136.594000   20986.394000   27212.027333   \n",
       "2019-01-28 13:48:39.549292088   928.326667   19856.926667   27170.360000   \n",
       "2019-01-28 13:48:39.549403906  1440.386667   23342.386667   31338.053333   \n",
       "2019-01-28 13:48:39.549999952  -167.949333   22088.250667   28845.784000   \n",
       "2019-01-28 13:48:39.550615072   866.234667   24276.034667   32092.168000   \n",
       "2019-01-28 13:48:39.551938057 -1403.498667   20413.701333   27724.568000   \n",
       "2019-01-28 13:48:39.552767992   760.295333   20416.495333   25627.362000   \n",
       "2019-01-28 13:48:39.554142952 -2067.629333   20161.770667   47143.837333   \n",
       "2019-01-28 13:48:39.554196119  -552.236667   19981.763333   25922.596667   \n",
       "2019-01-28 13:48:39.554419041  -286.296000   21922.904000   30293.437333   \n",
       "2019-01-28 13:48:39.554970980  1271.300000   22139.900000   30304.500000   \n",
       "2019-01-28 13:48:39.555193901  2248.582667   20171.782667   27098.316000   \n",
       "2019-01-28 13:48:39.555521965   498.191667   20839.391667   27502.425000   \n",
       "2019-01-28 13:48:39.555574894 -1288.586667   20215.413333   27424.746667   \n",
       "2019-01-28 13:48:39.556149006  1847.956000   20853.756000   27406.722667   \n",
       "2019-01-28 13:48:39.556374073  1148.097000   20325.897000   27285.197000   \n",
       "2019-01-28 13:48:39.557818890  -243.136000   19941.264000   26594.664000   \n",
       "...                                    ...            ...            ...   \n",
       "2019-01-28 13:58:38.557151079   914.701000   23299.501000   31487.801000   \n",
       "2019-01-28 13:58:38.560015917  -470.571000   22303.829000   30278.729000   \n",
       "2019-01-28 13:58:38.562998056  2200.756667   23056.756667   31194.090000   \n",
       "2019-01-28 13:58:38.565838099 -2087.185333   17169.614667   23898.081333   \n",
       "2019-01-28 13:58:38.568442106   402.523000   22899.123000   30743.223000   \n",
       "2019-01-28 13:58:38.571546078 -1391.039000   20964.761000   27763.061000   \n",
       "2019-01-28 13:58:38.575158119 -2859.802000    1787.398000    2460.598000   \n",
       "2019-01-28 13:58:38.578454971  1610.729667   22144.329667   31736.763000   \n",
       "2019-01-28 13:58:38.581525087   236.633333   20979.233333   27397.166667   \n",
       "2019-01-28 13:58:38.585608006  -521.766667   19737.233333   26656.566667   \n",
       "2019-01-28 13:58:38.588908911   726.629000   22157.229000   30220.662333   \n",
       "2019-01-28 13:58:38.592838049   996.433333   18694.633333   26424.166667   \n",
       "2019-01-28 13:58:38.596101999   352.387000   19080.587000   26642.620333   \n",
       "2019-01-28 13:58:38.599983931  1155.600667   22998.000667   29391.234000   \n",
       "2019-01-28 13:58:38.603538990  -855.505000   19938.495000   26434.995000   \n",
       "2019-01-28 13:58:38.606930971   527.120000   22854.120000   29635.453333   \n",
       "2019-01-28 13:58:38.610413074   -59.055667   19764.744333   26831.711000   \n",
       "2019-01-28 13:58:38.614783049  -422.770333   22192.029667   30051.663000   \n",
       "2019-01-28 13:58:38.616668940   596.149333   21908.549333   30243.616000   \n",
       "2019-01-28 13:58:38.619693995  1267.176000   21877.976000   29361.109333   \n",
       "2019-01-28 13:58:38.622884989  -868.979000   19181.221000   27339.921000   \n",
       "2019-01-28 13:58:38.625950098  1592.548000   20158.148000   27111.748000   \n",
       "2019-01-28 13:58:38.629172087   828.691333   22170.891333   29590.258000   \n",
       "2019-01-28 13:58:38.632848978  2391.346667   24970.546667   34823.413333   \n",
       "2019-01-28 13:58:38.636307001  -557.342333   20130.457667   26286.091000   \n",
       "2019-01-28 13:58:38.639744997   943.516000   21365.716000   27388.916000   \n",
       "2019-01-28 13:58:38.643506050   -32.653333   18325.146667   24091.280000   \n",
       "2019-01-28 13:58:38.645340919   133.662000   21246.862000   28999.228667   \n",
       "2019-01-28 13:58:38.648096085   983.230667   21696.630667   27187.697333   \n",
       "2019-01-28 13:58:38.652971029  1968.359667   21146.959667   30409.393000   \n",
       "\n",
       "                                  ratio  \n",
       "Time                                     \n",
       "2019-01-28 13:48:39.542118073  0.723349  \n",
       "2019-01-28 13:48:39.543048143  0.749375  \n",
       "2019-01-28 13:48:39.543619871  0.720863  \n",
       "2019-01-28 13:48:39.543740034  0.790689  \n",
       "2019-01-28 13:48:39.543851852  0.753350  \n",
       "2019-01-28 13:48:39.544132948  0.755818  \n",
       "2019-01-28 13:48:39.545568943  0.740917  \n",
       "2019-01-28 13:48:39.546849012  0.712277  \n",
       "2019-01-28 13:48:39.547146082  0.772861  \n",
       "2019-01-28 13:48:39.547241926  0.765681  \n",
       "2019-01-28 13:48:39.547694921  0.715771  \n",
       "2019-01-28 13:48:39.547971964  0.602466  \n",
       "2019-01-28 13:48:39.548902988  0.768149  \n",
       "2019-01-28 13:48:39.548961878  0.761245  \n",
       "2019-01-28 13:48:39.549292088  0.721308  \n",
       "2019-01-28 13:48:39.549403906  0.732566  \n",
       "2019-01-28 13:48:39.549999952  0.767092  \n",
       "2019-01-28 13:48:39.550615072  0.749691  \n",
       "2019-01-28 13:48:39.551938057  0.749010  \n",
       "2019-01-28 13:48:39.552767992  0.790451  \n",
       "2019-01-28 13:48:39.554142952  0.451712  \n",
       "2019-01-28 13:48:39.554196119  0.775605  \n",
       "2019-01-28 13:48:39.554419041  0.726272  \n",
       "2019-01-28 13:48:39.554970980  0.718784  \n",
       "2019-01-28 13:48:39.555193901  0.721263  \n",
       "2019-01-28 13:48:39.555521965  0.753260  \n",
       "2019-01-28 13:48:39.555574894  0.748920  \n",
       "2019-01-28 13:48:39.556149006  0.743612  \n",
       "2019-01-28 13:48:39.556374073  0.733739  \n",
       "2019-01-28 13:48:39.557818890  0.752088  \n",
       "...                                 ...  \n",
       "2019-01-28 13:58:38.557151079  0.732173  \n",
       "2019-01-28 13:58:38.560015917  0.740648  \n",
       "2019-01-28 13:58:38.562998056  0.719338  \n",
       "2019-01-28 13:58:38.565838099  0.741066  \n",
       "2019-01-28 13:58:38.568442106  0.741466  \n",
       "2019-01-28 13:58:38.571546078  0.766815  \n",
       "2019-01-28 13:58:38.575158119  0.873468  \n",
       "2019-01-28 13:58:38.578454971  0.681590  \n",
       "2019-01-28 13:58:38.581525087  0.763704  \n",
       "2019-01-28 13:58:38.585608006  0.745410  \n",
       "2019-01-28 13:58:38.588908911  0.726608  \n",
       "2019-01-28 13:58:38.592838049  0.696020  \n",
       "2019-01-28 13:58:38.596101999  0.712363  \n",
       "2019-01-28 13:58:38.599983931  0.773576  \n",
       "2019-01-28 13:58:38.603538990  0.761950  \n",
       "2019-01-28 13:58:38.606930971  0.767031  \n",
       "2019-01-28 13:58:38.610413074  0.737197  \n",
       "2019-01-28 13:58:38.614783049  0.742091  \n",
       "2019-01-28 13:58:38.616668940  0.718861  \n",
       "2019-01-28 13:58:38.619693995  0.733639  \n",
       "2019-01-28 13:58:38.622884989  0.710776  \n",
       "2019-01-28 13:58:38.625950098  0.727515  \n",
       "2019-01-28 13:58:38.629172087  0.742039  \n",
       "2019-01-28 13:58:38.632848978  0.696200  \n",
       "2019-01-28 13:58:38.636307001  0.770684  \n",
       "2019-01-28 13:58:38.639744997  0.772240  \n",
       "2019-01-28 13:58:38.643506050  0.760979  \n",
       "2019-01-28 13:58:38.645340919  0.731432  \n",
       "2019-01-28 13:58:38.648096085  0.790453  \n",
       "2019-01-28 13:58:38.652971029  0.674329  \n",
       "\n",
       "[187158 rows x 4 columns]"
      ]
     },
     "execution_count": 8,
     "metadata": {},
     "output_type": "execute_result"
    }
   ],
   "source": [
    "dfs[0]"
   ]
  },
  {
   "cell_type": "markdown",
   "metadata": {},
   "source": [
    "## Temperature Data"
   ]
  },
  {
   "cell_type": "code",
   "execution_count": 9,
   "metadata": {},
   "outputs": [],
   "source": [
    "temps = []\n",
    "for filename in os.listdir(path):\n",
    "    if filename.endswith(\".txt\"):\n",
    "        temp = pd.read_csv(path+'/'+filename, skiprows=7, sep='\\t')\n",
    "        temp['Time'] = pd.to_datetime(temp['DATE']+'-'+temp['TIME'])\n",
    "        temp.index = temp['Time']\n",
    "        temp = temp[['TEMPERATURE', 'RELATIVE-HUMIDITY', 'DEW-POINT']]\n",
    "        temps.append(temp)\n",
    "temps = sorted(temps,key=lambda x:x.index[0]) #sort by initial time"
   ]
  },
  {
   "cell_type": "markdown",
   "metadata": {},
   "source": [
    "# Preliminary Plots"
   ]
  },
  {
   "cell_type": "markdown",
   "metadata": {},
   "source": [
    "Everything below is jsut a sample from one of the two minute dataruns"
   ]
  },
  {
   "cell_type": "code",
   "execution_count": 10,
   "metadata": {},
   "outputs": [],
   "source": [
    "df = dfs[0]"
   ]
  },
  {
   "cell_type": "markdown",
   "metadata": {},
   "source": [
    "Often times, there is a negative offset such that the energy deposited before the trigger event is positive or negative."
   ]
  },
  {
   "cell_type": "code",
   "execution_count": 11,
   "metadata": {},
   "outputs": [
    {
     "data": {
      "image/png": "[encoded data removed]",
      "text/plain": [
       "<Figure size 576x360 with 1 Axes>"
      ]
     },
     "metadata": {
      "needs_background": "light"
     },
     "output_type": "display_data"
    }
   ],
   "source": [
    "fig, ax = plt.subplots(figsize=(8,5))\n",
    "\n",
    "df['Integral 0'].hist(bins=1000, ax=ax)\n",
    "ax.set_xlabel('Energy Deposited Before Pulse')\n",
    "ax.set_ylabel('Frequency')\n",
    "ax.set_title('Energy Deposited Before Pulse')\n",
    "\n",
    "plt.show()"
   ]
  },
  {
   "cell_type": "markdown",
   "metadata": {},
   "source": [
    "## Energy Ratios Sample Plot"
   ]
  },
  {
   "cell_type": "code",
   "execution_count": 12,
   "metadata": {},
   "outputs": [
    {
     "data": {
      "image/png": "[encoded data removed]",
      "text/plain": [
       "<Figure size 576x360 with 1 Axes>"
      ]
     },
     "metadata": {
      "needs_background": "light"
     },
     "output_type": "display_data"
    }
   ],
   "source": [
    "fig, ax = plt.subplots(figsize=(8,5))\n",
    "\n",
    "df['ratio'].hist(bins=500, ax=ax)\n",
    "\n",
    "ax.set_xlim(0,1)\n",
    "ax.set_xlabel('Ratio of Energies 1.2$\\mu$s & 7.4$\\mu$s')\n",
    "ax.set_ylabel('Frequency')\n",
    "ax.set_title('Energy Ratio of Particles')\n",
    "plt.show()"
   ]
  },
  {
   "cell_type": "markdown",
   "metadata": {},
   "source": [
    "## Energy Deposited Sample Plot"
   ]
  },
  {
   "cell_type": "code",
   "execution_count": 13,
   "metadata": {},
   "outputs": [
    {
     "data": {
      "image/png": "[encoded data removed]",
      "text/plain": [
       "<Figure size 576x360 with 1 Axes>"
      ]
     },
     "metadata": {
      "needs_background": "light"
     },
     "output_type": "display_data"
    }
   ],
   "source": [
    "fig, ax = plt.subplots(figsize=(8,5))\n",
    "\n",
    "df['Integral 7400'].hist(bins=1000, ax=ax)\n",
    "ax.set_xlabel('Energy Deposited After 7.4$\\mu s$ [arb]')\n",
    "ax.set_ylabel('Frequency')\n",
    "ax.set_title('Energy Deposited by Particles')\n",
    "\n",
    "plt.show()"
   ]
  },
  {
   "cell_type": "markdown",
   "metadata": {},
   "source": [
    "## 2D Histogram Sample Plot"
   ]
  },
  {
   "cell_type": "code",
   "execution_count": 14,
   "metadata": {},
   "outputs": [
    {
     "data": {
      "image/png": "[encoded data removed]",
      "text/plain": [
       "<Figure size 576x360 with 2 Axes>"
      ]
     },
     "metadata": {
      "needs_background": "light"
     },
     "output_type": "display_data"
    }
   ],
   "source": [
    "fig, ax = plt.subplots(figsize=(8,5))\n",
    "\n",
    "p = ax.hist2d(df['Integral 7400'].values, df['ratio'].values,\n",
    "          range=np.array([(0, 100000), (0.2, 0.9)]), bins=100, cmap='Purples')\n",
    "\n",
    "fig.colorbar(p[3], ax=ax)\n",
    "ax.set_xlabel('Energy Deposited after 7.4$\\mu$s [arb]')\n",
    "ax.set_ylabel('Ratio of Energies 1.2$\\mu$s & 7.4$\\mu$s')\n",
    "\n",
    "plt.show()"
   ]
  },
  {
   "cell_type": "markdown",
   "metadata": {},
   "source": [
    "## Fitting Methods to Find the Mode"
   ]
  },
  {
   "cell_type": "markdown",
   "metadata": {},
   "source": [
    "Fit the histogram data between 0.75 and 0.8."
   ]
  },
  {
   "cell_type": "code",
   "execution_count": 15,
   "metadata": {},
   "outputs": [],
   "source": [
    "x, h, popt, pcov = Functions.mode_ratio_demo(df, mode_lwr, mode_upr)"
   ]
  },
  {
   "cell_type": "markdown",
   "metadata": {},
   "source": [
    "Initial Plot."
   ]
  },
  {
   "cell_type": "code",
   "execution_count": 16,
   "metadata": {},
   "outputs": [
    {
     "data": {
      "image/png": "[encoded data removed]",
      "text/plain": [
       "<Figure size 432x288 with 1 Axes>"
      ]
     },
     "metadata": {
      "needs_background": "light"
     },
     "output_type": "display_data"
    }
   ],
   "source": [
    "fig, ax = plt.subplots()\n",
    "\n",
    "ax.plot(x,h)\n",
    "ax.plot(x,Functions.norm(x, popt[0], popt[1], popt[2]), label='Fit')\n",
    "\n",
    "#ax.set_ylim(0, 400)\n",
    "ax.grid()"
   ]
  },
  {
   "cell_type": "markdown",
   "metadata": {},
   "source": [
    "Do plotting:"
   ]
  },
  {
   "cell_type": "code",
   "execution_count": 17,
   "metadata": {},
   "outputs": [
    {
     "data": {
      "image/png": "[encoded data removed]",
      "text/plain": [
       "<Figure size 576x360 with 1 Axes>"
      ]
     },
     "metadata": {
      "needs_background": "light"
     },
     "output_type": "display_data"
    }
   ],
   "source": [
    "fig, ax = plt.subplots(figsize=(8,5))\n",
    "\n",
    "y= df['ratio'].hist(bins=500, ax=ax)\n",
    "ax.plot(x,Functions.norm(x, popt[0], popt[1], popt[2]), label='Fit')\n",
    "\n",
    "ax.set_xlim(0.7,0.9)\n",
    "plt.show()"
   ]
  },
  {
   "cell_type": "markdown",
   "metadata": {},
   "source": [
    "# Automation"
   ]
  },
  {
   "cell_type": "markdown",
   "metadata": {},
   "source": [
    "Now we fit the curve for all histograms. Rather than showing the fitted curve with the histogram, we show the mean and standard deviation as bars."
   ]
  },
  {
   "cell_type": "code",
   "execution_count": 18,
   "metadata": {},
   "outputs": [
    {
     "data": {
      "image/png": "[encoded data removed]",
      "text/plain": [
       "<Figure size 720x360 with 1 Axes>"
      ]
     },
     "metadata": {
      "needs_background": "light"
     },
     "output_type": "display_data"
    },
    {
     "data": {
      "image/png": "[encoded data removed]",
      "text/plain": [
       "<Figure size 720x360 with 1 Axes>"
      ]
     },
     "metadata": {
      "needs_background": "light"
     },
     "output_type": "display_data"
    }
   ],
   "source": [
    "params = [Functions.mode_ratio(df,mode_lwr, mode_upr) for df in dfs]\n",
    "\n",
    "for i in range(num_runs):\n",
    "    df, param = dfs[i], params[i]\n",
    "\n",
    "    fig, ax = plt.subplots(1, 1, figsize=(10,5))\n",
    "    Functions.create_plots(df=df, params=param, run_num=i+1, ax=ax, date=date)\n",
    "    plt.show()"
   ]
  },
  {
   "cell_type": "markdown",
   "metadata": {},
   "source": [
    "# Temperature Stuff"
   ]
  },
  {
   "cell_type": "markdown",
   "metadata": {},
   "source": [
    "## Create plots of Temperature During Data Runs and Save"
   ]
  },
  {
   "cell_type": "markdown",
   "metadata": {},
   "source": [
    "The red regions signify times when data is being collected."
   ]
  },
  {
   "cell_type": "code",
   "execution_count": 19,
   "metadata": {},
   "outputs": [
    {
     "data": {
      "image/png": "[encoded data removed]",
      "text/plain": [
       "<Figure size 936x1080 with 2 Axes>"
      ]
     },
     "metadata": {
      "needs_background": "light"
     },
     "output_type": "display_data"
    }
   ],
   "source": [
    "fig, ax = plt.subplots(num_runs, 1, figsize=(13,15))\n",
    "\n",
    "for i in range(num_runs):\n",
    "    ax[i].plot(temps[i]['TEMPERATURE'])\n",
    "\n",
    "[ax[i].axvspan(begins[i], ends[i], alpha=0.1, color='red') for i in range(num_runs)] \n",
    "\n",
    "xfmt = mdates.DateFormatter('%H:%M:%S')\n",
    "[a.xaxis.set_major_formatter(xfmt) for a in ax]\n",
    "\n",
    "for (i, a) in enumerate(ax):\n",
    "    a.set_title(date+'_temp_run'+str(i+1))\n",
    "[a.set_ylabel('Temperature ($^\\circ C$)') for a in ax]\n",
    "[a.set_xlabel('Time (Hours)') for a in ax]\n",
    "[a.grid() for a  in ax]\n",
    "\n",
    "plt.savefig('plots/temp_runs/'+date+'.png', dpi=300)\n",
    "plt.show()"
   ]
  },
  {
   "cell_type": "markdown",
   "metadata": {},
   "source": [
    "## Find Mean and STD Temperature During each of the Red Bars"
   ]
  },
  {
   "cell_type": "markdown",
   "metadata": {},
   "source": [
    "Now we take the mean and standard deviation of the temperature values per data run. These will be used as data points in the final plot \"mean energy ratio as a function of temperature.\""
   ]
  },
  {
   "cell_type": "code",
   "execution_count": 20,
   "metadata": {},
   "outputs": [],
   "source": [
    "all_temps = pd.concat(temps)"
   ]
  },
  {
   "cell_type": "markdown",
   "metadata": {},
   "source": [
    "Get the data and the errors."
   ]
  },
  {
   "cell_type": "code",
   "execution_count": 21,
   "metadata": {},
   "outputs": [],
   "source": [
    "data = [Functions.compute_datapoint(df, all_temps, mode_lwr, mode_upr) for df in dfs]\n",
    "\n",
    "tmps = np.array([data[i][0][0] for i in range(len(data))])\n",
    "ratios = np.array([data[i][0][1] for i in range(len(data))])\n",
    "tmps_err =np.array([data[i][1][0] for i in range(len(data))])\n",
    "ratios_err =np.array([data[i][1][1] for i in range(len(data))])"
   ]
  },
  {
   "cell_type": "markdown",
   "metadata": {},
   "source": [
    "Do a linear fit on the data, with errors at 95% confidence"
   ]
  },
  {
   "cell_type": "code",
   "execution_count": 22,
   "metadata": {},
   "outputs": [
    {
     "name": "stderr",
     "output_type": "stream",
     "text": [
      "/Users/lukepolson/anaconda3/lib/python3.6/site-packages/scipy/optimize/minpack.py:794: OptimizeWarning: Covariance of the parameters could not be estimated\n",
      "  category=OptimizeWarning)\n"
     ]
    }
   ],
   "source": [
    "def func(x, a, b):\n",
    "    return a+b*x\n",
    "\n",
    "[a, b], pcov = curve_fit(func, tmps, ratios)\n",
    "perr = np.sqrt(np.diag(pcov))\n",
    "[del_a, del_b] = sp.stats.t.ppf(1-0.05/2, len(tmps)-2)*perr\n",
    "\n",
    "lin_fit = a+b*tmps\n",
    "lin_fit_upr = (a-del_a)+(b+del_b)*tmps\n",
    "lin_fit_lwr = (a+del_a)+(b-del_b)*tmps"
   ]
  },
  {
   "cell_type": "markdown",
   "metadata": {},
   "source": [
    "Sample final plot..."
   ]
  },
  {
   "cell_type": "code",
   "execution_count": 23,
   "metadata": {},
   "outputs": [
    {
     "data": {
      "image/png": "[encoded data removed]",
      "text/plain": [
       "<Figure size 720x432 with 1 Axes>"
      ]
     },
     "metadata": {
      "needs_background": "light"
     },
     "output_type": "display_data"
    }
   ],
   "source": [
    "fig, ax = plt.subplots(figsize=(10,6))\n",
    "\n",
    "#Data\n",
    "plt_d = ax.scatter(tmps, ratios, color='k', label='Data Points')\n",
    "plt_de = ax.errorbar(tmps, ratios, xerr=tmps_err, yerr=ratios_err, linestyle='', alpha=0.4, label='Standard Error')\n",
    "\n",
    "#Fitting\n",
    "plt_lf, = ax.plot(tmps, lin_fit, color='r', label='Linear Fit')\n",
    "plt_lfe = ax.fill_between(tmps, lin_fit_lwr, lin_fit_upr, color='r', alpha=0.1, label='95% CI for Linear Fit')\n",
    "\n",
    "#Other\n",
    "#ax.set_ylim(0.792, 0.805)\n",
    "\n",
    "ax.set_xlabel('Temperature ($^\\circ C$)')\n",
    "ax.set_ylabel('Ratio of Energies 1.2$\\mu$s & 7.4$\\mu$s')\n",
    "fig.suptitle('Energy Deposition Speed as a Function of Temperature', fontsize=16)\n",
    "\n",
    "plt.minorticks_on()\n",
    "ax.grid(b=True, which='major', color='k', linestyle='-', alpha=0.4)\n",
    "ax.grid(b=True, which='minor', color='k', linestyle='--', alpha=0.1)\n",
    "\n",
    "#Legends\n",
    "first_legend = plt.legend(handles=[plt_d, plt_de], loc=1)\n",
    "second_legend = plt.legend(handles=[plt_lf, plt_lfe], loc=2)\n",
    "ax = plt.gca().add_artist(first_legend)\n",
    "\n",
    "fig.tight_layout()\n",
    "fig.subplots_adjust(top=0.92)\n",
    "plt.savefig('plots/sample_final_plot.png', dpi=600)\n",
    "plt.show()\n"
   ]
  }
 ],
 "metadata": {
  "kernelspec": {
   "display_name": "Python 3",
   "language": "python",
   "name": "python3"
  },
  "language_info": {
   "codemirror_mode": {
    "name": "ipython",
    "version": 3
   },
   "file_extension": ".py",
   "mimetype": "text/x-python",
   "name": "python",
   "nbconvert_exporter": "python",
   "pygments_lexer": "ipython3",
   "version": "3.6.7"
  }
 },
 "nbformat": 4,
 "nbformat_minor": 2
}
