{
 "cells": [
  {
   "cell_type": "markdown",
   "metadata": {},
   "source": [
    "<h1 id=\"tocheading\">Table of Contents and Notebook Setup</h1>\n",
    "<div id=\"toc\"></div>"
   ]
  },
  {
   "cell_type": "code",
   "execution_count": 1,
   "metadata": {},
   "outputs": [
    {
     "data": {
      "application/javascript": [
       "$.getScript('https://kmahelona.github.io/ipython_notebook_goodies/ipython_notebook_toc.js')"
      ],
      "text/plain": [
       "<IPython.core.display.Javascript object>"
      ]
     },
     "metadata": {},
     "output_type": "display_data"
    }
   ],
   "source": [
    "%%javascript\n",
    "$.getScript('https://kmahelona.github.io/ipython_notebook_goodies/ipython_notebook_toc.js')"
   ]
  },
  {
   "cell_type": "code",
   "execution_count": 2,
   "metadata": {},
   "outputs": [
    {
     "name": "stdout",
     "output_type": "stream",
     "text": [
      "importing Jupyter notebook from Functions.ipynb\n"
     ]
    }
   ],
   "source": [
    "import os\n",
    "import numpy as np\n",
    "import matplotlib.pyplot as plt\n",
    "import matplotlib.mlab as mlab\n",
    "import matplotlib.dates as mdates\n",
    "import pandas as pd\n",
    "import scipy as sp\n",
    "from scipy.stats import norm\n",
    "from scipy.optimize import curve_fit\n",
    "from scipy import stats\n",
    "from datetime import timedelta, datetime\n",
    "import sympy as smp\n",
    "from IPython.display import display, Math\n",
    "\n",
    "# My own functions\n",
    "import import_ipynb\n",
    "import Functions\n",
    "\n",
    "plt.ioff()\n",
    "smp.init_printing()"
   ]
  },
  {
   "cell_type": "code",
   "execution_count": 3,
   "metadata": {},
   "outputs": [],
   "source": [
    "dates = ['jan_28_2019', 'jan_30_2019', 'jan_31_2019', 'feb_1_2019',\n",
    "         'feb_4_2019', 'feb_5_2019', 'feb_7_2019', 'feb_8_2019']"
   ]
  },
  {
   "cell_type": "markdown",
   "metadata": {},
   "source": [
    "# Open DataFrames"
   ]
  },
  {
   "cell_type": "code",
   "execution_count": 4,
   "metadata": {},
   "outputs": [],
   "source": [
    "upper_int = 100000\n",
    "lower_int = 0\n",
    "\n",
    "mode_std = 0.015"
   ]
  },
  {
   "cell_type": "markdown",
   "metadata": {},
   "source": [
    "## Pulse Data"
   ]
  },
  {
   "cell_type": "code",
   "execution_count": 5,
   "metadata": {},
   "outputs": [],
   "source": [
    "dfs = []\n",
    "paths = ['datafiles/'+date for date in dates]\n",
    "for path in paths:\n",
    "    for filename in os.listdir(path):\n",
    "        if filename.endswith(\".csv\"):\n",
    "            df = pd.read_csv(path+'/'+filename, sep=',', index_col=0).astype(float)\n",
    "            df['ratio']=(df['Integral 1200']-df['Integral 0'])/(df['Integral 7400']-df['Integral 0'])\n",
    "            df.index = pd.to_datetime(df.index,unit='s')-timedelta(hours=7)\n",
    "        \n",
    "            df = df[(df['ratio']<1) & (df['ratio']>0)] #should not have to do this\n",
    "            df = df[(df['Integral 7400']<upper_int) & (df['Integral 7400']>lower_int)] #should not have to do this\n",
    "            dfs.append(df)\n",
    "\n",
    "dfs = sorted(dfs,key=lambda x:x.index[0]) #sort by initial time"
   ]
  },
  {
   "cell_type": "markdown",
   "metadata": {},
   "source": [
    "## Temperature Data"
   ]
  },
  {
   "cell_type": "code",
   "execution_count": 6,
   "metadata": {},
   "outputs": [],
   "source": [
    "temps = []\n",
    "for path in paths:\n",
    "    for filename in os.listdir(path):\n",
    "        if filename.endswith(\".txt\"):\n",
    "            temp = pd.read_csv(path+'/'+filename, skiprows=7, sep='\\t')\n",
    "            temp['Time'] = pd.to_datetime(temp['DATE']+'-'+temp['TIME'])\n",
    "            temp.index = temp['Time']\n",
    "            temp = temp[['TEMPERATURE', 'RELATIVE-HUMIDITY', 'DEW-POINT']]\n",
    "            temps.append(temp)\n",
    "temps = sorted(temps,key=lambda x:x.index[0]) #sort by initial time"
   ]
  },
  {
   "cell_type": "markdown",
   "metadata": {},
   "source": [
    "# Temperature Stuff"
   ]
  },
  {
   "cell_type": "markdown",
   "metadata": {},
   "source": [
    "## Find Mean and STD Temperature During each of the Red Bars"
   ]
  },
  {
   "cell_type": "code",
   "execution_count": 7,
   "metadata": {},
   "outputs": [],
   "source": [
    "all_temps = pd.concat(temps)"
   ]
  },
  {
   "cell_type": "markdown",
   "metadata": {},
   "source": [
    "Get the data and the errors. This uses the compute_datapoint function defined in the Functions notebook which takes in a dataframe and all the temperatures, and computes temperature values, ratio values, temperature errors, and ratio errors."
   ]
  },
  {
   "cell_type": "markdown",
   "metadata": {},
   "source": [
    "## Ratios"
   ]
  },
  {
   "cell_type": "code",
   "execution_count": 8,
   "metadata": {},
   "outputs": [],
   "source": [
    "data = [Functions.compute_datapoint(df, all_temps, mode_std) for df in dfs]\n",
    "\n",
    "temps = np.array([data[i][0][0] for i in range(len(data))])\n",
    "ratios = np.array([data[i][0][1] for i in range(len(data))])\n",
    "temps_err =np.array([data[i][1][0] for i in range(len(data))])\n",
    "ratios_err =np.array([data[i][1][1] for i in range(len(data))])\n",
    "\n",
    "lin_minmax = np.array([min(temps), max(temps)])"
   ]
  },
  {
   "cell_type": "code",
   "execution_count": 9,
   "metadata": {},
   "outputs": [
    {
     "data": {
      "text/plain": [
       "<matplotlib.collections.PathCollection at 0x29ddee8ec88>"
      ]
     },
     "execution_count": 9,
     "metadata": {},
     "output_type": "execute_result"
    },
    {
     "data": {
      "image/png": "[encoded data removed]",
      "text/plain": [
       "<Figure size 432x288 with 1 Axes>"
      ]
     },
     "metadata": {},
     "output_type": "display_data"
    }
   ],
   "source": [
    "plt.scatter(temps, ratios)"
   ]
  },
  {
   "cell_type": "markdown",
   "metadata": {},
   "source": [
    "## Total Energys"
   ]
  },
  {
   "cell_type": "code",
   "execution_count": 10,
   "metadata": {},
   "outputs": [],
   "source": [
    "data = [Functions.compute_datapoint_energy(df, all_temps, mode_std = 1500) for df in dfs]\n",
    "\n",
    "tmps = np.array([data[i][0][0] for i in range(len(data))])\n",
    "energys = np.array([data[i][0][1] for i in range(len(data))])\n",
    "tmps_err =np.array([data[i][1][0] for i in range(len(data))])\n",
    "energys_err =np.array([data[i][1][1] for i in range(len(data))])"
   ]
  },
  {
   "cell_type": "code",
   "execution_count": 11,
   "metadata": {},
   "outputs": [
    {
     "data": {
      "text/plain": [
       "<matplotlib.collections.PathCollection at 0x29da34ffdd8>"
      ]
     },
     "execution_count": 11,
     "metadata": {},
     "output_type": "execute_result"
    },
    {
     "data": {
      "image/png": "[encoded data removed]",
      "text/plain": [
       "<Figure size 432x288 with 1 Axes>"
      ]
     },
     "metadata": {},
     "output_type": "display_data"
    }
   ],
   "source": [
    "plt.scatter(tmps, energys)"
   ]
  },
  {
   "cell_type": "code",
   "execution_count": 12,
   "metadata": {},
   "outputs": [
    {
     "data": {
      "text/plain": [
       "<matplotlib.lines.Line2D at 0x29da3570080>"
      ]
     },
     "execution_count": 12,
     "metadata": {},
     "output_type": "execute_result"
    },
    {
     "data": {
      "image/png": "[encoded data removed]",
      "text/plain": [
       "<Figure size 576x288 with 1 Axes>"
      ]
     },
     "metadata": {},
     "output_type": "display_data"
    }
   ],
   "source": [
    "i = 21\n",
    "fig, ax = plt.subplots(1, 1, figsize=(8,4))\n",
    "\n",
    "dfs[i]['Integral 7400'].hist(bins=500)\n",
    "\n",
    "ax.set_xlim(20000, 40000)\n",
    "ax.axvline(energys[i], color='k')\n"
   ]
  },
  {
   "cell_type": "markdown",
   "metadata": {},
   "source": [
    "Do a linear fit on the data, with errors at 95% confidence"
   ]
  },
  {
   "cell_type": "code",
   "execution_count": 13,
   "metadata": {},
   "outputs": [],
   "source": [
    "def func(x, a, b):\n",
    "    return a+b*x\n",
    "\n",
    "[a, b], pcov = curve_fit(func, temps, ratios)\n",
    "perr = np.sqrt(np.diag(pcov))\n",
    "[del_a, del_b] = sp.stats.t.ppf(1-0.05/2, len(temps)-2)*perr\n",
    "\n",
    "lin_fit = a+b*lin_minmax\n",
    "lin_fit_upr = (a-del_a)+(b+del_b)*lin_minmax\n",
    "lin_fit_lwr = (a+del_a)+(b-del_b)*lin_minmax"
   ]
  },
  {
   "cell_type": "markdown",
   "metadata": {},
   "source": [
    "Sample final plot..."
   ]
  },
  {
   "cell_type": "code",
   "execution_count": 14,
   "metadata": {},
   "outputs": [
    {
     "data": {
      "image/png": "[encoded data removed]",
      "text/plain": [
       "<Figure size 576x288 with 1 Axes>"
      ]
     },
     "metadata": {},
     "output_type": "display_data"
    }
   ],
   "source": [
    "fig, ax = plt.subplots(figsize=(8,4))\n",
    "\n",
    "#Data\n",
    "plt_d = ax.scatter(temps, ratios, color='k', label='Data Points')\n",
    "#plt_de = ax.errorbar(temps, ratios, xerr=temps_err, yerr=ratios_err, linestyle='', alpha=0.4, label='Standard Error')\n",
    "\n",
    "#Fitting\n",
    "plt_lf, = ax.plot(lin_minmax, lin_fit, color='r', label='Linear Fit')\n",
    "plt_lfe = ax.fill_between(lin_minmax, lin_fit_lwr, lin_fit_upr, color='r', alpha=0.1, label='95% CI for Linear Fit')\n",
    "\n",
    "ax.set_xlabel('Temperature ($^\\circ C$)')\n",
    "ax.set_ylabel('E(1.2$\\mu$s)/E(7.4$\\mu$s)')\n",
    "ax.set_title('Energy Deposition Speed as a Function of Temperature', fontsize=16)\n",
    "\n",
    "plt.minorticks_on()\n",
    "ax.grid(b=True, which='major', color='k', linestyle='-', alpha=0.4)\n",
    "ax.grid(b=True, which='minor', color='k', linestyle='--', alpha=0.1)\n",
    "\n",
    "#Legends\n",
    "#first_legend = plt.legend(handles=[plt_d, plt_de], loc=1)\n",
    "second_legend = plt.legend(handles=[plt_lf, plt_lfe], loc=2)\n",
    "#ax = plt.gca().add_artist(first_legend)\n",
    "\n",
    "\n",
    "fig.tight_layout()\n",
    "fig.subplots_adjust(top=0.92)\n",
    "plt.savefig('plots/sample_final_plot.png', dpi=600)\n",
    "plt.show()"
   ]
  },
  {
   "cell_type": "code",
   "execution_count": 15,
   "metadata": {},
   "outputs": [
    {
     "data": {
      "image/png": "[encoded data removed]",
      "text/latex": [
       "$$0.707830561607248$$"
      ],
      "text/plain": [
       "0.707830561607248"
      ]
     },
     "execution_count": 15,
     "metadata": {},
     "output_type": "execute_result"
    }
   ],
   "source": [
    "a"
   ]
  },
  {
   "cell_type": "code",
   "execution_count": 16,
   "metadata": {},
   "outputs": [
    {
     "data": {
      "image/png": "[encoded data removed]",
      "text/latex": [
       "$$0.0016482646047151698$$"
      ],
      "text/plain": [
       "0.0016482646047151698"
      ]
     },
     "execution_count": 16,
     "metadata": {},
     "output_type": "execute_result"
    }
   ],
   "source": [
    "b"
   ]
  },
  {
   "cell_type": "code",
   "execution_count": 17,
   "metadata": {},
   "outputs": [
    {
     "data": {
      "image/png": "[encoded data removed]",
      "text/latex": [
       "$$0.0023745971717549713$$"
      ],
      "text/plain": [
       "0.0023745971717549713"
      ]
     },
     "execution_count": 17,
     "metadata": {},
     "output_type": "execute_result"
    }
   ],
   "source": [
    "del_a"
   ]
  },
  {
   "cell_type": "code",
   "execution_count": 18,
   "metadata": {},
   "outputs": [
    {
     "data": {
      "image/png": "[encoded data removed]",
      "text/latex": [
       "$$9.895359668594286e-05$$"
      ],
      "text/plain": [
       "9.895359668594286e-05"
      ]
     },
     "execution_count": 18,
     "metadata": {},
     "output_type": "execute_result"
    }
   ],
   "source": [
    "del_b"
   ]
  }
 ],
 "metadata": {
  "kernelspec": {
   "display_name": "Python 3",
   "language": "python",
   "name": "python3"
  },
  "language_info": {
   "codemirror_mode": {
    "name": "ipython",
    "version": 3
   },
   "file_extension": ".py",
   "mimetype": "text/x-python",
   "name": "python",
   "nbconvert_exporter": "python",
   "pygments_lexer": "ipython3",
   "version": "3.6.5"
  }
 },
 "nbformat": 4,
 "nbformat_minor": 2
}
