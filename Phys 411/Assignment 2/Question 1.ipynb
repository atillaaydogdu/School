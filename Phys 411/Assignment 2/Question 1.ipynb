{
 "cells": [
  {
   "cell_type": "markdown",
   "metadata": {},
   "source": [
    "<h1 id=\"tocheading\">Table of Contents and Notebook Setup</h1>\n",
    "<div id=\"toc\"></div>"
   ]
  },
  {
   "cell_type": "code",
   "execution_count": 1,
   "metadata": {},
   "outputs": [
    {
     "data": {
      "application/javascript": [
       "$.getScript('https://kmahelona.github.io/ipython_notebook_goodies/ipython_notebook_toc.js')"
      ],
      "text/plain": [
       "<IPython.core.display.Javascript object>"
      ]
     },
     "metadata": {},
     "output_type": "display_data"
    }
   ],
   "source": [
    "%%javascript\n",
    "$.getScript('https://kmahelona.github.io/ipython_notebook_goodies/ipython_notebook_toc.js')"
   ]
  },
  {
   "cell_type": "code",
   "execution_count": 2,
   "metadata": {},
   "outputs": [],
   "source": [
    "import pandas as pd\n",
    "import numpy as np\n",
    "import matplotlib.pyplot as plt\n",
    "import scipy as sp\n",
    "from scipy.optimize import curve_fit\n",
    "from datetime import timedelta, datetime\n",
    "from scipy import stats"
   ]
  },
  {
   "cell_type": "markdown",
   "metadata": {},
   "source": [
    "# Loading Data"
   ]
  },
  {
   "cell_type": "code",
   "execution_count": 3,
   "metadata": {},
   "outputs": [],
   "source": [
    "df = pd.read_csv('WindWaveData.txt', sep='\\s+', names=['Wind Speed (m/s)','Wave Height (m)' ])"
   ]
  },
  {
   "cell_type": "code",
   "execution_count": 4,
   "metadata": {},
   "outputs": [
    {
     "data": {
      "text/html": [
       "<div>\n",
       "<style>\n",
       "    .dataframe thead tr:only-child th {\n",
       "        text-align: right;\n",
       "    }\n",
       "\n",
       "    .dataframe thead th {\n",
       "        text-align: left;\n",
       "    }\n",
       "\n",
       "    .dataframe tbody tr th {\n",
       "        vertical-align: top;\n",
       "    }\n",
       "</style>\n",
       "<table border=\"1\" class=\"dataframe\">\n",
       "  <thead>\n",
       "    <tr style=\"text-align: right;\">\n",
       "      <th></th>\n",
       "      <th>Wind Speed (m/s)</th>\n",
       "      <th>Wave Height (m)</th>\n",
       "    </tr>\n",
       "  </thead>\n",
       "  <tbody>\n",
       "    <tr>\n",
       "      <th>0</th>\n",
       "      <td>10.02</td>\n",
       "      <td>2.61</td>\n",
       "    </tr>\n",
       "    <tr>\n",
       "      <th>1</th>\n",
       "      <td>10.15</td>\n",
       "      <td>2.61</td>\n",
       "    </tr>\n",
       "    <tr>\n",
       "      <th>2</th>\n",
       "      <td>10.01</td>\n",
       "      <td>2.65</td>\n",
       "    </tr>\n",
       "    <tr>\n",
       "      <th>3</th>\n",
       "      <td>10.36</td>\n",
       "      <td>2.64</td>\n",
       "    </tr>\n",
       "    <tr>\n",
       "      <th>4</th>\n",
       "      <td>10.56</td>\n",
       "      <td>2.61</td>\n",
       "    </tr>\n",
       "  </tbody>\n",
       "</table>\n",
       "</div>"
      ],
      "text/plain": [
       "   Wind Speed (m/s)  Wave Height (m)\n",
       "0             10.02             2.61\n",
       "1             10.15             2.61\n",
       "2             10.01             2.65\n",
       "3             10.36             2.64\n",
       "4             10.56             2.61"
      ]
     },
     "metadata": {},
     "output_type": "display_data"
    }
   ],
   "source": [
    "display(df.head())"
   ]
  },
  {
   "cell_type": "code",
   "execution_count": 5,
   "metadata": {},
   "outputs": [],
   "source": [
    "wind = df['Wind Speed (m/s)']\n",
    "wave = df['Wave Height (m)']"
   ]
  },
  {
   "cell_type": "markdown",
   "metadata": {},
   "source": [
    "# Functions Used in This Code"
   ]
  },
  {
   "cell_type": "markdown",
   "metadata": {},
   "source": [
    "Every statistical computation used in question 1 uses the following function."
   ]
  },
  {
   "cell_type": "markdown",
   "metadata": {},
   "source": [
    "## Get Mean"
   ]
  },
  {
   "cell_type": "code",
   "execution_count": 6,
   "metadata": {},
   "outputs": [],
   "source": [
    "def mean(data):\n",
    "    tot = 0\n",
    "    for x in data:\n",
    "        tot = tot +x\n",
    "    mean= tot/(len(data))\n",
    "    return mean"
   ]
  },
  {
   "cell_type": "code",
   "execution_count": 7,
   "metadata": {},
   "outputs": [
    {
     "name": "stdout",
     "output_type": "stream",
     "text": [
      "7.9344725738396615\n"
     ]
    }
   ],
   "source": [
    "print(mean(df['Wind Speed (m/s)']))"
   ]
  },
  {
   "cell_type": "markdown",
   "metadata": {},
   "source": [
    "## Get Covariance "
   ]
  },
  {
   "cell_type": "markdown",
   "metadata": {},
   "source": [
    "Standard Deviation of X obtained through obtained through ${s_x}^2=s_{xx}$. Returns $s_{xy}$ where"
   ]
  },
  {
   "cell_type": "markdown",
   "metadata": {},
   "source": [
    "$${s_{xy}}=\\frac{1}{N-1}\\sum_{i=1}^{N} (X_i-\\bar{X})(Y_i-\\bar{Y}) $$"
   ]
  },
  {
   "cell_type": "code",
   "execution_count": 8,
   "metadata": {},
   "outputs": [],
   "source": [
    "def cov(data1, data2):\n",
    "    d1_mean = mean(data1)\n",
    "    d2_mean = mean(data2)\n",
    "    \n",
    "    tot = 0\n",
    "    for d1,d2 in zip(data1, data2):\n",
    "        tot = tot + (d1-d1_mean)*(d2-d2_mean)\n",
    "    \n",
    "    return tot/(len(data1)-1)"
   ]
  },
  {
   "cell_type": "markdown",
   "metadata": {},
   "source": [
    "### Corresponding Python Function"
   ]
  },
  {
   "cell_type": "markdown",
   "metadata": {},
   "source": [
    "The scipy equivalent of this function is"
   ]
  },
  {
   "cell_type": "code",
   "execution_count": 9,
   "metadata": {},
   "outputs": [
    {
     "data": {
      "text/plain": [
       "array([[1.30822906, 0.09984117],\n",
       "       [0.09984117, 0.07412117]])"
      ]
     },
     "execution_count": 9,
     "metadata": {},
     "output_type": "execute_result"
    }
   ],
   "source": [
    "sp.cov(wind, wave)"
   ]
  },
  {
   "cell_type": "markdown",
   "metadata": {},
   "source": [
    "Note that this returns a covariance matrix of all possible permutations of wind and wave, whereas our function only returns the covariance we are interested in (wind with wave)."
   ]
  },
  {
   "cell_type": "code",
   "execution_count": 10,
   "metadata": {},
   "outputs": [
    {
     "data": {
      "text/plain": [
       "0.09984116963455622"
      ]
     },
     "execution_count": 10,
     "metadata": {},
     "output_type": "execute_result"
    }
   ],
   "source": [
    "cov(wind, wave)"
   ]
  },
  {
   "cell_type": "markdown",
   "metadata": {},
   "source": [
    "## Get Sample Correlation Coefficient"
   ]
  },
  {
   "cell_type": "markdown",
   "metadata": {},
   "source": [
    "Returns $r_{xy}$ where"
   ]
  },
  {
   "cell_type": "markdown",
   "metadata": {},
   "source": [
    "$$r_{xy}=\\frac{s_{xy}}{s_{x}s_{y}} $$"
   ]
  },
  {
   "cell_type": "code",
   "execution_count": 11,
   "metadata": {},
   "outputs": [],
   "source": [
    "def r_xy(data1, data2):\n",
    "    s_xy = cov(data1, data2)\n",
    "    s_x = np.sqrt(cov(data1, data1))\n",
    "    s_y = np.sqrt(cov(data2, data2))\n",
    "    \n",
    "    return s_xy/(s_x*s_y)"
   ]
  },
  {
   "cell_type": "markdown",
   "metadata": {},
   "source": [
    "### Corresponding Python Function"
   ]
  },
  {
   "cell_type": "markdown",
   "metadata": {},
   "source": [
    "The numpy equivalent of this function is"
   ]
  },
  {
   "cell_type": "code",
   "execution_count": 12,
   "metadata": {},
   "outputs": [
    {
     "data": {
      "text/plain": [
       "array([[1.        , 0.32062445],\n",
       "       [0.32062445, 1.        ]])"
      ]
     },
     "execution_count": 12,
     "metadata": {},
     "output_type": "execute_result"
    }
   ],
   "source": [
    "np.corrcoef(wind, wave)"
   ]
  },
  {
   "cell_type": "markdown",
   "metadata": {},
   "source": [
    "which again returns a matrix with all possible permutations. Our function only returns the specific $r_{xy}$ we are interested in."
   ]
  },
  {
   "cell_type": "code",
   "execution_count": 13,
   "metadata": {},
   "outputs": [
    {
     "data": {
      "text/plain": [
       "0.3206244479377164"
      ]
     },
     "execution_count": 13,
     "metadata": {},
     "output_type": "execute_result"
    }
   ],
   "source": [
    "r_xy(df['Wind Speed (m/s)'], df['Wave Height (m)'])"
   ]
  },
  {
   "cell_type": "markdown",
   "metadata": {},
   "source": [
    "## Get Confidence Interval Information"
   ]
  },
  {
   "cell_type": "markdown",
   "metadata": {},
   "source": [
    "Returns the value of"
   ]
  },
  {
   "cell_type": "markdown",
   "metadata": {},
   "source": [
    "$$\\frac{\\sqrt{N-3}}{2}\\ln\\left( \\frac{1+r_{xy}}{1-r_{xy}} \\right) $$"
   ]
  },
  {
   "cell_type": "markdown",
   "metadata": {},
   "source": [
    "as its first return value and a boolean value as its second. Note that if "
   ]
  },
  {
   "cell_type": "markdown",
   "metadata": {},
   "source": [
    "$$-1.96 \\leq \\frac{\\sqrt{N-3}}{2}\\ln\\left( \\frac{1+r_{xy}}{1-r_{xy}} \\right) \\leq 1.96 $$"
   ]
  },
  {
   "cell_type": "markdown",
   "metadata": {},
   "source": [
    "then we are 95% confident that $r_{xy}$ is <b> not </b> different than zero. In general, if\n",
    "\n",
    "$$-Z_{\\alpha/2} \\leq \\frac{\\sqrt{N-3}}{2}\\ln\\left( \\frac{1+r_{xy}}{1-r_{xy}} \\right) \\leq Z_{\\alpha/2} $$"
   ]
  },
  {
   "cell_type": "markdown",
   "metadata": {},
   "source": [
    "then we are (100-$\\alpha$)% sure that $r_{xy}$ is not difference than zero. The boolean value returned is the truth value of whether or not the correlation coefficient is different than zero at the specified confidence level."
   ]
  },
  {
   "cell_type": "code",
   "execution_count": 14,
   "metadata": {},
   "outputs": [],
   "source": [
    "def diff_than_zero(data1, data2, confidence_level):\n",
    "    r = r_xy(data1, data2)\n",
    "    N = len(data1)\n",
    "    alpha = 1-confidence_level\n",
    "    \n",
    "    value = (np.sqrt(N-3)/2)*np.log((1+r)/(1-r))\n",
    "    \n",
    "    if (value >= -stats.norm.ppf(1-alpha/2) and value <= stats.norm.ppf(1-alpha/2)):\n",
    "        diff = False\n",
    "    else:\n",
    "        diff = True\n",
    "        \n",
    "    return value, diff"
   ]
  },
  {
   "cell_type": "code",
   "execution_count": 15,
   "metadata": {},
   "outputs": [
    {
     "data": {
      "text/plain": [
       "(5.083869560700614, True)"
      ]
     },
     "execution_count": 15,
     "metadata": {},
     "output_type": "execute_result"
    }
   ],
   "source": [
    "diff_than_zero(wind, wave, 0.95)"
   ]
  },
  {
   "cell_type": "markdown",
   "metadata": {},
   "source": [
    "## Parameters for Linear Fit"
   ]
  },
  {
   "cell_type": "markdown",
   "metadata": {},
   "source": [
    "Linear fit-line for a data set is given by\n",
    "\n",
    "$$\\widetilde{y}=a+bx$$\n",
    "\n",
    "This line takes in $x$ data and returns and approximate line for what $y$ would be. Note that this <i> assumes $x$ is the indendent variable </i>. The function below returns the parameters $a$ and $b$ obtained from datasets $X$ and $Y$ by the formula\n",
    "\n",
    "$$b = \\frac{\\sum X_iY_i - N\\bar{X}\\bar{Y}}{\\sum {X_i}^2-N\\bar{X}^2} \\hspace{20mm} a=\\bar{Y}-b\\bar{X}$$\n",
    "\n",
    "We can also get the uncertanties on $a$ and $b$ denoted $\\delta a$ and $\\delta b$ respectively. It can be shown that\n",
    "\n",
    "$$\\delta b = \\frac{s_{\\epsilon}}{\\sqrt{N-1}s_x}t_{\\alpha/2,N-2} \\hspace{20mm} \\delta a = \\bar{X} \\delta b $$\n",
    "\n",
    "where\n",
    "\n",
    "$$s_{\\epsilon} = \\left[\\frac{\\sum(y_i-\\widetilde{y}(x_i))^2}{N-2} \\right]^{1/2} $$"
   ]
  },
  {
   "cell_type": "code",
   "execution_count": 16,
   "metadata": {},
   "outputs": [],
   "source": [
    "def get_slope_params(data1, data2):\n",
    "    x_mean = mean(data1)\n",
    "    y_mean = mean(data2)\n",
    "    N = len(data1)\n",
    "    \n",
    "    sum_xy = 0\n",
    "    for (x, y) in zip(data1, data2):\n",
    "        sum_xy = sum_xy + x*y\n",
    "        \n",
    "    sum_xsq = 0\n",
    "    for x in data1:\n",
    "        sum_xsq = sum_xsq + x*x\n",
    "        \n",
    "    b = (sum_xy-N*x_mean*y_mean)/(sum_xsq-N*x_mean**2)\n",
    "    a = y_mean - b*x_mean\n",
    "    \n",
    "    return (a,b)\n",
    "\n",
    "# 95%\n",
    "def get_slope_params_uncertainties(data1, data2, confidence_level):\n",
    "    N = len(data1)\n",
    "    alpha = 1-confidence_level\n",
    "    a, b = get_slope_params(data1, data2)\n",
    "    y_approx = a+b*data1\n",
    "    \n",
    "    s_eps = 0\n",
    "    for (y, y_app) in zip(data2, y_approx):\n",
    "        s_eps = s_eps + (y-y_app)**2\n",
    "    s_eps = np.sqrt(s_eps/(N-2))\n",
    "    \n",
    "    s_x = np.sqrt(cov(data1, data1))\n",
    "    \n",
    "    delta_b = (1/np.sqrt(N-1))*(s_eps/s_x)*sp.stats.t.ppf(1-alpha/2, N-2)\n",
    "    delta_a = mean(data1)*delta_b\n",
    "    \n",
    "    return delta_a, delta_b"
   ]
  },
  {
   "cell_type": "markdown",
   "metadata": {},
   "source": [
    "### Corresponding Python Function"
   ]
  },
  {
   "cell_type": "markdown",
   "metadata": {},
   "source": [
    "The corresponding function we can use here is"
   ]
  },
  {
   "cell_type": "code",
   "execution_count": 17,
   "metadata": {},
   "outputs": [],
   "source": [
    "def func(x, a, b):\n",
    "    return a+b*x\n",
    "\n",
    "popt, pcov = curve_fit(func, wind, wave)"
   ]
  },
  {
   "cell_type": "markdown",
   "metadata": {},
   "source": [
    "This returns the fit parameters $a$ and $b$ in the array popt, and the <b> standard errors </b> (i.e one standard deviation) in the array pcov. To get our 95% confidence interval for a and b, we need to operate on the standard errors."
   ]
  },
  {
   "cell_type": "code",
   "execution_count": 18,
   "metadata": {},
   "outputs": [],
   "source": [
    "perr = np.sqrt(np.diag(pcov))\n",
    "[a_err, b_err] = sp.stats.t.ppf(1-0.05/2, len(wave)-2)*perr"
   ]
  },
  {
   "cell_type": "markdown",
   "metadata": {},
   "source": [
    "Lets compare how the functions above to the integrated scipy functions:"
   ]
  },
  {
   "cell_type": "markdown",
   "metadata": {},
   "source": [
    "<b> Using our functions: </b>"
   ]
  },
  {
   "cell_type": "code",
   "execution_count": 19,
   "metadata": {},
   "outputs": [
    {
     "name": "stdout",
     "output_type": "stream",
     "text": [
      "a = 1.6253867451763606\n",
      "b = 0.07631780426872134\n",
      "del_a = 0.22990503209298743\n",
      "del_b = 0.02897546496675726\n"
     ]
    }
   ],
   "source": [
    "a, b = get_slope_params(wind, wave)\n",
    "del_a, del_b = get_slope_params_uncertainties(wind, wave, 0.95)\n",
    "\n",
    "print('a = {}'.format(a))\n",
    "print('b = {}'.format(b))\n",
    "print('del_a = {}'.format(del_a))\n",
    "print('del_b = {}'.format(del_b))"
   ]
  },
  {
   "cell_type": "markdown",
   "metadata": {},
   "source": [
    "<b> Using Scipy's Functions: </b>"
   ]
  },
  {
   "cell_type": "code",
   "execution_count": 20,
   "metadata": {},
   "outputs": [
    {
     "name": "stdout",
     "output_type": "stream",
     "text": [
      "a = 1.6253867464614038\n",
      "b = 0.07631780410676446\n",
      "del_a = 0.23227150136007144\n",
      "del_b = 0.028975465266904483\n"
     ]
    }
   ],
   "source": [
    "[a, b], pcov = curve_fit(func, wind, wave)\n",
    "perr = np.sqrt(np.diag(pcov))\n",
    "[del_a, del_b] = sp.stats.t.ppf(1-0.05/2, len(wave)-2)*perr\n",
    "\n",
    "print('a = {}'.format(a))\n",
    "print('b = {}'.format(b))\n",
    "print('del_a = {}'.format(del_a))\n",
    "print('del_b = {}'.format(del_b))"
   ]
  },
  {
   "cell_type": "markdown",
   "metadata": {},
   "source": [
    "# Question 1"
   ]
  },
  {
   "cell_type": "markdown",
   "metadata": {},
   "source": [
    "All statistics functions used for answering this question have been implemented above (i.e no black box fitting method has been used)."
   ]
  },
  {
   "cell_type": "markdown",
   "metadata": {},
   "source": [
    "## Bullet Point 1"
   ]
  },
  {
   "cell_type": "markdown",
   "metadata": {},
   "source": [
    "Consider the following scatter plot of wind speeds and wave heights."
   ]
  },
  {
   "cell_type": "code",
   "execution_count": 21,
   "metadata": {},
   "outputs": [
    {
     "data": {
      "image/png": "[encoded data removed]",
      "text/plain": [
       "<Figure size 576x360 with 1 Axes>"
      ]
     },
     "metadata": {
      "needs_background": "light"
     },
     "output_type": "display_data"
    }
   ],
   "source": [
    "fig, ax = plt.subplots(figsize=(8,5))\n",
    "\n",
    "ax.scatter(wind, wave)\n",
    "\n",
    "ax.set_title('Distribution of Wind Speeds and Wave Heights')\n",
    "ax.set_xlabel('Wind Speed (m/s)')\n",
    "ax.set_ylabel('Wave Height (m)')\n",
    "\n",
    "plt.show()"
   ]
  },
  {
   "cell_type": "markdown",
   "metadata": {},
   "source": [
    "There appears to be a slight correlation between wind speed and wave height; when the wind speed increases the wave height tends to increase."
   ]
  },
  {
   "cell_type": "markdown",
   "metadata": {},
   "source": [
    "## Bullet Point 2"
   ]
  },
  {
   "cell_type": "markdown",
   "metadata": {},
   "source": [
    "The function used to calculate $r_{xy}$ (named r_xy) is defined in the section \"Get Correlation Coefficient,\" The function used for confidence interval information (named diff_than_zero) is defined in the section \"Get Confidence Interval Information.\""
   ]
  },
  {
   "cell_type": "code",
   "execution_count": 22,
   "metadata": {},
   "outputs": [
    {
     "name": "stdout",
     "output_type": "stream",
     "text": [
      "The correlation coefficient is 0.3206244479377164\n"
     ]
    }
   ],
   "source": [
    "corr_coef = r_xy(wind, wave) \n",
    "print('The correlation coefficient is {}'.format(corr_coef))"
   ]
  },
  {
   "cell_type": "markdown",
   "metadata": {},
   "source": [
    "We can compute the value of \n",
    "\n",
    "$$\\frac{\\sqrt{N-3}}{2}\\ln\\left( \\frac{1+r_{xy}}{1-r_{xy}} \\right) $$\n",
    "\n",
    "using our function diff_than_zero. We are looking for 95% confidence so we input this into our function."
   ]
  },
  {
   "cell_type": "code",
   "execution_count": 23,
   "metadata": {},
   "outputs": [
    {
     "data": {
      "text/plain": [
       "(5.083869560700614, True)"
      ]
     },
     "execution_count": 23,
     "metadata": {},
     "output_type": "execute_result"
    }
   ],
   "source": [
    "diff_than_zero(wind, wave, 0.95)"
   ]
  },
  {
   "cell_type": "markdown",
   "metadata": {},
   "source": [
    "It follows that we can claim the data have a non zero correlation coefficient with 95% certainty."
   ]
  },
  {
   "cell_type": "markdown",
   "metadata": {},
   "source": [
    "## Bullet Point 3"
   ]
  },
  {
   "cell_type": "markdown",
   "metadata": {},
   "source": [
    "Now we calculate a linear regression line using functions defined in the section \"Parameters for Linear Fit.\" It is crucial to note that analysis past this point <i> assumes that wind speed is the indepedent variable and wave height is the dependent variable. </i>"
   ]
  },
  {
   "cell_type": "code",
   "execution_count": 24,
   "metadata": {},
   "outputs": [],
   "source": [
    "a, b = get_slope_params(wind, wave)\n",
    "a_err, b_err = get_slope_params_uncertainties(wind, wave, 0.95)"
   ]
  },
  {
   "cell_type": "markdown",
   "metadata": {},
   "source": [
    "Our linear regression line is given by"
   ]
  },
  {
   "cell_type": "markdown",
   "metadata": {},
   "source": [
    "$$\\widetilde{y}=a+bx $$"
   ]
  },
  {
   "cell_type": "markdown",
   "metadata": {},
   "source": [
    "where $x$ is our wind speed data and $\\widetilde{y}$ is our approximate wave height data. $a$ and $b$ are given by"
   ]
  },
  {
   "cell_type": "code",
   "execution_count": 25,
   "metadata": {},
   "outputs": [
    {
     "name": "stdout",
     "output_type": "stream",
     "text": [
      "a = 1.6253867451763606 m\n",
      "b = 0.07631780426872134 s\n"
     ]
    }
   ],
   "source": [
    "print('a = {} m'.format(a))\n",
    "print('b = {} s'.format(b))"
   ]
  },
  {
   "cell_type": "markdown",
   "metadata": {},
   "source": [
    "A 95 percent confidence interval for b is given by $(b- \\delta b, b+\\delta b)$ as displated below"
   ]
  },
  {
   "cell_type": "code",
   "execution_count": 26,
   "metadata": {},
   "outputs": [
    {
     "name": "stdout",
     "output_type": "stream",
     "text": [
      "95% Confidence level for b: (0.047342339301964076, 0.1052932692354786)\n"
     ]
    }
   ],
   "source": [
    "print('95% Confidence level for b: ({}, {})'.format(b-b_err, b+b_err))"
   ]
  },
  {
   "cell_type": "markdown",
   "metadata": {},
   "source": [
    "## Bullet Point 4"
   ]
  },
  {
   "cell_type": "markdown",
   "metadata": {},
   "source": [
    "We now proceed to add this linear regression line to our plot."
   ]
  },
  {
   "cell_type": "code",
   "execution_count": 27,
   "metadata": {},
   "outputs": [
    {
     "data": {
      "image/png": "[encoded data removed]",
      "text/plain": [
       "<Figure size 864x504 with 1 Axes>"
      ]
     },
     "metadata": {
      "needs_background": "light"
     },
     "output_type": "display_data"
    }
   ],
   "source": [
    "wave_fit = a+b*wind\n",
    "\n",
    "fig, ax = plt.subplots(figsize=(12,7))\n",
    "\n",
    "ax.scatter(wind, wave, label='Data Points')\n",
    "ax.plot(wind, wave_fit, color='r', label='Linear Regression Line')\n",
    "\n",
    "ax.set_title('Distribution of Wind Speeds and Wave Heights')\n",
    "ax.set_xlabel('Wind Speed (m/s)')\n",
    "ax.set_ylabel('Wave Height (m)')\n",
    "ax.legend(loc='best')\n",
    "\n",
    "plt.show()"
   ]
  },
  {
   "cell_type": "markdown",
   "metadata": {},
   "source": [
    "## Bullet Point 5"
   ]
  },
  {
   "cell_type": "markdown",
   "metadata": {},
   "source": [
    "Lets now add the linear regression lines with the errors."
   ]
  },
  {
   "cell_type": "code",
   "execution_count": 28,
   "metadata": {},
   "outputs": [
    {
     "data": {
      "image/png": "[encoded data removed]",
      "text/plain": [
       "<Figure size 864x504 with 1 Axes>"
      ]
     },
     "metadata": {
      "needs_background": "light"
     },
     "output_type": "display_data"
    }
   ],
   "source": [
    "wave_fit = a+b*wind\n",
    "wave_fit_upr = (a+del_a)+(b+del_b)*wind\n",
    "wave_fit_lwr = (a-del_a)+(b-del_b)*wind\n",
    "wave_fit_LRL_upr = (a-del_a)+(b+del_b)*wind\n",
    "wave_fit_LRL_lwr = (a+del_a)+(b-del_b)*wind\n",
    "\n",
    "fig, ax = plt.subplots(figsize=(12,7))\n",
    "\n",
    "ax.scatter(wind, wave, label='Data Points')\n",
    "ax.plot(wind, wave_fit, color='r', label='Linear Regression Line (LRL)')\n",
    "ax.plot(wind, wave_fit_upr, color='g', label='95% Upper Bound')\n",
    "ax.plot(wind, wave_fit_lwr, color='y', label='95% Lower Bound')\n",
    "ax.plot(wind, wave_fit_LRL_upr, label='95% Bound 1 on LRL')\n",
    "ax.plot(wind, wave_fit_LRL_lwr, label='95% Bound 2 on LRL')\n",
    "\n",
    "ax.set_title('Distribution of Wind Speeds and Wave Heights')\n",
    "ax.set_xlabel('Wind Speed (m/s)')\n",
    "ax.set_ylabel('Wave Height (m)')\n",
    "ax.legend(loc='best')\n",
    "\n",
    "plt.show()"
   ]
  },
  {
   "cell_type": "markdown",
   "metadata": {},
   "source": [
    "## Bullet Point 6"
   ]
  },
  {
   "cell_type": "markdown",
   "metadata": {},
   "source": [
    "Now we add the lines with only the uncertainty on $b$"
   ]
  },
  {
   "cell_type": "code",
   "execution_count": 29,
   "metadata": {},
   "outputs": [
    {
     "data": {
      "image/png": "[encoded data removed]",
      "text/plain": [
       "<Figure size 864x504 with 1 Axes>"
      ]
     },
     "metadata": {
      "needs_background": "light"
     },
     "output_type": "display_data"
    }
   ],
   "source": [
    "wave_fit = a+b*wind\n",
    "wave_fit_upr = a+(b+del_b)*wind\n",
    "wave_fit_lwr = a+(b-del_b)*wind\n",
    "\n",
    "fig, ax = plt.subplots(figsize=(12,7))\n",
    "\n",
    "ax.scatter(wind, wave, label='Data Points')\n",
    "ax.plot(wind, wave_fit, color='r', label='Linear Regression Line (LRL)')\n",
    "ax.plot(wind, wave_fit_upr, color='g', label='95% Lower Bound LRL')\n",
    "ax.plot(wind, wave_fit_lwr, color='y', label='95% Upper Bound LRL')\n",
    "\n",
    "ax.set_title('Distribution of Wind Speeds and Wave Heights')\n",
    "ax.set_xlabel('Wind Speed (m/s)')\n",
    "ax.set_ylabel('Wave Height (m)')\n",
    "ax.legend(loc='best')\n",
    "\n",
    "plt.show()"
   ]
  },
  {
   "cell_type": "markdown",
   "metadata": {},
   "source": [
    "## Bullet Point 7"
   ]
  },
  {
   "cell_type": "markdown",
   "metadata": {},
   "source": [
    "We can use the uncertainties on $a$ and $b$ to calculate a range of wave heights at any wind speed (in this range) with 95% certainty. "
   ]
  },
  {
   "cell_type": "code",
   "execution_count": 30,
   "metadata": {},
   "outputs": [
    {
     "name": "stdout",
     "output_type": "stream",
     "text": [
      "[1.8665386338344578, 2.91059094189269]\n"
     ]
    }
   ],
   "source": [
    "wind_speed = 10\n",
    "\n",
    "interval = [(a-del_a)+(b-del_b)*wind_speed, (a+del_a)+(b+del_b)*wind_speed]\n",
    "print(interval)"
   ]
  },
  {
   "cell_type": "markdown",
   "metadata": {},
   "source": [
    "Hence at a wave speed of 10m/s, we can expect the wave height to be within the range (1.87m, 2.91m) at about 95% certainty."
   ]
  }
 ],
 "metadata": {
  "kernelspec": {
   "display_name": "Python 3",
   "language": "python",
   "name": "python3"
  },
  "language_info": {
   "codemirror_mode": {
    "name": "ipython",
    "version": 3
   },
   "file_extension": ".py",
   "mimetype": "text/x-python",
   "name": "python",
   "nbconvert_exporter": "python",
   "pygments_lexer": "ipython3",
   "version": "3.6.6"
  }
 },
 "nbformat": 4,
 "nbformat_minor": 2
}
