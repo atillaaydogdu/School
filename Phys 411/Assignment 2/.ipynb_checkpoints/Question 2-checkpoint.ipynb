{
 "cells": [
  {
   "cell_type": "markdown",
   "metadata": {},
   "source": [
    "<h1 id=\"tocheading\">Table of Contents and Notebook Setup</h1>\n",
    "<div id=\"toc\"></div>"
   ]
  },
  {
   "cell_type": "code",
   "execution_count": 1,
   "metadata": {},
   "outputs": [
    {
     "data": {
      "application/javascript": [
       "$.getScript('https://kmahelona.github.io/ipython_notebook_goodies/ipython_notebook_toc.js')"
      ],
      "text/plain": [
       "<IPython.core.display.Javascript object>"
      ]
     },
     "metadata": {},
     "output_type": "display_data"
    }
   ],
   "source": [
    "%%javascript\n",
    "$.getScript('https://kmahelona.github.io/ipython_notebook_goodies/ipython_notebook_toc.js')"
   ]
  },
  {
   "cell_type": "code",
   "execution_count": 2,
   "metadata": {},
   "outputs": [],
   "source": [
    "import pandas as pd\n",
    "import numpy as np\n",
    "import matplotlib.pyplot as plt\n",
    "import matplotlib.dates as mdates\n",
    "import scipy as sp\n",
    "from scipy import stats\n",
    "from datetime import timedelta, datetime"
   ]
  },
  {
   "cell_type": "markdown",
   "metadata": {},
   "source": [
    "# Importing Data"
   ]
  },
  {
   "cell_type": "markdown",
   "metadata": {},
   "source": [
    "## Importing Hourly Resolution Data"
   ]
  },
  {
   "cell_type": "markdown",
   "metadata": {},
   "source": [
    "### Obtaining Longitudes and Latitudes from All Stations"
   ]
  },
  {
   "cell_type": "markdown",
   "metadata": {},
   "source": [
    "We start by reading the first two lines of the data file to obtain the longitude and latitude information of the stations. We zip them together into a list of tuples, and add an element to the beginning of this list corresponding to the time."
   ]
  },
  {
   "cell_type": "code",
   "execution_count": 3,
   "metadata": {},
   "outputs": [],
   "source": [
    "lon_and_lat = np.genfromtxt('AllStations_temperature_h_2017.dat', delimiter=\" \", max_rows=2)\n",
    "longitudes = lon_and_lat[0][~np.isnan(lon_and_lat[0])]\n",
    "latitudes = lon_and_lat[1][~np.isnan(lon_and_lat[1])]\n",
    "\n",
    "indices = list(zip(longitudes, latitudes))\n",
    "indices.insert(0, \"time\")"
   ]
  },
  {
   "cell_type": "markdown",
   "metadata": {},
   "source": [
    "### Reading the Temperature Data"
   ]
  },
  {
   "cell_type": "markdown",
   "metadata": {},
   "source": [
    "We now read in the temperature data, skipping the first two rows that contain the longitude and latitude information of the stations. The column names of the dataframe are the longitude and latitude tuples created above, and the index column is the timestamps."
   ]
  },
  {
   "cell_type": "code",
   "execution_count": 4,
   "metadata": {},
   "outputs": [
    {
     "data": {
      "text/html": [
       "<div>\n",
       "<style scoped>\n",
       "    .dataframe tbody tr th:only-of-type {\n",
       "        vertical-align: middle;\n",
       "    }\n",
       "\n",
       "    .dataframe tbody tr th {\n",
       "        vertical-align: top;\n",
       "    }\n",
       "\n",
       "    .dataframe thead tr th {\n",
       "        text-align: left;\n",
       "    }\n",
       "\n",
       "    .dataframe thead tr:last-of-type th {\n",
       "        text-align: right;\n",
       "    }\n",
       "</style>\n",
       "<table border=\"1\" class=\"dataframe\">\n",
       "  <thead>\n",
       "    <tr>\n",
       "      <th></th>\n",
       "      <th>236.554</th>\n",
       "      <th>236.499</th>\n",
       "      <th>236.679</th>\n",
       "      <th>236.607</th>\n",
       "      <th>236.514</th>\n",
       "      <th>236.630</th>\n",
       "      <th>236.523</th>\n",
       "      <th>236.543</th>\n",
       "      <th>236.662</th>\n",
       "      <th>236.304</th>\n",
       "      <th>...</th>\n",
       "      <th>236.641</th>\n",
       "      <th>236.619</th>\n",
       "      <th>236.514</th>\n",
       "      <th>236.357</th>\n",
       "      <th>236.574</th>\n",
       "      <th>236.596</th>\n",
       "      <th>236.676</th>\n",
       "      <th>236.691</th>\n",
       "      <th>236.689</th>\n",
       "      <th>236.451</th>\n",
       "    </tr>\n",
       "    <tr>\n",
       "      <th></th>\n",
       "      <th>48.5745</th>\n",
       "      <th>48.5376</th>\n",
       "      <th>48.4655</th>\n",
       "      <th>48.4608</th>\n",
       "      <th>48.4356</th>\n",
       "      <th>48.5273</th>\n",
       "      <th>48.4529</th>\n",
       "      <th>48.6804</th>\n",
       "      <th>48.4562</th>\n",
       "      <th>48.3891</th>\n",
       "      <th>...</th>\n",
       "      <th>48.4683</th>\n",
       "      <th>48.4744</th>\n",
       "      <th>48.4205</th>\n",
       "      <th>48.6568</th>\n",
       "      <th>48.4533</th>\n",
       "      <th>48.6529</th>\n",
       "      <th>48.4865</th>\n",
       "      <th>48.4623</th>\n",
       "      <th>48.4359</th>\n",
       "      <th>48.4572</th>\n",
       "    </tr>\n",
       "    <tr>\n",
       "      <th>time</th>\n",
       "      <th></th>\n",
       "      <th></th>\n",
       "      <th></th>\n",
       "      <th></th>\n",
       "      <th></th>\n",
       "      <th></th>\n",
       "      <th></th>\n",
       "      <th></th>\n",
       "      <th></th>\n",
       "      <th></th>\n",
       "      <th></th>\n",
       "      <th></th>\n",
       "      <th></th>\n",
       "      <th></th>\n",
       "      <th></th>\n",
       "      <th></th>\n",
       "      <th></th>\n",
       "      <th></th>\n",
       "      <th></th>\n",
       "      <th></th>\n",
       "      <th></th>\n",
       "    </tr>\n",
       "  </thead>\n",
       "  <tbody>\n",
       "    <tr>\n",
       "      <th>733408.0000</th>\n",
       "      <td>3.25</td>\n",
       "      <td>1.43</td>\n",
       "      <td>4.21</td>\n",
       "      <td>4.62</td>\n",
       "      <td>3.45</td>\n",
       "      <td>4.44</td>\n",
       "      <td>2.72</td>\n",
       "      <td>3.97</td>\n",
       "      <td>4.68</td>\n",
       "      <td>5.12</td>\n",
       "      <td>...</td>\n",
       "      <td>4.29</td>\n",
       "      <td>4.10</td>\n",
       "      <td>3.01</td>\n",
       "      <td>NaN</td>\n",
       "      <td>4.00</td>\n",
       "      <td>4.81</td>\n",
       "      <td>4.58</td>\n",
       "      <td>NaN</td>\n",
       "      <td>4.87</td>\n",
       "      <td>4.07</td>\n",
       "    </tr>\n",
       "    <tr>\n",
       "      <th>733408.0417</th>\n",
       "      <td>3.06</td>\n",
       "      <td>1.38</td>\n",
       "      <td>4.28</td>\n",
       "      <td>4.77</td>\n",
       "      <td>3.46</td>\n",
       "      <td>4.21</td>\n",
       "      <td>2.64</td>\n",
       "      <td>4.15</td>\n",
       "      <td>4.61</td>\n",
       "      <td>4.95</td>\n",
       "      <td>...</td>\n",
       "      <td>4.41</td>\n",
       "      <td>4.30</td>\n",
       "      <td>2.87</td>\n",
       "      <td>NaN</td>\n",
       "      <td>4.15</td>\n",
       "      <td>4.60</td>\n",
       "      <td>4.44</td>\n",
       "      <td>NaN</td>\n",
       "      <td>4.85</td>\n",
       "      <td>4.05</td>\n",
       "    </tr>\n",
       "    <tr>\n",
       "      <th>733408.0833</th>\n",
       "      <td>1.90</td>\n",
       "      <td>1.18</td>\n",
       "      <td>4.12</td>\n",
       "      <td>4.70</td>\n",
       "      <td>3.46</td>\n",
       "      <td>4.07</td>\n",
       "      <td>2.64</td>\n",
       "      <td>4.18</td>\n",
       "      <td>4.62</td>\n",
       "      <td>5.11</td>\n",
       "      <td>...</td>\n",
       "      <td>4.24</td>\n",
       "      <td>4.23</td>\n",
       "      <td>2.97</td>\n",
       "      <td>NaN</td>\n",
       "      <td>4.06</td>\n",
       "      <td>4.65</td>\n",
       "      <td>4.47</td>\n",
       "      <td>NaN</td>\n",
       "      <td>4.91</td>\n",
       "      <td>4.02</td>\n",
       "    </tr>\n",
       "    <tr>\n",
       "      <th>733408.1250</th>\n",
       "      <td>1.69</td>\n",
       "      <td>0.98</td>\n",
       "      <td>4.20</td>\n",
       "      <td>4.77</td>\n",
       "      <td>3.65</td>\n",
       "      <td>3.67</td>\n",
       "      <td>2.81</td>\n",
       "      <td>4.27</td>\n",
       "      <td>4.71</td>\n",
       "      <td>5.33</td>\n",
       "      <td>...</td>\n",
       "      <td>4.36</td>\n",
       "      <td>4.30</td>\n",
       "      <td>3.10</td>\n",
       "      <td>NaN</td>\n",
       "      <td>4.12</td>\n",
       "      <td>4.75</td>\n",
       "      <td>4.53</td>\n",
       "      <td>NaN</td>\n",
       "      <td>4.97</td>\n",
       "      <td>4.06</td>\n",
       "    </tr>\n",
       "    <tr>\n",
       "      <th>733408.1667</th>\n",
       "      <td>2.09</td>\n",
       "      <td>0.93</td>\n",
       "      <td>4.61</td>\n",
       "      <td>4.99</td>\n",
       "      <td>3.90</td>\n",
       "      <td>3.55</td>\n",
       "      <td>3.11</td>\n",
       "      <td>4.29</td>\n",
       "      <td>4.93</td>\n",
       "      <td>5.56</td>\n",
       "      <td>...</td>\n",
       "      <td>4.58</td>\n",
       "      <td>4.53</td>\n",
       "      <td>3.37</td>\n",
       "      <td>NaN</td>\n",
       "      <td>4.25</td>\n",
       "      <td>4.97</td>\n",
       "      <td>4.68</td>\n",
       "      <td>NaN</td>\n",
       "      <td>5.17</td>\n",
       "      <td>4.27</td>\n",
       "    </tr>\n",
       "  </tbody>\n",
       "</table>\n",
       "<p>5 rows × 37 columns</p>\n",
       "</div>"
      ],
      "text/plain": [
       "            236.554 236.499 236.679 236.607 236.514 236.630 236.523 236.543  \\\n",
       "            48.5745 48.5376 48.4655 48.4608 48.4356 48.5273 48.4529 48.6804   \n",
       "time                                                                          \n",
       "733408.0000    3.25    1.43    4.21    4.62    3.45    4.44    2.72    3.97   \n",
       "733408.0417    3.06    1.38    4.28    4.77    3.46    4.21    2.64    4.15   \n",
       "733408.0833    1.90    1.18    4.12    4.70    3.46    4.07    2.64    4.18   \n",
       "733408.1250    1.69    0.98    4.20    4.77    3.65    3.67    2.81    4.27   \n",
       "733408.1667    2.09    0.93    4.61    4.99    3.90    3.55    3.11    4.29   \n",
       "\n",
       "            236.662 236.304   ...   236.641 236.619 236.514 236.357 236.574  \\\n",
       "            48.4562 48.3891   ...   48.4683 48.4744 48.4205 48.6568 48.4533   \n",
       "time                          ...                                             \n",
       "733408.0000    4.68    5.12   ...      4.29    4.10    3.01     NaN    4.00   \n",
       "733408.0417    4.61    4.95   ...      4.41    4.30    2.87     NaN    4.15   \n",
       "733408.0833    4.62    5.11   ...      4.24    4.23    2.97     NaN    4.06   \n",
       "733408.1250    4.71    5.33   ...      4.36    4.30    3.10     NaN    4.12   \n",
       "733408.1667    4.93    5.56   ...      4.58    4.53    3.37     NaN    4.25   \n",
       "\n",
       "            236.596 236.676 236.691 236.689 236.451  \n",
       "            48.6529 48.4865 48.4623 48.4359 48.4572  \n",
       "time                                                 \n",
       "733408.0000    4.81    4.58     NaN    4.87    4.07  \n",
       "733408.0417    4.60    4.44     NaN    4.85    4.05  \n",
       "733408.0833    4.65    4.47     NaN    4.91    4.02  \n",
       "733408.1250    4.75    4.53     NaN    4.97    4.06  \n",
       "733408.1667    4.97    4.68     NaN    5.17    4.27  \n",
       "\n",
       "[5 rows x 37 columns]"
      ]
     },
     "execution_count": 4,
     "metadata": {},
     "output_type": "execute_result"
    }
   ],
   "source": [
    "df = pd.read_csv('AllStations_temperature_h_2017.dat', sep='\\s+', skiprows=[0,1], names=indices, index_col = 'time')\n",
    "df.head()"
   ]
  },
  {
   "cell_type": "markdown",
   "metadata": {},
   "source": [
    "### Changing the Datetimes into Appropriate Timestamps"
   ]
  },
  {
   "cell_type": "markdown",
   "metadata": {},
   "source": [
    "The Datetimes used in this file are MATLAB datetimes. We use a function to convert each time in the time column to the appropriate timestamp and then change the index column into timestamps."
   ]
  },
  {
   "cell_type": "code",
   "execution_count": 5,
   "metadata": {},
   "outputs": [
    {
     "data": {
      "text/html": [
       "<div>\n",
       "<style scoped>\n",
       "    .dataframe tbody tr th:only-of-type {\n",
       "        vertical-align: middle;\n",
       "    }\n",
       "\n",
       "    .dataframe tbody tr th {\n",
       "        vertical-align: top;\n",
       "    }\n",
       "\n",
       "    .dataframe thead tr th {\n",
       "        text-align: left;\n",
       "    }\n",
       "</style>\n",
       "<table border=\"1\" class=\"dataframe\">\n",
       "  <thead>\n",
       "    <tr>\n",
       "      <th></th>\n",
       "      <th>236.554</th>\n",
       "      <th>236.499</th>\n",
       "      <th>236.679</th>\n",
       "      <th>236.607</th>\n",
       "      <th>236.514</th>\n",
       "      <th>236.630</th>\n",
       "      <th>236.523</th>\n",
       "      <th>236.543</th>\n",
       "      <th>236.662</th>\n",
       "      <th>236.304</th>\n",
       "      <th>...</th>\n",
       "      <th>236.641</th>\n",
       "      <th>236.619</th>\n",
       "      <th>236.514</th>\n",
       "      <th>236.357</th>\n",
       "      <th>236.574</th>\n",
       "      <th>236.596</th>\n",
       "      <th>236.676</th>\n",
       "      <th>236.691</th>\n",
       "      <th>236.689</th>\n",
       "      <th>236.451</th>\n",
       "    </tr>\n",
       "    <tr>\n",
       "      <th></th>\n",
       "      <th>48.5745</th>\n",
       "      <th>48.5376</th>\n",
       "      <th>48.4655</th>\n",
       "      <th>48.4608</th>\n",
       "      <th>48.4356</th>\n",
       "      <th>48.5273</th>\n",
       "      <th>48.4529</th>\n",
       "      <th>48.6804</th>\n",
       "      <th>48.4562</th>\n",
       "      <th>48.3891</th>\n",
       "      <th>...</th>\n",
       "      <th>48.4683</th>\n",
       "      <th>48.4744</th>\n",
       "      <th>48.4205</th>\n",
       "      <th>48.6568</th>\n",
       "      <th>48.4533</th>\n",
       "      <th>48.6529</th>\n",
       "      <th>48.4865</th>\n",
       "      <th>48.4623</th>\n",
       "      <th>48.4359</th>\n",
       "      <th>48.4572</th>\n",
       "    </tr>\n",
       "  </thead>\n",
       "  <tbody>\n",
       "    <tr>\n",
       "      <th>2008-01-01 00:00:00.000000</th>\n",
       "      <td>3.25</td>\n",
       "      <td>1.43</td>\n",
       "      <td>4.21</td>\n",
       "      <td>4.62</td>\n",
       "      <td>3.45</td>\n",
       "      <td>4.44</td>\n",
       "      <td>2.72</td>\n",
       "      <td>3.97</td>\n",
       "      <td>4.68</td>\n",
       "      <td>5.12</td>\n",
       "      <td>...</td>\n",
       "      <td>4.29</td>\n",
       "      <td>4.10</td>\n",
       "      <td>3.01</td>\n",
       "      <td>NaN</td>\n",
       "      <td>4.00</td>\n",
       "      <td>4.81</td>\n",
       "      <td>4.58</td>\n",
       "      <td>NaN</td>\n",
       "      <td>4.87</td>\n",
       "      <td>4.07</td>\n",
       "    </tr>\n",
       "    <tr>\n",
       "      <th>2008-01-01 01:00:02.879995</th>\n",
       "      <td>3.06</td>\n",
       "      <td>1.38</td>\n",
       "      <td>4.28</td>\n",
       "      <td>4.77</td>\n",
       "      <td>3.46</td>\n",
       "      <td>4.21</td>\n",
       "      <td>2.64</td>\n",
       "      <td>4.15</td>\n",
       "      <td>4.61</td>\n",
       "      <td>4.95</td>\n",
       "      <td>...</td>\n",
       "      <td>4.41</td>\n",
       "      <td>4.30</td>\n",
       "      <td>2.87</td>\n",
       "      <td>NaN</td>\n",
       "      <td>4.15</td>\n",
       "      <td>4.60</td>\n",
       "      <td>4.44</td>\n",
       "      <td>NaN</td>\n",
       "      <td>4.85</td>\n",
       "      <td>4.05</td>\n",
       "    </tr>\n",
       "    <tr>\n",
       "      <th>2008-01-01 01:59:57.120005</th>\n",
       "      <td>1.90</td>\n",
       "      <td>1.18</td>\n",
       "      <td>4.12</td>\n",
       "      <td>4.70</td>\n",
       "      <td>3.46</td>\n",
       "      <td>4.07</td>\n",
       "      <td>2.64</td>\n",
       "      <td>4.18</td>\n",
       "      <td>4.62</td>\n",
       "      <td>5.11</td>\n",
       "      <td>...</td>\n",
       "      <td>4.24</td>\n",
       "      <td>4.23</td>\n",
       "      <td>2.97</td>\n",
       "      <td>NaN</td>\n",
       "      <td>4.06</td>\n",
       "      <td>4.65</td>\n",
       "      <td>4.47</td>\n",
       "      <td>NaN</td>\n",
       "      <td>4.91</td>\n",
       "      <td>4.02</td>\n",
       "    </tr>\n",
       "    <tr>\n",
       "      <th>2008-01-01 03:00:00.000000</th>\n",
       "      <td>1.69</td>\n",
       "      <td>0.98</td>\n",
       "      <td>4.20</td>\n",
       "      <td>4.77</td>\n",
       "      <td>3.65</td>\n",
       "      <td>3.67</td>\n",
       "      <td>2.81</td>\n",
       "      <td>4.27</td>\n",
       "      <td>4.71</td>\n",
       "      <td>5.33</td>\n",
       "      <td>...</td>\n",
       "      <td>4.36</td>\n",
       "      <td>4.30</td>\n",
       "      <td>3.10</td>\n",
       "      <td>NaN</td>\n",
       "      <td>4.12</td>\n",
       "      <td>4.75</td>\n",
       "      <td>4.53</td>\n",
       "      <td>NaN</td>\n",
       "      <td>4.97</td>\n",
       "      <td>4.06</td>\n",
       "    </tr>\n",
       "    <tr>\n",
       "      <th>2008-01-01 04:00:02.879995</th>\n",
       "      <td>2.09</td>\n",
       "      <td>0.93</td>\n",
       "      <td>4.61</td>\n",
       "      <td>4.99</td>\n",
       "      <td>3.90</td>\n",
       "      <td>3.55</td>\n",
       "      <td>3.11</td>\n",
       "      <td>4.29</td>\n",
       "      <td>4.93</td>\n",
       "      <td>5.56</td>\n",
       "      <td>...</td>\n",
       "      <td>4.58</td>\n",
       "      <td>4.53</td>\n",
       "      <td>3.37</td>\n",
       "      <td>NaN</td>\n",
       "      <td>4.25</td>\n",
       "      <td>4.97</td>\n",
       "      <td>4.68</td>\n",
       "      <td>NaN</td>\n",
       "      <td>5.17</td>\n",
       "      <td>4.27</td>\n",
       "    </tr>\n",
       "  </tbody>\n",
       "</table>\n",
       "<p>5 rows × 37 columns</p>\n",
       "</div>"
      ],
      "text/plain": [
       "                           236.554 236.499 236.679 236.607 236.514 236.630  \\\n",
       "                           48.5745 48.5376 48.4655 48.4608 48.4356 48.5273   \n",
       "2008-01-01 00:00:00.000000    3.25    1.43    4.21    4.62    3.45    4.44   \n",
       "2008-01-01 01:00:02.879995    3.06    1.38    4.28    4.77    3.46    4.21   \n",
       "2008-01-01 01:59:57.120005    1.90    1.18    4.12    4.70    3.46    4.07   \n",
       "2008-01-01 03:00:00.000000    1.69    0.98    4.20    4.77    3.65    3.67   \n",
       "2008-01-01 04:00:02.879995    2.09    0.93    4.61    4.99    3.90    3.55   \n",
       "\n",
       "                           236.523 236.543 236.662 236.304   ...   236.641  \\\n",
       "                           48.4529 48.6804 48.4562 48.3891   ...   48.4683   \n",
       "2008-01-01 00:00:00.000000    2.72    3.97    4.68    5.12   ...      4.29   \n",
       "2008-01-01 01:00:02.879995    2.64    4.15    4.61    4.95   ...      4.41   \n",
       "2008-01-01 01:59:57.120005    2.64    4.18    4.62    5.11   ...      4.24   \n",
       "2008-01-01 03:00:00.000000    2.81    4.27    4.71    5.33   ...      4.36   \n",
       "2008-01-01 04:00:02.879995    3.11    4.29    4.93    5.56   ...      4.58   \n",
       "\n",
       "                           236.619 236.514 236.357 236.574 236.596 236.676  \\\n",
       "                           48.4744 48.4205 48.6568 48.4533 48.6529 48.4865   \n",
       "2008-01-01 00:00:00.000000    4.10    3.01     NaN    4.00    4.81    4.58   \n",
       "2008-01-01 01:00:02.879995    4.30    2.87     NaN    4.15    4.60    4.44   \n",
       "2008-01-01 01:59:57.120005    4.23    2.97     NaN    4.06    4.65    4.47   \n",
       "2008-01-01 03:00:00.000000    4.30    3.10     NaN    4.12    4.75    4.53   \n",
       "2008-01-01 04:00:02.879995    4.53    3.37     NaN    4.25    4.97    4.68   \n",
       "\n",
       "                           236.691 236.689 236.451  \n",
       "                           48.4623 48.4359 48.4572  \n",
       "2008-01-01 00:00:00.000000     NaN    4.87    4.07  \n",
       "2008-01-01 01:00:02.879995     NaN    4.85    4.05  \n",
       "2008-01-01 01:59:57.120005     NaN    4.91    4.02  \n",
       "2008-01-01 03:00:00.000000     NaN    4.97    4.06  \n",
       "2008-01-01 04:00:02.879995     NaN    5.17    4.27  \n",
       "\n",
       "[5 rows x 37 columns]"
      ]
     },
     "execution_count": 5,
     "metadata": {},
     "output_type": "execute_result"
    }
   ],
   "source": [
    "def matlab_to_python_datetime(matlab_datenum):\n",
    "    return datetime.fromordinal(int(matlab_datenum)) + timedelta(days=matlab_datenum%1) - timedelta(days = 366)\n",
    "\n",
    "df.index = [matlab_to_python_datetime(i) for i in df.index]\n",
    "df.head()"
   ]
  },
  {
   "cell_type": "markdown",
   "metadata": {},
   "source": [
    "### Finding the Required Station"
   ]
  },
  {
   "cell_type": "markdown",
   "metadata": {},
   "source": [
    "These are the coordinates where we wish to measure the temperature. We look for the station nearest to this point."
   ]
  },
  {
   "cell_type": "code",
   "execution_count": 6,
   "metadata": {},
   "outputs": [],
   "source": [
    "station_lon = 236.691\n",
    "station_lat =  48.462"
   ]
  },
  {
   "cell_type": "code",
   "execution_count": 7,
   "metadata": {},
   "outputs": [],
   "source": [
    "lon_diff = abs(longitudes - station_lon)\n",
    "lat_diff = abs(latitudes - station_lat)\n",
    "\n",
    "station_num = list((lon_diff+lat_diff)).index(min(lon_diff+lat_diff))"
   ]
  },
  {
   "cell_type": "markdown",
   "metadata": {},
   "source": [
    "station_num provides the column number of the data we wish to observe."
   ]
  },
  {
   "cell_type": "markdown",
   "metadata": {},
   "source": [
    "### Obtain August 7th 2015/2017 Data"
   ]
  },
  {
   "cell_type": "code",
   "execution_count": 8,
   "metadata": {},
   "outputs": [],
   "source": [
    "df = df.iloc[:,station_num]\n",
    "hour_res_aug7_2015 = df[(df.index.year==2015) & (df.index.month==8) & (df.index.day==7)]\n",
    "hour_res_aug7_2017 = df[(df.index.year==2017) & (df.index.month==8) & (df.index.day==7)]"
   ]
  },
  {
   "cell_type": "markdown",
   "metadata": {},
   "source": [
    "## Importing Minute Resolution Data"
   ]
  },
  {
   "cell_type": "markdown",
   "metadata": {},
   "source": [
    "Now we import the minute resolution data, which only contains data from the one UvicSci temperature data station. We begin by getting the time information, which contains the the start and end time, and the number of measurements taken."
   ]
  },
  {
   "cell_type": "code",
   "execution_count": 9,
   "metadata": {},
   "outputs": [],
   "source": [
    "time_info = np.genfromtxt('UVicSci_temperature.dat', delimiter=\" \", max_rows=3)\n",
    "t0 = time_info[0]\n",
    "tf = time_info[1]\n",
    "N = time_info[2]"
   ]
  },
  {
   "cell_type": "markdown",
   "metadata": {},
   "source": [
    "Since the time between measurements is always one minute, we can generate an array of times of measurements based on the information above."
   ]
  },
  {
   "cell_type": "code",
   "execution_count": 10,
   "metadata": {},
   "outputs": [],
   "source": [
    "incrementer = (tf-t0)/N\n",
    "timearray = np.arange(t0, tf, incrementer)"
   ]
  },
  {
   "cell_type": "markdown",
   "metadata": {},
   "source": [
    "We now open  the actual temperature data, and create a dataframe using the appropriate timestamps."
   ]
  },
  {
   "cell_type": "code",
   "execution_count": 11,
   "metadata": {},
   "outputs": [],
   "source": [
    "df2 = pd.read_csv('UVicSci_temperature.dat', sep='\\s+', skiprows=[0,1,2], names=['Temperature'])\n",
    "df2.index = [matlab_to_python_datetime(i) for i in timearray]\n",
    "df2.index = [i - timedelta(hours = 7) for i in df2.index] #Convert to PST"
   ]
  },
  {
   "cell_type": "markdown",
   "metadata": {},
   "source": [
    "### Obtain August 7th 2015/2017 Data"
   ]
  },
  {
   "cell_type": "code",
   "execution_count": 12,
   "metadata": {},
   "outputs": [],
   "source": [
    "min_res_aug7_2015 = df2[(df2.index.year==2015) & (df2.index.month==8) & (df2.index.day==7)]\n",
    "min_res_aug7_2017 = df2[(df2.index.year==2017) & (df2.index.month==8)& (df2.index.day==7)]"
   ]
  },
  {
   "cell_type": "markdown",
   "metadata": {},
   "source": [
    "# Answering Question 2"
   ]
  },
  {
   "cell_type": "markdown",
   "metadata": {},
   "source": [
    "## Part 1"
   ]
  },
  {
   "cell_type": "code",
   "execution_count": 13,
   "metadata": {},
   "outputs": [
    {
     "data": {
      "image/png": "[encoded data removed]",
      "text/plain": [
       "<Figure size 1080x432 with 2 Axes>"
      ]
     },
     "metadata": {},
     "output_type": "display_data"
    }
   ],
   "source": [
    "fig, axes = plt.subplots(1,2, figsize=(15,6))\n",
    "\n",
    "axes[0].plot(hour_res_aug7_2015, label = 'Hour Resolution Data')\n",
    "axes[1].plot(hour_res_aug7_2017, label = 'Hour Resolution Data')\n",
    "axes[0].plot(min_res_aug7_2015, label = 'Minute Resolution Data')\n",
    "axes[1].plot(min_res_aug7_2017, label = 'Minute Resolution Data')\n",
    "\n",
    "axes[0].set_ylabel('Temperature $(^\\circ C)$')\n",
    "axes[1].set_ylabel('Temperature $(^\\circ C)$')\n",
    "\n",
    "axes[0].set_title('Temperature Data August 7th 2015')\n",
    "axes[1].set_title('Temperature Data August 7th 2017')\n",
    "\n",
    "axes[0].legend(loc = 'best')\n",
    "axes[1].legend(loc = 'best')\n",
    "\n",
    "fig.autofmt_xdate()"
   ]
  },
  {
   "cell_type": "markdown",
   "metadata": {},
   "source": [
    "## Part 2"
   ]
  },
  {
   "cell_type": "markdown",
   "metadata": {},
   "source": [
    "The distribution we are interested in is\n",
    "\n",
    "$$X_2-X_1 $$\n",
    "\n",
    "where $X_2$ is the 2017 August 7th data and $X_1$ is the 2015 August 7th data. "
   ]
  },
  {
   "cell_type": "markdown",
   "metadata": {},
   "source": [
    "<b> Theorem: </b>\n",
    "\n",
    "A one sided confidence interval that gives a lower bound for $\\mu$ is given by\n",
    "\n",
    "$$(\\bar{X}-t_{\\alpha,n-1}\\frac{s}{\\sqrt{n}}, \\infty) $$"
   ]
  },
  {
   "cell_type": "markdown",
   "metadata": {},
   "source": [
    "<b> Application to our Problem: </b>\n",
    "\n",
    "Since the distribution we are interested in is is $X_2-X_1$, a 95% confidence interval is given by\n",
    "\n",
    "$$\\left((\\bar{X_2}-\\bar{X_1})-t_{\\alpha, n-1}\\frac{s_{X_2-X_1}}{\\sqrt{n}} \\hspace{5mm} , \\hspace{5mm} \\infty  \\right) $$\n",
    "    \n",
    "we use the result of question 3 part 1 (first proof) to calculate $s_{X_2-X_1}$; namely\n",
    "\n",
    "$${s_{X_2-X_1}}^2 = {s_{X_2}}^2 + {s_{X_1}}^2 $$"
   ]
  },
  {
   "cell_type": "code",
   "execution_count": 14,
   "metadata": {},
   "outputs": [],
   "source": [
    "def find_lwr_bound(data_2017, data_2015, alpha):\n",
    "    u_2017 = data_2017.mean()\n",
    "    u_2015 = data_2015.mean()\n",
    "\n",
    "    s_2017 = data_2017.std()\n",
    "    s_2015 = data_2015.std()\n",
    "    s = np.sqrt(s_2017**2+s_2015**2)\n",
    "\n",
    "    N = len(data_2017)\n",
    "    t = sp.stats.t.ppf(1-alpha, N-1)\n",
    "\n",
    "\n",
    "    return (u_2017-u_2015)-t*s/(np.sqrt(N))\n",
    "    "
   ]
  },
  {
   "cell_type": "code",
   "execution_count": 15,
   "metadata": {},
   "outputs": [
    {
     "data": {
      "text/plain": [
       "-2.3262655959063143"
      ]
     },
     "execution_count": 15,
     "metadata": {},
     "output_type": "execute_result"
    }
   ],
   "source": [
    "find_lwr_bound(hour_res_aug7_2017.values, hour_res_aug7_2017.values, 0.05)"
   ]
  },
  {
   "cell_type": "markdown",
   "metadata": {},
   "source": [
    "It follows that with 95% certainty, the mean of the differences lies in the range\n",
    "\n",
    "$$(-2.33^{\\circ} C \\hspace{3mm},\\hspace{3mm} \\infty) $$\n",
    "\n",
    "and thus we cannot claim with 95% certainty that August 7th was warmer in 2017 than it was in 2015."
   ]
  },
  {
   "cell_type": "markdown",
   "metadata": {},
   "source": [
    "## Part 3"
   ]
  },
  {
   "cell_type": "code",
   "execution_count": 16,
   "metadata": {},
   "outputs": [
    {
     "data": {
      "text/plain": [
       "0.28953705647000566"
      ]
     },
     "execution_count": 16,
     "metadata": {},
     "output_type": "execute_result"
    }
   ],
   "source": [
    "find_lwr_bound(min_res_aug7_2017.values, min_res_aug7_2015.values, 0.05)"
   ]
  },
  {
   "cell_type": "markdown",
   "metadata": {},
   "source": [
    "It follows that with 95% certainty, the mean of the differences lies in the range\n",
    "\n",
    "$$(0.290^{\\circ} C \\hspace{3mm},\\hspace{3mm} \\infty) $$\n",
    "\n",
    "and thus we can claim with 95% certainty that August 7th was warmer in 2017 than it was in 2015. Collecting more data allowed us to "
   ]
  },
  {
   "cell_type": "markdown",
   "metadata": {},
   "source": [
    "### Not Required For the Problem"
   ]
  },
  {
   "cell_type": "markdown",
   "metadata": {},
   "source": [
    "The different data sets allow us to come to different conclusions. In particular, we can claim that August 7th 2017 was warmer than August 7th 2015 at an astonishing 99.95% certainty using our minute data!"
   ]
  },
  {
   "cell_type": "code",
   "execution_count": 17,
   "metadata": {},
   "outputs": [
    {
     "data": {
      "text/plain": [
       "0.046365216158731404"
      ]
     },
     "execution_count": 17,
     "metadata": {},
     "output_type": "execute_result"
    }
   ],
   "source": [
    "find_lwr_bound(min_res_aug7_2017.values, min_res_aug7_2015.values, 0.0005)"
   ]
  },
  {
   "cell_type": "markdown",
   "metadata": {},
   "source": [
    "$$99.95\\% CI= (0.05^{\\circ} C \\hspace{3mm},\\hspace{3mm} \\infty)$$"
   ]
  },
  {
   "cell_type": "markdown",
   "metadata": {},
   "source": [
    "But to make a claim about the one day being hotter than the other using our hourly data, we need to reduce our certainty to about 67%"
   ]
  },
  {
   "cell_type": "code",
   "execution_count": 18,
   "metadata": {},
   "outputs": [
    {
     "data": {
      "text/plain": [
       "0.026334573660986016"
      ]
     },
     "execution_count": 18,
     "metadata": {},
     "output_type": "execute_result"
    }
   ],
   "source": [
    "find_lwr_bound(hour_res_aug7_2017.values, hour_res_aug7_2015.values, 0.33)"
   ]
  },
  {
   "cell_type": "markdown",
   "metadata": {},
   "source": [
    "$$67\\% CI= (0.03^{\\circ} C \\hspace{3mm},\\hspace{3mm} \\infty)$$"
   ]
  }
 ],
 "metadata": {
  "kernelspec": {
   "display_name": "Python 3",
   "language": "python",
   "name": "python3"
  },
  "language_info": {
   "codemirror_mode": {
    "name": "ipython",
    "version": 3
   },
   "file_extension": ".py",
   "mimetype": "text/x-python",
   "name": "python",
   "nbconvert_exporter": "python",
   "pygments_lexer": "ipython3",
   "version": "3.6.5"
  }
 },
 "nbformat": 4,
 "nbformat_minor": 2
}
