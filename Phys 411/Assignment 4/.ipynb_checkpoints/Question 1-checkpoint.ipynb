{
 "cells": [
  {
   "cell_type": "markdown",
   "metadata": {},
   "source": [
    "<h1 id=\"tocheading\">Table of Contents and Notebook Setup</h1>\n",
    "<div id=\"toc\"></div>"
   ]
  },
  {
   "cell_type": "code",
   "execution_count": 1,
   "metadata": {},
   "outputs": [
    {
     "data": {
      "application/javascript": [
       "$.getScript('https://kmahelona.github.io/ipython_notebook_goodies/ipython_notebook_toc.js')"
      ],
      "text/plain": [
       "<IPython.core.display.Javascript object>"
      ]
     },
     "metadata": {},
     "output_type": "display_data"
    }
   ],
   "source": [
    "%%javascript\n",
    "$.getScript('https://kmahelona.github.io/ipython_notebook_goodies/ipython_notebook_toc.js')"
   ]
  },
  {
   "cell_type": "code",
   "execution_count": 2,
   "metadata": {},
   "outputs": [],
   "source": [
    "import pandas as pd\n",
    "import numpy as np\n",
    "import matplotlib.pyplot as plt\n",
    "import matplotlib.dates as mdates\n",
    "import scipy as sp\n",
    "from scipy import signal\n",
    "from datetime import timedelta, datetime"
   ]
  },
  {
   "cell_type": "markdown",
   "metadata": {},
   "source": [
    "# Importing Data"
   ]
  },
  {
   "cell_type": "markdown",
   "metadata": {},
   "source": [
    "## Importing Hourly Resolution Data"
   ]
  },
  {
   "cell_type": "markdown",
   "metadata": {},
   "source": [
    "### Obtaining Longitudes and Latitudes from All Stations"
   ]
  },
  {
   "cell_type": "markdown",
   "metadata": {},
   "source": [
    "We start by reading the first two lines of the data file to obtain the longitude and latitude information of the stations. We zip them together into a list of tuples, and add an element to the beginning of this list corresponding to the time."
   ]
  },
  {
   "cell_type": "code",
   "execution_count": 3,
   "metadata": {},
   "outputs": [],
   "source": [
    "lon_and_lat = np.genfromtxt('AllStations_temperature_h_2017.dat', delimiter=\" \", max_rows=2)\n",
    "longitudes = lon_and_lat[0][~np.isnan(lon_and_lat[0])]\n",
    "latitudes = lon_and_lat[1][~np.isnan(lon_and_lat[1])]\n",
    "\n",
    "indices = list(zip(longitudes, latitudes))\n",
    "indices.insert(0, \"time\")"
   ]
  },
  {
   "cell_type": "markdown",
   "metadata": {},
   "source": [
    "### Reading the Temperature Data"
   ]
  },
  {
   "cell_type": "markdown",
   "metadata": {},
   "source": [
    "We now read in the temperature data, skipping the first two rows that contain the longitude and latitude information of the stations. The column names of the dataframe are the longitude and latitude tuples created above, and the index column is the timestamps."
   ]
  },
  {
   "cell_type": "code",
   "execution_count": 4,
   "metadata": {},
   "outputs": [
    {
     "data": {
      "text/html": [
       "<div>\n",
       "<style scoped>\n",
       "    .dataframe tbody tr th:only-of-type {\n",
       "        vertical-align: middle;\n",
       "    }\n",
       "\n",
       "    .dataframe tbody tr th {\n",
       "        vertical-align: top;\n",
       "    }\n",
       "\n",
       "    .dataframe thead tr th {\n",
       "        text-align: left;\n",
       "    }\n",
       "\n",
       "    .dataframe thead tr:last-of-type th {\n",
       "        text-align: right;\n",
       "    }\n",
       "</style>\n",
       "<table border=\"1\" class=\"dataframe\">\n",
       "  <thead>\n",
       "    <tr>\n",
       "      <th></th>\n",
       "      <th>236.554</th>\n",
       "      <th>236.499</th>\n",
       "      <th>236.679</th>\n",
       "      <th>236.607</th>\n",
       "      <th>236.514</th>\n",
       "      <th>236.630</th>\n",
       "      <th>236.523</th>\n",
       "      <th>236.543</th>\n",
       "      <th>236.662</th>\n",
       "      <th>236.304</th>\n",
       "      <th>...</th>\n",
       "      <th>236.641</th>\n",
       "      <th>236.619</th>\n",
       "      <th>236.514</th>\n",
       "      <th>236.357</th>\n",
       "      <th>236.574</th>\n",
       "      <th>236.596</th>\n",
       "      <th>236.676</th>\n",
       "      <th>236.691</th>\n",
       "      <th>236.689</th>\n",
       "      <th>236.451</th>\n",
       "    </tr>\n",
       "    <tr>\n",
       "      <th></th>\n",
       "      <th>48.5745</th>\n",
       "      <th>48.5376</th>\n",
       "      <th>48.4655</th>\n",
       "      <th>48.4608</th>\n",
       "      <th>48.4356</th>\n",
       "      <th>48.5273</th>\n",
       "      <th>48.4529</th>\n",
       "      <th>48.6804</th>\n",
       "      <th>48.4562</th>\n",
       "      <th>48.3891</th>\n",
       "      <th>...</th>\n",
       "      <th>48.4683</th>\n",
       "      <th>48.4744</th>\n",
       "      <th>48.4205</th>\n",
       "      <th>48.6568</th>\n",
       "      <th>48.4533</th>\n",
       "      <th>48.6529</th>\n",
       "      <th>48.4865</th>\n",
       "      <th>48.4623</th>\n",
       "      <th>48.4359</th>\n",
       "      <th>48.4572</th>\n",
       "    </tr>\n",
       "    <tr>\n",
       "      <th>time</th>\n",
       "      <th></th>\n",
       "      <th></th>\n",
       "      <th></th>\n",
       "      <th></th>\n",
       "      <th></th>\n",
       "      <th></th>\n",
       "      <th></th>\n",
       "      <th></th>\n",
       "      <th></th>\n",
       "      <th></th>\n",
       "      <th></th>\n",
       "      <th></th>\n",
       "      <th></th>\n",
       "      <th></th>\n",
       "      <th></th>\n",
       "      <th></th>\n",
       "      <th></th>\n",
       "      <th></th>\n",
       "      <th></th>\n",
       "      <th></th>\n",
       "      <th></th>\n",
       "    </tr>\n",
       "  </thead>\n",
       "  <tbody>\n",
       "    <tr>\n",
       "      <th>733408.0000</th>\n",
       "      <td>3.25</td>\n",
       "      <td>1.43</td>\n",
       "      <td>4.21</td>\n",
       "      <td>4.62</td>\n",
       "      <td>3.45</td>\n",
       "      <td>4.44</td>\n",
       "      <td>2.72</td>\n",
       "      <td>3.97</td>\n",
       "      <td>4.68</td>\n",
       "      <td>5.12</td>\n",
       "      <td>...</td>\n",
       "      <td>4.29</td>\n",
       "      <td>4.10</td>\n",
       "      <td>3.01</td>\n",
       "      <td>NaN</td>\n",
       "      <td>4.00</td>\n",
       "      <td>4.81</td>\n",
       "      <td>4.58</td>\n",
       "      <td>NaN</td>\n",
       "      <td>4.87</td>\n",
       "      <td>4.07</td>\n",
       "    </tr>\n",
       "    <tr>\n",
       "      <th>733408.0417</th>\n",
       "      <td>3.06</td>\n",
       "      <td>1.38</td>\n",
       "      <td>4.28</td>\n",
       "      <td>4.77</td>\n",
       "      <td>3.46</td>\n",
       "      <td>4.21</td>\n",
       "      <td>2.64</td>\n",
       "      <td>4.15</td>\n",
       "      <td>4.61</td>\n",
       "      <td>4.95</td>\n",
       "      <td>...</td>\n",
       "      <td>4.41</td>\n",
       "      <td>4.30</td>\n",
       "      <td>2.87</td>\n",
       "      <td>NaN</td>\n",
       "      <td>4.15</td>\n",
       "      <td>4.60</td>\n",
       "      <td>4.44</td>\n",
       "      <td>NaN</td>\n",
       "      <td>4.85</td>\n",
       "      <td>4.05</td>\n",
       "    </tr>\n",
       "    <tr>\n",
       "      <th>733408.0833</th>\n",
       "      <td>1.90</td>\n",
       "      <td>1.18</td>\n",
       "      <td>4.12</td>\n",
       "      <td>4.70</td>\n",
       "      <td>3.46</td>\n",
       "      <td>4.07</td>\n",
       "      <td>2.64</td>\n",
       "      <td>4.18</td>\n",
       "      <td>4.62</td>\n",
       "      <td>5.11</td>\n",
       "      <td>...</td>\n",
       "      <td>4.24</td>\n",
       "      <td>4.23</td>\n",
       "      <td>2.97</td>\n",
       "      <td>NaN</td>\n",
       "      <td>4.06</td>\n",
       "      <td>4.65</td>\n",
       "      <td>4.47</td>\n",
       "      <td>NaN</td>\n",
       "      <td>4.91</td>\n",
       "      <td>4.02</td>\n",
       "    </tr>\n",
       "    <tr>\n",
       "      <th>733408.1250</th>\n",
       "      <td>1.69</td>\n",
       "      <td>0.98</td>\n",
       "      <td>4.20</td>\n",
       "      <td>4.77</td>\n",
       "      <td>3.65</td>\n",
       "      <td>3.67</td>\n",
       "      <td>2.81</td>\n",
       "      <td>4.27</td>\n",
       "      <td>4.71</td>\n",
       "      <td>5.33</td>\n",
       "      <td>...</td>\n",
       "      <td>4.36</td>\n",
       "      <td>4.30</td>\n",
       "      <td>3.10</td>\n",
       "      <td>NaN</td>\n",
       "      <td>4.12</td>\n",
       "      <td>4.75</td>\n",
       "      <td>4.53</td>\n",
       "      <td>NaN</td>\n",
       "      <td>4.97</td>\n",
       "      <td>4.06</td>\n",
       "    </tr>\n",
       "    <tr>\n",
       "      <th>733408.1667</th>\n",
       "      <td>2.09</td>\n",
       "      <td>0.93</td>\n",
       "      <td>4.61</td>\n",
       "      <td>4.99</td>\n",
       "      <td>3.90</td>\n",
       "      <td>3.55</td>\n",
       "      <td>3.11</td>\n",
       "      <td>4.29</td>\n",
       "      <td>4.93</td>\n",
       "      <td>5.56</td>\n",
       "      <td>...</td>\n",
       "      <td>4.58</td>\n",
       "      <td>4.53</td>\n",
       "      <td>3.37</td>\n",
       "      <td>NaN</td>\n",
       "      <td>4.25</td>\n",
       "      <td>4.97</td>\n",
       "      <td>4.68</td>\n",
       "      <td>NaN</td>\n",
       "      <td>5.17</td>\n",
       "      <td>4.27</td>\n",
       "    </tr>\n",
       "  </tbody>\n",
       "</table>\n",
       "<p>5 rows × 37 columns</p>\n",
       "</div>"
      ],
      "text/plain": [
       "            236.554 236.499 236.679 236.607 236.514 236.630 236.523 236.543  \\\n",
       "            48.5745 48.5376 48.4655 48.4608 48.4356 48.5273 48.4529 48.6804   \n",
       "time                                                                          \n",
       "733408.0000    3.25    1.43    4.21    4.62    3.45    4.44    2.72    3.97   \n",
       "733408.0417    3.06    1.38    4.28    4.77    3.46    4.21    2.64    4.15   \n",
       "733408.0833    1.90    1.18    4.12    4.70    3.46    4.07    2.64    4.18   \n",
       "733408.1250    1.69    0.98    4.20    4.77    3.65    3.67    2.81    4.27   \n",
       "733408.1667    2.09    0.93    4.61    4.99    3.90    3.55    3.11    4.29   \n",
       "\n",
       "            236.662 236.304   ...   236.641 236.619 236.514 236.357 236.574  \\\n",
       "            48.4562 48.3891   ...   48.4683 48.4744 48.4205 48.6568 48.4533   \n",
       "time                          ...                                             \n",
       "733408.0000    4.68    5.12   ...      4.29    4.10    3.01     NaN    4.00   \n",
       "733408.0417    4.61    4.95   ...      4.41    4.30    2.87     NaN    4.15   \n",
       "733408.0833    4.62    5.11   ...      4.24    4.23    2.97     NaN    4.06   \n",
       "733408.1250    4.71    5.33   ...      4.36    4.30    3.10     NaN    4.12   \n",
       "733408.1667    4.93    5.56   ...      4.58    4.53    3.37     NaN    4.25   \n",
       "\n",
       "            236.596 236.676 236.691 236.689 236.451  \n",
       "            48.6529 48.4865 48.4623 48.4359 48.4572  \n",
       "time                                                 \n",
       "733408.0000    4.81    4.58     NaN    4.87    4.07  \n",
       "733408.0417    4.60    4.44     NaN    4.85    4.05  \n",
       "733408.0833    4.65    4.47     NaN    4.91    4.02  \n",
       "733408.1250    4.75    4.53     NaN    4.97    4.06  \n",
       "733408.1667    4.97    4.68     NaN    5.17    4.27  \n",
       "\n",
       "[5 rows x 37 columns]"
      ]
     },
     "execution_count": 4,
     "metadata": {},
     "output_type": "execute_result"
    }
   ],
   "source": [
    "df = pd.read_csv('AllStations_temperature_h_2017.dat', sep='\\s+', skiprows=[0,1], names=indices, index_col = 'time')\n",
    "df.head()"
   ]
  },
  {
   "cell_type": "markdown",
   "metadata": {},
   "source": [
    "### Changing the Datetimes into Appropriate Timestamps"
   ]
  },
  {
   "cell_type": "markdown",
   "metadata": {},
   "source": [
    "The Datetimes used in this file are MATLAB datetimes. We use a function to convert each time in the time column to the appropriate timestamp and then change the index column into timestamps."
   ]
  },
  {
   "cell_type": "code",
   "execution_count": 5,
   "metadata": {},
   "outputs": [
    {
     "data": {
      "text/html": [
       "<div>\n",
       "<style scoped>\n",
       "    .dataframe tbody tr th:only-of-type {\n",
       "        vertical-align: middle;\n",
       "    }\n",
       "\n",
       "    .dataframe tbody tr th {\n",
       "        vertical-align: top;\n",
       "    }\n",
       "\n",
       "    .dataframe thead tr th {\n",
       "        text-align: left;\n",
       "    }\n",
       "</style>\n",
       "<table border=\"1\" class=\"dataframe\">\n",
       "  <thead>\n",
       "    <tr>\n",
       "      <th></th>\n",
       "      <th>236.554</th>\n",
       "      <th>236.499</th>\n",
       "      <th>236.679</th>\n",
       "      <th>236.607</th>\n",
       "      <th>236.514</th>\n",
       "      <th>236.630</th>\n",
       "      <th>236.523</th>\n",
       "      <th>236.543</th>\n",
       "      <th>236.662</th>\n",
       "      <th>236.304</th>\n",
       "      <th>...</th>\n",
       "      <th>236.641</th>\n",
       "      <th>236.619</th>\n",
       "      <th>236.514</th>\n",
       "      <th>236.357</th>\n",
       "      <th>236.574</th>\n",
       "      <th>236.596</th>\n",
       "      <th>236.676</th>\n",
       "      <th>236.691</th>\n",
       "      <th>236.689</th>\n",
       "      <th>236.451</th>\n",
       "    </tr>\n",
       "    <tr>\n",
       "      <th></th>\n",
       "      <th>48.5745</th>\n",
       "      <th>48.5376</th>\n",
       "      <th>48.4655</th>\n",
       "      <th>48.4608</th>\n",
       "      <th>48.4356</th>\n",
       "      <th>48.5273</th>\n",
       "      <th>48.4529</th>\n",
       "      <th>48.6804</th>\n",
       "      <th>48.4562</th>\n",
       "      <th>48.3891</th>\n",
       "      <th>...</th>\n",
       "      <th>48.4683</th>\n",
       "      <th>48.4744</th>\n",
       "      <th>48.4205</th>\n",
       "      <th>48.6568</th>\n",
       "      <th>48.4533</th>\n",
       "      <th>48.6529</th>\n",
       "      <th>48.4865</th>\n",
       "      <th>48.4623</th>\n",
       "      <th>48.4359</th>\n",
       "      <th>48.4572</th>\n",
       "    </tr>\n",
       "  </thead>\n",
       "  <tbody>\n",
       "    <tr>\n",
       "      <th>2008-01-01 00:00:00.000000</th>\n",
       "      <td>3.25</td>\n",
       "      <td>1.43</td>\n",
       "      <td>4.21</td>\n",
       "      <td>4.62</td>\n",
       "      <td>3.45</td>\n",
       "      <td>4.44</td>\n",
       "      <td>2.72</td>\n",
       "      <td>3.97</td>\n",
       "      <td>4.68</td>\n",
       "      <td>5.12</td>\n",
       "      <td>...</td>\n",
       "      <td>4.29</td>\n",
       "      <td>4.10</td>\n",
       "      <td>3.01</td>\n",
       "      <td>NaN</td>\n",
       "      <td>4.00</td>\n",
       "      <td>4.81</td>\n",
       "      <td>4.58</td>\n",
       "      <td>NaN</td>\n",
       "      <td>4.87</td>\n",
       "      <td>4.07</td>\n",
       "    </tr>\n",
       "    <tr>\n",
       "      <th>2008-01-01 01:00:02.879995</th>\n",
       "      <td>3.06</td>\n",
       "      <td>1.38</td>\n",
       "      <td>4.28</td>\n",
       "      <td>4.77</td>\n",
       "      <td>3.46</td>\n",
       "      <td>4.21</td>\n",
       "      <td>2.64</td>\n",
       "      <td>4.15</td>\n",
       "      <td>4.61</td>\n",
       "      <td>4.95</td>\n",
       "      <td>...</td>\n",
       "      <td>4.41</td>\n",
       "      <td>4.30</td>\n",
       "      <td>2.87</td>\n",
       "      <td>NaN</td>\n",
       "      <td>4.15</td>\n",
       "      <td>4.60</td>\n",
       "      <td>4.44</td>\n",
       "      <td>NaN</td>\n",
       "      <td>4.85</td>\n",
       "      <td>4.05</td>\n",
       "    </tr>\n",
       "    <tr>\n",
       "      <th>2008-01-01 01:59:57.120005</th>\n",
       "      <td>1.90</td>\n",
       "      <td>1.18</td>\n",
       "      <td>4.12</td>\n",
       "      <td>4.70</td>\n",
       "      <td>3.46</td>\n",
       "      <td>4.07</td>\n",
       "      <td>2.64</td>\n",
       "      <td>4.18</td>\n",
       "      <td>4.62</td>\n",
       "      <td>5.11</td>\n",
       "      <td>...</td>\n",
       "      <td>4.24</td>\n",
       "      <td>4.23</td>\n",
       "      <td>2.97</td>\n",
       "      <td>NaN</td>\n",
       "      <td>4.06</td>\n",
       "      <td>4.65</td>\n",
       "      <td>4.47</td>\n",
       "      <td>NaN</td>\n",
       "      <td>4.91</td>\n",
       "      <td>4.02</td>\n",
       "    </tr>\n",
       "    <tr>\n",
       "      <th>2008-01-01 03:00:00.000000</th>\n",
       "      <td>1.69</td>\n",
       "      <td>0.98</td>\n",
       "      <td>4.20</td>\n",
       "      <td>4.77</td>\n",
       "      <td>3.65</td>\n",
       "      <td>3.67</td>\n",
       "      <td>2.81</td>\n",
       "      <td>4.27</td>\n",
       "      <td>4.71</td>\n",
       "      <td>5.33</td>\n",
       "      <td>...</td>\n",
       "      <td>4.36</td>\n",
       "      <td>4.30</td>\n",
       "      <td>3.10</td>\n",
       "      <td>NaN</td>\n",
       "      <td>4.12</td>\n",
       "      <td>4.75</td>\n",
       "      <td>4.53</td>\n",
       "      <td>NaN</td>\n",
       "      <td>4.97</td>\n",
       "      <td>4.06</td>\n",
       "    </tr>\n",
       "    <tr>\n",
       "      <th>2008-01-01 04:00:02.879995</th>\n",
       "      <td>2.09</td>\n",
       "      <td>0.93</td>\n",
       "      <td>4.61</td>\n",
       "      <td>4.99</td>\n",
       "      <td>3.90</td>\n",
       "      <td>3.55</td>\n",
       "      <td>3.11</td>\n",
       "      <td>4.29</td>\n",
       "      <td>4.93</td>\n",
       "      <td>5.56</td>\n",
       "      <td>...</td>\n",
       "      <td>4.58</td>\n",
       "      <td>4.53</td>\n",
       "      <td>3.37</td>\n",
       "      <td>NaN</td>\n",
       "      <td>4.25</td>\n",
       "      <td>4.97</td>\n",
       "      <td>4.68</td>\n",
       "      <td>NaN</td>\n",
       "      <td>5.17</td>\n",
       "      <td>4.27</td>\n",
       "    </tr>\n",
       "  </tbody>\n",
       "</table>\n",
       "<p>5 rows × 37 columns</p>\n",
       "</div>"
      ],
      "text/plain": [
       "                           236.554 236.499 236.679 236.607 236.514 236.630  \\\n",
       "                           48.5745 48.5376 48.4655 48.4608 48.4356 48.5273   \n",
       "2008-01-01 00:00:00.000000    3.25    1.43    4.21    4.62    3.45    4.44   \n",
       "2008-01-01 01:00:02.879995    3.06    1.38    4.28    4.77    3.46    4.21   \n",
       "2008-01-01 01:59:57.120005    1.90    1.18    4.12    4.70    3.46    4.07   \n",
       "2008-01-01 03:00:00.000000    1.69    0.98    4.20    4.77    3.65    3.67   \n",
       "2008-01-01 04:00:02.879995    2.09    0.93    4.61    4.99    3.90    3.55   \n",
       "\n",
       "                           236.523 236.543 236.662 236.304   ...   236.641  \\\n",
       "                           48.4529 48.6804 48.4562 48.3891   ...   48.4683   \n",
       "2008-01-01 00:00:00.000000    2.72    3.97    4.68    5.12   ...      4.29   \n",
       "2008-01-01 01:00:02.879995    2.64    4.15    4.61    4.95   ...      4.41   \n",
       "2008-01-01 01:59:57.120005    2.64    4.18    4.62    5.11   ...      4.24   \n",
       "2008-01-01 03:00:00.000000    2.81    4.27    4.71    5.33   ...      4.36   \n",
       "2008-01-01 04:00:02.879995    3.11    4.29    4.93    5.56   ...      4.58   \n",
       "\n",
       "                           236.619 236.514 236.357 236.574 236.596 236.676  \\\n",
       "                           48.4744 48.4205 48.6568 48.4533 48.6529 48.4865   \n",
       "2008-01-01 00:00:00.000000    4.10    3.01     NaN    4.00    4.81    4.58   \n",
       "2008-01-01 01:00:02.879995    4.30    2.87     NaN    4.15    4.60    4.44   \n",
       "2008-01-01 01:59:57.120005    4.23    2.97     NaN    4.06    4.65    4.47   \n",
       "2008-01-01 03:00:00.000000    4.30    3.10     NaN    4.12    4.75    4.53   \n",
       "2008-01-01 04:00:02.879995    4.53    3.37     NaN    4.25    4.97    4.68   \n",
       "\n",
       "                           236.691 236.689 236.451  \n",
       "                           48.4623 48.4359 48.4572  \n",
       "2008-01-01 00:00:00.000000     NaN    4.87    4.07  \n",
       "2008-01-01 01:00:02.879995     NaN    4.85    4.05  \n",
       "2008-01-01 01:59:57.120005     NaN    4.91    4.02  \n",
       "2008-01-01 03:00:00.000000     NaN    4.97    4.06  \n",
       "2008-01-01 04:00:02.879995     NaN    5.17    4.27  \n",
       "\n",
       "[5 rows x 37 columns]"
      ]
     },
     "execution_count": 5,
     "metadata": {},
     "output_type": "execute_result"
    }
   ],
   "source": [
    "def matlab_to_python_datetime(matlab_datenum):\n",
    "    return datetime.fromordinal(int(matlab_datenum)) + timedelta(days=matlab_datenum%1) - timedelta(days = 366)\n",
    "\n",
    "df.index = [matlab_to_python_datetime(i) for i in df.index]\n",
    "df.head()"
   ]
  },
  {
   "cell_type": "markdown",
   "metadata": {},
   "source": [
    "### Finding the Required Station"
   ]
  },
  {
   "cell_type": "markdown",
   "metadata": {},
   "source": [
    "These are the coordinates where we wish to measure the temperature. We look for the station nearest to this point."
   ]
  },
  {
   "cell_type": "code",
   "execution_count": 6,
   "metadata": {},
   "outputs": [],
   "source": [
    "station_lon = 236.691\n",
    "station_lat =  48.462"
   ]
  },
  {
   "cell_type": "code",
   "execution_count": 7,
   "metadata": {},
   "outputs": [],
   "source": [
    "lon_diff = abs(longitudes - station_lon)\n",
    "lat_diff = abs(latitudes - station_lat)\n",
    "\n",
    "station_num = list((lon_diff+lat_diff)).index(min(lon_diff+lat_diff))"
   ]
  },
  {
   "cell_type": "markdown",
   "metadata": {},
   "source": [
    "station_num provides the column number of the data we wish to observe."
   ]
  },
  {
   "cell_type": "markdown",
   "metadata": {},
   "source": [
    "### Obtain Winter and Summer Data"
   ]
  },
  {
   "cell_type": "code",
   "execution_count": 8,
   "metadata": {},
   "outputs": [],
   "source": [
    "df = df.iloc[:,station_num]\n",
    "\n",
    "winter_start = pd.Timestamp(year=2015, month=12, day=1, hour=0)\n",
    "winter_end = pd.Timestamp(year=2016, month=3, day=1, hour=0)\n",
    "summer_start = pd.Timestamp(year=2016, month=6, day=1, hour=0)\n",
    "summer_end = pd.Timestamp(year=2016, month=9, day=1, hour=0)\n",
    "\n",
    "winter_data = df[(df.index>winter_start) & (df.index<winter_end)]\n",
    "summer_data = df[(df.index>summer_start) & (df.index<summer_end)]"
   ]
  },
  {
   "cell_type": "markdown",
   "metadata": {},
   "source": [
    "# Part A"
   ]
  },
  {
   "cell_type": "markdown",
   "metadata": {},
   "source": [
    "## Winter Data"
   ]
  },
  {
   "cell_type": "markdown",
   "metadata": {},
   "source": [
    "Get the signal using scipy's welch method value."
   ]
  },
  {
   "cell_type": "code",
   "execution_count": 9,
   "metadata": {},
   "outputs": [],
   "source": [
    "NT = len(winter_data)\n",
    "N = 2**8\n",
    "\n",
    "x1 = winter_data.values\n",
    "f1, X1 = sp.signal.welch(x1, fs=1, window='hanning', nperseg=N, noverlap = N / 2)"
   ]
  },
  {
   "cell_type": "markdown",
   "metadata": {},
   "source": [
    "Get the uncertainties using the fact that 95%CI = $[S_{min}, S_{max}]$ where\n",
    "\n",
    "$$S_{min} = \\frac{nS(f)}{\\chi^{-2}(1-\\alpha/2, n)} \\hspace{20mm} S_{max} = \\frac{nS(f)}{\\chi^{-2}(\\alpha/2, n)}$$\n",
    "\n",
    "Note that $\\chi^{-2}$ is the inverse chi-squared distribution and $n$ is our degrees of freedom equal to times the number of windows used."
   ]
  },
  {
   "cell_type": "code",
   "execution_count": 10,
   "metadata": {},
   "outputs": [],
   "source": [
    "dof = 2*np.floor(NT/N)\n",
    "a = 0.05 # 95% confidence\n",
    "\n",
    "inter= sp.stats.chi2.interval(0.95, int(dof))\n",
    "X1min = X1*dof/inter[1]; X1max = X1*dof/inter[0]"
   ]
  },
  {
   "cell_type": "markdown",
   "metadata": {},
   "source": [
    "## Summer Data"
   ]
  },
  {
   "cell_type": "code",
   "execution_count": 34,
   "metadata": {},
   "outputs": [],
   "source": [
    "NT = len(summer_data)\n",
    "N = 2**8\n",
    "\n",
    "x2 = summer_data.values\n",
    "f2, X2 = sp.signal.welch(x2, fs=1, window='hanning', nperseg=N, noverlap = N / 2)"
   ]
  },
  {
   "cell_type": "code",
   "execution_count": 35,
   "metadata": {},
   "outputs": [],
   "source": [
    "dof = 2*np.floor(NT/N)\n",
    "a = 0.05 # 95% confidence\n",
    "\n",
    "inter= sp.stats.chi2.interval(0.95, int(dof))\n",
    "X2min = X2*dof/inter[1]; X2max = X2*dof/inter[0]"
   ]
  },
  {
   "cell_type": "markdown",
   "metadata": {},
   "source": [
    "### Plots"
   ]
  },
  {
   "cell_type": "code",
   "execution_count": 36,
   "metadata": {},
   "outputs": [
    {
     "data": {
      "image/png": "[encoded data removed]",
      "text/plain": [
       "<Figure size 864x720 with 2 Axes>"
      ]
     },
     "metadata": {},
     "output_type": "display_data"
    }
   ],
   "source": [
    "fig, axes = plt.subplots(2, 1, figsize=(12,10))\n",
    "axes[0].loglog(f1,X1)\n",
    "axes[0].set_title('Winter Power Spectral Density (256 Points per Segment)')\n",
    "axes[0].set_ylabel('$S_{xx}[V^2/Hz]$')\n",
    "\n",
    "axes[0].fill_between(f1, X1min, X1max, alpha=0.5) #Used for Uncertainties\n",
    "\n",
    "axes[1].loglog(f2,X2,color='r')\n",
    "axes[1].set_title('Summer Power Spectral Density (256 Points per Segment)')\n",
    "axes[1].set_ylabel('$S_{xx}[V^2/Hz]$')\n",
    "\n",
    "axes[1].fill_between(f2, X2min, X2max, alpha=0.5, color='r') #Used for Uncertainties\n",
    "axes[1].set_xlabel('Frequency [1/hours]')\n",
    "\n",
    "axes[0].grid()\n",
    "axes[1].grid()\n",
    "\n",
    "axes[0].axvline(1/12, color='g', label='12 Hours')\n",
    "axes[0].axvline(1/24, color='y', label='24 Hours')\n",
    "\n",
    "axes[1].axvline(1/12, color='g', label='12 Hours')\n",
    "axes[1].axvline(1/24, color='y', label='24 Hours')\n",
    "\n",
    "axes[0].legend()\n",
    "axes[1].legend()\n",
    "\n",
    "plt.show()"
   ]
  }
 ],
 "metadata": {
  "kernelspec": {
   "display_name": "Python 3",
   "language": "python",
   "name": "python3"
  },
  "language_info": {
   "codemirror_mode": {
    "name": "ipython",
    "version": 3
   },
   "file_extension": ".py",
   "mimetype": "text/x-python",
   "name": "python",
   "nbconvert_exporter": "python",
   "pygments_lexer": "ipython3",
   "version": "3.6.5"
  }
 },
 "nbformat": 4,
 "nbformat_minor": 2
}
