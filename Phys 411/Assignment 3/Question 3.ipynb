{
 "cells": [
  {
   "cell_type": "markdown",
   "metadata": {},
   "source": [
    "<h1 id=\"tocheading\">Table of Contents and Notebook Setup</h1>\n",
    "<div id=\"toc\"></div>"
   ]
  },
  {
   "cell_type": "code",
   "execution_count": 1,
   "metadata": {},
   "outputs": [
    {
     "data": {
      "application/javascript": [
       "$.getScript('https://kmahelona.github.io/ipython_notebook_goodies/ipython_notebook_toc.js')"
      ],
      "text/plain": [
       "<IPython.core.display.Javascript object>"
      ]
     },
     "metadata": {},
     "output_type": "display_data"
    }
   ],
   "source": [
    "%%javascript\n",
    "$.getScript('https://kmahelona.github.io/ipython_notebook_goodies/ipython_notebook_toc.js')"
   ]
  },
  {
   "cell_type": "code",
   "execution_count": 2,
   "metadata": {},
   "outputs": [],
   "source": [
    "import pandas as pd\n",
    "import numpy as np\n",
    "import matplotlib.pyplot as plt\n",
    "import matplotlib.dates as mdates\n",
    "import scipy as sp\n",
    "from scipy import signal\n",
    "from datetime import timedelta, datetime"
   ]
  },
  {
   "cell_type": "markdown",
   "metadata": {},
   "source": [
    "The Fourier Series of a function $f(x)$ periodic on the interval $[-T/2, T/2]$ is given by\n",
    "\n",
    "$$f(x)= a_0 +\\sum_{n=1}^{\\infty} a_n\\cos(2n \\pi x/T) +\\sum_{n=1}^{\\infty} b_n\\sin(2n \\pi x/T)$$\n",
    "\n",
    "where\n",
    "\n",
    "$$a_n = \\frac{2}{T}\\int_{-T/2}^{T/2} f(x) \\cos(2n \\pi x/T)dx \\hspace{10mm} b_n = \\frac{2}{T}\\int_{-T/2}^{T/2} f(x) \\sin(2n \\pi x/T)dx \\hspace{10mm}$$\n",
    "\n",
    "for the square wave defined in the problem, all $a_n$'s are zero because the appropriate integral defined above has an odd integrand and is thus zero for all $n$. The $b_n$'s are given by\n",
    "\n",
    "$$\\begin{align}\n",
    "b_n &= \\frac{2}{T}\\int_{-T/2}^{0} -\\sin(2n \\pi x/T)dx + \\frac{2}{T}\\int_{0}^{T/2} \\sin(2n \\pi x/T)dx\\\\ \\\\\n",
    "&= \\frac{2}{T}\\frac{T}{2n \\pi} \\left[\\cos(\\frac{2n \\pi x}{T}) \\right]_{-T/2}^{0}-\\frac{2}{T}\\frac{T}{2n \\pi} \\left[\\cos(\\frac{2n \\pi x}{T}) \\right]_{0}^{T/2}\\\\ \\\\\n",
    "&= \\frac{1}{n\\pi}(1-(-1)^n)-\\frac{1}{n\\pi}((-1)^n-1) \\\\ \\\\\n",
    "& = \\frac{2}{n\\pi}(1-(-1)^n)\n",
    "\\end{align}$$\n",
    "\n",
    "It follows that\n",
    "\n",
    "$$f(x) = \\sum_{n=1}^{\\infty} \\frac{2}{n\\pi}(1-(-1)^n) \\sin \\left(\\frac{2n \\pi x}{T} \\right) $$\n"
   ]
  },
  {
   "cell_type": "code",
   "execution_count": 12,
   "metadata": {},
   "outputs": [],
   "source": [
    "T=1"
   ]
  },
  {
   "cell_type": "code",
   "execution_count": 23,
   "metadata": {},
   "outputs": [],
   "source": [
    "def a_n(n):\n",
    "    return 0\n",
    "\n",
    "def b_n(n):\n",
    "    return (2/(n*np.pi))*(1-(-1)**n)\n",
    "\n",
    "def get_fourier(x, n, a_n, b_n):\n",
    "    fourier = 0*x\n",
    "    for i in range(1,n):\n",
    "        fourier +=a_n(i)*np.cos(2*i*np.pi/T)+ b_n(i)*np.sin(2*i*np.pi*x/T)\n",
    "    return fourier"
   ]
  },
  {
   "cell_type": "code",
   "execution_count": 24,
   "metadata": {},
   "outputs": [
    {
     "data": {
      "text/plain": [
       "0.25464790894703254"
      ]
     },
     "execution_count": 24,
     "metadata": {},
     "output_type": "execute_result"
    }
   ],
   "source": [
    "b_n(5)"
   ]
  },
  {
   "cell_type": "code",
   "execution_count": 25,
   "metadata": {},
   "outputs": [],
   "source": [
    "x = np.linspace(-T, T, 100)"
   ]
  },
  {
   "cell_type": "code",
   "execution_count": 30,
   "metadata": {},
   "outputs": [],
   "source": [
    "fourier = get_fourier(x, 10, a_n, b_n)"
   ]
  },
  {
   "cell_type": "code",
   "execution_count": 31,
   "metadata": {},
   "outputs": [
    {
     "data": {
      "text/plain": [
       "[<matplotlib.lines.Line2D at 0x1c14d11b38>]"
      ]
     },
     "execution_count": 31,
     "metadata": {},
     "output_type": "execute_result"
    },
    {
     "data": {
      "image/png": "[encoded data removed]",
      "text/plain": [
       "<Figure size 432x288 with 1 Axes>"
      ]
     },
     "metadata": {
      "needs_background": "light"
     },
     "output_type": "display_data"
    }
   ],
   "source": [
    "plt.plot(x,fourier)"
   ]
  },
  {
   "cell_type": "code",
   "execution_count": null,
   "metadata": {},
   "outputs": [],
   "source": []
  }
 ],
 "metadata": {
  "kernelspec": {
   "display_name": "Python 3",
   "language": "python",
   "name": "python3"
  },
  "language_info": {
   "codemirror_mode": {
    "name": "ipython",
    "version": 3
   },
   "file_extension": ".py",
   "mimetype": "text/x-python",
   "name": "python",
   "nbconvert_exporter": "python",
   "pygments_lexer": "ipython3",
   "version": "3.6.6"
  }
 },
 "nbformat": 4,
 "nbformat_minor": 2
}
