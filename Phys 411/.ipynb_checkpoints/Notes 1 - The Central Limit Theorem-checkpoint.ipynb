{
 "cells": [
  {
   "cell_type": "markdown",
   "metadata": {},
   "source": [
    "<h1 id=\"tocheading\">Table of Contents and Notebook Setup</h1>\n",
    "<div id=\"toc\"></div>"
   ]
  },
  {
   "cell_type": "code",
   "execution_count": 3,
   "metadata": {},
   "outputs": [
    {
     "data": {
      "application/javascript": [
       "$.getScript('https://kmahelona.github.io/ipython_notebook_goodies/ipython_notebook_toc.js')"
      ],
      "text/plain": [
       "<IPython.core.display.Javascript object>"
      ]
     },
     "metadata": {},
     "output_type": "display_data"
    }
   ],
   "source": [
    "%%javascript\n",
    "$.getScript('https://kmahelona.github.io/ipython_notebook_goodies/ipython_notebook_toc.js')"
   ]
  },
  {
   "cell_type": "code",
   "execution_count": 11,
   "metadata": {
    "collapsed": true
   },
   "outputs": [],
   "source": [
    "import numpy as np \n",
    "import pandas as pd"
   ]
  },
  {
   "cell_type": "markdown",
   "metadata": {},
   "source": [
    "# The Central Limit Theorem"
   ]
  },
  {
   "cell_type": "markdown",
   "metadata": {},
   "source": [
    "Suppose we have n independent distributions of random variables of <b> any kind. </b> These variables can be normally distributed, uniformly distributed, or any ditribution we like. Lets label these ditributions as follows:"
   ]
  },
  {
   "cell_type": "markdown",
   "metadata": {},
   "source": [
    "$$\\{x_1(k), x_2(k), ... x_n(k)\\}$$"
   ]
  },
  {
   "cell_type": "markdown",
   "metadata": {},
   "source": [
    "with $E[x_i(k)]=\\mu_i$ and $E[(x_i(k)-\\mu_i)^2]=\\sigma_i^2$."
   ]
  },
  {
   "cell_type": "markdown",
   "metadata": {},
   "source": [
    "These distributions consist of measurements (they <b> are not </b> probability density functions). They can be thought of as vectors with finite many measurements. Note that the more measurements we make, the more we approach the actually probability distribution."
   ]
  },
  {
   "cell_type": "markdown",
   "metadata": {},
   "source": [
    "## Creating a New Distribution"
   ]
  },
  {
   "cell_type": "markdown",
   "metadata": {},
   "source": [
    "Thinking of the distributions of vectors, we can some over them and create a new distribution as such:"
   ]
  },
  {
   "cell_type": "markdown",
   "metadata": {},
   "source": [
    "$$x=\\frac{1}{N} \\sum_{i=1}^N x_i(k)$$"
   ]
  },
  {
   "cell_type": "markdown",
   "metadata": {},
   "source": [
    "This new distribution takes the mean value for vector entry. Consider the example below where $x_1=[9,8,12]$, and $x_2=[10,11,8]$ and $x_3=[12,7,9]$."
   ]
  },
  {
   "cell_type": "code",
   "execution_count": 32,
   "metadata": {},
   "outputs": [
    {
     "data": {
      "text/plain": [
       "array([ 10.33333333,   8.66666667,   9.66666667])"
      ]
     },
     "execution_count": 32,
     "metadata": {},
     "output_type": "execute_result"
    }
   ],
   "source": [
    "x_1 = np.array([9,8,12])\n",
    "x_2 = np.array([10,11,8])\n",
    "x_3 = np.array([12,7,9])\n",
    "\n",
    "x = (1./3)*(x_1+x_2+x_3)\n",
    "x"
   ]
  },
  {
   "cell_type": "markdown",
   "metadata": {},
   "source": [
    "The new entries are the element-wise mean of the three data sets."
   ]
  },
  {
   "cell_type": "markdown",
   "metadata": {},
   "source": [
    "## The Prediction of the Central Limit Theorem"
   ]
  },
  {
   "cell_type": "markdown",
   "metadata": {},
   "source": [
    "The central limit theorem predicts that the distribution $x$ , for large $N$, approaches a normal distribution."
   ]
  },
  {
   "cell_type": "markdown",
   "metadata": {},
   "source": [
    "# Programming Examples"
   ]
  },
  {
   "cell_type": "markdown",
   "metadata": {},
   "source": [
    "## Application of Central Limit Theorem on Uniform Distributions"
   ]
  },
  {
   "cell_type": "markdown",
   "metadata": {},
   "source": [
    "Below we make 50 measurements of a uniformly distributed variable for each data set $x_i(k)$. In total we measure 30 data sets."
   ]
  },
  {
   "cell_type": "code",
   "execution_count": 62,
   "metadata": {},
   "outputs": [
    {
     "data": {
      "text/html": [
       "<div>\n",
       "<style>\n",
       "    .dataframe thead tr:only-child th {\n",
       "        text-align: right;\n",
       "    }\n",
       "\n",
       "    .dataframe thead th {\n",
       "        text-align: left;\n",
       "    }\n",
       "\n",
       "    .dataframe tbody tr th {\n",
       "        vertical-align: top;\n",
       "    }\n",
       "</style>\n",
       "<table border=\"1\" class=\"dataframe\">\n",
       "  <thead>\n",
       "    <tr style=\"text-align: right;\">\n",
       "      <th></th>\n",
       "      <th>Data Set</th>\n",
       "    </tr>\n",
       "  </thead>\n",
       "  <tbody>\n",
       "    <tr>\n",
       "      <th>$x_0$</th>\n",
       "      <td>[0.457998615832, 0.0652584516164, 0.1847594649...</td>\n",
       "    </tr>\n",
       "    <tr>\n",
       "      <th>$x_1$</th>\n",
       "      <td>[0.15520448996, 0.187205538144, 0.620046926802...</td>\n",
       "    </tr>\n",
       "    <tr>\n",
       "      <th>$x_2$</th>\n",
       "      <td>[0.105056391327, 0.693403246722, 0.48446242380...</td>\n",
       "    </tr>\n",
       "    <tr>\n",
       "      <th>$x_3$</th>\n",
       "      <td>[0.254089585794, 0.00362408349563, 0.518781290...</td>\n",
       "    </tr>\n",
       "    <tr>\n",
       "      <th>$x_4$</th>\n",
       "      <td>[0.690431188056, 0.958970692975, 0.56146227269...</td>\n",
       "    </tr>\n",
       "  </tbody>\n",
       "</table>\n",
       "</div>"
      ],
      "text/plain": [
       "                                                Data Set\n",
       "$x_0$  [0.457998615832, 0.0652584516164, 0.1847594649...\n",
       "$x_1$  [0.15520448996, 0.187205538144, 0.620046926802...\n",
       "$x_2$  [0.105056391327, 0.693403246722, 0.48446242380...\n",
       "$x_3$  [0.254089585794, 0.00362408349563, 0.518781290...\n",
       "$x_4$  [0.690431188056, 0.958970692975, 0.56146227269..."
      ]
     },
     "execution_count": 62,
     "metadata": {},
     "output_type": "execute_result"
    }
   ],
   "source": [
    "df = pd.DataFrame(columns = ['Data Set'])\n",
    "\n",
    "num_datasets = 30\n",
    "for i in np.arange(num_datasets):\n",
    "    s = pd.Series([np.random.rand(50)], index=['Data Set'])\n",
    "    s.name=('$x_{}$'.format(i))\n",
    "    df = df.append(s)\n",
    "    \n",
    "df.head()"
   ]
  },
  {
   "cell_type": "markdown",
   "metadata": {},
   "source": [
    "The central limit theorem claims that if we "
   ]
  }
 ],
 "metadata": {
  "kernelspec": {
   "display_name": "Python 3",
   "language": "python",
   "name": "python3"
  },
  "language_info": {
   "codemirror_mode": {
    "name": "ipython",
    "version": 3
   },
   "file_extension": ".py",
   "mimetype": "text/x-python",
   "name": "python",
   "nbconvert_exporter": "python",
   "pygments_lexer": "ipython3",
   "version": "3.6.2"
  }
 },
 "nbformat": 4,
 "nbformat_minor": 2
}
