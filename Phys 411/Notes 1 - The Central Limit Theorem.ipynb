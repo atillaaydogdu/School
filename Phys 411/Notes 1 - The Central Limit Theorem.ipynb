{
 "cells": [
  {
   "cell_type": "markdown",
   "metadata": {},
   "source": [
    "<h1 id=\"tocheading\">Table of Contents and Notebook Setup</h1>\n",
    "<div id=\"toc\"></div>"
   ]
  },
  {
   "cell_type": "code",
   "execution_count": 1,
   "metadata": {},
   "outputs": [
    {
     "data": {
      "application/javascript": [
       "$.getScript('https://kmahelona.github.io/ipython_notebook_goodies/ipython_notebook_toc.js')"
      ],
      "text/plain": [
       "<IPython.core.display.Javascript object>"
      ]
     },
     "metadata": {},
     "output_type": "display_data"
    }
   ],
   "source": [
    "%%javascript\n",
    "$.getScript('https://kmahelona.github.io/ipython_notebook_goodies/ipython_notebook_toc.js')"
   ]
  },
  {
   "cell_type": "code",
   "execution_count": 2,
   "metadata": {
    "collapsed": true
   },
   "outputs": [],
   "source": [
    "import numpy as np \n",
    "import pandas as pd\n",
    "import matplotlib.pyplot as plt"
   ]
  },
  {
   "cell_type": "markdown",
   "metadata": {},
   "source": [
    "# The Central Limit Theorem"
   ]
  },
  {
   "cell_type": "markdown",
   "metadata": {},
   "source": [
    "Suppose we have n independent distributions of random variables of <b> any kind. </b> These variables can be normally distributed, uniformly distributed, or any ditribution we like. Lets label these ditributions as follows:"
   ]
  },
  {
   "cell_type": "markdown",
   "metadata": {},
   "source": [
    "$$\\{x_1(k), x_2(k), ... x_n(k)\\}$$"
   ]
  },
  {
   "cell_type": "markdown",
   "metadata": {},
   "source": [
    "with $E[x_i(k)]=\\mu_i$ and $E[(x_i(k)-\\mu_i)^2]=\\sigma_i^2$."
   ]
  },
  {
   "cell_type": "markdown",
   "metadata": {},
   "source": [
    "These distributions consist of measurements (they <b> are not </b> probability density functions). They can be thought of as vectors with finite many measurements. Note that the more measurements we make, the more we approach the actually probability distribution."
   ]
  },
  {
   "cell_type": "markdown",
   "metadata": {},
   "source": [
    "## The 'Mean Measurement' Distribution"
   ]
  },
  {
   "cell_type": "markdown",
   "metadata": {},
   "source": [
    "Thinking of the distributions of vectors, we can some over them and create a new distribution as such:"
   ]
  },
  {
   "cell_type": "markdown",
   "metadata": {},
   "source": [
    "$$x=\\frac{1}{N} \\sum_{i=1}^N x_i(k)$$"
   ]
  },
  {
   "cell_type": "markdown",
   "metadata": {},
   "source": [
    "This new distribution takes the mean value for vector entry. Consider the example below where $x_1=[9,8,12]$, and $x_2=[10,11,8]$ and $x_3=[12,7,9]$."
   ]
  },
  {
   "cell_type": "code",
   "execution_count": 3,
   "metadata": {},
   "outputs": [
    {
     "data": {
      "text/plain": [
       "array([ 10.33333333,   8.66666667,   9.66666667])"
      ]
     },
     "execution_count": 3,
     "metadata": {},
     "output_type": "execute_result"
    }
   ],
   "source": [
    "x_1 = np.array([9,8,12])\n",
    "x_2 = np.array([10,11,8])\n",
    "x_3 = np.array([12,7,9])\n",
    "\n",
    "x = (1./3)*(x_1+x_2+x_3)\n",
    "x"
   ]
  },
  {
   "cell_type": "markdown",
   "metadata": {},
   "source": [
    "The new entries are the element-wise mean of the three data sets."
   ]
  },
  {
   "cell_type": "markdown",
   "metadata": {},
   "source": [
    "## The Prediction of the Central Limit Theorem"
   ]
  },
  {
   "cell_type": "markdown",
   "metadata": {},
   "source": [
    "The central limit theorem predicts that the distribution $x$ , for large $N$, approaches a normal distribution."
   ]
  },
  {
   "cell_type": "markdown",
   "metadata": {},
   "source": [
    "# Programming Examples"
   ]
  },
  {
   "cell_type": "markdown",
   "metadata": {},
   "source": [
    "## Application of Central Limit Theorem on Uniform Distributions"
   ]
  },
  {
   "cell_type": "markdown",
   "metadata": {},
   "source": [
    "Below we make 100000 measurements of a uniformly distributed variable for each data set $x_i(k)$. In total we measure 30 data sets."
   ]
  },
  {
   "cell_type": "code",
   "execution_count": 8,
   "metadata": {},
   "outputs": [
    {
     "data": {
      "text/html": [
       "<div>\n",
       "<style>\n",
       "    .dataframe thead tr:only-child th {\n",
       "        text-align: right;\n",
       "    }\n",
       "\n",
       "    .dataframe thead th {\n",
       "        text-align: left;\n",
       "    }\n",
       "\n",
       "    .dataframe tbody tr th {\n",
       "        vertical-align: top;\n",
       "    }\n",
       "</style>\n",
       "<table border=\"1\" class=\"dataframe\">\n",
       "  <thead>\n",
       "    <tr style=\"text-align: right;\">\n",
       "      <th></th>\n",
       "      <th>$x_{0}$</th>\n",
       "      <th>$x_{1}$</th>\n",
       "      <th>$x_{2}$</th>\n",
       "      <th>$x_{3}$</th>\n",
       "      <th>$x_{4}$</th>\n",
       "      <th>$x_{5}$</th>\n",
       "      <th>$x_{6}$</th>\n",
       "      <th>$x_{7}$</th>\n",
       "      <th>$x_{8}$</th>\n",
       "      <th>$x_{9}$</th>\n",
       "      <th>...</th>\n",
       "      <th>$x_{20}$</th>\n",
       "      <th>$x_{21}$</th>\n",
       "      <th>$x_{22}$</th>\n",
       "      <th>$x_{23}$</th>\n",
       "      <th>$x_{24}$</th>\n",
       "      <th>$x_{25}$</th>\n",
       "      <th>$x_{26}$</th>\n",
       "      <th>$x_{27}$</th>\n",
       "      <th>$x_{28}$</th>\n",
       "      <th>$x_{29}$</th>\n",
       "    </tr>\n",
       "  </thead>\n",
       "  <tbody>\n",
       "    <tr>\n",
       "      <th>0</th>\n",
       "      <td>0.857073</td>\n",
       "      <td>0.341350</td>\n",
       "      <td>0.846027</td>\n",
       "      <td>0.469317</td>\n",
       "      <td>0.653544</td>\n",
       "      <td>0.473007</td>\n",
       "      <td>0.073707</td>\n",
       "      <td>0.779952</td>\n",
       "      <td>0.112638</td>\n",
       "      <td>0.178213</td>\n",
       "      <td>...</td>\n",
       "      <td>0.423896</td>\n",
       "      <td>0.589153</td>\n",
       "      <td>0.330146</td>\n",
       "      <td>0.107317</td>\n",
       "      <td>0.167065</td>\n",
       "      <td>0.686347</td>\n",
       "      <td>0.647436</td>\n",
       "      <td>0.577177</td>\n",
       "      <td>0.996365</td>\n",
       "      <td>0.388639</td>\n",
       "    </tr>\n",
       "    <tr>\n",
       "      <th>1</th>\n",
       "      <td>0.404198</td>\n",
       "      <td>0.199993</td>\n",
       "      <td>0.277158</td>\n",
       "      <td>0.473927</td>\n",
       "      <td>0.420698</td>\n",
       "      <td>0.766797</td>\n",
       "      <td>0.680765</td>\n",
       "      <td>0.393622</td>\n",
       "      <td>0.453770</td>\n",
       "      <td>0.752557</td>\n",
       "      <td>...</td>\n",
       "      <td>0.514121</td>\n",
       "      <td>0.394929</td>\n",
       "      <td>0.729039</td>\n",
       "      <td>0.970609</td>\n",
       "      <td>0.293154</td>\n",
       "      <td>0.612170</td>\n",
       "      <td>0.633805</td>\n",
       "      <td>0.011639</td>\n",
       "      <td>0.673188</td>\n",
       "      <td>0.639218</td>\n",
       "    </tr>\n",
       "    <tr>\n",
       "      <th>2</th>\n",
       "      <td>0.421258</td>\n",
       "      <td>0.459594</td>\n",
       "      <td>0.666147</td>\n",
       "      <td>0.638385</td>\n",
       "      <td>0.917152</td>\n",
       "      <td>0.673767</td>\n",
       "      <td>0.859497</td>\n",
       "      <td>0.149235</td>\n",
       "      <td>0.697655</td>\n",
       "      <td>0.883902</td>\n",
       "      <td>...</td>\n",
       "      <td>0.245294</td>\n",
       "      <td>0.368556</td>\n",
       "      <td>0.377703</td>\n",
       "      <td>0.654895</td>\n",
       "      <td>0.941592</td>\n",
       "      <td>0.467642</td>\n",
       "      <td>0.232029</td>\n",
       "      <td>0.557334</td>\n",
       "      <td>0.014314</td>\n",
       "      <td>0.976385</td>\n",
       "    </tr>\n",
       "    <tr>\n",
       "      <th>3</th>\n",
       "      <td>0.172604</td>\n",
       "      <td>0.627612</td>\n",
       "      <td>0.695503</td>\n",
       "      <td>0.289789</td>\n",
       "      <td>0.325621</td>\n",
       "      <td>0.023695</td>\n",
       "      <td>0.355190</td>\n",
       "      <td>0.376219</td>\n",
       "      <td>0.873482</td>\n",
       "      <td>0.818927</td>\n",
       "      <td>...</td>\n",
       "      <td>0.276136</td>\n",
       "      <td>0.667383</td>\n",
       "      <td>0.249310</td>\n",
       "      <td>0.895456</td>\n",
       "      <td>0.664511</td>\n",
       "      <td>0.995837</td>\n",
       "      <td>0.888238</td>\n",
       "      <td>0.455745</td>\n",
       "      <td>0.276707</td>\n",
       "      <td>0.279636</td>\n",
       "    </tr>\n",
       "    <tr>\n",
       "      <th>4</th>\n",
       "      <td>0.994984</td>\n",
       "      <td>0.369710</td>\n",
       "      <td>0.501975</td>\n",
       "      <td>0.856254</td>\n",
       "      <td>0.693610</td>\n",
       "      <td>0.425664</td>\n",
       "      <td>0.235933</td>\n",
       "      <td>0.254447</td>\n",
       "      <td>0.223961</td>\n",
       "      <td>0.902343</td>\n",
       "      <td>...</td>\n",
       "      <td>0.961935</td>\n",
       "      <td>0.923911</td>\n",
       "      <td>0.202330</td>\n",
       "      <td>0.177988</td>\n",
       "      <td>0.438958</td>\n",
       "      <td>0.785460</td>\n",
       "      <td>0.828750</td>\n",
       "      <td>0.060360</td>\n",
       "      <td>0.526891</td>\n",
       "      <td>0.288687</td>\n",
       "    </tr>\n",
       "  </tbody>\n",
       "</table>\n",
       "<p>5 rows × 30 columns</p>\n",
       "</div>"
      ],
      "text/plain": [
       "    $x_{0}$   $x_{1}$   $x_{2}$   $x_{3}$   $x_{4}$   $x_{5}$   $x_{6}$  \\\n",
       "0  0.857073  0.341350  0.846027  0.469317  0.653544  0.473007  0.073707   \n",
       "1  0.404198  0.199993  0.277158  0.473927  0.420698  0.766797  0.680765   \n",
       "2  0.421258  0.459594  0.666147  0.638385  0.917152  0.673767  0.859497   \n",
       "3  0.172604  0.627612  0.695503  0.289789  0.325621  0.023695  0.355190   \n",
       "4  0.994984  0.369710  0.501975  0.856254  0.693610  0.425664  0.235933   \n",
       "\n",
       "    $x_{7}$   $x_{8}$   $x_{9}$    ...     $x_{20}$  $x_{21}$  $x_{22}$  \\\n",
       "0  0.779952  0.112638  0.178213    ...     0.423896  0.589153  0.330146   \n",
       "1  0.393622  0.453770  0.752557    ...     0.514121  0.394929  0.729039   \n",
       "2  0.149235  0.697655  0.883902    ...     0.245294  0.368556  0.377703   \n",
       "3  0.376219  0.873482  0.818927    ...     0.276136  0.667383  0.249310   \n",
       "4  0.254447  0.223961  0.902343    ...     0.961935  0.923911  0.202330   \n",
       "\n",
       "   $x_{23}$  $x_{24}$  $x_{25}$  $x_{26}$  $x_{27}$  $x_{28}$  $x_{29}$  \n",
       "0  0.107317  0.167065  0.686347  0.647436  0.577177  0.996365  0.388639  \n",
       "1  0.970609  0.293154  0.612170  0.633805  0.011639  0.673188  0.639218  \n",
       "2  0.654895  0.941592  0.467642  0.232029  0.557334  0.014314  0.976385  \n",
       "3  0.895456  0.664511  0.995837  0.888238  0.455745  0.276707  0.279636  \n",
       "4  0.177988  0.438958  0.785460  0.828750  0.060360  0.526891  0.288687  \n",
       "\n",
       "[5 rows x 30 columns]"
      ]
     },
     "execution_count": 8,
     "metadata": {},
     "output_type": "execute_result"
    }
   ],
   "source": [
    "num_measurements = 100000\n",
    "num_datasets = 30\n",
    "\n",
    "data_sets = [r'$x_{%s}$' % i for i in np.arange(num_datasets)] #list of the names of the data sets\n",
    "df = pd.DataFrame(columns = data_sets)\n",
    "\n",
    "for i in np.arange(num_datasets):\n",
    "    df[r'$x_{%s}$' % i] = np.random.rand(num_measurements)\n",
    "    \n",
    "df.head()"
   ]
  },
  {
   "cell_type": "markdown",
   "metadata": {},
   "source": [
    "In total there are 100000 measurements for each column. The measurements are uniformly distributed between 0 and 1. We provide evidence of this on the plot below."
   ]
  },
  {
   "cell_type": "code",
   "execution_count": 17,
   "metadata": {},
   "outputs": [
    {
     "data": {
      "image/png": "[encoded data removed]",
      "text/plain": [
       "<matplotlib.figure.Figure at 0x114afb400>"
      ]
     },
     "execution_count": 17,
     "metadata": {},
     "output_type": "execute_result"
    }
   ],
   "source": [
    "fig = plt.figure()\n",
    "ax = fig.add_subplot(1,1,1)\n",
    "\n",
    "ax.hist(np.array(df['$x_{0}$']), bins=100, color='k', alpha=0.3)\n",
    "ax.set_title('Histogram of values in data set $x_0$')\n",
    "ax.set_xlabel('Values')\n",
    "\n",
    "fig"
   ]
  },
  {
   "cell_type": "markdown",
   "metadata": {},
   "source": [
    "The central limit theorem claims that if we average each row, thus producing a new data set $x$ (which could be represented by a new column in this dataframe), the new data set will be normally distributed."
   ]
  },
  {
   "cell_type": "code",
   "execution_count": 9,
   "metadata": {},
   "outputs": [
    {
     "data": {
      "text/html": [
       "<div>\n",
       "<style>\n",
       "    .dataframe thead tr:only-child th {\n",
       "        text-align: right;\n",
       "    }\n",
       "\n",
       "    .dataframe thead th {\n",
       "        text-align: left;\n",
       "    }\n",
       "\n",
       "    .dataframe tbody tr th {\n",
       "        vertical-align: top;\n",
       "    }\n",
       "</style>\n",
       "<table border=\"1\" class=\"dataframe\">\n",
       "  <thead>\n",
       "    <tr style=\"text-align: right;\">\n",
       "      <th></th>\n",
       "      <th>$x$</th>\n",
       "    </tr>\n",
       "  </thead>\n",
       "  <tbody>\n",
       "    <tr>\n",
       "      <th>0</th>\n",
       "      <td>0.489629</td>\n",
       "    </tr>\n",
       "    <tr>\n",
       "      <th>1</th>\n",
       "      <td>0.501820</td>\n",
       "    </tr>\n",
       "    <tr>\n",
       "      <th>2</th>\n",
       "      <td>0.569685</td>\n",
       "    </tr>\n",
       "    <tr>\n",
       "      <th>3</th>\n",
       "      <td>0.493608</td>\n",
       "    </tr>\n",
       "    <tr>\n",
       "      <th>4</th>\n",
       "      <td>0.519153</td>\n",
       "    </tr>\n",
       "  </tbody>\n",
       "</table>\n",
       "</div>"
      ],
      "text/plain": [
       "        $x$\n",
       "0  0.489629\n",
       "1  0.501820\n",
       "2  0.569685\n",
       "3  0.493608\n",
       "4  0.519153"
      ]
     },
     "execution_count": 9,
     "metadata": {},
     "output_type": "execute_result"
    }
   ],
   "source": [
    "df['$x$'] = df.mean(axis=1)\n",
    "df[['$x$']].head()"
   ]
  },
  {
   "cell_type": "markdown",
   "metadata": {},
   "source": [
    "Lets plot this data set as a histogram."
   ]
  },
  {
   "cell_type": "code",
   "execution_count": 14,
   "metadata": {},
   "outputs": [
    {
     "data": {
      "image/png": "[encoded data removed]",
      "text/plain": [
       "<matplotlib.figure.Figure at 0x113c60f28>"
      ]
     },
     "execution_count": 14,
     "metadata": {},
     "output_type": "execute_result"
    }
   ],
   "source": [
    "fig = plt.figure()\n",
    "ax = fig.add_subplot(1,1,1)\n",
    "\n",
    "ax.hist(np.array(df['$x$']), bins=100, color='k', alpha=0.3)\n",
    "ax.set_title('Histogram of values in data set $x_0$')\n",
    "ax.set_xlabel('Values')\n",
    "\n",
    "fig"
   ]
  },
  {
   "cell_type": "markdown",
   "metadata": {},
   "source": [
    "As the central limit theorem suggests, this data is normally distributed."
   ]
  }
 ],
 "metadata": {
  "kernelspec": {
   "display_name": "Python 3",
   "language": "python",
   "name": "python3"
  },
  "language_info": {
   "codemirror_mode": {
    "name": "ipython",
    "version": 3
   },
   "file_extension": ".py",
   "mimetype": "text/x-python",
   "name": "python",
   "nbconvert_exporter": "python",
   "pygments_lexer": "ipython3",
   "version": "3.6.5"
  }
 },
 "nbformat": 4,
 "nbformat_minor": 2
}
