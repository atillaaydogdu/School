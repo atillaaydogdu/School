{
 "cells": [
  {
   "cell_type": "code",
   "execution_count": 1,
   "metadata": {},
   "outputs": [],
   "source": [
    "import numpy as np\n",
    "import matplotlib.pyplot as plt\n",
    "import pint"
   ]
  },
  {
   "cell_type": "markdown",
   "metadata": {},
   "source": [
    "Here the `pint` module is used because dealing with units is a real pain and this package makes them very easy to manage in python."
   ]
  },
  {
   "cell_type": "code",
   "execution_count": 2,
   "metadata": {},
   "outputs": [],
   "source": [
    "u = pint.UnitRegistry()"
   ]
  },
  {
   "cell_type": "markdown",
   "metadata": {},
   "source": [
    "# Question 1"
   ]
  },
  {
   "cell_type": "markdown",
   "metadata": {},
   "source": [
    "Start by defining all appropriate constants."
   ]
  },
  {
   "cell_type": "code",
   "execution_count": 3,
   "metadata": {},
   "outputs": [],
   "source": [
    "E0 = 20 * u.MeV\n",
    "N0 = 1e5\n",
    "d = 1.5 * u.cm\n",
    "rho = 11.36 * u.g/u.cm**3\n",
    "kap_a = 1.85e-23 *u.cm**2\n",
    "A = 207.2 *u.g\n",
    "mu_rho = 0.0612 * u.cm**2 / u.g\n",
    "Na = 6.02e23"
   ]
  },
  {
   "cell_type": "markdown",
   "metadata": {},
   "source": [
    "## Part A"
   ]
  },
  {
   "cell_type": "markdown",
   "metadata": {},
   "source": [
    "The number of photons interacting through pair production is\n",
    "\n",
    "$$N_{int} = N_0 \\frac{\\kappa}{\\mu} (1-e^{-\\mu x})$$\n",
    "\n",
    "Noting that ${}_a \\kappa = \\frac{A}{N_a}\\frac{\\kappa}{\\rho} \\implies \\kappa = \\frac{N_a \\rho}{A} {}_a\\kappa$ we can write this as\n",
    "\n",
    "$$N_{int} = N_0 \\frac{\\frac{N_a \\rho}{A} {}_a\\kappa}{\\rho(\\mu/\\rho)} (1-e^{-\\mu x}) = N_0 \\frac{N_a \\cdot  {}_a\\kappa}{ A (\\mu/\\rho)} (1-e^{-\\rho(\\mu/\\rho) x})$$"
   ]
  },
  {
   "cell_type": "code",
   "execution_count": 4,
   "metadata": {},
   "outputs": [
    {
     "data": {
      "text/plain": [
       "56872"
      ]
     },
     "execution_count": 4,
     "metadata": {},
     "output_type": "execute_result"
    }
   ],
   "source": [
    "Nint = N0*Na*kap_a / (A*mu_rho) * (1-np.exp(-rho*mu_rho*d))\n",
    "int(Nint)"
   ]
  },
  {
   "cell_type": "markdown",
   "metadata": {},
   "source": [
    "Now the kinetic energy transferred to the electron and positron in pair production is\n",
    "\n",
    "$$E_{trans} = E_{\\gamma} - 2m_e c^2$$\n",
    "\n",
    "where $2m_e c^2 = 1.022$MeV is the rest mass of an electron and positron. The total energy transferred in pair production is thus\n",
    "\n",
    "$$E_{pp} = N_{int} \\cdot E_{trans}$$"
   ]
  },
  {
   "cell_type": "code",
   "execution_count": 5,
   "metadata": {},
   "outputs": [
    {
     "name": "stdout",
     "output_type": "stream",
     "text": [
      "The energy transferred from photons to charged particles from pair production is 1079.322 gigaelectron_volt\n"
     ]
    }
   ],
   "source": [
    "me = 0.511 *u.MeV\n",
    "E_pp = Nint * (E0 - 2*me)\n",
    "print(f'The energy transferred from photons to charged particles from pair production is {E_pp.to(u.gigaeV):.3f}')"
   ]
  },
  {
   "cell_type": "markdown",
   "metadata": {},
   "source": [
    "## Part B"
   ]
  },
  {
   "cell_type": "markdown",
   "metadata": {},
   "source": [
    "Energy Conservation states that\n",
    "\n",
    "$$E_{\\gamma} = 2m_ec^2 + T_{e^{-}} + T_{e^{+}}$$\n",
    "\n",
    "so\n",
    "\n",
    "$$T_{e^{+}} = E_{\\gamma} - 2m_ec^2 - T_{e^{-}}$$"
   ]
  },
  {
   "cell_type": "code",
   "execution_count": 6,
   "metadata": {},
   "outputs": [
    {
     "name": "stdout",
     "output_type": "stream",
     "text": [
      "The energy of the positron is 13.98 megaelectron_volt\n"
     ]
    }
   ],
   "source": [
    "T_e = 5 * u.MeV\n",
    "T_p = E0 - 2*me - T_e\n",
    "print(f'The energy of the positron is {T_p:.2f}')"
   ]
  },
  {
   "cell_type": "markdown",
   "metadata": {},
   "source": [
    "## Part C"
   ]
  },
  {
   "cell_type": "markdown",
   "metadata": {},
   "source": [
    "Once again, energy conservation states that\n",
    "\n",
    "$$m_{e^{+}}c^2 + T_{e^{+}} + m_{e^{-}}c^2 = E_{\\gamma}$$\n",
    "\n",
    "where $E_{gamma}$ represents the total energy radiated away by the two photons"
   ]
  },
  {
   "cell_type": "code",
   "execution_count": 7,
   "metadata": {},
   "outputs": [
    {
     "name": "stdout",
     "output_type": "stream",
     "text": [
      "The total energy of the two photons is 3.02 megaelectron_volt\n"
     ]
    }
   ],
   "source": [
    "T_p = 2 * u.MeV\n",
    "E_gam = 2*me + T_p\n",
    "print(f'The total energy of the two photons is {E_gam:.2f}')"
   ]
  },
  {
   "cell_type": "markdown",
   "metadata": {},
   "source": [
    "# Question 2"
   ]
  },
  {
   "cell_type": "markdown",
   "metadata": {},
   "source": [
    "Since water is effectively a low Z material ($Z=18$) the frequency of characteristic radiation being emitted is $\\omega_j \\approx 0$ for all subshells $j$ (Lecture 3, Slide 29). It follows that all energy is transferred to photoelectrons and Auger electrons: since these are both charged particles, this constitutes energy absorbed."
   ]
  },
  {
   "cell_type": "markdown",
   "metadata": {},
   "source": [
    "# Question 3"
   ]
  },
  {
   "cell_type": "code",
   "execution_count": 8,
   "metadata": {},
   "outputs": [],
   "source": [
    "E0 = 1.5 * u.MeV\n",
    "mu_a = 2.232e-28 * u.m**2\n",
    "Z_alum = 13 \n",
    "A_alum = 26.98 * u.g\n",
    "rho_alum = 2699 *u.kg/u.m**3 #kg/m^3\n",
    "Z_car = 6\n",
    "A_car = 12.01 * u.g\n",
    "rho_car = 2250 * u.kg/u.m**3"
   ]
  },
  {
   "cell_type": "markdown",
   "metadata": {},
   "source": [
    "## Part A\n",
    "\n",
    "To convert the atomic attenuation coefficient to the mass attenuation coefficient, we use\n",
    "\n",
    "$$\\mu_{\\text{mass}} = \\mu_{\\text{atom}}\\frac{N_A}{A}$$\n",
    "\n",
    "where $N_A$ is avagadros number and $A$ is the atomic mass ($\\mu_{\\text{mass}}$ is the probability of interaction per unit gram, as opposed $\\mu_{\\text{atom}}$ is per atom)"
   ]
  },
  {
   "cell_type": "code",
   "execution_count": 9,
   "metadata": {},
   "outputs": [
    {
     "name": "stdout",
     "output_type": "stream",
     "text": [
      "The mass attentuation coefficient is 0.04980 centimeter ** 2 / gram\n"
     ]
    }
   ],
   "source": [
    "mu_rho = mu_a * Na/A_alum\n",
    "print(f'The mass attentuation coefficient is {mu_rho.to(u.cm**2/u.g):.5f}')"
   ]
  },
  {
   "cell_type": "markdown",
   "metadata": {},
   "source": [
    "## Part B\n",
    "\n",
    "The linear attenuation coefficient is simply $$\\mu=\\rho \\mu_{\\text{mass}}$$\n",
    "\n"
   ]
  },
  {
   "cell_type": "code",
   "execution_count": 10,
   "metadata": {},
   "outputs": [
    {
     "name": "stdout",
     "output_type": "stream",
     "text": [
      "The linear attentuation coefficient is 0.56575 / centimeter\n"
     ]
    }
   ],
   "source": [
    "mu = mu_rho * rho \n",
    "print(f'The linear attentuation coefficient is {mu.to(1/u.cm):.5f}')"
   ]
  },
  {
   "cell_type": "markdown",
   "metadata": {},
   "source": [
    "## Part C"
   ]
  },
  {
   "cell_type": "markdown",
   "metadata": {},
   "source": [
    "Because each atom contains $Z$ electrons, the probability of compton scatter interaction by an atom is proportional to $Z$:\n",
    "\n",
    "$$\\mu_{\\text{atom}} \\propto Z$$\n",
    "\n",
    "This implies that\n",
    "\n",
    "$$\\frac{\\mu_{\\text{atom,C}}}{\\mu_{\\text{atom,A}}} = \\frac{Z_C}{Z_A}$$\n",
    "\n",
    "and thus\n",
    "\n",
    "$$\\mu_{\\text{atom,C}} = \\frac{Z_C}{Z_A} \\mu_{\\text{atom,A}}$$\n",
    "\n",
    "and \n",
    "\n",
    "$$\\mu_{\\text{mass,C}} = \\mu_{\\text{atom,C}} \\frac{N_A}{A_C} = \\frac{Z_C}{Z_A} \\frac{N_A}{A_C}\\mu_{\\text{atom,A}}  $$"
   ]
  },
  {
   "cell_type": "code",
   "execution_count": 11,
   "metadata": {},
   "outputs": [
    {
     "name": "stdout",
     "output_type": "stream",
     "text": [
      "The compton mass attenuation coefficient for carbon is 0.0516 centimeter ** 2 / gram\n"
     ]
    }
   ],
   "source": [
    "mu_rho_C = (Z_car/Z_alum) * (Na/A_car) * mu_a \n",
    "mu_rho_C = mu_rho_C.to(u.cm**2/u.g)\n",
    "print(f'The compton mass attenuation coefficient for carbon is {mu_rho_C:.4f}')"
   ]
  },
  {
   "cell_type": "markdown",
   "metadata": {},
   "source": [
    "# Question 4"
   ]
  },
  {
   "cell_type": "markdown",
   "metadata": {},
   "source": [
    "## Part A"
   ]
  },
  {
   "cell_type": "code",
   "execution_count": 12,
   "metadata": {},
   "outputs": [],
   "source": [
    "Z_car = 6\n",
    "A_car = 12.01 * u.gram / u.mol\n",
    "N_a = 6.02e23 / u.mol\n",
    "rho_car = 2250 * u.kg / u.m**3\n",
    "sig_e = 0.051e-28 * u.m**2\n",
    "sig_e_tr = 0.0349e-28 * u.m**2\n",
    "E_tr = 7.3 * u.MeV\n",
    "E_ab = 7.06 * u.MeV\n",
    "E0 = 10 * u.MeV"
   ]
  },
  {
   "cell_type": "markdown",
   "metadata": {},
   "source": [
    "Since compton scattering is dominant in this region (Lecture 5, slide 18) most of the attenuation occurs due to compton scattering and thus\n",
    "\n",
    "$$\\mu \\approx \\sigma$$\n",
    "\n",
    "We also know that $_e \\sigma$ is the probability ($P$) of interaction per electron. To get the probability per gram, we use simple dimensional analysis:\n",
    "\n",
    "$$\\frac{P}{\\text{gram}} = \\frac{P}{\\text{electron}} \\frac{\\text{electron}}{\\text{gram}} =  \\frac{P}{\\text{electron}} \\frac{\\text{electron}}{\\text{atom}} \\frac{\\text{atom}}{\\text{gram}}$$\n",
    "\n",
    "and thus\n",
    "\n",
    "$$\\frac{\\mu}{\\rho} \\approx \\frac{\\sigma}{\\rho} =  {}_e\\sigma \\cdot Z \\cdot \\frac{N_a}{A}$$"
   ]
  },
  {
   "cell_type": "code",
   "execution_count": 13,
   "metadata": {},
   "outputs": [
    {
     "name": "stdout",
     "output_type": "stream",
     "text": [
      "The total mass attenuation coefficient for carbon is 0.0153 centimeter ** 2 / gram\n"
     ]
    }
   ],
   "source": [
    "mu_rho_car = N_a * Z_car / A_car * sig_e\n",
    "print(f'The total mass attenuation coefficient for carbon is {mu_rho_car.to(u.cm**2/u.g):.4f}')"
   ]
  },
  {
   "cell_type": "markdown",
   "metadata": {},
   "source": [
    "## Part B"
   ]
  },
  {
   "cell_type": "markdown",
   "metadata": {},
   "source": [
    "The energy transferred follows a similar relation:\n",
    "\n",
    "$$\\frac{\\mu_{tr}}{\\rho} \\approx \\frac{\\sigma_{tr}}{\\rho} =  {}_e\\sigma_{tr} \\cdot Z \\cdot \\frac{N_a}{A}$$\n",
    "\n",
    "This is just an approximation, however. Given that we know $E_{tr}$ and $E_{0}$ explicitly, theres another equation to obtain $\\mu_{tr}$ from  Lecture 2 slide 15:\n",
    "\n",
    "$$\\frac{\\mu_{tr}}{\\rho} = \\frac{\\mu}{\\rho}\\frac{E_{tr}}{E_0}$$\n",
    "\n"
   ]
  },
  {
   "cell_type": "code",
   "execution_count": 14,
   "metadata": {},
   "outputs": [
    {
     "name": "stdout",
     "output_type": "stream",
     "text": [
      "Method 1: The mass transfer coefficient for carbon is 0.0105 centimeter ** 2 / gram\n",
      "Method 2: The mass transfer coefficient for carbon is 0.0112 centimeter ** 2 / gram\n"
     ]
    }
   ],
   "source": [
    "mu_rho_tr_car1 =  N_a * Z_car / A_car * sig_e_tr\n",
    "mu_rho_tr_car2 =  mu_rho_car * E_tr/E0\n",
    "print(f'Method 1: The mass transfer coefficient for carbon is {mu_rho_tr_car1.to(u.cm**2/u.g):.4f}')\n",
    "print(f'Method 2: The mass transfer coefficient for carbon is {mu_rho_tr_car2.to(u.cm**2/u.g):.4f}')"
   ]
  },
  {
   "cell_type": "markdown",
   "metadata": {},
   "source": [
    "We take the result from method 2, since the data for $E_0$ and $E_{tr}$ is given explicitly and this likely provides a more accurate result."
   ]
  },
  {
   "cell_type": "markdown",
   "metadata": {},
   "source": [
    "## Part C"
   ]
  },
  {
   "cell_type": "markdown",
   "metadata": {},
   "source": [
    "Noting that\n",
    "\n",
    "* $E_{ab} = E_{tr} (1-g)$\n",
    "* $\\mu_{ab} = \\mu_{tr} (1-g)$\n",
    "\n",
    "we get\n",
    "\n",
    "$$\\mu_{ab} = \\mu_{tr} \\left(\\frac{E_{ab}}{E_{tr}}\\right)$$\n",
    "\n",
    "An alternative formula (Lecture 2, slide 16) is\n",
    "\n",
    "$$\\mu_{ab} = \\mu\\left(\\frac{E_{ab}}{E_0}\\right)$$\n",
    "\n",
    "We should check to make sure both are consistent"
   ]
  },
  {
   "cell_type": "code",
   "execution_count": 15,
   "metadata": {},
   "outputs": [],
   "source": [
    "mu_rho_ab1 = mu_rho_tr_car2 * E_ab / E_tr\n",
    "mu_rho_ab2 = mu_rho_car * E_ab / E0"
   ]
  },
  {
   "cell_type": "markdown",
   "metadata": {},
   "source": [
    "They are approximately equal."
   ]
  },
  {
   "cell_type": "code",
   "execution_count": 16,
   "metadata": {},
   "outputs": [
    {
     "name": "stdout",
     "output_type": "stream",
     "text": [
      "The mass energy absorption for carbon is 0.0108 centimeter ** 2 / gram\n"
     ]
    }
   ],
   "source": [
    "print(f'The mass energy absorption for carbon is {mu_rho_ab1.to(u.cm**2/u.g):.4f}')"
   ]
  }
 ],
 "metadata": {
  "kernelspec": {
   "display_name": "Python 3",
   "language": "python",
   "name": "python3"
  },
  "language_info": {
   "codemirror_mode": {
    "name": "ipython",
    "version": 3
   },
   "file_extension": ".py",
   "mimetype": "text/x-python",
   "name": "python",
   "nbconvert_exporter": "python",
   "pygments_lexer": "ipython3",
   "version": "3.8.5"
  }
 },
 "nbformat": 4,
 "nbformat_minor": 4
}
