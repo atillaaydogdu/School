{
 "cells": [
  {
   "cell_type": "code",
   "execution_count": 1,
   "metadata": {},
   "outputs": [],
   "source": [
    "import numpy as np\n",
    "import matplotlib.pyplot as plt\n",
    "import pandas as pd"
   ]
  },
  {
   "cell_type": "markdown",
   "metadata": {},
   "source": [
    "# Question 1"
   ]
  },
  {
   "cell_type": "markdown",
   "metadata": {},
   "source": [
    "## Part A\n",
    "\n",
    "From the table included in the assignment, we see that the average energy transferred and absorbed in lead per photon interaction is\n",
    "\n",
    "* $\\bar{E}_{\\text{tr}} = 2.70~\\text{MeV}$\n",
    "* $\\bar{E}_{\\text{ab}} = 2.35~\\text{MeV}$\n",
    "\n",
    "We thus have that\n",
    "\n",
    "* The average energy transferred/absorbed in the slab is thus $N_{\\text{int}}\\bar{E}_{\\text{tr}}$ and $N_{\\text{int}}\\bar{E}_{\\text{ab}}$ respectively, where $N_{\\text{int}}$ is the number of interactions inside the slab.\n",
    "* The initial energy of the beam is $N_0 E_0$ where $N_0$ is the initial number of photons and $E_0=4~\\text{MeV}$ is the initial energy of each photon in the beam\n",
    "\n",
    "It follows that\n",
    "\n",
    "* The percent of energy transfered/absorbed in the slab is given by $\\frac{N_{\\text{int}}\\bar{E}_{\\text{tr}}}{N_0 E_0}$ and $\\frac{N_{\\text{int}}\\bar{E}_{\\text{ab}}}{N_0 E_0}$\n",
    "\n",
    "Letting $x_1 = 1~\\text{cm}$ and $x_2 = 1.5~\\text{cm}$ (the distance the photons have travelled in total after the slab) we can determine $N_{\\text{int}}/N_0$ as follows:\n",
    "\n",
    "$$\n",
    "\\begin{align}\n",
    "N_{\\text{int}} &= N(x_1) - N(x_2)\\\\\n",
    "&= N_0e^{-\\mu x_1} - N_0e^{-\\mu x_2}\\\\\n",
    "\\end{align}\n",
    "$$\n",
    "\n",
    "and thus \n",
    "\n",
    "$$(N_{\\text{int}}/N_0) = e^{-\\mu x_1} - e^{-\\mu x_2}$$\n"
   ]
  },
  {
   "cell_type": "markdown",
   "metadata": {},
   "source": [
    "Define constants:"
   ]
  },
  {
   "cell_type": "code",
   "execution_count": 2,
   "metadata": {},
   "outputs": [],
   "source": [
    "E0 = 4 # MeV\n",
    "E_tr = 2.7 # MeV\n",
    "E_ab = 2.35 # MeV\n",
    "x1 = 1 #cm\n",
    "x2 = 1.5 #cm\n",
    "rho = 11360 #kg/m^3\n",
    "mu_rho = 0.0415/10 #m^2 / kg\n",
    "mu = rho * mu_rho /100 #cm-1"
   ]
  },
  {
   "cell_type": "markdown",
   "metadata": {},
   "source": [
    "Determine values"
   ]
  },
  {
   "cell_type": "code",
   "execution_count": 3,
   "metadata": {},
   "outputs": [],
   "source": [
    "Nint_N0 = np.exp(-mu*x1) - np.exp(-mu*x2)\n",
    "pct_transferred = Nint_N0 * E_tr / E0"
   ]
  },
  {
   "cell_type": "markdown",
   "metadata": {},
   "source": [
    "So that"
   ]
  },
  {
   "cell_type": "code",
   "execution_count": 4,
   "metadata": {},
   "outputs": [
    {
     "name": "stdout",
     "output_type": "stream",
     "text": [
      "The percent of initial energy transferred in the slab is 8.85%\n"
     ]
    }
   ],
   "source": [
    "print(f'The percent of initial energy transferred in the slab is {100*pct_transferred:.2f}%')"
   ]
  },
  {
   "cell_type": "markdown",
   "metadata": {},
   "source": [
    "## Part B"
   ]
  },
  {
   "cell_type": "markdown",
   "metadata": {},
   "source": [
    "Similarily,"
   ]
  },
  {
   "cell_type": "code",
   "execution_count": 5,
   "metadata": {},
   "outputs": [
    {
     "name": "stdout",
     "output_type": "stream",
     "text": [
      "The percent of initial energy absorbed in the slab is 7.70%\n"
     ]
    }
   ],
   "source": [
    "pct_abs = Nint_N0 * E_ab / E0\n",
    "print(f'The percent of initial energy absorbed in the slab is {100*pct_abs:.2f}%')"
   ]
  },
  {
   "cell_type": "markdown",
   "metadata": {},
   "source": [
    "## Part C"
   ]
  },
  {
   "cell_type": "markdown",
   "metadata": {},
   "source": [
    "The amount of energy radiated away as Bremsstrahlung is the difference between the energy transferred and the energy absorbed in the slab:"
   ]
  },
  {
   "cell_type": "code",
   "execution_count": 6,
   "metadata": {},
   "outputs": [
    {
     "name": "stdout",
     "output_type": "stream",
     "text": [
      "The percent of initial energy radiated as Bremsstrahlung in the slab is 1.15%\n"
     ]
    }
   ],
   "source": [
    "pct_brem = pct_transferred - pct_abs\n",
    "print(f'The percent of initial energy radiated as Bremsstrahlung in the slab is {100*pct_brem:.2f}%')"
   ]
  },
  {
   "cell_type": "markdown",
   "metadata": {},
   "source": [
    "## Part D"
   ]
  },
  {
   "cell_type": "markdown",
   "metadata": {},
   "source": [
    "The percent of initial energy scattered in the slab is equal to the amount absorbed:"
   ]
  },
  {
   "cell_type": "code",
   "execution_count": 7,
   "metadata": {},
   "outputs": [
    {
     "name": "stdout",
     "output_type": "stream",
     "text": [
      "The percent of initial energy scattered in the slab is 7.70%\n"
     ]
    }
   ],
   "source": [
    "print(f'The percent of initial energy scattered in the slab is {100*pct_abs:.2f}%')"
   ]
  },
  {
   "cell_type": "markdown",
   "metadata": {},
   "source": [
    "# Question 2"
   ]
  },
  {
   "cell_type": "markdown",
   "metadata": {},
   "source": [
    "Letting $\\phi$ the fluence of the beam, we know that\n",
    "\n",
    "$$\\phi(x) = \\phi_0 e^{-\\mu x} B$$\n",
    "\n",
    "where $B$ is the buildup factor. Let $x_1 = 47~\\text{cm}$ we are given that\n",
    "\n",
    "* $\\phi_0 = 10^{10}~s^{-1}\\text{cm}^{-2}$\n",
    "* $\\phi_0 e^{-\\mu x_1} B = 3.95 \\cdot 10^{9}~s^{-1}\\text{cm}^{-2}$\n",
    "* $\\phi_0 e^{-\\mu x_1} = 3.4 \\cdot 10^{9}~s^{-1}\\text{cm}^{-2}$"
   ]
  },
  {
   "cell_type": "code",
   "execution_count": 8,
   "metadata": {},
   "outputs": [],
   "source": [
    "x1 = 47 #cm\n",
    "fluence_rate = 3.95e9 #cm^2 s^-1\n",
    "fluence_rate_primary= 3.4e9 #cm^2 s^-1\n",
    "fluence_front = 1e10 #cm^2 s^-1"
   ]
  },
  {
   "cell_type": "markdown",
   "metadata": {},
   "source": [
    "$B$ is found by dividing the fluence rates"
   ]
  },
  {
   "cell_type": "code",
   "execution_count": 9,
   "metadata": {},
   "outputs": [
    {
     "name": "stdout",
     "output_type": "stream",
     "text": [
      "B=1.16\n"
     ]
    }
   ],
   "source": [
    "B = fluence_rate/fluence_rate_primary\n",
    "print(f'B={B:.2f}')"
   ]
  },
  {
   "cell_type": "markdown",
   "metadata": {},
   "source": [
    "$\\mu$ can be solved for as\n",
    "\n",
    "$$\\mu = \\ln \\left(\\frac{\\phi_0}{\\phi}\\right) / x_1 $$\n",
    "\n",
    "where $\\phi$ is the fluence from primary radiation:"
   ]
  },
  {
   "cell_type": "code",
   "execution_count": 10,
   "metadata": {},
   "outputs": [
    {
     "name": "stdout",
     "output_type": "stream",
     "text": [
      "The linear attenuation coefficient is u=0.02295 cm-2\n"
     ]
    }
   ],
   "source": [
    "u = np.log(fluence_front/fluence_rate_primary) / x1\n",
    "print(f'The linear attenuation coefficient is u={u:.5f} cm-2')"
   ]
  },
  {
   "cell_type": "markdown",
   "metadata": {},
   "source": [
    "# Question 3"
   ]
  },
  {
   "cell_type": "markdown",
   "metadata": {},
   "source": [
    "First we get the parameters for our beam"
   ]
  },
  {
   "cell_type": "code",
   "execution_count": 11,
   "metadata": {},
   "outputs": [],
   "source": [
    "df = pd.read_excel('a1data.xlsx')\n",
    "E = df['E (MeV)'].values\n",
    "dPhidE = df['Initial spectrum FE (arbitrary units)'].values"
   ]
  },
  {
   "cell_type": "code",
   "execution_count": 12,
   "metadata": {},
   "outputs": [
    {
     "data": {
      "text/plain": [
       "array([0.   , 0.032, 0.06 , 0.086, 0.109, 0.131, 0.151, 0.185, 0.212,\n",
       "       0.238, 0.257, 0.274, 0.256, 0.205, 0.147, 0.096, 0.029, 0.002])"
      ]
     },
     "execution_count": 12,
     "metadata": {},
     "output_type": "execute_result"
    }
   ],
   "source": [
    "dPhidE"
   ]
  },
  {
   "cell_type": "markdown",
   "metadata": {},
   "source": [
    "We can look at the distribution of $d\\Phi/dE$ (the spectral density of our photon energies)."
   ]
  },
  {
   "cell_type": "code",
   "execution_count": 13,
   "metadata": {},
   "outputs": [
    {
     "data": {
      "image/png": "[encoded data removed]",
      "text/plain": [
       "<Figure size 432x288 with 1 Axes>"
      ]
     },
     "metadata": {
      "needs_background": "light"
     },
     "output_type": "display_data"
    }
   ],
   "source": [
    "plt.plot(E,dPhidE, 'o--')\n",
    "plt.ylabel('$d\\Phi/dE$ [Arb]', fontsize=15)\n",
    "plt.xlabel('E [MeV]', fontsize=15)\n",
    "plt.show()"
   ]
  },
  {
   "cell_type": "markdown",
   "metadata": {},
   "source": [
    "We will solve the problem as follows:\n",
    "\n",
    "* Apply a spline fit to the curve (cubic)\n",
    "* Use the interpolation function to numerically compute the integrals\n",
    "\n",
    "This is easier than dealing with bins of different widths."
   ]
  },
  {
   "cell_type": "code",
   "execution_count": 14,
   "metadata": {},
   "outputs": [],
   "source": [
    "from scipy.interpolate import interp1d"
   ]
  },
  {
   "cell_type": "markdown",
   "metadata": {},
   "source": [
    "Anything that ends with `_f`, such as `dPhidE_f` is a **function** that takes in an energy and returns a value of $d\\Phi/dE$"
   ]
  },
  {
   "cell_type": "code",
   "execution_count": 15,
   "metadata": {},
   "outputs": [],
   "source": [
    "dPhidE_f = interp1d(E, dPhidE, kind='cubic')\n",
    "E_cont = np.linspace(min(E), max(E), 100)"
   ]
  },
  {
   "cell_type": "markdown",
   "metadata": {},
   "source": [
    "Look at data and cubic-spline fit:"
   ]
  },
  {
   "cell_type": "code",
   "execution_count": 16,
   "metadata": {},
   "outputs": [
    {
     "data": {
      "image/png": "[encoded data removed]",
      "text/plain": [
       "<Figure size 432x288 with 1 Axes>"
      ]
     },
     "metadata": {
      "needs_background": "light"
     },
     "output_type": "display_data"
    }
   ],
   "source": [
    "E_cont = np.linspace(min(E), max(E), 100)\n",
    "plt.plot(E,dPhidE, 'o--')\n",
    "plt.plot(E_cont, dPhidE_f(E_cont), ls='-')\n",
    "plt.ylabel('$d\\Phi/dE$ [Arb]', fontsize=15)\n",
    "plt.xlabel('E [MeV]', fontsize=15)\n",
    "plt.title('$d\\Phi/dE$ For Our Particular Beam Before Attenuation')\n",
    "plt.show()"
   ]
  },
  {
   "cell_type": "markdown",
   "metadata": {},
   "source": [
    "## Part 1"
   ]
  },
  {
   "cell_type": "markdown",
   "metadata": {},
   "source": [
    "Assuming the number of photons at a particular energy is *directly proportional* to the spectral density $S=d\\Phi/dE$ given, and since we are given discrete data,\n",
    "\n",
    "$$\\bar{E} = \\frac{\\int E (d\\Phi/dE) dE}{\\int (d\\Phi/dE) dE}$$"
   ]
  },
  {
   "cell_type": "code",
   "execution_count": 17,
   "metadata": {},
   "outputs": [],
   "source": [
    "from scipy.integrate import quad"
   ]
  },
  {
   "cell_type": "code",
   "execution_count": 18,
   "metadata": {},
   "outputs": [
    {
     "name": "stdout",
     "output_type": "stream",
     "text": [
      "The mean energy is 3.38 MeV\n"
     ]
    }
   ],
   "source": [
    "num = quad(lambda x: x*dPhidE_f(x), min(E), max(E))[0]\n",
    "den = quad(lambda x: dPhidE_f(x), min(E), max(E))[0]\n",
    "E_mean = num/den\n",
    "print(f'The mean energy is {E_mean:.2f} MeV')"
   ]
  },
  {
   "cell_type": "markdown",
   "metadata": {},
   "source": [
    "## Part 2"
   ]
  },
  {
   "cell_type": "markdown",
   "metadata": {},
   "source": [
    "The attenuated mean for discrete data is given by\n",
    "\n",
    "$$\\bar{E}_{\\text{att}} = \\frac{\\int E  (d\\Phi/dE) e^{-\\mu(E) x} dE}{\\int (d\\Phi/dE) e^{-\\mu(E) x} dE}$$"
   ]
  },
  {
   "cell_type": "markdown",
   "metadata": {},
   "source": [
    "Firstly, we obtain atomic attenuation coefficients"
   ]
  },
  {
   "cell_type": "markdown",
   "metadata": {},
   "source": [
    "**For Lead**"
   ]
  },
  {
   "cell_type": "code",
   "execution_count": 19,
   "metadata": {},
   "outputs": [],
   "source": [
    "df = pd.read_excel('a1data.xlsx', sheet_name = 3, skiprows=7)\n",
    "E = df['E, MeV'].values\n",
    "mu_a = df['atomic attenuation coefficients (10-24 cm2/atom)'].values * 1e-24"
   ]
  },
  {
   "cell_type": "code",
   "execution_count": 20,
   "metadata": {},
   "outputs": [],
   "source": [
    "A_lead = 207.2\n",
    "rho_lead = 11.36\n",
    "NA = 6.02e23\n",
    "mu_lead = NA*rho_lead / A_lead * mu_a"
   ]
  },
  {
   "cell_type": "markdown",
   "metadata": {},
   "source": [
    "This is the main function we wish to obtain:"
   ]
  },
  {
   "cell_type": "code",
   "execution_count": 21,
   "metadata": {},
   "outputs": [],
   "source": [
    "mu_lead_f = interp1d(E, mu_lead, kind='cubic')"
   ]
  },
  {
   "cell_type": "code",
   "execution_count": 22,
   "metadata": {},
   "outputs": [
    {
     "data": {
      "image/png": "[encoded data removed]",
      "text/plain": [
       "<Figure size 432x288 with 1 Axes>"
      ]
     },
     "metadata": {
      "needs_background": "light"
     },
     "output_type": "display_data"
    }
   ],
   "source": [
    "E_cont = np.linspace(min(E), max(E), 100)\n",
    "plt.semilogy(E,mu_lead, 'o--')\n",
    "plt.semilogy(E_cont, mu_lead_f(E_cont), ls='-')\n",
    "plt.ylabel('$\\mu(E)$ [cm$^{-1}$]', fontsize=15)\n",
    "plt.xlabel('E [MeV]', fontsize=15)\n",
    "plt.title('Attenuation Coefficient for Lead')\n",
    "plt.show()"
   ]
  },
  {
   "cell_type": "markdown",
   "metadata": {},
   "source": [
    "We can do a similar thing for $CH_4$."
   ]
  },
  {
   "cell_type": "code",
   "execution_count": 23,
   "metadata": {},
   "outputs": [],
   "source": [
    "# Carbon\n",
    "df = pd.read_excel('a1data.xlsx', sheet_name = 2, skiprows=7)\n",
    "E = df['E, MeV'].values\n",
    "mu_a = df['atomic attenuation coefficients (10-24 cm2/atom)'].values * 1e-24\n",
    "A_carbon = 12.011\n",
    "rho_carbon = 2.25\n",
    "mu_carbon = NA*rho_carbon / A_carbon * mu_a\n",
    "\n",
    "# Hydrogen\n",
    "df = pd.read_excel('a1data.xlsx', sheet_name = 1, skiprows=7)\n",
    "E = df['E, MeV'].values\n",
    "mu_a = df['atomic attenuation coefficients (10-24 cm2/atom)'].values * 1e-24\n",
    "A_hydrogen = 12.011\n",
    "rho_hydrogen = 2.25\n",
    "mu_hydrogen = NA*rho_hydrogen / A_hydrogen * mu_a"
   ]
  },
  {
   "cell_type": "markdown",
   "metadata": {},
   "source": [
    "Now we know that for mass attenuation coefficients\n",
    "\n",
    "$$(\\mu/\\rho) = \\frac{\\sum_i m_i (\\mu/\\rho)_i}{\\sum m_i} \\implies \\mu = \\rho \\frac{\\sum_i m_i (\\mu/\\rho)_i}{\\sum m_i}$$"
   ]
  },
  {
   "cell_type": "code",
   "execution_count": 24,
   "metadata": {},
   "outputs": [],
   "source": [
    "rho_CH4 = 1 #g/cm^3\n",
    "mu_CH4 = rho_CH4 * (4*A_hydrogen*mu_hydrogen/rho_hydrogen \\\n",
    "                    + A_carbon*mu_carbon/rho_carbon) / (4*A_hydrogen+A_carbon)"
   ]
  },
  {
   "cell_type": "code",
   "execution_count": 25,
   "metadata": {},
   "outputs": [
    {
     "data": {
      "text/plain": [
       "array([0.04999041, 0.04277302, 0.03549048, 0.03178857, 0.02901388,\n",
       "       0.02782302, 0.02567083, 0.02357278, 0.02118703, 0.01894664,\n",
       "       0.01723952, 0.01476657, 0.01176935, 0.00999207, 0.00880421,\n",
       "       0.00793411, 0.00679437, 0.0061037 ])"
      ]
     },
     "execution_count": 25,
     "metadata": {},
     "output_type": "execute_result"
    }
   ],
   "source": [
    "mu_CH4"
   ]
  },
  {
   "cell_type": "markdown",
   "metadata": {},
   "source": [
    "Now we get the interpolated function"
   ]
  },
  {
   "cell_type": "code",
   "execution_count": 26,
   "metadata": {},
   "outputs": [],
   "source": [
    "mu_CH4_f = interp1d(E, mu_CH4, kind='cubic')"
   ]
  },
  {
   "cell_type": "code",
   "execution_count": 27,
   "metadata": {},
   "outputs": [
    {
     "data": {
      "image/png": "[encoded data removed]",
      "text/plain": [
       "<Figure size 432x288 with 1 Axes>"
      ]
     },
     "metadata": {
      "needs_background": "light"
     },
     "output_type": "display_data"
    }
   ],
   "source": [
    "E_cont = np.linspace(min(E), max(E), 100)\n",
    "plt.semilogy(E,mu_CH4, 'o--')\n",
    "plt.semilogy(E_cont, mu_CH4_f(E_cont), ls='-')\n",
    "plt.ylabel('$\\mu(E)$ [cm$^{-1}$]', fontsize=15)\n",
    "plt.xlabel('E [MeV]', fontsize=15)\n",
    "plt.title('Attenuation Coefficient for CH4')\n",
    "plt.show()"
   ]
  },
  {
   "cell_type": "markdown",
   "metadata": {},
   "source": [
    "Now we can compute\n",
    "\n",
    "$$\\bar{E}_{\\text{att}} = \\frac{\\int E e^{-\\mu(E) x} (d\\Phi/dE) dE}{\\int (d\\Phi/dE) dE}$$\n",
    "\n",
    "for each substance. Since $\\rho \\cdot d = 20~\\text{cm/g}$ we have\n",
    "\n",
    "* $d_{\\text{lead}} = 20/ \\rho_{\\text{lead}}$\n",
    "* $d_{\\text{CH4}} = 20/ \\rho_{\\text{CH4}}$"
   ]
  },
  {
   "cell_type": "code",
   "execution_count": 34,
   "metadata": {},
   "outputs": [],
   "source": [
    "d_lead = 20/rho_lead\n",
    "d_CH4 = 20/rho_CH4\n",
    "\n",
    "# Compute numerator and denominator of expression above for both lead and CH4:\n",
    "num_lead = quad(lambda x: x*dPhidE_f(x)*np.exp(-mu_lead_f(x) * d_lead),\n",
    "                min(E), max(E))[0]\n",
    "num_CH4 = quad(lambda x: x*dPhidE_f(x)*np.exp(-mu_CH4_f(x) * d_CH4),\n",
    "                min(E), max(E))[0]\n",
    "den_lead = quad(lambda x: dPhidE_f(x)*np.exp(-mu_lead_f(x) * d_lead), min(E), max(E))[0]\n",
    "\n",
    "den_CH4 = quad(lambda x: dPhidE_f(x)*np.exp(-mu_CH4_f(x) * d_CH4), min(E), max(E))[0]"
   ]
  },
  {
   "cell_type": "markdown",
   "metadata": {},
   "source": [
    "Finally, print the quantities:"
   ]
  },
  {
   "cell_type": "code",
   "execution_count": 35,
   "metadata": {},
   "outputs": [
    {
     "name": "stdout",
     "output_type": "stream",
     "text": [
      "The mean attenuated energy for lead is 3.626132 MeV\n",
      "The mean attenuated energy for CH4 is 3.55 MeV\n"
     ]
    }
   ],
   "source": [
    "E_mean_lead = num_lead / den_lead\n",
    "E_mean_CH4 = num_CH4 / den_CH4\n",
    "print(f'The mean attenuated energy for lead is {E_mean_lead:.6f} MeV')\n",
    "print(f'The mean attenuated energy for CH4 is {E_mean_CH4:.2f} MeV')"
   ]
  },
  {
   "cell_type": "markdown",
   "metadata": {},
   "source": [
    "In other words, the average energy of the beam increases more when attenuated through lead than through parafin."
   ]
  }
 ],
 "metadata": {
  "kernelspec": {
   "display_name": "Python 3",
   "language": "python",
   "name": "python3"
  },
  "language_info": {
   "codemirror_mode": {
    "name": "ipython",
    "version": 3
   },
   "file_extension": ".py",
   "mimetype": "text/x-python",
   "name": "python",
   "nbconvert_exporter": "python",
   "pygments_lexer": "ipython3",
   "version": "3.8.5"
  }
 },
 "nbformat": 4,
 "nbformat_minor": 4
}
