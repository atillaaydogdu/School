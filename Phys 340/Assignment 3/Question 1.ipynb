{
 "cells": [
  {
   "cell_type": "code",
   "execution_count": 1,
   "metadata": {},
   "outputs": [],
   "source": [
    "import numpy as np\n",
    "import matplotlib.pyplot as plt"
   ]
  },
  {
   "cell_type": "markdown",
   "metadata": {},
   "source": [
    "## Part C"
   ]
  },
  {
   "cell_type": "markdown",
   "metadata": {},
   "source": [
    "There are two different temperature evolutions we need to use here: one for the air parcel and one for the environment.\n",
    "\n",
    "<ul>\n",
    "    <li>The temperature evolution of the <b> environment </b> is given by $\\partial T_{env}/\\partial p$ stated in the problem </li>\n",
    "    \n",
    "  <li>The temperature evolution of the <b> air parcel </b> is given by the fact that the air particle moves adiabatically, through the air, exchanging no heat with the environment. In other words, \n",
    "    $$T_{ap}=T_{ap}^{(0)}\\left(\\frac{p_{ap}}{p_{ap}^{(0)}}\\right)^{1-1/\\gamma}$$ </li>\n",
    "    \n",
    "where the $(0)$ represents some reference point.\n",
    "</ul>"
   ]
  },
  {
   "cell_type": "code",
   "execution_count": 1,
   "metadata": {},
   "outputs": [],
   "source": [
    "T0 = 273.15+25; p0 = 1013;\n",
    "pC = 800\n",
    "\n",
    "r1 = 0.06; r2 = 0.11;\n",
    "def T_env(p):\n",
    "    dp = p-p0\n",
    "    return T0+ np.piecewise(p, [p >= pC, p < pC],\n",
    "                            [lambda p: r2*(p-p0), lambda p: r2*(pC-p0)+r1*(p-pC)])\n",
    "\n",
    "gam = 7/5\n",
    "def T_ap(p):\n",
    "    return T0*(p/p0)**(1-1/gam)"
   ]
  },
  {
   "cell_type": "markdown",
   "metadata": {},
   "source": [
    "Create array of pressures and temperatures for the environment and the air parcel."
   ]
  },
  {
   "cell_type": "code",
   "execution_count": 3,
   "metadata": {},
   "outputs": [],
   "source": [
    "pf = 600\n",
    "\n",
    "pp = np.linspace(p0, pf, 1000)\n",
    "TT_env = T_env(pp)\n",
    "TT_ap = T_ap(pp)\n",
    "\n",
    "#Find the pressure where these are equal\n",
    "i = np.argmin(abs(TT_env[3::]-TT_ap[3::]))\n",
    "p_LNB = pp[i+3]"
   ]
  },
  {
   "cell_type": "markdown",
   "metadata": {},
   "source": [
    "Plot temperature as a function of pressire fpor the air parcel and the environment."
   ]
  },
  {
   "cell_type": "code",
   "execution_count": 4,
   "metadata": {},
   "outputs": [
    {
     "data": {
      "image/png": "[encoded data removed]",
      "text/plain": [
       "<Figure size 504x288 with 1 Axes>"
      ]
     },
     "metadata": {},
     "output_type": "display_data"
    }
   ],
   "source": [
    "fig, ax = plt.subplots(1, 1, figsize=(7,4))\n",
    "\n",
    "ax.plot(pp, TT_env, label='Environment')\n",
    "ax.plot(pp, TT_ap, label='Air Parcel')\n",
    "ax.axvline(p_LNB, c='k', ls='--', label='LNB')\n",
    "\n",
    "ax.set_xlim(p0, pf)\n",
    "ax.set_ylabel('Temperature [K]')\n",
    "ax.set_xlabel('Pressure [hPa]')\n",
    "ax.grid()\n",
    "ax.legend()\n",
    "\n",
    "plt.show()"
   ]
  },
  {
   "cell_type": "markdown",
   "metadata": {},
   "source": [
    "The pressure at the LNB is $p=710.4$hPa and the pressure at the LFC is $p=1013$hPa (LFC occurs at the surface)."
   ]
  },
  {
   "cell_type": "markdown",
   "metadata": {},
   "source": [
    "Now we need to compute the work using\n",
    "\n",
    "$$W=\\frac{R}{m}\\int_{p_2}^{p_1} \\frac{T_{ap}-T_{env}}{p}dp $$\n",
    "\n",
    "We have $T_{ap}$ and $T_{env}$ defined as functions of $p$, so this shouldn't be too bad.\n",
    "\n",
    "**For the CAPE**: $p_1$ corresponds to the LFC (the surface) and $p_2$ corresponds to the LNB \n",
    "\n",
    "**For the CN**: $p_1$ corresponds to the surface and $p_2$ corresponds to the LFC (the surface)."
   ]
  },
  {
   "cell_type": "code",
   "execution_count": 5,
   "metadata": {},
   "outputs": [],
   "source": [
    "def work_integrand(p):\n",
    "    return (R/m)*(T_ap(p)-T_env(p))/p"
   ]
  },
  {
   "cell_type": "code",
   "execution_count": 6,
   "metadata": {},
   "outputs": [
    {
     "name": "stdout",
     "output_type": "stream",
     "text": [
      "-236.5370257884334\n"
     ]
    }
   ],
   "source": [
    "R = 8.314; m=28/1000\n",
    "\n",
    "p_CAPE = np.linspace(p0, p_LNB, 1000) # compute values to integrate over\n",
    "print(np.trapz(work_integrand(p_CAPE), p_CAPE)) #print the integral"
   ]
  },
  {
   "cell_type": "markdown",
   "metadata": {},
   "source": [
    "The CAPE is thus $-236.5$J and the CIN is $0$J."
   ]
  },
  {
   "cell_type": "markdown",
   "metadata": {},
   "source": [
    "# Part D"
   ]
  },
  {
   "cell_type": "markdown",
   "metadata": {},
   "source": [
    "We need to redefine the \"T_env\" function."
   ]
  },
  {
   "cell_type": "code",
   "execution_count": 7,
   "metadata": {},
   "outputs": [],
   "source": [
    "r1 = -0.04; r2 = 0.14; r3=0.09\n",
    "pC1 = 970; pC2 = 700\n",
    "def T_env(p):\n",
    "    dp = p-p0\n",
    "    return T0+ np.piecewise(p, [p > pC1, (p < pC1) & (p > pC2), p < pC2 ],\n",
    "                            [lambda p: r1*(p-p0),\n",
    "                             lambda p: r1*(pC1-p0)+r2*(p-pC1),\n",
    "                             lambda p: r1*(pC1-p0)+r2*(pC2-pC1)+r3*(p-pC2)])"
   ]
  },
  {
   "cell_type": "markdown",
   "metadata": {},
   "source": [
    "Obtain the pressure and temperature arrays and find the locations of the LNB and LFC."
   ]
  },
  {
   "cell_type": "code",
   "execution_count": 8,
   "metadata": {},
   "outputs": [],
   "source": [
    "pf = 350\n",
    "\n",
    "pp = np.linspace(p0, pf, 1000)\n",
    "TT_env = T_env(pp)\n",
    "TT_ap = T_ap(pp)\n",
    "\n",
    "#Find the pressure where these are equal\n",
    "i = np.argmin(abs(TT_env[500::]-TT_ap[500::]))\n",
    "p_LNB = pp[i+500]\n",
    "\n",
    "#Find the pressure where these are equal\n",
    "i = np.argmin(abs(TT_env[10:500]-TT_ap[10:500]))\n",
    "p_LFC = pp[i+10]"
   ]
  },
  {
   "cell_type": "markdown",
   "metadata": {},
   "source": [
    "Plot"
   ]
  },
  {
   "cell_type": "code",
   "execution_count": 9,
   "metadata": {},
   "outputs": [
    {
     "data": {
      "image/png": "[encoded data removed]",
      "text/plain": [
       "<Figure size 504x288 with 1 Axes>"
      ]
     },
     "metadata": {},
     "output_type": "display_data"
    }
   ],
   "source": [
    "fig, ax = plt.subplots(1, 1, figsize=(7,4))\n",
    "\n",
    "ax.plot(pp, TT_env, label='Environment')\n",
    "ax.plot(pp, TT_ap, label='Air Parcel')\n",
    "ax.axvline(p_LFC, c='k', ls='--', label='LFC')\n",
    "ax.axvline(p_LNB, c='k', ls='-', label='LNB')\n",
    "\n",
    "ax.set_xlim(p0, pf)\n",
    "ax.set_ylabel('Temperature [K]')\n",
    "ax.set_xlabel('Pressure [hPa]')\n",
    "ax.grid()\n",
    "ax.legend()\n",
    "\n",
    "plt.show()"
   ]
  },
  {
   "cell_type": "code",
   "execution_count": 10,
   "metadata": {},
   "outputs": [
    {
     "name": "stdout",
     "output_type": "stream",
     "text": [
      "507.9519519519519\n",
      "861.021021021021\n"
     ]
    }
   ],
   "source": [
    "print(p_LNB)\n",
    "print(p_LFC)"
   ]
  },
  {
   "cell_type": "markdown",
   "metadata": {},
   "source": [
    "The pressure at the LNB is $p=508.0$hPa and the pressure at the LFC is $p=861.0$hPa."
   ]
  },
  {
   "cell_type": "code",
   "execution_count": 12,
   "metadata": {},
   "outputs": [
    {
     "name": "stdout",
     "output_type": "stream",
     "text": [
      "-531.7288242494517\n",
      "125.77281151217127\n"
     ]
    }
   ],
   "source": [
    "R = 8.314; m=28/1000\n",
    "\n",
    "p_CAPE = np.linspace(p_LFC, p_LNB, 1000) # compute values to integrate over\n",
    "p_CIN = np.linspace(p0, p_LFC, 1000) # compute values to integrate over\n",
    "\n",
    "print(np.trapz(work_integrand(p_CAPE), p_CAPE)) #print the integral\n",
    "print(np.trapz(work_integrand(p_CIN), p_CIN)) #print the integral"
   ]
  },
  {
   "cell_type": "markdown",
   "metadata": {},
   "source": [
    "The CAPE is thus $-531.7$J and the CIN is $125.8$J."
   ]
  }
 ],
 "metadata": {
  "kernelspec": {
   "display_name": "Python 3",
   "language": "python",
   "name": "python3"
  },
  "language_info": {
   "codemirror_mode": {
    "name": "ipython",
    "version": 3
   },
   "file_extension": ".py",
   "mimetype": "text/x-python",
   "name": "python",
   "nbconvert_exporter": "python",
   "pygments_lexer": "ipython3",
   "version": "3.6.7"
  }
 },
 "nbformat": 4,
 "nbformat_minor": 2
}
