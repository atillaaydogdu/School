{
 "cells": [
  {
   "cell_type": "code",
   "execution_count": 1,
   "metadata": {},
   "outputs": [],
   "source": [
    "import numpy as np"
   ]
  },
  {
   "cell_type": "markdown",
   "metadata": {},
   "source": [
    "# Part A"
   ]
  },
  {
   "cell_type": "markdown",
   "metadata": {},
   "source": [
    "## Part i"
   ]
  },
  {
   "cell_type": "markdown",
   "metadata": {},
   "source": [
    "In equilibrium we have $\\sum F=0$ and hence $F_{grav}+F_{internal}+F_{external}=0$. Note that\n",
    "\n",
    "$$F_{grav}=-mg$$\n",
    "$$F_{internal}=P_{internal}A$$\n",
    "$$F_{external}=-P_{ext}A$$\n",
    "\n",
    "This yields $P_{int}=P_{ext}+\\frac{mg}{A}$. We know that internal pressure is given by\n",
    "\n",
    "$$P_{int}=\\frac{\\rho R T}{m_d}=\\frac{MRT}{Vm_d}=\\frac{MRT}{Ahm_d} $$\n",
    "\n",
    "Isolating for $M$ yields\n",
    "\n",
    "$$M=\\frac{Ahm_d}{RT}\\left[ P_{ext}+\\frac{mg}{A}\\right] $$"
   ]
  },
  {
   "cell_type": "code",
   "execution_count": 2,
   "metadata": {},
   "outputs": [],
   "source": [
    "def to_K(temp):\n",
    "    return temp+273.15\n",
    "def to_C(temp):\n",
    "     return temp-273.15\n",
    "\n",
    "A=0.01; h=0.1\n",
    "R=8.314; g=9.81\n",
    "md = 29/1000\n",
    "m = 2\n",
    "T = to_K(20)\n",
    "Pext = 1000*100\n",
    "\n",
    "M = (A*h*md)/(R*T)*(Pext+m*g/A)"
   ]
  },
  {
   "cell_type": "code",
   "execution_count": 3,
   "metadata": {},
   "outputs": [
    {
     "name": "stdout",
     "output_type": "stream",
     "text": [
      "The Mass of internal air is 1.213g\n"
     ]
    }
   ],
   "source": [
    "print('The Mass of internal air is {:.3f}g'.format(M*1000))"
   ]
  },
  {
   "cell_type": "markdown",
   "metadata": {},
   "source": [
    "## Part ii"
   ]
  },
  {
   "cell_type": "markdown",
   "metadata": {},
   "source": [
    "The only difference now is that $T$ is changed. We can rearrange the equation above to get\n",
    "\n",
    "$$h=\\frac{MRT}{Am_d}\\left[P_{ext}+\\frac{mg}{A} \\right]^{-1} $$"
   ]
  },
  {
   "cell_type": "code",
   "execution_count": 4,
   "metadata": {},
   "outputs": [],
   "source": [
    "T = to_K(100)\n",
    "\n",
    "h = M*R*T/(A*md)*(Pext+m*g/A)**(-1)"
   ]
  },
  {
   "cell_type": "code",
   "execution_count": 5,
   "metadata": {},
   "outputs": [
    {
     "name": "stdout",
     "output_type": "stream",
     "text": [
      "The height of the piston is 12.729cm\n"
     ]
    }
   ],
   "source": [
    "print('The height of the piston is {:.3f}cm'.format(h*100))"
   ]
  },
  {
   "cell_type": "markdown",
   "metadata": {},
   "source": [
    "## Part iii"
   ]
  },
  {
   "cell_type": "markdown",
   "metadata": {},
   "source": [
    "We use the same expression as before, only this time we replace the mass of the cylinder with 102kg."
   ]
  },
  {
   "cell_type": "code",
   "execution_count": 6,
   "metadata": {},
   "outputs": [],
   "source": [
    "m = 102\n",
    "T  = to_K(20)\n",
    "\n",
    "h = M*R*T/(A*md)*(Pext+m*g/A)**(-1)"
   ]
  },
  {
   "cell_type": "code",
   "execution_count": 7,
   "metadata": {},
   "outputs": [
    {
     "name": "stdout",
     "output_type": "stream",
     "text": [
      "The height of the piston is 5.097cm\n"
     ]
    }
   ],
   "source": [
    "print('The height of the piston is {:.3f}cm'.format(h*100))"
   ]
  },
  {
   "cell_type": "markdown",
   "metadata": {},
   "source": [
    "## Part iv"
   ]
  },
  {
   "cell_type": "markdown",
   "metadata": {},
   "source": [
    "The height needs to be 8.097cm. Solving for temperature..."
   ]
  },
  {
   "cell_type": "code",
   "execution_count": 8,
   "metadata": {},
   "outputs": [],
   "source": [
    "h = h+3/100\n",
    "\n",
    "T = A*h*md/(R*M)*(Pext+m*g/A)"
   ]
  },
  {
   "cell_type": "code",
   "execution_count": 9,
   "metadata": {},
   "outputs": [
    {
     "name": "stdout",
     "output_type": "stream",
     "text": [
      "The temperature in the piston needs to be 192.559 degrees C\n"
     ]
    }
   ],
   "source": [
    "print(r'The temperature in the piston needs to be {:.3f} degrees C'.format(to_C(T)))"
   ]
  },
  {
   "cell_type": "markdown",
   "metadata": {},
   "source": [
    "# Part b"
   ]
  },
  {
   "cell_type": "markdown",
   "metadata": {},
   "source": [
    "## Part i"
   ]
  },
  {
   "cell_type": "markdown",
   "metadata": {},
   "source": [
    "In this scenario the vapour is saturated so its vapour pressure is given by 2.3.11. The total pressure is determined by setting the sum of the forces on the piston equal to zero. We know that\n",
    "\n",
    "$$e=e_S(T)=e_0 e^{\\frac{m_v L}{R}\\left(\\frac{1}{T_0}-\\frac{1}{T} \\right)}$$\n",
    "\n",
    "$$m=\\frac{m_d}{1+0.61q} $$\n",
    "\n",
    "It follows that\n",
    "\n",
    "$$q=\\frac{m_ve}{mp}=\\frac{m_v (e_S(T))(1+0.61q)}{m_dp} $$\n",
    "\n",
    "and isolating for $q$ yields\n",
    "\n",
    "$$q=\\frac{m_ve_s(T)}{m_dp-0.61m_ve_s(T)} $$"
   ]
  },
  {
   "cell_type": "code",
   "execution_count": 10,
   "metadata": {},
   "outputs": [],
   "source": [
    "mv = 18/1000\n",
    "md = 29/1000\n",
    "L = 2.45*10**6\n",
    "e0 = 611\n",
    "T0 = 273\n",
    "T = to_K(20)\n",
    "m = 2\n",
    "\n",
    "p  = Pext+m*g/A\n",
    "\n",
    "def es(T):\n",
    "    return e0*np.exp(mv*L/R*(1/T0-1/T))\n",
    "\n",
    "q = mv*es(T)/(md*p-0.61*mv*es(T))"
   ]
  },
  {
   "cell_type": "code",
   "execution_count": 11,
   "metadata": {},
   "outputs": [
    {
     "name": "stdout",
     "output_type": "stream",
     "text": [
      "The specific heat is 0.0143\n"
     ]
    }
   ],
   "source": [
    "print('The specific heat is {:.4f}'.format(q))"
   ]
  },
  {
   "cell_type": "markdown",
   "metadata": {},
   "source": [
    "## Part ii"
   ]
  },
  {
   "cell_type": "markdown",
   "metadata": {},
   "source": [
    "Since $p=MRT/Vm$ we have $M=pVm/RT$ and hence\n",
    "\n",
    "$$M=\\frac{pV}{RT}\\left(\\frac{m_d}{1+0.61q}\\right) $$"
   ]
  },
  {
   "cell_type": "code",
   "execution_count": 12,
   "metadata": {},
   "outputs": [],
   "source": [
    "M = p*A*h/(R*T)*(md/(1+0.61*q))"
   ]
  },
  {
   "cell_type": "code",
   "execution_count": 13,
   "metadata": {},
   "outputs": [
    {
     "name": "stdout",
     "output_type": "stream",
     "text": [
      "The total mass in the bucket is 0.974g\n",
      "The mass of water vapour is thus 0.014g\n",
      "The mass of dry air is thus 0.960g\n"
     ]
    }
   ],
   "source": [
    "Mv = q*M\n",
    "Md = M-q*M\n",
    "\n",
    "print('The total mass in the bucket is {:.3f}g'.format(M*1000))\n",
    "print('The mass of water vapour is thus {:.3f}g'.format(Mv*1000))\n",
    "print('The mass of dry air is thus {:.3f}g'.format(Md*1000))"
   ]
  },
  {
   "cell_type": "markdown",
   "metadata": {},
   "source": [
    "## Part iii"
   ]
  },
  {
   "cell_type": "markdown",
   "metadata": {},
   "source": [
    "The only thing that changes now is the internal pressure."
   ]
  },
  {
   "cell_type": "code",
   "execution_count": 14,
   "metadata": {},
   "outputs": [],
   "source": [
    "m = 102\n",
    "p  = Pext+m*g/A\n",
    "\n",
    "q = mv*es(T)/(md*p-0.61*mv*es(T))"
   ]
  },
  {
   "cell_type": "code",
   "execution_count": 15,
   "metadata": {},
   "outputs": [
    {
     "name": "stdout",
     "output_type": "stream",
     "text": [
      "The specific heat is 0.00724\n"
     ]
    }
   ],
   "source": [
    "print('The specific heat is {:.5f}'.format(q))"
   ]
  },
  {
   "cell_type": "markdown",
   "metadata": {},
   "source": [
    "This changes the total mass in the chamber; we have\n",
    "\n",
    "$$M_v = q(M_d+M_v) \\implies M_v=\\frac{q}{1-q}M_d$$"
   ]
  },
  {
   "cell_type": "code",
   "execution_count": 16,
   "metadata": {},
   "outputs": [
    {
     "name": "stdout",
     "output_type": "stream",
     "text": [
      "The new mass of water vapour is 0.00700g\n",
      "Thus the total mass in the chamber is is 0.96691g\n"
     ]
    }
   ],
   "source": [
    "Mv = q/(1-q)*Md\n",
    "M=Mv+Md\n",
    "\n",
    "print('The new mass of water vapour is {:.5f}g'.format(Mv*1000))\n",
    "print('Thus the total mass in the chamber is is {:.5f}g'.format(M*1000))"
   ]
  },
  {
   "cell_type": "markdown",
   "metadata": {},
   "source": [
    "The height of the cylinder is obtained using\n",
    "\n",
    "$$p=\\frac{MRT}{V}=\\frac{MRT}{Ahm} \\implies h=\\frac{MRT}{AP}\\frac{1+0.61q}{m_d}$$"
   ]
  },
  {
   "cell_type": "code",
   "execution_count": 17,
   "metadata": {},
   "outputs": [
    {
     "name": "stdout",
     "output_type": "stream",
     "text": [
      "The height of the cylinder is thus 4.080cm\n"
     ]
    }
   ],
   "source": [
    "h = M*R*T/(A*p)*(1+0.61*q)/md\n",
    "print('The height of the cylinder is thus {:.3f}cm'.format(h*100))"
   ]
  },
  {
   "cell_type": "markdown",
   "metadata": {},
   "source": [
    "## Part iv"
   ]
  },
  {
   "cell_type": "markdown",
   "metadata": {},
   "source": [
    "Now $e_s(T)$ changes since we are changing the temperature."
   ]
  },
  {
   "cell_type": "code",
   "execution_count": 18,
   "metadata": {},
   "outputs": [],
   "source": [
    "T=to_K(100)\n",
    "q = mv*es(T)/(md*p-0.61*mv*es(T))"
   ]
  },
  {
   "cell_type": "code",
   "execution_count": 19,
   "metadata": {},
   "outputs": [
    {
     "name": "stdout",
     "output_type": "stream",
     "text": [
      "The new value of the specific heat is 0.443\n"
     ]
    }
   ],
   "source": [
    "print('The new value of the specific heat is {:.3f}'.format(q))"
   ]
  },
  {
   "cell_type": "markdown",
   "metadata": {},
   "source": [
    "Now we compute the total mass:"
   ]
  },
  {
   "cell_type": "code",
   "execution_count": 20,
   "metadata": {},
   "outputs": [],
   "source": [
    "Mv = q/(1-q)*Md\n",
    "M=Mv+Md"
   ]
  },
  {
   "cell_type": "code",
   "execution_count": 21,
   "metadata": {},
   "outputs": [
    {
     "name": "stdout",
     "output_type": "stream",
     "text": [
      "The new total mass in the container is 1.723g\n"
     ]
    }
   ],
   "source": [
    "print('The new total mass in the container is {:.3f}g'.format(M*1000))"
   ]
  },
  {
   "cell_type": "markdown",
   "metadata": {},
   "source": [
    "Finally we calculate the height:"
   ]
  },
  {
   "cell_type": "code",
   "execution_count": 22,
   "metadata": {},
   "outputs": [
    {
     "name": "stdout",
     "output_type": "stream",
     "text": [
      "The height of the cylinder is thus 11.704cm\n"
     ]
    }
   ],
   "source": [
    "h = M*R*T/(A*p)*(1+0.61*q)/md\n",
    "print('The height of the cylinder is thus {:.3f}cm'.format(h*100))"
   ]
  },
  {
   "cell_type": "markdown",
   "metadata": {},
   "source": [
    "# Part C"
   ]
  },
  {
   "cell_type": "markdown",
   "metadata": {},
   "source": [
    "In part a) we showed that the temperature inside the piston needed to be $192^\\circ C$ to raise the piston (with the $100$kg mass on top) $8.097$cm. In part b) we showed that the temperature inside the piston (with water vapour) only needed to be $100^\\circ C$ to raise the pison $11.7$cm. Clearly the piston with water vapour is more effective at lifting than the piston without water vapour.\n",
    "\n",
    "If one wants to raise the piston most efficiently, one needs to maximize the internal pressure of the piston. Now since\n",
    "\n",
    "$$P=\\frac{NRT}{V} $$\n",
    "\n",
    "and $V$ is constant (during a short interval of time), one can maximize the lifting force by increasing $N$ and $T$. In the case of dry air, $N$ is constant (mass of dry air is constant) so the only way one increase the internal pressure of the system is raising the temperature.In the case of moist air, raising the temperature has the additional effect of increasing the number of gaseous water molecules (provided there is an aqueous layer of water at the bottom of the piston). This additional effect raises the pressure even more, and thus the water-filled piston is more effective at lifting the mass than the dry air piston."
   ]
  }
 ],
 "metadata": {
  "kernelspec": {
   "display_name": "Python 3",
   "language": "python",
   "name": "python3"
  },
  "language_info": {
   "codemirror_mode": {
    "name": "ipython",
    "version": 3
   },
   "file_extension": ".py",
   "mimetype": "text/x-python",
   "name": "python",
   "nbconvert_exporter": "python",
   "pygments_lexer": "ipython3",
   "version": "3.6.9"
  }
 },
 "nbformat": 4,
 "nbformat_minor": 2
}
