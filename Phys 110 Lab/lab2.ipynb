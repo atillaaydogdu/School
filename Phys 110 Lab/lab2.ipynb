{
 "cells": [
  {
   "cell_type": "markdown",
   "metadata": {},
   "source": [
    "# Phys 110 Lab 2"
   ]
  },
  {
   "cell_type": "code",
   "execution_count": 1,
   "metadata": {},
   "outputs": [],
   "source": [
    "import numpy as np\n",
    "from uncertainties import ufloat\n",
    "import pandas as pd\n",
    "import matplotlib.pyplot as plt"
   ]
  },
  {
   "cell_type": "markdown",
   "metadata": {},
   "source": [
    "## Acceleration Method 1"
   ]
  },
  {
   "cell_type": "markdown",
   "metadata": {},
   "source": [
    "$$ a=\\frac{v^2}{R}$$"
   ]
  },
  {
   "cell_type": "code",
   "execution_count": 2,
   "metadata": {},
   "outputs": [],
   "source": [
    "def compute_a1(v_avg, r_avg):\n",
    "    a1 = v_avg**2 / r_avg\n",
    "    a1_rel_unc = 2*v_rel_unc + r_unc/r_avg\n",
    "    a1_unc = a1*a1_rel_unc\n",
    "    return a1, a1_rel_unc, a1_unc"
   ]
  },
  {
   "cell_type": "markdown",
   "metadata": {},
   "source": [
    "## Acceleration Method 2"
   ]
  },
  {
   "cell_type": "markdown",
   "metadata": {},
   "source": [
    "$$ a = \\frac{|\\Delta \\vec{v}|}{\\Delta t} $$"
   ]
  },
  {
   "cell_type": "code",
   "execution_count": 3,
   "metadata": {},
   "outputs": [],
   "source": [
    "def compute_a2(dv):\n",
    "    a2 = dv/dt\n",
    "    a2_rel_unc = dv_unc/dv + dt_rel_unc\n",
    "    a2_unc = a2*a2_rel_unc\n",
    "    return a2, a2_rel_unc, a2_unc"
   ]
  },
  {
   "cell_type": "markdown",
   "metadata": {},
   "source": [
    "## Acceleration Method 3"
   ]
  },
  {
   "cell_type": "markdown",
   "metadata": {},
   "source": [
    "$$ a = \\frac{gR}{h} $$"
   ]
  },
  {
   "cell_type": "code",
   "execution_count": 4,
   "metadata": {},
   "outputs": [],
   "source": [
    "def compute_a3(r_avg, h):\n",
    "    a3 = g*r_avg/h\n",
    "    a3_rel_unc = r_unc/r_avg + h_unc/h\n",
    "    a3_unc = a3*a3_rel_unc\n",
    "    return a3, a3_rel_unc, a3_unc"
   ]
  },
  {
   "cell_type": "markdown",
   "metadata": {},
   "source": [
    "## Print"
   ]
  },
  {
   "cell_type": "code",
   "execution_count": 5,
   "metadata": {},
   "outputs": [],
   "source": [
    "def print_quantities(v_avg, r_avg, dv, h):\n",
    "    a1, a1_rel_unc, a1_unc = compute_a1(v_avg, r_avg)\n",
    "    a2, a2_rel_unc, a2_unc = compute_a2(dv)\n",
    "    a3, a3_rel_unc, a3_unc = compute_a3(r_avg, h)\n",
    "    print('Acceleration 1')\n",
    "    print('-------------')\n",
    "    print('Acceleration: {}'.format(a1))\n",
    "    print('Relative Error: {}'.format(a1_rel_unc))\n",
    "    print('Error: {}'.format(a1_unc))\n",
    "    print('-------------')\n",
    "    print('Acceleration 2')\n",
    "    print('-------------')\n",
    "    print('Acceleration: {}'.format(a2))\n",
    "    print('Relative Error: {}'.format(a2_rel_unc))\n",
    "    print('Error: {}'.format(a2_unc))\n",
    "    print('-------------')\n",
    "    print('Acceleration 3')\n",
    "    print('-------------')\n",
    "    print('Acceleration: {}'.format(a3))\n",
    "    print('Relative Error: {}'.format(a3_rel_unc))\n",
    "    print('Error: {}'.format(a3_unc))\n",
    "    print('-------------')\n",
    "    print('Consistency Check 1 and 2')\n",
    "    print('-------------')\n",
    "    print('Nominal Value Difference {}'.format(np.abs(a1-a2)))\n",
    "    print('Error Difference {}'.format(a1_unc+a2_unc))\n",
    "    print('-------------')\n",
    "    print('Consistency Check 2 and 3')\n",
    "    print('-------------')\n",
    "    print('Nominal Value Difference {}'.format(np.abs(a2-a3)))\n",
    "    print('Error Difference {}'.format(a2_unc+a3_unc))\n",
    "    print('-------------')\n",
    "    print('Consistency Check 1 and 3')\n",
    "    print('-------------')\n",
    "    print('Nominal Value Difference {}'.format(np.abs(a1-a3)))\n",
    "    print('Error Difference {}'.format(a1_unc+a3_unc))\n",
    "    print('-------------') "
   ]
  },
  {
   "cell_type": "markdown",
   "metadata": {},
   "source": [
    "## Check"
   ]
  },
  {
   "cell_type": "code",
   "execution_count": 14,
   "metadata": {},
   "outputs": [
    {
     "name": "stdout",
     "output_type": "stream",
     "text": [
      "Acceleration 1\n",
      "-------------\n",
      "Acceleration: 75.00905797101449\n",
      "Relative Error: 0.1289855072463768\n",
      "Error: 9.675081390464188\n",
      "-------------\n",
      "Acceleration 2\n",
      "-------------\n",
      "Acceleration: 105.0\n",
      "Relative Error: 0.14523809523809522\n",
      "Error: 15.249999999999998\n",
      "-------------\n",
      "Acceleration 3\n",
      "-------------\n",
      "Acceleration: 64.66525278000688\n",
      "Relative Error: 0.029463171658467454\n",
      "Error: 1.9052434429955325\n",
      "-------------\n",
      "Consistency Check 1 and 2\n",
      "-------------\n",
      "Nominal Value Difference 29.990942028985515\n",
      "Error Difference 24.925081390464186\n",
      "-------------\n",
      "Consistency Check 2 and 3\n",
      "-------------\n",
      "Nominal Value Difference 40.33474721999312\n",
      "Error Difference 17.15524344299553\n",
      "-------------\n",
      "Consistency Check 1 and 3\n",
      "-------------\n",
      "Nominal Value Difference 10.343805191007604\n",
      "Error Difference 11.58032483345972\n",
      "-------------\n"
     ]
    }
   ],
   "source": [
    "g = 9.81*100\n",
    "scale = 5\n",
    "\n",
    "dt = 0.05\n",
    "dt_rel_unc = 0.05\n",
    "dv_unc = scale  * 0.1\n",
    "\n",
    "v_rel_unc = 0.05\n",
    "r_unc = 0.2\n",
    "h_unc = 0.05\n",
    "\n",
    "# Method 1\n",
    "v_avg = 22.75\n",
    "r_avg = 6.9\n",
    "\n",
    "# Method 2\n",
    "dv =  scale * 1.05\n",
    "\n",
    "# Method 3\n",
    "h = 104.676\n",
    "\n",
    "print_quantities(v_avg, r_avg, dv, h)"
   ]
  },
  {
   "cell_type": "code",
   "execution_count": null,
   "metadata": {},
   "outputs": [],
   "source": []
  }
 ],
 "metadata": {
  "kernelspec": {
   "display_name": "Python 3",
   "language": "python",
   "name": "python3"
  },
  "language_info": {
   "codemirror_mode": {
    "name": "ipython",
    "version": 3
   },
   "file_extension": ".py",
   "mimetype": "text/x-python",
   "name": "python",
   "nbconvert_exporter": "python",
   "pygments_lexer": "ipython3",
   "version": "3.6.7"
  }
 },
 "nbformat": 4,
 "nbformat_minor": 2
}
