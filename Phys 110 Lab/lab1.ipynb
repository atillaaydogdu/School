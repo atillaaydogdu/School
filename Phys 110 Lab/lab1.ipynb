{
 "cells": [
  {
   "cell_type": "markdown",
   "metadata": {},
   "source": [
    "# Phys 110 Lab 1 "
   ]
  },
  {
   "cell_type": "code",
   "execution_count": 1,
   "metadata": {},
   "outputs": [],
   "source": [
    "import numpy as np\n",
    "from uncertainties import ufloat\n",
    "import pandas as pd\n",
    "import matplotlib.pyplot as plt"
   ]
  },
  {
   "cell_type": "markdown",
   "metadata": {},
   "source": [
    "Functions to compute uncertainties"
   ]
  },
  {
   "cell_type": "code",
   "execution_count": 2,
   "metadata": {},
   "outputs": [],
   "source": [
    "def compute_string12(m, a, re_m=0.01, ea=np.radians(1)):\n",
    "    Fx = m*g*np.cos(a)\n",
    "    Fy = m*g*np.sin(a)\n",
    "    \n",
    "    err_anglex=np.sin(a)*np.sin(ea)\n",
    "    err_angley=np.cos(a)*np.sin(ea)\n",
    "    \n",
    "    rerr_anglex = err_anglex/np.cos(a)\n",
    "    rerr_angley = err_angley/np.sin(a)\n",
    "    \n",
    "    rerr_totx = re_m + np.abs(rerr_anglex)\n",
    "    err_totx = Fx*rerr_totx\n",
    "    rerr_toty = re_m + np.abs(rerr_angley)\n",
    "    err_toty = Fy*rerr_toty\n",
    "    \n",
    "    return Fx, Fy, rerr_totx, rerr_toty, err_totx, err_toty\n",
    "\n",
    "def compute_string3(m, re_m=0.01):\n",
    "    Fy = m*g\n",
    "    err_toty = re_m*Fy\n",
    "    return Fy, err_toty\n",
    "\n",
    "def sum_forces(m1,m2,m3,a1,a2,re_m=0.01,ea1=np.radians(1),ea2=np.radians(2)):\n",
    "    Fx1, Fy1, _, _, ex1, ey1 = compute_string12(m1, a1)\n",
    "    Fx2, Fy2, _, _, ex2, ey2 = compute_string12(m2, a2)\n",
    "    Fy3, ey3 = compute_string3(m3)\n",
    "    \n",
    "    Fx_tot = Fx1-Fx2\n",
    "    Fy_tot = Fy1+Fy2-Fy3\n",
    "    ex_tot = ex1+ex2\n",
    "    ey_tot = ey1+ey2+ey3\n",
    "    \n",
    "    return Fx_tot, Fy_tot, ex_tot, ey_tot\n",
    "    \n",
    "\n",
    "\n",
    "def print_quantities(m1,m2,m3,a1,a2,re_m=0.01,ea1=np.radians(1),ea2=np.radians(1)):\n",
    "    Fx, Fy, rerr_totx, rerr_toty, err_totx, err_toty = compute_string12(m1, a1, re_m, ea1)\n",
    "    print('String 1')\n",
    "    print('-------------')\n",
    "    print('Force X: {}'.format(Fx))\n",
    "    print('Force Y: {}'.format(Fy))\n",
    "    print('Relative Error X {}'.format(rerr_totx))\n",
    "    print('Relative Error Y {}'.format(rerr_toty))\n",
    "    print('Error X: {}'.format(err_totx))\n",
    "    print('Error Y: {}'.format(err_toty))\n",
    "    print('-------------')\n",
    "    Fx, Fy, rerr_totx, rerr_toty, err_totx, err_toty = compute_string12(m2, a2, re_m, ea2)\n",
    "    print('String 2')\n",
    "    print('-------------')\n",
    "    print('Force X: {}'.format(Fx))\n",
    "    print('Force Y: {}'.format(Fy))\n",
    "    print('Relative Error X {}'.format(rerr_totx))\n",
    "    print('Relative Error Y {}'.format(rerr_toty))\n",
    "    print('Error X: {}'.format(err_totx))\n",
    "    print('Error Y: {}'.format(err_toty))\n",
    "    print('-------------')\n",
    "    print('String 3')\n",
    "    print('-------------')\n",
    "    Fy, err_toty = compute_string3(m3)\n",
    "    print('Force Y: {}'.format(Fy))\n",
    "    print('Error Y: {}'.format(err_toty))\n",
    "    print('-------------')\n",
    "    print('-------------')\n",
    "    Fx_tot, Fy_tot, ex_tot, ey_tot = sum_forces(m1,m2,m3,a1,a2)\n",
    "    print('Total Forces')\n",
    "    print('Force X: {}'.format(Fx_tot))\n",
    "    print('Force Y: {}'.format(Fy_tot))\n",
    "    print('Error X: {}'.format(ex_tot))\n",
    "    print('Error Y: {}'.format(ey_tot))"
   ]
  },
  {
   "cell_type": "markdown",
   "metadata": {},
   "source": [
    "Function to print values."
   ]
  },
  {
   "cell_type": "code",
   "execution_count": 3,
   "metadata": {},
   "outputs": [
    {
     "name": "stdout",
     "output_type": "stream",
     "text": [
      "String 1\n",
      "-------------\n",
      "Force X: 4.667876926398125\n",
      "Force Y: 2.695\n",
      "Relative Error X 0.02007615155457239\n",
      "Relative Error Y 0.04022845466371718\n",
      "Error X: 0.0937130046124603\n",
      "Error Y: 0.1084156853187178\n",
      "-------------\n",
      "String 2\n",
      "-------------\n",
      "Force X: 4.733036548816435\n",
      "Force Y: 1.2682133210023516\n",
      "Relative Error X 0.014676358210849843\n",
      "Relative Error Y 0.0751332675382842\n",
      "Error X: 0.06946373981547449\n",
      "Error Y: 0.09528501074248558\n",
      "-------------\n",
      "String 3\n",
      "-------------\n",
      "Force Y: 3.9200000000000004\n",
      "Error Y: 0.039200000000000006\n",
      "-------------\n",
      "-------------\n",
      "Total Forces\n",
      "Force X: -0.06515962241831019\n",
      "Force Y: 0.04321332100235109\n",
      "Error X: 0.16317674442793478\n",
      "Error Y: 0.2429006960612034\n"
     ]
    }
   ],
   "source": [
    "m1= 0.55\n",
    "m2 = 0.5\n",
    "m3 = 0.4\n",
    "a1 = np.radians(30)\n",
    "a2 = np.radians(15)\n",
    "g = 9.8\n",
    "print_quantities(m1,m2,m3,a1,a2)"
   ]
  },
  {
   "cell_type": "markdown",
   "metadata": {},
   "source": [
    "Open mark data."
   ]
  },
  {
   "cell_type": "code",
   "execution_count": 4,
   "metadata": {},
   "outputs": [],
   "source": [
    "df1 = pd.read_csv('PHYS_110_201909_B21_LAB.csv')\n",
    "df2 = pd.read_csv('PHYS_110_201909_B22_LAB.csv')\n",
    "df = pd.concat([df1, df2], ignore_index=True)"
   ]
  },
  {
   "cell_type": "markdown",
   "metadata": {},
   "source": [
    "Plot"
   ]
  },
  {
   "cell_type": "code",
   "execution_count": 8,
   "metadata": {},
   "outputs": [
    {
     "data": {
      "image/png": "[encoded data removed]",
      "text/plain": [
       "<Figure size 576x360 with 1 Axes>"
      ]
     },
     "metadata": {
      "needs_background": "light"
     },
     "output_type": "display_data"
    }
   ],
   "source": [
    "bins = np.arange(0, 11, 1)\n",
    "plt.figure(figsize=(8,5))\n",
    "df['1'].hist(bins=bins)\n",
    "plt.xlabel('Mark (/10)', fontsize=18)\n",
    "plt.ylabel('Frequency', fontsize=18)\n",
    "plt.title('Marks for Lab 1 (34 people)', fontsize=22)\n",
    "plt.show()"
   ]
  },
  {
   "cell_type": "code",
   "execution_count": 10,
   "metadata": {},
   "outputs": [
    {
     "name": "stdout",
     "output_type": "stream",
     "text": [
      "Mean Value 7.08 \n"
     ]
    }
   ],
   "source": [
    "print('Mean Value {:.2f} ' .format(df['1'].mean()))"
   ]
  }
 ],
 "metadata": {
  "kernelspec": {
   "display_name": "Python 3",
   "language": "python",
   "name": "python3"
  },
  "language_info": {
   "codemirror_mode": {
    "name": "ipython",
    "version": 3
   },
   "file_extension": ".py",
   "mimetype": "text/x-python",
   "name": "python",
   "nbconvert_exporter": "python",
   "pygments_lexer": "ipython3",
   "version": "3.6.7"
  }
 },
 "nbformat": 4,
 "nbformat_minor": 4
}
