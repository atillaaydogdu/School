{
 "cells": [
  {
   "cell_type": "markdown",
   "metadata": {},
   "source": [
    "# Phys 110 Lab 1 Uncertainties Check"
   ]
  },
  {
   "cell_type": "code",
   "execution_count": 3,
   "metadata": {},
   "outputs": [],
   "source": [
    "import numpy as np\n",
    "from uncertainties import ufloat"
   ]
  },
  {
   "cell_type": "code",
   "execution_count": 9,
   "metadata": {},
   "outputs": [],
   "source": [
    "m1= 0.5\n",
    "m2 = 0.5\n",
    "m3 = 0.3\n",
    "\n",
    "a1 = np.radians(18)\n",
    "a2 = np.radians(18)\n",
    "\n",
    "g = 9.81"
   ]
  },
  {
   "cell_type": "code",
   "execution_count": 52,
   "metadata": {},
   "outputs": [],
   "source": [
    "def compute_string12(m, a, re_m=0.01, ea=np.radians(1)):\n",
    "    Fx = m*g*np.cos(a)\n",
    "    Fy = m*g*np.sin(a)\n",
    "    \n",
    "    err_anglex=np.sin(a)*np.sin(ea)\n",
    "    err_angley=np.cos(a)*np.sin(ea)\n",
    "    \n",
    "    rerr_anglex = err_anglex/np.cos(a)\n",
    "    rerr_angley = err_angley/np.sin(a)\n",
    "    \n",
    "    rerr_totx = re_m + np.abs(rerr_anglex)\n",
    "    err_totx = Fx*rerr_totx\n",
    "    rerr_toty = re_m + np.abs(rerr_angley)\n",
    "    err_toty = Fy*rerr_toty\n",
    "    \n",
    "    return Fx, Fy, rerr_totx, rerr_toty, err_totx, err_toty\n",
    "\n",
    "def compute_string3(m, re_m=0.01):\n",
    "    Fy = m*g\n",
    "    err_toty = re_m*Fy\n",
    "    return Fy, err_toty\n",
    "\n",
    "def sum_forces(m1,m2,m3,a1,a2,re_m=0.01,ea1=np.radians(1),ea2=np.radians(2)):\n",
    "    Fx1, Fy1, _, _, ex1, ey1 = compute_string12(m1, a1)\n",
    "    Fx2, Fy2, _, _, ex2, ey2 = compute_string12(m2, a2)\n",
    "    Fy3, ey3 = compute_string3(m3)\n",
    "    \n",
    "    Fx_tot = Fx1-Fx2\n",
    "    Fy_tot = Fy1+Fy2-Fy3\n",
    "    ex_tot = ex1+ex2\n",
    "    ey_tot = ey1+ey2+ey3\n",
    "    \n",
    "    return Fx_tot, Fy_tot, ex_tot, ey_tot\n",
    "    \n",
    "\n",
    "\n",
    "def print_quantities(m1,m2,m3,a1,a2,re_m=0.01,ea1=np.radians(1),ea2=np.radians(2)):\n",
    "    Fx, Fy, rerr_totx, rerr_toty, err_totx, err_toty = compute_string12(m1, a1, re_m, ea1)\n",
    "    print('String 1')\n",
    "    print('-------------')\n",
    "    print('Force X: {}'.format(Fx))\n",
    "    print('Force Y: {}'.format(Fy))\n",
    "    print('Relative Error X {}'.format(rerr_totx))\n",
    "    print('Relative Error Y {}'.format(rerr_toty))\n",
    "    print('Error X: {}'.format(err_totx))\n",
    "    print('Error Y: {}'.format(err_toty))\n",
    "    print('-------------')\n",
    "    Fx, Fy, rerr_totx, rerr_toty, err_totx, err_toty = compute_string12(m2, a2, re_m, ea2)\n",
    "    print('String 2')\n",
    "    print('-------------')\n",
    "    print('Force X: {}'.format(Fx))\n",
    "    print('Force Y: {}'.format(Fy))\n",
    "    print('Relative Error X {}'.format(rerr_totx))\n",
    "    print('Relative Error Y {}'.format(rerr_toty))\n",
    "    print('Error X: {}'.format(err_totx))\n",
    "    print('Error Y: {}'.format(err_toty))\n",
    "    print('-------------')\n",
    "    print('String 3')\n",
    "    print('-------------')\n",
    "    Fy, err_toty = compute_string3(m3)\n",
    "    print('Force Y: {}'.format(Fy))\n",
    "    print('Error Y: {}'.format(err_toty))\n",
    "    print('-------------')\n",
    "    print('-------------')\n",
    "    Fx_tot, Fy_tot, ex_tot, ey_tot = sum_forces(m1,m2,m3,a1,a2)\n",
    "    print('Total Forces')\n",
    "    print('Force X: {}'.format(Fx_tot))\n",
    "    print('Force Y: {}'.format(Fy_tot))\n",
    "    print('Error X: {}'.format(ex_tot))\n",
    "    print('Error Y: {}'.format(ey_tot))"
   ]
  },
  {
   "cell_type": "code",
   "execution_count": 53,
   "metadata": {},
   "outputs": [
    {
     "name": "stdout",
     "output_type": "stream",
     "text": [
      "String 1\n",
      "-------------\n",
      "Force X: -2.9161002951732944\n",
      "Force Y: 2.6256684993521606\n",
      "Relative Error X 0.025714217338859736\n",
      "Relative Error Y 0.02938286100313263\n",
      "Error X: -0.07498523677199913\n",
      "Error Y: 0.07714965255676837\n",
      "-------------\n",
      "String 2\n",
      "-------------\n",
      "Force X: 2.8226893765288676\n",
      "Force Y: 2.7258394456811055\n",
      "Relative Error X 0.043702052212021676\n",
      "Relative Error Y 0.04613948677147378\n",
      "Error X: 0.12335731851138348\n",
      "Error Y: 0.12576883304516479\n",
      "-------------\n",
      "String 3\n",
      "-------------\n",
      "Force Y: 5.395500000000001\n",
      "Error Y: 0.05395500000000001\n",
      "-------------\n",
      "-------------\n",
      "Total Forces\n",
      "Force X: -5.738789671702162\n",
      "Force Y: -0.04399205496673542\n",
      "Error X: 0.00081411488209579\n",
      "Error Y: 0.20762576925896362\n"
     ]
    }
   ],
   "source": [
    "m1= 0.4\n",
    "m2 = 0.4\n",
    "m3 = 0.55\n",
    "a1 = np.radians(138)\n",
    "a2 = np.radians(44)\n",
    "print_quantities(m1,m2,m3,a1,a2)"
   ]
  },
  {
   "cell_type": "code",
   "execution_count": null,
   "metadata": {},
   "outputs": [],
   "source": []
  },
  {
   "cell_type": "code",
   "execution_count": null,
   "metadata": {},
   "outputs": [],
   "source": []
  }
 ],
 "metadata": {
  "kernelspec": {
   "display_name": "Python 3",
   "language": "python",
   "name": "python3"
  },
  "language_info": {
   "codemirror_mode": {
    "name": "ipython",
    "version": 3
   },
   "file_extension": ".py",
   "mimetype": "text/x-python",
   "name": "python",
   "nbconvert_exporter": "python",
   "pygments_lexer": "ipython3",
   "version": "3.6.7"
  }
 },
 "nbformat": 4,
 "nbformat_minor": 4
}
