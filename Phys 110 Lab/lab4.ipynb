{
 "cells": [
  {
   "cell_type": "code",
   "execution_count": 74,
   "metadata": {},
   "outputs": [],
   "source": [
    "import numpy as np\n",
    "import matplotlib.pyplot as plt\n",
    "\n",
    "g=9.81"
   ]
  },
  {
   "cell_type": "code",
   "execution_count": 85,
   "metadata": {},
   "outputs": [],
   "source": [
    "def compute_vel1(m, M, a, b, h, dm=0.05/1000, dM=0.05/1000, da=0.1/100, db=0.1/100, dh=0.1/100):\n",
    "    eps_mM = (dm+dM)/(m+M)\n",
    "    eps_ab = (da+db)/(a+b)\n",
    "    eps_tot = eps_mM+eps_ab + (dm/m) + (da/a) + 0.5*(dh/h)\n",
    "    ans = ((m+M)/m)*(a/(a+b))*np.sqrt(2*g*h)\n",
    "    ans_unc = eps_tot*ans\n",
    "    return ans, ans_unc, eps_tot"
   ]
  },
  {
   "cell_type": "code",
   "execution_count": 86,
   "metadata": {},
   "outputs": [],
   "source": [
    "def compute_vel2(x,y,dx=2/100,dy=1/100):\n",
    "    eps_tot = (dx/x)+0.5*(dy/y)\n",
    "    ans = x*np.sqrt(g/(2*y))\n",
    "    ans_unc = eps_tot*ans\n",
    "    return ans, ans_unc, eps_tot"
   ]
  },
  {
   "cell_type": "code",
   "execution_count": 89,
   "metadata": {},
   "outputs": [
    {
     "data": {
      "text/plain": [
       "(7.138819191666365, 0.19526020151185344, 0.027351890595547525)"
      ]
     },
     "execution_count": 89,
     "metadata": {},
     "output_type": "execute_result"
    }
   ],
   "source": [
    "m = 64.3 /1000\n",
    "M = 198.7 /1000\n",
    "a = 27.6 /100\n",
    "b = 2.2 /100\n",
    "h = 18.1 /100\n",
    "x = 258.3 /100\n",
    "y = 98.2 /100\n",
    "\n",
    "compute_vel1(m,M,a,b,h)"
   ]
  },
  {
   "cell_type": "code",
   "execution_count": 90,
   "metadata": {},
   "outputs": [
    {
     "data": {
      "text/plain": [
       "(5.772822020330388, 0.07409177067661413, 0.012834584266703884)"
      ]
     },
     "execution_count": 90,
     "metadata": {},
     "output_type": "execute_result"
    }
   ],
   "source": [
    "compute_vel2(x,y)"
   ]
  },
  {
   "cell_type": "code",
   "execution_count": null,
   "metadata": {},
   "outputs": [],
   "source": []
  },
  {
   "cell_type": "code",
   "execution_count": null,
   "metadata": {},
   "outputs": [],
   "source": []
  }
 ],
 "metadata": {
  "kernelspec": {
   "display_name": "Python 3",
   "language": "python",
   "name": "python3"
  },
  "language_info": {
   "codemirror_mode": {
    "name": "ipython",
    "version": 3
   },
   "file_extension": ".py",
   "mimetype": "text/x-python",
   "name": "python",
   "nbconvert_exporter": "python",
   "pygments_lexer": "ipython3",
   "version": "3.6.7"
  }
 },
 "nbformat": 4,
 "nbformat_minor": 2
}
