{
 "cells": [
  {
   "cell_type": "code",
   "execution_count": 138,
   "metadata": {},
   "outputs": [],
   "source": [
    "import numpy as np\n",
    "import matplotlib.pyplot as plt\n",
    "\n",
    "g=9.81"
   ]
  },
  {
   "cell_type": "code",
   "execution_count": 139,
   "metadata": {},
   "outputs": [],
   "source": [
    "def compute_vel1(m, M, a, b, h, dm=0.5/1000, dM=0.5/1000, da=0.1/100, db=0.1/100, dh=0.1/100):\n",
    "    eps_mM = (dm+dM)/(m+M)\n",
    "    eps_ab = (da+db)/(a+b)\n",
    "    eps_tot = eps_mM+eps_ab + (dm/m) + (da/a) + 0.5*(dh/h)\n",
    "    ans = ((m+M)/m)*(a/(a+b))*np.sqrt(2*g*h)\n",
    "    ans_unc = eps_tot*ans\n",
    "    return ans, ans_unc, eps_tot"
   ]
  },
  {
   "cell_type": "code",
   "execution_count": 140,
   "metadata": {},
   "outputs": [],
   "source": [
    "def compute_vel2(x,y,dx=1/100,dy=1/100):\n",
    "    eps_tot = (dx/x)+0.5*(dy/y)\n",
    "    ans = x*np.sqrt(g/(2*y))\n",
    "    ans_unc = eps_tot*ans\n",
    "    return ans, ans_unc, eps_tot"
   ]
  },
  {
   "cell_type": "code",
   "execution_count": 149,
   "metadata": {},
   "outputs": [
    {
     "data": {
      "text/plain": [
       "(6.057949103527556, 0.0788837197063433, 0.013021522359837778)"
      ]
     },
     "execution_count": 149,
     "metadata": {},
     "output_type": "execute_result"
    }
   ],
   "source": [
    "m = 64.3 /1000\n",
    "M = 196 /1000\n",
    "a = 27.2 /100\n",
    "b = 2.6 /100\n",
    "h = 13.7 /100\n",
    "x = 278.3 /100\n",
    "y = 101.5 /100\n",
    "\n",
    "compute_vel1(m,M,a,b,h)"
   ]
  },
  {
   "cell_type": "code",
   "execution_count": 150,
   "metadata": {},
   "outputs": [
    {
     "data": {
      "text/plain": [
       "(6.11786220630781, 0.05212022819574775, 0.008519353074348306)"
      ]
     },
     "execution_count": 150,
     "metadata": {},
     "output_type": "execute_result"
    }
   ],
   "source": [
    "compute_vel2(x,y)"
   ]
  },
  {
   "cell_type": "code",
   "execution_count": null,
   "metadata": {},
   "outputs": [],
   "source": []
  },
  {
   "cell_type": "code",
   "execution_count": null,
   "metadata": {},
   "outputs": [],
   "source": []
  }
 ],
 "metadata": {
  "kernelspec": {
   "display_name": "Python 3",
   "language": "python",
   "name": "python3"
  },
  "language_info": {
   "codemirror_mode": {
    "name": "ipython",
    "version": 3
   },
   "file_extension": ".py",
   "mimetype": "text/x-python",
   "name": "python",
   "nbconvert_exporter": "python",
   "pygments_lexer": "ipython3",
   "version": "3.6.7"
  }
 },
 "nbformat": 4,
 "nbformat_minor": 2
}
