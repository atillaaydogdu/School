{
 "cells": [
  {
   "cell_type": "markdown",
   "metadata": {},
   "source": [
    "# Phys 110 Lab 1 Uncertainties Check"
   ]
  },
  {
   "cell_type": "code",
   "execution_count": 4,
   "metadata": {},
   "outputs": [],
   "source": [
    "import numpy as np\n",
    "from uncertainties import ufloat"
   ]
  },
  {
   "cell_type": "code",
   "execution_count": 36,
   "metadata": {},
   "outputs": [],
   "source": [
    "m1= 0.5\n",
    "m2 = 0.5\n",
    "m3 = 0.3\n",
    "\n",
    "a1 = np.radians(18)\n",
    "a2 = np.radians(18)\n",
    "\n",
    "g = 9.81"
   ]
  },
  {
   "cell_type": "code",
   "execution_count": 37,
   "metadata": {},
   "outputs": [],
   "source": [
    "def compute_string12(m, a, re_m=0.01, ea=np.radians(1)):\n",
    "    Fx = m*g*np.cos(a)\n",
    "    Fy = m*g*np.sin(a)\n",
    "    \n",
    "    err_anglex=np.sin(a)*np.sin(ea)\n",
    "    err_angley=np.cos(a)*np.sin(ea)\n",
    "    \n",
    "    rerr_anglex = err_anglex/np.cos(a)\n",
    "    rerr_angley = err_angley/np.sin(a)\n",
    "    \n",
    "    rerr_totx = re_m + np.abs(rerr_anglex)\n",
    "    err_totx = Fx*rerr_totx\n",
    "    rerr_toty = re_m + np.abs(rerr_angley)\n",
    "    err_toty = Fy*rerr_toty\n",
    "    \n",
    "    return Fx, Fy, rerr_totx, rerr_toty, err_totx, err_toty\n",
    "\n",
    "def compute_string3(m, re_m=0.01):\n",
    "    Fy = m*g\n",
    "    err_toty = re_m*Fy\n",
    "    return Fy, err_toty\n",
    "\n",
    "def sum_forces(m1,m2,m3,a1,a2,re_m=0.01,ea1=np.radians(1),ea2=np.radians(2)):\n",
    "    Fx1, Fy1, _, _, ex1, ey1 = compute_string12(m1, a1)\n",
    "    Fx2, Fy2, _, _, ex2, ey2 = compute_string12(m2, a2)\n",
    "    Fy3, ey3 = compute_string3(m3)\n",
    "    \n",
    "    Fx_tot = Fx1-Fx2\n",
    "    Fy_tot = Fy1+Fy2-Fy3\n",
    "    ex_tot = ex1+ex2\n",
    "    ey_tot = ey1+ey2+ey3\n",
    "    \n",
    "    return Fx_tot, Fy_tot, ex_tot, ey_tot\n",
    "    \n",
    "\n",
    "\n",
    "def print_quantities(m1,m2,m3,a1,a2,re_m=0.01,ea1=np.radians(1),ea2=np.radians(1)):\n",
    "    Fx, Fy, rerr_totx, rerr_toty, err_totx, err_toty = compute_string12(m1, a1, re_m, ea1)\n",
    "    print('String 1')\n",
    "    print('-------------')\n",
    "    print('Force X: {}'.format(Fx))\n",
    "    print('Force Y: {}'.format(Fy))\n",
    "    print('Relative Error X {}'.format(rerr_totx))\n",
    "    print('Relative Error Y {}'.format(rerr_toty))\n",
    "    print('Error X: {}'.format(err_totx))\n",
    "    print('Error Y: {}'.format(err_toty))\n",
    "    print('-------------')\n",
    "    Fx, Fy, rerr_totx, rerr_toty, err_totx, err_toty = compute_string12(m2, a2, re_m, ea2)\n",
    "    print('String 2')\n",
    "    print('-------------')\n",
    "    print('Force X: {}'.format(Fx))\n",
    "    print('Force Y: {}'.format(Fy))\n",
    "    print('Relative Error X {}'.format(rerr_totx))\n",
    "    print('Relative Error Y {}'.format(rerr_toty))\n",
    "    print('Error X: {}'.format(err_totx))\n",
    "    print('Error Y: {}'.format(err_toty))\n",
    "    print('-------------')\n",
    "    print('String 3')\n",
    "    print('-------------')\n",
    "    Fy, err_toty = compute_string3(m3)\n",
    "    print('Force Y: {}'.format(Fy))\n",
    "    print('Error Y: {}'.format(err_toty))\n",
    "    print('-------------')\n",
    "    print('-------------')\n",
    "    Fx_tot, Fy_tot, ex_tot, ey_tot = sum_forces(m1,m2,m3,a1,a2)\n",
    "    print('Total Forces')\n",
    "    print('Force X: {}'.format(Fx_tot))\n",
    "    print('Force Y: {}'.format(Fy_tot))\n",
    "    print('Error X: {}'.format(ex_tot))\n",
    "    print('Error Y: {}'.format(ey_tot))"
   ]
  },
  {
   "cell_type": "code",
   "execution_count": 38,
   "metadata": {},
   "outputs": [
    {
     "name": "stdout",
     "output_type": "stream",
     "text": [
      "String 1\n",
      "-------------\n",
      "Force X: 4.623257283231359\n",
      "Force Y: 2.1558602767916564\n",
      "Relative Error X 0.018138190774938896\n",
      "Relative Error Y 0.047426806384300066\n",
      "Error X: 0.0838575226048761\n",
      "Error Y: 0.10224556793900144\n",
      "-------------\n",
      "String 2\n",
      "-------------\n",
      "Force X: 4.547836806650093\n",
      "Force Y: 1.8374453407050486\n",
      "Relative Error X 0.017051229904596853\n",
      "Relative Error Y 0.05319622173339836\n",
      "Error X: 0.07754621095877832\n",
      "Error Y: 0.09774514976714546\n",
      "-------------\n",
      "String 3\n",
      "-------------\n",
      "Force Y: 3.9240000000000004\n",
      "Error Y: 0.039240000000000004\n",
      "-------------\n",
      "-------------\n",
      "Total Forces\n",
      "Force X: 0.07542047658126627\n",
      "Force Y: 0.06930561749670439\n",
      "Error X: 0.16140373356365442\n",
      "Error Y: 0.2392307177061469\n"
     ]
    }
   ],
   "source": [
    "m1= 0.52\n",
    "m2 = 0.5\n",
    "m3 = 0.4\n",
    "a1 = np.radians(25)\n",
    "a2 = np.radians(22)\n",
    "print_quantities(m1,m2,m3,a1,a2)"
   ]
  },
  {
   "cell_type": "code",
   "execution_count": null,
   "metadata": {},
   "outputs": [],
   "source": []
  }
 ],
 "metadata": {
  "kernelspec": {
   "display_name": "Python 3",
   "language": "python",
   "name": "python3"
  },
  "language_info": {
   "codemirror_mode": {
    "name": "ipython",
    "version": 3
   },
   "file_extension": ".py",
   "mimetype": "text/x-python",
   "name": "python",
   "nbconvert_exporter": "python",
   "pygments_lexer": "ipython3",
   "version": "3.6.7"
  }
 },
 "nbformat": 4,
 "nbformat_minor": 4
}
