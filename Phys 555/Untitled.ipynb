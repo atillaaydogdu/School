{
 "cells": [
  {
   "cell_type": "code",
   "execution_count": 80,
   "metadata": {},
   "outputs": [
    {
     "name": "stdout",
     "output_type": "stream",
     "text": [
      "Total Events Processed 700000\n",
      "Max Events Seen in File 350000\n",
      "Min Events Seen in File 350000\n",
      "Total CPU Time 7.19\n",
      "Max CPU Time to Process File 4.34\n",
      "Min CPU Time to Process File 2.84\n"
     ]
    }
   ],
   "source": [
    "import numpy as np\n",
    "import os\n",
    "import datetime\n",
    "\n",
    "PATH = 'data\\\\'\n",
    "\n",
    "tot_events = 0\n",
    "min_events = np.inf\n",
    "max_events = 0\n",
    "tot_cpu_time = 0\n",
    "min_cpu_time = np.inf\n",
    "max_cpu_time = 0\n",
    "\n",
    "def convert_cpu_time(file_cpu_time):\n",
    "    arr = file_cpu_time.split(':')\n",
    "    hours = float(arr[0]) + float(arr[1])/60 + float(arr[2])/3600\n",
    "    return hours\n",
    "\n",
    "def get_events(lines):\n",
    "    global tot_events\n",
    "    global max_events\n",
    "    global min_events\n",
    "    file_events = int(lines[LEN-27][38::])\n",
    "    tot_events += file_events\n",
    "    if file_events >= max_events:\n",
    "        max_events = file_events\n",
    "    if file_events <= min_events:\n",
    "        min_events = file_events\n",
    "        \n",
    "def get_cpu_time(lines):\n",
    "    global tot_cpu_time\n",
    "    global max_cpu_time\n",
    "    global min_cpu_time\n",
    "    file_cpu_time = lines[LEN-16].split()[2]\n",
    "    file_cpu_time = convert_cpu_time(file_cpu_time)\n",
    "    tot_cpu_time += file_cpu_time\n",
    "    if file_cpu_time >= max_cpu_time:\n",
    "        max_cpu_time = file_cpu_time\n",
    "    if file_cpu_time <= min_cpu_time:\n",
    "        min_cpu_time = file_cpu_time\n",
    "\n",
    "for filename in os.listdir('data'):\n",
    "    if filename.endswith(\".out\"):\n",
    "        # Open file and read lines\n",
    "        f=open(PATH+filename)\n",
    "        lines=f.readlines()\n",
    "        # Get number of lines in file\n",
    "        LEN = len(lines)\n",
    "        # Update max events and total events\n",
    "        get_events(lines)\n",
    "        # Update max CPU time and total CPU time\n",
    "        get_cpu_time(lines)\n",
    "        \n",
    "print('Total Events Processed {}'.format(tot_events))\n",
    "print('Max Events Seen in File {}'.format(max_events))\n",
    "print('Min Events Seen in File {}'.format(min_events))\n",
    "print('Total CPU Time {:.2f}'.format(tot_cpu_time))\n",
    "print('Max CPU Time to Process File {:.2f}'.format(max_cpu_time))\n",
    "print('Min CPU Time to Process File {:.2f}'.format(min_cpu_time))"
   ]
  }
 ],
 "metadata": {
  "kernelspec": {
   "display_name": "Python 3",
   "language": "python",
   "name": "python3"
  },
  "language_info": {
   "codemirror_mode": {
    "name": "ipython",
    "version": 3
   },
   "file_extension": ".py",
   "mimetype": "text/x-python",
   "name": "python",
   "nbconvert_exporter": "python",
   "pygments_lexer": "ipython3",
   "version": "3.7.4"
  }
 },
 "nbformat": 4,
 "nbformat_minor": 2
}
