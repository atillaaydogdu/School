{
 "cells": [
  {
   "cell_type": "markdown",
   "metadata": {},
   "source": [
    "<h1 id=\"tocheading\">Table of Contents and Notebook Setup</h1>\n",
    "<div id=\"toc\"></div>"
   ]
  },
  {
   "cell_type": "code",
   "execution_count": 1,
   "metadata": {},
   "outputs": [
    {
     "data": {
      "application/javascript": [
       "$.getScript('https://kmahelona.github.io/ipython_notebook_goodies/ipython_notebook_toc.js')"
      ],
      "text/plain": [
       "<IPython.core.display.Javascript object>"
      ]
     },
     "metadata": {},
     "output_type": "display_data"
    }
   ],
   "source": [
    "%%javascript\n",
    "$.getScript('https://kmahelona.github.io/ipython_notebook_goodies/ipython_notebook_toc.js')"
   ]
  },
  {
   "cell_type": "code",
   "execution_count": 2,
   "metadata": {},
   "outputs": [],
   "source": [
    "import numpy as np\n",
    "import matplotlib.pyplot as plt\n",
    "import pandas as pd\n",
    "import scipy as sp\n",
    "from scipy import misc\n",
    "from scipy.stats import skewnorm\n",
    "from scipy.optimize import curve_fit\n",
    "from scipy.stats import chisqprob"
   ]
  },
  {
   "cell_type": "code",
   "execution_count": 3,
   "metadata": {},
   "outputs": [],
   "source": [
    "def poisson(x, mean):\n",
    "    return np.exp(-mean)*(mean**x)/sp.special.factorial(x)"
   ]
  },
  {
   "cell_type": "code",
   "execution_count": 4,
   "metadata": {},
   "outputs": [],
   "source": [
    "def skew_norm(x, amplitude, x_offset, sigma_scale, skew_scale):\n",
    "    return amplitude*skewnorm.pdf(x, skew_scale, scale=sigma_scale, loc=x_offset)"
   ]
  },
  {
   "cell_type": "markdown",
   "metadata": {},
   "source": [
    "We use a modified $\\chi^2$ test where\n",
    "\n",
    "$$\\chi^2 = \\sum \\frac{(E-O)^2}{O} $$\n",
    "\n",
    "If $O=0$, we replace the denominator with 1. This helps avoid pitfalls where we have large time intervals (but the theoretical models don't predict so)."
   ]
  },
  {
   "cell_type": "code",
   "execution_count": 5,
   "metadata": {},
   "outputs": [],
   "source": [
    "def compute_chi2_pois(m, times_act, freq_act, num_events):\n",
    "    \n",
    "    tot = 0\n",
    "    for time, freq in zip(times_act, freq_act):\n",
    "        theo = num_events*poisson(time, m) \n",
    "        if freq !=0:\n",
    "            tot += ((freq-theo)**2)/(freq)\n",
    "        else:\n",
    "            tot += ((freq-theo)**2)\n",
    "            \n",
    "        \n",
    "    return tot\n",
    "\n",
    "def compute_chi2(freq_act, freq_theo):\n",
    "    \n",
    "    tot = 0\n",
    "    for act, theo in zip(freq_act, freq_theo):\n",
    "        \n",
    "        if act != 0:\n",
    "            tot += ((act-theo)**2)/(act)\n",
    "        else:\n",
    "            tot += ((act-theo)**2) #Divide by 1\n",
    "        \n",
    "    return tot"
   ]
  },
  {
   "cell_type": "markdown",
   "metadata": {},
   "source": [
    "# Open Data"
   ]
  },
  {
   "cell_type": "markdown",
   "metadata": {},
   "source": [
    "## Open up Text Files"
   ]
  },
  {
   "cell_type": "code",
   "execution_count": 6,
   "metadata": {},
   "outputs": [
    {
     "data": {
      "text/html": [
       "<div>\n",
       "<style scoped>\n",
       "    .dataframe tbody tr th:only-of-type {\n",
       "        vertical-align: middle;\n",
       "    }\n",
       "\n",
       "    .dataframe tbody tr th {\n",
       "        vertical-align: top;\n",
       "    }\n",
       "\n",
       "    .dataframe thead th {\n",
       "        text-align: right;\n",
       "    }\n",
       "</style>\n",
       "<table border=\"1\" class=\"dataframe\">\n",
       "  <thead>\n",
       "    <tr style=\"text-align: right;\">\n",
       "      <th></th>\n",
       "      <th>Div1</th>\n",
       "      <th>Div2_raw</th>\n",
       "      <th>Div4_raw</th>\n",
       "    </tr>\n",
       "  </thead>\n",
       "  <tbody>\n",
       "    <tr>\n",
       "      <th>0</th>\n",
       "      <td>0.105240</td>\n",
       "      <td>0.178124</td>\n",
       "      <td>0.132032</td>\n",
       "    </tr>\n",
       "    <tr>\n",
       "      <th>1</th>\n",
       "      <td>0.034400</td>\n",
       "      <td>0.063030</td>\n",
       "      <td>0.106024</td>\n",
       "    </tr>\n",
       "    <tr>\n",
       "      <th>2</th>\n",
       "      <td>0.028126</td>\n",
       "      <td>0.105796</td>\n",
       "      <td>0.061340</td>\n",
       "    </tr>\n",
       "    <tr>\n",
       "      <th>3</th>\n",
       "      <td>0.060934</td>\n",
       "      <td>0.062289</td>\n",
       "      <td>0.039786</td>\n",
       "    </tr>\n",
       "    <tr>\n",
       "      <th>4</th>\n",
       "      <td>0.217106</td>\n",
       "      <td>0.100855</td>\n",
       "      <td>0.051929</td>\n",
       "    </tr>\n",
       "  </tbody>\n",
       "</table>\n",
       "</div>"
      ],
      "text/plain": [
       "       Div1  Div2_raw  Div4_raw\n",
       "0  0.105240  0.178124  0.132032\n",
       "1  0.034400  0.063030  0.106024\n",
       "2  0.028126  0.105796  0.061340\n",
       "3  0.060934  0.062289  0.039786\n",
       "4  0.217106  0.100855  0.051929"
      ]
     },
     "execution_count": 6,
     "metadata": {},
     "output_type": "execute_result"
    }
   ],
   "source": [
    "df1 = pd.read_csv('timing_data/div1_raw.log', skiprows=0, sep='\\s+',\n",
    "                 usecols=[0], names=['Div1'], thousands=',')\n",
    "df2 = pd.read_csv('timing_data/div2_raw.log', skiprows=0, sep='\\s+',\n",
    "                 usecols=[0], names=['Div2_raw'], thousands=',')\n",
    "df3 = pd.read_csv('timing_data/div4_raw.log', skiprows=0, sep='\\s+',\n",
    "                 usecols=[0], names=['Div4_raw'], thousands=',')\n",
    "\n",
    "df = pd.concat([df1, df2, df3], sort=False, axis=1)\n",
    "df = df.apply(lambda x: x.str.replace(',','').apply(pd.to_numeric))\n",
    "df.head()"
   ]
  },
  {
   "cell_type": "markdown",
   "metadata": {},
   "source": [
    "## Get Divide by 2 Data"
   ]
  },
  {
   "cell_type": "code",
   "execution_count": 7,
   "metadata": {},
   "outputs": [],
   "source": [
    "Div2 = np.array([])\n",
    "for i in range(int(len(df['Div2_raw'])/2)):\n",
    "    Div2 = np.append(Div2, df['Div2_raw'][2*i+1]+df['Div2_raw'][2*i])\n",
    "\n",
    "Div2_df = pd.DataFrame({'Div2':Div2})\n",
    "df = pd.concat([df,Div2_df], axis=1)"
   ]
  },
  {
   "cell_type": "markdown",
   "metadata": {},
   "source": [
    "## Get Divide by 4 Data"
   ]
  },
  {
   "cell_type": "code",
   "execution_count": 8,
   "metadata": {},
   "outputs": [],
   "source": [
    "Div4 = np.array([])\n",
    "for i in range(int(len(df['Div4_raw'])/4)):\n",
    "    Div4 = np.append(Div4, df['Div4_raw'][4*i+3]+df['Div4_raw'][4*i+2]+df['Div4_raw'][4*i+1]+df['Div4_raw'][4*i])\n",
    "\n",
    "Div4_df = pd.DataFrame({'Div4':Div4})\n",
    "df = pd.concat([df,Div4_df], axis=1)"
   ]
  },
  {
   "cell_type": "code",
   "execution_count": 9,
   "metadata": {},
   "outputs": [],
   "source": [
    "df = df.drop(['Div2_raw', 'Div4_raw'], axis=1)"
   ]
  },
  {
   "cell_type": "markdown",
   "metadata": {},
   "source": [
    "# Plotting"
   ]
  },
  {
   "cell_type": "markdown",
   "metadata": {},
   "source": [
    "## Divide by 1"
   ]
  },
  {
   "cell_type": "code",
   "execution_count": 10,
   "metadata": {},
   "outputs": [],
   "source": [
    "data = df['Div1'].dropna()\n",
    "num_events = len(data)\n",
    "bins = 50"
   ]
  },
  {
   "cell_type": "markdown",
   "metadata": {},
   "source": [
    "Compute the frequencies and bins corresponding to Time between events (s). The array of bins contains numerical values that correspond to the average between the bin edges."
   ]
  },
  {
   "cell_type": "code",
   "execution_count": 11,
   "metadata": {},
   "outputs": [],
   "source": [
    "freq_act, _ = np.histogram(data, bins=bins)\n",
    "times_act = np.array([(_[i+1]+_[i])/2 for i in range(len(_)-1)])"
   ]
  },
  {
   "cell_type": "markdown",
   "metadata": {},
   "source": [
    "### Poisson Fitting"
   ]
  },
  {
   "cell_type": "markdown",
   "metadata": {},
   "source": [
    "Convert the times between events to integer values, corresponding to the discrete notion of \"counts\" for the poisson distribution. We normalize the array so that the first value corresponds to zero; we do this for the data $t$ and the bins $b$ respectively:\n",
    "\n",
    "$$\\vec{t}_{int} = \\frac{\\vec{t}-\\vec{t}_0}{(\\vec{t}-\\vec{t}_0)_1} \\hspace{20mm} \\vec{b}_{int} = \\frac{\\vec{b}-\\vec{b}_0}{(\\vec{b}-\\vec{b}_0)_1}$$\n",
    "\n",
    "(Note that $\\vec{t}_0$ contains all values of $t_0$). $t_{int}$ is now an array of integers and can be treated like the discrete \"counts\" for the poisson distribution."
   ]
  },
  {
   "cell_type": "code",
   "execution_count": 12,
   "metadata": {},
   "outputs": [],
   "source": [
    "data_int = (data-times_act[0])/(times_act-times_act[0])[1]\n",
    "times_act_int = (times_act-times_act[0])/(times_act-times_act[0])[1]\n",
    "\n",
    "freq_theo_pois = (num_events)*poisson(times_act_int, np.mean(data_int)) "
   ]
  },
  {
   "cell_type": "code",
   "execution_count": 13,
   "metadata": {},
   "outputs": [
    {
     "data": {
      "image/png": "[encoded data removed]",
      "text/plain": [
       "<Figure size 1080x432 with 2 Axes>"
      ]
     },
     "metadata": {
      "needs_background": "light"
     },
     "output_type": "display_data"
    }
   ],
   "source": [
    "fig, ax = plt.subplots(1,2, figsize=(15,6))\n",
    "\n",
    "\n",
    "ax[0].bar(times_act, freq_act, width=1/bins, color='b')\n",
    "ax[1].bar(times_act, freq_theo_pois, width=1/bins, color='r')\n",
    "\n",
    "ax[0].set_xlabel('Time between events (s)')\n",
    "ax[1].set_xlabel('Time between events (s)')\n",
    "ax[0].set_ylabel('Frequency')\n",
    "\n",
    "ax[0].set_title('Time Between Consecutive Events')\n",
    "ax[1].set_title('Theoretical Poisson Distribution')\n",
    "\n",
    "ax[0].grid()\n",
    "ax[1].grid()\n",
    "\n",
    "plt.show()"
   ]
  },
  {
   "cell_type": "code",
   "execution_count": 14,
   "metadata": {},
   "outputs": [],
   "source": [
    "num_bins = len(times_act)\n",
    "DOF = num_bins - 2"
   ]
  },
  {
   "cell_type": "markdown",
   "metadata": {},
   "source": [
    "We need to convert $m$ into an array of integers when we use the $\\chi^2$ test."
   ]
  },
  {
   "cell_type": "code",
   "execution_count": 15,
   "metadata": {},
   "outputs": [],
   "source": [
    "m=np.linspace(0.05, 0.125, 100)\n",
    "m_int = (m-times_act[0])/(times_act-times_act[0])[1]\n",
    "chi_test = compute_chi2_pois(m_int, times_act_int, freq_act, num_events)"
   ]
  },
  {
   "cell_type": "code",
   "execution_count": 16,
   "metadata": {},
   "outputs": [
    {
     "data": {
      "image/png": "[encoded data removed]",
      "text/plain": [
       "<Figure size 576x230.4 with 1 Axes>"
      ]
     },
     "metadata": {
      "needs_background": "light"
     },
     "output_type": "display_data"
    }
   ],
   "source": [
    "fig, ax = plt.subplots(1,1, figsize=(8,3.2))\n",
    "\n",
    "ax.plot(m, chi_test)\n",
    "ax.set_title('Chi-Squared as a Function of $m$ Poisson Disitrubtion $P_m$')\n",
    "ax.set_xlabel('$m$')\n",
    "ax.set_ylabel('$\\chi^2$')\n",
    "\n",
    "plt.show()"
   ]
  },
  {
   "cell_type": "markdown",
   "metadata": {},
   "source": [
    "Print the value of $m$ (the theoretical mean) that minimizes the $\\chi^2$ value."
   ]
  },
  {
   "cell_type": "code",
   "execution_count": 17,
   "metadata": {},
   "outputs": [
    {
     "name": "stdout",
     "output_type": "stream",
     "text": [
      "0.0856060606060606\n"
     ]
    }
   ],
   "source": [
    "print(m[chi_test.argmin()])"
   ]
  },
  {
   "cell_type": "code",
   "execution_count": 18,
   "metadata": {},
   "outputs": [],
   "source": [
    "freq_theo_pois = (num_events)*poisson(times_act_int, m_int[chi_test.argmin()]) "
   ]
  },
  {
   "cell_type": "markdown",
   "metadata": {},
   "source": [
    "Print the $\\chi^2$ value."
   ]
  },
  {
   "cell_type": "code",
   "execution_count": 19,
   "metadata": {},
   "outputs": [
    {
     "name": "stdout",
     "output_type": "stream",
     "text": [
      "4239.224704597959\n"
     ]
    }
   ],
   "source": [
    "print(np.min(chi_test))\n"
   ]
  },
  {
   "cell_type": "markdown",
   "metadata": {},
   "source": [
    "Print $\\chi^2/n$ where $n$ is the number of data points."
   ]
  },
  {
   "cell_type": "code",
   "execution_count": 21,
   "metadata": {},
   "outputs": [
    {
     "name": "stdout",
     "output_type": "stream",
     "text": [
      "88.31718134579081\n"
     ]
    }
   ],
   "source": [
    "print(np.min(chi_test)/(DOF))"
   ]
  },
  {
   "cell_type": "markdown",
   "metadata": {},
   "source": [
    "### Skew-Norm Fitting"
   ]
  },
  {
   "cell_type": "markdown",
   "metadata": {},
   "source": [
    "Use a least squares fitting method (equivalent to minimizing chi-square)"
   ]
  },
  {
   "cell_type": "code",
   "execution_count": 22,
   "metadata": {},
   "outputs": [],
   "source": [
    "popt, pcov = curve_fit(skew_norm, times_act, freq_act, absolute_sigma=True)\n",
    "freq_theo_skew = skew_norm(times_act, popt[0], popt[1], popt[2], popt[3])"
   ]
  },
  {
   "cell_type": "code",
   "execution_count": 23,
   "metadata": {},
   "outputs": [
    {
     "data": {
      "image/png": "[encoded data removed]",
      "text/plain": [
       "<Figure size 1080x432 with 2 Axes>"
      ]
     },
     "metadata": {
      "needs_background": "light"
     },
     "output_type": "display_data"
    }
   ],
   "source": [
    "fig, ax = plt.subplots(1,2, figsize=(15,6))\n",
    "\n",
    "ax[0].bar(times_act, freq_act, width=1/bins, color='b')\n",
    "ax[1].bar(times_act, freq_theo_skew, width=1/bins, color='r')\n",
    "\n",
    "ax[0].set_xlabel('Time between events (s)')\n",
    "ax[1].set_xlabel('Time between events (s)')\n",
    "ax[0].set_ylabel('Frequency')\n",
    "\n",
    "ax[0].set_title('Time Between Consecutive Events')\n",
    "ax[1].set_title('Theoretical Skewnorm Distribution')\n",
    "\n",
    "ax[0].grid()\n",
    "ax[1].grid()\n",
    "\n",
    "plt.show()"
   ]
  },
  {
   "cell_type": "markdown",
   "metadata": {},
   "source": [
    "Print the value of $\\chi^2$."
   ]
  },
  {
   "cell_type": "code",
   "execution_count": 24,
   "metadata": {},
   "outputs": [
    {
     "name": "stdout",
     "output_type": "stream",
     "text": [
      "445.607567442211\n",
      "9.902390387604688\n"
     ]
    }
   ],
   "source": [
    "chi = compute_chi2(freq_act, freq_theo_skew)\n",
    "print(chi)\n",
    "\n",
    "DOF = num_bins - 5\n",
    "print(chi/(DOF))"
   ]
  },
  {
   "cell_type": "markdown",
   "metadata": {},
   "source": [
    "Print the ratios of the moments"
   ]
  },
  {
   "cell_type": "code",
   "execution_count": 85,
   "metadata": {},
   "outputs": [
    {
     "name": "stdout",
     "output_type": "stream",
     "text": [
      "Theo Mean 0.4139431921517534\n",
      "Actual Mean 0.41670134623477406\n"
     ]
    }
   ],
   "source": [
    "print('Theo Mean '+str(np.average(times_act, weights = freq_theo_skew/sum(freq_theo_skew))))\n",
    "print('Actual Mean '+str(np.average(times_act, weights = freq_act/sum(freq_act))))"
   ]
  },
  {
   "cell_type": "code",
   "execution_count": 86,
   "metadata": {},
   "outputs": [
    {
     "ename": "TypeError",
     "evalue": "std() got an unexpected keyword argument 'weights'",
     "output_type": "error",
     "traceback": [
      "\u001b[0;31m---------------------------------------------------------------------------\u001b[0m",
      "\u001b[0;31mTypeError\u001b[0m                                 Traceback (most recent call last)",
      "\u001b[0;32m<ipython-input-86-f1d623c0ab08>\u001b[0m in \u001b[0;36m<module>\u001b[0;34m()\u001b[0m\n\u001b[0;32m----> 1\u001b[0;31m \u001b[0mnp\u001b[0m\u001b[0;34m.\u001b[0m\u001b[0mstd\u001b[0m\u001b[0;34m(\u001b[0m\u001b[0mtimes_act\u001b[0m\u001b[0;34m,\u001b[0m \u001b[0mweights\u001b[0m \u001b[0;34m=\u001b[0m \u001b[0mfreq_theo_skew\u001b[0m\u001b[0;34m/\u001b[0m\u001b[0msum\u001b[0m\u001b[0;34m(\u001b[0m\u001b[0mfreq_theo_skew\u001b[0m\u001b[0;34m)\u001b[0m\u001b[0;34m)\u001b[0m\u001b[0;34m\u001b[0m\u001b[0m\n\u001b[0m",
      "\u001b[0;31mTypeError\u001b[0m: std() got an unexpected keyword argument 'weights'"
     ]
    }
   ],
   "source": [
    "np.std(times_act, weights = freq_theo_skew/sum(freq_theo_skew))"
   ]
  },
  {
   "cell_type": "markdown",
   "metadata": {},
   "source": [
    "Clearly this is much better than the poisson distribution."
   ]
  },
  {
   "cell_type": "markdown",
   "metadata": {},
   "source": [
    "### Nice Plot for Lab Report"
   ]
  },
  {
   "cell_type": "code",
   "execution_count": 25,
   "metadata": {},
   "outputs": [
    {
     "data": {
      "image/png": "[encoded data removed]",
      "text/plain": [
       "<Figure size 864x230.4 with 3 Axes>"
      ]
     },
     "metadata": {
      "needs_background": "light"
     },
     "output_type": "display_data"
    }
   ],
   "source": [
    "fig, ax = plt.subplots(1,3, figsize=(12,3.2))\n",
    "\n",
    "ax[0].bar(times_act, freq_act, width=1/(bins-5), color='b')\n",
    "ax[1].bar(times_act, freq_theo_pois, width=1/(bins-5), color='r')\n",
    "ax[2].bar(times_act, freq_theo_skew, width=1/(bins-5), color='g')\n",
    "\n",
    "ax[0].set_xlabel('Time between events (s)')\n",
    "ax[1].set_xlabel('Time between events (s)')\n",
    "ax[2].set_xlabel('Time between events (s)')\n",
    "ax[0].set_ylabel('Frequency')\n",
    "\n",
    "ax[0].set_title('Time Between Consecutive Events')\n",
    "ax[1].set_title('Theoretical Poisson Distribution')\n",
    "ax[2].set_title('Theoretical Skewnorm Distribution')\n",
    "\n",
    "ax[0].grid()\n",
    "ax[1].grid()\n",
    "ax[2].grid()\n",
    "\n",
    "plt.show()"
   ]
  },
  {
   "cell_type": "markdown",
   "metadata": {},
   "source": [
    "## Divide by 2"
   ]
  },
  {
   "cell_type": "code",
   "execution_count": 26,
   "metadata": {},
   "outputs": [],
   "source": [
    "data = df['Div2'].dropna()\n",
    "num_events = len(data)\n",
    "bins = 50"
   ]
  },
  {
   "cell_type": "code",
   "execution_count": 27,
   "metadata": {},
   "outputs": [],
   "source": [
    "freq_act, _ = np.histogram(data, bins=bins)\n",
    "times_act = np.array([(_[i+1]+_[i])/2 for i in range(len(_)-1)])"
   ]
  },
  {
   "cell_type": "markdown",
   "metadata": {},
   "source": [
    "### Poisson Fitting"
   ]
  },
  {
   "cell_type": "code",
   "execution_count": 28,
   "metadata": {},
   "outputs": [],
   "source": [
    "data_int = (data-times_act[0])/(times_act-times_act[0])[1]\n",
    "times_act_int = (times_act-times_act[0])/(times_act-times_act[0])[1]\n",
    "\n",
    "freq_theo_pois = (num_events)*poisson(times_act_int, np.mean(data_int)) "
   ]
  },
  {
   "cell_type": "code",
   "execution_count": 29,
   "metadata": {},
   "outputs": [
    {
     "data": {
      "image/png": "[encoded data removed]",
      "text/plain": [
       "<Figure size 1080x360 with 2 Axes>"
      ]
     },
     "metadata": {
      "needs_background": "light"
     },
     "output_type": "display_data"
    }
   ],
   "source": [
    "fig, ax = plt.subplots(1,2, figsize=(15,5))\n",
    "\n",
    "\n",
    "ax[0].bar(times_act, freq_act, width=1/bins, color='b')\n",
    "ax[1].bar(times_act, freq_theo_pois, width=1/bins, color='r')\n",
    "\n",
    "ax[0].set_xlabel('Time between events (s)')\n",
    "ax[1].set_xlabel('Time between events (s)')\n",
    "ax[0].set_ylabel('Frequency')\n",
    "\n",
    "ax[0].set_title('Time Between Consecutive Events')\n",
    "ax[1].set_title('Theoretical Poisson Distribution')\n",
    "\n",
    "ax[0].grid()\n",
    "ax[1].grid()\n",
    "\n",
    "plt.show()"
   ]
  },
  {
   "cell_type": "code",
   "execution_count": 30,
   "metadata": {},
   "outputs": [],
   "source": [
    "num_bins = len(times_act)\n",
    "DOF = num_bins - 2"
   ]
  },
  {
   "cell_type": "code",
   "execution_count": 31,
   "metadata": {},
   "outputs": [],
   "source": [
    "m=np.linspace(0.15, 0.24, 100)\n",
    "m_int = (m-times_act[0])/(times_act-times_act[0])[1]\n",
    "chi_test = compute_chi2_pois(m_int, times_act_int, freq_act, num_events)"
   ]
  },
  {
   "cell_type": "code",
   "execution_count": 32,
   "metadata": {},
   "outputs": [
    {
     "data": {
      "image/png": "[encoded data removed]",
      "text/plain": [
       "<Figure size 576x230.4 with 1 Axes>"
      ]
     },
     "metadata": {
      "needs_background": "light"
     },
     "output_type": "display_data"
    }
   ],
   "source": [
    "fig, ax = plt.subplots(1,1, figsize=(8,3.2))\n",
    "\n",
    "ax.plot(m, chi_test)\n",
    "ax.set_title('Chi-Squared as a Function of $m$ Poisson Disitrubtion $P_m$')\n",
    "ax.set_xlabel('$m$')\n",
    "ax.set_ylabel('$\\chi^2$')\n",
    "\n",
    "plt.show()"
   ]
  },
  {
   "cell_type": "markdown",
   "metadata": {},
   "source": [
    "Print the value of $m$ (the theoretical mean) that minimizes the $\\chi^2$ value."
   ]
  },
  {
   "cell_type": "code",
   "execution_count": 33,
   "metadata": {},
   "outputs": [
    {
     "name": "stdout",
     "output_type": "stream",
     "text": [
      "0.18818181818181817\n"
     ]
    }
   ],
   "source": [
    "print(m[chi_test.argmin()])"
   ]
  },
  {
   "cell_type": "code",
   "execution_count": 34,
   "metadata": {},
   "outputs": [],
   "source": [
    "freq_theo_pois = (num_events)*poisson(times_act_int, m_int[chi_test.argmin()]) "
   ]
  },
  {
   "cell_type": "markdown",
   "metadata": {},
   "source": [
    "Print the $\\chi^2$ value."
   ]
  },
  {
   "cell_type": "code",
   "execution_count": 35,
   "metadata": {},
   "outputs": [
    {
     "name": "stdout",
     "output_type": "stream",
     "text": [
      "5292.279104114976\n"
     ]
    }
   ],
   "source": [
    "print(np.min(chi_test))"
   ]
  },
  {
   "cell_type": "markdown",
   "metadata": {},
   "source": [
    "Print the $p$ value."
   ]
  },
  {
   "cell_type": "code",
   "execution_count": 36,
   "metadata": {},
   "outputs": [
    {
     "name": "stdout",
     "output_type": "stream",
     "text": [
      "110.25581466906199\n"
     ]
    }
   ],
   "source": [
    "print(np.min(chi_test)/(DOF))"
   ]
  },
  {
   "cell_type": "markdown",
   "metadata": {},
   "source": [
    "### Skew-Norm Fitting"
   ]
  },
  {
   "cell_type": "code",
   "execution_count": 37,
   "metadata": {},
   "outputs": [],
   "source": [
    "popt, pcov = curve_fit(skew_norm, times_act, freq_act, absolute_sigma=True)\n",
    "freq_theo_skew = skew_norm(times_act, popt[0], popt[1], popt[2], popt[3])"
   ]
  },
  {
   "cell_type": "code",
   "execution_count": 38,
   "metadata": {},
   "outputs": [
    {
     "data": {
      "image/png": "[encoded data removed]",
      "text/plain": [
       "<Figure size 1080x432 with 2 Axes>"
      ]
     },
     "metadata": {
      "needs_background": "light"
     },
     "output_type": "display_data"
    }
   ],
   "source": [
    "fig, ax = plt.subplots(1,2, figsize=(15,6))\n",
    "\n",
    "ax[0].bar(times_act, freq_act, width=1/bins, color='b')\n",
    "ax[1].bar(times_act, freq_theo_skew, width=1/bins, color='r')\n",
    "\n",
    "ax[0].set_xlabel('Time between events (s)')\n",
    "ax[1].set_xlabel('Time between events (s)')\n",
    "ax[0].set_ylabel('Frequency')\n",
    "\n",
    "ax[0].set_title('Time Between Consecutive Events')\n",
    "ax[1].set_title('Theoretical Skewnorm Distribution')\n",
    "\n",
    "ax[0].grid()\n",
    "ax[1].grid()\n",
    "\n",
    "plt.show()"
   ]
  },
  {
   "cell_type": "code",
   "execution_count": 39,
   "metadata": {},
   "outputs": [
    {
     "name": "stdout",
     "output_type": "stream",
     "text": [
      "242.90439478660548\n",
      "5.397875439702344\n"
     ]
    }
   ],
   "source": [
    "chi = compute_chi2(freq_act, freq_theo_skew)\n",
    "print(chi)\n",
    "\n",
    "DOF = num_bins - 5\n",
    "print(chi/(DOF))"
   ]
  },
  {
   "cell_type": "markdown",
   "metadata": {},
   "source": [
    "### Nice Plot for Lab Report"
   ]
  },
  {
   "cell_type": "code",
   "execution_count": 40,
   "metadata": {},
   "outputs": [
    {
     "data": {
      "image/png": "[encoded data removed]",
      "text/plain": [
       "<Figure size 864x230.4 with 3 Axes>"
      ]
     },
     "metadata": {
      "needs_background": "light"
     },
     "output_type": "display_data"
    }
   ],
   "source": [
    "fig, ax = plt.subplots(1,3, figsize=(12,3.2))\n",
    "\n",
    "ax[0].bar(times_act, freq_act, width=1/(bins-5), color='b')\n",
    "ax[1].bar(times_act, freq_theo_pois, width=1/(bins-5), color='r')\n",
    "ax[2].bar(times_act, freq_theo_skew, width=1/(bins-5), color='g')\n",
    "\n",
    "ax[0].set_xlabel('Time between events (s)')\n",
    "ax[1].set_xlabel('Time between events (s)')\n",
    "ax[2].set_xlabel('Time between events (s)')\n",
    "ax[0].set_ylabel('Frequency')\n",
    "\n",
    "ax[0].set_title('Time Between Consecutive Events')\n",
    "ax[1].set_title('Theoretical Poisson Distribution')\n",
    "ax[2].set_title('Theoretical Skewnorm Distribution')\n",
    "\n",
    "ax[0].grid()\n",
    "ax[1].grid()\n",
    "ax[2].grid()\n",
    "\n",
    "plt.show()"
   ]
  },
  {
   "cell_type": "markdown",
   "metadata": {},
   "source": [
    "## Divide by 4"
   ]
  },
  {
   "cell_type": "code",
   "execution_count": 41,
   "metadata": {},
   "outputs": [],
   "source": [
    "data = df['Div4'].dropna()\n",
    "num_events = len(data)\n",
    "bins = 50"
   ]
  },
  {
   "cell_type": "code",
   "execution_count": 42,
   "metadata": {},
   "outputs": [],
   "source": [
    "freq_act, _ = np.histogram(data, bins=bins)\n",
    "times_act = np.array([(_[i+1]+_[i])/2 for i in range(len(_)-1)])"
   ]
  },
  {
   "cell_type": "code",
   "execution_count": 43,
   "metadata": {},
   "outputs": [
    {
     "data": {
      "text/plain": [
       "array([0.15407255, 0.17612876, 0.19818496, 0.22024117, 0.24229737,\n",
       "       0.26435357, 0.28640978, 0.30846598, 0.33052219, 0.35257839,\n",
       "       0.37463459, 0.3966908 , 0.418747  , 0.44080321, 0.46285941,\n",
       "       0.48491561, 0.50697182, 0.52902802, 0.55108423, 0.57314043,\n",
       "       0.59519663, 0.61725284, 0.63930904, 0.66136525, 0.68342145,\n",
       "       0.70547765, 0.72753386, 0.74959006, 0.77164627, 0.79370247,\n",
       "       0.81575867, 0.83781488, 0.85987108, 0.88192729, 0.90398349,\n",
       "       0.92603969, 0.9480959 , 0.9701521 , 0.99220831, 1.01426451,\n",
       "       1.03632071, 1.05837692, 1.08043312, 1.10248933, 1.12454553,\n",
       "       1.14660173, 1.16865794, 1.19071414, 1.21277035, 1.23482655])"
      ]
     },
     "execution_count": 43,
     "metadata": {},
     "output_type": "execute_result"
    }
   ],
   "source": [
    "times_act"
   ]
  },
  {
   "cell_type": "markdown",
   "metadata": {},
   "source": [
    "### Poisson Fitting"
   ]
  },
  {
   "cell_type": "code",
   "execution_count": 44,
   "metadata": {},
   "outputs": [],
   "source": [
    "data_int = (data-times_act[0])/(times_act-times_act[0])[1]\n",
    "times_act_int = (times_act-times_act[0])/(times_act-times_act[0])[1]\n",
    "\n",
    "freq_theo_pois = (num_events)*poisson(times_act_int, np.mean(data_int)) "
   ]
  },
  {
   "cell_type": "code",
   "execution_count": 45,
   "metadata": {},
   "outputs": [
    {
     "data": {
      "image/png": "[encoded data removed]",
      "text/plain": [
       "<Figure size 1080x432 with 2 Axes>"
      ]
     },
     "metadata": {
      "needs_background": "light"
     },
     "output_type": "display_data"
    }
   ],
   "source": [
    "fig, ax = plt.subplots(1,2, figsize=(15,6))\n",
    "\n",
    "\n",
    "ax[0].bar(times_act, freq_act, width=1/(bins-5), color='b')\n",
    "ax[1].bar(times_act, freq_theo_pois, width=1/(bins-5), color='r')\n",
    "\n",
    "ax[0].set_xlabel('Time between events (s)')\n",
    "ax[1].set_xlabel('Time between events (s)')\n",
    "ax[0].set_ylabel('Frequency')\n",
    "\n",
    "ax[0].set_title('Time Between Consecutive Events')\n",
    "ax[1].set_title('Theoretical Poisson Distribution')\n",
    "\n",
    "ax[0].grid()\n",
    "ax[1].grid()\n",
    "\n",
    "plt.show()"
   ]
  },
  {
   "cell_type": "code",
   "execution_count": 46,
   "metadata": {},
   "outputs": [],
   "source": [
    "num_bins = len(times_act)\n",
    "DOF = num_bins - 2"
   ]
  },
  {
   "cell_type": "code",
   "execution_count": 47,
   "metadata": {},
   "outputs": [],
   "source": [
    "m=np.linspace(0.3, 0.5, 100)\n",
    "m_int = (m-times_act[0])/(times_act-times_act[0])[1]\n",
    "chi_test = compute_chi2_pois(m_int, times_act_int, freq_act, num_events)"
   ]
  },
  {
   "cell_type": "code",
   "execution_count": 48,
   "metadata": {},
   "outputs": [
    {
     "data": {
      "image/png": "[encoded data removed]",
      "text/plain": [
       "<Figure size 576x230.4 with 1 Axes>"
      ]
     },
     "metadata": {
      "needs_background": "light"
     },
     "output_type": "display_data"
    }
   ],
   "source": [
    "fig, ax = plt.subplots(1,1, figsize=(8,3.2))\n",
    "\n",
    "ax.plot(m, chi_test)\n",
    "ax.set_title('Chi-Squared as a Function of $m$ Poisson Disitrubtion $P_m$')\n",
    "ax.set_xlabel('$m$')\n",
    "ax.set_ylabel('$\\chi^2$')\n",
    "\n",
    "plt.show()"
   ]
  },
  {
   "cell_type": "markdown",
   "metadata": {},
   "source": [
    "Print the value of $m$ (the theoretical mean) that minimizes the $\\chi^2$ value."
   ]
  },
  {
   "cell_type": "code",
   "execution_count": 49,
   "metadata": {},
   "outputs": [
    {
     "name": "stdout",
     "output_type": "stream",
     "text": [
      "0.398989898989899\n"
     ]
    }
   ],
   "source": [
    "print(m[chi_test.argmin()])"
   ]
  },
  {
   "cell_type": "code",
   "execution_count": 50,
   "metadata": {},
   "outputs": [],
   "source": [
    "freq_theo_pois = (num_events)*poisson(times_act_int, m_int[chi_test.argmin()]) "
   ]
  },
  {
   "cell_type": "markdown",
   "metadata": {},
   "source": [
    "Print the $\\chi^2$ value."
   ]
  },
  {
   "cell_type": "code",
   "execution_count": 51,
   "metadata": {},
   "outputs": [
    {
     "name": "stdout",
     "output_type": "stream",
     "text": [
      "3086.5010089949665\n"
     ]
    }
   ],
   "source": [
    "print(np.min(chi_test))"
   ]
  },
  {
   "cell_type": "code",
   "execution_count": 52,
   "metadata": {},
   "outputs": [
    {
     "name": "stdout",
     "output_type": "stream",
     "text": [
      "64.3021043540618\n"
     ]
    }
   ],
   "source": [
    "print(np.min(chi_test)/(DOF))"
   ]
  },
  {
   "cell_type": "markdown",
   "metadata": {},
   "source": [
    "### Skew-Norm Fitting"
   ]
  },
  {
   "cell_type": "code",
   "execution_count": 53,
   "metadata": {},
   "outputs": [],
   "source": [
    "popt, pcov = curve_fit(skew_norm, times_act, freq_act, absolute_sigma=True)\n",
    "freq_theo_skew = skew_norm(times_act, popt[0], popt[1], popt[2], popt[3])"
   ]
  },
  {
   "cell_type": "code",
   "execution_count": 54,
   "metadata": {},
   "outputs": [
    {
     "data": {
      "image/png": "[encoded data removed]",
      "text/plain": [
       "<Figure size 1080x432 with 2 Axes>"
      ]
     },
     "metadata": {
      "needs_background": "light"
     },
     "output_type": "display_data"
    }
   ],
   "source": [
    "fig, ax = plt.subplots(1,2, figsize=(15,6))\n",
    "\n",
    "ax[0].bar(times_act, freq_act, width=1/(bins-5), color='b')\n",
    "ax[1].bar(times_act, freq_theo_skew, width=1/(bins-5), color='r')\n",
    "\n",
    "ax[0].set_xlabel('Time between events (s)')\n",
    "ax[1].set_xlabel('Time between events (s)')\n",
    "ax[0].set_ylabel('Frequency')\n",
    "\n",
    "ax[0].set_title('Time Between Consecutive Events')\n",
    "ax[1].set_title('Theoretical Skewnorm Distribution')\n",
    "\n",
    "ax[0].grid()\n",
    "ax[1].grid()\n",
    "\n",
    "plt.show()"
   ]
  },
  {
   "cell_type": "code",
   "execution_count": 55,
   "metadata": {},
   "outputs": [
    {
     "name": "stdout",
     "output_type": "stream",
     "text": [
      "73.30408342751696\n",
      "1.628979631722599\n"
     ]
    }
   ],
   "source": [
    "chi = compute_chi2(freq_act, freq_theo_skew)\n",
    "print(chi)\n",
    "\n",
    "DOF = num_bins - 5\n",
    "print(chi/(DOF))"
   ]
  },
  {
   "cell_type": "markdown",
   "metadata": {},
   "source": [
    "### Nice Plot for Lab Report"
   ]
  },
  {
   "cell_type": "code",
   "execution_count": 56,
   "metadata": {},
   "outputs": [
    {
     "data": {
      "image/png": "[encoded data removed]",
      "text/plain": [
       "<Figure size 864x230.4 with 3 Axes>"
      ]
     },
     "metadata": {
      "needs_background": "light"
     },
     "output_type": "display_data"
    }
   ],
   "source": [
    "fig, ax = plt.subplots(1,3, figsize=(12,3.2))\n",
    "\n",
    "ax[0].bar(times_act, freq_act, width=1/(bins-5), color='b')\n",
    "ax[1].bar(times_act, freq_theo_pois, width=1/(bins-5), color='r')\n",
    "ax[2].bar(times_act, freq_theo_skew, width=1/(bins-5), color='g')\n",
    "\n",
    "ax[0].set_xlabel('Time between events (s)')\n",
    "ax[1].set_xlabel('Time between events (s)')\n",
    "ax[2].set_xlabel('Time between events (s)')\n",
    "ax[0].set_ylabel('Frequency')\n",
    "\n",
    "ax[0].set_title('Time Between Consecutive Events')\n",
    "ax[1].set_title('Theoretical Poisson Distribution')\n",
    "ax[2].set_title('Theoretical Skewnorm Distribution')\n",
    "\n",
    "ax[0].grid()\n",
    "ax[1].grid()\n",
    "ax[2].grid()\n",
    "\n",
    "plt.show()"
   ]
  },
  {
   "cell_type": "code",
   "execution_count": null,
   "metadata": {},
   "outputs": [],
   "source": []
  }
 ],
 "metadata": {
  "kernelspec": {
   "display_name": "Python 3",
   "language": "python",
   "name": "python3"
  },
  "language_info": {
   "codemirror_mode": {
    "name": "ipython",
    "version": 3
   },
   "file_extension": ".py",
   "mimetype": "text/x-python",
   "name": "python",
   "nbconvert_exporter": "python",
   "pygments_lexer": "ipython3",
   "version": "3.6.6"
  }
 },
 "nbformat": 4,
 "nbformat_minor": 2
}
