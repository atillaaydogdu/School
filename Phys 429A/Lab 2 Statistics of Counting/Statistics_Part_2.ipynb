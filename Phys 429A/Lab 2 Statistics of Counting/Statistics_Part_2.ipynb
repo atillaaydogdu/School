{
 "cells": [
  {
   "cell_type": "markdown",
   "metadata": {},
   "source": [
    "<h1 id=\"tocheading\">Table of Contents and Notebook Setup</h1>\n",
    "<div id=\"toc\"></div>"
   ]
  },
  {
   "cell_type": "code",
   "execution_count": 1,
   "metadata": {},
   "outputs": [],
   "source": [
    "%%javascript\n",
    "$.getScript('https://kmahelona.github.io/ipython_notebook_goodies/ipython_notebook_toc.js')"
   ]
  },
  {
   "cell_type": "code",
   "execution_count": 2,
   "metadata": {},
   "outputs": [],
   "source": [
    "import numpy as np\n",
    "import matplotlib.pyplot as plt\n",
    "import pandas as pd\n",
    "import scipy as sp\n",
    "from scipy.optimize import curve_fit\n",
    "from uncertainties import ufloat\n",
    "import glob, os\n",
    "from scipy import misc\n",
    "from scipy import stats"
   ]
  },
  {
   "cell_type": "code",
   "execution_count": 3,
   "metadata": {},
   "outputs": [],
   "source": [
    "datapath = 'radioactive_sources'"
   ]
  },
  {
   "cell_type": "markdown",
   "metadata": {},
   "source": [
    "# Prelimary Work"
   ]
  },
  {
   "cell_type": "markdown",
   "metadata": {},
   "source": [
    "## Import all Data Sets into One Data Frame"
   ]
  },
  {
   "cell_type": "code",
   "execution_count": 4,
   "metadata": {},
   "outputs": [],
   "source": [
    "datafiles = [file for file in os.listdir(datapath)]\n",
    "list_ = []\n",
    "for file_ in datafiles:\n",
    "    df = pd.read_csv(datapath+'/'+file_, skiprows = 12, names=[file_[0:-10]])\n",
    "    df=df[:-1] #get rid of last row\n",
    "    df[file_[0:-10]] = df[file_[0:-10]].astype(int) #convert to numeric values\n",
    "    list_.append(df)\n",
    "df = pd.concat(list_, axis=1)"
   ]
  },
  {
   "cell_type": "markdown",
   "metadata": {},
   "source": [
    "## Remove Background Data From Each Column"
   ]
  },
  {
   "cell_type": "markdown",
   "metadata": {},
   "source": [
    "Since the background was collected for 10 times longer than the isotopes, we divide the column by 10 and then subtract it from the other three columns."
   ]
  },
  {
   "cell_type": "code",
   "execution_count": 5,
   "metadata": {},
   "outputs": [],
   "source": [
    "df = df.subtract(df['background'], axis='rows', level=None, fill_value=None)\n",
    "df.drop(['background'], axis=1, inplace=True)"
   ]
  },
  {
   "cell_type": "markdown",
   "metadata": {},
   "source": [
    "## Print some Sample Values"
   ]
  },
  {
   "cell_type": "code",
   "execution_count": 6,
   "metadata": {},
   "outputs": [
    {
     "data": {
      "text/html": [
       "<div>\n",
       "<style scoped>\n",
       "    .dataframe tbody tr th:only-of-type {\n",
       "        vertical-align: middle;\n",
       "    }\n",
       "\n",
       "    .dataframe tbody tr th {\n",
       "        vertical-align: top;\n",
       "    }\n",
       "\n",
       "    .dataframe thead th {\n",
       "        text-align: right;\n",
       "    }\n",
       "</style>\n",
       "<table border=\"1\" class=\"dataframe\">\n",
       "  <thead>\n",
       "    <tr style=\"text-align: right;\">\n",
       "      <th></th>\n",
       "      <th>co60</th>\n",
       "      <th>cs137</th>\n",
       "      <th>na22</th>\n",
       "    </tr>\n",
       "  </thead>\n",
       "  <tbody>\n",
       "    <tr>\n",
       "      <th>0</th>\n",
       "      <td>0</td>\n",
       "      <td>0</td>\n",
       "      <td>0</td>\n",
       "    </tr>\n",
       "    <tr>\n",
       "      <th>1</th>\n",
       "      <td>0</td>\n",
       "      <td>0</td>\n",
       "      <td>0</td>\n",
       "    </tr>\n",
       "    <tr>\n",
       "      <th>2</th>\n",
       "      <td>0</td>\n",
       "      <td>0</td>\n",
       "      <td>0</td>\n",
       "    </tr>\n",
       "    <tr>\n",
       "      <th>3</th>\n",
       "      <td>0</td>\n",
       "      <td>0</td>\n",
       "      <td>0</td>\n",
       "    </tr>\n",
       "    <tr>\n",
       "      <th>4</th>\n",
       "      <td>0</td>\n",
       "      <td>0</td>\n",
       "      <td>0</td>\n",
       "    </tr>\n",
       "    <tr>\n",
       "      <th>5</th>\n",
       "      <td>0</td>\n",
       "      <td>0</td>\n",
       "      <td>0</td>\n",
       "    </tr>\n",
       "    <tr>\n",
       "      <th>6</th>\n",
       "      <td>0</td>\n",
       "      <td>0</td>\n",
       "      <td>0</td>\n",
       "    </tr>\n",
       "    <tr>\n",
       "      <th>7</th>\n",
       "      <td>0</td>\n",
       "      <td>0</td>\n",
       "      <td>0</td>\n",
       "    </tr>\n",
       "    <tr>\n",
       "      <th>8</th>\n",
       "      <td>0</td>\n",
       "      <td>0</td>\n",
       "      <td>0</td>\n",
       "    </tr>\n",
       "    <tr>\n",
       "      <th>9</th>\n",
       "      <td>157</td>\n",
       "      <td>1894</td>\n",
       "      <td>68</td>\n",
       "    </tr>\n",
       "    <tr>\n",
       "      <th>10</th>\n",
       "      <td>834</td>\n",
       "      <td>11828</td>\n",
       "      <td>475</td>\n",
       "    </tr>\n",
       "    <tr>\n",
       "      <th>11</th>\n",
       "      <td>906</td>\n",
       "      <td>7815</td>\n",
       "      <td>484</td>\n",
       "    </tr>\n",
       "    <tr>\n",
       "      <th>12</th>\n",
       "      <td>974</td>\n",
       "      <td>3790</td>\n",
       "      <td>554</td>\n",
       "    </tr>\n",
       "    <tr>\n",
       "      <th>13</th>\n",
       "      <td>1003</td>\n",
       "      <td>2109</td>\n",
       "      <td>644</td>\n",
       "    </tr>\n",
       "    <tr>\n",
       "      <th>14</th>\n",
       "      <td>1071</td>\n",
       "      <td>1704</td>\n",
       "      <td>605</td>\n",
       "    </tr>\n",
       "    <tr>\n",
       "      <th>15</th>\n",
       "      <td>999</td>\n",
       "      <td>1584</td>\n",
       "      <td>577</td>\n",
       "    </tr>\n",
       "    <tr>\n",
       "      <th>16</th>\n",
       "      <td>1004</td>\n",
       "      <td>1533</td>\n",
       "      <td>524</td>\n",
       "    </tr>\n",
       "    <tr>\n",
       "      <th>17</th>\n",
       "      <td>1020</td>\n",
       "      <td>1478</td>\n",
       "      <td>525</td>\n",
       "    </tr>\n",
       "    <tr>\n",
       "      <th>18</th>\n",
       "      <td>1110</td>\n",
       "      <td>1489</td>\n",
       "      <td>546</td>\n",
       "    </tr>\n",
       "    <tr>\n",
       "      <th>19</th>\n",
       "      <td>1150</td>\n",
       "      <td>1710</td>\n",
       "      <td>589</td>\n",
       "    </tr>\n",
       "    <tr>\n",
       "      <th>20</th>\n",
       "      <td>1315</td>\n",
       "      <td>1792</td>\n",
       "      <td>646</td>\n",
       "    </tr>\n",
       "    <tr>\n",
       "      <th>21</th>\n",
       "      <td>1555</td>\n",
       "      <td>2203</td>\n",
       "      <td>739</td>\n",
       "    </tr>\n",
       "    <tr>\n",
       "      <th>22</th>\n",
       "      <td>1796</td>\n",
       "      <td>2989</td>\n",
       "      <td>998</td>\n",
       "    </tr>\n",
       "    <tr>\n",
       "      <th>23</th>\n",
       "      <td>2249</td>\n",
       "      <td>3668</td>\n",
       "      <td>1343</td>\n",
       "    </tr>\n",
       "    <tr>\n",
       "      <th>24</th>\n",
       "      <td>2312</td>\n",
       "      <td>3834</td>\n",
       "      <td>1621</td>\n",
       "    </tr>\n",
       "    <tr>\n",
       "      <th>25</th>\n",
       "      <td>1993</td>\n",
       "      <td>3051</td>\n",
       "      <td>1288</td>\n",
       "    </tr>\n",
       "    <tr>\n",
       "      <th>26</th>\n",
       "      <td>1479</td>\n",
       "      <td>2479</td>\n",
       "      <td>953</td>\n",
       "    </tr>\n",
       "    <tr>\n",
       "      <th>27</th>\n",
       "      <td>1374</td>\n",
       "      <td>2253</td>\n",
       "      <td>907</td>\n",
       "    </tr>\n",
       "    <tr>\n",
       "      <th>28</th>\n",
       "      <td>1191</td>\n",
       "      <td>1932</td>\n",
       "      <td>733</td>\n",
       "    </tr>\n",
       "    <tr>\n",
       "      <th>29</th>\n",
       "      <td>985</td>\n",
       "      <td>1587</td>\n",
       "      <td>625</td>\n",
       "    </tr>\n",
       "    <tr>\n",
       "      <th>...</th>\n",
       "      <td>...</td>\n",
       "      <td>...</td>\n",
       "      <td>...</td>\n",
       "    </tr>\n",
       "    <tr>\n",
       "      <th>482</th>\n",
       "      <td>10</td>\n",
       "      <td>-1</td>\n",
       "      <td>0</td>\n",
       "    </tr>\n",
       "    <tr>\n",
       "      <th>483</th>\n",
       "      <td>13</td>\n",
       "      <td>0</td>\n",
       "      <td>0</td>\n",
       "    </tr>\n",
       "    <tr>\n",
       "      <th>484</th>\n",
       "      <td>14</td>\n",
       "      <td>-1</td>\n",
       "      <td>0</td>\n",
       "    </tr>\n",
       "    <tr>\n",
       "      <th>485</th>\n",
       "      <td>12</td>\n",
       "      <td>0</td>\n",
       "      <td>0</td>\n",
       "    </tr>\n",
       "    <tr>\n",
       "      <th>486</th>\n",
       "      <td>20</td>\n",
       "      <td>1</td>\n",
       "      <td>1</td>\n",
       "    </tr>\n",
       "    <tr>\n",
       "      <th>487</th>\n",
       "      <td>15</td>\n",
       "      <td>-2</td>\n",
       "      <td>-1</td>\n",
       "    </tr>\n",
       "    <tr>\n",
       "      <th>488</th>\n",
       "      <td>9</td>\n",
       "      <td>-1</td>\n",
       "      <td>2</td>\n",
       "    </tr>\n",
       "    <tr>\n",
       "      <th>489</th>\n",
       "      <td>13</td>\n",
       "      <td>0</td>\n",
       "      <td>3</td>\n",
       "    </tr>\n",
       "    <tr>\n",
       "      <th>490</th>\n",
       "      <td>-1</td>\n",
       "      <td>-4</td>\n",
       "      <td>-3</td>\n",
       "    </tr>\n",
       "    <tr>\n",
       "      <th>491</th>\n",
       "      <td>16</td>\n",
       "      <td>-1</td>\n",
       "      <td>1</td>\n",
       "    </tr>\n",
       "    <tr>\n",
       "      <th>492</th>\n",
       "      <td>13</td>\n",
       "      <td>0</td>\n",
       "      <td>2</td>\n",
       "    </tr>\n",
       "    <tr>\n",
       "      <th>493</th>\n",
       "      <td>13</td>\n",
       "      <td>0</td>\n",
       "      <td>1</td>\n",
       "    </tr>\n",
       "    <tr>\n",
       "      <th>494</th>\n",
       "      <td>16</td>\n",
       "      <td>0</td>\n",
       "      <td>5</td>\n",
       "    </tr>\n",
       "    <tr>\n",
       "      <th>495</th>\n",
       "      <td>12</td>\n",
       "      <td>0</td>\n",
       "      <td>4</td>\n",
       "    </tr>\n",
       "    <tr>\n",
       "      <th>496</th>\n",
       "      <td>0</td>\n",
       "      <td>0</td>\n",
       "      <td>0</td>\n",
       "    </tr>\n",
       "    <tr>\n",
       "      <th>497</th>\n",
       "      <td>0</td>\n",
       "      <td>0</td>\n",
       "      <td>0</td>\n",
       "    </tr>\n",
       "    <tr>\n",
       "      <th>498</th>\n",
       "      <td>0</td>\n",
       "      <td>0</td>\n",
       "      <td>0</td>\n",
       "    </tr>\n",
       "    <tr>\n",
       "      <th>499</th>\n",
       "      <td>0</td>\n",
       "      <td>0</td>\n",
       "      <td>0</td>\n",
       "    </tr>\n",
       "    <tr>\n",
       "      <th>500</th>\n",
       "      <td>0</td>\n",
       "      <td>0</td>\n",
       "      <td>0</td>\n",
       "    </tr>\n",
       "    <tr>\n",
       "      <th>501</th>\n",
       "      <td>0</td>\n",
       "      <td>0</td>\n",
       "      <td>0</td>\n",
       "    </tr>\n",
       "    <tr>\n",
       "      <th>502</th>\n",
       "      <td>0</td>\n",
       "      <td>0</td>\n",
       "      <td>0</td>\n",
       "    </tr>\n",
       "    <tr>\n",
       "      <th>503</th>\n",
       "      <td>0</td>\n",
       "      <td>0</td>\n",
       "      <td>0</td>\n",
       "    </tr>\n",
       "    <tr>\n",
       "      <th>504</th>\n",
       "      <td>0</td>\n",
       "      <td>0</td>\n",
       "      <td>0</td>\n",
       "    </tr>\n",
       "    <tr>\n",
       "      <th>505</th>\n",
       "      <td>0</td>\n",
       "      <td>0</td>\n",
       "      <td>0</td>\n",
       "    </tr>\n",
       "    <tr>\n",
       "      <th>506</th>\n",
       "      <td>0</td>\n",
       "      <td>0</td>\n",
       "      <td>0</td>\n",
       "    </tr>\n",
       "    <tr>\n",
       "      <th>507</th>\n",
       "      <td>0</td>\n",
       "      <td>0</td>\n",
       "      <td>0</td>\n",
       "    </tr>\n",
       "    <tr>\n",
       "      <th>508</th>\n",
       "      <td>0</td>\n",
       "      <td>0</td>\n",
       "      <td>0</td>\n",
       "    </tr>\n",
       "    <tr>\n",
       "      <th>509</th>\n",
       "      <td>0</td>\n",
       "      <td>0</td>\n",
       "      <td>0</td>\n",
       "    </tr>\n",
       "    <tr>\n",
       "      <th>510</th>\n",
       "      <td>0</td>\n",
       "      <td>0</td>\n",
       "      <td>0</td>\n",
       "    </tr>\n",
       "    <tr>\n",
       "      <th>511</th>\n",
       "      <td>0</td>\n",
       "      <td>0</td>\n",
       "      <td>0</td>\n",
       "    </tr>\n",
       "  </tbody>\n",
       "</table>\n",
       "<p>512 rows × 3 columns</p>\n",
       "</div>"
      ],
      "text/plain": [
       "     co60  cs137  na22\n",
       "0       0      0     0\n",
       "1       0      0     0\n",
       "2       0      0     0\n",
       "3       0      0     0\n",
       "4       0      0     0\n",
       "5       0      0     0\n",
       "6       0      0     0\n",
       "7       0      0     0\n",
       "8       0      0     0\n",
       "9     157   1894    68\n",
       "10    834  11828   475\n",
       "11    906   7815   484\n",
       "12    974   3790   554\n",
       "13   1003   2109   644\n",
       "14   1071   1704   605\n",
       "15    999   1584   577\n",
       "16   1004   1533   524\n",
       "17   1020   1478   525\n",
       "18   1110   1489   546\n",
       "19   1150   1710   589\n",
       "20   1315   1792   646\n",
       "21   1555   2203   739\n",
       "22   1796   2989   998\n",
       "23   2249   3668  1343\n",
       "24   2312   3834  1621\n",
       "25   1993   3051  1288\n",
       "26   1479   2479   953\n",
       "27   1374   2253   907\n",
       "28   1191   1932   733\n",
       "29    985   1587   625\n",
       "..    ...    ...   ...\n",
       "482    10     -1     0\n",
       "483    13      0     0\n",
       "484    14     -1     0\n",
       "485    12      0     0\n",
       "486    20      1     1\n",
       "487    15     -2    -1\n",
       "488     9     -1     2\n",
       "489    13      0     3\n",
       "490    -1     -4    -3\n",
       "491    16     -1     1\n",
       "492    13      0     2\n",
       "493    13      0     1\n",
       "494    16      0     5\n",
       "495    12      0     4\n",
       "496     0      0     0\n",
       "497     0      0     0\n",
       "498     0      0     0\n",
       "499     0      0     0\n",
       "500     0      0     0\n",
       "501     0      0     0\n",
       "502     0      0     0\n",
       "503     0      0     0\n",
       "504     0      0     0\n",
       "505     0      0     0\n",
       "506     0      0     0\n",
       "507     0      0     0\n",
       "508     0      0     0\n",
       "509     0      0     0\n",
       "510     0      0     0\n",
       "511     0      0     0\n",
       "\n",
       "[512 rows x 3 columns]"
      ]
     },
     "execution_count": 6,
     "metadata": {},
     "output_type": "execute_result"
    }
   ],
   "source": [
    "df"
   ]
  },
  {
   "cell_type": "markdown",
   "metadata": {},
   "source": [
    "## Initial Plot of Energy Peaks"
   ]
  },
  {
   "cell_type": "code",
   "execution_count": 7,
   "metadata": {},
   "outputs": [
    {
     "data": {
      "image/png": "[encoded data removed]",
      "text/plain": [
       "<Figure size 504x230.4 with 1 Axes>"
      ]
     },
     "metadata": {},
     "output_type": "display_data"
    }
   ],
   "source": [
    "fig, ax = plt.subplots(figsize=(7,3.2))\n",
    "\n",
    "df.plot(ax=ax)\n",
    "\n",
    "ax.set_xlabel('Channel Number')\n",
    "ax.set_ylabel('Number of Counts')\n",
    "ax.set_title('Energy Peaks of Isotopes')\n",
    "\n",
    "ax.minorticks_on()\n",
    "ax.grid(which='minor', alpha=0.2)\n",
    "ax.grid(which='major', alpha=0.5)\n",
    "\n",
    "fig.tight_layout()\n",
    "plt.savefig(\"plots/part2_countpeaks\", bbox_inches='tight', dpi=1000)\n",
    "plt.show()"
   ]
  },
  {
   "cell_type": "markdown",
   "metadata": {},
   "source": [
    "# Fitting the Curves"
   ]
  },
  {
   "cell_type": "markdown",
   "metadata": {},
   "source": [
    "## Cobalt Peak 1"
   ]
  },
  {
   "cell_type": "markdown",
   "metadata": {},
   "source": [
    "Use non-linear least squares to fit a function, f, to data."
   ]
  },
  {
   "cell_type": "code",
   "execution_count": 8,
   "metadata": {},
   "outputs": [],
   "source": [
    "def norm(x, u, sig, amp):\n",
    "    return amp*np.exp(-((x-u)**2)/(2*sig**2))"
   ]
  },
  {
   "cell_type": "code",
   "execution_count": 9,
   "metadata": {},
   "outputs": [],
   "source": [
    "mask = (df.index>320) & (df.index<345)\n",
    "p0  = (np.mean(df.index[mask]), np.std(df.index[mask]), np.max(df['co60'][mask]))\n",
    "\n",
    "popt, pcov = curve_fit(norm, df.index[mask], df['co60'][mask], p0=p0)\n",
    "perr = np.sqrt(np.diag(pcov))"
   ]
  },
  {
   "cell_type": "markdown",
   "metadata": {},
   "source": [
    "This returns the fit parameters in the array popt, and the <b> standard errors </b> (i.e one standard deviation) in the array pcov."
   ]
  },
  {
   "cell_type": "code",
   "execution_count": 10,
   "metadata": {},
   "outputs": [],
   "source": [
    "mean_co60_1 = popt[0]\n",
    "err_co60_1 = perr[0]"
   ]
  },
  {
   "cell_type": "code",
   "execution_count": 11,
   "metadata": {},
   "outputs": [
    {
     "data": {
      "image/png": "[encoded data removed]",
      "text/plain": [
       "<Figure size 432x216 with 1 Axes>"
      ]
     },
     "metadata": {},
     "output_type": "display_data"
    }
   ],
   "source": [
    "fig, ax = plt.subplots(figsize=(6,3))\n",
    "\n",
    "df['co60'].plot(ax=ax)\n",
    "ax.plot(norm(df.index, mean_co60_1, popt[1], popt[2]), label='Fit')\n",
    "\n",
    "ax.axvline(mean_co60_1, color='k', linestyle='--', label='Mean Value')\n",
    "ax.axvspan(mean_co60_1-err_co60_1, mean_co60_1+err_co60_1, alpha=0.2, color='k', label='Uncertainty')\n",
    "\n",
    "ax.set_xlabel('Channel Number (proportional to energy)')\n",
    "ax.set_ylabel('Number of Counts')\n",
    "ax.set_title('Energy Fit Co60 First Peak')\n",
    "\n",
    "ax.set_xlim(320, 345)\n",
    "ax.minorticks_on()\n",
    "ax.grid(which='minor', alpha=0.2)\n",
    "ax.grid(which='major', alpha=0.5)\n",
    "\n",
    "ax.legend(loc='lower right')\n",
    "\n",
    "fig.tight_layout()\n",
    "plt.savefig(\"plots/part2_co60bestfit\", bbox_inches='tight', dpi=1000)\n",
    "plt.show()"
   ]
  },
  {
   "cell_type": "markdown",
   "metadata": {},
   "source": [
    "## Cobalt Peak 2"
   ]
  },
  {
   "cell_type": "code",
   "execution_count": 12,
   "metadata": {},
   "outputs": [],
   "source": [
    "limits = [365, 390]"
   ]
  },
  {
   "cell_type": "code",
   "execution_count": 13,
   "metadata": {},
   "outputs": [],
   "source": [
    "mask = (df.index>limits[0]) & (df.index<limits[1])\n",
    "p0  = (np.mean(df.index[mask]), np.std(df.index[mask]), np.max(df['co60'][mask]))\n",
    "\n",
    "popt, pcov = curve_fit(norm, df.index[mask], df['co60'][mask], p0=p0)\n",
    "perr = np.sqrt(np.diag(pcov))"
   ]
  },
  {
   "cell_type": "code",
   "execution_count": 14,
   "metadata": {},
   "outputs": [],
   "source": [
    "mean_co60_2 = popt[0]\n",
    "err_co60_2 = perr[0]"
   ]
  },
  {
   "cell_type": "code",
   "execution_count": 15,
   "metadata": {},
   "outputs": [
    {
     "data": {
      "image/png": "[encoded data removed]",
      "text/plain": [
       "<Figure size 432x288 with 1 Axes>"
      ]
     },
     "metadata": {},
     "output_type": "display_data"
    }
   ],
   "source": [
    "fig, ax = plt.subplots(figsize=(6,4))\n",
    "\n",
    "df['co60'].plot(ax=ax)\n",
    "ax.plot(norm(df.index, mean_co60_2, popt[1], popt[2]), label='Fit')\n",
    "\n",
    "ax.axvline(mean_co60_2, color='k', linestyle='--', label='Mean Value')\n",
    "ax.axvspan(mean_co60_2-err_co60_2, mean_co60_2+err_co60_2, alpha=0.2, color='k', label='Uncertainty')\n",
    "\n",
    "ax.set_xlabel('Channel Number (proportional to energy)')\n",
    "ax.set_ylabel('Number of Counts')\n",
    "ax.set_title('Energy Fit Co60 Second Peak')\n",
    "\n",
    "ax.set_xlim(limits[0], limits[1])\n",
    "ax.minorticks_on()\n",
    "ax.grid(which='minor', alpha=0.2)\n",
    "ax.grid(which='major', alpha=0.5)\n",
    "\n",
    "ax.legend()\n",
    "\n",
    "plt.show()"
   ]
  },
  {
   "cell_type": "markdown",
   "metadata": {},
   "source": [
    "## Sodium Peak 1"
   ]
  },
  {
   "cell_type": "code",
   "execution_count": 16,
   "metadata": {},
   "outputs": [],
   "source": [
    "limits = [138, 160]"
   ]
  },
  {
   "cell_type": "code",
   "execution_count": 17,
   "metadata": {},
   "outputs": [],
   "source": [
    "mask = (df.index>limits[0]) & (df.index<limits[1])\n",
    "p0  = (np.mean(df.index[mask]), np.std(df.index[mask]), np.max(df['na22'][mask]))\n",
    "\n",
    "popt, pcov = curve_fit(norm, df.index[mask], df['na22'][mask], p0=p0)\n",
    "perr = np.sqrt(np.diag(pcov))"
   ]
  },
  {
   "cell_type": "code",
   "execution_count": 18,
   "metadata": {},
   "outputs": [],
   "source": [
    "mean_na22_1 = popt[0]\n",
    "err_na22_1 = perr[0]"
   ]
  },
  {
   "cell_type": "code",
   "execution_count": 19,
   "metadata": {},
   "outputs": [
    {
     "data": {
      "image/png": "[encoded data removed]",
      "text/plain": [
       "<Figure size 432x288 with 1 Axes>"
      ]
     },
     "metadata": {},
     "output_type": "display_data"
    }
   ],
   "source": [
    "fig, ax = plt.subplots(figsize=(6,4))\n",
    "\n",
    "df['na22'].plot(ax=ax)\n",
    "ax.plot(norm(df.index, mean_na22_1, popt[1], popt[2]), label='Fit')\n",
    "\n",
    "ax.axvline(mean_na22_1, color='k', linestyle='--', label='Mean Value')\n",
    "ax.axvspan(mean_na22_1-err_na22_1, mean_na22_1+err_na22_1, alpha=0.2, color='k', label='Uncertainty')\n",
    "\n",
    "ax.set_xlabel('Channel Number (proportional to energy)')\n",
    "ax.set_ylabel('Number of Counts')\n",
    "ax.set_title('Energy Fit Na22 Peak 1')\n",
    "\n",
    "ax.set_xlim(limits[0], limits[1])\n",
    "ax.minorticks_on()\n",
    "ax.grid(which='minor', alpha=0.2)\n",
    "ax.grid(which='major', alpha=0.5)\n",
    "\n",
    "ax.legend()\n",
    "\n",
    "plt.show()"
   ]
  },
  {
   "cell_type": "markdown",
   "metadata": {},
   "source": [
    "## Sodium Peak 2"
   ]
  },
  {
   "cell_type": "code",
   "execution_count": 20,
   "metadata": {},
   "outputs": [],
   "source": [
    "limits = [350, 375]"
   ]
  },
  {
   "cell_type": "code",
   "execution_count": 21,
   "metadata": {},
   "outputs": [],
   "source": [
    "mask = (df.index>limits[0]) & (df.index<limits[1])\n",
    "p0  = (np.mean(df.index[mask]), np.std(df.index[mask]), np.max(df['na22'][mask]))\n",
    "\n",
    "popt, pcov = curve_fit(norm, df.index[mask], df['na22'][mask], p0=p0)\n",
    "perr = np.sqrt(np.diag(pcov))"
   ]
  },
  {
   "cell_type": "code",
   "execution_count": 22,
   "metadata": {},
   "outputs": [],
   "source": [
    "mean_na22_2 = popt[0]\n",
    "err_na22_2 = perr[0]"
   ]
  },
  {
   "cell_type": "code",
   "execution_count": 23,
   "metadata": {},
   "outputs": [
    {
     "data": {
      "image/png": "[encoded data removed]",
      "text/plain": [
       "<Figure size 432x288 with 1 Axes>"
      ]
     },
     "metadata": {},
     "output_type": "display_data"
    }
   ],
   "source": [
    "fig, ax = plt.subplots(figsize=(6,4))\n",
    "\n",
    "df['na22'].plot(ax=ax)\n",
    "ax.plot(norm(df.index, mean_na22_2, popt[1], popt[2]), label='Fit')\n",
    "\n",
    "ax.axvline(mean_na22_2, color='k', linestyle='--', label='Mean Value')\n",
    "ax.axvspan(mean_na22_2-err_na22_2, mean_na22_2+err_na22_2, alpha=0.2, color='k', label='Uncertainty')\n",
    "\n",
    "ax.set_xlabel('Channel Number (proportional to energy)')\n",
    "ax.set_ylabel('Number of Counts')\n",
    "ax.set_title('Energy Fit Na22 Peak 2')\n",
    "\n",
    "ax.set_xlim(limits[0], limits[1])\n",
    "ax.minorticks_on()\n",
    "ax.grid(which='minor', alpha=0.2)\n",
    "ax.grid(which='major', alpha=0.5)\n",
    "\n",
    "ax.set_ylim(0,500)\n",
    "\n",
    "ax.legend()\n",
    "\n",
    "plt.show()"
   ]
  },
  {
   "cell_type": "markdown",
   "metadata": {},
   "source": [
    "## Cesium Peak"
   ]
  },
  {
   "cell_type": "code",
   "execution_count": 24,
   "metadata": {},
   "outputs": [],
   "source": [
    "limits = [180, 200]"
   ]
  },
  {
   "cell_type": "code",
   "execution_count": 25,
   "metadata": {},
   "outputs": [],
   "source": [
    "mask = (df.index>limits[0]) & (df.index<limits[1])\n",
    "p0  = (np.mean(df.index[mask]), np.std(df.index[mask]), np.max(df['cs137'][mask]))\n",
    "\n",
    "popt, pcov = curve_fit(norm, df.index[mask], df['cs137'][mask], p0=p0)\n",
    "perr = np.sqrt(np.diag(pcov))"
   ]
  },
  {
   "cell_type": "code",
   "execution_count": 26,
   "metadata": {},
   "outputs": [],
   "source": [
    "mean_cs137 = popt[0]\n",
    "err_cs137 = perr[0]"
   ]
  },
  {
   "cell_type": "code",
   "execution_count": 27,
   "metadata": {},
   "outputs": [
    {
     "data": {
      "image/png": "[encoded data removed]",
      "text/plain": [
       "<Figure size 432x288 with 1 Axes>"
      ]
     },
     "metadata": {},
     "output_type": "display_data"
    }
   ],
   "source": [
    "fig, ax = plt.subplots(figsize=(6,4))\n",
    "\n",
    "df['cs137'].plot(ax=ax)\n",
    "ax.plot(norm(df.index, mean_cs137, popt[1], popt[2]), label='Fit')\n",
    "\n",
    "ax.axvline(mean_cs137, color='k', linestyle='--', label='Mean Value')\n",
    "ax.axvspan(mean_cs137-err_cs137, mean_cs137+err_cs137, alpha=0.2, color='k', label='Uncertainty')\n",
    "\n",
    "ax.set_xlabel('Channel Number (proportional to energy)')\n",
    "ax.set_ylabel('Number of Counts')\n",
    "ax.set_title('Energy Fit Cs137')\n",
    "\n",
    "ax.set_xlim(limits[0], limits[1])\n",
    "ax.minorticks_on()\n",
    "ax.grid(which='minor', alpha=0.2)\n",
    "ax.grid(which='major', alpha=0.5)\n",
    "\n",
    "ax.legend()\n",
    "\n",
    "plt.show()"
   ]
  },
  {
   "cell_type": "markdown",
   "metadata": {},
   "source": [
    "# Analysis"
   ]
  },
  {
   "cell_type": "markdown",
   "metadata": {},
   "source": [
    "## Define the Energy Peaks"
   ]
  },
  {
   "cell_type": "code",
   "execution_count": 28,
   "metadata": {},
   "outputs": [],
   "source": [
    "co_peak_1 = 1173.228\n",
    "co_peak_2 = 1332.494\n",
    "cs_peak = 661.657\n",
    "na_peak_1 = 511.006\n",
    "na_peak_2 = 1274.537\n",
    "\n",
    "energies = np.array([na_peak_1, na_peak_2, cs_peak, co_peak_1, co_peak_2])"
   ]
  },
  {
   "cell_type": "markdown",
   "metadata": {},
   "source": [
    "## Define the Channel Peaks"
   ]
  },
  {
   "cell_type": "code",
   "execution_count": 29,
   "metadata": {},
   "outputs": [],
   "source": [
    "channel_mean_na22_1 = ufloat(mean_na22_1, err_na22_1)\n",
    "channel_mean_na22_2 = ufloat(mean_na22_2, err_na22_2)\n",
    "channel_mean_cs137 = ufloat(mean_cs137, err_cs137)\n",
    "channel_mean_co60_1 = ufloat(mean_co60_1, err_co60_1)\n",
    "channel_mean_co60_2 = ufloat(mean_co60_2, err_co60_2)\n",
    "\n",
    "channels_unc = np.array([channel_mean_na22_1, channel_mean_na22_2, channel_mean_cs137,\n",
    "                         channel_mean_co60_1, channel_mean_co60_2])\n",
    "\n",
    "channels = np.array([x.nominal_value for x  in channels_unc]) #no uncertainties when plotting\n",
    "channels_err = np.array([x.std_dev for x  in channels_unc]) #no uncertainties when plotting"
   ]
  },
  {
   "cell_type": "markdown",
   "metadata": {},
   "source": [
    "## Inital Plot"
   ]
  },
  {
   "cell_type": "code",
   "execution_count": 30,
   "metadata": {},
   "outputs": [
    {
     "data": {
      "image/png": "[encoded data removed]",
      "text/plain": [
       "<Figure size 864x432 with 1 Axes>"
      ]
     },
     "metadata": {},
     "output_type": "display_data"
    }
   ],
   "source": [
    "fig, ax = plt.subplots(figsize=(12,6))\n",
    "\n",
    "ax.scatter(channels, energies)\n",
    "\n",
    "ax.set_xlabel('Channel Number')\n",
    "ax.set_ylabel('Energy (keV)')\n",
    "ax.set_title('Energy as a Function of Channel Number')\n",
    "\n",
    "ax.minorticks_on()\n",
    "ax.grid(which='minor', alpha=0.2)\n",
    "ax.grid(which='major', alpha=0.5)\n",
    "\n",
    "ax.set_xlim(0,400)\n",
    "ax.set_ylim(0,1500)\n",
    "\n",
    "\n",
    "plt.show()"
   ]
  },
  {
   "cell_type": "markdown",
   "metadata": {},
   "source": [
    "We can use least squares fit on any **four** of these points and then predict what the value of the fifth point should be."
   ]
  },
  {
   "cell_type": "code",
   "execution_count": 31,
   "metadata": {},
   "outputs": [],
   "source": [
    "def line(x, a, b):\n",
    "    return a+b*x\n",
    "\n",
    "[a, b], pcov = curve_fit(line, channels, energies)\n",
    "[a_err, b_err] = np.sqrt(np.diag(pcov))"
   ]
  },
  {
   "cell_type": "code",
   "execution_count": 32,
   "metadata": {},
   "outputs": [],
   "source": [
    "x = np.arange(0, 400, 1)"
   ]
  },
  {
   "cell_type": "code",
   "execution_count": 40,
   "metadata": {},
   "outputs": [
    {
     "data": {
      "image/png": "[encoded data removed]",
      "text/plain": [
       "<Figure size 432x230.4 with 1 Axes>"
      ]
     },
     "metadata": {},
     "output_type": "display_data"
    }
   ],
   "source": [
    "fig, ax = plt.subplots(figsize=(6,3.2))\n",
    "\n",
    "ax.scatter(channels, energies)\n",
    "ax.plot(x, line(x, a, b), color='k')\n",
    "ax.fill_between(x, line(x, a-a_err, b-b_err), line(x, a+a_err, b+b_err), alpha=0.2, color='k')\n",
    "\n",
    "ax.set_xlabel('Channel Number')\n",
    "ax.set_ylabel('Energy (keV)')\n",
    "ax.set_title('Energy as a Function of Channel Number')\n",
    "\n",
    "ax.minorticks_on()\n",
    "ax.grid(which='minor', alpha=0.2)\n",
    "ax.grid(which='major', alpha=0.5)\n",
    "\n",
    "ax.set_xlim(0,400)\n",
    "ax.set_ylim(0,1500)\n",
    "\n",
    "fig.tight_layout()\n",
    "plt.savefig(\"plots/part2_linbestfit\", bbox_inches='tight', dpi=1000)\n",
    "plt.show()"
   ]
  },
  {
   "cell_type": "markdown",
   "metadata": {},
   "source": [
    "Guess's the energy of the $\\text{i}^{th}$ value in the array channels by fitting the other 4 points to a line and using that line to make a guess."
   ]
  },
  {
   "cell_type": "code",
   "execution_count": 34,
   "metadata": {},
   "outputs": [],
   "source": [
    "def energy_guess(i):\n",
    "    points_to_use = np.delete(channels, i)\n",
    "    \n",
    "    [a_val, b_val], pcov = curve_fit(line, channels, energies)\n",
    "    [a_err, b_err] = np.sqrt(np.diag(pcov))\n",
    "    \n",
    "    a = ufloat(a_val, a_err)\n",
    "    b = ufloat(b_val, b_err)\n",
    "    \n",
    "    return a+channels_unc[i]*b"
   ]
  },
  {
   "cell_type": "markdown",
   "metadata": {},
   "source": [
    "## The Calculations"
   ]
  },
  {
   "cell_type": "markdown",
   "metadata": {},
   "source": [
    "### Sodium Peak 1"
   ]
  },
  {
   "cell_type": "code",
   "execution_count": 35,
   "metadata": {},
   "outputs": [
    {
     "data": {
      "text/plain": [
       "510.72093556096104+/-1.473112367419453"
      ]
     },
     "execution_count": 35,
     "metadata": {},
     "output_type": "execute_result"
    }
   ],
   "source": [
    "energy_guess(0)"
   ]
  },
  {
   "cell_type": "markdown",
   "metadata": {},
   "source": [
    "### Sodium Peak 2"
   ]
  },
  {
   "cell_type": "code",
   "execution_count": 36,
   "metadata": {},
   "outputs": [
    {
     "data": {
      "text/plain": [
       "1275.7122048553724+/-2.104178597164312"
      ]
     },
     "execution_count": 36,
     "metadata": {},
     "output_type": "execute_result"
    }
   ],
   "source": [
    "energy_guess(1)"
   ]
  },
  {
   "cell_type": "markdown",
   "metadata": {},
   "source": [
    "### Cesium Peak"
   ]
  },
  {
   "cell_type": "code",
   "execution_count": 37,
   "metadata": {},
   "outputs": [
    {
     "data": {
      "text/plain": [
       "662.0930699684305+/-1.5621382072745549"
      ]
     },
     "execution_count": 37,
     "metadata": {},
     "output_type": "execute_result"
    }
   ],
   "source": [
    "energy_guess(2)"
   ]
  },
  {
   "cell_type": "markdown",
   "metadata": {},
   "source": [
    "### Cobalt Peak 1"
   ]
  },
  {
   "cell_type": "code",
   "execution_count": 38,
   "metadata": {},
   "outputs": [
    {
     "data": {
      "text/plain": [
       "1172.4500072016667+/-1.9881302661344673"
      ]
     },
     "execution_count": 38,
     "metadata": {},
     "output_type": "execute_result"
    }
   ],
   "source": [
    "energy_guess(3)"
   ]
  },
  {
   "cell_type": "markdown",
   "metadata": {},
   "source": [
    "### Cobalt Peak 2"
   ]
  },
  {
   "cell_type": "code",
   "execution_count": 39,
   "metadata": {},
   "outputs": [
    {
     "data": {
      "text/plain": [
       "1331.9457824597375+/-2.1359173081165284"
      ]
     },
     "execution_count": 39,
     "metadata": {},
     "output_type": "execute_result"
    }
   ],
   "source": [
    "energy_guess(4)"
   ]
  }
 ],
 "metadata": {
  "kernelspec": {
   "display_name": "Python 3",
   "language": "python",
   "name": "python3"
  },
  "language_info": {
   "codemirror_mode": {
    "name": "ipython",
    "version": 3
   },
   "file_extension": ".py",
   "mimetype": "text/x-python",
   "name": "python",
   "nbconvert_exporter": "python",
   "pygments_lexer": "ipython3",
   "version": "3.6.5"
  }
 },
 "nbformat": 4,
 "nbformat_minor": 2
}
