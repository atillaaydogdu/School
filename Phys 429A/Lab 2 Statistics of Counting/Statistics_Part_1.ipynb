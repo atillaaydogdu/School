{
 "cells": [
  {
   "cell_type": "markdown",
   "metadata": {},
   "source": [
    "<h1 id=\"tocheading\">Table of Contents and Notebook Setup</h1>\n",
    "<div id=\"toc\"></div>"
   ]
  },
  {
   "cell_type": "code",
   "execution_count": 1,
   "metadata": {},
   "outputs": [
    {
     "data": {
      "application/javascript": [
       "$.getScript('https://kmahelona.github.io/ipython_notebook_goodies/ipython_notebook_toc.js')"
      ],
      "text/plain": [
       "<IPython.core.display.Javascript object>"
      ]
     },
     "metadata": {},
     "output_type": "display_data"
    }
   ],
   "source": [
    "%%javascript\n",
    "$.getScript('https://kmahelona.github.io/ipython_notebook_goodies/ipython_notebook_toc.js')"
   ]
  },
  {
   "cell_type": "code",
   "execution_count": 2,
   "metadata": {},
   "outputs": [],
   "source": [
    "import numpy as np\n",
    "import matplotlib.pyplot as plt\n",
    "import pandas as pd\n",
    "import scipy as sp\n",
    "from scipy import misc"
   ]
  },
  {
   "cell_type": "markdown",
   "metadata": {},
   "source": [
    "Returns the poisson distribution\n",
    "\n",
    "$$P_m(x) = \\frac{m^x e^{-m}}{x!} $$"
   ]
  },
  {
   "cell_type": "code",
   "execution_count": 3,
   "metadata": {},
   "outputs": [],
   "source": [
    "def poisson(x, mean):\n",
    "    return np.exp(-mean)*(mean**x)/sp.special.factorial(x)"
   ]
  },
  {
   "cell_type": "markdown",
   "metadata": {},
   "source": [
    "Computes the chi squared distribution for different values of $m$ above."
   ]
  },
  {
   "cell_type": "code",
   "execution_count": 4,
   "metadata": {},
   "outputs": [],
   "source": [
    "def compute_chi2(m, count_act, freq_act, num_events):\n",
    "    \n",
    "    tot = 0\n",
    "    for count, freq in zip(count_act, freq_act):\n",
    "        theo = num_events*poisson(count, m) \n",
    "        tot += ((freq-theo)**2)/(theo)\n",
    "        \n",
    "    return tot"
   ]
  },
  {
   "cell_type": "markdown",
   "metadata": {},
   "source": [
    "# Setting Up the Input Voltage"
   ]
  },
  {
   "cell_type": "code",
   "execution_count": 5,
   "metadata": {},
   "outputs": [],
   "source": [
    "volt_top = np.array([1.2, 1.246, 1.303, 1.352, 1.402, 1.421, 1.440, 1.460, 1.482, 1.500, \n",
    "           1.520, 1.540, 1.562, 1.579, 1.599, 1.652, 1.701, 1.429])\n",
    "counts_top = np.array([225, 367, 632, 722, 837, 935, 941, 1097, 1293, 1363, 1515, 1646, 1724,\n",
    "             1936, 2131, 2497, 2798, 949])\n",
    "\n",
    "volt_bot = np.array([1.196, 1.244, 1.267, 1.298, 1.326, 1.359, 1.393, 1.438, 1.216, 1.231, \n",
    "                     1.156, 1.102])\n",
    "counts_bot = np.array([787, 1032, 1143, 1448, 1615, 1982, 2096, 2570, 882, 931, 699, 443])\n"
   ]
  },
  {
   "cell_type": "code",
   "execution_count": 6,
   "metadata": {},
   "outputs": [
    {
     "data": {
      "image/png": "[encoded data removed]",
      "text/plain": [
       "<Figure size 576x230.4 with 2 Axes>"
      ]
     },
     "metadata": {},
     "output_type": "display_data"
    }
   ],
   "source": [
    "fig, axes = plt.subplots(1, 2, figsize=(8,3.2))\n",
    "\n",
    "axes[0].scatter(volt_top, counts_top)\n",
    "axes[0].set_xlabel('Voltage (kV)')\n",
    "axes[0].set_ylabel('Counts')\n",
    "axes[0].set_title('Scintillator 1')\n",
    "\n",
    "axes[1].scatter(volt_bot, counts_bot)\n",
    "axes[1].set_xlabel('Voltage (kV)')\n",
    "axes[1].set_ylabel('Counts')\n",
    "axes[1].set_title('Scintillator 2')\n",
    "\n",
    "axes[0].axvline(1.41, color='r', linestyle='--', label='Plateau Region')\n",
    "axes[0].axvline(1.45, color='r', linestyle='--')\n",
    "axes[0].legend()\n",
    "\n",
    "axes[1].axvline(1.21, color='r', linestyle='--', label='Plateau Region')\n",
    "axes[1].axvline(1.23, color='r', linestyle='--')\n",
    "axes[1].legend()\n",
    "\n",
    "axes[0].grid()\n",
    "axes[1].grid()\n",
    "\n",
    "plt.show()"
   ]
  },
  {
   "cell_type": "markdown",
   "metadata": {},
   "source": [
    "# Counting Data"
   ]
  },
  {
   "cell_type": "markdown",
   "metadata": {},
   "source": [
    "## 3 Count Interval Bottom Scintillator 1.23V"
   ]
  },
  {
   "cell_type": "markdown",
   "metadata": {},
   "source": [
    "Open data:"
   ]
  },
  {
   "cell_type": "code",
   "execution_count": 7,
   "metadata": {},
   "outputs": [],
   "source": [
    "df = pd.read_csv('plateau_data/solo_3.txt', skiprows=12, names=['counts'])\n",
    "data = df['counts'][0:315].astype(int)\n",
    "num_events = len(data)"
   ]
  },
  {
   "cell_type": "markdown",
   "metadata": {},
   "source": [
    "Get Distributions:"
   ]
  },
  {
   "cell_type": "code",
   "execution_count": 8,
   "metadata": {},
   "outputs": [],
   "source": [
    "freq_act, _ = np.histogram(data, max(data)-min(data)+1)\n",
    "count_act = np.arange(min(data), max(data)+1, 1)\n",
    "freq_theo = num_events*poisson(count_act, np.mean(data)) "
   ]
  },
  {
   "cell_type": "markdown",
   "metadata": {},
   "source": [
    "Plots poisson with $m=$ the mean of the data (not necessarily the best fit)."
   ]
  },
  {
   "cell_type": "code",
   "execution_count": 9,
   "metadata": {},
   "outputs": [
    {
     "data": {
      "image/png": "[encoded data removed]",
      "text/plain": [
       "<Figure size 576x230.4 with 2 Axes>"
      ]
     },
     "metadata": {},
     "output_type": "display_data"
    }
   ],
   "source": [
    "fig, ax = plt.subplots(1,2, figsize=(8,3.2))\n",
    "\n",
    "\n",
    "ax[0].bar(count_act, freq_act, width=1, color='b')\n",
    "ax[1].bar(count_act, freq_theo, width=1, color='r')\n",
    "\n",
    "ax[0].set_xlabel('Counts')\n",
    "ax[1].set_xlabel('Counts')\n",
    "ax[0].set_ylabel('Frequency')\n",
    "\n",
    "ax[0].set_title('Counts in Time Interval')\n",
    "ax[1].set_title('Theoretical Poisson Distribution')\n",
    "\n",
    "plt.show()"
   ]
  },
  {
   "cell_type": "markdown",
   "metadata": {},
   "source": [
    "### Compute Optimal m for Poisson Distribution"
   ]
  },
  {
   "cell_type": "code",
   "execution_count": 10,
   "metadata": {},
   "outputs": [],
   "source": [
    "num_bins = len(count_act)\n",
    "DOF = num_bins - 2"
   ]
  },
  {
   "cell_type": "code",
   "execution_count": 11,
   "metadata": {},
   "outputs": [],
   "source": [
    "m=np.linspace(3, 4, 100)\n",
    "chi_test = compute_chi2(m, count_act, freq_act, num_events)"
   ]
  },
  {
   "cell_type": "code",
   "execution_count": 12,
   "metadata": {},
   "outputs": [
    {
     "data": {
      "image/png": "[encoded data removed]",
      "text/plain": [
       "<Figure size 864x360 with 1 Axes>"
      ]
     },
     "metadata": {},
     "output_type": "display_data"
    }
   ],
   "source": [
    "fig, ax = plt.subplots(1,1, figsize=(12,5))\n",
    "\n",
    "ax.plot(m, chi_test)\n",
    "ax.set_title('Chi-Squared as a Function of $m$ in the Poisson Disitrubtion $P_m$')\n",
    "ax.set_xlabel('$m$')\n",
    "ax.set_ylabel('$\\chi^2$')\n",
    "\n",
    "plt.show()"
   ]
  },
  {
   "cell_type": "markdown",
   "metadata": {},
   "source": [
    "Print the value of $m$ that corresponds to the smallest $\\chi^2$ value."
   ]
  },
  {
   "cell_type": "code",
   "execution_count": 13,
   "metadata": {},
   "outputs": [
    {
     "data": {
      "text/plain": [
       "3.4646464646464645"
      ]
     },
     "execution_count": 13,
     "metadata": {},
     "output_type": "execute_result"
    }
   ],
   "source": [
    "i = np.argmin(chi_test)\n",
    "m[i]"
   ]
  },
  {
   "cell_type": "markdown",
   "metadata": {},
   "source": [
    "Print the minimum value of $\\chi^2$."
   ]
  },
  {
   "cell_type": "code",
   "execution_count": 14,
   "metadata": {},
   "outputs": [
    {
     "data": {
      "text/plain": [
       "12.510103933772273"
      ]
     },
     "execution_count": 14,
     "metadata": {},
     "output_type": "execute_result"
    }
   ],
   "source": [
    "min(chi_test)"
   ]
  },
  {
   "cell_type": "code",
   "execution_count": 15,
   "metadata": {},
   "outputs": [
    {
     "name": "stdout",
     "output_type": "stream",
     "text": [
      "1.563762991721534\n"
     ]
    }
   ],
   "source": [
    "print(np.min(chi_test)/(DOF))"
   ]
  },
  {
   "cell_type": "markdown",
   "metadata": {},
   "source": [
    "## 50 Counts Bottom Scintillator 1.23V"
   ]
  },
  {
   "cell_type": "markdown",
   "metadata": {},
   "source": [
    "Open DataFrame:"
   ]
  },
  {
   "cell_type": "code",
   "execution_count": 16,
   "metadata": {},
   "outputs": [],
   "source": [
    "df = pd.read_csv('plateau_data/solo_50.txt', skiprows=12, names=['counts'])\n",
    "data = df['counts'][0:305].astype(int)\n",
    "num_events = len(data)"
   ]
  },
  {
   "cell_type": "markdown",
   "metadata": {},
   "source": [
    "Get Data:"
   ]
  },
  {
   "cell_type": "code",
   "execution_count": 17,
   "metadata": {},
   "outputs": [],
   "source": [
    "freq_act, _ = np.histogram(data, max(data)-min(data)+1)\n",
    "count_act = np.arange(min(data), max(data)+1, 1)\n",
    "freq_theo = num_events*poisson(count_act, np.mean(data)) "
   ]
  },
  {
   "cell_type": "markdown",
   "metadata": {},
   "source": [
    "Plotting:"
   ]
  },
  {
   "cell_type": "code",
   "execution_count": 18,
   "metadata": {},
   "outputs": [
    {
     "data": {
      "image/png": "[encoded data removed]",
      "text/plain": [
       "<Figure size 576x230.4 with 2 Axes>"
      ]
     },
     "metadata": {},
     "output_type": "display_data"
    }
   ],
   "source": [
    "fig, ax = plt.subplots(1,2, figsize=(8,3.2))\n",
    "\n",
    "\n",
    "ax[0].bar(count_act, freq_act, width=1, color='b')\n",
    "ax[1].bar(count_act, freq_theo, width=1, color='r')\n",
    "\n",
    "ax[0].set_xlabel('Counts')\n",
    "ax[1].set_xlabel('Counts')\n",
    "ax[0].set_ylabel('Frequency')\n",
    "\n",
    "ax[0].set_title('Counts in Time Interval')\n",
    "ax[1].set_title('Theoretical Poisson Distribution')\n",
    "\n",
    "plt.show()"
   ]
  },
  {
   "cell_type": "markdown",
   "metadata": {},
   "source": [
    "### Compute Optimal m for Poisson Distribution"
   ]
  },
  {
   "cell_type": "code",
   "execution_count": 19,
   "metadata": {},
   "outputs": [],
   "source": [
    "num_bins = len(count_act)\n",
    "DOF = num_bins - 2"
   ]
  },
  {
   "cell_type": "code",
   "execution_count": 20,
   "metadata": {},
   "outputs": [],
   "source": [
    "m=np.linspace(45, 55, 100)\n",
    "chi_test = compute_chi2(m, count_act, freq_act, num_events)"
   ]
  },
  {
   "cell_type": "code",
   "execution_count": 21,
   "metadata": {},
   "outputs": [
    {
     "data": {
      "image/png": "[encoded data removed]",
      "text/plain": [
       "<Figure size 864x360 with 1 Axes>"
      ]
     },
     "metadata": {},
     "output_type": "display_data"
    }
   ],
   "source": [
    "fig, ax = plt.subplots(1,1, figsize=(12,5))\n",
    "\n",
    "ax.plot(m, chi_test)\n",
    "ax.set_title('Chi-Squared as a Function of $m$ in the Poisson Disitrubtion $P_m$')\n",
    "ax.set_xlabel('$m$')\n",
    "ax.set_ylabel('$\\chi^2$')\n",
    "\n",
    "plt.show()"
   ]
  },
  {
   "cell_type": "markdown",
   "metadata": {},
   "source": [
    "Print the value of $m$ that corresponds to the smallest $\\chi^2$ value."
   ]
  },
  {
   "cell_type": "code",
   "execution_count": 22,
   "metadata": {},
   "outputs": [
    {
     "data": {
      "text/plain": [
       "49.24242424242424"
      ]
     },
     "execution_count": 22,
     "metadata": {},
     "output_type": "execute_result"
    }
   ],
   "source": [
    "i = np.argmin(chi_test)\n",
    "m[i]"
   ]
  },
  {
   "cell_type": "markdown",
   "metadata": {},
   "source": [
    "Print the minimum value of $\\chi^2$."
   ]
  },
  {
   "cell_type": "code",
   "execution_count": 23,
   "metadata": {},
   "outputs": [
    {
     "data": {
      "text/plain": [
       "40.31720588723792"
      ]
     },
     "execution_count": 23,
     "metadata": {},
     "output_type": "execute_result"
    }
   ],
   "source": [
    "min(chi_test)"
   ]
  },
  {
   "cell_type": "code",
   "execution_count": 24,
   "metadata": {},
   "outputs": [
    {
     "name": "stdout",
     "output_type": "stream",
     "text": [
      "1.1519201682067977\n"
     ]
    }
   ],
   "source": [
    "print(np.min(chi_test)/(DOF))"
   ]
  },
  {
   "cell_type": "markdown",
   "metadata": {},
   "source": [
    "## 3 Count Interval Both Scintillators Top 1.43V Bot 1.23V"
   ]
  },
  {
   "cell_type": "code",
   "execution_count": 25,
   "metadata": {},
   "outputs": [],
   "source": [
    "df = pd.read_csv('plateau_data/in_sync_3.txt', skiprows=12, names=['counts'])\n",
    "data = df['counts'][0:305].astype(int)\n",
    "num_events = len(data)"
   ]
  },
  {
   "cell_type": "code",
   "execution_count": 26,
   "metadata": {},
   "outputs": [],
   "source": [
    "freq_act, _ = np.histogram(data, max(data)-min(data)+1)\n",
    "count_act = np.arange(min(data), max(data)+1, 1)\n",
    "freq_theo = num_events*poisson(count_act, np.mean(data)) "
   ]
  },
  {
   "cell_type": "code",
   "execution_count": 27,
   "metadata": {},
   "outputs": [
    {
     "data": {
      "image/png": "[encoded data removed]",
      "text/plain": [
       "<Figure size 576x230.4 with 2 Axes>"
      ]
     },
     "metadata": {},
     "output_type": "display_data"
    }
   ],
   "source": [
    "fig, ax = plt.subplots(1,2, figsize=(8,3.2))\n",
    "\n",
    "\n",
    "ax[0].bar(count_act, freq_act, width=1, color='b')\n",
    "ax[1].bar(count_act, freq_theo, width=1, color='r')\n",
    "\n",
    "ax[0].set_xlabel('Counts')\n",
    "ax[1].set_xlabel('Counts')\n",
    "ax[0].set_ylabel('Frequency')\n",
    "\n",
    "ax[0].set_title('Counts in Time Interval')\n",
    "ax[1].set_title('Theoretical Poisson Distribution')\n",
    "\n",
    "plt.show()"
   ]
  },
  {
   "cell_type": "markdown",
   "metadata": {},
   "source": [
    "### Compute Optimal m for Poisson Distribution"
   ]
  },
  {
   "cell_type": "code",
   "execution_count": 28,
   "metadata": {},
   "outputs": [],
   "source": [
    "num_bins = len(count_act)\n",
    "DOF = num_bins - 2"
   ]
  },
  {
   "cell_type": "code",
   "execution_count": 29,
   "metadata": {},
   "outputs": [],
   "source": [
    "m=np.linspace(4.5, 6.0, 100)\n",
    "chi_test = compute_chi2(m, count_act, freq_act, num_events)"
   ]
  },
  {
   "cell_type": "code",
   "execution_count": 30,
   "metadata": {},
   "outputs": [
    {
     "data": {
      "image/png": "[encoded data removed]",
      "text/plain": [
       "<Figure size 864x360 with 1 Axes>"
      ]
     },
     "metadata": {},
     "output_type": "display_data"
    }
   ],
   "source": [
    "fig, ax = plt.subplots(1,1, figsize=(12,5))\n",
    "\n",
    "ax.plot(m, chi_test)\n",
    "ax.set_title('Chi-Squared as a Function of $m$ in the Poisson Disitrubtion $P_m$')\n",
    "ax.set_xlabel('$m$')\n",
    "ax.set_ylabel('$\\chi^2$')\n",
    "\n",
    "plt.show()"
   ]
  },
  {
   "cell_type": "markdown",
   "metadata": {},
   "source": [
    "Print the value of $m$ that corresponds to the smallest $\\chi^2$ value."
   ]
  },
  {
   "cell_type": "code",
   "execution_count": 31,
   "metadata": {},
   "outputs": [
    {
     "data": {
      "text/plain": [
       "5.0606060606060606"
      ]
     },
     "execution_count": 31,
     "metadata": {},
     "output_type": "execute_result"
    }
   ],
   "source": [
    "i = np.argmin(chi_test)\n",
    "m[i]"
   ]
  },
  {
   "cell_type": "markdown",
   "metadata": {},
   "source": [
    "Print the minimum value of $\\chi^2$."
   ]
  },
  {
   "cell_type": "code",
   "execution_count": 32,
   "metadata": {},
   "outputs": [
    {
     "data": {
      "text/plain": [
       "161.15289389938766"
      ]
     },
     "execution_count": 32,
     "metadata": {},
     "output_type": "execute_result"
    }
   ],
   "source": [
    "min(chi_test)"
   ]
  },
  {
   "cell_type": "code",
   "execution_count": 33,
   "metadata": {},
   "outputs": [
    {
     "name": "stdout",
     "output_type": "stream",
     "text": [
      "11.510920992813405\n"
     ]
    }
   ],
   "source": [
    "print(np.min(chi_test)/(DOF))"
   ]
  },
  {
   "cell_type": "markdown",
   "metadata": {},
   "source": [
    "## 50 Count Interval Both Scintillators Top 1.43V Bot 1.23V"
   ]
  },
  {
   "cell_type": "code",
   "execution_count": 34,
   "metadata": {},
   "outputs": [],
   "source": [
    "df = pd.read_csv('plateau_data/in_sync_50.txt', skiprows=12, names=['counts'])\n",
    "data = df['counts'][0:305].astype(int)\n",
    "num_events = len(data)"
   ]
  },
  {
   "cell_type": "code",
   "execution_count": 35,
   "metadata": {},
   "outputs": [],
   "source": [
    "freq_act, _ = np.histogram(data, max(data)-min(data)+1)\n",
    "count_act = np.arange(min(data), max(data)+1, 1)\n",
    "freq_theo = num_events*poisson(count_act, np.mean(data)) "
   ]
  },
  {
   "cell_type": "code",
   "execution_count": 36,
   "metadata": {},
   "outputs": [
    {
     "data": {
      "image/png": "[encoded data removed]",
      "text/plain": [
       "<Figure size 576x230.4 with 2 Axes>"
      ]
     },
     "metadata": {},
     "output_type": "display_data"
    }
   ],
   "source": [
    "fig, ax = plt.subplots(1,2, figsize=(8,3.2))\n",
    "\n",
    "\n",
    "ax[0].bar(count_act, freq_act, width=1, color='b')\n",
    "ax[1].bar(count_act, freq_theo, width=1, color='r')\n",
    "\n",
    "ax[0].set_xlabel('Counts')\n",
    "ax[1].set_xlabel('Counts')\n",
    "ax[0].set_ylabel('Frequency')\n",
    "\n",
    "ax[0].set_title('Counts in Time Interval')\n",
    "ax[1].set_title('Theoretical Poisson Distribution')\n",
    "\n",
    "plt.show()"
   ]
  },
  {
   "cell_type": "markdown",
   "metadata": {},
   "source": [
    "### Compute Optimal m for Poisson Distribution"
   ]
  },
  {
   "cell_type": "code",
   "execution_count": 37,
   "metadata": {},
   "outputs": [],
   "source": [
    "num_bins = len(count_act)\n",
    "DOF = num_bins - 2"
   ]
  },
  {
   "cell_type": "code",
   "execution_count": 38,
   "metadata": {},
   "outputs": [],
   "source": [
    "m=np.linspace(45, 56, 100)\n",
    "chi_test = compute_chi2(m, count_act, freq_act, num_events)"
   ]
  },
  {
   "cell_type": "code",
   "execution_count": 39,
   "metadata": {},
   "outputs": [
    {
     "data": {
      "image/png": "[encoded data removed]",
      "text/plain": [
       "<Figure size 864x360 with 1 Axes>"
      ]
     },
     "metadata": {},
     "output_type": "display_data"
    }
   ],
   "source": [
    "fig, ax = plt.subplots(1,1, figsize=(12,5))\n",
    "\n",
    "ax.plot(m, chi_test)\n",
    "ax.set_title('Chi-Squared as a Function of $m$ in the Poisson Disitrubtion $P_m$')\n",
    "ax.set_xlabel('$m$')\n",
    "ax.set_ylabel('$\\chi^2$')\n",
    "\n",
    "plt.show()"
   ]
  },
  {
   "cell_type": "markdown",
   "metadata": {},
   "source": [
    "Print the value of $m$ that corresponds to the smallest $\\chi^2$ value."
   ]
  },
  {
   "cell_type": "code",
   "execution_count": 40,
   "metadata": {},
   "outputs": [
    {
     "data": {
      "text/plain": [
       "49.22222222222222"
      ]
     },
     "execution_count": 40,
     "metadata": {},
     "output_type": "execute_result"
    }
   ],
   "source": [
    "i = np.argmin(chi_test)\n",
    "m[i]"
   ]
  },
  {
   "cell_type": "markdown",
   "metadata": {},
   "source": [
    "Print the minimum value of $\\chi^2$."
   ]
  },
  {
   "cell_type": "code",
   "execution_count": 41,
   "metadata": {},
   "outputs": [
    {
     "data": {
      "text/plain": [
       "84.20424670300027"
      ]
     },
     "execution_count": 41,
     "metadata": {},
     "output_type": "execute_result"
    }
   ],
   "source": [
    "min(chi_test)"
   ]
  },
  {
   "cell_type": "code",
   "execution_count": 42,
   "metadata": {},
   "outputs": [
    {
     "name": "stdout",
     "output_type": "stream",
     "text": [
      "1.8305271022391363\n"
     ]
    }
   ],
   "source": [
    "print(np.min(chi_test)/DOF)"
   ]
  },
  {
   "cell_type": "markdown",
   "metadata": {},
   "source": [
    "# Conclusion"
   ]
  },
  {
   "cell_type": "markdown",
   "metadata": {},
   "source": [
    "$\\chi^2$ is higher for the scintillators in sync than it is apart. This suggests that cosmic rays are not poisson distributed. This is understandable:\n",
    "\n",
    "\"Poisson Probability Distribution requires events to occur with a constant rate and independtly of the last event.\"\n",
    "\n",
    "While the extra noise picked up by 1 scintillator on its own is poisson distribtued (and helps lower the chi-square value) the 2 scintillators on top of eachother (which isolate cosmic events) measure only the cosmic ray data which is inherently non-poisson.\n",
    "\n",
    "The reason cosmic rays are non-poisson is because events are influenced by previous events. This is obvious by just looking at the counter, the particles tend to come in packets: i.e a particle is more likely to be measured directly after another event. "
   ]
  }
 ],
 "metadata": {
  "kernelspec": {
   "display_name": "Python 3",
   "language": "python",
   "name": "python3"
  },
  "language_info": {
   "codemirror_mode": {
    "name": "ipython",
    "version": 3
   },
   "file_extension": ".py",
   "mimetype": "text/x-python",
   "name": "python",
   "nbconvert_exporter": "python",
   "pygments_lexer": "ipython3",
   "version": "3.6.5"
  }
 },
 "nbformat": 4,
 "nbformat_minor": 2
}
