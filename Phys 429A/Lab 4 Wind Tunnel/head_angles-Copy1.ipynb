{
 "cells": [
  {
   "cell_type": "code",
   "execution_count": 1,
   "metadata": {},
   "outputs": [],
   "source": [
    "import os\n",
    "import numpy as np\n",
    "import matplotlib.pyplot as plt\n",
    "import pandas as pd\n",
    "from uncertainties import ufloat\n",
    "from uncertainties import unumpy\n",
    "from scipy.optimize import curve_fit"
   ]
  },
  {
   "cell_type": "code",
   "execution_count": 2,
   "metadata": {},
   "outputs": [],
   "source": [
    "paths_1 = ['datafiles/head_angle_'+str(i+1) for i in range(9)]\n",
    "paths_2 = ['datafiles/f_head_angle_'+str(i+1) for i in range(6)]"
   ]
  },
  {
   "cell_type": "code",
   "execution_count": 3,
   "metadata": {},
   "outputs": [],
   "source": [
    "codes_to_speeds = {'3':ufloat(3.75, 0.2), '4':ufloat(5.78, 0.2), '4a':ufloat(6.48, 0.2), '5':ufloat(7.79, 0.2),\n",
    "                  '5a':ufloat(8.35, 0.2), '5b':ufloat(12.3, 0.2), '6':ufloat(14.0, 0.2), '7':ufloat(19.0, 0.2),\n",
    "                   '8':ufloat(21.1, 0.2), '9':ufloat(23.2, 0.2), '10':ufloat(23.7, 0.2), '11':ufloat(24.2, 0.2),\n",
    "                   '13':ufloat(25.0, 0.2)}                   "
   ]
  },
  {
   "cell_type": "code",
   "execution_count": 4,
   "metadata": {},
   "outputs": [],
   "source": [
    "head_angles_a = [0, 7, 18, 30, 39, 46, 60, 69, 87]\n",
    "head_angles_n = [0, 20, 34, 48, 65, 88]"
   ]
  },
  {
   "cell_type": "markdown",
   "metadata": {},
   "source": [
    "Number of events collected (10 seconds times 20 Hz)."
   ]
  },
  {
   "cell_type": "code",
   "execution_count": 22,
   "metadata": {},
   "outputs": [],
   "source": [
    "nn = 10*20"
   ]
  },
  {
   "cell_type": "markdown",
   "metadata": {},
   "source": [
    "# Open up Data"
   ]
  },
  {
   "cell_type": "markdown",
   "metadata": {},
   "source": [
    "Open up datafiles from each 10 second run and compute the mean and standard deviation for drag/lifting force. Each set of tests for a particular object (i.e testing a bunch of different wind speeds) is intended to be stored in a single DataFrame."
   ]
  },
  {
   "cell_type": "code",
   "execution_count": 5,
   "metadata": {},
   "outputs": [],
   "source": [
    "def get_data(path):\n",
    "    speed_codes = np.array([])\n",
    "    lift_means = np.array([]); lift_stds = np.array([])\n",
    "    drag_means = np.array([]); drag_stds = np.array([])\n",
    "    for filename in os.listdir(path):\n",
    "        df = pd.read_csv(path+'/'+filename, sep='\\t', skiprows=5, index_col=0).astype(float) \n",
    "        speed_codes = np.append(speed_codes, filename[5:-4])\n",
    "        lift_means = np.append(lift_means,  df['Lift (N)'].mean())\n",
    "        lift_stds = np.append(lift_stds, df['Lift (N)'].std())\n",
    "        drag_means = np.append(drag_means, df['Drag (N)'].mean())\n",
    "        drag_stds = np.append(drag_stds, df['Drag (N)'].std())\n",
    "\n",
    "    speeds = np.array([codes_to_speeds[speed_code] for speed_code in speed_codes])\n",
    "    df =  pd.DataFrame({'speed_means': unumpy.nominal_values(speeds), 'speed_stds': unumpy.std_devs(speeds),\n",
    "                         'lift_means':lift_means, 'lift_stds': lift_stds, 'drag_means':drag_means,\n",
    "                         'drag_stds':drag_stds})\n",
    "    \n",
    "    return df.sort_values('speed_means')"
   ]
  },
  {
   "cell_type": "markdown",
   "metadata": {},
   "source": [
    "Get the DataFrames."
   ]
  },
  {
   "cell_type": "code",
   "execution_count": 6,
   "metadata": {},
   "outputs": [],
   "source": [
    "arm_runs = [get_data(path) for path in paths_1]\n",
    "no_arm_runs = [get_data(path) for path in paths_2]"
   ]
  },
  {
   "cell_type": "code",
   "execution_count": 7,
   "metadata": {},
   "outputs": [
    {
     "data": {
      "text/html": [
       "<div>\n",
       "<style scoped>\n",
       "    .dataframe tbody tr th:only-of-type {\n",
       "        vertical-align: middle;\n",
       "    }\n",
       "\n",
       "    .dataframe tbody tr th {\n",
       "        vertical-align: top;\n",
       "    }\n",
       "\n",
       "    .dataframe thead th {\n",
       "        text-align: right;\n",
       "    }\n",
       "</style>\n",
       "<table border=\"1\" class=\"dataframe\">\n",
       "  <thead>\n",
       "    <tr style=\"text-align: right;\">\n",
       "      <th></th>\n",
       "      <th>speed_means</th>\n",
       "      <th>speed_stds</th>\n",
       "      <th>lift_means</th>\n",
       "      <th>lift_stds</th>\n",
       "      <th>drag_means</th>\n",
       "      <th>drag_stds</th>\n",
       "    </tr>\n",
       "  </thead>\n",
       "  <tbody>\n",
       "    <tr>\n",
       "      <th>3</th>\n",
       "      <td>3.75</td>\n",
       "      <td>0.2</td>\n",
       "      <td>-0.000172</td>\n",
       "      <td>0.001323</td>\n",
       "      <td>0.010679</td>\n",
       "      <td>0.002435</td>\n",
       "    </tr>\n",
       "    <tr>\n",
       "      <th>4</th>\n",
       "      <td>5.78</td>\n",
       "      <td>0.2</td>\n",
       "      <td>-0.000843</td>\n",
       "      <td>0.002773</td>\n",
       "      <td>0.023265</td>\n",
       "      <td>0.004786</td>\n",
       "    </tr>\n",
       "    <tr>\n",
       "      <th>5</th>\n",
       "      <td>6.48</td>\n",
       "      <td>0.2</td>\n",
       "      <td>-0.001353</td>\n",
       "      <td>0.003814</td>\n",
       "      <td>0.041929</td>\n",
       "      <td>0.006591</td>\n",
       "    </tr>\n",
       "    <tr>\n",
       "      <th>6</th>\n",
       "      <td>7.79</td>\n",
       "      <td>0.2</td>\n",
       "      <td>-0.000511</td>\n",
       "      <td>0.003995</td>\n",
       "      <td>0.055563</td>\n",
       "      <td>0.007909</td>\n",
       "    </tr>\n",
       "    <tr>\n",
       "      <th>7</th>\n",
       "      <td>8.35</td>\n",
       "      <td>0.2</td>\n",
       "      <td>-0.001928</td>\n",
       "      <td>0.006162</td>\n",
       "      <td>0.074888</td>\n",
       "      <td>0.009502</td>\n",
       "    </tr>\n",
       "  </tbody>\n",
       "</table>\n",
       "</div>"
      ],
      "text/plain": [
       "   speed_means  speed_stds  lift_means  lift_stds  drag_means  drag_stds\n",
       "3         3.75         0.2   -0.000172   0.001323    0.010679   0.002435\n",
       "4         5.78         0.2   -0.000843   0.002773    0.023265   0.004786\n",
       "5         6.48         0.2   -0.001353   0.003814    0.041929   0.006591\n",
       "6         7.79         0.2   -0.000511   0.003995    0.055563   0.007909\n",
       "7         8.35         0.2   -0.001928   0.006162    0.074888   0.009502"
      ]
     },
     "metadata": {},
     "output_type": "display_data"
    }
   ],
   "source": [
    "display(arm_runs[0].head())"
   ]
  },
  {
   "cell_type": "markdown",
   "metadata": {},
   "source": [
    "# Fit All The Drag Forces To Quadratic Curves"
   ]
  },
  {
   "cell_type": "code",
   "execution_count": 8,
   "metadata": {},
   "outputs": [],
   "source": [
    "def quad(x, a):\n",
    "    return a*x**2"
   ]
  },
  {
   "cell_type": "markdown",
   "metadata": {},
   "source": [
    "quad_params stores the values of $a$ for $F=av^2$ for each case of the head where $F$ is the drag force and $v$ is the velocity."
   ]
  },
  {
   "cell_type": "code",
   "execution_count": 9,
   "metadata": {},
   "outputs": [],
   "source": [
    "quad_params_arm = np.array([])\n",
    "quad_params_arm_err = np.array([])\n",
    "for df in arm_runs:\n",
    "    ss = df['speed_means']; dd = df['drag_means']\n",
    "    [a], [a_err] = curve_fit(quad, ss, dd, p0=(1))\n",
    "    quad_params_arm = np.append(quad_params_arm, a)\n",
    "    quad_params_arm_err = np.append(quad_params_arm_err, np.sqrt(a_err))\n",
    "    \n",
    "    \n",
    "quad_params_no_arm = np.array([])\n",
    "quad_params_no_arm_err = np.array([])\n",
    "for df in no_arm_runs:\n",
    "    ss = df['speed_means']; dd = df['drag_means']\n",
    "    [a], [a_err] = curve_fit(quad, ss, dd, p0=(1))\n",
    "    quad_params_no_arm = np.append(quad_params_no_arm, a)\n",
    "    quad_params_no_arm_err = np.append(quad_params_no_arm_err, np.sqrt(a_err))\n",
    "    "
   ]
  },
  {
   "cell_type": "markdown",
   "metadata": {},
   "source": [
    "Now create quadratic curves for each head angle."
   ]
  },
  {
   "cell_type": "code",
   "execution_count": 10,
   "metadata": {},
   "outputs": [],
   "source": [
    "x = np.linspace(0, 25, 1000)\n",
    "quad_fits_arm = [quad(x,quad_params_arm[i]) for i in range(9)]\n",
    "quad_fits_no_arm = [quad(x,quad_params_no_arm[i]) for i in range(6)]"
   ]
  },
  {
   "cell_type": "markdown",
   "metadata": {},
   "source": [
    "# Do Some Plotting"
   ]
  },
  {
   "cell_type": "markdown",
   "metadata": {},
   "source": [
    "## Arms"
   ]
  },
  {
   "cell_type": "code",
   "execution_count": 11,
   "metadata": {},
   "outputs": [],
   "source": [
    "choices = [0,4,8]"
   ]
  },
  {
   "cell_type": "code",
   "execution_count": 28,
   "metadata": {},
   "outputs": [
    {
     "data": {
      "image/png": "[encoded data removed]",
      "text/plain": [
       "<Figure size 432x216 with 1 Axes>"
      ]
     },
     "metadata": {},
     "output_type": "display_data"
    }
   ],
   "source": [
    "fig, ax = plt.subplots(1, 1, figsize=(6,3))\n",
    "\n",
    "ax.scatter(arm_runs[0]['speed_means'], arm_runs[0]['drag_means'],\n",
    "           label=r'$\\theta=0^{\\circ}$', s=10) \n",
    "ax.scatter(arm_runs[4]['speed_means'], arm_runs[4]['drag_means'],\n",
    "           label=r'$\\theta=39^{\\circ}$', s=10) \n",
    "ax.scatter(arm_runs[8]['speed_means'], arm_runs[8]['drag_means'],\n",
    "           label=r'$\\theta=87^{\\circ}$', s=10) \n",
    "\n",
    "ax.plot(x, quad_fits_arm[0])\n",
    "ax.plot(x, quad_fits_arm[4])\n",
    "ax.plot(x, quad_fits_arm[8])\n",
    "\n",
    "ax.legend()\n",
    "ax.grid()\n",
    "\n",
    "ax.set_xlabel('Wind Speed (m/s)')\n",
    "ax.set_ylabel('Drag Force (N)')\n",
    "\n",
    "fig.tight_layout()\n",
    "plt.savefig('arms_quad_plot.png', dpi=300)\n",
    "plt.show()"
   ]
  },
  {
   "cell_type": "markdown",
   "metadata": {},
   "source": [
    "## No Arms"
   ]
  },
  {
   "cell_type": "code",
   "execution_count": 13,
   "metadata": {},
   "outputs": [],
   "source": [
    "choices = [0,5]"
   ]
  },
  {
   "cell_type": "code",
   "execution_count": 14,
   "metadata": {},
   "outputs": [
    {
     "data": {
      "image/png": "[encoded data removed]",
      "text/plain": [
       "<Figure size 432x216 with 1 Axes>"
      ]
     },
     "metadata": {},
     "output_type": "display_data"
    }
   ],
   "source": [
    "fig, ax = plt.subplots(1, 1, figsize=(6,3))\n",
    "\n",
    "ax.scatter(no_arm_runs[0]['speed_means'], no_arm_runs[0]['drag_means'],\n",
    "           label=r'$\\theta=0^{\\circ}$', s=10) \n",
    "ax.scatter(no_arm_runs[3]['speed_means'], no_arm_runs[3]['drag_means'],\n",
    "           label=r'$\\theta=48^{\\circ}$', s=10) \n",
    "ax.scatter(no_arm_runs[5]['speed_means'], no_arm_runs[5]['drag_means'],\n",
    "           label=r'$\\theta=88^{\\circ}$', s=10) \n",
    "\n",
    "ax.plot(x, quad_fits_no_arm[0])\n",
    "ax.plot(x, quad_fits_no_arm[3])\n",
    "ax.plot(x, quad_fits_no_arm[5])\n",
    "\n",
    "ax.legend()\n",
    "ax.grid()\n",
    "\n",
    "ax.set_xlabel('Wind Speed (m/s)')\n",
    "ax.set_ylabel('Drag Force (N)')\n",
    "\n",
    "fig.tight_layout()\n",
    "plt.savefig('no_arms_quad_plot.png', dpi=300)\n",
    "plt.show()"
   ]
  },
  {
   "cell_type": "code",
   "execution_count": 20,
   "metadata": {},
   "outputs": [
    {
     "data": {
      "image/png": "[encoded data removed]",
      "text/plain": [
       "<Figure size 432x216 with 1 Axes>"
      ]
     },
     "metadata": {},
     "output_type": "display_data"
    }
   ],
   "source": [
    "fig, ax = plt.subplots(1, 1, figsize = (6,3))\n",
    "plt.ticklabel_format(style='sci', axis='y', scilimits=(0,0))\n",
    "\n",
    "ax.scatter(head_angles_a, quad_params_arm, label='Streamline Arms')\n",
    "ax.scatter(head_angles_n, quad_params_no_arm, label='Arms at Side')\n",
    "ax.errorbar(head_angles_a, quad_params_arm, yerr=quad_params_arm_err, linestyle='', color='k')\n",
    "ax.errorbar(head_angles_n, quad_params_no_arm, yerr=quad_params_no_arm_err, linestyle='', color='k')\n",
    "\n",
    "ax.set_ylim(0.0007, 0.001)\n",
    "ax.set_ylabel(r'Fit Parameter $\\alpha$ [kg/m]')\n",
    "ax.set_xlabel(r'Head Angle $\\theta$ [$^\\circ$]')\n",
    "ax.legend()\n",
    "ax.grid()\n",
    "\n",
    "fig.tight_layout()\n",
    "plt.savefig('alpha_plot.png', dpi=300)\n",
    "plt.show()"
   ]
  }
 ],
 "metadata": {
  "kernelspec": {
   "display_name": "Python 3",
   "language": "python",
   "name": "python3"
  },
  "language_info": {
   "codemirror_mode": {
    "name": "ipython",
    "version": 3
   },
   "file_extension": ".py",
   "mimetype": "text/x-python",
   "name": "python",
   "nbconvert_exporter": "python",
   "pygments_lexer": "ipython3",
   "version": "3.6.5"
  }
 },
 "nbformat": 4,
 "nbformat_minor": 2
}
