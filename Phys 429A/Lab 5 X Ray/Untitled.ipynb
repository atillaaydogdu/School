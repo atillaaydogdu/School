{
 "cells": [
  {
   "cell_type": "code",
   "execution_count": 12,
   "metadata": {},
   "outputs": [],
   "source": [
    "import numpy as np\n",
    "import matplotlib.pyplot as plt\n",
    "import pandas as pd"
   ]
  },
  {
   "cell_type": "code",
   "execution_count": 13,
   "metadata": {},
   "outputs": [],
   "source": [
    "cam_diam = 0.1148\n",
    "rad_per_m = 2/cam_diam"
   ]
  },
  {
   "cell_type": "markdown",
   "metadata": {},
   "source": [
    "# Open Up the Data Frames"
   ]
  },
  {
   "cell_type": "code",
   "execution_count": 14,
   "metadata": {},
   "outputs": [],
   "source": [
    "df_copnofilt = pd.read_csv('cop_no_filt_temp.csv')\n",
    "df_alumfilt = pd.read_csv('alum_filt_temp.csv')\n",
    "df_alumnofilt = pd.read_csv('alum_no_filt_temp.csv')\n",
    "\n",
    "#Convert all to SI\n",
    "df_copnofilt['Ring']=df_copnofilt['Ring'].apply(lambda x:x/100)\n",
    "df_alumfilt['Ring']=df_alumfilt['Ring'].apply(lambda x:x/100)\n",
    "df_alumnofilt['Ring']=df_alumnofilt['Ring'].apply(lambda x:x/100)"
   ]
  },
  {
   "cell_type": "markdown",
   "metadata": {},
   "source": [
    "# Find the Scattering Angles for Each"
   ]
  },
  {
   "cell_type": "code",
   "execution_count": 15,
   "metadata": {},
   "outputs": [],
   "source": [
    "def get_angles(df):\n",
    "    df['Angle'] = df['Ring']/2 * rad_per_m\n",
    "    # Back rings are actually pi-angle measured\n",
    "    df['Angle'] = np.where(df['Ring Type'] == 'F', df['Angle'], np.pi-df['Angle'])\n",
    "    return df"
   ]
  },
  {
   "cell_type": "code",
   "execution_count": 16,
   "metadata": {},
   "outputs": [],
   "source": [
    "df_copnofilt = get_angles(df_copnofilt)\n",
    "df_alumfilt = get_angles(df_alumfilt)\n",
    "df_alumnofilt = get_angles(df_alumnofilt)"
   ]
  },
  {
   "cell_type": "markdown",
   "metadata": {},
   "source": [
    "# Finding Lattice Spacing"
   ]
  },
  {
   "cell_type": "markdown",
   "metadata": {},
   "source": [
    "We know that\n",
    "\n",
    "$$\\frac{4 \\sin^2 \\theta_n}{\\lambda^2} = a^{-2}(h^2+k^2+l^2)n^2 $$"
   ]
  },
  {
   "cell_type": "code",
   "execution_count": 17,
   "metadata": {},
   "outputs": [],
   "source": [
    "def get_space_fac(df):\n",
    "    df['Factor'] = 4*np.sin(df['Angle'])**2\n",
    "    return df"
   ]
  },
  {
   "cell_type": "code",
   "execution_count": 18,
   "metadata": {},
   "outputs": [],
   "source": [
    "df_copnofilt = get_space_fac(df_copnofilt)\n",
    "df_alumfilt = get_space_fac(df_alumfilt)\n",
    "df_alumnofilt = get_space_fac(df_alumnofilt)"
   ]
  },
  {
   "cell_type": "markdown",
   "metadata": {},
   "source": [
    "# Get Trial Points"
   ]
  },
  {
   "cell_type": "markdown",
   "metadata": {},
   "source": [
    "Face centered Cubic Lattice"
   ]
  },
  {
   "cell_type": "code",
   "execution_count": 52,
   "metadata": {},
   "outputs": [],
   "source": [
    "trial_pnts_1 = np.array([((2*h+1)**2+(2*l+1)**2+(2*k+1)**2)*n**2\n",
    "              for n in range(1,5) for h in range(5) for l in range(5) for k in range(5)])\n",
    "trial_pnts_2 = np.array([((2*h)**2+(2*l)**2+(2*k)**2)*n**2\n",
    "              for n in range(1,5) for h in range(1,5) for l in range(1,5) for k in range(1,5)])\n",
    "trial_pnts = np.concatenate((trial_pnts_1, trial_pnts_2))\n",
    "trial_pnts = sorted(np.unique(trial_pnts))"
   ]
  },
  {
   "cell_type": "code",
   "execution_count": 54,
   "metadata": {},
   "outputs": [
    {
     "data": {
      "text/plain": [
       "[3,\n",
       " 11,\n",
       " 12,\n",
       " 19,\n",
       " 24,\n",
       " 27,\n",
       " 35,\n",
       " 36,\n",
       " 43,\n",
       " 44,\n",
       " 48,\n",
       " 51,\n",
       " 56,\n",
       " 59,\n",
       " 67,\n",
       " 68,\n",
       " 72,\n",
       " 75,\n",
       " 76,\n",
       " 83,\n",
       " 84,\n",
       " 88,\n",
       " 91,\n",
       " 96,\n",
       " 99,\n",
       " 104,\n",
       " 107,\n",
       " 108,\n",
       " 115,\n",
       " 116,\n",
       " 123,\n",
       " 131,\n",
       " 132,\n",
       " 136,\n",
       " 139,\n",
       " 140,\n",
       " 144,\n",
       " 147,\n",
       " 155,\n",
       " 163,\n",
       " 164,\n",
       " 171,\n",
       " 172,\n",
       " 176,\n",
       " 179,\n",
       " 187,\n",
       " 192,\n",
       " 204,\n",
       " 211,\n",
       " 216,\n",
       " 224,\n",
       " 236,\n",
       " 243,\n",
       " 268,\n",
       " 272,\n",
       " 288,\n",
       " 300,\n",
       " 304,\n",
       " 315,\n",
       " 324,\n",
       " 332,\n",
       " 336,\n",
       " 352,\n",
       " 364,\n",
       " 384,\n",
       " 387,\n",
       " 396,\n",
       " 416,\n",
       " 428,\n",
       " 432,\n",
       " 459,\n",
       " 460,\n",
       " 464,\n",
       " 492,\n",
       " 504,\n",
       " 524,\n",
       " 528,\n",
       " 531,\n",
       " 544,\n",
       " 556,\n",
       " 560,\n",
       " 576,\n",
       " 588,\n",
       " 603,\n",
       " 612,\n",
       " 620,\n",
       " 648,\n",
       " 652,\n",
       " 656,\n",
       " 675,\n",
       " 684,\n",
       " 688,\n",
       " 704,\n",
       " 716,\n",
       " 747,\n",
       " 748,\n",
       " 756,\n",
       " 768,\n",
       " 792,\n",
       " 816,\n",
       " 819,\n",
       " 844,\n",
       " 864,\n",
       " 891,\n",
       " 896,\n",
       " 936,\n",
       " 944,\n",
       " 963,\n",
       " 972,\n",
       " 1035,\n",
       " 1044,\n",
       " 1072,\n",
       " 1088,\n",
       " 1107,\n",
       " 1152,\n",
       " 1179,\n",
       " 1188,\n",
       " 1200,\n",
       " 1216,\n",
       " 1224,\n",
       " 1251,\n",
       " 1296,\n",
       " 1323,\n",
       " 1328,\n",
       " 1344,\n",
       " 1395,\n",
       " 1408,\n",
       " 1456,\n",
       " 1467,\n",
       " 1476,\n",
       " 1536,\n",
       " 1539,\n",
       " 1584,\n",
       " 1611,\n",
       " 1664,\n",
       " 1683,\n",
       " 1712,\n",
       " 1728,\n",
       " 1840,\n",
       " 1856,\n",
       " 1899,\n",
       " 1968,\n",
       " 2096,\n",
       " 2112,\n",
       " 2176,\n",
       " 2187,\n",
       " 2224,\n",
       " 2304,\n",
       " 2352,\n",
       " 2480,\n",
       " 2608,\n",
       " 2624,\n",
       " 2736,\n",
       " 2864,\n",
       " 2992,\n",
       " 3072,\n",
       " 3376,\n",
       " 3888]"
      ]
     },
     "execution_count": 54,
     "metadata": {},
     "output_type": "execute_result"
    }
   ],
   "source": [
    "trial_pnts"
   ]
  },
  {
   "cell_type": "code",
   "execution_count": 53,
   "metadata": {},
   "outputs": [
    {
     "data": {
      "text/plain": [
       "(0, 100)"
      ]
     },
     "execution_count": 53,
     "metadata": {},
     "output_type": "execute_result"
    },
    {
     "data": {
      "image/png": "[encoded data removed]",
      "text/plain": [
       "<Figure size 720x432 with 1 Axes>"
      ]
     },
     "metadata": {
      "needs_background": "light"
     },
     "output_type": "display_data"
    }
   ],
   "source": [
    "x1 = np.arange(0, len(trial_pnts), 1)\n",
    "x2 = np.arange(0, len(df_copnofilt), 1)\n",
    "\n",
    "\n",
    "fig, ax = plt.subplots(1, 1, figsize = (10,6))\n",
    "ax.scatter(x1, sorted(trial_pnts))\n",
    "ax.scatter(x2, sorted(20*df_copnofilt['Factor']))\n",
    "\n",
    "ax.set_xlim(0,20)\n",
    "ax.set_ylim(0,100)"
   ]
  },
  {
   "cell_type": "code",
   "execution_count": 27,
   "metadata": {},
   "outputs": [
    {
     "data": {
      "text/plain": [
       "<matplotlib.collections.PathCollection at 0x120a47d68>"
      ]
     },
     "execution_count": 27,
     "metadata": {},
     "output_type": "execute_result"
    },
    {
     "data": {
      "image/png": "[encoded data removed]",
      "text/plain": [
       "<Figure size 432x288 with 1 Axes>"
      ]
     },
     "metadata": {
      "needs_background": "light"
     },
     "output_type": "display_data"
    }
   ],
   "source": [
    "x = np.arange(0, len(df_copnofilt), 1)\n",
    "plt.scatter(x, sorted(df_copnofilt['Factor']))"
   ]
  },
  {
   "cell_type": "code",
   "execution_count": 24,
   "metadata": {},
   "outputs": [
    {
     "data": {
      "text/html": [
       "<div>\n",
       "<style scoped>\n",
       "    .dataframe tbody tr th:only-of-type {\n",
       "        vertical-align: middle;\n",
       "    }\n",
       "\n",
       "    .dataframe tbody tr th {\n",
       "        vertical-align: top;\n",
       "    }\n",
       "\n",
       "    .dataframe thead th {\n",
       "        text-align: right;\n",
       "    }\n",
       "</style>\n",
       "<table border=\"1\" class=\"dataframe\">\n",
       "  <thead>\n",
       "    <tr style=\"text-align: right;\">\n",
       "      <th></th>\n",
       "      <th>Ring</th>\n",
       "      <th>Ring Type</th>\n",
       "      <th>Angle</th>\n",
       "      <th>Factor</th>\n",
       "    </tr>\n",
       "  </thead>\n",
       "  <tbody>\n",
       "    <tr>\n",
       "      <th>0</th>\n",
       "      <td>0.076</td>\n",
       "      <td>F</td>\n",
       "      <td>0.662021</td>\n",
       "      <td>1.511484</td>\n",
       "    </tr>\n",
       "    <tr>\n",
       "      <th>1</th>\n",
       "      <td>0.082</td>\n",
       "      <td>F</td>\n",
       "      <td>0.714286</td>\n",
       "      <td>1.716508</td>\n",
       "    </tr>\n",
       "    <tr>\n",
       "      <th>2</th>\n",
       "      <td>0.085</td>\n",
       "      <td>F</td>\n",
       "      <td>0.740418</td>\n",
       "      <td>1.820322</td>\n",
       "    </tr>\n",
       "    <tr>\n",
       "      <th>3</th>\n",
       "      <td>0.089</td>\n",
       "      <td>F</td>\n",
       "      <td>0.775261</td>\n",
       "      <td>1.959455</td>\n",
       "    </tr>\n",
       "    <tr>\n",
       "      <th>4</th>\n",
       "      <td>0.095</td>\n",
       "      <td>F</td>\n",
       "      <td>0.827526</td>\n",
       "      <td>2.168313</td>\n",
       "    </tr>\n",
       "    <tr>\n",
       "      <th>5</th>\n",
       "      <td>0.099</td>\n",
       "      <td>F</td>\n",
       "      <td>0.862369</td>\n",
       "      <td>2.306670</td>\n",
       "    </tr>\n",
       "    <tr>\n",
       "      <th>6</th>\n",
       "      <td>0.130</td>\n",
       "      <td>F</td>\n",
       "      <td>1.132404</td>\n",
       "      <td>3.279253</td>\n",
       "    </tr>\n",
       "    <tr>\n",
       "      <th>7</th>\n",
       "      <td>0.139</td>\n",
       "      <td>F</td>\n",
       "      <td>1.210801</td>\n",
       "      <td>3.503625</td>\n",
       "    </tr>\n",
       "    <tr>\n",
       "      <th>8</th>\n",
       "      <td>0.146</td>\n",
       "      <td>F</td>\n",
       "      <td>1.271777</td>\n",
       "      <td>3.652883</td>\n",
       "    </tr>\n",
       "    <tr>\n",
       "      <th>9</th>\n",
       "      <td>0.156</td>\n",
       "      <td>F</td>\n",
       "      <td>1.358885</td>\n",
       "      <td>3.823047</td>\n",
       "    </tr>\n",
       "    <tr>\n",
       "      <th>10</th>\n",
       "      <td>0.164</td>\n",
       "      <td>F</td>\n",
       "      <td>1.428571</td>\n",
       "      <td>3.919632</td>\n",
       "    </tr>\n",
       "    <tr>\n",
       "      <th>11</th>\n",
       "      <td>0.168</td>\n",
       "      <td>F</td>\n",
       "      <td>1.463415</td>\n",
       "      <td>3.954054</td>\n",
       "    </tr>\n",
       "    <tr>\n",
       "      <th>12</th>\n",
       "      <td>0.071</td>\n",
       "      <td>B</td>\n",
       "      <td>2.523126</td>\n",
       "      <td>1.344611</td>\n",
       "    </tr>\n",
       "    <tr>\n",
       "      <th>13</th>\n",
       "      <td>0.079</td>\n",
       "      <td>B</td>\n",
       "      <td>2.453439</td>\n",
       "      <td>1.613468</td>\n",
       "    </tr>\n",
       "    <tr>\n",
       "      <th>14</th>\n",
       "      <td>0.088</td>\n",
       "      <td>B</td>\n",
       "      <td>2.375042</td>\n",
       "      <td>1.924627</td>\n",
       "    </tr>\n",
       "    <tr>\n",
       "      <th>15</th>\n",
       "      <td>0.098</td>\n",
       "      <td>B</td>\n",
       "      <td>2.287934</td>\n",
       "      <td>2.272194</td>\n",
       "    </tr>\n",
       "    <tr>\n",
       "      <th>16</th>\n",
       "      <td>0.110</td>\n",
       "      <td>B</td>\n",
       "      <td>2.183405</td>\n",
       "      <td>2.677485</td>\n",
       "    </tr>\n",
       "    <tr>\n",
       "      <th>17</th>\n",
       "      <td>0.124</td>\n",
       "      <td>B</td>\n",
       "      <td>2.061453</td>\n",
       "      <td>3.111862</td>\n",
       "    </tr>\n",
       "    <tr>\n",
       "      <th>18</th>\n",
       "      <td>0.128</td>\n",
       "      <td>B</td>\n",
       "      <td>2.026610</td>\n",
       "      <td>3.224920</td>\n",
       "    </tr>\n",
       "    <tr>\n",
       "      <th>19</th>\n",
       "      <td>0.134</td>\n",
       "      <td>B</td>\n",
       "      <td>1.974345</td>\n",
       "      <td>3.383195</td>\n",
       "    </tr>\n",
       "  </tbody>\n",
       "</table>\n",
       "</div>"
      ],
      "text/plain": [
       "     Ring Ring Type     Angle    Factor\n",
       "0   0.076         F  0.662021  1.511484\n",
       "1   0.082         F  0.714286  1.716508\n",
       "2   0.085         F  0.740418  1.820322\n",
       "3   0.089         F  0.775261  1.959455\n",
       "4   0.095         F  0.827526  2.168313\n",
       "5   0.099         F  0.862369  2.306670\n",
       "6   0.130         F  1.132404  3.279253\n",
       "7   0.139         F  1.210801  3.503625\n",
       "8   0.146         F  1.271777  3.652883\n",
       "9   0.156         F  1.358885  3.823047\n",
       "10  0.164         F  1.428571  3.919632\n",
       "11  0.168         F  1.463415  3.954054\n",
       "12  0.071         B  2.523126  1.344611\n",
       "13  0.079         B  2.453439  1.613468\n",
       "14  0.088         B  2.375042  1.924627\n",
       "15  0.098         B  2.287934  2.272194\n",
       "16  0.110         B  2.183405  2.677485\n",
       "17  0.124         B  2.061453  3.111862\n",
       "18  0.128         B  2.026610  3.224920\n",
       "19  0.134         B  1.974345  3.383195"
      ]
     },
     "execution_count": 24,
     "metadata": {},
     "output_type": "execute_result"
    }
   ],
   "source": [
    "df_copnofilt"
   ]
  },
  {
   "cell_type": "code",
   "execution_count": null,
   "metadata": {},
   "outputs": [],
   "source": []
  }
 ],
 "metadata": {
  "kernelspec": {
   "display_name": "Python 3",
   "language": "python",
   "name": "python3"
  },
  "language_info": {
   "codemirror_mode": {
    "name": "ipython",
    "version": 3
   },
   "file_extension": ".py",
   "mimetype": "text/x-python",
   "name": "python",
   "nbconvert_exporter": "python",
   "pygments_lexer": "ipython3",
   "version": "3.6.7"
  }
 },
 "nbformat": 4,
 "nbformat_minor": 2
}
