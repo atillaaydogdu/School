{
 "cells": [
  {
   "cell_type": "code",
   "execution_count": 1,
   "metadata": {},
   "outputs": [],
   "source": [
    "import numpy as np\n",
    "import matplotlib.pyplot as plt\n",
    "import pandas as pd"
   ]
  },
  {
   "cell_type": "code",
   "execution_count": 2,
   "metadata": {},
   "outputs": [],
   "source": [
    "cam_diam = 0.1148\n",
    "rad_per_m = 2/cam_diam"
   ]
  },
  {
   "cell_type": "markdown",
   "metadata": {},
   "source": [
    "# Open Up the Data Frames"
   ]
  },
  {
   "cell_type": "code",
   "execution_count": 3,
   "metadata": {},
   "outputs": [],
   "source": [
    "df_copnofilt = pd.read_csv('cop_no_filt_temp.csv')\n",
    "df_alumfilt = pd.read_csv('alum_filt_temp.csv')\n",
    "df_alumnofilt = pd.read_csv('alum_no_filt_temp.csv')\n",
    "df_goldnofilt = pd.read_csv('gold_no_filt_temp.csv')\n",
    "\n",
    "#Convert all to SI\n",
    "df_copnofilt['Ring']=df_copnofilt['Ring'].apply(lambda x:x/100)\n",
    "df_alumfilt['Ring']=df_alumfilt['Ring'].apply(lambda x:x/100)\n",
    "df_alumnofilt['Ring']=df_alumnofilt['Ring'].apply(lambda x:x/100)\n",
    "df_goldnofilt['Ring']=df_goldnofilt['Ring'].apply(lambda x:x/100)"
   ]
  },
  {
   "cell_type": "markdown",
   "metadata": {},
   "source": [
    "# Find the Scattering Angles for Each"
   ]
  },
  {
   "cell_type": "code",
   "execution_count": 4,
   "metadata": {},
   "outputs": [],
   "source": [
    "def get_angles(df):\n",
    "    df['Angle'] = df['Ring']/2 * rad_per_m\n",
    "    # Back rings are actually pi-angle measured\n",
    "    df['Angle'] = np.where(df['Ring Type'] == 'F', df['Angle'], np.pi-df['Angle'])\n",
    "    return df"
   ]
  },
  {
   "cell_type": "code",
   "execution_count": 5,
   "metadata": {},
   "outputs": [],
   "source": [
    "df_copnofilt = get_angles(df_copnofilt)\n",
    "df_alumfilt = get_angles(df_alumfilt)\n",
    "df_alumnofilt = get_angles(df_alumnofilt)\n",
    "df_goldnofilt = get_angles(df_goldnofilt)"
   ]
  },
  {
   "cell_type": "markdown",
   "metadata": {},
   "source": [
    "# Finding Lattice Spacing"
   ]
  },
  {
   "cell_type": "markdown",
   "metadata": {},
   "source": [
    "We know that\n",
    "\n",
    "$$\\frac{4 \\sin^2 \\theta_n}{\\lambda^2} = a^{-2}(h^2+k^2+l^2)n^2 $$"
   ]
  },
  {
   "cell_type": "code",
   "execution_count": 6,
   "metadata": {},
   "outputs": [],
   "source": [
    "def get_space_fac(df):\n",
    "    df['Factor'] = 4*np.sin(df['Angle'])**2\n",
    "    return df"
   ]
  },
  {
   "cell_type": "code",
   "execution_count": 7,
   "metadata": {},
   "outputs": [],
   "source": [
    "df_copnofilt = get_space_fac(df_copnofilt)\n",
    "df_alumfilt = get_space_fac(df_alumfilt)\n",
    "df_alumnofilt = get_space_fac(df_alumnofilt)\n",
    "df_goldnofilt = get_space_fac(df_goldnofilt)"
   ]
  },
  {
   "cell_type": "markdown",
   "metadata": {},
   "source": [
    "# Get Trial Points"
   ]
  },
  {
   "cell_type": "markdown",
   "metadata": {},
   "source": [
    "Face centered Cubic Lattice"
   ]
  },
  {
   "cell_type": "code",
   "execution_count": 8,
   "metadata": {},
   "outputs": [],
   "source": [
    "trial_pnts_1 = np.array([((2*h+1)**2+(2*l+1)**2+(2*k+1)**2)*n**2\n",
    "              for n in range(1,5) for h in range(5) for l in range(5) for k in range(5)])\n",
    "trial_pnts_2 = np.array([((2*h)**2+(2*l)**2+(2*k)**2)*n**2\n",
    "              for n in range(1,5) for h in range(1,5) for l in range(1,5) for k in range(1,5)])\n",
    "trial_pnts = np.concatenate((trial_pnts_1, trial_pnts_2))\n",
    "trial_pnts = sorted(np.unique(trial_pnts))"
   ]
  },
  {
   "cell_type": "code",
   "execution_count": 22,
   "metadata": {},
   "outputs": [
    {
     "data": {
      "image/png": "[encoded data removed]",
      "text/plain": [
       "<Figure size 1152x360 with 2 Axes>"
      ]
     },
     "metadata": {
      "needs_background": "light"
     },
     "output_type": "display_data"
    }
   ],
   "source": [
    "x1 = np.arange(0, len(trial_pnts), 1)\n",
    "x2 = np.arange(0, len(df_copnofilt), 1)\n",
    "\n",
    "\n",
    "fig, ax = plt.subplots(1, 2, figsize = (16,5))\n",
    "ax[0].scatter(x1, sorted(trial_pnts), label='Trial Points', c='r')\n",
    "ax[1].scatter(x2, sorted(20*df_copnofilt['Factor']), label='Data Points')\n",
    "\n",
    "ax[0].legend()\n",
    "ax[1].legend()\n",
    "\n",
    "ax[0].set_xlim(0,40)\n",
    "ax[0].set_ylim(0,150)\n",
    "\n",
    "\n",
    "plt.show()"
   ]
  },
  {
   "cell_type": "code",
   "execution_count": null,
   "metadata": {},
   "outputs": [],
   "source": []
  }
 ],
 "metadata": {
  "kernelspec": {
   "display_name": "Python 3",
   "language": "python",
   "name": "python3"
  },
  "language_info": {
   "codemirror_mode": {
    "name": "ipython",
    "version": 3
   },
   "file_extension": ".py",
   "mimetype": "text/x-python",
   "name": "python",
   "nbconvert_exporter": "python",
   "pygments_lexer": "ipython3",
   "version": "3.6.7"
  }
 },
 "nbformat": 4,
 "nbformat_minor": 2
}
