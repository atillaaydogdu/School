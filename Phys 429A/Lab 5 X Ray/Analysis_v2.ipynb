{
 "cells": [
  {
   "cell_type": "code",
   "execution_count": 1,
   "metadata": {},
   "outputs": [],
   "source": [
    "import numpy as np\n",
    "import matplotlib.pyplot as plt\n",
    "import pandas as pd\n",
    "from uncertainties import ufloat\n",
    "from uncertainties.umath import *\n",
    "from uncertainties import unumpy as unp"
   ]
  },
  {
   "cell_type": "code",
   "execution_count": 2,
   "metadata": {},
   "outputs": [],
   "source": [
    "cam_diam = 0.1148\n",
    "W = np.pi* cam_diam /2\n",
    "lam = 1.54*10**-10 \n",
    "\n",
    "cop_A = 3.597*10**-10\n",
    "alum_A = 4.046*10**-10"
   ]
  },
  {
   "cell_type": "markdown",
   "metadata": {},
   "source": [
    "# Open Up the Data Frames"
   ]
  },
  {
   "cell_type": "code",
   "execution_count": 3,
   "metadata": {},
   "outputs": [],
   "source": [
    "df_copnofilt = pd.read_csv('cop_no_filt_temp.csv')\n",
    "df_alumfilt = pd.read_csv('alum_filt_temp.csv')\n",
    "df_alumnofilt = pd.read_csv('alum_no_filt_temp.csv')\n",
    "df_goldnofilt = pd.read_csv('gold_no_filt_temp.csv')\n",
    "\n",
    "#Convert all to SI\n",
    "df_copnofilt['Ring']=df_copnofilt['Ring'].apply(lambda x:ufloat(x/100, 1/1000))\n",
    "df_alumfilt['Ring']=df_alumfilt['Ring'].apply(lambda x:ufloat(x/100, 1/1000))\n",
    "df_alumnofilt['Ring']=df_alumnofilt['Ring'].apply(lambda x:ufloat(x/100, 1/1000))\n",
    "df_goldnofilt['Ring']=df_goldnofilt['Ring'].apply(lambda x:ufloat(x/100, 1/1000))"
   ]
  },
  {
   "cell_type": "markdown",
   "metadata": {},
   "source": [
    "## Find the Scattering Angles for Each"
   ]
  },
  {
   "cell_type": "code",
   "execution_count": 4,
   "metadata": {},
   "outputs": [],
   "source": [
    "def get_angles(df):\n",
    "    df['Angle'] = np.pi * df['Ring'] / (4 * W)\n",
    "    # Back rings are actually pi-angle measured\n",
    "    df['Angle'] = np.where(df['Ring Type'] == 'F', df['Angle'], np.pi/2-df['Angle'])\n",
    "    return df"
   ]
  },
  {
   "cell_type": "code",
   "execution_count": 5,
   "metadata": {},
   "outputs": [],
   "source": [
    "df_copnofilt = get_angles(df_copnofilt)\n",
    "df_alumfilt = get_angles(df_alumfilt)\n",
    "df_alumnofilt = get_angles(df_alumnofilt)\n",
    "df_goldnofilt = get_angles(df_goldnofilt)"
   ]
  },
  {
   "cell_type": "markdown",
   "metadata": {},
   "source": [
    "## Finding Lattice Spacing"
   ]
  },
  {
   "cell_type": "markdown",
   "metadata": {},
   "source": [
    "We know that\n",
    "\n",
    "$$\\frac{4 \\sin^2 \\theta_n}{\\lambda^2} = a^{-2}(h^2+k^2+l^2)n^2 $$\n",
    "\n",
    "It follows that\n",
    "\n",
    "$$A \\sin^2(\\theta_n) = (h^2+k^2+l^2)n^2 $$\n",
    "\n",
    "meaning that we should get a bunch of integer values for a given value of $A$. Note that\n",
    "\n",
    "$$A= \\left( \\frac{2a}{\\lambda} \\right)^2 $$"
   ]
  },
  {
   "cell_type": "code",
   "execution_count": 6,
   "metadata": {},
   "outputs": [],
   "source": [
    "def get_space_fac(df):\n",
    "    df['Factor'] = df['Angle'].apply(lambda x:sin(x)**2)\n",
    "    return df"
   ]
  },
  {
   "cell_type": "code",
   "execution_count": 7,
   "metadata": {},
   "outputs": [],
   "source": [
    "df_copnofilt = get_space_fac(df_copnofilt)\n",
    "df_alumfilt = get_space_fac(df_alumfilt)\n",
    "df_alumnofilt = get_space_fac(df_alumnofilt)\n",
    "df_goldnofilt = get_space_fac(df_goldnofilt)"
   ]
  },
  {
   "cell_type": "markdown",
   "metadata": {},
   "source": [
    "Make sure the DataFrames are sorted in increasing order of $\\sin^2 \\theta$."
   ]
  },
  {
   "cell_type": "code",
   "execution_count": 8,
   "metadata": {},
   "outputs": [],
   "source": [
    "df_copnofilt = df_copnofilt.sort_values(by=['Factor']).reset_index(drop=True)\n",
    "df_alumfilt = df_alumfilt.sort_values(by=['Factor']).reset_index(drop=True)\n",
    "df_alumnofilt = df_alumnofilt.sort_values(by=['Factor']).reset_index(drop=True)\n",
    "df_goldnofilt = df_goldnofilt.sort_values(by=['Factor']).reset_index(drop=True)"
   ]
  },
  {
   "cell_type": "markdown",
   "metadata": {},
   "source": [
    "# Get Trial Points"
   ]
  },
  {
   "cell_type": "markdown",
   "metadata": {},
   "source": [
    "Here we get all possible values of $n^2(h^2+k^2+l^2)$ for the \"Face centered Cubic Lattice.\" We plot the value of $n^2(h^2+k^2+l^2)$ vs its degeneracy (certain values of $n^2(h^2+k^2+l^2)$ can be obtained through different combinations of $n$, $h$, $k$, and $l$; this corresponds to thicker rings at these locations)."
   ]
  },
  {
   "cell_type": "code",
   "execution_count": 9,
   "metadata": {},
   "outputs": [],
   "source": [
    "trial_pnts_1 = np.array([((2*h+1)**2+(2*k+1)**2+(2*l+1)**2)*n**2\n",
    "              for n in range(1,5) for h in range(6) for k in range(6) for l in range(6)])\n",
    "nhkl_1 = np.array([str(n)+'_'+str(2*h+1)+'_'+str(2*k+1)+'_'+str(2*l+1)\n",
    "              for n in range(1,5) for h in range(6) for k in range(6) for l in range(6)])\n",
    "\n",
    "trial_pnts_2 = np.array([((2*h)**2+(2*k)**2+(2*l)**2)*n**2\n",
    "              for n in range(1,5) for h in range(6) for k in range(6) for l in range(6)])\n",
    "nhkl_2 = np.array([str(n)+'_'+str(2*h)+'_'+str(2*k)+'_'+str(2*l)\n",
    "              for n in range(1,5) for h in range(6) for k in range(6) for l in range(6)])\n",
    "\n",
    "trial_pnts_rep = np.concatenate((trial_pnts_1, trial_pnts_2))\n",
    "nhkl_rep = np.concatenate((nhkl_1, nhkl_2))\n",
    "\n",
    "trial_pnts = np.array(sorted(np.unique(trial_pnts_rep)))\n",
    "ring_strength = np.array([(trial_pnts_rep == i).sum() for i in trial_pnts])"
   ]
  },
  {
   "cell_type": "markdown",
   "metadata": {},
   "source": [
    "yeet_df = pd.DataFrame({'x':trial_pnts_rep, 'y':nhkl_rep})\n",
    "yeet_df = yeet_df.sort_values(by=['x'])\n",
    "yeet_df.to_csv('out.csv')"
   ]
  },
  {
   "cell_type": "markdown",
   "metadata": {},
   "source": [
    "# Finding the Integers"
   ]
  },
  {
   "cell_type": "markdown",
   "metadata": {},
   "source": [
    "Lets start with the filtered aluminum which should give clear lattice lines. We know that the X-Rays emitted by the X-Ray used are $0.154$nm and that the approximate lattice parameter for aluminum is $a \\approx 0.4$nm. Lets then choose a variety of values for $A$ (equation above) that correspond to the range\n",
    "\n",
    "$$a = 0.4\\text{nm} \\implies  A \\approx 26.9$$\n",
    "\n",
    "up to \n",
    "\n",
    "$$a = 0.41\\text{nm} \\implies  A \\approx 42.17$$"
   ]
  },
  {
   "cell_type": "code",
   "execution_count": 10,
   "metadata": {},
   "outputs": [],
   "source": [
    "def scale_goodness(df, trial_pnts, scale):\n",
    "    non_ufloat = df['Factor'].apply(lambda x:x.nominal_value)\n",
    "    raw_arr = np.array(scale*non_ufloat)\n",
    "    good_param = 0\n",
    "    for r in raw_arr:\n",
    "        index = (np.abs(trial_pnts-r)).argmin()\n",
    "        good_param += (np.abs(trial_pnts[index]-r))\n",
    "    return good_param"
   ]
  },
  {
   "cell_type": "markdown",
   "metadata": {},
   "source": [
    "Create arrays of scale values of $A$ to test out."
   ]
  },
  {
   "cell_type": "markdown",
   "metadata": {},
   "source": [
    "### Aluminum No Filter"
   ]
  },
  {
   "cell_type": "code",
   "execution_count": 11,
   "metadata": {},
   "outputs": [],
   "source": [
    "a1 = 0.4 * 10**-9; a2 = 0.41 * 10**-9\n",
    "A1 = (2*a1/lam)**2; A2 = (2*a2/lam)**2\n",
    "\n",
    "dd_al_nf = np.linspace(A1, A2, 1000)\n",
    "pp_al_nf = np.array([scale_goodness(df_alumnofilt, trial_pnts, d) for d in dd_al_nf])"
   ]
  },
  {
   "cell_type": "code",
   "execution_count": 12,
   "metadata": {},
   "outputs": [
    {
     "data": {
      "image/png": "[encoded data removed]",
      "text/plain": [
       "<Figure size 432x288 with 1 Axes>"
      ]
     },
     "metadata": {},
     "output_type": "display_data"
    }
   ],
   "source": [
    "fig, ax = plt.subplots(1, 1, figsize=(6,4))\n",
    "\n",
    "ax.plot(dd_al_nf, pp_al_nf, lw=1)\n",
    "ax.grid()\n",
    "\n",
    "ax.set_xlabel('Value of Fit Parameter A')\n",
    "ax.set_ylabel('Closeness to FCCL Values [arb]')\n",
    "\n",
    "plt.show()"
   ]
  },
  {
   "cell_type": "markdown",
   "metadata": {},
   "source": [
    "### Aluminum With Filter"
   ]
  },
  {
   "cell_type": "code",
   "execution_count": 13,
   "metadata": {},
   "outputs": [],
   "source": [
    "a1 = 0.4 * 10**-9; a2 = 0.41 * 10**-9\n",
    "A1 = (2*a1/lam)**2; A2 = (2*a2/lam)**2\n",
    "\n",
    "dd_al_f = np.linspace(A1, A2, 1000)\n",
    "pp_al_f = np.array([scale_goodness(df_alumfilt, trial_pnts, d) for d in dd_al_f])"
   ]
  },
  {
   "cell_type": "code",
   "execution_count": 14,
   "metadata": {},
   "outputs": [
    {
     "data": {
      "image/png": "[encoded data removed]",
      "text/plain": [
       "<Figure size 432x288 with 1 Axes>"
      ]
     },
     "metadata": {},
     "output_type": "display_data"
    }
   ],
   "source": [
    "fig, ax = plt.subplots(1, 1, figsize=(6,4))\n",
    "\n",
    "ax.plot(dd_al_f, pp_al_f, lw=1)\n",
    "ax.grid()\n",
    "\n",
    "ax.set_xlabel('Value of Fit Parameter A')\n",
    "ax.set_ylabel('Closeness to FCCL Values [arb]')\n",
    "\n",
    "plt.show()"
   ]
  },
  {
   "cell_type": "code",
   "execution_count": 15,
   "metadata": {},
   "outputs": [
    {
     "data": {
      "text/plain": [
       "0     2.84+/-0.07\n",
       "1     3.78+/-0.08\n",
       "2     7.62+/-0.11\n",
       "3    10.55+/-0.12\n",
       "4    11.49+/-0.12\n",
       "5    18.78+/-0.11\n",
       "6    19.77+/-0.11\n",
       "7    23.91+/-0.08\n",
       "8    26.94+/-0.04\n",
       "Name: Factor, dtype: object"
      ]
     },
     "execution_count": 15,
     "metadata": {},
     "output_type": "execute_result"
    }
   ],
   "source": [
    "aaa = 0.4046 * 10**-9\n",
    "AAA = (2*aaa/lam)**2\n",
    "df_alumfilt['Factor']*AAA"
   ]
  },
  {
   "cell_type": "markdown",
   "metadata": {},
   "source": [
    "### Copper No Filter"
   ]
  },
  {
   "cell_type": "code",
   "execution_count": 16,
   "metadata": {},
   "outputs": [],
   "source": [
    "a1 = 0.35 * 10**-9; a2 = 0.375 * 10**-9\n",
    "A1 = (2*a1/lam)**2; A2 = (2*a2/lam)**2\n",
    "\n",
    "dd_cu_nf = np.linspace(A1, A2, 1000)\n",
    "pp_cu_nf = np.array([scale_goodness(df_copnofilt, trial_pnts, d) for d in dd_cu_nf])"
   ]
  },
  {
   "cell_type": "code",
   "execution_count": 17,
   "metadata": {},
   "outputs": [
    {
     "data": {
      "image/png": "[encoded data removed]",
      "text/plain": [
       "<Figure size 432x288 with 1 Axes>"
      ]
     },
     "metadata": {},
     "output_type": "display_data"
    }
   ],
   "source": [
    "fig, ax = plt.subplots(1, 1, figsize=(6,4))\n",
    "\n",
    "ax.plot(dd_cu_nf, pp_cu_nf, lw=1)\n",
    "ax.grid()\n",
    "\n",
    "ax.set_xlabel('Value of Fit Parameter A')\n",
    "ax.set_ylabel('Closeness to FCCL Values [arb]')\n",
    "\n",
    "plt.show()"
   ]
  },
  {
   "cell_type": "markdown",
   "metadata": {},
   "source": [
    "### Gold No Filter"
   ]
  },
  {
   "cell_type": "code",
   "execution_count": 18,
   "metadata": {},
   "outputs": [],
   "source": [
    "a1 = 0.4 * 10**-9; a2 = 0.41 * 10**-9\n",
    "A1 = (2*a1/lam)**2; A2 = (2*a2/lam)**2\n",
    "\n",
    "dd_au_nf = np.linspace(A1, A2, 1000)\n",
    "pp_au_nf = np.array([scale_goodness(df_goldnofilt, trial_pnts, d) for d in dd_au_nf])"
   ]
  },
  {
   "cell_type": "code",
   "execution_count": 19,
   "metadata": {},
   "outputs": [
    {
     "data": {
      "image/png": "[encoded data removed]",
      "text/plain": [
       "<Figure size 432x288 with 1 Axes>"
      ]
     },
     "metadata": {},
     "output_type": "display_data"
    }
   ],
   "source": [
    "fig, ax = plt.subplots(1, 1, figsize=(6,4))\n",
    "\n",
    "ax.plot(dd_au_nf, pp_au_nf, lw=1)\n",
    "ax.grid()\n",
    "\n",
    "ax.set_xlabel('Value of Fit Parameter A')\n",
    "ax.set_ylabel('Closeness to FCCL Values [arb]')\n",
    "\n",
    "plt.show()"
   ]
  },
  {
   "cell_type": "markdown",
   "metadata": {},
   "source": [
    "## Now Get Optimal Values Using the Minima of The Plots Above"
   ]
  },
  {
   "cell_type": "code",
   "execution_count": 20,
   "metadata": {},
   "outputs": [],
   "source": [
    "alum_nf_FCCL_vals = np.array(dd_al_nf[np.argmin(pp_al_nf)] * df_alumnofilt['Factor'])\n",
    "alum_f_FCCL_vals = np.array(dd_al_f[np.argmin(pp_al_f)] * df_alumfilt['Factor'])\n",
    "cop_nf_FCCL_vals = np.array(dd_cu_nf[np.argmin(pp_cu_nf)] * df_copnofilt['Factor'])\n",
    "gold_nf_FCCL_vals = np.array(dd_au_nf[np.argmin(pp_au_nf)] * df_goldnofilt['Factor'])\n",
    "\n",
    "alum_nf_linethickness = np.array(df_alumnofilt['Thickness'])\n",
    "alum_f_linethickness = np.array(df_alumfilt['Thickness'])\n",
    "cop_nf_linethickness = np.array(df_copnofilt['Thickness'])\n",
    "gold_nf_linethickness = np.array(df_goldnofilt['Thickness'])"
   ]
  },
  {
   "cell_type": "markdown",
   "metadata": {},
   "source": [
    "# Plot Experimental Data Vs. FCCL Values"
   ]
  },
  {
   "cell_type": "markdown",
   "metadata": {},
   "source": [
    "Heres a function that removes unwanted lines for the non-filtered sources and obtains a new best fit parameter for A:"
   ]
  },
  {
   "cell_type": "code",
   "execution_count": 21,
   "metadata": {},
   "outputs": [],
   "source": [
    "def remove_unwanted_lines(df, unwanted_lines, a1, a2):\n",
    "    df_f = df.drop(unwanted_lines, axis=0)\n",
    "    A1 = (2*a1/lam)**2; A2 = (2*a2/lam)**2\n",
    "    \n",
    "    dd = np.linspace(A1, A2, 1000)\n",
    "    pp = np.array([scale_goodness(df_f, trial_pnts, d) for d in dd])\n",
    "    \n",
    "    A_ideal = np.array(dd[np.argmin(pp)])\n",
    "    a_ideal = lam*np.sqrt(A_ideal)/2\n",
    "    \n",
    "    return np.array(A_ideal * df_f['Factor']), np.array(df_f['Thickness']), a_ideal"
   ]
  },
  {
   "cell_type": "markdown",
   "metadata": {},
   "source": [
    "This function is used to make plots."
   ]
  },
  {
   "cell_type": "code",
   "execution_count": 22,
   "metadata": {},
   "outputs": [],
   "source": [
    "def plot_measured_values(ax, arr, line_thickness):\n",
    "    first_time = True\n",
    "    for (a, lt) in zip(arr, line_thickness):\n",
    "        a_mid = a.nominal_value\n",
    "        a_low = a.nominal_value - a.std_dev\n",
    "        a_high = a.nominal_value + a.std_dev\n",
    "        \n",
    "        if first_time:\n",
    "            ax.axvline(a_mid, linestyle='--', color='k', label='Experimental Value', lw=lt)\n",
    "            ax.axvspan(a_low, a_high, color='r', alpha=0.2, label='Experimental Uncertainty')\n",
    "            first_time = False\n",
    "        else: \n",
    "            ax.axvline(a_mid, linestyle='--', color='k', lw=lt)\n",
    "            ax.axvspan(a_low, a_high, color='r', alpha=0.2)\n",
    "            \n",
    "    return 0"
   ]
  },
  {
   "cell_type": "markdown",
   "metadata": {},
   "source": [
    "Plot:"
   ]
  },
  {
   "cell_type": "markdown",
   "metadata": {},
   "source": [
    "## Aluminum No Filter"
   ]
  },
  {
   "cell_type": "code",
   "execution_count": 23,
   "metadata": {},
   "outputs": [
    {
     "data": {
      "image/png": "[encoded data removed]",
      "text/plain": [
       "<Figure size 576x216 with 1 Axes>"
      ]
     },
     "metadata": {},
     "output_type": "display_data"
    }
   ],
   "source": [
    "fig, ax = plt.subplots(figsize=(8,3))\n",
    "\n",
    "ax.plot(trial_pnts, ring_strength, lw=1, c='k')\n",
    "ax.scatter(trial_pnts, ring_strength, label='Theoretical FCCL Values')\n",
    "ax.set_xlim(0,30)\n",
    "ax.set_ylim(0,8)\n",
    "\n",
    "ax.set_xlabel(r'$n^2(h^+k^2+l^2)$')\n",
    "ax.set_ylabel(r'Degeneracy ($\\propto$ Ring Thickness)')\n",
    "\n",
    "plot_measured_values(ax, alum_nf_FCCL_vals, alum_nf_linethickness)\n",
    "\n",
    "ax.grid()\n",
    "ax.legend()\n",
    "\n",
    "fig.tight_layout()\n",
    "plt.savefig('plots/alum_nofilt_raw.png', dpi=300)\n",
    "plt.show()"
   ]
  },
  {
   "cell_type": "markdown",
   "metadata": {},
   "source": [
    "We will need to remove the unwanted lines by examining this plot."
   ]
  },
  {
   "cell_type": "code",
   "execution_count": 24,
   "metadata": {},
   "outputs": [],
   "source": [
    "unwanted_lines = [0, 1, 3, 4, 6, 7, 9, 10, 11, 15, 17, 20]\n",
    "a1 = 0.4 * 10**-9; a2 = 0.41 * 10**-9\n",
    "\n",
    "(alum_nf_FCCL_vals_f,\n",
    "alum_nf_linethickness_f, \n",
    "alum_nf_latticeconstant) = remove_unwanted_lines(df_alumnofilt, unwanted_lines, a1 , a2)"
   ]
  },
  {
   "cell_type": "code",
   "execution_count": 25,
   "metadata": {},
   "outputs": [
    {
     "data": {
      "text/plain": [
       "4.057458930534353e-10"
      ]
     },
     "execution_count": 25,
     "metadata": {},
     "output_type": "execute_result"
    }
   ],
   "source": [
    "alum_nf_latticeconstant"
   ]
  },
  {
   "cell_type": "code",
   "execution_count": 26,
   "metadata": {},
   "outputs": [
    {
     "data": {
      "image/png": "[encoded data removed]",
      "text/plain": [
       "<Figure size 576x216 with 1 Axes>"
      ]
     },
     "metadata": {},
     "output_type": "display_data"
    }
   ],
   "source": [
    "fig, ax = plt.subplots(figsize=(8,3))\n",
    "\n",
    "ax.plot(trial_pnts, ring_strength, lw=1, c='k')\n",
    "ax.scatter(trial_pnts, ring_strength, label='Theoretical FCCL Values')\n",
    "ax.set_xlim(0,30)\n",
    "ax.set_ylim(0,8)\n",
    "\n",
    "ax.set_xlabel(r'$n^2(h^+k^2+l^2)$')\n",
    "ax.set_ylabel(r'Degeneracy')\n",
    "\n",
    "plot_measured_values(ax, alum_nf_FCCL_vals_f, alum_nf_linethickness_f)\n",
    "\n",
    "ax.grid()\n",
    "ax.legend()\n",
    "\n",
    "fig.tight_layout()\n",
    "plt.savefig('plots/alum_nofilt_good.png', dpi=300)\n",
    "plt.show()"
   ]
  },
  {
   "cell_type": "markdown",
   "metadata": {},
   "source": [
    "## Aluminum With Filter"
   ]
  },
  {
   "cell_type": "code",
   "execution_count": 27,
   "metadata": {},
   "outputs": [
    {
     "data": {
      "image/png": "[encoded data removed]",
      "text/plain": [
       "<Figure size 576x216 with 1 Axes>"
      ]
     },
     "metadata": {},
     "output_type": "display_data"
    }
   ],
   "source": [
    "fig, ax = plt.subplots(figsize=(8,3))\n",
    "\n",
    "ax.plot(trial_pnts, ring_strength, lw=1, c='k')\n",
    "ax.scatter(trial_pnts, ring_strength, label='Theoretical FCCL Values')\n",
    "ax.set_xlim(0,30)\n",
    "ax.set_ylim(0,8)\n",
    "\n",
    "ax.set_xlabel(r'$n^2(h^+k^2+l^2)$')\n",
    "ax.set_ylabel(r'Degeneracy')\n",
    "\n",
    "plot_measured_values(ax, alum_f_FCCL_vals, alum_f_linethickness)\n",
    "\n",
    "ax.grid()\n",
    "ax.legend()\n",
    "\n",
    "fig.tight_layout()\n",
    "plt.savefig('plots/alum_filt.png', dpi=300)\n",
    "plt.show()"
   ]
  },
  {
   "cell_type": "markdown",
   "metadata": {},
   "source": [
    "No need to remove the unwanted lines because the nickel already did that for us. The function still provides a ice way of us getting the lattice constant though:"
   ]
  },
  {
   "cell_type": "code",
   "execution_count": 28,
   "metadata": {},
   "outputs": [],
   "source": [
    "unwanted_lines = []\n",
    "a1 = 0.4 * 10**-9; a2 = 0.41 * 10**-9\n",
    "\n",
    "(alum_f_FCCL_vals_f,\n",
    "alum_f_linethickness_f, \n",
    "alum_f_latticeconstant) = remove_unwanted_lines(df_alumfilt, unwanted_lines, a1 , a2)"
   ]
  },
  {
   "cell_type": "code",
   "execution_count": 29,
   "metadata": {},
   "outputs": [
    {
     "ename": "NameError",
     "evalue": "name 'gold_nf_latticeconstant' is not defined",
     "output_type": "error",
     "traceback": [
      "\u001b[1;31m---------------------------------------------------------------------------\u001b[0m",
      "\u001b[1;31mNameError\u001b[0m                                 Traceback (most recent call last)",
      "\u001b[1;32m<ipython-input-29-255ddb0e2c84>\u001b[0m in \u001b[0;36m<module>\u001b[1;34m()\u001b[0m\n\u001b[1;32m----> 1\u001b[1;33m \u001b[0mgold_nf_latticeconstant\u001b[0m\u001b[1;33m\u001b[0m\u001b[0m\n\u001b[0m",
      "\u001b[1;31mNameError\u001b[0m: name 'gold_nf_latticeconstant' is not defined"
     ]
    }
   ],
   "source": [
    "gold_nf_latticeconstant"
   ]
  },
  {
   "cell_type": "code",
   "execution_count": null,
   "metadata": {},
   "outputs": [],
   "source": [
    "alum_f_FCCL_vals"
   ]
  },
  {
   "cell_type": "markdown",
   "metadata": {},
   "source": [
    "## Copper No Filter"
   ]
  },
  {
   "cell_type": "code",
   "execution_count": null,
   "metadata": {},
   "outputs": [],
   "source": [
    "fig, ax = plt.subplots(figsize=(8,3))\n",
    "\n",
    "ax.plot(trial_pnts, ring_strength, lw=1, c='k')\n",
    "ax.scatter(trial_pnts, ring_strength, label='Theoretical FCCL Values')\n",
    "ax.set_xlim(0,30)\n",
    "ax.set_ylim(0,8)\n",
    "\n",
    "ax.set_xlabel(r'$n^2(h^+k^2+l^2)$')\n",
    "ax.set_ylabel(r'Degeneracy')\n",
    "\n",
    "plot_measured_values(ax, cop_nf_FCCL_vals, cop_nf_linethickness)\n",
    "\n",
    "ax.grid()\n",
    "ax.legend()\n",
    "\n",
    "fig.tight_layout()\n",
    "plt.savefig('plots/cop_nofilt_raw.png', dpi=300)\n",
    "plt.show()"
   ]
  },
  {
   "cell_type": "markdown",
   "metadata": {},
   "source": [
    "We will need to remove the unwanted lines by examining this plot."
   ]
  },
  {
   "cell_type": "code",
   "execution_count": null,
   "metadata": {},
   "outputs": [],
   "source": [
    "unwanted_lines = [0, 1, 3, 4, 6, 7, 9, 10, 11, 13, 14, 15, 18, 19]\n",
    "a1 = 0.35 * 10**-9; a2 = 0.375 * 10**-9\n",
    "\n",
    "(cop_nf_FCCL_vals_f,\n",
    " cop_nf_linethickness_f,\n",
    "cop_nf_latticeconstant)= remove_unwanted_lines(df_copnofilt, unwanted_lines, a1 , a2)"
   ]
  },
  {
   "cell_type": "code",
   "execution_count": null,
   "metadata": {},
   "outputs": [],
   "source": [
    "fig, ax = plt.subplots(figsize=(8,3))\n",
    "\n",
    "ax.plot(trial_pnts, ring_strength, lw=1, c='k')\n",
    "ax.scatter(trial_pnts, ring_strength, label='Theoretical FCCL Values')\n",
    "ax.set_xlim(0,30)\n",
    "ax.set_ylim(0,8)\n",
    "\n",
    "ax.set_xlabel(r'$n^2(h^+k^2+l^2)$')\n",
    "ax.set_ylabel(r'Degeneracy')\n",
    "\n",
    "plot_measured_values(ax, cop_nf_FCCL_vals_f, cop_nf_linethickness_f)\n",
    "\n",
    "ax.grid()\n",
    "ax.legend()\n",
    "\n",
    "fig.tight_layout()\n",
    "plt.savefig('plots/cop_nofilt_good.png', dpi=300)\n",
    "plt.show()"
   ]
  },
  {
   "cell_type": "markdown",
   "metadata": {},
   "source": [
    "## Gold No Filter"
   ]
  },
  {
   "cell_type": "code",
   "execution_count": null,
   "metadata": {},
   "outputs": [],
   "source": [
    "fig, ax = plt.subplots(figsize=(8,3))\n",
    "\n",
    "ax.plot(trial_pnts, ring_strength, lw=1, c='k')\n",
    "ax.scatter(trial_pnts, ring_strength, label='Theoretical FCCL Values')\n",
    "ax.set_xlim(0,30)\n",
    "ax.set_ylim(0,8)\n",
    "\n",
    "ax.set_xlabel(r'$n^2(h^+k^2+l^2)$')\n",
    "ax.set_ylabel(r'Degeneracy')\n",
    "\n",
    "plot_measured_values(ax, gold_nf_FCCL_vals, gold_nf_linethickness)\n",
    "\n",
    "ax.grid()\n",
    "ax.legend()\n",
    "\n",
    "fig.tight_layout()\n",
    "plt.savefig('plots/gold_nofilt_raw.png', dpi=300)\n",
    "plt.show()"
   ]
  },
  {
   "cell_type": "code",
   "execution_count": null,
   "metadata": {},
   "outputs": [],
   "source": [
    "unwanted_lines = [0, 2, 3, 4, 5, 6, 7, 8, 9, 10, 12, 13, 14, 17, 18, 19, 20, 21, 23, 25, 27, 28]\n",
    "a1 = 0.4 * 10**-9; a2 = 0.41 * 10**-9\n",
    "(gold_nf_FCCL_vals_f,\n",
    "gold_nf_linethickness_f,\n",
    "gold_nf_latticeconstant)= remove_unwanted_lines(df_goldnofilt, unwanted_lines, a1 , a2)"
   ]
  },
  {
   "cell_type": "code",
   "execution_count": null,
   "metadata": {},
   "outputs": [],
   "source": [
    "fig, ax = plt.subplots(figsize=(8,3))\n",
    "\n",
    "ax.plot(trial_pnts, ring_strength, lw=1, c='k')\n",
    "ax.scatter(trial_pnts, ring_strength, label='Theoretical FCCL Values')\n",
    "ax.set_xlim(0,30)\n",
    "ax.set_ylim(0,8)\n",
    "\n",
    "ax.set_xlabel(r'$n^2(h^+k^2+l^2)$')\n",
    "ax.set_ylabel(r'Degeneracy')\n",
    "\n",
    "plot_measured_values(ax, gold_nf_FCCL_vals_f, gold_nf_linethickness_f)\n",
    "\n",
    "ax.grid()\n",
    "ax.legend()\n",
    "\n",
    "fig.tight_layout()\n",
    "plt.savefig('plots/gold_nofilt_good.png', dpi=300)\n",
    "plt.show()"
   ]
  },
  {
   "cell_type": "markdown",
   "metadata": {},
   "source": [
    "### Does the Gold Contain Copper?"
   ]
  },
  {
   "cell_type": "code",
   "execution_count": null,
   "metadata": {},
   "outputs": [],
   "source": [
    "A_goldcop = (2*cop_nf_latticeconstant/lam)**2\n",
    "gold_cop_nf_FCCL_vals = np.array(A_goldcop * df_goldnofilt['Factor'])"
   ]
  },
  {
   "cell_type": "code",
   "execution_count": null,
   "metadata": {},
   "outputs": [],
   "source": [
    "fig, ax = plt.subplots(figsize=(8,3))\n",
    "\n",
    "ax.plot(trial_pnts, ring_strength, lw=1, c='k')\n",
    "ax.scatter(trial_pnts, ring_strength, label='Theoretical FCCL Values')\n",
    "ax.set_xlim(0,30)\n",
    "ax.set_ylim(0,8)\n",
    "\n",
    "ax.set_xlabel(r'$n^2(h^+k^2+l^2)$')\n",
    "ax.set_ylabel(r'Degeneracy')\n",
    "\n",
    "plot_measured_values(ax, gold_cop_nf_FCCL_vals, gold_nf_linethickness)\n",
    "\n",
    "ax.grid()\n",
    "ax.legend()\n",
    "\n",
    "fig.tight_layout()\n",
    "plt.savefig('plots/goldcop_nofilt_raw.png', dpi=300)\n",
    "plt.show()"
   ]
  },
  {
   "cell_type": "code",
   "execution_count": null,
   "metadata": {},
   "outputs": [],
   "source": [
    "unwanted_lines = [0, 1, 2, 3, 4, 7, 8, 9, 10, 11, 12, 13, 15, 16, 18, 19, 20, 21, 22, 23, 25, 26, 28]\n",
    "a1 = 0.35 * 10**-9; a2 = 0.375 * 10**-9\n",
    "\n",
    "(goldcop_nf_FCCL_vals_f,\n",
    "goldcop_nf_linethickness_f,\n",
    "goldcop_nf_latticeconstant) = remove_unwanted_lines(df_goldnofilt, unwanted_lines, a1 , a2)"
   ]
  },
  {
   "cell_type": "code",
   "execution_count": null,
   "metadata": {},
   "outputs": [],
   "source": [
    "fig, ax = plt.subplots(figsize=(8,3))\n",
    "\n",
    "ax.plot(trial_pnts, ring_strength, lw=1, c='k')\n",
    "ax.scatter(trial_pnts, ring_strength, label='Theoretical FCCL Values')\n",
    "ax.set_xlim(0,30)\n",
    "ax.set_ylim(0,8)\n",
    "\n",
    "ax.set_xlabel(r'$n^2(h^+k^2+l^2)$')\n",
    "ax.set_ylabel(r'Degeneracy')\n",
    "\n",
    "plot_measured_values(ax, goldcop_nf_FCCL_vals_f, goldcop_nf_linethickness_f)\n",
    "\n",
    "ax.grid()\n",
    "ax.legend()\n",
    "\n",
    "fig.tight_layout()\n",
    "plt.savefig('plots/goldcop_nofilt_good.png', dpi=300)\n",
    "plt.show()"
   ]
  },
  {
   "cell_type": "markdown",
   "metadata": {},
   "source": [
    "# Determining Lattice Parameter a"
   ]
  },
  {
   "cell_type": "markdown",
   "metadata": {},
   "source": [
    "These lines, of course, can each be shifted to their corresponding theoretical FCCL (blue dot value) on the previous plot. This requires slight modifcications to $A=(2a/\\lambda)^2$ for each line, so we will get different $A$ values for each line and thus different $A$ values for each line.\n",
    "\n",
    "$$A\\sin^2 \\theta = h^2+k^2+l^2$$\n",
    "\n",
    "$$\\implies \\frac{A_{exact} \\sin^2 \\theta}{A_{old} \\sin^2 \\theta} = \\frac{(h^2+k^2+l^2)_{exact}}{(h^2+k^2+l^2)_{old}} $$\n",
    "\n",
    "Now using $A_{exact}/A_{old}={a_{exact}}^2/{a_{old}}^2$ we get\n",
    "\n",
    "$$\\implies \\boxed{a_{exact} = a_{old} \\sqrt{\\frac{(h^2+k^2+l^2)_{exact}}{(h^2+k^2+l^2)_{old}}}}$$\n",
    "\n",
    "where $a_{old}$ is the old fitting parameter used to get all the lines in approximately the correct place, $(h^2+k^2+l^2)_{old}$ is the non-integer value of the dotted lines seen on the plots above, and $(h^2+k^2+l^2)_{exact}$ is the true integer value (blue dots).\n",
    "\n",
    "We will obtain different values of $a_{exact}$ for each dotted line and thus many different values of the lattice parameter $a$ which we can then use to get an approximate value."
   ]
  },
  {
   "cell_type": "code",
   "execution_count": null,
   "metadata": {},
   "outputs": [],
   "source": [
    "def get_lparams(exp_data, theo_data, a_old):\n",
    "    a_exacts = np.empty(shape=len(exp_data), dtype=object)\n",
    "    for i, hkl_old in enumerate(exp_data):\n",
    "        hkl_exact = theo_data[np.argmin(np.abs(np.array(theo_data)-hkl_old.nominal_value))]\n",
    "        a_exacts[i] = a_old * sqrt(hkl_exact/hkl_old)\n",
    "    return a_exacts"
   ]
  },
  {
   "cell_type": "code",
   "execution_count": null,
   "metadata": {},
   "outputs": [],
   "source": [
    "copper_nofilter_lattice_params = get_lparams(cop_nf_FCCL_vals_f, trial_pnts, cop_nf_latticeconstant)\n",
    "aluminum_nofilter_lattice_params = get_lparams(alum_nf_FCCL_vals_f, trial_pnts, alum_nf_latticeconstant)\n",
    "aluminum_filter_lattice_params = get_lparams(alum_f_FCCL_vals, trial_pnts, alum_f_latticeconstant)\n",
    "gold_nofilter_lattice_params = get_lparams(gold_nf_FCCL_vals_f, trial_pnts, gold_nf_latticeconstant)"
   ]
  },
  {
   "cell_type": "code",
   "execution_count": null,
   "metadata": {},
   "outputs": [],
   "source": [
    "def get_std_err(arr):\n",
    "    return unp.nominal_values(arr).std()/np.sqrt(len(arr))"
   ]
  },
  {
   "cell_type": "markdown",
   "metadata": {},
   "source": [
    "Aluminum"
   ]
  },
  {
   "cell_type": "code",
   "execution_count": null,
   "metadata": {},
   "outputs": [],
   "source": [
    "print(aluminum_nofilter_lattice_params.mean())\n",
    "print(get_std_err(aluminum_nofilter_lattice_params))"
   ]
  },
  {
   "cell_type": "markdown",
   "metadata": {},
   "source": [
    "Copper"
   ]
  },
  {
   "cell_type": "code",
   "execution_count": null,
   "metadata": {},
   "outputs": [],
   "source": [
    "print(copper_nofilter_lattice_params.mean())\n",
    "print(get_std_err(copper_nofilter_lattice_params))"
   ]
  },
  {
   "cell_type": "markdown",
   "metadata": {},
   "source": [
    "Gold"
   ]
  },
  {
   "cell_type": "code",
   "execution_count": null,
   "metadata": {},
   "outputs": [],
   "source": [
    "print(gold_nofilter_lattice_params.mean())\n",
    "print(get_std_err(gold_nofilter_lattice_params))"
   ]
  },
  {
   "cell_type": "code",
   "execution_count": null,
   "metadata": {},
   "outputs": [],
   "source": [
    "unp.nominal_values(aluminum_filter_lattice_params).std()/np.sqrt(7)"
   ]
  },
  {
   "cell_type": "code",
   "execution_count": null,
   "metadata": {},
   "outputs": [],
   "source": [
    "gold_nofilter_lattice_params.mean()"
   ]
  },
  {
   "cell_type": "code",
   "execution_count": null,
   "metadata": {},
   "outputs": [],
   "source": [
    "print(aluminum_nofilter_lattice_params.mean())"
   ]
  },
  {
   "cell_type": "code",
   "execution_count": null,
   "metadata": {},
   "outputs": [],
   "source": [
    "unp.nominal_values(aluminum_filter_lattice_params).std()/np.sqrt(7)"
   ]
  },
  {
   "cell_type": "code",
   "execution_count": null,
   "metadata": {},
   "outputs": [],
   "source": [
    "0.93562+1.65729"
   ]
  },
  {
   "cell_type": "code",
   "execution_count": null,
   "metadata": {},
   "outputs": [],
   "source": []
  }
 ],
 "metadata": {
  "kernelspec": {
   "display_name": "Python 3",
   "language": "python",
   "name": "python3"
  },
  "language_info": {
   "codemirror_mode": {
    "name": "ipython",
    "version": 3
   },
   "file_extension": ".py",
   "mimetype": "text/x-python",
   "name": "python",
   "nbconvert_exporter": "python",
   "pygments_lexer": "ipython3",
   "version": "3.6.5"
  }
 },
 "nbformat": 4,
 "nbformat_minor": 2
}
