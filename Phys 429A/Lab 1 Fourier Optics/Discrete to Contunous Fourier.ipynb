{
 "cells": [
  {
   "cell_type": "markdown",
   "metadata": {},
   "source": [
    "<h1 id=\"tocheading\">Table of Contents and Notebook Setup</h1>\n",
    "<div id=\"toc\"></div>"
   ]
  },
  {
   "cell_type": "code",
   "execution_count": 1,
   "metadata": {},
   "outputs": [
    {
     "data": {
      "application/javascript": [
       "$.getScript('https://kmahelona.github.io/ipython_notebook_goodies/ipython_notebook_toc.js')"
      ],
      "text/plain": [
       "<IPython.core.display.Javascript object>"
      ]
     },
     "metadata": {},
     "output_type": "display_data"
    }
   ],
   "source": [
    "%%javascript\n",
    "$.getScript('https://kmahelona.github.io/ipython_notebook_goodies/ipython_notebook_toc.js')"
   ]
  },
  {
   "cell_type": "code",
   "execution_count": 2,
   "metadata": {},
   "outputs": [],
   "source": [
    "import numpy as np\n",
    "import matplotlib.pyplot as plt\n",
    "import scipy as sp\n",
    "from scipy.stats import norm\n",
    "from matplotlib import animation\n",
    "from IPython.display import HTML"
   ]
  },
  {
   "cell_type": "markdown",
   "metadata": {},
   "source": [
    "# Theory"
   ]
  },
  {
   "cell_type": "markdown",
   "metadata": {},
   "source": [
    "The Fourier Transform is defined as\n",
    "\n",
    "$$F(w) = \\frac{1}{\\sqrt{2 \\pi}} \\int_{- \\infty}^{\\infty} f(t)e^{-iwt}dt $$\n",
    "\n",
    "Lets suppose that we are working digitally and have an array of times $t=t_0+n\\Delta t$. Summing over all times then yields\n",
    "\n",
    "$$F(w) = \\frac{1}{\\sqrt{2 \\pi}}\\sum_{n=0}^N f(t_0+n\\Delta t)e^{-i wt_0}e^{-iwn\\Delta t} \\Delta t $$\n",
    "\n",
    "Taking the non-n dependent terms out of the sum yields\n",
    "\n",
    "$$F(w) = \\frac{1}{\\sqrt{2 \\pi}}\\Delta te^{-i wt_0}\\sum_{n=0}^N f(t_0+n\\Delta t)e^{-iwn\\Delta t}  $$"
   ]
  },
  {
   "cell_type": "markdown",
   "metadata": {},
   "source": [
    "The <b>sum</b> (not the factor out front) is <b> discrete Fourier transform function </b> $F_d (w)$. We can use g=np.fft.fft(f) and  w' = np.fft.fftfreq(f.size) to get arrays of $w'$ and $F(w)$ from\n",
    "\n",
    "$$F_d(w) = \\sum_{n=0}^N f(t_0+n\\Delta t)e^{-i (2 \\pi n w')}  $$"
   ]
  },
  {
   "cell_type": "markdown",
   "metadata": {},
   "source": [
    "Notice that the term in the exponential is slightly different. In otherwords, the command np.fft.fftfreq(f.size) returns the array $w'$ and not $w$. We can renormalize the arrays using\n",
    "\n",
    "$$ w = \\frac{2 \\pi}{\\Delta t}w' $$\n",
    "\n",
    "$$F =\\frac{1}{\\sqrt{2 \\pi}}\\Delta te^{-i wt_0} F_d  $$"
   ]
  },
  {
   "cell_type": "markdown",
   "metadata": {},
   "source": [
    "We now have an array $F$ which we can plot as a function of $w$. This would yield a plot of the <b> continuous Fourier Transform </b>."
   ]
  },
  {
   "cell_type": "markdown",
   "metadata": {},
   "source": [
    "# Plotting"
   ]
  },
  {
   "cell_type": "code",
   "execution_count": 3,
   "metadata": {},
   "outputs": [],
   "source": [
    "#Discretize distance x\n",
    "x0=-100.\n",
    "dx = 0.01\n",
    "x=np.arange(x0,-x0,dx)"
   ]
  },
  {
   "cell_type": "code",
   "execution_count": 4,
   "metadata": {},
   "outputs": [],
   "source": [
    "def light_intensity(x, signal_gain = 1, noise_gain = 0.01):\n",
    "    signal = norm.pdf(x, 0, 1)\n",
    "    noise = np.random.randn(x.size)\n",
    "    return signal_gain * signal + noise_gain * noise\n",
    "\n",
    "def light_intensity2(x, signal_gain = 1, noise_gain = 0.01):\n",
    "    signal = np.array([0.2 if abs(d)<2.5 else 0 for d in x])\n",
    "    noise = np.random.randn(x.size)\n",
    "    return signal_gain * signal +noise_gain * noise\n",
    "    \n",
    "f=light_intensity2(x)"
   ]
  },
  {
   "cell_type": "code",
   "execution_count": 5,
   "metadata": {},
   "outputs": [],
   "source": [
    "def get_fourier(x, f):\n",
    "\n",
    "#Compute Fourier transform by numpy's FFT function\n",
    "    g=np.fft.fft(f)\n",
    "#frequency normalization factor is 2*np.pi/dx\n",
    "    dx = x[1]-x[0]\n",
    "    w = np.fft.fftfreq(f.size)*2*np.pi/dx\n",
    "\n",
    "\n",
    "#In order to get a discretisation of the continuous Fourier transform\n",
    "#we need to multiply g by a phase factor\n",
    "    g*=dx*np.exp(-complex(0,1)*w*x0)/(np.sqrt(2*np.pi))\n",
    "    \n",
    "    return w, g\n"
   ]
  },
  {
   "cell_type": "code",
   "execution_count": 6,
   "metadata": {},
   "outputs": [
    {
     "data": {
      "image/png": "[encoded data removed]",
      "text/plain": [
       "<Figure size 432x288 with 1 Axes>"
      ]
     },
     "metadata": {},
     "output_type": "display_data"
    }
   ],
   "source": [
    "w, g = get_fourier(x, f)\n",
    "\n",
    "plt.scatter(x,f,color='g')\n",
    "plt.scatter(w,np.abs(g),color=\"r\")\n",
    "\n",
    "plt.gca().set_xlim(-10,10)\n",
    "plt.show()"
   ]
  },
  {
   "cell_type": "markdown",
   "metadata": {},
   "source": [
    "# Animation"
   ]
  },
  {
   "cell_type": "code",
   "execution_count": 7,
   "metadata": {},
   "outputs": [],
   "source": [
    "%%capture\n",
    "\n",
    "fig, ax = plt.subplots(2, figsize=(8,10))\n",
    "plt.subplots_adjust(hspace=0.5)\n",
    "line1, = ax[0].plot(x, f, 'ro')\n",
    "line2, = ax[1].plot(w, g, 'go')\n",
    "lines = [line1, line2]\n",
    "\n",
    "ax[0].set_xlim(-10,10)\n",
    "ax[1].set_xlim(-10,10)\n",
    "\n",
    "ax[0].set_title('Light Intensity at Front Focal Plane')\n",
    "ax[1].set_title('Light Intensity at Back Focal Plane')\n",
    "\n",
    "ax[0].set_xlabel('Distance [cm]')\n",
    "ax[1].set_xlabel('Distance [cm]')\n",
    "\n",
    "ax[0].set_ylabel('Intensity [arb]')\n",
    "ax[1].set_ylabel('Intensity [arb]')\n"
   ]
  },
  {
   "cell_type": "code",
   "execution_count": 8,
   "metadata": {},
   "outputs": [],
   "source": [
    "def init():\n",
    "    line1.set_data([], [])\n",
    "    line2.set_data([], [])\n",
    "    return lines,"
   ]
  },
  {
   "cell_type": "code",
   "execution_count": 9,
   "metadata": {},
   "outputs": [],
   "source": [
    "def animate(i):\n",
    "    x=np.arange(x0,-x0,dx)\n",
    "    f=light_intensity2(x, noise_gain=0.01)\n",
    "    w1, g1 = get_fourier(x, f)\n",
    "    w2, g2 = get_fourier(w1, np.abs(g1))\n",
    "    line1.set_data(x, f)\n",
    "    line2.set_data(w1, np.abs(g1))\n",
    "    \n",
    "    return tuple([line1, line2])"
   ]
  },
  {
   "cell_type": "code",
   "execution_count": 10,
   "metadata": {},
   "outputs": [],
   "source": [
    "fps=20\n",
    "frames = 25*fps\n",
    "interval = 1000*(1./fps) #milliseconds"
   ]
  },
  {
   "cell_type": "code",
   "execution_count": 11,
   "metadata": {},
   "outputs": [],
   "source": [
    "anim = animation.FuncAnimation(fig, animate, frames = frames, interval=interval, blit=True)"
   ]
  },
  {
   "cell_type": "code",
   "execution_count": null,
   "metadata": {},
   "outputs": [],
   "source": [
    "HTML(anim.to_html5_video())"
   ]
  }
 ],
 "metadata": {
  "kernelspec": {
   "display_name": "Python 3",
   "language": "python",
   "name": "python3"
  },
  "language_info": {
   "codemirror_mode": {
    "name": "ipython",
    "version": 3
   },
   "file_extension": ".py",
   "mimetype": "text/x-python",
   "name": "python",
   "nbconvert_exporter": "python",
   "pygments_lexer": "ipython3",
   "version": "3.6.5"
  }
 },
 "nbformat": 4,
 "nbformat_minor": 2
}
