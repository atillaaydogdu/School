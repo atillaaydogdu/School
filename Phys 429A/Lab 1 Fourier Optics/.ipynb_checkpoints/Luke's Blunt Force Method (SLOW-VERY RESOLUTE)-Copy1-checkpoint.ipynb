{
 "cells": [
  {
   "cell_type": "code",
   "execution_count": 1,
   "metadata": {
    "collapsed": true
   },
   "outputs": [],
   "source": [
    "% matplotlib notebook\n",
    "import time\n",
    "\n",
    "import numpy as np\n",
    "import matplotlib.pyplot as plt\n",
    "import scipy as sp\n",
    "from scipy import integrate\n",
    "from mpl_toolkits.mplot3d import Axes3D \n",
    "from matplotlib import cm\n",
    "from numba import complex128,float64,jit\n",
    "import timeit"
   ]
  },
  {
   "cell_type": "code",
   "execution_count": 2,
   "metadata": {
    "collapsed": true
   },
   "outputs": [],
   "source": [
    "j = complex(0,1)"
   ]
  },
  {
   "cell_type": "code",
   "execution_count": 3,
   "metadata": {
    "collapsed": true
   },
   "outputs": [],
   "source": [
    "def cft(k1, k2):\n",
    "    \"\"\"Numerically evaluate the Fourier Transform of g for the given frequencies\"\"\"    \n",
    "    result = np.zeros((len(k1), len(k2)), dtype=complex)\n",
    "    # Loop over all frequencies and calculate integral value\n",
    "    for i, kk1 in enumerate(k1):\n",
    "        for l, kk2 in enumerate(k2):\n",
    "            # Evaluate the Fourier Integral for a single frequency ff, \n",
    "            # assuming the function is time-limited to abs(t)<5\n",
    "            @jit(complex128(float64, float64), nopython=True, cache=True)\n",
    "            def four_trans_integrand(x, y):\n",
    "                return np.exp(-(x)**2-(y)**2)*np.exp(-j*kk1*x)*np.exp(-j*kk2*y)\n",
    "            result[i][l] = complex_quadrature(four_trans_integrand, -xmax, xmax, -ymax, ymax)\n",
    "    return (1/(2*np.pi))*result\n",
    "\n",
    "def complex_quadrature(func, x1, x2, y1, y2):\n",
    "    def real_func(x,y):\n",
    "        return sp.real(func(x,y))\n",
    "    def imag_func(x,y):\n",
    "        return sp.imag(func(x,y))\n",
    "    real_integral = integrate.dblquad(real_func, x1, x2, lambda x: y1, lambda x: y2)\n",
    "    imag_integral = integrate.dblquad(imag_func, x1, x2, lambda x: y1, lambda x: y2)\n",
    "    return (real_integral[0] + j*imag_integral[0])\n",
    "    "
   ]
  },
  {
   "cell_type": "code",
   "execution_count": null,
   "metadata": {
    "collapsed": true
   },
   "outputs": [],
   "source": [
    "def one(x,y):\n",
    "    return 1.0"
   ]
  },
  {
   "cell_type": "code",
   "execution_count": null,
   "metadata": {},
   "outputs": [],
   "source": [
    "start = time.time()\n",
    "xmax = 4\n",
    "dx = 0.05\n",
    "x=np.arange(-xmax,xmax,dx)\n",
    "ymax = 4\n",
    "dy = 0.05\n",
    "y=np.arange(-ymax,ymax,dy)\n",
    "four= cft(x,y)\n",
    "end = time.time()\n",
    "print(end - start)"
   ]
  },
  {
   "cell_type": "code",
   "execution_count": null,
   "metadata": {},
   "outputs": [],
   "source": [
    "start = time.time()\n",
    "complex_quadrature(h, -4, 4, -4, 4)\n",
    "end = time.time()\n",
    "print(end - start)"
   ]
  },
  {
   "cell_type": "code",
   "execution_count": null,
   "metadata": {},
   "outputs": [],
   "source": [
    "start = time.time()\n",
    "a = integrate.dblquad(g, -4, 4, lambda x: -4, lambda x: 4, epsabs = 1.49e-8)\n",
    "end = time.time()\n",
    "print(end - start)\n",
    "print(a)"
   ]
  },
  {
   "cell_type": "code",
   "execution_count": null,
   "metadata": {},
   "outputs": [],
   "source": [
    "def h(x,y):\n",
    "    return g(x,y)*np.exp(-j*4*x)\n",
    "\n",
    "start = time.time()\n",
    "sp.real(h(x,y))\n",
    "end = time.time()\n",
    "print(end - start)"
   ]
  },
  {
   "cell_type": "code",
   "execution_count": null,
   "metadata": {},
   "outputs": [],
   "source": [
    "def func(x,y):\n",
    "    return g(x,y)*np.exp(-j*4*x)\n",
    "\n",
    "\n",
    "start = time.time()\n",
    "def real_func(x,y):\n",
    "        return sp.real(func(x,y))\n",
    "def imag_func(x,y):\n",
    "        return sp.imag(func(x,y))\n",
    "        \n",
    "\n",
    "#start = time.time()\n",
    "integrate.dblquad(g, -4, 4, lambda x: -4, lambda x: 4)\n",
    "end = time.time()\n",
    "print(end - start)"
   ]
  },
  {
   "cell_type": "code",
   "execution_count": null,
   "metadata": {},
   "outputs": [],
   "source": [
    "start = time.time()\n",
    "a = 0\n",
    "for i, xi in enumerate(x):\n",
    "    for l, yi in enumerate(y):\n",
    "        a=a+1\n",
    "        \n",
    "end = time.time()\n",
    "print(end - start)\n",
    "        "
   ]
  }
 ],
 "metadata": {
  "kernelspec": {
   "display_name": "Python 3",
   "language": "python",
   "name": "python3"
  },
  "language_info": {
   "codemirror_mode": {
    "name": "ipython",
    "version": 3
   },
   "file_extension": ".py",
   "mimetype": "text/x-python",
   "name": "python",
   "nbconvert_exporter": "python",
   "pygments_lexer": "ipython3",
   "version": "3.6.2"
  }
 },
 "nbformat": 4,
 "nbformat_minor": 2
}
