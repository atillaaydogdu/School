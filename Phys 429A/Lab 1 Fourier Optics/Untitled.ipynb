{
 "cells": [
  {
   "cell_type": "code",
   "execution_count": 81,
   "metadata": {},
   "outputs": [],
   "source": [
    "import numpy as np\n",
    "from matplotlib import pyplot as plt\n",
    "from scipy import fftpack\n",
    "\n",
    "x, y = np.meshgrid(np.linspace(-1,1,1000), np.linspace(-1,1,1000))\n",
    "func = np.exp(-(x**2+y**2)/(2))"
   ]
  },
  {
   "cell_type": "code",
   "execution_count": 79,
   "metadata": {},
   "outputs": [],
   "source": [
    "def get_fourier_2d(x, y, f):\n",
    "    \n",
    "    dx = np.abs(x[0,1]-x[0,0])\n",
    "    dy = np.abs(y[1,0]-y[0,0])\n",
    "    \n",
    "    \n",
    "    k_x = np.fft.fftfreq(x[0].size)*2*np.pi/dx\n",
    "    k_y = np.fft.fftfreq(y[0].size)*2*np.pi/dy\n",
    "    \n",
    "    new_arr = np.zeros((k_x.size, k_y.size))\n",
    "    for i in range(k_x.size):\n",
    "        for j in range(k_y.size):\n",
    "            new_arr[i][j] = k_x[i]*x[0,0]+k_y[j]*y[0,0]\n",
    "    \n",
    "    g = np.fft.fftshift(np.fft.fft2(f))\n",
    "    g*=dx*dy*np.exp(-complex(0,1)*new_arr)/((2*np.pi))\n",
    "    \n",
    "    return k_x, k_y, g\n",
    "    \n",
    "    \n",
    "    "
   ]
  },
  {
   "cell_type": "code",
   "execution_count": 80,
   "metadata": {},
   "outputs": [],
   "source": [
    "k_x, k_y, g = get_fourier_2d(x, y, func)"
   ]
  },
  {
   "cell_type": "code",
   "execution_count": 65,
   "metadata": {},
   "outputs": [
    {
     "data": {
      "text/plain": [
       "1000"
      ]
     },
     "execution_count": 65,
     "metadata": {},
     "output_type": "execute_result"
    }
   ],
   "source": [
    "func[0].size"
   ]
  },
  {
   "cell_type": "code",
   "execution_count": 67,
   "metadata": {},
   "outputs": [
    {
     "data": {
      "text/plain": [
       "1000"
      ]
     },
     "execution_count": 67,
     "metadata": {},
     "output_type": "execute_result"
    }
   ],
   "source": [
    "x[0].size"
   ]
  },
  {
   "cell_type": "code",
   "execution_count": 77,
   "metadata": {},
   "outputs": [
    {
     "data": {
      "image/png": "[encoded data removed]",
      "text/plain": [
       "<Figure size 432x288 with 1 Axes>"
      ]
     },
     "metadata": {},
     "output_type": "display_data"
    }
   ],
   "source": [
    "plt.scatter(x[5000],func[5000],color='g')\n",
    "#plt.scatter(k_x,np.abs(g[500]),color=\"r\")\n",
    "\n",
    "#plt.gca().set_xlim(-1,1)\n",
    "plt.show()"
   ]
  },
  {
   "cell_type": "code",
   "execution_count": 75,
   "metadata": {},
   "outputs": [
    {
     "data": {
      "text/plain": [
       "(<matplotlib.axes._subplots.AxesSubplot at 0x24ee54fbf60>,\n",
       " <matplotlib.image.AxesImage at 0x24ee59dea20>)"
      ]
     },
     "execution_count": 75,
     "metadata": {},
     "output_type": "execute_result"
    },
    {
     "data": {
      "image/png": "[encoded data removed]",
      "text/plain": [
       "<Figure size 432x288 with 2 Axes>"
      ]
     },
     "metadata": {},
     "output_type": "display_data"
    }
   ],
   "source": [
    "g = np.fft.fft2(func)\n",
    "g = np.fft.fftshift(g)\n",
    "plt.subplot(121),plt.imshow(func, cmap = 'gray')\n",
    "plt.subplot(122),plt.imshow(100*np.abs(g), cmap = 'gray')"
   ]
  },
  {
   "cell_type": "code",
   "execution_count": 25,
   "metadata": {},
   "outputs": [],
   "source": [
    "dx = np.abs(x[0,1]-x[0,0])\n",
    "dy = np.abs(y[1,0]-y[0,0])\n",
    "    \n",
    "    \n",
    "k_x = np.fft.fftfreq(x[0].size)*2*np.pi/dx\n",
    "k_y = np.fft.fftfreq(y[0].size)*2*np.pi/dy\n",
    "    \n",
    "new_arr = np.zeros((k_x.size, k_y.size))\n",
    "for i in range(k_x.size):\n",
    "    for j in range(k_y.size):\n",
    "        new_arr[i][j] = k_x[i]*x[0,0]+k_y[j]*y[0,0]\n",
    "    "
   ]
  },
  {
   "cell_type": "code",
   "execution_count": 26,
   "metadata": {},
   "outputs": [
    {
     "data": {
      "text/plain": [
       "array([[ -0.        ,  -3.13845106,  -6.27690212, ...,   9.41535318,\n",
       "          6.27690212,   3.13845106],\n",
       "       [ -3.13845106,  -6.27690212,  -9.41535318, ...,   6.27690212,\n",
       "          3.13845106,   0.        ],\n",
       "       [ -6.27690212,  -9.41535318, -12.55380424, ...,   3.13845106,\n",
       "          0.        ,  -3.13845106],\n",
       "       ...,\n",
       "       [  9.41535318,   6.27690212,   3.13845106, ...,  18.83070637,\n",
       "         15.6922553 ,  12.55380424],\n",
       "       [  6.27690212,   3.13845106,   0.        , ...,  15.6922553 ,\n",
       "         12.55380424,   9.41535318],\n",
       "       [  3.13845106,   0.        ,  -3.13845106, ...,  12.55380424,\n",
       "          9.41535318,   6.27690212]])"
      ]
     },
     "execution_count": 26,
     "metadata": {},
     "output_type": "execute_result"
    }
   ],
   "source": [
    "new_arr"
   ]
  },
  {
   "cell_type": "code",
   "execution_count": 27,
   "metadata": {},
   "outputs": [
    {
     "data": {
      "text/plain": [
       "-100.0"
      ]
     },
     "execution_count": 27,
     "metadata": {},
     "output_type": "execute_result"
    }
   ],
   "source": [
    "x[0,0]"
   ]
  },
  {
   "cell_type": "code",
   "execution_count": 29,
   "metadata": {},
   "outputs": [
    {
     "data": {
      "text/plain": [
       "0.031384510609362044"
      ]
     },
     "execution_count": 29,
     "metadata": {},
     "output_type": "execute_result"
    }
   ],
   "source": [
    "k_x[1]"
   ]
  },
  {
   "cell_type": "code",
   "execution_count": 82,
   "metadata": {},
   "outputs": [
    {
     "name": "stderr",
     "output_type": "stream",
     "text": [
      "C:\\Users\\lukep\\AppData\\Local\\Continuum\\anaconda3\\lib\\site-packages\\ipykernel_launcher.py:8: RuntimeWarning: divide by zero encountered in log10\n",
      "  \n"
     ]
    }
   ],
   "source": [
    "# perform the 2-D fast Fourier transform on the image data\n",
    "fourier = np.fft.fft2(func)\n",
    "# move the zero-frequency component to the center of the Fourier spectrum\n",
    "fourier = np.fft.fftshift(fourier)\n",
    "# compute the magnitudes (absolute values) of the complex numbers\n",
    "fourier = np.abs(fourier)\n",
    "# compute the common logarithm of each value to reduce the dynamic range\n",
    "fourier = np.log10(fourier)\n",
    "# find the minimum value that is a finite number\n",
    "lowest = np.nanmin(fourier[np.isfinite(fourier)])\n",
    "# find the maximum value that is a finite number\n",
    "highest = np.nanmax(fourier[np.isfinite(fourier)])\n",
    "# calculate the original contrast range\n",
    "original_range = highest - lowest\n",
    "# normalize the Fourier image data (\"stretch\" the contrast)\n",
    "norm_fourier = (fourier - lowest) / original_range * 255\n",
    "# convert the normalized data into an image"
   ]
  },
  {
   "cell_type": "code",
   "execution_count": 83,
   "metadata": {},
   "outputs": [
    {
     "data": {
      "text/plain": [
       "(<matplotlib.axes._subplots.AxesSubplot at 0x24e810447b8>,\n",
       " <matplotlib.image.AxesImage at 0x24e83851940>)"
      ]
     },
     "execution_count": 83,
     "metadata": {},
     "output_type": "execute_result"
    },
    {
     "data": {
      "image/png": "[encoded data removed]",
      "text/plain": [
       "<Figure size 432x288 with 1 Axes>"
      ]
     },
     "metadata": {},
     "output_type": "display_data"
    }
   ],
   "source": [
    "plt.subplot(122),plt.imshow(norm_fourier, cmap = 'gray')"
   ]
  },
  {
   "cell_type": "code",
   "execution_count": null,
   "metadata": {},
   "outputs": [],
   "source": []
  }
 ],
 "metadata": {
  "kernelspec": {
   "display_name": "Python 3",
   "language": "python",
   "name": "python3"
  },
  "language_info": {
   "codemirror_mode": {
    "name": "ipython",
    "version": 3
   },
   "file_extension": ".py",
   "mimetype": "text/x-python",
   "name": "python",
   "nbconvert_exporter": "python",
   "pygments_lexer": "ipython3",
   "version": "3.6.5"
  }
 },
 "nbformat": 4,
 "nbformat_minor": 2
}
