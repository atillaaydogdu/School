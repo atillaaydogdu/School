{
 "cells": [
  {
   "cell_type": "code",
   "execution_count": 20,
   "metadata": {},
   "outputs": [
    {
     "ename": "TypeError",
     "evalue": "Dimensions of C (20, 20) are incompatible with X (22) and/or Y (22); see help(pcolor)",
     "output_type": "error",
     "traceback": [
      "\u001b[1;31m---------------------------------------------------------------------------\u001b[0m",
      "\u001b[1;31mTypeError\u001b[0m                                 Traceback (most recent call last)",
      "\u001b[1;32m<ipython-input-20-03c43db3f658>\u001b[0m in \u001b[0;36m<module>\u001b[1;34m()\u001b[0m\n\u001b[0;32m      9\u001b[0m \u001b[0mfig\u001b[0m\u001b[1;33m,\u001b[0m \u001b[0max\u001b[0m \u001b[1;33m=\u001b[0m \u001b[0mplt\u001b[0m\u001b[1;33m.\u001b[0m\u001b[0msubplots\u001b[0m\u001b[1;33m(\u001b[0m\u001b[1;33m)\u001b[0m\u001b[1;33m\u001b[0m\u001b[0m\n\u001b[0;32m     10\u001b[0m \u001b[1;33m\u001b[0m\u001b[0m\n\u001b[1;32m---> 11\u001b[1;33m \u001b[0max\u001b[0m\u001b[1;33m.\u001b[0m\u001b[0mpcolor\u001b[0m\u001b[1;33m(\u001b[0m\u001b[0mticks\u001b[0m\u001b[1;33m,\u001b[0m \u001b[0mticks\u001b[0m\u001b[1;33m,\u001b[0m \u001b[0mim\u001b[0m\u001b[1;33m)\u001b[0m\u001b[1;33m\u001b[0m\u001b[0m\n\u001b[0m\u001b[0;32m     12\u001b[0m \u001b[1;31m#ax.set_yscale('log')\u001b[0m\u001b[1;33m\u001b[0m\u001b[1;33m\u001b[0m\u001b[0m\n\u001b[0;32m     13\u001b[0m \u001b[1;33m\u001b[0m\u001b[0m\n",
      "\u001b[1;32m~\\AppData\\Local\\Continuum\\anaconda3\\lib\\site-packages\\matplotlib\\__init__.py\u001b[0m in \u001b[0;36minner\u001b[1;34m(ax, *args, **kwargs)\u001b[0m\n\u001b[0;32m   1853\u001b[0m                         \u001b[1;34m\"the Matplotlib list!)\"\u001b[0m \u001b[1;33m%\u001b[0m \u001b[1;33m(\u001b[0m\u001b[0mlabel_namer\u001b[0m\u001b[1;33m,\u001b[0m \u001b[0mfunc\u001b[0m\u001b[1;33m.\u001b[0m\u001b[0m__name__\u001b[0m\u001b[1;33m)\u001b[0m\u001b[1;33m,\u001b[0m\u001b[1;33m\u001b[0m\u001b[0m\n\u001b[0;32m   1854\u001b[0m                         RuntimeWarning, stacklevel=2)\n\u001b[1;32m-> 1855\u001b[1;33m             \u001b[1;32mreturn\u001b[0m \u001b[0mfunc\u001b[0m\u001b[1;33m(\u001b[0m\u001b[0max\u001b[0m\u001b[1;33m,\u001b[0m \u001b[1;33m*\u001b[0m\u001b[0margs\u001b[0m\u001b[1;33m,\u001b[0m \u001b[1;33m**\u001b[0m\u001b[0mkwargs\u001b[0m\u001b[1;33m)\u001b[0m\u001b[1;33m\u001b[0m\u001b[0m\n\u001b[0m\u001b[0;32m   1856\u001b[0m \u001b[1;33m\u001b[0m\u001b[0m\n\u001b[0;32m   1857\u001b[0m         inner.__doc__ = _add_data_doc(inner.__doc__,\n",
      "\u001b[1;32m~\\AppData\\Local\\Continuum\\anaconda3\\lib\\site-packages\\matplotlib\\axes\\_axes.py\u001b[0m in \u001b[0;36mpcolor\u001b[1;34m(self, *args, **kwargs)\u001b[0m\n\u001b[0;32m   5730\u001b[0m         \u001b[0mvmax\u001b[0m \u001b[1;33m=\u001b[0m \u001b[0mkwargs\u001b[0m\u001b[1;33m.\u001b[0m\u001b[0mpop\u001b[0m\u001b[1;33m(\u001b[0m\u001b[1;34m'vmax'\u001b[0m\u001b[1;33m,\u001b[0m \u001b[1;32mNone\u001b[0m\u001b[1;33m)\u001b[0m\u001b[1;33m\u001b[0m\u001b[0m\n\u001b[0;32m   5731\u001b[0m \u001b[1;33m\u001b[0m\u001b[0m\n\u001b[1;32m-> 5732\u001b[1;33m         \u001b[0mX\u001b[0m\u001b[1;33m,\u001b[0m \u001b[0mY\u001b[0m\u001b[1;33m,\u001b[0m \u001b[0mC\u001b[0m \u001b[1;33m=\u001b[0m \u001b[0mself\u001b[0m\u001b[1;33m.\u001b[0m\u001b[0m_pcolorargs\u001b[0m\u001b[1;33m(\u001b[0m\u001b[1;34m'pcolor'\u001b[0m\u001b[1;33m,\u001b[0m \u001b[1;33m*\u001b[0m\u001b[0margs\u001b[0m\u001b[1;33m,\u001b[0m \u001b[0mallmatch\u001b[0m\u001b[1;33m=\u001b[0m\u001b[1;32mFalse\u001b[0m\u001b[1;33m)\u001b[0m\u001b[1;33m\u001b[0m\u001b[0m\n\u001b[0m\u001b[0;32m   5733\u001b[0m         \u001b[0mNy\u001b[0m\u001b[1;33m,\u001b[0m \u001b[0mNx\u001b[0m \u001b[1;33m=\u001b[0m \u001b[0mX\u001b[0m\u001b[1;33m.\u001b[0m\u001b[0mshape\u001b[0m\u001b[1;33m\u001b[0m\u001b[0m\n\u001b[0;32m   5734\u001b[0m \u001b[1;33m\u001b[0m\u001b[0m\n",
      "\u001b[1;32m~\\AppData\\Local\\Continuum\\anaconda3\\lib\\site-packages\\matplotlib\\axes\\_axes.py\u001b[0m in \u001b[0;36m_pcolorargs\u001b[1;34m(funcname, *args, **kw)\u001b[0m\n\u001b[0;32m   5574\u001b[0m                 raise TypeError('Dimensions of C %s are incompatible with'\n\u001b[0;32m   5575\u001b[0m                                 ' X (%d) and/or Y (%d); see help(%s)' % (\n\u001b[1;32m-> 5576\u001b[1;33m                                     C.shape, Nx, Ny, funcname))\n\u001b[0m\u001b[0;32m   5577\u001b[0m             \u001b[0mC\u001b[0m \u001b[1;33m=\u001b[0m \u001b[0mC\u001b[0m\u001b[1;33m[\u001b[0m\u001b[1;33m:\u001b[0m\u001b[0mNy\u001b[0m \u001b[1;33m-\u001b[0m \u001b[1;36m1\u001b[0m\u001b[1;33m,\u001b[0m \u001b[1;33m:\u001b[0m\u001b[0mNx\u001b[0m \u001b[1;33m-\u001b[0m \u001b[1;36m1\u001b[0m\u001b[1;33m]\u001b[0m\u001b[1;33m\u001b[0m\u001b[0m\n\u001b[0;32m   5578\u001b[0m         \u001b[0mC\u001b[0m \u001b[1;33m=\u001b[0m \u001b[0mcbook\u001b[0m\u001b[1;33m.\u001b[0m\u001b[0msafe_masked_invalid\u001b[0m\u001b[1;33m(\u001b[0m\u001b[0mC\u001b[0m\u001b[1;33m)\u001b[0m\u001b[1;33m\u001b[0m\u001b[0m\n",
      "\u001b[1;31mTypeError\u001b[0m: Dimensions of C (20, 20) are incompatible with X (22) and/or Y (22); see help(pcolor)"
     ]
    },
    {
     "data": {
      "image/png": "[encoded data removed]",
      "text/plain": [
       "<Figure size 432x288 with 1 Axes>"
      ]
     },
     "metadata": {},
     "output_type": "display_data"
    }
   ],
   "source": [
    "import numpy as np\n",
    "import matplotlib.pyplot as plt\n",
    "import matplotlib.image as mi\n",
    "\n",
    "im = np.random.rand(20, 20)\n",
    "\n",
    "ticks = np.linspace(0, 10, 22)\n",
    "\n",
    "fig, ax = plt.subplots()\n",
    "\n",
    "ax.pcolor(ticks, ticks, im)\n",
    "#ax.set_yscale('log')\n",
    "\n",
    "#ax.set_xlim([1, np.exp(10)])\n",
    "#ax.set_ylim([1, np.exp(10)])\n",
    "\n",
    "plt.show()"
   ]
  },
  {
   "cell_type": "code",
   "execution_count": 9,
   "metadata": {},
   "outputs": [
    {
     "data": {
      "text/plain": [
       "array([1.00000000e+00, 1.64872127e+00, 2.71828183e+00, 4.48168907e+00,\n",
       "       7.38905610e+00, 1.21824940e+01, 2.00855369e+01, 3.31154520e+01,\n",
       "       5.45981500e+01, 9.00171313e+01, 1.48413159e+02, 2.44691932e+02,\n",
       "       4.03428793e+02, 6.65141633e+02, 1.09663316e+03, 1.80804241e+03,\n",
       "       2.98095799e+03, 4.91476884e+03, 8.10308393e+03, 1.33597268e+04,\n",
       "       2.20264658e+04])"
      ]
     },
     "execution_count": 9,
     "metadata": {},
     "output_type": "execute_result"
    }
   ],
   "source": [
    "ticks"
   ]
  },
  {
   "cell_type": "code",
   "execution_count": 6,
   "metadata": {},
   "outputs": [
    {
     "data": {
      "text/plain": [
       "array([[0.20512653, 0.11838691, 0.19659865, 0.46085059, 0.59977733,\n",
       "        0.05981862, 0.40499916, 0.70341044, 0.19097961, 0.62122019,\n",
       "        0.46635912, 0.19296748, 0.19660699, 0.6880551 , 0.88629111,\n",
       "        0.62093581, 0.52105805, 0.48913077, 0.06840647, 0.19405353],\n",
       "       [0.95822275, 0.95377336, 0.30085854, 0.32157624, 0.58767727,\n",
       "        0.88473949, 0.12792697, 0.53331436, 0.4408428 , 0.53243614,\n",
       "        0.26709237, 0.77723956, 0.27998283, 0.26254806, 0.39739409,\n",
       "        0.3492933 , 0.86295143, 0.27415381, 0.76567202, 0.25800142],\n",
       "       [0.86862213, 0.63403615, 0.94106773, 0.56378056, 0.5056854 ,\n",
       "        0.79671517, 0.63967387, 0.12199152, 0.99390266, 0.56714065,\n",
       "        0.2516412 , 0.19431284, 0.95428668, 0.44121141, 0.25498651,\n",
       "        0.01645422, 0.07406446, 0.96543176, 0.93722116, 0.88552515],\n",
       "       [0.93544458, 0.62567245, 0.45269646, 0.67142698, 0.25745269,\n",
       "        0.84316517, 0.1482059 , 0.99425046, 0.98142381, 0.23492791,\n",
       "        0.74025366, 0.84452522, 0.50389105, 0.52889737, 0.04889182,\n",
       "        0.891382  , 0.94654866, 0.42186941, 0.81715671, 0.15911073],\n",
       "       [0.06232907, 0.96465949, 0.83581638, 0.45577412, 0.15108185,\n",
       "        0.99392215, 0.63404241, 0.32217402, 0.46991529, 0.16931735,\n",
       "        0.60079461, 0.47811764, 0.24366413, 0.46133697, 0.53251878,\n",
       "        0.33679821, 0.53538807, 0.18748401, 0.87977898, 0.78300892],\n",
       "       [0.54064979, 0.9864647 , 0.31487531, 0.21353433, 0.07414578,\n",
       "        0.36254688, 0.07392217, 0.83803999, 0.73101044, 0.4927239 ,\n",
       "        0.41012194, 0.98420663, 0.38017192, 0.47798439, 0.84021863,\n",
       "        0.08204804, 0.44599459, 0.80892214, 0.9787728 , 0.47907967],\n",
       "       [0.67325856, 0.55635375, 0.9872749 , 0.92319957, 0.05445557,\n",
       "        0.20803154, 0.52198305, 0.91516877, 0.77447653, 0.30907488,\n",
       "        0.04850068, 0.6204662 , 0.03299771, 0.99940734, 0.855724  ,\n",
       "        0.48200889, 0.87173752, 0.87982799, 0.4808656 , 0.96603128],\n",
       "       [0.78389019, 0.13440837, 0.4177839 , 0.19709779, 0.22480425,\n",
       "        0.98068303, 0.38095512, 0.13298032, 0.77643115, 0.93891381,\n",
       "        0.88250149, 0.01447021, 0.66891476, 0.94712965, 0.46836013,\n",
       "        0.57485043, 0.70696742, 0.53300577, 0.81177254, 0.42418011],\n",
       "       [0.5165349 , 0.33689256, 0.44576676, 0.04220349, 0.02810424,\n",
       "        0.29111984, 0.20346516, 0.08394493, 0.13606844, 0.95686394,\n",
       "        0.01829855, 0.13064533, 0.72968601, 0.06948603, 0.20756014,\n",
       "        0.21066822, 0.22636433, 0.53390473, 0.70450355, 0.45631236],\n",
       "       [0.02397667, 0.2367666 , 0.75283362, 0.81167008, 0.19802575,\n",
       "        0.24168671, 0.2913599 , 0.57967828, 0.40687975, 0.83911515,\n",
       "        0.78949921, 0.46689646, 0.07707191, 0.19159618, 0.23768644,\n",
       "        0.63101769, 0.61534697, 0.81757627, 0.56033506, 0.63382065],\n",
       "       [0.057473  , 0.23951061, 0.62679721, 0.03058109, 0.14104765,\n",
       "        0.42642998, 0.04427999, 0.34143045, 0.57979778, 0.97678205,\n",
       "        0.27615953, 0.36048195, 0.26754811, 0.96873476, 0.27017615,\n",
       "        0.16055226, 0.81363221, 0.54339252, 0.6799166 , 0.28868346],\n",
       "       [0.30808861, 0.8965776 , 0.96108946, 0.86792099, 0.874378  ,\n",
       "        0.34996474, 0.78570354, 0.6402436 , 0.0098022 , 0.48918164,\n",
       "        0.12152809, 0.87405281, 0.07369388, 0.72924509, 0.35444296,\n",
       "        0.9931306 , 0.08076128, 0.39184602, 0.96373363, 0.00410663],\n",
       "       [0.38793288, 0.9137203 , 0.95396582, 0.31748066, 0.56017935,\n",
       "        0.7202633 , 0.71832482, 0.19678156, 0.75791057, 0.33731896,\n",
       "        0.35823393, 0.93459496, 0.38486091, 0.40036785, 0.33466633,\n",
       "        0.81229193, 0.49776423, 0.79211121, 0.57547677, 0.09271002],\n",
       "       [0.90447931, 0.89834662, 0.01807393, 0.99648278, 0.44219828,\n",
       "        0.66767913, 0.68836167, 0.73019833, 0.26883432, 0.2334871 ,\n",
       "        0.10459741, 0.95937799, 0.90131106, 0.88894406, 0.09842745,\n",
       "        0.48591142, 0.90920889, 0.88731208, 0.34399318, 0.69083392],\n",
       "       [0.11487909, 0.04626652, 0.24803506, 0.82364018, 0.5177384 ,\n",
       "        0.38997388, 0.58431416, 0.08325575, 0.99251519, 0.45598672,\n",
       "        0.48716351, 0.61140406, 0.66603574, 0.73360112, 0.33593116,\n",
       "        0.31315284, 0.28772225, 0.78670032, 0.4529696 , 0.56429485],\n",
       "       [0.77547029, 0.41686296, 0.06142202, 0.13306263, 0.85861279,\n",
       "        0.56910166, 0.14576851, 0.93017526, 0.31592029, 0.23502484,\n",
       "        0.56753344, 0.28369497, 0.57374325, 0.58973495, 0.46494745,\n",
       "        0.84424543, 0.74046068, 0.11794461, 0.67188596, 0.86715018],\n",
       "       [0.52382323, 0.43805825, 0.12532911, 0.60326172, 0.31528582,\n",
       "        0.63776653, 0.56464589, 0.33541572, 0.63564591, 0.92871162,\n",
       "        0.04060564, 0.1102596 , 0.27374365, 0.00475683, 0.06479062,\n",
       "        0.55150162, 0.71714673, 0.76384925, 0.27863638, 0.08330589],\n",
       "       [0.17650785, 0.71456172, 0.53755401, 0.48080103, 0.8530102 ,\n",
       "        0.40896961, 0.83849373, 0.12547107, 0.15504771, 0.71273849,\n",
       "        0.91818473, 0.76646386, 0.36465701, 0.59739325, 0.18450723,\n",
       "        0.85081777, 0.88292953, 0.46703996, 0.09106819, 0.34164628],\n",
       "       [0.90970261, 0.49279687, 0.46079033, 0.42998501, 0.93640754,\n",
       "        0.75007065, 0.48225164, 0.68950694, 0.20979323, 0.74849523,\n",
       "        0.45364899, 0.67318477, 0.15765404, 0.56343402, 0.3990812 ,\n",
       "        0.86825497, 0.22508543, 0.33801678, 0.95876714, 0.29208009],\n",
       "       [0.11851404, 0.82573502, 0.64915597, 0.46373152, 0.69255932,\n",
       "        0.22587244, 0.67797339, 0.78212721, 0.3734694 , 0.68791972,\n",
       "        0.97972782, 0.97905713, 0.44071073, 0.78931034, 0.75089404,\n",
       "        0.48561512, 0.90294172, 0.03610623, 0.31128375, 0.52009964]])"
      ]
     },
     "execution_count": 6,
     "metadata": {},
     "output_type": "execute_result"
    }
   ],
   "source": [
    "im"
   ]
  },
  {
   "cell_type": "code",
   "execution_count": null,
   "metadata": {},
   "outputs": [],
   "source": []
  }
 ],
 "metadata": {
  "kernelspec": {
   "display_name": "Python 3",
   "language": "python",
   "name": "python3"
  },
  "language_info": {
   "codemirror_mode": {
    "name": "ipython",
    "version": 3
   },
   "file_extension": ".py",
   "mimetype": "text/x-python",
   "name": "python",
   "nbconvert_exporter": "python",
   "pygments_lexer": "ipython3",
   "version": "3.6.5"
  }
 },
 "nbformat": 4,
 "nbformat_minor": 2
}
